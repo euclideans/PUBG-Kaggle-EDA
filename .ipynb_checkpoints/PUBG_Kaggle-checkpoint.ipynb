{
 "cells": [
  {
   "cell_type": "code",
   "execution_count": 1,
   "metadata": {},
   "outputs": [],
   "source": [
    "import numpy as np\n",
    "import pandas as pd\n",
    "import matplotlib.pyplot as plt\n",
    "import seaborn as sns\n",
    "%matplotlib inline"
   ]
  },
  {
   "cell_type": "code",
   "execution_count": 2,
   "metadata": {},
   "outputs": [],
   "source": [
    "import datetime\n",
    "from scipy import stats\n",
    "from scipy.sparse import hstack, csr_matrix\n",
    "from sklearn.model_selection import train_test_split\n",
    "from collections import Counter\n",
    "from nltk.corpus import stopwords\n",
    "from nltk.util import ngrams\n",
    "from sklearn.feature_extraction.text import TfidfVectorizer\n",
    "from sklearn.preprocessing import StandardScaler"
   ]
  },
  {
   "cell_type": "code",
   "execution_count": 3,
   "metadata": {},
   "outputs": [
    {
     "data": {
      "text/html": [
       "<script>requirejs.config({paths: { 'plotly': ['https://cdn.plot.ly/plotly-latest.min']},});if(!window.Plotly) {{require(['plotly'],function(plotly) {window.Plotly=plotly;});}}</script>"
      ],
      "text/vnd.plotly.v1+html": [
       "<script>requirejs.config({paths: { 'plotly': ['https://cdn.plot.ly/plotly-latest.min']},});if(!window.Plotly) {{require(['plotly'],function(plotly) {window.Plotly=plotly;});}}</script>"
      ]
     },
     "metadata": {},
     "output_type": "display_data"
    }
   ],
   "source": [
    "import plotly.offline as py\n",
    "py.init_notebook_mode(connected=True)\n",
    "import plotly.graph_objs as go\n",
    "import plotly.tools as tls"
   ]
  },
  {
   "cell_type": "code",
   "execution_count": 4,
   "metadata": {},
   "outputs": [],
   "source": [
    "from sklearn import model_selection\n",
    "from sklearn.metrics import accuracy_score"
   ]
  },
  {
   "cell_type": "code",
   "execution_count": 5,
   "metadata": {},
   "outputs": [],
   "source": [
    "#import training data\n",
    "PG_train = pd.read_csv(\"train_V2.csv\")"
   ]
  },
  {
   "cell_type": "code",
   "execution_count": 6,
   "metadata": {},
   "outputs": [
    {
     "name": "stdout",
     "output_type": "stream",
     "text": [
      "There are 4446966 samples and 29 features in the training PUBG V2 dataset.\n"
     ]
    }
   ],
   "source": [
    "print(f'There are {PG_train.shape[0]} samples and {PG_train.shape[1]} features in the training PUBG V2 dataset.')"
   ]
  },
  {
   "cell_type": "code",
   "execution_count": 7,
   "metadata": {},
   "outputs": [
    {
     "data": {
      "text/html": [
       "<div>\n",
       "<style scoped>\n",
       "    .dataframe tbody tr th:only-of-type {\n",
       "        vertical-align: middle;\n",
       "    }\n",
       "\n",
       "    .dataframe tbody tr th {\n",
       "        vertical-align: top;\n",
       "    }\n",
       "\n",
       "    .dataframe thead th {\n",
       "        text-align: right;\n",
       "    }\n",
       "</style>\n",
       "<table border=\"1\" class=\"dataframe\">\n",
       "  <thead>\n",
       "    <tr style=\"text-align: right;\">\n",
       "      <th></th>\n",
       "      <th>Id</th>\n",
       "      <th>groupId</th>\n",
       "      <th>matchId</th>\n",
       "      <th>assists</th>\n",
       "      <th>boosts</th>\n",
       "      <th>damageDealt</th>\n",
       "      <th>DBNOs</th>\n",
       "      <th>headshotKills</th>\n",
       "      <th>heals</th>\n",
       "      <th>killPlace</th>\n",
       "      <th>killPoints</th>\n",
       "      <th>kills</th>\n",
       "      <th>killStreaks</th>\n",
       "      <th>longestKill</th>\n",
       "      <th>matchDuration</th>\n",
       "      <th>matchType</th>\n",
       "      <th>maxPlace</th>\n",
       "      <th>numGroups</th>\n",
       "      <th>rankPoints</th>\n",
       "      <th>revives</th>\n",
       "      <th>rideDistance</th>\n",
       "      <th>roadKills</th>\n",
       "      <th>swimDistance</th>\n",
       "      <th>teamKills</th>\n",
       "      <th>vehicleDestroys</th>\n",
       "      <th>walkDistance</th>\n",
       "      <th>weaponsAcquired</th>\n",
       "      <th>winPoints</th>\n",
       "      <th>winPlacePerc</th>\n",
       "    </tr>\n",
       "  </thead>\n",
       "  <tbody>\n",
       "    <tr>\n",
       "      <th>0</th>\n",
       "      <td>7f96b2f878858a</td>\n",
       "      <td>4d4b580de459be</td>\n",
       "      <td>a10357fd1a4a91</td>\n",
       "      <td>0</td>\n",
       "      <td>0</td>\n",
       "      <td>0.00</td>\n",
       "      <td>0</td>\n",
       "      <td>0</td>\n",
       "      <td>0</td>\n",
       "      <td>60</td>\n",
       "      <td>1241</td>\n",
       "      <td>0</td>\n",
       "      <td>0</td>\n",
       "      <td>0.00</td>\n",
       "      <td>1306</td>\n",
       "      <td>squad-fpp</td>\n",
       "      <td>28</td>\n",
       "      <td>26</td>\n",
       "      <td>-1</td>\n",
       "      <td>0</td>\n",
       "      <td>0.0000</td>\n",
       "      <td>0</td>\n",
       "      <td>0.00</td>\n",
       "      <td>0</td>\n",
       "      <td>0</td>\n",
       "      <td>244.80</td>\n",
       "      <td>1</td>\n",
       "      <td>1466</td>\n",
       "      <td>0.4444</td>\n",
       "    </tr>\n",
       "    <tr>\n",
       "      <th>1</th>\n",
       "      <td>eef90569b9d03c</td>\n",
       "      <td>684d5656442f9e</td>\n",
       "      <td>aeb375fc57110c</td>\n",
       "      <td>0</td>\n",
       "      <td>0</td>\n",
       "      <td>91.47</td>\n",
       "      <td>0</td>\n",
       "      <td>0</td>\n",
       "      <td>0</td>\n",
       "      <td>57</td>\n",
       "      <td>0</td>\n",
       "      <td>0</td>\n",
       "      <td>0</td>\n",
       "      <td>0.00</td>\n",
       "      <td>1777</td>\n",
       "      <td>squad-fpp</td>\n",
       "      <td>26</td>\n",
       "      <td>25</td>\n",
       "      <td>1484</td>\n",
       "      <td>0</td>\n",
       "      <td>0.0045</td>\n",
       "      <td>0</td>\n",
       "      <td>11.04</td>\n",
       "      <td>0</td>\n",
       "      <td>0</td>\n",
       "      <td>1434.00</td>\n",
       "      <td>5</td>\n",
       "      <td>0</td>\n",
       "      <td>0.6400</td>\n",
       "    </tr>\n",
       "    <tr>\n",
       "      <th>2</th>\n",
       "      <td>1eaf90ac73de72</td>\n",
       "      <td>6a4a42c3245a74</td>\n",
       "      <td>110163d8bb94ae</td>\n",
       "      <td>1</td>\n",
       "      <td>0</td>\n",
       "      <td>68.00</td>\n",
       "      <td>0</td>\n",
       "      <td>0</td>\n",
       "      <td>0</td>\n",
       "      <td>47</td>\n",
       "      <td>0</td>\n",
       "      <td>0</td>\n",
       "      <td>0</td>\n",
       "      <td>0.00</td>\n",
       "      <td>1318</td>\n",
       "      <td>duo</td>\n",
       "      <td>50</td>\n",
       "      <td>47</td>\n",
       "      <td>1491</td>\n",
       "      <td>0</td>\n",
       "      <td>0.0000</td>\n",
       "      <td>0</td>\n",
       "      <td>0.00</td>\n",
       "      <td>0</td>\n",
       "      <td>0</td>\n",
       "      <td>161.80</td>\n",
       "      <td>2</td>\n",
       "      <td>0</td>\n",
       "      <td>0.7755</td>\n",
       "    </tr>\n",
       "    <tr>\n",
       "      <th>3</th>\n",
       "      <td>4616d365dd2853</td>\n",
       "      <td>a930a9c79cd721</td>\n",
       "      <td>f1f1f4ef412d7e</td>\n",
       "      <td>0</td>\n",
       "      <td>0</td>\n",
       "      <td>32.90</td>\n",
       "      <td>0</td>\n",
       "      <td>0</td>\n",
       "      <td>0</td>\n",
       "      <td>75</td>\n",
       "      <td>0</td>\n",
       "      <td>0</td>\n",
       "      <td>0</td>\n",
       "      <td>0.00</td>\n",
       "      <td>1436</td>\n",
       "      <td>squad-fpp</td>\n",
       "      <td>31</td>\n",
       "      <td>30</td>\n",
       "      <td>1408</td>\n",
       "      <td>0</td>\n",
       "      <td>0.0000</td>\n",
       "      <td>0</td>\n",
       "      <td>0.00</td>\n",
       "      <td>0</td>\n",
       "      <td>0</td>\n",
       "      <td>202.70</td>\n",
       "      <td>3</td>\n",
       "      <td>0</td>\n",
       "      <td>0.1667</td>\n",
       "    </tr>\n",
       "    <tr>\n",
       "      <th>4</th>\n",
       "      <td>315c96c26c9aac</td>\n",
       "      <td>de04010b3458dd</td>\n",
       "      <td>6dc8ff871e21e6</td>\n",
       "      <td>0</td>\n",
       "      <td>0</td>\n",
       "      <td>100.00</td>\n",
       "      <td>0</td>\n",
       "      <td>0</td>\n",
       "      <td>0</td>\n",
       "      <td>45</td>\n",
       "      <td>0</td>\n",
       "      <td>1</td>\n",
       "      <td>1</td>\n",
       "      <td>58.53</td>\n",
       "      <td>1424</td>\n",
       "      <td>solo-fpp</td>\n",
       "      <td>97</td>\n",
       "      <td>95</td>\n",
       "      <td>1560</td>\n",
       "      <td>0</td>\n",
       "      <td>0.0000</td>\n",
       "      <td>0</td>\n",
       "      <td>0.00</td>\n",
       "      <td>0</td>\n",
       "      <td>0</td>\n",
       "      <td>49.75</td>\n",
       "      <td>2</td>\n",
       "      <td>0</td>\n",
       "      <td>0.1875</td>\n",
       "    </tr>\n",
       "  </tbody>\n",
       "</table>\n",
       "</div>"
      ],
      "text/plain": [
       "               Id         groupId         matchId  assists  boosts  \\\n",
       "0  7f96b2f878858a  4d4b580de459be  a10357fd1a4a91        0       0   \n",
       "1  eef90569b9d03c  684d5656442f9e  aeb375fc57110c        0       0   \n",
       "2  1eaf90ac73de72  6a4a42c3245a74  110163d8bb94ae        1       0   \n",
       "3  4616d365dd2853  a930a9c79cd721  f1f1f4ef412d7e        0       0   \n",
       "4  315c96c26c9aac  de04010b3458dd  6dc8ff871e21e6        0       0   \n",
       "\n",
       "   damageDealt  DBNOs  headshotKills  heals  killPlace  killPoints  kills  \\\n",
       "0         0.00      0              0      0         60        1241      0   \n",
       "1        91.47      0              0      0         57           0      0   \n",
       "2        68.00      0              0      0         47           0      0   \n",
       "3        32.90      0              0      0         75           0      0   \n",
       "4       100.00      0              0      0         45           0      1   \n",
       "\n",
       "   killStreaks  longestKill  matchDuration  matchType  maxPlace  numGroups  \\\n",
       "0            0         0.00           1306  squad-fpp        28         26   \n",
       "1            0         0.00           1777  squad-fpp        26         25   \n",
       "2            0         0.00           1318        duo        50         47   \n",
       "3            0         0.00           1436  squad-fpp        31         30   \n",
       "4            1        58.53           1424   solo-fpp        97         95   \n",
       "\n",
       "   rankPoints  revives  rideDistance  roadKills  swimDistance  teamKills  \\\n",
       "0          -1        0        0.0000          0          0.00          0   \n",
       "1        1484        0        0.0045          0         11.04          0   \n",
       "2        1491        0        0.0000          0          0.00          0   \n",
       "3        1408        0        0.0000          0          0.00          0   \n",
       "4        1560        0        0.0000          0          0.00          0   \n",
       "\n",
       "   vehicleDestroys  walkDistance  weaponsAcquired  winPoints  winPlacePerc  \n",
       "0                0        244.80                1       1466        0.4444  \n",
       "1                0       1434.00                5          0        0.6400  \n",
       "2                0        161.80                2          0        0.7755  \n",
       "3                0        202.70                3          0        0.1667  \n",
       "4                0         49.75                2          0        0.1875  "
      ]
     },
     "execution_count": 7,
     "metadata": {},
     "output_type": "execute_result"
    }
   ],
   "source": [
    "pd.set_option('display.max_columns', None)\n",
    "PG_train.head()"
   ]
  },
  {
   "cell_type": "code",
   "execution_count": 41,
   "metadata": {},
   "outputs": [
    {
     "name": "stdout",
     "output_type": "stream",
     "text": [
      "<class 'pandas.core.frame.DataFrame'>\n",
      "RangeIndex: 4446966 entries, 0 to 4446965\n",
      "Data columns (total 29 columns):\n",
      "Id                 object\n",
      "groupId            object\n",
      "matchId            object\n",
      "assists            int64\n",
      "boosts             int64\n",
      "damageDealt        float64\n",
      "DBNOs              int64\n",
      "headshotKills      int64\n",
      "heals              int64\n",
      "killPlace          int64\n",
      "killPoints         int64\n",
      "kills              int64\n",
      "killStreaks        int64\n",
      "longestKill        float64\n",
      "matchDuration      int64\n",
      "matchType          object\n",
      "maxPlace           int64\n",
      "numGroups          int64\n",
      "rankPoints         int64\n",
      "revives            int64\n",
      "rideDistance       float64\n",
      "roadKills          int64\n",
      "swimDistance       float64\n",
      "teamKills          int64\n",
      "vehicleDestroys    int64\n",
      "walkDistance       float64\n",
      "weaponsAcquired    int64\n",
      "winPoints          int64\n",
      "winPlacePerc       float64\n",
      "dtypes: float64(6), int64(19), object(4)\n",
      "memory usage: 983.9+ MB\n"
     ]
    }
   ],
   "source": [
    "PG_train.info()"
   ]
  },
  {
   "cell_type": "code",
   "execution_count": 8,
   "metadata": {},
   "outputs": [
    {
     "data": {
      "application/vnd.plotly.v1+json": {
       "data": [
        {
         "name": "c578e4d0dbc98b",
         "showlegend": false,
         "type": "scatter",
         "uid": "a4c4a230-e07b-11e8-ac3d-0088653b14b4",
         "x": [
          0
         ],
         "y": [
          28
         ]
        },
        {
         "name": "0b57bf9f8c593b",
         "showlegend": false,
         "type": "scatter",
         "uid": "a4caef46-e07b-11e8-8a2c-0088653b14b4",
         "x": [
          28.38
         ],
         "y": [
          28
         ]
        },
        {
         "name": "fc71536a17b2e2",
         "showlegend": false,
         "type": "scatter",
         "uid": "a4cb029c-e07b-11e8-9c4b-0088653b14b4",
         "x": [
          157.2
         ],
         "y": [
          48
         ]
        },
        {
         "name": "7ee673d4f9d977",
         "showlegend": false,
         "type": "scatter",
         "uid": "a4cb0490-e07b-11e8-bf4a-0088653b14b4",
         "x": [
          251.5
         ],
         "y": [
          26
         ]
        },
        {
         "name": "0a9f5227314bbb",
         "showlegend": false,
         "type": "scatter",
         "uid": "a4cb067a-e07b-11e8-a741-0088653b14b4",
         "x": [
          0
         ],
         "y": [
          28
         ]
        },
        {
         "name": "df7aefcd8a75e3",
         "showlegend": false,
         "type": "scatter",
         "uid": "a4cb0834-e07b-11e8-a389-0088653b14b4",
         "x": [
          98.53
         ],
         "y": [
          29
         ]
        },
        {
         "name": "e7f625f277bc52",
         "showlegend": false,
         "type": "scatter",
         "uid": "a4cb09e2-e07b-11e8-9809-0088653b14b4",
         "x": [
          0
         ],
         "y": [
          45
         ]
        },
        {
         "name": "ba65a95ab6d515",
         "showlegend": false,
         "type": "scatter",
         "uid": "a4cb0bca-e07b-11e8-b22f-0088653b14b4",
         "x": [
          139.3
         ],
         "y": [
          49
         ]
        },
        {
         "name": "17cebdc60befd7",
         "showlegend": false,
         "type": "scatter",
         "uid": "a4cb0d8c-e07b-11e8-8f97-0088653b14b4",
         "x": [
          210.4
         ],
         "y": [
          27
         ]
        },
        {
         "name": "fbf7ad5f302bdc",
         "showlegend": false,
         "type": "scatter",
         "uid": "a4cb0f30-e07b-11e8-a72c-0088653b14b4",
         "x": [
          21.85
         ],
         "y": [
          96
         ]
        },
        {
         "name": "c5029a9370d6eb",
         "showlegend": false,
         "type": "scatter",
         "uid": "a4cb10fa-e07b-11e8-9b2a-0088653b14b4",
         "x": [
          47.97
         ],
         "y": [
          27
         ]
        },
        {
         "name": "ddf94bb108a308",
         "showlegend": false,
         "type": "scatter",
         "uid": "a4cb12a8-e07b-11e8-a047-0088653b14b4",
         "x": [
          0
         ],
         "y": [
          87
         ]
        },
        {
         "name": "5c1bc6783f3927",
         "showlegend": false,
         "type": "scatter",
         "uid": "a4cb1458-e07b-11e8-95ed-0088653b14b4",
         "x": [
          264.5
         ],
         "y": [
          48
         ]
        },
        {
         "name": "7c225a0a108370",
         "showlegend": false,
         "type": "scatter",
         "uid": "a4cb162e-e07b-11e8-bbe1-0088653b14b4",
         "x": [
          71.54
         ],
         "y": [
          31
         ]
        },
        {
         "name": "c6353a77e1c78f",
         "showlegend": false,
         "type": "scatter",
         "uid": "a4cb17f0-e07b-11e8-8223-0088653b14b4",
         "x": [
          169.5
         ],
         "y": [
          47
         ]
        },
        {
         "name": "fa3e39d8a91f81",
         "showlegend": false,
         "type": "scatter",
         "uid": "a4cb198a-e07b-11e8-9b9a-0088653b14b4",
         "x": [
          177.2
         ],
         "y": [
          97
         ]
        },
        {
         "name": "50a6b80babf569",
         "showlegend": false,
         "type": "scatter",
         "uid": "a4cb1b58-e07b-11e8-a935-0088653b14b4",
         "x": [
          326.2
         ],
         "y": [
          26
         ]
        },
        {
         "name": "93d47a15d4805e",
         "showlegend": false,
         "type": "scatter",
         "uid": "a4cb1d18-e07b-11e8-b1bd-0088653b14b4",
         "x": [
          207.6
         ],
         "y": [
          97
         ]
        },
        {
         "name": "f2d96351620cbb",
         "showlegend": false,
         "type": "scatter",
         "uid": "a4cb1ec6-e07b-11e8-bc65-0088653b14b4",
         "x": [
          0
         ],
         "y": [
          45
         ]
        },
        {
         "name": "9b78bca20825de",
         "showlegend": false,
         "type": "scatter",
         "uid": "a4cb209c-e07b-11e8-832e-0088653b14b4",
         "x": [
          115
         ],
         "y": [
          26
         ]
        },
        {
         "name": "394a8a49652bbf",
         "showlegend": false,
         "type": "scatter",
         "uid": "a4cb2240-e07b-11e8-9441-0088653b14b4",
         "x": [
          74.07
         ],
         "y": [
          28
         ]
        },
        {
         "name": "07bc8e49c7745c",
         "showlegend": false,
         "type": "scatter",
         "uid": "a4cb23ee-e07b-11e8-b76d-0088653b14b4",
         "x": [
          254.4
         ],
         "y": [
          28
         ]
        },
        {
         "name": "15b06a1c894b01",
         "showlegend": false,
         "type": "scatter",
         "uid": "a4cb25cc-e07b-11e8-a22f-0088653b14b4",
         "x": [
          219.3
         ],
         "y": [
          28
         ]
        },
        {
         "name": "f496fe4be805d7",
         "showlegend": false,
         "type": "scatter",
         "uid": "a4cb27c2-e07b-11e8-a162-0088653b14b4",
         "x": [
          137.7
         ],
         "y": [
          45
         ]
        },
        {
         "name": "e0e84287c7b08b",
         "showlegend": false,
         "type": "scatter",
         "uid": "a4cb2934-e07b-11e8-b0de-0088653b14b4",
         "x": [
          631.5
         ],
         "y": [
          30
         ]
        },
        {
         "name": "fbcee201be5be4",
         "showlegend": false,
         "type": "scatter",
         "uid": "a4cb2af6-e07b-11e8-8578-0088653b14b4",
         "x": [
          311.9
         ],
         "y": [
          27
         ]
        },
        {
         "name": "73442274e99faf",
         "showlegend": false,
         "type": "scatter",
         "uid": "a4cb2c9a-e07b-11e8-8fb3-0088653b14b4",
         "x": [
          12.3
         ],
         "y": [
          30
         ]
        },
        {
         "name": "24d686e6078da6",
         "showlegend": false,
         "type": "scatter",
         "uid": "a4cb2e1e-e07b-11e8-9e86-0088653b14b4",
         "x": [
          0
         ],
         "y": [
          46
         ]
        },
        {
         "name": "b48987e6ac2e34",
         "showlegend": false,
         "type": "scatter",
         "uid": "a4cb2fd8-e07b-11e8-8bbe-0088653b14b4",
         "x": [
          0
         ],
         "y": [
          31
         ]
        },
        {
         "name": "5ead29203ea643",
         "showlegend": false,
         "type": "scatter",
         "uid": "a4cb3154-e07b-11e8-b6cb-0088653b14b4",
         "x": [
          0
         ],
         "y": [
          28
         ]
        },
        {
         "name": "ef82c38fb03f5f",
         "showlegend": false,
         "type": "scatter",
         "uid": "a4cb32da-e07b-11e8-84d2-0088653b14b4",
         "x": [
          0
         ],
         "y": [
          96
         ]
        },
        {
         "name": "3fdd98b2d11f60",
         "showlegend": false,
         "type": "scatter",
         "uid": "a4cb347e-e07b-11e8-bbdb-0088653b14b4",
         "x": [
          0
         ],
         "y": [
          49
         ]
        },
        {
         "name": "f338d5784d7e3f",
         "showlegend": false,
         "type": "scatter",
         "uid": "a4cb360c-e07b-11e8-ba4b-0088653b14b4",
         "x": [
          129.8
         ],
         "y": [
          25
         ]
        },
        {
         "name": "422ca7180615a0",
         "showlegend": false,
         "type": "scatter",
         "uid": "a4cb37b4-e07b-11e8-ba86-0088653b14b4",
         "x": [
          51.6
         ],
         "y": [
          98
         ]
        },
        {
         "name": "79e2914938b07d",
         "showlegend": false,
         "type": "scatter",
         "uid": "a4cb392e-e07b-11e8-a191-0088653b14b4",
         "x": [
          0
         ],
         "y": [
          91
         ]
        },
        {
         "name": "e2470869df64a7",
         "showlegend": false,
         "type": "scatter",
         "uid": "a4cb3ab4-e07b-11e8-8d72-0088653b14b4",
         "x": [
          148.5
         ],
         "y": [
          26
         ]
        },
        {
         "name": "8d60d987ad963b",
         "showlegend": false,
         "type": "scatter",
         "uid": "a4cb3c58-e07b-11e8-9af7-0088653b14b4",
         "x": [
          62.87
         ],
         "y": [
          28
         ]
        },
        {
         "name": "b63897bde4eaff",
         "showlegend": false,
         "type": "scatter",
         "uid": "a4cb3de8-e07b-11e8-9dc3-0088653b14b4",
         "x": [
          186.1
         ],
         "y": [
          25
         ]
        },
        {
         "name": "b0f564470b50bc",
         "showlegend": false,
         "type": "scatter",
         "uid": "a4cb3fa8-e07b-11e8-b85b-0088653b14b4",
         "x": [
          10.62
         ],
         "y": [
          95
         ]
        },
        {
         "name": "fe51a82713a67b",
         "showlegend": false,
         "type": "scatter",
         "uid": "a4cb4162-e07b-11e8-be4a-0088653b14b4",
         "x": [
          0
         ],
         "y": [
          28
         ]
        },
        {
         "name": "a5b570ddacc54c",
         "showlegend": false,
         "type": "scatter",
         "uid": "a4cb42de-e07b-11e8-946e-0088653b14b4",
         "x": [
          300
         ],
         "y": [
          28
         ]
        },
        {
         "name": "90937dd595ef2a",
         "showlegend": false,
         "type": "scatter",
         "uid": "a4cb446e-e07b-11e8-9345-0088653b14b4",
         "x": [
          28.1
         ],
         "y": [
          47
         ]
        },
        {
         "name": "87e799b1812f76",
         "showlegend": false,
         "type": "scatter",
         "uid": "a4cb4612-e07b-11e8-a9b9-0088653b14b4",
         "x": [
          90.3
         ],
         "y": [
          26
         ]
        },
        {
         "name": "188391c8933122",
         "showlegend": false,
         "type": "scatter",
         "uid": "a4cb47ac-e07b-11e8-8e6f-0088653b14b4",
         "x": [
          0
         ],
         "y": [
          94
         ]
        },
        {
         "name": "7f4e66ff52db77",
         "showlegend": false,
         "type": "scatter",
         "uid": "a4cb4928-e07b-11e8-bc58-0088653b14b4",
         "x": [
          0
         ],
         "y": [
          96
         ]
        },
        {
         "name": "8c7cffac451deb",
         "showlegend": false,
         "type": "scatter",
         "uid": "a4cb4acc-e07b-11e8-b063-0088653b14b4",
         "x": [
          200
         ],
         "y": [
          44
         ]
        },
        {
         "name": "d7563e52a1f386",
         "showlegend": false,
         "type": "scatter",
         "uid": "a4cb4c52-e07b-11e8-b675-0088653b14b4",
         "x": [
          397.6
         ],
         "y": [
          45
         ]
        },
        {
         "name": "ce3d9c1de1a87e",
         "showlegend": false,
         "type": "scatter",
         "uid": "a4cb4de2-e07b-11e8-879c-0088653b14b4",
         "x": [
          0
         ],
         "y": [
          28
         ]
        },
        {
         "name": "afda8feca04717",
         "showlegend": false,
         "type": "scatter",
         "uid": "a4cb4fe2-e07b-11e8-8dc1-0088653b14b4",
         "x": [
          195.6
         ],
         "y": [
          27
         ]
        },
        {
         "name": "a6b9ca48b6f35c",
         "showlegend": false,
         "type": "scatter",
         "uid": "a4cb51ca-e07b-11e8-8405-0088653b14b4",
         "x": [
          92.76
         ],
         "y": [
          29
         ]
        },
        {
         "name": "201566c183567c",
         "showlegend": false,
         "type": "scatter",
         "uid": "a4cb535a-e07b-11e8-a5bc-0088653b14b4",
         "x": [
          127.1
         ],
         "y": [
          29
         ]
        },
        {
         "name": "8d0ccc07bff6e7",
         "showlegend": false,
         "type": "scatter",
         "uid": "a4cb5512-e07b-11e8-a81c-0088653b14b4",
         "x": [
          148.5
         ],
         "y": [
          49
         ]
        },
        {
         "name": "eb5d675eeb67d5",
         "showlegend": false,
         "type": "scatter",
         "uid": "a4cb56ac-e07b-11e8-9494-0088653b14b4",
         "x": [
          69.46
         ],
         "y": [
          50
         ]
        },
        {
         "name": "aed42507cec188",
         "showlegend": false,
         "type": "scatter",
         "uid": "a4cb581e-e07b-11e8-a81f-0088653b14b4",
         "x": [
          156.1
         ],
         "y": [
          30
         ]
        },
        {
         "name": "96ea9b5964ac0f",
         "showlegend": false,
         "type": "scatter",
         "uid": "a4cb59ae-e07b-11e8-ab5f-0088653b14b4",
         "x": [
          0
         ],
         "y": [
          27
         ]
        },
        {
         "name": "52e2831ea7d8df",
         "showlegend": false,
         "type": "scatter",
         "uid": "a4cb5b34-e07b-11e8-8cca-0088653b14b4",
         "x": [
          0
         ],
         "y": [
          22
         ]
        },
        {
         "name": "4efaf49814a1b5",
         "showlegend": false,
         "type": "scatter",
         "uid": "a4cb5cc6-e07b-11e8-9954-0088653b14b4",
         "x": [
          28.2
         ],
         "y": [
          29
         ]
        },
        {
         "name": "366584a8e7f6c2",
         "showlegend": false,
         "type": "scatter",
         "uid": "a4cb5e68-e07b-11e8-b147-0088653b14b4",
         "x": [
          0
         ],
         "y": [
          28
         ]
        },
        {
         "name": "0a0ac6bb57bcbe",
         "showlegend": false,
         "type": "scatter",
         "uid": "a4cb5fe4-e07b-11e8-aa17-0088653b14b4",
         "x": [
          0
         ],
         "y": [
          48
         ]
        },
        {
         "name": "a43f6f6ab92f53",
         "showlegend": false,
         "type": "scatter",
         "uid": "a4cb6162-e07b-11e8-9614-0088653b14b4",
         "x": [
          388.2
         ],
         "y": [
          30
         ]
        },
        {
         "name": "79a8da3ffa6fb3",
         "showlegend": false,
         "type": "scatter",
         "uid": "a4cb62fa-e07b-11e8-ae23-0088653b14b4",
         "x": [
          620.7
         ],
         "y": [
          28
         ]
        },
        {
         "name": "aef5b9988568c0",
         "showlegend": false,
         "type": "scatter",
         "uid": "a4cb648a-e07b-11e8-8d78-0088653b14b4",
         "x": [
          219.4
         ],
         "y": [
          26
         ]
        },
        {
         "name": "70d1ced81b4065",
         "showlegend": false,
         "type": "scatter",
         "uid": "a4cb661a-e07b-11e8-bd1a-0088653b14b4",
         "x": [
          97.52
         ],
         "y": [
          16
         ]
        },
        {
         "name": "06a150a5c5f03c",
         "showlegend": false,
         "type": "scatter",
         "uid": "a4cb67be-e07b-11e8-b22b-0088653b14b4",
         "x": [
          653.6
         ],
         "y": [
          28
         ]
        },
        {
         "name": "316ec5fbde673e",
         "showlegend": false,
         "type": "scatter",
         "uid": "a4cb6958-e07b-11e8-a92c-0088653b14b4",
         "x": [
          233.3
         ],
         "y": [
          26
         ]
        },
        {
         "name": "51b9cb5c29ca8f",
         "showlegend": false,
         "type": "scatter",
         "uid": "a4cb6ade-e07b-11e8-9f27-0088653b14b4",
         "x": [
          219.9
         ],
         "y": [
          96
         ]
        },
        {
         "name": "f55c0800fc5204",
         "showlegend": false,
         "type": "scatter",
         "uid": "a4cb6d2c-e07b-11e8-8f40-0088653b14b4",
         "x": [
          0
         ],
         "y": [
          96
         ]
        },
        {
         "name": "93ba4aded4a2cf",
         "showlegend": false,
         "type": "scatter",
         "uid": "a4cb71be-e07b-11e8-8697-0088653b14b4",
         "x": [
          46.21
         ],
         "y": [
          28
         ]
        },
        {
         "name": "2f09f45ec5f4df",
         "showlegend": false,
         "type": "scatter",
         "uid": "a4cb740c-e07b-11e8-a459-0088653b14b4",
         "x": [
          155.1
         ],
         "y": [
          31
         ]
        },
        {
         "name": "85f1f8a4ae7c97",
         "showlegend": false,
         "type": "scatter",
         "uid": "a4cb770c-e07b-11e8-8a8b-0088653b14b4",
         "x": [
          100.8
         ],
         "y": [
          47
         ]
        },
        {
         "name": "514033b9b53e7f",
         "showlegend": false,
         "type": "scatter",
         "uid": "a4cb79f4-e07b-11e8-94e6-0088653b14b4",
         "x": [
          0
         ],
         "y": [
          50
         ]
        },
        {
         "name": "4d1a7d20778d7e",
         "showlegend": false,
         "type": "scatter",
         "uid": "a4cb7c22-e07b-11e8-8bd0-0088653b14b4",
         "x": [
          51.23
         ],
         "y": [
          49
         ]
        },
        {
         "name": "7759652a5a8417",
         "showlegend": false,
         "type": "scatter",
         "uid": "a4cb7dd0-e07b-11e8-9ed1-0088653b14b4",
         "x": [
          84.06
         ],
         "y": [
          98
         ]
        },
        {
         "name": "fd8f1612d0b036",
         "showlegend": false,
         "type": "scatter",
         "uid": "a4cb7f4c-e07b-11e8-8959-0088653b14b4",
         "x": [
          0
         ],
         "y": [
          28
         ]
        },
        {
         "name": "f5515a782a2478",
         "showlegend": false,
         "type": "scatter",
         "uid": "a4cb80c8-e07b-11e8-8c55-0088653b14b4",
         "x": [
          130.1
         ],
         "y": [
          28
         ]
        },
        {
         "name": "90b4887a39c8aa",
         "showlegend": false,
         "type": "scatter",
         "uid": "a4cb8280-e07b-11e8-a8c0-0088653b14b4",
         "x": [
          0
         ],
         "y": [
          94
         ]
        },
        {
         "name": "fdcb42db5146fb",
         "showlegend": false,
         "type": "scatter",
         "uid": "a4cb8410-e07b-11e8-b3e8-0088653b14b4",
         "x": [
          0
         ],
         "y": [
          94
         ]
        },
        {
         "name": "88e6b0fcdcf137",
         "showlegend": false,
         "type": "scatter",
         "uid": "a4cb85a8-e07b-11e8-a964-0088653b14b4",
         "x": [
          186.6
         ],
         "y": [
          100
         ]
        },
        {
         "name": "c4b8164ef5d8ee",
         "showlegend": false,
         "type": "scatter",
         "uid": "a4cb874c-e07b-11e8-b26b-0088653b14b4",
         "x": [
          136
         ],
         "y": [
          28
         ]
        },
        {
         "name": "8b4abd673de9e2",
         "showlegend": false,
         "type": "scatter",
         "uid": "a4cb88e8-e07b-11e8-8786-0088653b14b4",
         "x": [
          0
         ],
         "y": [
          28
         ]
        },
        {
         "name": "634b6e1b20dc8e",
         "showlegend": false,
         "type": "scatter",
         "uid": "a4cb8a6e-e07b-11e8-8af1-0088653b14b4",
         "x": [
          100
         ],
         "y": [
          96
         ]
        },
        {
         "name": "aa025cac8e4879",
         "showlegend": false,
         "type": "scatter",
         "uid": "a4cb8c62-e07b-11e8-9a20-0088653b14b4",
         "x": [
          323.4
         ],
         "y": [
          97
         ]
        },
        {
         "name": "662eda44cabdcb",
         "showlegend": false,
         "type": "scatter",
         "uid": "a4cb8df4-e07b-11e8-a653-0088653b14b4",
         "x": [
          75
         ],
         "y": [
          97
         ]
        },
        {
         "name": "1d27c1add7c542",
         "showlegend": false,
         "type": "scatter",
         "uid": "a4cb8f64-e07b-11e8-b33b-0088653b14b4",
         "x": [
          1127
         ],
         "y": [
          48
         ]
        },
        {
         "name": "a15a2a49009a8d",
         "showlegend": false,
         "type": "scatter",
         "uid": "a4cb9146-e07b-11e8-bcbf-0088653b14b4",
         "x": [
          100
         ],
         "y": [
          96
         ]
        },
        {
         "name": "191fafc85c5342",
         "showlegend": false,
         "type": "scatter",
         "uid": "a4cb92d4-e07b-11e8-878f-0088653b14b4",
         "x": [
          142.4
         ],
         "y": [
          30
         ]
        },
        {
         "name": "6eec22e503ff13",
         "showlegend": false,
         "type": "scatter",
         "uid": "a4cb9482-e07b-11e8-af96-0088653b14b4",
         "x": [
          446.7
         ],
         "y": [
          50
         ]
        },
        {
         "name": "8ad4061ccd8ac5",
         "showlegend": false,
         "type": "scatter",
         "uid": "a4cb9608-e07b-11e8-92ff-0088653b14b4",
         "x": [
          316.9
         ],
         "y": [
          27
         ]
        },
        {
         "name": "b1e409454574e8",
         "showlegend": false,
         "type": "scatter",
         "uid": "a4cb978c-e07b-11e8-9d53-0088653b14b4",
         "x": [
          200
         ],
         "y": [
          47
         ]
        },
        {
         "name": "41d52195d695dc",
         "showlegend": false,
         "type": "scatter",
         "uid": "a4cb9934-e07b-11e8-bd28-0088653b14b4",
         "x": [
          29.84
         ],
         "y": [
          29
         ]
        },
        {
         "name": "47b3b9511dfc84",
         "showlegend": false,
         "type": "scatter",
         "uid": "a4cb9ae2-e07b-11e8-8db8-0088653b14b4",
         "x": [
          114.7
         ],
         "y": [
          25
         ]
        },
        {
         "name": "09ce41b72bc67f",
         "showlegend": false,
         "type": "scatter",
         "uid": "a4cb9c70-e07b-11e8-95a0-0088653b14b4",
         "x": [
          27.48
         ],
         "y": [
          48
         ]
        },
        {
         "name": "ab0807deea9fa1",
         "showlegend": false,
         "type": "scatter",
         "uid": "a4cb9e0a-e07b-11e8-929b-0088653b14b4",
         "x": [
          0
         ],
         "y": [
          49
         ]
        },
        {
         "name": "1e9d0cc3331ad8",
         "showlegend": false,
         "type": "scatter",
         "uid": "a4cb9f9a-e07b-11e8-90c1-0088653b14b4",
         "x": [
          0
         ],
         "y": [
          27
         ]
        },
        {
         "name": "9b9c449760fb6c",
         "showlegend": false,
         "type": "scatter",
         "uid": "a4cba11e-e07b-11e8-b0a0-0088653b14b4",
         "x": [
          0
         ],
         "y": [
          86
         ]
        },
        {
         "name": "9e4605acacd0d7",
         "showlegend": false,
         "type": "scatter",
         "uid": "a4cba2cc-e07b-11e8-b2aa-0088653b14b4",
         "x": [
          0
         ],
         "y": [
          27
         ]
        },
        {
         "name": "55533dbe8ebfcc",
         "showlegend": false,
         "type": "scatter",
         "uid": "a4cba44a-e07b-11e8-998d-0088653b14b4",
         "x": [
          105.3
         ],
         "y": [
          29
         ]
        },
        {
         "name": "4ecc1d5d062125",
         "showlegend": false,
         "type": "scatter",
         "uid": "a4cba5c6-e07b-11e8-a051-0088653b14b4",
         "x": [
          100
         ],
         "y": [
          90
         ]
        },
        {
         "name": "3e59d94725b544",
         "showlegend": false,
         "type": "scatter",
         "uid": "a4cba774-e07b-11e8-b43a-0088653b14b4",
         "x": [
          321.8
         ],
         "y": [
          29
         ]
        },
        {
         "name": "df6f28f7a401a2",
         "showlegend": false,
         "type": "scatter",
         "uid": "a4cba8fa-e07b-11e8-b3af-0088653b14b4",
         "x": [
          0
         ],
         "y": [
          28
         ]
        },
        {
         "name": "33155d20c15572",
         "showlegend": false,
         "type": "scatter",
         "uid": "a4cbaa8a-e07b-11e8-b12a-0088653b14b4",
         "x": [
          100
         ],
         "y": [
          29
         ]
        },
        {
         "name": "1ad25c71702e3c",
         "showlegend": false,
         "type": "scatter",
         "uid": "a4cbabfa-e07b-11e8-8ee8-0088653b14b4",
         "x": [
          0
         ],
         "y": [
          48
         ]
        },
        {
         "name": "e2b350f8f06201",
         "showlegend": false,
         "type": "scatter",
         "uid": "a4cbadb4-e07b-11e8-ad11-0088653b14b4",
         "x": [
          0
         ],
         "y": [
          49
         ]
        },
        {
         "name": "e9cb300f680cc0",
         "showlegend": false,
         "type": "scatter",
         "uid": "a4cbaf58-e07b-11e8-b81f-0088653b14b4",
         "x": [
          383.2
         ],
         "y": [
          95
         ]
        },
        {
         "name": "acebbf30827f98",
         "showlegend": false,
         "type": "scatter",
         "uid": "a4cbb0de-e07b-11e8-ad3d-0088653b14b4",
         "x": [
          137.3
         ],
         "y": [
          30
         ]
        },
        {
         "name": "0ab67d8ec7b030",
         "showlegend": false,
         "type": "scatter",
         "uid": "a4cbb282-e07b-11e8-81f8-0088653b14b4",
         "x": [
          133.8
         ],
         "y": [
          28
         ]
        },
        {
         "name": "61ea3d0004eef9",
         "showlegend": false,
         "type": "scatter",
         "uid": "a4cbb408-e07b-11e8-b267-0088653b14b4",
         "x": [
          460
         ],
         "y": [
          25
         ]
        },
        {
         "name": "30415b09ace8f2",
         "showlegend": false,
         "type": "scatter",
         "uid": "a4cbb598-e07b-11e8-bdef-0088653b14b4",
         "x": [
          200
         ],
         "y": [
          27
         ]
        },
        {
         "name": "8bd542c4898ab8",
         "showlegend": false,
         "type": "scatter",
         "uid": "a4cbb746-e07b-11e8-9833-0088653b14b4",
         "x": [
          0
         ],
         "y": [
          27
         ]
        },
        {
         "name": "336850794931c3",
         "showlegend": false,
         "type": "scatter",
         "uid": "a4cbb8c2-e07b-11e8-9c99-0088653b14b4",
         "x": [
          81
         ],
         "y": [
          28
         ]
        },
        {
         "name": "66ff741d9e11a7",
         "showlegend": false,
         "type": "scatter",
         "uid": "a4cbba52-e07b-11e8-a943-0088653b14b4",
         "x": [
          42.96
         ],
         "y": [
          26
         ]
        },
        {
         "name": "434b7215686d15",
         "showlegend": false,
         "type": "scatter",
         "uid": "a4cbbbec-e07b-11e8-ad5e-0088653b14b4",
         "x": [
          0
         ],
         "y": [
          49
         ]
        },
        {
         "name": "128cbf304b8e67",
         "showlegend": false,
         "type": "scatter",
         "uid": "a4cbbd7a-e07b-11e8-a1d8-0088653b14b4",
         "x": [
          176
         ],
         "y": [
          97
         ]
        },
        {
         "name": "91ac9472b7f40a",
         "showlegend": false,
         "type": "scatter",
         "uid": "a4cbbf1e-e07b-11e8-bb9e-0088653b14b4",
         "x": [
          0
         ],
         "y": [
          49
         ]
        },
        {
         "name": "8ebf937298e2f8",
         "showlegend": false,
         "type": "scatter",
         "uid": "a4cbc09c-e07b-11e8-b287-0088653b14b4",
         "x": [
          0
         ],
         "y": [
          49
         ]
        },
        {
         "name": "03114ba92f81fc",
         "showlegend": false,
         "type": "scatter",
         "uid": "a4cbc218-e07b-11e8-a4a5-0088653b14b4",
         "x": [
          0
         ],
         "y": [
          47
         ]
        },
        {
         "name": "d8c1bb57ab00e1",
         "showlegend": false,
         "type": "scatter",
         "uid": "a4cbc3da-e07b-11e8-8f43-0088653b14b4",
         "x": [
          0
         ],
         "y": [
          96
         ]
        },
        {
         "name": "bd0a5e311842f2",
         "showlegend": false,
         "type": "scatter",
         "uid": "a4cbc574-e07b-11e8-b464-0088653b14b4",
         "x": [
          503.1
         ],
         "y": [
          26
         ]
        },
        {
         "name": "e2950da535fae4",
         "showlegend": false,
         "type": "scatter",
         "uid": "a4cbc706-e07b-11e8-b960-0088653b14b4",
         "x": [
          0
         ],
         "y": [
          29
         ]
        },
        {
         "name": "5cbbc113556c76",
         "showlegend": false,
         "type": "scatter",
         "uid": "a4cbc88a-e07b-11e8-8b74-0088653b14b4",
         "x": [
          122
         ],
         "y": [
          28
         ]
        },
        {
         "name": "bf3f5963fee697",
         "showlegend": false,
         "type": "scatter",
         "uid": "a4cbca10-e07b-11e8-81d3-0088653b14b4",
         "x": [
          179.4
         ],
         "y": [
          29
         ]
        },
        {
         "name": "8aba633052dc07",
         "showlegend": false,
         "type": "scatter",
         "uid": "a4cbcb9e-e07b-11e8-8487-0088653b14b4",
         "x": [
          0
         ],
         "y": [
          27
         ]
        },
        {
         "name": "27a5f9687671bc",
         "showlegend": false,
         "type": "scatter",
         "uid": "a4cbcd46-e07b-11e8-8698-0088653b14b4",
         "x": [
          90.21
         ],
         "y": [
          97
         ]
        },
        {
         "name": "ed4ece608e23ec",
         "showlegend": false,
         "type": "scatter",
         "uid": "a4cbced4-e07b-11e8-a02a-0088653b14b4",
         "x": [
          361.3
         ],
         "y": [
          47
         ]
        },
        {
         "name": "c8fdc72204b59b",
         "showlegend": false,
         "type": "scatter",
         "uid": "a4cbd05a-e07b-11e8-844e-0088653b14b4",
         "x": [
          160.6
         ],
         "y": [
          47
         ]
        },
        {
         "name": "0a5770018947cd",
         "showlegend": false,
         "type": "scatter",
         "uid": "a4cbd1e2-e07b-11e8-bfab-0088653b14b4",
         "x": [
          318.6
         ],
         "y": [
          49
         ]
        },
        {
         "name": "477736adf06ec9",
         "showlegend": false,
         "type": "scatter",
         "uid": "a4cbd370-e07b-11e8-9095-0088653b14b4",
         "x": [
          134
         ],
         "y": [
          27
         ]
        },
        {
         "name": "ea60c8294b22ec",
         "showlegend": false,
         "type": "scatter",
         "uid": "a4cbd4f6-e07b-11e8-94f4-0088653b14b4",
         "x": [
          0
         ],
         "y": [
          28
         ]
        },
        {
         "name": "3eec10eeba66da",
         "showlegend": false,
         "type": "scatter",
         "uid": "a4cbd69a-e07b-11e8-9269-0088653b14b4",
         "x": [
          100
         ],
         "y": [
          25
         ]
        },
        {
         "name": "4258a6818558c1",
         "showlegend": false,
         "type": "scatter",
         "uid": "a4cbd834-e07b-11e8-9e4e-0088653b14b4",
         "x": [
          35.46
         ],
         "y": [
          29
         ]
        },
        {
         "name": "b4ce8f76a82e33",
         "showlegend": false,
         "type": "scatter",
         "uid": "a4cbd9ec-e07b-11e8-9d57-0088653b14b4",
         "x": [
          0
         ],
         "y": [
          95
         ]
        },
        {
         "name": "daa65cd93a511c",
         "showlegend": false,
         "type": "scatter",
         "uid": "a4cbdb90-e07b-11e8-9a77-0088653b14b4",
         "x": [
          0
         ],
         "y": [
          24
         ]
        },
        {
         "name": "e82ef9c0012b40",
         "showlegend": false,
         "type": "scatter",
         "uid": "a4cbdd1e-e07b-11e8-a487-0088653b14b4",
         "x": [
          107
         ],
         "y": [
          92
         ]
        },
        {
         "name": "ed53a14e3395e2",
         "showlegend": false,
         "type": "scatter",
         "uid": "a4cbde9c-e07b-11e8-a5cd-0088653b14b4",
         "x": [
          224
         ],
         "y": [
          48
         ]
        },
        {
         "name": "ae002541f541ce",
         "showlegend": false,
         "type": "scatter",
         "uid": "a4cbe02c-e07b-11e8-8940-0088653b14b4",
         "x": [
          25.38
         ],
         "y": [
          94
         ]
        },
        {
         "name": "e5519d8d881f79",
         "showlegend": false,
         "type": "scatter",
         "uid": "a4cbe1ba-e07b-11e8-879f-0088653b14b4",
         "x": [
          0
         ],
         "y": [
          26
         ]
        },
        {
         "name": "aad518faafc6c5",
         "showlegend": false,
         "type": "scatter",
         "uid": "a4cbe34c-e07b-11e8-afaf-0088653b14b4",
         "x": [
          565.5
         ],
         "y": [
          28
         ]
        },
        {
         "name": "01e63a720784d9",
         "showlegend": false,
         "type": "scatter",
         "uid": "a4cbe4f0-e07b-11e8-baa7-0088653b14b4",
         "x": [
          91.14
         ],
         "y": [
          28
         ]
        },
        {
         "name": "08e1012e1f4fad",
         "showlegend": false,
         "type": "scatter",
         "uid": "a4cbe66c-e07b-11e8-bf0f-0088653b14b4",
         "x": [
          136.4
         ],
         "y": [
          30
         ]
        },
        {
         "name": "0b1db53f7e2aad",
         "showlegend": false,
         "type": "scatter",
         "uid": "a4cbe7e8-e07b-11e8-947e-0088653b14b4",
         "x": [
          127.3
         ],
         "y": [
          24
         ]
        },
        {
         "name": "77d4ca39df5db8",
         "showlegend": false,
         "type": "scatter",
         "uid": "a4cbe982-e07b-11e8-b6cb-0088653b14b4",
         "x": [
          198.9
         ],
         "y": [
          96
         ]
        },
        {
         "name": "83888e01f7e0bf",
         "showlegend": false,
         "type": "scatter",
         "uid": "a4cbeb1c-e07b-11e8-bc7c-0088653b14b4",
         "x": [
          100
         ],
         "y": [
          29
         ]
        },
        {
         "name": "31d24de56b0457",
         "showlegend": false,
         "type": "scatter",
         "uid": "a4cbecca-e07b-11e8-af88-0088653b14b4",
         "x": [
          85.02
         ],
         "y": [
          48
         ]
        },
        {
         "name": "f7f55bd7627668",
         "showlegend": false,
         "type": "scatter",
         "uid": "a4cbee6e-e07b-11e8-96d1-0088653b14b4",
         "x": [
          0
         ],
         "y": [
          21
         ]
        },
        {
         "name": "e7c029ad164dcc",
         "showlegend": false,
         "type": "scatter",
         "uid": "a4cbefe8-e07b-11e8-88c8-0088653b14b4",
         "x": [
          763.7
         ],
         "y": [
          27
         ]
        },
        {
         "name": "e8bcec4b66e678",
         "showlegend": false,
         "type": "scatter",
         "uid": "a4cbf170-e07b-11e8-ae1f-0088653b14b4",
         "x": [
          6.316
         ],
         "y": [
          42
         ]
        },
        {
         "name": "bc30260a39e37c",
         "showlegend": false,
         "type": "scatter",
         "uid": "a4cbf328-e07b-11e8-840d-0088653b14b4",
         "x": [
          64.36
         ],
         "y": [
          49
         ]
        },
        {
         "name": "95803263079b59",
         "showlegend": false,
         "type": "scatter",
         "uid": "a4cbf4b8-e07b-11e8-90d6-0088653b14b4",
         "x": [
          0
         ],
         "y": [
          97
         ]
        },
        {
         "name": "aaa85ec0fa158e",
         "showlegend": false,
         "type": "scatter",
         "uid": "a4cbf61e-e07b-11e8-a3f5-0088653b14b4",
         "x": [
          0
         ],
         "y": [
          25
         ]
        },
        {
         "name": "a1d549b5f961b2",
         "showlegend": false,
         "type": "scatter",
         "uid": "a4cbf7c6-e07b-11e8-abe1-0088653b14b4",
         "x": [
          49.47
         ],
         "y": [
          28
         ]
        },
        {
         "name": "c29ab5d4c4882d",
         "showlegend": false,
         "type": "scatter",
         "uid": "a4cbf94a-e07b-11e8-8af2-0088653b14b4",
         "x": [
          65.93
         ],
         "y": [
          47
         ]
        },
        {
         "name": "074f2c836b409a",
         "showlegend": false,
         "type": "scatter",
         "uid": "a4cbfad0-e07b-11e8-8c22-0088653b14b4",
         "x": [
          200.7
         ],
         "y": [
          28
         ]
        },
        {
         "name": "c3def469a81f71",
         "showlegend": false,
         "type": "scatter",
         "uid": "a4cbfc88-e07b-11e8-a2a3-0088653b14b4",
         "x": [
          0
         ],
         "y": [
          28
         ]
        },
        {
         "name": "83119dca7b7be5",
         "showlegend": false,
         "type": "scatter",
         "uid": "a4cbfe0c-e07b-11e8-a77c-0088653b14b4",
         "x": [
          28.48
         ],
         "y": [
          27
         ]
        },
        {
         "name": "c1a3ba87b4c153",
         "showlegend": false,
         "type": "scatter",
         "uid": "a4cbff80-e07b-11e8-b064-0088653b14b4",
         "x": [
          40.85
         ],
         "y": [
          49
         ]
        },
        {
         "name": "d212982ca98b8b",
         "showlegend": false,
         "type": "scatter",
         "uid": "a4cc014c-e07b-11e8-a38b-0088653b14b4",
         "x": [
          70.73
         ],
         "y": [
          90
         ]
        },
        {
         "name": "6001f54f5386a9",
         "showlegend": false,
         "type": "scatter",
         "uid": "a4cc02dc-e07b-11e8-a907-0088653b14b4",
         "x": [
          0
         ],
         "y": [
          30
         ]
        },
        {
         "name": "5427953aaada63",
         "showlegend": false,
         "type": "scatter",
         "uid": "a4cc0458-e07b-11e8-b1a1-0088653b14b4",
         "x": [
          0
         ],
         "y": [
          49
         ]
        },
        {
         "name": "24e3f6f83e523a",
         "showlegend": false,
         "type": "scatter",
         "uid": "a4cc05f4-e07b-11e8-977c-0088653b14b4",
         "x": [
          269.4
         ],
         "y": [
          95
         ]
        },
        {
         "name": "76fdfff3e3073a",
         "showlegend": false,
         "type": "scatter",
         "uid": "a4cc0778-e07b-11e8-a40d-0088653b14b4",
         "x": [
          279.9
         ],
         "y": [
          30
         ]
        },
        {
         "name": "e2529e9f5499e9",
         "showlegend": false,
         "type": "scatter",
         "uid": "a4cc08fe-e07b-11e8-a5ee-0088653b14b4",
         "x": [
          480
         ],
         "y": [
          28
         ]
        },
        {
         "name": "c45f2b1142e5a6",
         "showlegend": false,
         "type": "scatter",
         "uid": "a4cc0ab6-e07b-11e8-add6-0088653b14b4",
         "x": [
          217.2
         ],
         "y": [
          46
         ]
        },
        {
         "name": "ba4d49cb0b94f9",
         "showlegend": false,
         "type": "scatter",
         "uid": "a4cc0c34-e07b-11e8-b0bd-0088653b14b4",
         "x": [
          25.93
         ],
         "y": [
          93
         ]
        },
        {
         "name": "57d7cdc093afa3",
         "showlegend": false,
         "type": "scatter",
         "uid": "a4cc0da4-e07b-11e8-bc77-0088653b14b4",
         "x": [
          177.4
         ],
         "y": [
          29
         ]
        },
        {
         "name": "ab6b2c91a6c27c",
         "showlegend": false,
         "type": "scatter",
         "uid": "a4cc0f52-e07b-11e8-96e9-0088653b14b4",
         "x": [
          91
         ],
         "y": [
          30
         ]
        },
        {
         "name": "72e1c1fa067673",
         "showlegend": false,
         "type": "scatter",
         "uid": "a4cc10d8-e07b-11e8-9c11-0088653b14b4",
         "x": [
          10.88
         ],
         "y": [
          49
         ]
        },
        {
         "name": "735f41a9880da6",
         "showlegend": false,
         "type": "scatter",
         "uid": "a4cc1376-e07b-11e8-bb50-0088653b14b4",
         "x": [
          9.799
         ],
         "y": [
          48
         ]
        },
        {
         "name": "520e7609bec9e3",
         "showlegend": false,
         "type": "scatter",
         "uid": "a4cc1510-e07b-11e8-98bd-0088653b14b4",
         "x": [
          0
         ],
         "y": [
          49
         ]
        },
        {
         "name": "7f23108a43a2c0",
         "showlegend": false,
         "type": "scatter",
         "uid": "a4cc16a8-e07b-11e8-99f4-0088653b14b4",
         "x": [
          187.6
         ],
         "y": [
          48
         ]
        },
        {
         "name": "fd8723ea1af754",
         "showlegend": false,
         "type": "scatter",
         "uid": "a4cc1846-e07b-11e8-9e77-0088653b14b4",
         "x": [
          120.7
         ],
         "y": [
          100
         ]
        },
        {
         "name": "d94e815fb93d1e",
         "showlegend": false,
         "type": "scatter",
         "uid": "a4cc19d4-e07b-11e8-9889-0088653b14b4",
         "x": [
          76.8
         ],
         "y": [
          28
         ]
        },
        {
         "name": "9630dcca4bb62d",
         "showlegend": false,
         "type": "scatter",
         "uid": "a4cc1b64-e07b-11e8-9e33-0088653b14b4",
         "x": [
          132.5
         ],
         "y": [
          49
         ]
        },
        {
         "name": "245388fc6d52b6",
         "showlegend": false,
         "type": "scatter",
         "uid": "a4cc1cf4-e07b-11e8-89c5-0088653b14b4",
         "x": [
          275.7
         ],
         "y": [
          29
         ]
        },
        {
         "name": "80d67986c25abe",
         "showlegend": false,
         "type": "scatter",
         "uid": "a4cc1e70-e07b-11e8-8c8c-0088653b14b4",
         "x": [
          330.1
         ],
         "y": [
          26
         ]
        },
        {
         "name": "0e1b55b0550739",
         "showlegend": false,
         "type": "scatter",
         "uid": "a4cc2000-e07b-11e8-81cc-0088653b14b4",
         "x": [
          156.8
         ],
         "y": [
          28
         ]
        },
        {
         "name": "5574ba9ff418d2",
         "showlegend": false,
         "type": "scatter",
         "uid": "a4cc21a4-e07b-11e8-84e3-0088653b14b4",
         "x": [
          0
         ],
         "y": [
          30
         ]
        },
        {
         "name": "afb98295726aff",
         "showlegend": false,
         "type": "scatter",
         "uid": "a4cc235c-e07b-11e8-8eea-0088653b14b4",
         "x": [
          48.15
         ],
         "y": [
          28
         ]
        },
        {
         "name": "31b67a5b1bb879",
         "showlegend": false,
         "type": "scatter",
         "uid": "a4cc24e2-e07b-11e8-a91a-0088653b14b4",
         "x": [
          46.8
         ],
         "y": [
          30
         ]
        },
        {
         "name": "0b41004783666c",
         "showlegend": false,
         "type": "scatter",
         "uid": "a4cc2674-e07b-11e8-8c2c-0088653b14b4",
         "x": [
          246
         ],
         "y": [
          28
         ]
        },
        {
         "name": "6c0b5819c0731d",
         "showlegend": false,
         "type": "scatter",
         "uid": "a4cc2802-e07b-11e8-994c-0088653b14b4",
         "x": [
          0
         ],
         "y": [
          96
         ]
        },
        {
         "name": "d609ea9b928fcd",
         "showlegend": false,
         "type": "scatter",
         "uid": "a4cc2992-e07b-11e8-abe1-0088653b14b4",
         "x": [
          0
         ],
         "y": [
          26
         ]
        },
        {
         "name": "a390770978b252",
         "showlegend": false,
         "type": "scatter",
         "uid": "a4cc2b40-e07b-11e8-9409-0088653b14b4",
         "x": [
          341.3
         ],
         "y": [
          97
         ]
        },
        {
         "name": "9a362da7f46b29",
         "showlegend": false,
         "type": "scatter",
         "uid": "a4cc2cc6-e07b-11e8-8230-0088653b14b4",
         "x": [
          295.7
         ],
         "y": [
          32
         ]
        },
        {
         "name": "fde5ecf265a104",
         "showlegend": false,
         "type": "scatter",
         "uid": "a4cc2e58-e07b-11e8-9e9d-0088653b14b4",
         "x": [
          283.5
         ],
         "y": [
          29
         ]
        },
        {
         "name": "556a71020e4ac2",
         "showlegend": false,
         "type": "scatter",
         "uid": "a4cc2ffa-e07b-11e8-9c51-0088653b14b4",
         "x": [
          356.5
         ],
         "y": [
          26
         ]
        },
        {
         "name": "a317e2025f8648",
         "showlegend": false,
         "type": "scatter",
         "uid": "a4cc3194-e07b-11e8-ae6f-0088653b14b4",
         "x": [
          512.3
         ],
         "y": [
          48
         ]
        },
        {
         "name": "25c029f884c3a0",
         "showlegend": false,
         "type": "scatter",
         "uid": "a4cc3310-e07b-11e8-a8b0-0088653b14b4",
         "x": [
          126.5
         ],
         "y": [
          97
         ]
        },
        {
         "name": "c1b8e8629bbdf7",
         "showlegend": false,
         "type": "scatter",
         "uid": "a4cc34a8-e07b-11e8-bb5b-0088653b14b4",
         "x": [
          42.46
         ],
         "y": [
          28
         ]
        },
        {
         "name": "0744ce9d82d69e",
         "showlegend": false,
         "type": "scatter",
         "uid": "a4cc3646-e07b-11e8-9ed7-0088653b14b4",
         "x": [
          195.2
         ],
         "y": [
          46
         ]
        },
        {
         "name": "54395c9be724ac",
         "showlegend": false,
         "type": "scatter",
         "uid": "a4cc37ca-e07b-11e8-8d40-0088653b14b4",
         "x": [
          95.88
         ],
         "y": [
          50
         ]
        },
        {
         "name": "095264207fff56",
         "showlegend": false,
         "type": "scatter",
         "uid": "a4cc3964-e07b-11e8-995e-0088653b14b4",
         "x": [
          75.87
         ],
         "y": [
          30
         ]
        },
        {
         "name": "e5a13c85155557",
         "showlegend": false,
         "type": "scatter",
         "uid": "a4cc3ae2-e07b-11e8-b71c-0088653b14b4",
         "x": [
          0
         ],
         "y": [
          44
         ]
        },
        {
         "name": "e68e9fb7c42403",
         "showlegend": false,
         "type": "scatter",
         "uid": "a4cc3c66-e07b-11e8-8351-0088653b14b4",
         "x": [
          0
         ],
         "y": [
          48
         ]
        },
        {
         "name": "fa61a5e5ba5ad8",
         "showlegend": false,
         "type": "scatter",
         "uid": "a4cc3e00-e07b-11e8-9551-0088653b14b4",
         "x": [
          28.03
         ],
         "y": [
          29
         ]
        },
        {
         "name": "5431ff0cb760e8",
         "showlegend": false,
         "type": "scatter",
         "uid": "a4cc3fae-e07b-11e8-806c-0088653b14b4",
         "x": [
          287.6
         ],
         "y": [
          49
         ]
        },
        {
         "name": "3dcd33b191eb10",
         "showlegend": false,
         "type": "scatter",
         "uid": "a4cc4148-e07b-11e8-ad04-0088653b14b4",
         "x": [
          100
         ],
         "y": [
          26
         ]
        },
        {
         "name": "ae4b2d32fa3598",
         "showlegend": false,
         "type": "scatter",
         "uid": "a4cc42d8-e07b-11e8-ad01-0088653b14b4",
         "x": [
          200
         ],
         "y": [
          98
         ]
        },
        {
         "name": "309b10e2526a5a",
         "showlegend": false,
         "type": "scatter",
         "uid": "a4cc4454-e07b-11e8-b4f1-0088653b14b4",
         "x": [
          174.7
         ],
         "y": [
          94
         ]
        },
        {
         "name": "9af9c3e98ae8f7",
         "showlegend": false,
         "type": "scatter",
         "uid": "a4cc45e4-e07b-11e8-96ec-0088653b14b4",
         "x": [
          95.1
         ],
         "y": [
          31
         ]
        },
        {
         "name": "1b5334e9b12c85",
         "showlegend": false,
         "type": "scatter",
         "uid": "a4cc4792-e07b-11e8-a8da-0088653b14b4",
         "x": [
          91.36
         ],
         "y": [
          30
         ]
        }
       ],
       "layout": {
        "legend": {
         "orientation": "h"
        },
        "title": "Killing is Winning?",
        "xaxis": {
         "title": "Damage (Higher is Better)"
        },
        "yaxis": {
         "title": "Rank (Lower is Better)"
        }
       }
      },
      "text/html": [
       "<div id=\"4fe69a20-49d6-4c63-8e0c-1211d9910a9f\" style=\"height: 525px; width: 100%;\" class=\"plotly-graph-div\"></div><script type=\"text/javascript\">require([\"plotly\"], function(Plotly) { window.PLOTLYENV=window.PLOTLYENV || {};window.PLOTLYENV.BASE_URL=\"https://plot.ly\";Plotly.newPlot(\"4fe69a20-49d6-4c63-8e0c-1211d9910a9f\", [{\"name\": \"c578e4d0dbc98b\", \"showlegend\": false, \"x\": [0.0], \"y\": [28], \"type\": \"scatter\", \"uid\": \"a58cc0b4-e07b-11e8-b95c-0088653b14b4\"}, {\"name\": \"0b57bf9f8c593b\", \"showlegend\": false, \"x\": [28.38], \"y\": [28], \"type\": \"scatter\", \"uid\": \"a58cc2ba-e07b-11e8-af0c-0088653b14b4\"}, {\"name\": \"fc71536a17b2e2\", \"showlegend\": false, \"x\": [157.2], \"y\": [48], \"type\": \"scatter\", \"uid\": \"a58cc3d2-e07b-11e8-9522-0088653b14b4\"}, {\"name\": \"7ee673d4f9d977\", \"showlegend\": false, \"x\": [251.5], \"y\": [26], \"type\": \"scatter\", \"uid\": \"a58cc4d8-e07b-11e8-846b-0088653b14b4\"}, {\"name\": \"0a9f5227314bbb\", \"showlegend\": false, \"x\": [0.0], \"y\": [28], \"type\": \"scatter\", \"uid\": \"a58cc5c6-e07b-11e8-a881-0088653b14b4\"}, {\"name\": \"df7aefcd8a75e3\", \"showlegend\": false, \"x\": [98.53], \"y\": [29], \"type\": \"scatter\", \"uid\": \"a58cc6ac-e07b-11e8-bd38-0088653b14b4\"}, {\"name\": \"e7f625f277bc52\", \"showlegend\": false, \"x\": [0.0], \"y\": [45], \"type\": \"scatter\", \"uid\": \"a58cc79c-e07b-11e8-9e24-0088653b14b4\"}, {\"name\": \"ba65a95ab6d515\", \"showlegend\": false, \"x\": [139.3], \"y\": [49], \"type\": \"scatter\", \"uid\": \"a58cc88c-e07b-11e8-b786-0088653b14b4\"}, {\"name\": \"17cebdc60befd7\", \"showlegend\": false, \"x\": [210.4], \"y\": [27], \"type\": \"scatter\", \"uid\": \"a58cc974-e07b-11e8-9302-0088653b14b4\"}, {\"name\": \"fbf7ad5f302bdc\", \"showlegend\": false, \"x\": [21.85], \"y\": [96], \"type\": \"scatter\", \"uid\": \"a58cca62-e07b-11e8-997f-0088653b14b4\"}, {\"name\": \"c5029a9370d6eb\", \"showlegend\": false, \"x\": [47.97], \"y\": [27], \"type\": \"scatter\", \"uid\": \"a58ccb48-e07b-11e8-9d4e-0088653b14b4\"}, {\"name\": \"ddf94bb108a308\", \"showlegend\": false, \"x\": [0.0], \"y\": [87], \"type\": \"scatter\", \"uid\": \"a58ccc74-e07b-11e8-8149-0088653b14b4\"}, {\"name\": \"5c1bc6783f3927\", \"showlegend\": false, \"x\": [264.5], \"y\": [48], \"type\": \"scatter\", \"uid\": \"a58ccd78-e07b-11e8-8f67-0088653b14b4\"}, {\"name\": \"7c225a0a108370\", \"showlegend\": false, \"x\": [71.54], \"y\": [31], \"type\": \"scatter\", \"uid\": \"a58cce68-e07b-11e8-b558-0088653b14b4\"}, {\"name\": \"c6353a77e1c78f\", \"showlegend\": false, \"x\": [169.5], \"y\": [47], \"type\": \"scatter\", \"uid\": \"a58ccf4c-e07b-11e8-a24a-0088653b14b4\"}, {\"name\": \"fa3e39d8a91f81\", \"showlegend\": false, \"x\": [177.2], \"y\": [97], \"type\": \"scatter\", \"uid\": \"a58cd03e-e07b-11e8-99f9-0088653b14b4\"}, {\"name\": \"50a6b80babf569\", \"showlegend\": false, \"x\": [326.2], \"y\": [26], \"type\": \"scatter\", \"uid\": \"a58cd124-e07b-11e8-96b0-0088653b14b4\"}, {\"name\": \"93d47a15d4805e\", \"showlegend\": false, \"x\": [207.6], \"y\": [97], \"type\": \"scatter\", \"uid\": \"a58cd20a-e07b-11e8-abb8-0088653b14b4\"}, {\"name\": \"f2d96351620cbb\", \"showlegend\": false, \"x\": [0.0], \"y\": [45], \"type\": \"scatter\", \"uid\": \"a58cd2f0-e07b-11e8-a58c-0088653b14b4\"}, {\"name\": \"9b78bca20825de\", \"showlegend\": false, \"x\": [115.0], \"y\": [26], \"type\": \"scatter\", \"uid\": \"a58cd3d8-e07b-11e8-b958-0088653b14b4\"}, {\"name\": \"394a8a49652bbf\", \"showlegend\": false, \"x\": [74.07], \"y\": [28], \"type\": \"scatter\", \"uid\": \"a58cd4ba-e07b-11e8-94a3-0088653b14b4\"}, {\"name\": \"07bc8e49c7745c\", \"showlegend\": false, \"x\": [254.4], \"y\": [28], \"type\": \"scatter\", \"uid\": \"a58cd5ac-e07b-11e8-81bb-0088653b14b4\"}, {\"name\": \"15b06a1c894b01\", \"showlegend\": false, \"x\": [219.3], \"y\": [28], \"type\": \"scatter\", \"uid\": \"a58cd692-e07b-11e8-9681-0088653b14b4\"}, {\"name\": \"f496fe4be805d7\", \"showlegend\": false, \"x\": [137.7], \"y\": [45], \"type\": \"scatter\", \"uid\": \"a58cd76e-e07b-11e8-ae51-0088653b14b4\"}, {\"name\": \"e0e84287c7b08b\", \"showlegend\": false, \"x\": [631.5], \"y\": [30], \"type\": \"scatter\", \"uid\": \"a58cd890-e07b-11e8-8eba-0088653b14b4\"}, {\"name\": \"fbcee201be5be4\", \"showlegend\": false, \"x\": [311.9], \"y\": [27], \"type\": \"scatter\", \"uid\": \"a58cd98a-e07b-11e8-a289-0088653b14b4\"}, {\"name\": \"73442274e99faf\", \"showlegend\": false, \"x\": [12.3], \"y\": [30], \"type\": \"scatter\", \"uid\": \"a58cda7a-e07b-11e8-9d52-0088653b14b4\"}, {\"name\": \"24d686e6078da6\", \"showlegend\": false, \"x\": [0.0], \"y\": [46], \"type\": \"scatter\", \"uid\": \"a58cdb62-e07b-11e8-be27-0088653b14b4\"}, {\"name\": \"b48987e6ac2e34\", \"showlegend\": false, \"x\": [0.0], \"y\": [31], \"type\": \"scatter\", \"uid\": \"a58cdc50-e07b-11e8-ac33-0088653b14b4\"}, {\"name\": \"5ead29203ea643\", \"showlegend\": false, \"x\": [0.0], \"y\": [28], \"type\": \"scatter\", \"uid\": \"a58cdd36-e07b-11e8-86b4-0088653b14b4\"}, {\"name\": \"ef82c38fb03f5f\", \"showlegend\": false, \"x\": [0.0], \"y\": [96], \"type\": \"scatter\", \"uid\": \"a58cde26-e07b-11e8-a220-0088653b14b4\"}, {\"name\": \"3fdd98b2d11f60\", \"showlegend\": false, \"x\": [0.0], \"y\": [49], \"type\": \"scatter\", \"uid\": \"a58cdf0c-e07b-11e8-bc33-0088653b14b4\"}, {\"name\": \"f338d5784d7e3f\", \"showlegend\": false, \"x\": [129.8], \"y\": [25], \"type\": \"scatter\", \"uid\": \"a58cdff4-e07b-11e8-8a63-0088653b14b4\"}, {\"name\": \"422ca7180615a0\", \"showlegend\": false, \"x\": [51.6], \"y\": [98], \"type\": \"scatter\", \"uid\": \"a58ce0d8-e07b-11e8-a76b-0088653b14b4\"}, {\"name\": \"79e2914938b07d\", \"showlegend\": false, \"x\": [0.0], \"y\": [91], \"type\": \"scatter\", \"uid\": \"a58ce1c8-e07b-11e8-b28b-0088653b14b4\"}, {\"name\": \"e2470869df64a7\", \"showlegend\": false, \"x\": [148.5], \"y\": [26], \"type\": \"scatter\", \"uid\": \"a58ce2ae-e07b-11e8-9afe-0088653b14b4\"}, {\"name\": \"8d60d987ad963b\", \"showlegend\": false, \"x\": [62.87], \"y\": [28], \"type\": \"scatter\", \"uid\": \"a58ce394-e07b-11e8-b6a4-0088653b14b4\"}, {\"name\": \"b63897bde4eaff\", \"showlegend\": false, \"x\": [186.1], \"y\": [25], \"type\": \"scatter\", \"uid\": \"a58ce4ac-e07b-11e8-b27f-0088653b14b4\"}, {\"name\": \"b0f564470b50bc\", \"showlegend\": false, \"x\": [10.62], \"y\": [95], \"type\": \"scatter\", \"uid\": \"a58ce5b0-e07b-11e8-be66-0088653b14b4\"}, {\"name\": \"fe51a82713a67b\", \"showlegend\": false, \"x\": [0.0], \"y\": [28], \"type\": \"scatter\", \"uid\": \"a58ce706-e07b-11e8-a0cc-0088653b14b4\"}, {\"name\": \"a5b570ddacc54c\", \"showlegend\": false, \"x\": [300.0], \"y\": [28], \"type\": \"scatter\", \"uid\": \"a58cea38-e07b-11e8-aaf5-0088653b14b4\"}, {\"name\": \"90937dd595ef2a\", \"showlegend\": false, \"x\": [28.1], \"y\": [47], \"type\": \"scatter\", \"uid\": \"a58cec18-e07b-11e8-bb17-0088653b14b4\"}, {\"name\": \"87e799b1812f76\", \"showlegend\": false, \"x\": [90.3], \"y\": [26], \"type\": \"scatter\", \"uid\": \"a58ced30-e07b-11e8-b5e3-0088653b14b4\"}, {\"name\": \"188391c8933122\", \"showlegend\": false, \"x\": [0.0], \"y\": [94], \"type\": \"scatter\", \"uid\": \"a58ceee8-e07b-11e8-8051-0088653b14b4\"}, {\"name\": \"7f4e66ff52db77\", \"showlegend\": false, \"x\": [0.0], \"y\": [96], \"type\": \"scatter\", \"uid\": \"a58cf0c8-e07b-11e8-911f-0088653b14b4\"}, {\"name\": \"8c7cffac451deb\", \"showlegend\": false, \"x\": [200.0], \"y\": [44], \"type\": \"scatter\", \"uid\": \"a58cf33e-e07b-11e8-b69e-0088653b14b4\"}, {\"name\": \"d7563e52a1f386\", \"showlegend\": false, \"x\": [397.6], \"y\": [45], \"type\": \"scatter\", \"uid\": \"a58cf55a-e07b-11e8-9911-0088653b14b4\"}, {\"name\": \"ce3d9c1de1a87e\", \"showlegend\": false, \"x\": [0.0], \"y\": [28], \"type\": \"scatter\", \"uid\": \"a58cf7b4-e07b-11e8-b7dd-0088653b14b4\"}, {\"name\": \"afda8feca04717\", \"showlegend\": false, \"x\": [195.6], \"y\": [27], \"type\": \"scatter\", \"uid\": \"a58cf938-e07b-11e8-9a8f-0088653b14b4\"}, {\"name\": \"a6b9ca48b6f35c\", \"showlegend\": false, \"x\": [92.76], \"y\": [29], \"type\": \"scatter\", \"uid\": \"a58cfa64-e07b-11e8-bd51-0088653b14b4\"}, {\"name\": \"201566c183567c\", \"showlegend\": false, \"x\": [127.1], \"y\": [29], \"type\": \"scatter\", \"uid\": \"a58cfcf8-e07b-11e8-b1ee-0088653b14b4\"}, {\"name\": \"8d0ccc07bff6e7\", \"showlegend\": false, \"x\": [148.5], \"y\": [49], \"type\": \"scatter\", \"uid\": \"a58cfed8-e07b-11e8-b866-0088653b14b4\"}, {\"name\": \"eb5d675eeb67d5\", \"showlegend\": false, \"x\": [69.46], \"y\": [50], \"type\": \"scatter\", \"uid\": \"a58d00c2-e07b-11e8-b76e-0088653b14b4\"}, {\"name\": \"aed42507cec188\", \"showlegend\": false, \"x\": [156.1], \"y\": [30], \"type\": \"scatter\", \"uid\": \"a58d01c6-e07b-11e8-9fb3-0088653b14b4\"}, {\"name\": \"96ea9b5964ac0f\", \"showlegend\": false, \"x\": [0.0], \"y\": [27], \"type\": \"scatter\", \"uid\": \"a58d02ca-e07b-11e8-99b3-0088653b14b4\"}, {\"name\": \"52e2831ea7d8df\", \"showlegend\": false, \"x\": [0.0], \"y\": [22], \"type\": \"scatter\", \"uid\": \"a58d03c6-e07b-11e8-9cd0-0088653b14b4\"}, {\"name\": \"4efaf49814a1b5\", \"showlegend\": false, \"x\": [28.2], \"y\": [29], \"type\": \"scatter\", \"uid\": \"a58d04be-e07b-11e8-a0b0-0088653b14b4\"}, {\"name\": \"366584a8e7f6c2\", \"showlegend\": false, \"x\": [0.0], \"y\": [28], \"type\": \"scatter\", \"uid\": \"a58d05b8-e07b-11e8-8ba4-0088653b14b4\"}, {\"name\": \"0a0ac6bb57bcbe\", \"showlegend\": false, \"x\": [0.0], \"y\": [48], \"type\": \"scatter\", \"uid\": \"a58d06a8-e07b-11e8-9e89-0088653b14b4\"}, {\"name\": \"a43f6f6ab92f53\", \"showlegend\": false, \"x\": [388.2], \"y\": [30], \"type\": \"scatter\", \"uid\": \"a58d07a2-e07b-11e8-aa49-0088653b14b4\"}, {\"name\": \"79a8da3ffa6fb3\", \"showlegend\": false, \"x\": [620.7], \"y\": [28], \"type\": \"scatter\", \"uid\": \"a58d089c-e07b-11e8-a72e-0088653b14b4\"}, {\"name\": \"aef5b9988568c0\", \"showlegend\": false, \"x\": [219.4], \"y\": [26], \"type\": \"scatter\", \"uid\": \"a58d0998-e07b-11e8-95f1-0088653b14b4\"}, {\"name\": \"70d1ced81b4065\", \"showlegend\": false, \"x\": [97.52], \"y\": [16], \"type\": \"scatter\", \"uid\": \"a58d0a90-e07b-11e8-8937-0088653b14b4\"}, {\"name\": \"06a150a5c5f03c\", \"showlegend\": false, \"x\": [653.6], \"y\": [28], \"type\": \"scatter\", \"uid\": \"a58d0bba-e07b-11e8-81db-0088653b14b4\"}, {\"name\": \"316ec5fbde673e\", \"showlegend\": false, \"x\": [233.3], \"y\": [26], \"type\": \"scatter\", \"uid\": \"a58d0cd4-e07b-11e8-b4d4-0088653b14b4\"}, {\"name\": \"51b9cb5c29ca8f\", \"showlegend\": false, \"x\": [219.9], \"y\": [96], \"type\": \"scatter\", \"uid\": \"a58d0dcc-e07b-11e8-b753-0088653b14b4\"}, {\"name\": \"f55c0800fc5204\", \"showlegend\": false, \"x\": [0.0], \"y\": [96], \"type\": \"scatter\", \"uid\": \"a58d0ebe-e07b-11e8-bdd7-0088653b14b4\"}, {\"name\": \"93ba4aded4a2cf\", \"showlegend\": false, \"x\": [46.21], \"y\": [28], \"type\": \"scatter\", \"uid\": \"a58d0fb8-e07b-11e8-807c-0088653b14b4\"}, {\"name\": \"2f09f45ec5f4df\", \"showlegend\": false, \"x\": [155.1], \"y\": [31], \"type\": \"scatter\", \"uid\": \"a58d10b4-e07b-11e8-b4ca-0088653b14b4\"}, {\"name\": \"85f1f8a4ae7c97\", \"showlegend\": false, \"x\": [100.8], \"y\": [47], \"type\": \"scatter\", \"uid\": \"a58d11ac-e07b-11e8-b16e-0088653b14b4\"}, {\"name\": \"514033b9b53e7f\", \"showlegend\": false, \"x\": [0.0], \"y\": [50], \"type\": \"scatter\", \"uid\": \"a58d12a6-e07b-11e8-9af0-0088653b14b4\"}, {\"name\": \"4d1a7d20778d7e\", \"showlegend\": false, \"x\": [51.23], \"y\": [49], \"type\": \"scatter\", \"uid\": \"a58d139e-e07b-11e8-9d57-0088653b14b4\"}, {\"name\": \"7759652a5a8417\", \"showlegend\": false, \"x\": [84.06], \"y\": [98], \"type\": \"scatter\", \"uid\": \"a58d149a-e07b-11e8-84b8-0088653b14b4\"}, {\"name\": \"fd8f1612d0b036\", \"showlegend\": false, \"x\": [0.0], \"y\": [28], \"type\": \"scatter\", \"uid\": \"a58d158a-e07b-11e8-8d26-0088653b14b4\"}, {\"name\": \"f5515a782a2478\", \"showlegend\": false, \"x\": [130.1], \"y\": [28], \"type\": \"scatter\", \"uid\": \"a58d1686-e07b-11e8-ad90-0088653b14b4\"}, {\"name\": \"90b4887a39c8aa\", \"showlegend\": false, \"x\": [0.0], \"y\": [94], \"type\": \"scatter\", \"uid\": \"a58d1774-e07b-11e8-bf20-0088653b14b4\"}, {\"name\": \"fdcb42db5146fb\", \"showlegend\": false, \"x\": [0.0], \"y\": [94], \"type\": \"scatter\", \"uid\": \"a58d18f0-e07b-11e8-b232-0088653b14b4\"}, {\"name\": \"88e6b0fcdcf137\", \"showlegend\": false, \"x\": [186.6], \"y\": [100], \"type\": \"scatter\", \"uid\": \"a58d19e8-e07b-11e8-9c9c-0088653b14b4\"}, {\"name\": \"c4b8164ef5d8ee\", \"showlegend\": false, \"x\": [136.0], \"y\": [28], \"type\": \"scatter\", \"uid\": \"a58d1ada-e07b-11e8-9cb1-0088653b14b4\"}, {\"name\": \"8b4abd673de9e2\", \"showlegend\": false, \"x\": [0.0], \"y\": [28], \"type\": \"scatter\", \"uid\": \"a58d1bc0-e07b-11e8-bf15-0088653b14b4\"}, {\"name\": \"634b6e1b20dc8e\", \"showlegend\": false, \"x\": [100.0], \"y\": [96], \"type\": \"scatter\", \"uid\": \"a58d1cb0-e07b-11e8-9ac1-0088653b14b4\"}, {\"name\": \"aa025cac8e4879\", \"showlegend\": false, \"x\": [323.4], \"y\": [97], \"type\": \"scatter\", \"uid\": \"a58d1d98-e07b-11e8-8602-0088653b14b4\"}, {\"name\": \"662eda44cabdcb\", \"showlegend\": false, \"x\": [75.0], \"y\": [97], \"type\": \"scatter\", \"uid\": \"a58d1e86-e07b-11e8-9abf-0088653b14b4\"}, {\"name\": \"1d27c1add7c542\", \"showlegend\": false, \"x\": [1127.0], \"y\": [48], \"type\": \"scatter\", \"uid\": \"a58d1f6c-e07b-11e8-aa15-0088653b14b4\"}, {\"name\": \"a15a2a49009a8d\", \"showlegend\": false, \"x\": [100.0], \"y\": [96], \"type\": \"scatter\", \"uid\": \"a58d205c-e07b-11e8-9516-0088653b14b4\"}, {\"name\": \"191fafc85c5342\", \"showlegend\": false, \"x\": [142.4], \"y\": [30], \"type\": \"scatter\", \"uid\": \"a58d21a6-e07b-11e8-913e-0088653b14b4\"}, {\"name\": \"6eec22e503ff13\", \"showlegend\": false, \"x\": [446.7], \"y\": [50], \"type\": \"scatter\", \"uid\": \"a58d229e-e07b-11e8-a78d-0088653b14b4\"}, {\"name\": \"8ad4061ccd8ac5\", \"showlegend\": false, \"x\": [316.9], \"y\": [27], \"type\": \"scatter\", \"uid\": \"a58d2390-e07b-11e8-8e71-0088653b14b4\"}, {\"name\": \"b1e409454574e8\", \"showlegend\": false, \"x\": [200.0], \"y\": [47], \"type\": \"scatter\", \"uid\": \"a58d248a-e07b-11e8-b7b6-0088653b14b4\"}, {\"name\": \"41d52195d695dc\", \"showlegend\": false, \"x\": [29.84], \"y\": [29], \"type\": \"scatter\", \"uid\": \"a58d264c-e07b-11e8-aa57-0088653b14b4\"}, {\"name\": \"47b3b9511dfc84\", \"showlegend\": false, \"x\": [114.7], \"y\": [25], \"type\": \"scatter\", \"uid\": \"a58d278c-e07b-11e8-a964-0088653b14b4\"}, {\"name\": \"09ce41b72bc67f\", \"showlegend\": false, \"x\": [27.48], \"y\": [48], \"type\": \"scatter\", \"uid\": \"a58d2958-e07b-11e8-b9f3-0088653b14b4\"}, {\"name\": \"ab0807deea9fa1\", \"showlegend\": false, \"x\": [0.0], \"y\": [49], \"type\": \"scatter\", \"uid\": \"a58d2c1e-e07b-11e8-b64c-0088653b14b4\"}, {\"name\": \"1e9d0cc3331ad8\", \"showlegend\": false, \"x\": [0.0], \"y\": [27], \"type\": \"scatter\", \"uid\": \"a58d2dae-e07b-11e8-bb35-0088653b14b4\"}, {\"name\": \"9b9c449760fb6c\", \"showlegend\": false, \"x\": [0.0], \"y\": [86], \"type\": \"scatter\", \"uid\": \"a58d2ed0-e07b-11e8-9c2a-0088653b14b4\"}, {\"name\": \"9e4605acacd0d7\", \"showlegend\": false, \"x\": [0.0], \"y\": [27], \"type\": \"scatter\", \"uid\": \"a58d2fca-e07b-11e8-90a1-0088653b14b4\"}, {\"name\": \"55533dbe8ebfcc\", \"showlegend\": false, \"x\": [105.3], \"y\": [29], \"type\": \"scatter\", \"uid\": \"a58d30cc-e07b-11e8-90e4-0088653b14b4\"}, {\"name\": \"4ecc1d5d062125\", \"showlegend\": false, \"x\": [100.0], \"y\": [90], \"type\": \"scatter\", \"uid\": \"a58d31c8-e07b-11e8-ab6a-0088653b14b4\"}, {\"name\": \"3e59d94725b544\", \"showlegend\": false, \"x\": [321.8], \"y\": [29], \"type\": \"scatter\", \"uid\": \"a58d3330-e07b-11e8-8d59-0088653b14b4\"}, {\"name\": \"df6f28f7a401a2\", \"showlegend\": false, \"x\": [0.0], \"y\": [28], \"type\": \"scatter\", \"uid\": \"a58d3434-e07b-11e8-b101-0088653b14b4\"}, {\"name\": \"33155d20c15572\", \"showlegend\": false, \"x\": [100.0], \"y\": [29], \"type\": \"scatter\", \"uid\": \"a58d3538-e07b-11e8-a6eb-0088653b14b4\"}, {\"name\": \"1ad25c71702e3c\", \"showlegend\": false, \"x\": [0.0], \"y\": [48], \"type\": \"scatter\", \"uid\": \"a58d3634-e07b-11e8-abfc-0088653b14b4\"}, {\"name\": \"e2b350f8f06201\", \"showlegend\": false, \"x\": [0.0], \"y\": [49], \"type\": \"scatter\", \"uid\": \"a58d3768-e07b-11e8-8031-0088653b14b4\"}, {\"name\": \"e9cb300f680cc0\", \"showlegend\": false, \"x\": [383.2], \"y\": [95], \"type\": \"scatter\", \"uid\": \"a58d3876-e07b-11e8-bda2-0088653b14b4\"}, {\"name\": \"acebbf30827f98\", \"showlegend\": false, \"x\": [137.3], \"y\": [30], \"type\": \"scatter\", \"uid\": \"a58d3970-e07b-11e8-994b-0088653b14b4\"}, {\"name\": \"0ab67d8ec7b030\", \"showlegend\": false, \"x\": [133.8], \"y\": [28], \"type\": \"scatter\", \"uid\": \"a58d3a68-e07b-11e8-b108-0088653b14b4\"}, {\"name\": \"61ea3d0004eef9\", \"showlegend\": false, \"x\": [460.0], \"y\": [25], \"type\": \"scatter\", \"uid\": \"a58d3b64-e07b-11e8-bc73-0088653b14b4\"}, {\"name\": \"30415b09ace8f2\", \"showlegend\": false, \"x\": [200.0], \"y\": [27], \"type\": \"scatter\", \"uid\": \"a58d3c54-e07b-11e8-bd39-0088653b14b4\"}, {\"name\": \"8bd542c4898ab8\", \"showlegend\": false, \"x\": [0.0], \"y\": [27], \"type\": \"scatter\", \"uid\": \"a58d3de4-e07b-11e8-81bf-0088653b14b4\"}, {\"name\": \"336850794931c3\", \"showlegend\": false, \"x\": [81.0], \"y\": [28], \"type\": \"scatter\", \"uid\": \"a58d3f88-e07b-11e8-ad46-0088653b14b4\"}, {\"name\": \"66ff741d9e11a7\", \"showlegend\": false, \"x\": [42.96], \"y\": [26], \"type\": \"scatter\", \"uid\": \"a58d4098-e07b-11e8-9a60-0088653b14b4\"}, {\"name\": \"434b7215686d15\", \"showlegend\": false, \"x\": [0.0], \"y\": [49], \"type\": \"scatter\", \"uid\": \"a58d4190-e07b-11e8-bd5f-0088653b14b4\"}, {\"name\": \"128cbf304b8e67\", \"showlegend\": false, \"x\": [176.0], \"y\": [97], \"type\": \"scatter\", \"uid\": \"a58d428a-e07b-11e8-b452-0088653b14b4\"}, {\"name\": \"91ac9472b7f40a\", \"showlegend\": false, \"x\": [0.0], \"y\": [49], \"type\": \"scatter\", \"uid\": \"a58d4386-e07b-11e8-8c43-0088653b14b4\"}, {\"name\": \"8ebf937298e2f8\", \"showlegend\": false, \"x\": [0.0], \"y\": [49], \"type\": \"scatter\", \"uid\": \"a58d447e-e07b-11e8-a3c2-0088653b14b4\"}, {\"name\": \"03114ba92f81fc\", \"showlegend\": false, \"x\": [0.0], \"y\": [47], \"type\": \"scatter\", \"uid\": \"a58d45b4-e07b-11e8-a603-0088653b14b4\"}, {\"name\": \"d8c1bb57ab00e1\", \"showlegend\": false, \"x\": [0.0], \"y\": [96], \"type\": \"scatter\", \"uid\": \"a58d46c2-e07b-11e8-87ab-0088653b14b4\"}, {\"name\": \"bd0a5e311842f2\", \"showlegend\": false, \"x\": [503.1], \"y\": [26], \"type\": \"scatter\", \"uid\": \"a58d47ba-e07b-11e8-8040-0088653b14b4\"}, {\"name\": \"e2950da535fae4\", \"showlegend\": false, \"x\": [0.0], \"y\": [29], \"type\": \"scatter\", \"uid\": \"a58d48b6-e07b-11e8-b40d-0088653b14b4\"}, {\"name\": \"5cbbc113556c76\", \"showlegend\": false, \"x\": [122.0], \"y\": [28], \"type\": \"scatter\", \"uid\": \"a58d49b0-e07b-11e8-bcff-0088653b14b4\"}, {\"name\": \"bf3f5963fee697\", \"showlegend\": false, \"x\": [179.4], \"y\": [29], \"type\": \"scatter\", \"uid\": \"a58d4aa8-e07b-11e8-a151-0088653b14b4\"}, {\"name\": \"8aba633052dc07\", \"showlegend\": false, \"x\": [0.0], \"y\": [27], \"type\": \"scatter\", \"uid\": \"a58d4ba4-e07b-11e8-b8ee-0088653b14b4\"}, {\"name\": \"27a5f9687671bc\", \"showlegend\": false, \"x\": [90.21], \"y\": [97], \"type\": \"scatter\", \"uid\": \"a58d4c94-e07b-11e8-8841-0088653b14b4\"}, {\"name\": \"ed4ece608e23ec\", \"showlegend\": false, \"x\": [361.3], \"y\": [47], \"type\": \"scatter\", \"uid\": \"a58d4d8c-e07b-11e8-a820-0088653b14b4\"}, {\"name\": \"c8fdc72204b59b\", \"showlegend\": false, \"x\": [160.6], \"y\": [47], \"type\": \"scatter\", \"uid\": \"a58d4e7e-e07b-11e8-9f7e-0088653b14b4\"}, {\"name\": \"0a5770018947cd\", \"showlegend\": false, \"x\": [318.6], \"y\": [49], \"type\": \"scatter\", \"uid\": \"a58d4f78-e07b-11e8-a350-0088653b14b4\"}, {\"name\": \"477736adf06ec9\", \"showlegend\": false, \"x\": [134.0], \"y\": [27], \"type\": \"scatter\", \"uid\": \"a58d50f4-e07b-11e8-907f-0088653b14b4\"}, {\"name\": \"ea60c8294b22ec\", \"showlegend\": false, \"x\": [0.0], \"y\": [28], \"type\": \"scatter\", \"uid\": \"a58d52a2-e07b-11e8-be3d-0088653b14b4\"}, {\"name\": \"3eec10eeba66da\", \"showlegend\": false, \"x\": [100.0], \"y\": [25], \"type\": \"scatter\", \"uid\": \"a58d5482-e07b-11e8-b583-0088653b14b4\"}, {\"name\": \"4258a6818558c1\", \"showlegend\": false, \"x\": [35.46], \"y\": [29], \"type\": \"scatter\", \"uid\": \"a58d56ba-e07b-11e8-aa06-0088653b14b4\"}, {\"name\": \"b4ce8f76a82e33\", \"showlegend\": false, \"x\": [0.0], \"y\": [95], \"type\": \"scatter\", \"uid\": \"a58d5888-e07b-11e8-9752-0088653b14b4\"}, {\"name\": \"daa65cd93a511c\", \"showlegend\": false, \"x\": [0.0], \"y\": [24], \"type\": \"scatter\", \"uid\": \"a58d5a0c-e07b-11e8-a0f4-0088653b14b4\"}, {\"name\": \"e82ef9c0012b40\", \"showlegend\": false, \"x\": [107.0], \"y\": [92], \"type\": \"scatter\", \"uid\": \"a58d5b12-e07b-11e8-8263-0088653b14b4\"}, {\"name\": \"ed53a14e3395e2\", \"showlegend\": false, \"x\": [224.0], \"y\": [48], \"type\": \"scatter\", \"uid\": \"a58d5c18-e07b-11e8-8c97-0088653b14b4\"}, {\"name\": \"ae002541f541ce\", \"showlegend\": false, \"x\": [25.38], \"y\": [94], \"type\": \"scatter\", \"uid\": \"a58d5d10-e07b-11e8-9f71-0088653b14b4\"}, {\"name\": \"e5519d8d881f79\", \"showlegend\": false, \"x\": [0.0], \"y\": [26], \"type\": \"scatter\", \"uid\": \"a58d5e0a-e07b-11e8-93c3-0088653b14b4\"}, {\"name\": \"aad518faafc6c5\", \"showlegend\": false, \"x\": [565.5], \"y\": [28], \"type\": \"scatter\", \"uid\": \"a58d5f06-e07b-11e8-b650-0088653b14b4\"}, {\"name\": \"01e63a720784d9\", \"showlegend\": false, \"x\": [91.14], \"y\": [28], \"type\": \"scatter\", \"uid\": \"a58d5ffe-e07b-11e8-8bb8-0088653b14b4\"}, {\"name\": \"08e1012e1f4fad\", \"showlegend\": false, \"x\": [136.4], \"y\": [30], \"type\": \"scatter\", \"uid\": \"a58d60f8-e07b-11e8-943a-0088653b14b4\"}, {\"name\": \"0b1db53f7e2aad\", \"showlegend\": false, \"x\": [127.3], \"y\": [24], \"type\": \"scatter\", \"uid\": \"a58d61f4-e07b-11e8-a595-0088653b14b4\"}, {\"name\": \"77d4ca39df5db8\", \"showlegend\": false, \"x\": [198.9], \"y\": [96], \"type\": \"scatter\", \"uid\": \"a58d62ec-e07b-11e8-a1e1-0088653b14b4\"}, {\"name\": \"83888e01f7e0bf\", \"showlegend\": false, \"x\": [100.0], \"y\": [29], \"type\": \"scatter\", \"uid\": \"a58d642c-e07b-11e8-b757-0088653b14b4\"}, {\"name\": \"31d24de56b0457\", \"showlegend\": false, \"x\": [85.02], \"y\": [48], \"type\": \"scatter\", \"uid\": \"a58d6546-e07b-11e8-8f82-0088653b14b4\"}, {\"name\": \"f7f55bd7627668\", \"showlegend\": false, \"x\": [0.0], \"y\": [21], \"type\": \"scatter\", \"uid\": \"a58d6634-e07b-11e8-8f36-0088653b14b4\"}, {\"name\": \"e7c029ad164dcc\", \"showlegend\": false, \"x\": [763.7], \"y\": [27], \"type\": \"scatter\", \"uid\": \"a58d68be-e07b-11e8-9520-0088653b14b4\"}, {\"name\": \"e8bcec4b66e678\", \"showlegend\": false, \"x\": [6.316], \"y\": [42], \"type\": \"scatter\", \"uid\": \"a58d6a62-e07b-11e8-9562-0088653b14b4\"}, {\"name\": \"bc30260a39e37c\", \"showlegend\": false, \"x\": [64.36], \"y\": [49], \"type\": \"scatter\", \"uid\": \"a58d6b70-e07b-11e8-a020-0088653b14b4\"}, {\"name\": \"95803263079b59\", \"showlegend\": false, \"x\": [0.0], \"y\": [97], \"type\": \"scatter\", \"uid\": \"a58d6c68-e07b-11e8-9de6-0088653b14b4\"}, {\"name\": \"aaa85ec0fa158e\", \"showlegend\": false, \"x\": [0.0], \"y\": [25], \"type\": \"scatter\", \"uid\": \"a58d6d64-e07b-11e8-92bb-0088653b14b4\"}, {\"name\": \"a1d549b5f961b2\", \"showlegend\": false, \"x\": [49.47], \"y\": [28], \"type\": \"scatter\", \"uid\": \"a58d6e5e-e07b-11e8-baae-0088653b14b4\"}, {\"name\": \"c29ab5d4c4882d\", \"showlegend\": false, \"x\": [65.93], \"y\": [47], \"type\": \"scatter\", \"uid\": \"a58d6f58-e07b-11e8-8818-0088653b14b4\"}, {\"name\": \"074f2c836b409a\", \"showlegend\": false, \"x\": [200.7], \"y\": [28], \"type\": \"scatter\", \"uid\": \"a58d7048-e07b-11e8-a8d9-0088653b14b4\"}, {\"name\": \"c3def469a81f71\", \"showlegend\": false, \"x\": [0.0], \"y\": [28], \"type\": \"scatter\", \"uid\": \"a58d7142-e07b-11e8-b9d3-0088653b14b4\"}, {\"name\": \"83119dca7b7be5\", \"showlegend\": false, \"x\": [28.48], \"y\": [27], \"type\": \"scatter\", \"uid\": \"a58d72f0-e07b-11e8-bf7f-0088653b14b4\"}, {\"name\": \"c1a3ba87b4c153\", \"showlegend\": false, \"x\": [40.85], \"y\": [49], \"type\": \"scatter\", \"uid\": \"a58d74d0-e07b-11e8-8eda-0088653b14b4\"}, {\"name\": \"d212982ca98b8b\", \"showlegend\": false, \"x\": [70.73], \"y\": [90], \"type\": \"scatter\", \"uid\": \"a58d75e8-e07b-11e8-bbd2-0088653b14b4\"}, {\"name\": \"6001f54f5386a9\", \"showlegend\": false, \"x\": [0.0], \"y\": [30], \"type\": \"scatter\", \"uid\": \"a58d76e2-e07b-11e8-ad6b-0088653b14b4\"}, {\"name\": \"5427953aaada63\", \"showlegend\": false, \"x\": [0.0], \"y\": [49], \"type\": \"scatter\", \"uid\": \"a58d77dc-e07b-11e8-9f31-0088653b14b4\"}, {\"name\": \"24e3f6f83e523a\", \"showlegend\": false, \"x\": [269.4], \"y\": [95], \"type\": \"scatter\", \"uid\": \"a58d78cc-e07b-11e8-8ea1-0088653b14b4\"}, {\"name\": \"76fdfff3e3073a\", \"showlegend\": false, \"x\": [279.9], \"y\": [30], \"type\": \"scatter\", \"uid\": \"a58d79c6-e07b-11e8-ad25-0088653b14b4\"}, {\"name\": \"e2529e9f5499e9\", \"showlegend\": false, \"x\": [480.0], \"y\": [28], \"type\": \"scatter\", \"uid\": \"a58d7aca-e07b-11e8-b1f9-0088653b14b4\"}, {\"name\": \"c45f2b1142e5a6\", \"showlegend\": false, \"x\": [217.2], \"y\": [46], \"type\": \"scatter\", \"uid\": \"a58d7bc6-e07b-11e8-a011-0088653b14b4\"}, {\"name\": \"ba4d49cb0b94f9\", \"showlegend\": false, \"x\": [25.93], \"y\": [93], \"type\": \"scatter\", \"uid\": \"a58d7cbe-e07b-11e8-9709-0088653b14b4\"}, {\"name\": \"57d7cdc093afa3\", \"showlegend\": false, \"x\": [177.4], \"y\": [29], \"type\": \"scatter\", \"uid\": \"a58d7db8-e07b-11e8-81d0-0088653b14b4\"}, {\"name\": \"ab6b2c91a6c27c\", \"showlegend\": false, \"x\": [91.0], \"y\": [30], \"type\": \"scatter\", \"uid\": \"a58d7eb4-e07b-11e8-b2f2-0088653b14b4\"}, {\"name\": \"72e1c1fa067673\", \"showlegend\": false, \"x\": [10.88], \"y\": [49], \"type\": \"scatter\", \"uid\": \"a58d7fca-e07b-11e8-af8d-0088653b14b4\"}, {\"name\": \"735f41a9880da6\", \"showlegend\": false, \"x\": [9.799], \"y\": [48], \"type\": \"scatter\", \"uid\": \"a58d8182-e07b-11e8-9ec4-0088653b14b4\"}, {\"name\": \"520e7609bec9e3\", \"showlegend\": false, \"x\": [0.0], \"y\": [49], \"type\": \"scatter\", \"uid\": \"a58d8380-e07b-11e8-9266-0088653b14b4\"}, {\"name\": \"7f23108a43a2c0\", \"showlegend\": false, \"x\": [187.6], \"y\": [48], \"type\": \"scatter\", \"uid\": \"a58d8568-e07b-11e8-827e-0088653b14b4\"}, {\"name\": \"fd8723ea1af754\", \"showlegend\": false, \"x\": [120.7], \"y\": [100], \"type\": \"scatter\", \"uid\": \"a58d8740-e07b-11e8-8079-0088653b14b4\"}, {\"name\": \"d94e815fb93d1e\", \"showlegend\": false, \"x\": [76.8], \"y\": [28], \"type\": \"scatter\", \"uid\": \"a58d8918-e07b-11e8-a351-0088653b14b4\"}, {\"name\": \"9630dcca4bb62d\", \"showlegend\": false, \"x\": [132.5], \"y\": [49], \"type\": \"scatter\", \"uid\": \"a58d8ad8-e07b-11e8-9883-0088653b14b4\"}, {\"name\": \"245388fc6d52b6\", \"showlegend\": false, \"x\": [275.7], \"y\": [29], \"type\": \"scatter\", \"uid\": \"a58d8c9a-e07b-11e8-9482-0088653b14b4\"}, {\"name\": \"80d67986c25abe\", \"showlegend\": false, \"x\": [330.1], \"y\": [26], \"type\": \"scatter\", \"uid\": \"a58d8e52-e07b-11e8-a83b-0088653b14b4\"}, {\"name\": \"0e1b55b0550739\", \"showlegend\": false, \"x\": [156.8], \"y\": [28], \"type\": \"scatter\", \"uid\": \"a58d9000-e07b-11e8-8ce0-0088653b14b4\"}, {\"name\": \"5574ba9ff418d2\", \"showlegend\": false, \"x\": [0.0], \"y\": [30], \"type\": \"scatter\", \"uid\": \"a58d91ae-e07b-11e8-b4d8-0088653b14b4\"}, {\"name\": \"afb98295726aff\", \"showlegend\": false, \"x\": [48.15], \"y\": [28], \"type\": \"scatter\", \"uid\": \"a58d9370-e07b-11e8-b341-0088653b14b4\"}, {\"name\": \"31b67a5b1bb879\", \"showlegend\": false, \"x\": [46.8], \"y\": [30], \"type\": \"scatter\", \"uid\": \"a58d9534-e07b-11e8-9211-0088653b14b4\"}, {\"name\": \"0b41004783666c\", \"showlegend\": false, \"x\": [246.0], \"y\": [28], \"type\": \"scatter\", \"uid\": \"a58d96e8-e07b-11e8-b8d3-0088653b14b4\"}, {\"name\": \"6c0b5819c0731d\", \"showlegend\": false, \"x\": [0.0], \"y\": [96], \"type\": \"scatter\", \"uid\": \"a58d97f8-e07b-11e8-af4e-0088653b14b4\"}, {\"name\": \"d609ea9b928fcd\", \"showlegend\": false, \"x\": [0.0], \"y\": [26], \"type\": \"scatter\", \"uid\": \"a58d9938-e07b-11e8-a9bd-0088653b14b4\"}, {\"name\": \"a390770978b252\", \"showlegend\": false, \"x\": [341.3], \"y\": [97], \"type\": \"scatter\", \"uid\": \"a58d9a46-e07b-11e8-9c88-0088653b14b4\"}, {\"name\": \"9a362da7f46b29\", \"showlegend\": false, \"x\": [295.7], \"y\": [32], \"type\": \"scatter\", \"uid\": \"a58d9b40-e07b-11e8-a14c-0088653b14b4\"}, {\"name\": \"fde5ecf265a104\", \"showlegend\": false, \"x\": [283.5], \"y\": [29], \"type\": \"scatter\", \"uid\": \"a58d9c3a-e07b-11e8-becb-0088653b14b4\"}, {\"name\": \"556a71020e4ac2\", \"showlegend\": false, \"x\": [356.5], \"y\": [26], \"type\": \"scatter\", \"uid\": \"a58d9d34-e07b-11e8-a5f0-0088653b14b4\"}, {\"name\": \"a317e2025f8648\", \"showlegend\": false, \"x\": [512.3], \"y\": [48], \"type\": \"scatter\", \"uid\": \"a58d9e2e-e07b-11e8-b40e-0088653b14b4\"}, {\"name\": \"25c029f884c3a0\", \"showlegend\": false, \"x\": [126.5], \"y\": [97], \"type\": \"scatter\", \"uid\": \"a58d9f1e-e07b-11e8-84d8-0088653b14b4\"}, {\"name\": \"c1b8e8629bbdf7\", \"showlegend\": false, \"x\": [42.46], \"y\": [28], \"type\": \"scatter\", \"uid\": \"a58da018-e07b-11e8-af2b-0088653b14b4\"}, {\"name\": \"0744ce9d82d69e\", \"showlegend\": false, \"x\": [195.2], \"y\": [46], \"type\": \"scatter\", \"uid\": \"a58da112-e07b-11e8-85ee-0088653b14b4\"}, {\"name\": \"54395c9be724ac\", \"showlegend\": false, \"x\": [95.88], \"y\": [50], \"type\": \"scatter\", \"uid\": \"a58da218-e07b-11e8-b3c0-0088653b14b4\"}, {\"name\": \"095264207fff56\", \"showlegend\": false, \"x\": [75.87], \"y\": [30], \"type\": \"scatter\", \"uid\": \"a58da362-e07b-11e8-8dbb-0088653b14b4\"}, {\"name\": \"e5a13c85155557\", \"showlegend\": false, \"x\": [0.0], \"y\": [44], \"type\": \"scatter\", \"uid\": \"a58da45a-e07b-11e8-b067-0088653b14b4\"}, {\"name\": \"e68e9fb7c42403\", \"showlegend\": false, \"x\": [0.0], \"y\": [48], \"type\": \"scatter\", \"uid\": \"a58da554-e07b-11e8-813c-0088653b14b4\"}, {\"name\": \"fa61a5e5ba5ad8\", \"showlegend\": false, \"x\": [28.03], \"y\": [29], \"type\": \"scatter\", \"uid\": \"a58da680-e07b-11e8-a2ba-0088653b14b4\"}, {\"name\": \"5431ff0cb760e8\", \"showlegend\": false, \"x\": [287.6], \"y\": [49], \"type\": \"scatter\", \"uid\": \"a58da78c-e07b-11e8-82c9-0088653b14b4\"}, {\"name\": \"3dcd33b191eb10\", \"showlegend\": false, \"x\": [100.0], \"y\": [26], \"type\": \"scatter\", \"uid\": \"a58da888-e07b-11e8-bb82-0088653b14b4\"}, {\"name\": \"ae4b2d32fa3598\", \"showlegend\": false, \"x\": [200.0], \"y\": [98], \"type\": \"scatter\", \"uid\": \"a58da982-e07b-11e8-ba1e-0088653b14b4\"}, {\"name\": \"309b10e2526a5a\", \"showlegend\": false, \"x\": [174.7], \"y\": [94], \"type\": \"scatter\", \"uid\": \"a58daa90-e07b-11e8-ae83-0088653b14b4\"}, {\"name\": \"9af9c3e98ae8f7\", \"showlegend\": false, \"x\": [95.1], \"y\": [31], \"type\": \"scatter\", \"uid\": \"a58dabd0-e07b-11e8-9ee2-0088653b14b4\"}, {\"name\": \"1b5334e9b12c85\", \"showlegend\": false, \"x\": [91.36], \"y\": [30], \"type\": \"scatter\", \"uid\": \"a58dacd4-e07b-11e8-9699-0088653b14b4\"}], {\"legend\": {\"orientation\": \"h\"}, \"title\": \"Killing is Winning?\", \"xaxis\": {\"title\": \"Damage (Higher is Better)\"}, \"yaxis\": {\"title\": \"Rank (Lower is Better)\"}}, {\"showLink\": true, \"linkText\": \"Export to plot.ly\"})});</script>"
      ],
      "text/vnd.plotly.v1+html": [
       "<div id=\"4fe69a20-49d6-4c63-8e0c-1211d9910a9f\" style=\"height: 525px; width: 100%;\" class=\"plotly-graph-div\"></div><script type=\"text/javascript\">require([\"plotly\"], function(Plotly) { window.PLOTLYENV=window.PLOTLYENV || {};window.PLOTLYENV.BASE_URL=\"https://plot.ly\";Plotly.newPlot(\"4fe69a20-49d6-4c63-8e0c-1211d9910a9f\", [{\"name\": \"c578e4d0dbc98b\", \"showlegend\": false, \"x\": [0.0], \"y\": [28], \"type\": \"scatter\", \"uid\": \"a58cc0b4-e07b-11e8-b95c-0088653b14b4\"}, {\"name\": \"0b57bf9f8c593b\", \"showlegend\": false, \"x\": [28.38], \"y\": [28], \"type\": \"scatter\", \"uid\": \"a58cc2ba-e07b-11e8-af0c-0088653b14b4\"}, {\"name\": \"fc71536a17b2e2\", \"showlegend\": false, \"x\": [157.2], \"y\": [48], \"type\": \"scatter\", \"uid\": \"a58cc3d2-e07b-11e8-9522-0088653b14b4\"}, {\"name\": \"7ee673d4f9d977\", \"showlegend\": false, \"x\": [251.5], \"y\": [26], \"type\": \"scatter\", \"uid\": \"a58cc4d8-e07b-11e8-846b-0088653b14b4\"}, {\"name\": \"0a9f5227314bbb\", \"showlegend\": false, \"x\": [0.0], \"y\": [28], \"type\": \"scatter\", \"uid\": \"a58cc5c6-e07b-11e8-a881-0088653b14b4\"}, {\"name\": \"df7aefcd8a75e3\", \"showlegend\": false, \"x\": [98.53], \"y\": [29], \"type\": \"scatter\", \"uid\": \"a58cc6ac-e07b-11e8-bd38-0088653b14b4\"}, {\"name\": \"e7f625f277bc52\", \"showlegend\": false, \"x\": [0.0], \"y\": [45], \"type\": \"scatter\", \"uid\": \"a58cc79c-e07b-11e8-9e24-0088653b14b4\"}, {\"name\": \"ba65a95ab6d515\", \"showlegend\": false, \"x\": [139.3], \"y\": [49], \"type\": \"scatter\", \"uid\": \"a58cc88c-e07b-11e8-b786-0088653b14b4\"}, {\"name\": \"17cebdc60befd7\", \"showlegend\": false, \"x\": [210.4], \"y\": [27], \"type\": \"scatter\", \"uid\": \"a58cc974-e07b-11e8-9302-0088653b14b4\"}, {\"name\": \"fbf7ad5f302bdc\", \"showlegend\": false, \"x\": [21.85], \"y\": [96], \"type\": \"scatter\", \"uid\": \"a58cca62-e07b-11e8-997f-0088653b14b4\"}, {\"name\": \"c5029a9370d6eb\", \"showlegend\": false, \"x\": [47.97], \"y\": [27], \"type\": \"scatter\", \"uid\": \"a58ccb48-e07b-11e8-9d4e-0088653b14b4\"}, {\"name\": \"ddf94bb108a308\", \"showlegend\": false, \"x\": [0.0], \"y\": [87], \"type\": \"scatter\", \"uid\": \"a58ccc74-e07b-11e8-8149-0088653b14b4\"}, {\"name\": \"5c1bc6783f3927\", \"showlegend\": false, \"x\": [264.5], \"y\": [48], \"type\": \"scatter\", \"uid\": \"a58ccd78-e07b-11e8-8f67-0088653b14b4\"}, {\"name\": \"7c225a0a108370\", \"showlegend\": false, \"x\": [71.54], \"y\": [31], \"type\": \"scatter\", \"uid\": \"a58cce68-e07b-11e8-b558-0088653b14b4\"}, {\"name\": \"c6353a77e1c78f\", \"showlegend\": false, \"x\": [169.5], \"y\": [47], \"type\": \"scatter\", \"uid\": \"a58ccf4c-e07b-11e8-a24a-0088653b14b4\"}, {\"name\": \"fa3e39d8a91f81\", \"showlegend\": false, \"x\": [177.2], \"y\": [97], \"type\": \"scatter\", \"uid\": \"a58cd03e-e07b-11e8-99f9-0088653b14b4\"}, {\"name\": \"50a6b80babf569\", \"showlegend\": false, \"x\": [326.2], \"y\": [26], \"type\": \"scatter\", \"uid\": \"a58cd124-e07b-11e8-96b0-0088653b14b4\"}, {\"name\": \"93d47a15d4805e\", \"showlegend\": false, \"x\": [207.6], \"y\": [97], \"type\": \"scatter\", \"uid\": \"a58cd20a-e07b-11e8-abb8-0088653b14b4\"}, {\"name\": \"f2d96351620cbb\", \"showlegend\": false, \"x\": [0.0], \"y\": [45], \"type\": \"scatter\", \"uid\": \"a58cd2f0-e07b-11e8-a58c-0088653b14b4\"}, {\"name\": \"9b78bca20825de\", \"showlegend\": false, \"x\": [115.0], \"y\": [26], \"type\": \"scatter\", \"uid\": \"a58cd3d8-e07b-11e8-b958-0088653b14b4\"}, {\"name\": \"394a8a49652bbf\", \"showlegend\": false, \"x\": [74.07], \"y\": [28], \"type\": \"scatter\", \"uid\": \"a58cd4ba-e07b-11e8-94a3-0088653b14b4\"}, {\"name\": \"07bc8e49c7745c\", \"showlegend\": false, \"x\": [254.4], \"y\": [28], \"type\": \"scatter\", \"uid\": \"a58cd5ac-e07b-11e8-81bb-0088653b14b4\"}, {\"name\": \"15b06a1c894b01\", \"showlegend\": false, \"x\": [219.3], \"y\": [28], \"type\": \"scatter\", \"uid\": \"a58cd692-e07b-11e8-9681-0088653b14b4\"}, {\"name\": \"f496fe4be805d7\", \"showlegend\": false, \"x\": [137.7], \"y\": [45], \"type\": \"scatter\", \"uid\": \"a58cd76e-e07b-11e8-ae51-0088653b14b4\"}, {\"name\": \"e0e84287c7b08b\", \"showlegend\": false, \"x\": [631.5], \"y\": [30], \"type\": \"scatter\", \"uid\": \"a58cd890-e07b-11e8-8eba-0088653b14b4\"}, {\"name\": \"fbcee201be5be4\", \"showlegend\": false, \"x\": [311.9], \"y\": [27], \"type\": \"scatter\", \"uid\": \"a58cd98a-e07b-11e8-a289-0088653b14b4\"}, {\"name\": \"73442274e99faf\", \"showlegend\": false, \"x\": [12.3], \"y\": [30], \"type\": \"scatter\", \"uid\": \"a58cda7a-e07b-11e8-9d52-0088653b14b4\"}, {\"name\": \"24d686e6078da6\", \"showlegend\": false, \"x\": [0.0], \"y\": [46], \"type\": \"scatter\", \"uid\": \"a58cdb62-e07b-11e8-be27-0088653b14b4\"}, {\"name\": \"b48987e6ac2e34\", \"showlegend\": false, \"x\": [0.0], \"y\": [31], \"type\": \"scatter\", \"uid\": \"a58cdc50-e07b-11e8-ac33-0088653b14b4\"}, {\"name\": \"5ead29203ea643\", \"showlegend\": false, \"x\": [0.0], \"y\": [28], \"type\": \"scatter\", \"uid\": \"a58cdd36-e07b-11e8-86b4-0088653b14b4\"}, {\"name\": \"ef82c38fb03f5f\", \"showlegend\": false, \"x\": [0.0], \"y\": [96], \"type\": \"scatter\", \"uid\": \"a58cde26-e07b-11e8-a220-0088653b14b4\"}, {\"name\": \"3fdd98b2d11f60\", \"showlegend\": false, \"x\": [0.0], \"y\": [49], \"type\": \"scatter\", \"uid\": \"a58cdf0c-e07b-11e8-bc33-0088653b14b4\"}, {\"name\": \"f338d5784d7e3f\", \"showlegend\": false, \"x\": [129.8], \"y\": [25], \"type\": \"scatter\", \"uid\": \"a58cdff4-e07b-11e8-8a63-0088653b14b4\"}, {\"name\": \"422ca7180615a0\", \"showlegend\": false, \"x\": [51.6], \"y\": [98], \"type\": \"scatter\", \"uid\": \"a58ce0d8-e07b-11e8-a76b-0088653b14b4\"}, {\"name\": \"79e2914938b07d\", \"showlegend\": false, \"x\": [0.0], \"y\": [91], \"type\": \"scatter\", \"uid\": \"a58ce1c8-e07b-11e8-b28b-0088653b14b4\"}, {\"name\": \"e2470869df64a7\", \"showlegend\": false, \"x\": [148.5], \"y\": [26], \"type\": \"scatter\", \"uid\": \"a58ce2ae-e07b-11e8-9afe-0088653b14b4\"}, {\"name\": \"8d60d987ad963b\", \"showlegend\": false, \"x\": [62.87], \"y\": [28], \"type\": \"scatter\", \"uid\": \"a58ce394-e07b-11e8-b6a4-0088653b14b4\"}, {\"name\": \"b63897bde4eaff\", \"showlegend\": false, \"x\": [186.1], \"y\": [25], \"type\": \"scatter\", \"uid\": \"a58ce4ac-e07b-11e8-b27f-0088653b14b4\"}, {\"name\": \"b0f564470b50bc\", \"showlegend\": false, \"x\": [10.62], \"y\": [95], \"type\": \"scatter\", \"uid\": \"a58ce5b0-e07b-11e8-be66-0088653b14b4\"}, {\"name\": \"fe51a82713a67b\", \"showlegend\": false, \"x\": [0.0], \"y\": [28], \"type\": \"scatter\", \"uid\": \"a58ce706-e07b-11e8-a0cc-0088653b14b4\"}, {\"name\": \"a5b570ddacc54c\", \"showlegend\": false, \"x\": [300.0], \"y\": [28], \"type\": \"scatter\", \"uid\": \"a58cea38-e07b-11e8-aaf5-0088653b14b4\"}, {\"name\": \"90937dd595ef2a\", \"showlegend\": false, \"x\": [28.1], \"y\": [47], \"type\": \"scatter\", \"uid\": \"a58cec18-e07b-11e8-bb17-0088653b14b4\"}, {\"name\": \"87e799b1812f76\", \"showlegend\": false, \"x\": [90.3], \"y\": [26], \"type\": \"scatter\", \"uid\": \"a58ced30-e07b-11e8-b5e3-0088653b14b4\"}, {\"name\": \"188391c8933122\", \"showlegend\": false, \"x\": [0.0], \"y\": [94], \"type\": \"scatter\", \"uid\": \"a58ceee8-e07b-11e8-8051-0088653b14b4\"}, {\"name\": \"7f4e66ff52db77\", \"showlegend\": false, \"x\": [0.0], \"y\": [96], \"type\": \"scatter\", \"uid\": \"a58cf0c8-e07b-11e8-911f-0088653b14b4\"}, {\"name\": \"8c7cffac451deb\", \"showlegend\": false, \"x\": [200.0], \"y\": [44], \"type\": \"scatter\", \"uid\": \"a58cf33e-e07b-11e8-b69e-0088653b14b4\"}, {\"name\": \"d7563e52a1f386\", \"showlegend\": false, \"x\": [397.6], \"y\": [45], \"type\": \"scatter\", \"uid\": \"a58cf55a-e07b-11e8-9911-0088653b14b4\"}, {\"name\": \"ce3d9c1de1a87e\", \"showlegend\": false, \"x\": [0.0], \"y\": [28], \"type\": \"scatter\", \"uid\": \"a58cf7b4-e07b-11e8-b7dd-0088653b14b4\"}, {\"name\": \"afda8feca04717\", \"showlegend\": false, \"x\": [195.6], \"y\": [27], \"type\": \"scatter\", \"uid\": \"a58cf938-e07b-11e8-9a8f-0088653b14b4\"}, {\"name\": \"a6b9ca48b6f35c\", \"showlegend\": false, \"x\": [92.76], \"y\": [29], \"type\": \"scatter\", \"uid\": \"a58cfa64-e07b-11e8-bd51-0088653b14b4\"}, {\"name\": \"201566c183567c\", \"showlegend\": false, \"x\": [127.1], \"y\": [29], \"type\": \"scatter\", \"uid\": \"a58cfcf8-e07b-11e8-b1ee-0088653b14b4\"}, {\"name\": \"8d0ccc07bff6e7\", \"showlegend\": false, \"x\": [148.5], \"y\": [49], \"type\": \"scatter\", \"uid\": \"a58cfed8-e07b-11e8-b866-0088653b14b4\"}, {\"name\": \"eb5d675eeb67d5\", \"showlegend\": false, \"x\": [69.46], \"y\": [50], \"type\": \"scatter\", \"uid\": \"a58d00c2-e07b-11e8-b76e-0088653b14b4\"}, {\"name\": \"aed42507cec188\", \"showlegend\": false, \"x\": [156.1], \"y\": [30], \"type\": \"scatter\", \"uid\": \"a58d01c6-e07b-11e8-9fb3-0088653b14b4\"}, {\"name\": \"96ea9b5964ac0f\", \"showlegend\": false, \"x\": [0.0], \"y\": [27], \"type\": \"scatter\", \"uid\": \"a58d02ca-e07b-11e8-99b3-0088653b14b4\"}, {\"name\": \"52e2831ea7d8df\", \"showlegend\": false, \"x\": [0.0], \"y\": [22], \"type\": \"scatter\", \"uid\": \"a58d03c6-e07b-11e8-9cd0-0088653b14b4\"}, {\"name\": \"4efaf49814a1b5\", \"showlegend\": false, \"x\": [28.2], \"y\": [29], \"type\": \"scatter\", \"uid\": \"a58d04be-e07b-11e8-a0b0-0088653b14b4\"}, {\"name\": \"366584a8e7f6c2\", \"showlegend\": false, \"x\": [0.0], \"y\": [28], \"type\": \"scatter\", \"uid\": \"a58d05b8-e07b-11e8-8ba4-0088653b14b4\"}, {\"name\": \"0a0ac6bb57bcbe\", \"showlegend\": false, \"x\": [0.0], \"y\": [48], \"type\": \"scatter\", \"uid\": \"a58d06a8-e07b-11e8-9e89-0088653b14b4\"}, {\"name\": \"a43f6f6ab92f53\", \"showlegend\": false, \"x\": [388.2], \"y\": [30], \"type\": \"scatter\", \"uid\": \"a58d07a2-e07b-11e8-aa49-0088653b14b4\"}, {\"name\": \"79a8da3ffa6fb3\", \"showlegend\": false, \"x\": [620.7], \"y\": [28], \"type\": \"scatter\", \"uid\": \"a58d089c-e07b-11e8-a72e-0088653b14b4\"}, {\"name\": \"aef5b9988568c0\", \"showlegend\": false, \"x\": [219.4], \"y\": [26], \"type\": \"scatter\", \"uid\": \"a58d0998-e07b-11e8-95f1-0088653b14b4\"}, {\"name\": \"70d1ced81b4065\", \"showlegend\": false, \"x\": [97.52], \"y\": [16], \"type\": \"scatter\", \"uid\": \"a58d0a90-e07b-11e8-8937-0088653b14b4\"}, {\"name\": \"06a150a5c5f03c\", \"showlegend\": false, \"x\": [653.6], \"y\": [28], \"type\": \"scatter\", \"uid\": \"a58d0bba-e07b-11e8-81db-0088653b14b4\"}, {\"name\": \"316ec5fbde673e\", \"showlegend\": false, \"x\": [233.3], \"y\": [26], \"type\": \"scatter\", \"uid\": \"a58d0cd4-e07b-11e8-b4d4-0088653b14b4\"}, {\"name\": \"51b9cb5c29ca8f\", \"showlegend\": false, \"x\": [219.9], \"y\": [96], \"type\": \"scatter\", \"uid\": \"a58d0dcc-e07b-11e8-b753-0088653b14b4\"}, {\"name\": \"f55c0800fc5204\", \"showlegend\": false, \"x\": [0.0], \"y\": [96], \"type\": \"scatter\", \"uid\": \"a58d0ebe-e07b-11e8-bdd7-0088653b14b4\"}, {\"name\": \"93ba4aded4a2cf\", \"showlegend\": false, \"x\": [46.21], \"y\": [28], \"type\": \"scatter\", \"uid\": \"a58d0fb8-e07b-11e8-807c-0088653b14b4\"}, {\"name\": \"2f09f45ec5f4df\", \"showlegend\": false, \"x\": [155.1], \"y\": [31], \"type\": \"scatter\", \"uid\": \"a58d10b4-e07b-11e8-b4ca-0088653b14b4\"}, {\"name\": \"85f1f8a4ae7c97\", \"showlegend\": false, \"x\": [100.8], \"y\": [47], \"type\": \"scatter\", \"uid\": \"a58d11ac-e07b-11e8-b16e-0088653b14b4\"}, {\"name\": \"514033b9b53e7f\", \"showlegend\": false, \"x\": [0.0], \"y\": [50], \"type\": \"scatter\", \"uid\": \"a58d12a6-e07b-11e8-9af0-0088653b14b4\"}, {\"name\": \"4d1a7d20778d7e\", \"showlegend\": false, \"x\": [51.23], \"y\": [49], \"type\": \"scatter\", \"uid\": \"a58d139e-e07b-11e8-9d57-0088653b14b4\"}, {\"name\": \"7759652a5a8417\", \"showlegend\": false, \"x\": [84.06], \"y\": [98], \"type\": \"scatter\", \"uid\": \"a58d149a-e07b-11e8-84b8-0088653b14b4\"}, {\"name\": \"fd8f1612d0b036\", \"showlegend\": false, \"x\": [0.0], \"y\": [28], \"type\": \"scatter\", \"uid\": \"a58d158a-e07b-11e8-8d26-0088653b14b4\"}, {\"name\": \"f5515a782a2478\", \"showlegend\": false, \"x\": [130.1], \"y\": [28], \"type\": \"scatter\", \"uid\": \"a58d1686-e07b-11e8-ad90-0088653b14b4\"}, {\"name\": \"90b4887a39c8aa\", \"showlegend\": false, \"x\": [0.0], \"y\": [94], \"type\": \"scatter\", \"uid\": \"a58d1774-e07b-11e8-bf20-0088653b14b4\"}, {\"name\": \"fdcb42db5146fb\", \"showlegend\": false, \"x\": [0.0], \"y\": [94], \"type\": \"scatter\", \"uid\": \"a58d18f0-e07b-11e8-b232-0088653b14b4\"}, {\"name\": \"88e6b0fcdcf137\", \"showlegend\": false, \"x\": [186.6], \"y\": [100], \"type\": \"scatter\", \"uid\": \"a58d19e8-e07b-11e8-9c9c-0088653b14b4\"}, {\"name\": \"c4b8164ef5d8ee\", \"showlegend\": false, \"x\": [136.0], \"y\": [28], \"type\": \"scatter\", \"uid\": \"a58d1ada-e07b-11e8-9cb1-0088653b14b4\"}, {\"name\": \"8b4abd673de9e2\", \"showlegend\": false, \"x\": [0.0], \"y\": [28], \"type\": \"scatter\", \"uid\": \"a58d1bc0-e07b-11e8-bf15-0088653b14b4\"}, {\"name\": \"634b6e1b20dc8e\", \"showlegend\": false, \"x\": [100.0], \"y\": [96], \"type\": \"scatter\", \"uid\": \"a58d1cb0-e07b-11e8-9ac1-0088653b14b4\"}, {\"name\": \"aa025cac8e4879\", \"showlegend\": false, \"x\": [323.4], \"y\": [97], \"type\": \"scatter\", \"uid\": \"a58d1d98-e07b-11e8-8602-0088653b14b4\"}, {\"name\": \"662eda44cabdcb\", \"showlegend\": false, \"x\": [75.0], \"y\": [97], \"type\": \"scatter\", \"uid\": \"a58d1e86-e07b-11e8-9abf-0088653b14b4\"}, {\"name\": \"1d27c1add7c542\", \"showlegend\": false, \"x\": [1127.0], \"y\": [48], \"type\": \"scatter\", \"uid\": \"a58d1f6c-e07b-11e8-aa15-0088653b14b4\"}, {\"name\": \"a15a2a49009a8d\", \"showlegend\": false, \"x\": [100.0], \"y\": [96], \"type\": \"scatter\", \"uid\": \"a58d205c-e07b-11e8-9516-0088653b14b4\"}, {\"name\": \"191fafc85c5342\", \"showlegend\": false, \"x\": [142.4], \"y\": [30], \"type\": \"scatter\", \"uid\": \"a58d21a6-e07b-11e8-913e-0088653b14b4\"}, {\"name\": \"6eec22e503ff13\", \"showlegend\": false, \"x\": [446.7], \"y\": [50], \"type\": \"scatter\", \"uid\": \"a58d229e-e07b-11e8-a78d-0088653b14b4\"}, {\"name\": \"8ad4061ccd8ac5\", \"showlegend\": false, \"x\": [316.9], \"y\": [27], \"type\": \"scatter\", \"uid\": \"a58d2390-e07b-11e8-8e71-0088653b14b4\"}, {\"name\": \"b1e409454574e8\", \"showlegend\": false, \"x\": [200.0], \"y\": [47], \"type\": \"scatter\", \"uid\": \"a58d248a-e07b-11e8-b7b6-0088653b14b4\"}, {\"name\": \"41d52195d695dc\", \"showlegend\": false, \"x\": [29.84], \"y\": [29], \"type\": \"scatter\", \"uid\": \"a58d264c-e07b-11e8-aa57-0088653b14b4\"}, {\"name\": \"47b3b9511dfc84\", \"showlegend\": false, \"x\": [114.7], \"y\": [25], \"type\": \"scatter\", \"uid\": \"a58d278c-e07b-11e8-a964-0088653b14b4\"}, {\"name\": \"09ce41b72bc67f\", \"showlegend\": false, \"x\": [27.48], \"y\": [48], \"type\": \"scatter\", \"uid\": \"a58d2958-e07b-11e8-b9f3-0088653b14b4\"}, {\"name\": \"ab0807deea9fa1\", \"showlegend\": false, \"x\": [0.0], \"y\": [49], \"type\": \"scatter\", \"uid\": \"a58d2c1e-e07b-11e8-b64c-0088653b14b4\"}, {\"name\": \"1e9d0cc3331ad8\", \"showlegend\": false, \"x\": [0.0], \"y\": [27], \"type\": \"scatter\", \"uid\": \"a58d2dae-e07b-11e8-bb35-0088653b14b4\"}, {\"name\": \"9b9c449760fb6c\", \"showlegend\": false, \"x\": [0.0], \"y\": [86], \"type\": \"scatter\", \"uid\": \"a58d2ed0-e07b-11e8-9c2a-0088653b14b4\"}, {\"name\": \"9e4605acacd0d7\", \"showlegend\": false, \"x\": [0.0], \"y\": [27], \"type\": \"scatter\", \"uid\": \"a58d2fca-e07b-11e8-90a1-0088653b14b4\"}, {\"name\": \"55533dbe8ebfcc\", \"showlegend\": false, \"x\": [105.3], \"y\": [29], \"type\": \"scatter\", \"uid\": \"a58d30cc-e07b-11e8-90e4-0088653b14b4\"}, {\"name\": \"4ecc1d5d062125\", \"showlegend\": false, \"x\": [100.0], \"y\": [90], \"type\": \"scatter\", \"uid\": \"a58d31c8-e07b-11e8-ab6a-0088653b14b4\"}, {\"name\": \"3e59d94725b544\", \"showlegend\": false, \"x\": [321.8], \"y\": [29], \"type\": \"scatter\", \"uid\": \"a58d3330-e07b-11e8-8d59-0088653b14b4\"}, {\"name\": \"df6f28f7a401a2\", \"showlegend\": false, \"x\": [0.0], \"y\": [28], \"type\": \"scatter\", \"uid\": \"a58d3434-e07b-11e8-b101-0088653b14b4\"}, {\"name\": \"33155d20c15572\", \"showlegend\": false, \"x\": [100.0], \"y\": [29], \"type\": \"scatter\", \"uid\": \"a58d3538-e07b-11e8-a6eb-0088653b14b4\"}, {\"name\": \"1ad25c71702e3c\", \"showlegend\": false, \"x\": [0.0], \"y\": [48], \"type\": \"scatter\", \"uid\": \"a58d3634-e07b-11e8-abfc-0088653b14b4\"}, {\"name\": \"e2b350f8f06201\", \"showlegend\": false, \"x\": [0.0], \"y\": [49], \"type\": \"scatter\", \"uid\": \"a58d3768-e07b-11e8-8031-0088653b14b4\"}, {\"name\": \"e9cb300f680cc0\", \"showlegend\": false, \"x\": [383.2], \"y\": [95], \"type\": \"scatter\", \"uid\": \"a58d3876-e07b-11e8-bda2-0088653b14b4\"}, {\"name\": \"acebbf30827f98\", \"showlegend\": false, \"x\": [137.3], \"y\": [30], \"type\": \"scatter\", \"uid\": \"a58d3970-e07b-11e8-994b-0088653b14b4\"}, {\"name\": \"0ab67d8ec7b030\", \"showlegend\": false, \"x\": [133.8], \"y\": [28], \"type\": \"scatter\", \"uid\": \"a58d3a68-e07b-11e8-b108-0088653b14b4\"}, {\"name\": \"61ea3d0004eef9\", \"showlegend\": false, \"x\": [460.0], \"y\": [25], \"type\": \"scatter\", \"uid\": \"a58d3b64-e07b-11e8-bc73-0088653b14b4\"}, {\"name\": \"30415b09ace8f2\", \"showlegend\": false, \"x\": [200.0], \"y\": [27], \"type\": \"scatter\", \"uid\": \"a58d3c54-e07b-11e8-bd39-0088653b14b4\"}, {\"name\": \"8bd542c4898ab8\", \"showlegend\": false, \"x\": [0.0], \"y\": [27], \"type\": \"scatter\", \"uid\": \"a58d3de4-e07b-11e8-81bf-0088653b14b4\"}, {\"name\": \"336850794931c3\", \"showlegend\": false, \"x\": [81.0], \"y\": [28], \"type\": \"scatter\", \"uid\": \"a58d3f88-e07b-11e8-ad46-0088653b14b4\"}, {\"name\": \"66ff741d9e11a7\", \"showlegend\": false, \"x\": [42.96], \"y\": [26], \"type\": \"scatter\", \"uid\": \"a58d4098-e07b-11e8-9a60-0088653b14b4\"}, {\"name\": \"434b7215686d15\", \"showlegend\": false, \"x\": [0.0], \"y\": [49], \"type\": \"scatter\", \"uid\": \"a58d4190-e07b-11e8-bd5f-0088653b14b4\"}, {\"name\": \"128cbf304b8e67\", \"showlegend\": false, \"x\": [176.0], \"y\": [97], \"type\": \"scatter\", \"uid\": \"a58d428a-e07b-11e8-b452-0088653b14b4\"}, {\"name\": \"91ac9472b7f40a\", \"showlegend\": false, \"x\": [0.0], \"y\": [49], \"type\": \"scatter\", \"uid\": \"a58d4386-e07b-11e8-8c43-0088653b14b4\"}, {\"name\": \"8ebf937298e2f8\", \"showlegend\": false, \"x\": [0.0], \"y\": [49], \"type\": \"scatter\", \"uid\": \"a58d447e-e07b-11e8-a3c2-0088653b14b4\"}, {\"name\": \"03114ba92f81fc\", \"showlegend\": false, \"x\": [0.0], \"y\": [47], \"type\": \"scatter\", \"uid\": \"a58d45b4-e07b-11e8-a603-0088653b14b4\"}, {\"name\": \"d8c1bb57ab00e1\", \"showlegend\": false, \"x\": [0.0], \"y\": [96], \"type\": \"scatter\", \"uid\": \"a58d46c2-e07b-11e8-87ab-0088653b14b4\"}, {\"name\": \"bd0a5e311842f2\", \"showlegend\": false, \"x\": [503.1], \"y\": [26], \"type\": \"scatter\", \"uid\": \"a58d47ba-e07b-11e8-8040-0088653b14b4\"}, {\"name\": \"e2950da535fae4\", \"showlegend\": false, \"x\": [0.0], \"y\": [29], \"type\": \"scatter\", \"uid\": \"a58d48b6-e07b-11e8-b40d-0088653b14b4\"}, {\"name\": \"5cbbc113556c76\", \"showlegend\": false, \"x\": [122.0], \"y\": [28], \"type\": \"scatter\", \"uid\": \"a58d49b0-e07b-11e8-bcff-0088653b14b4\"}, {\"name\": \"bf3f5963fee697\", \"showlegend\": false, \"x\": [179.4], \"y\": [29], \"type\": \"scatter\", \"uid\": \"a58d4aa8-e07b-11e8-a151-0088653b14b4\"}, {\"name\": \"8aba633052dc07\", \"showlegend\": false, \"x\": [0.0], \"y\": [27], \"type\": \"scatter\", \"uid\": \"a58d4ba4-e07b-11e8-b8ee-0088653b14b4\"}, {\"name\": \"27a5f9687671bc\", \"showlegend\": false, \"x\": [90.21], \"y\": [97], \"type\": \"scatter\", \"uid\": \"a58d4c94-e07b-11e8-8841-0088653b14b4\"}, {\"name\": \"ed4ece608e23ec\", \"showlegend\": false, \"x\": [361.3], \"y\": [47], \"type\": \"scatter\", \"uid\": \"a58d4d8c-e07b-11e8-a820-0088653b14b4\"}, {\"name\": \"c8fdc72204b59b\", \"showlegend\": false, \"x\": [160.6], \"y\": [47], \"type\": \"scatter\", \"uid\": \"a58d4e7e-e07b-11e8-9f7e-0088653b14b4\"}, {\"name\": \"0a5770018947cd\", \"showlegend\": false, \"x\": [318.6], \"y\": [49], \"type\": \"scatter\", \"uid\": \"a58d4f78-e07b-11e8-a350-0088653b14b4\"}, {\"name\": \"477736adf06ec9\", \"showlegend\": false, \"x\": [134.0], \"y\": [27], \"type\": \"scatter\", \"uid\": \"a58d50f4-e07b-11e8-907f-0088653b14b4\"}, {\"name\": \"ea60c8294b22ec\", \"showlegend\": false, \"x\": [0.0], \"y\": [28], \"type\": \"scatter\", \"uid\": \"a58d52a2-e07b-11e8-be3d-0088653b14b4\"}, {\"name\": \"3eec10eeba66da\", \"showlegend\": false, \"x\": [100.0], \"y\": [25], \"type\": \"scatter\", \"uid\": \"a58d5482-e07b-11e8-b583-0088653b14b4\"}, {\"name\": \"4258a6818558c1\", \"showlegend\": false, \"x\": [35.46], \"y\": [29], \"type\": \"scatter\", \"uid\": \"a58d56ba-e07b-11e8-aa06-0088653b14b4\"}, {\"name\": \"b4ce8f76a82e33\", \"showlegend\": false, \"x\": [0.0], \"y\": [95], \"type\": \"scatter\", \"uid\": \"a58d5888-e07b-11e8-9752-0088653b14b4\"}, {\"name\": \"daa65cd93a511c\", \"showlegend\": false, \"x\": [0.0], \"y\": [24], \"type\": \"scatter\", \"uid\": \"a58d5a0c-e07b-11e8-a0f4-0088653b14b4\"}, {\"name\": \"e82ef9c0012b40\", \"showlegend\": false, \"x\": [107.0], \"y\": [92], \"type\": \"scatter\", \"uid\": \"a58d5b12-e07b-11e8-8263-0088653b14b4\"}, {\"name\": \"ed53a14e3395e2\", \"showlegend\": false, \"x\": [224.0], \"y\": [48], \"type\": \"scatter\", \"uid\": \"a58d5c18-e07b-11e8-8c97-0088653b14b4\"}, {\"name\": \"ae002541f541ce\", \"showlegend\": false, \"x\": [25.38], \"y\": [94], \"type\": \"scatter\", \"uid\": \"a58d5d10-e07b-11e8-9f71-0088653b14b4\"}, {\"name\": \"e5519d8d881f79\", \"showlegend\": false, \"x\": [0.0], \"y\": [26], \"type\": \"scatter\", \"uid\": \"a58d5e0a-e07b-11e8-93c3-0088653b14b4\"}, {\"name\": \"aad518faafc6c5\", \"showlegend\": false, \"x\": [565.5], \"y\": [28], \"type\": \"scatter\", \"uid\": \"a58d5f06-e07b-11e8-b650-0088653b14b4\"}, {\"name\": \"01e63a720784d9\", \"showlegend\": false, \"x\": [91.14], \"y\": [28], \"type\": \"scatter\", \"uid\": \"a58d5ffe-e07b-11e8-8bb8-0088653b14b4\"}, {\"name\": \"08e1012e1f4fad\", \"showlegend\": false, \"x\": [136.4], \"y\": [30], \"type\": \"scatter\", \"uid\": \"a58d60f8-e07b-11e8-943a-0088653b14b4\"}, {\"name\": \"0b1db53f7e2aad\", \"showlegend\": false, \"x\": [127.3], \"y\": [24], \"type\": \"scatter\", \"uid\": \"a58d61f4-e07b-11e8-a595-0088653b14b4\"}, {\"name\": \"77d4ca39df5db8\", \"showlegend\": false, \"x\": [198.9], \"y\": [96], \"type\": \"scatter\", \"uid\": \"a58d62ec-e07b-11e8-a1e1-0088653b14b4\"}, {\"name\": \"83888e01f7e0bf\", \"showlegend\": false, \"x\": [100.0], \"y\": [29], \"type\": \"scatter\", \"uid\": \"a58d642c-e07b-11e8-b757-0088653b14b4\"}, {\"name\": \"31d24de56b0457\", \"showlegend\": false, \"x\": [85.02], \"y\": [48], \"type\": \"scatter\", \"uid\": \"a58d6546-e07b-11e8-8f82-0088653b14b4\"}, {\"name\": \"f7f55bd7627668\", \"showlegend\": false, \"x\": [0.0], \"y\": [21], \"type\": \"scatter\", \"uid\": \"a58d6634-e07b-11e8-8f36-0088653b14b4\"}, {\"name\": \"e7c029ad164dcc\", \"showlegend\": false, \"x\": [763.7], \"y\": [27], \"type\": \"scatter\", \"uid\": \"a58d68be-e07b-11e8-9520-0088653b14b4\"}, {\"name\": \"e8bcec4b66e678\", \"showlegend\": false, \"x\": [6.316], \"y\": [42], \"type\": \"scatter\", \"uid\": \"a58d6a62-e07b-11e8-9562-0088653b14b4\"}, {\"name\": \"bc30260a39e37c\", \"showlegend\": false, \"x\": [64.36], \"y\": [49], \"type\": \"scatter\", \"uid\": \"a58d6b70-e07b-11e8-a020-0088653b14b4\"}, {\"name\": \"95803263079b59\", \"showlegend\": false, \"x\": [0.0], \"y\": [97], \"type\": \"scatter\", \"uid\": \"a58d6c68-e07b-11e8-9de6-0088653b14b4\"}, {\"name\": \"aaa85ec0fa158e\", \"showlegend\": false, \"x\": [0.0], \"y\": [25], \"type\": \"scatter\", \"uid\": \"a58d6d64-e07b-11e8-92bb-0088653b14b4\"}, {\"name\": \"a1d549b5f961b2\", \"showlegend\": false, \"x\": [49.47], \"y\": [28], \"type\": \"scatter\", \"uid\": \"a58d6e5e-e07b-11e8-baae-0088653b14b4\"}, {\"name\": \"c29ab5d4c4882d\", \"showlegend\": false, \"x\": [65.93], \"y\": [47], \"type\": \"scatter\", \"uid\": \"a58d6f58-e07b-11e8-8818-0088653b14b4\"}, {\"name\": \"074f2c836b409a\", \"showlegend\": false, \"x\": [200.7], \"y\": [28], \"type\": \"scatter\", \"uid\": \"a58d7048-e07b-11e8-a8d9-0088653b14b4\"}, {\"name\": \"c3def469a81f71\", \"showlegend\": false, \"x\": [0.0], \"y\": [28], \"type\": \"scatter\", \"uid\": \"a58d7142-e07b-11e8-b9d3-0088653b14b4\"}, {\"name\": \"83119dca7b7be5\", \"showlegend\": false, \"x\": [28.48], \"y\": [27], \"type\": \"scatter\", \"uid\": \"a58d72f0-e07b-11e8-bf7f-0088653b14b4\"}, {\"name\": \"c1a3ba87b4c153\", \"showlegend\": false, \"x\": [40.85], \"y\": [49], \"type\": \"scatter\", \"uid\": \"a58d74d0-e07b-11e8-8eda-0088653b14b4\"}, {\"name\": \"d212982ca98b8b\", \"showlegend\": false, \"x\": [70.73], \"y\": [90], \"type\": \"scatter\", \"uid\": \"a58d75e8-e07b-11e8-bbd2-0088653b14b4\"}, {\"name\": \"6001f54f5386a9\", \"showlegend\": false, \"x\": [0.0], \"y\": [30], \"type\": \"scatter\", \"uid\": \"a58d76e2-e07b-11e8-ad6b-0088653b14b4\"}, {\"name\": \"5427953aaada63\", \"showlegend\": false, \"x\": [0.0], \"y\": [49], \"type\": \"scatter\", \"uid\": \"a58d77dc-e07b-11e8-9f31-0088653b14b4\"}, {\"name\": \"24e3f6f83e523a\", \"showlegend\": false, \"x\": [269.4], \"y\": [95], \"type\": \"scatter\", \"uid\": \"a58d78cc-e07b-11e8-8ea1-0088653b14b4\"}, {\"name\": \"76fdfff3e3073a\", \"showlegend\": false, \"x\": [279.9], \"y\": [30], \"type\": \"scatter\", \"uid\": \"a58d79c6-e07b-11e8-ad25-0088653b14b4\"}, {\"name\": \"e2529e9f5499e9\", \"showlegend\": false, \"x\": [480.0], \"y\": [28], \"type\": \"scatter\", \"uid\": \"a58d7aca-e07b-11e8-b1f9-0088653b14b4\"}, {\"name\": \"c45f2b1142e5a6\", \"showlegend\": false, \"x\": [217.2], \"y\": [46], \"type\": \"scatter\", \"uid\": \"a58d7bc6-e07b-11e8-a011-0088653b14b4\"}, {\"name\": \"ba4d49cb0b94f9\", \"showlegend\": false, \"x\": [25.93], \"y\": [93], \"type\": \"scatter\", \"uid\": \"a58d7cbe-e07b-11e8-9709-0088653b14b4\"}, {\"name\": \"57d7cdc093afa3\", \"showlegend\": false, \"x\": [177.4], \"y\": [29], \"type\": \"scatter\", \"uid\": \"a58d7db8-e07b-11e8-81d0-0088653b14b4\"}, {\"name\": \"ab6b2c91a6c27c\", \"showlegend\": false, \"x\": [91.0], \"y\": [30], \"type\": \"scatter\", \"uid\": \"a58d7eb4-e07b-11e8-b2f2-0088653b14b4\"}, {\"name\": \"72e1c1fa067673\", \"showlegend\": false, \"x\": [10.88], \"y\": [49], \"type\": \"scatter\", \"uid\": \"a58d7fca-e07b-11e8-af8d-0088653b14b4\"}, {\"name\": \"735f41a9880da6\", \"showlegend\": false, \"x\": [9.799], \"y\": [48], \"type\": \"scatter\", \"uid\": \"a58d8182-e07b-11e8-9ec4-0088653b14b4\"}, {\"name\": \"520e7609bec9e3\", \"showlegend\": false, \"x\": [0.0], \"y\": [49], \"type\": \"scatter\", \"uid\": \"a58d8380-e07b-11e8-9266-0088653b14b4\"}, {\"name\": \"7f23108a43a2c0\", \"showlegend\": false, \"x\": [187.6], \"y\": [48], \"type\": \"scatter\", \"uid\": \"a58d8568-e07b-11e8-827e-0088653b14b4\"}, {\"name\": \"fd8723ea1af754\", \"showlegend\": false, \"x\": [120.7], \"y\": [100], \"type\": \"scatter\", \"uid\": \"a58d8740-e07b-11e8-8079-0088653b14b4\"}, {\"name\": \"d94e815fb93d1e\", \"showlegend\": false, \"x\": [76.8], \"y\": [28], \"type\": \"scatter\", \"uid\": \"a58d8918-e07b-11e8-a351-0088653b14b4\"}, {\"name\": \"9630dcca4bb62d\", \"showlegend\": false, \"x\": [132.5], \"y\": [49], \"type\": \"scatter\", \"uid\": \"a58d8ad8-e07b-11e8-9883-0088653b14b4\"}, {\"name\": \"245388fc6d52b6\", \"showlegend\": false, \"x\": [275.7], \"y\": [29], \"type\": \"scatter\", \"uid\": \"a58d8c9a-e07b-11e8-9482-0088653b14b4\"}, {\"name\": \"80d67986c25abe\", \"showlegend\": false, \"x\": [330.1], \"y\": [26], \"type\": \"scatter\", \"uid\": \"a58d8e52-e07b-11e8-a83b-0088653b14b4\"}, {\"name\": \"0e1b55b0550739\", \"showlegend\": false, \"x\": [156.8], \"y\": [28], \"type\": \"scatter\", \"uid\": \"a58d9000-e07b-11e8-8ce0-0088653b14b4\"}, {\"name\": \"5574ba9ff418d2\", \"showlegend\": false, \"x\": [0.0], \"y\": [30], \"type\": \"scatter\", \"uid\": \"a58d91ae-e07b-11e8-b4d8-0088653b14b4\"}, {\"name\": \"afb98295726aff\", \"showlegend\": false, \"x\": [48.15], \"y\": [28], \"type\": \"scatter\", \"uid\": \"a58d9370-e07b-11e8-b341-0088653b14b4\"}, {\"name\": \"31b67a5b1bb879\", \"showlegend\": false, \"x\": [46.8], \"y\": [30], \"type\": \"scatter\", \"uid\": \"a58d9534-e07b-11e8-9211-0088653b14b4\"}, {\"name\": \"0b41004783666c\", \"showlegend\": false, \"x\": [246.0], \"y\": [28], \"type\": \"scatter\", \"uid\": \"a58d96e8-e07b-11e8-b8d3-0088653b14b4\"}, {\"name\": \"6c0b5819c0731d\", \"showlegend\": false, \"x\": [0.0], \"y\": [96], \"type\": \"scatter\", \"uid\": \"a58d97f8-e07b-11e8-af4e-0088653b14b4\"}, {\"name\": \"d609ea9b928fcd\", \"showlegend\": false, \"x\": [0.0], \"y\": [26], \"type\": \"scatter\", \"uid\": \"a58d9938-e07b-11e8-a9bd-0088653b14b4\"}, {\"name\": \"a390770978b252\", \"showlegend\": false, \"x\": [341.3], \"y\": [97], \"type\": \"scatter\", \"uid\": \"a58d9a46-e07b-11e8-9c88-0088653b14b4\"}, {\"name\": \"9a362da7f46b29\", \"showlegend\": false, \"x\": [295.7], \"y\": [32], \"type\": \"scatter\", \"uid\": \"a58d9b40-e07b-11e8-a14c-0088653b14b4\"}, {\"name\": \"fde5ecf265a104\", \"showlegend\": false, \"x\": [283.5], \"y\": [29], \"type\": \"scatter\", \"uid\": \"a58d9c3a-e07b-11e8-becb-0088653b14b4\"}, {\"name\": \"556a71020e4ac2\", \"showlegend\": false, \"x\": [356.5], \"y\": [26], \"type\": \"scatter\", \"uid\": \"a58d9d34-e07b-11e8-a5f0-0088653b14b4\"}, {\"name\": \"a317e2025f8648\", \"showlegend\": false, \"x\": [512.3], \"y\": [48], \"type\": \"scatter\", \"uid\": \"a58d9e2e-e07b-11e8-b40e-0088653b14b4\"}, {\"name\": \"25c029f884c3a0\", \"showlegend\": false, \"x\": [126.5], \"y\": [97], \"type\": \"scatter\", \"uid\": \"a58d9f1e-e07b-11e8-84d8-0088653b14b4\"}, {\"name\": \"c1b8e8629bbdf7\", \"showlegend\": false, \"x\": [42.46], \"y\": [28], \"type\": \"scatter\", \"uid\": \"a58da018-e07b-11e8-af2b-0088653b14b4\"}, {\"name\": \"0744ce9d82d69e\", \"showlegend\": false, \"x\": [195.2], \"y\": [46], \"type\": \"scatter\", \"uid\": \"a58da112-e07b-11e8-85ee-0088653b14b4\"}, {\"name\": \"54395c9be724ac\", \"showlegend\": false, \"x\": [95.88], \"y\": [50], \"type\": \"scatter\", \"uid\": \"a58da218-e07b-11e8-b3c0-0088653b14b4\"}, {\"name\": \"095264207fff56\", \"showlegend\": false, \"x\": [75.87], \"y\": [30], \"type\": \"scatter\", \"uid\": \"a58da362-e07b-11e8-8dbb-0088653b14b4\"}, {\"name\": \"e5a13c85155557\", \"showlegend\": false, \"x\": [0.0], \"y\": [44], \"type\": \"scatter\", \"uid\": \"a58da45a-e07b-11e8-b067-0088653b14b4\"}, {\"name\": \"e68e9fb7c42403\", \"showlegend\": false, \"x\": [0.0], \"y\": [48], \"type\": \"scatter\", \"uid\": \"a58da554-e07b-11e8-813c-0088653b14b4\"}, {\"name\": \"fa61a5e5ba5ad8\", \"showlegend\": false, \"x\": [28.03], \"y\": [29], \"type\": \"scatter\", \"uid\": \"a58da680-e07b-11e8-a2ba-0088653b14b4\"}, {\"name\": \"5431ff0cb760e8\", \"showlegend\": false, \"x\": [287.6], \"y\": [49], \"type\": \"scatter\", \"uid\": \"a58da78c-e07b-11e8-82c9-0088653b14b4\"}, {\"name\": \"3dcd33b191eb10\", \"showlegend\": false, \"x\": [100.0], \"y\": [26], \"type\": \"scatter\", \"uid\": \"a58da888-e07b-11e8-bb82-0088653b14b4\"}, {\"name\": \"ae4b2d32fa3598\", \"showlegend\": false, \"x\": [200.0], \"y\": [98], \"type\": \"scatter\", \"uid\": \"a58da982-e07b-11e8-ba1e-0088653b14b4\"}, {\"name\": \"309b10e2526a5a\", \"showlegend\": false, \"x\": [174.7], \"y\": [94], \"type\": \"scatter\", \"uid\": \"a58daa90-e07b-11e8-ae83-0088653b14b4\"}, {\"name\": \"9af9c3e98ae8f7\", \"showlegend\": false, \"x\": [95.1], \"y\": [31], \"type\": \"scatter\", \"uid\": \"a58dabd0-e07b-11e8-9ee2-0088653b14b4\"}, {\"name\": \"1b5334e9b12c85\", \"showlegend\": false, \"x\": [91.36], \"y\": [30], \"type\": \"scatter\", \"uid\": \"a58dacd4-e07b-11e8-9699-0088653b14b4\"}], {\"legend\": {\"orientation\": \"h\"}, \"title\": \"Killing is Winning?\", \"xaxis\": {\"title\": \"Damage (Higher is Better)\"}, \"yaxis\": {\"title\": \"Rank (Lower is Better)\"}}, {\"showLink\": true, \"linkText\": \"Export to plot.ly\"})});</script>"
      ]
     },
     "metadata": {},
     "output_type": "display_data"
    }
   ],
   "source": [
    "#I want to see the relationship between maxPlace, the true ranking from 1-100, with damageDealt.\n",
    "#In other words, do you get better ranking if you deal more damage, and logically, by getting in fights?\n",
    "data = []\n",
    "for asset in np.random.choice(PG_train['Id'].unique(), 200):\n",
    "    asset_df = PG_train[(PG_train['Id'] == asset)]\n",
    "\n",
    "    data.append(go.Scatter(\n",
    "        x = asset_df['damageDealt'].values,\n",
    "        y = asset_df['maxPlace'].values,\n",
    "        name = asset,\n",
    "        showlegend=False\n",
    "    ))\n",
    "layout = go.Layout(dict(title = \"Killing is Winning?\",\n",
    "                  xaxis = dict(title = 'Damage (Higher is Better)'),\n",
    "                  yaxis = dict(title = 'Rank (Lower is Better)'),\n",
    "                  ),legend=dict(\n",
    "                orientation=\"h\"))\n",
    "py.iplot(dict(data=data, layout=layout), filename='basic-line')"
   ]
  },
  {
   "cell_type": "markdown",
   "metadata": {},
   "source": [
    "The reality is that there's no real relationship between damageDealt and final place. This is because the max value in maxPlace differs per matchType."
   ]
  },
  {
   "cell_type": "code",
   "execution_count": 9,
   "metadata": {},
   "outputs": [
    {
     "data": {
      "image/png": "[encoded data removed]",
      "text/plain": [
       "<Figure size 720x720 with 16 Axes>"
      ]
     },
     "metadata": {
      "needs_background": "light"
     },
     "output_type": "display_data"
    }
   ],
   "source": [
    "fig = PG_train['maxPlace'].hist(by=PG_train['matchType'],figsize=(10,10),ec=\"k\")\n",
    "plt.tight_layout()"
   ]
  },
  {
   "cell_type": "markdown",
   "metadata": {},
   "source": [
    "Those histograms are interesting to bear in mind. Obviously, the distributions depend on how the data was collected: why is that important? because Ids (players) are picked randomly across 1000s of games, while in a single game everyone get one and unique place/ranking - though they might have more or less killPoints. What matters however is the place (maxPlace) at the end of the game."
   ]
  },
  {
   "cell_type": "code",
   "execution_count": 10,
   "metadata": {},
   "outputs": [
    {
     "data": {
      "text/plain": [
       "squad-fpp           1756186\n",
       "duo-fpp              996691\n",
       "squad                626526\n",
       "solo-fpp             536762\n",
       "duo                  313591\n",
       "solo                 181943\n",
       "normal-squad-fpp      17174\n",
       "crashfpp               6287\n",
       "normal-duo-fpp         5489\n",
       "flaretpp               2505\n",
       "normal-solo-fpp        1682\n",
       "flarefpp                718\n",
       "normal-squad            516\n",
       "crashtpp                371\n",
       "normal-solo             326\n",
       "normal-duo              199\n",
       "Name: matchType, dtype: int64"
      ]
     },
     "execution_count": 10,
     "metadata": {},
     "output_type": "execute_result"
    }
   ],
   "source": [
    "PG_train[\"matchType\"].value_counts()"
   ]
  },
  {
   "cell_type": "markdown",
   "metadata": {},
   "source": [
    "Looking at the distribution of the different matchType variable. I might remove all the ones under 'solo' as they represent very little to the total. With this said, I might make separate training models for them after the main types."
   ]
  },
  {
   "cell_type": "code",
   "execution_count": 11,
   "metadata": {},
   "outputs": [
    {
     "data": {
      "text/plain": [
       "matchType\n",
       "squad-fpp            37\n",
       "duo                  51\n",
       "solo-fpp            100\n",
       "squad                34\n",
       "duo-fpp              51\n",
       "solo                100\n",
       "normal-squad-fpp     27\n",
       "crashfpp             52\n",
       "flaretpp             28\n",
       "normal-solo-fpp      54\n",
       "flarefpp             29\n",
       "normal-duo-fpp       50\n",
       "normal-duo           20\n",
       "normal-squad         25\n",
       "crashtpp             46\n",
       "normal-solo          44\n",
       "Name: maxPlace, dtype: int64"
      ]
     },
     "execution_count": 11,
     "metadata": {},
     "output_type": "execute_result"
    }
   ],
   "source": [
    "PG_train.groupby(['matchType'], sort=False)['maxPlace'].max()"
   ]
  },
  {
   "cell_type": "markdown",
   "metadata": {},
   "source": [
    "The difficulty in creating one unique predictive algorithm is that game parameters are very different from one matchType to another.\n",
    "\n",
    "I think I'll split the dataset per matchType or to simplify, split between solo, duo and squad, though squad can also be played as solo or duo. So I might train the model on squad only (squad-fpp+squad) and see if how it works for the other matchTypes. Though I could train a model across the entire dataset regardless of matchType, I can't do it at this stage because my computer can't manage it: splitting analysis by matchType might help to lower CPU usage."
   ]
  },
  {
   "cell_type": "code",
   "execution_count": 12,
   "metadata": {},
   "outputs": [
    {
     "data": {
      "text/plain": [
       "3000"
      ]
     },
     "execution_count": 12,
     "metadata": {},
     "output_type": "execute_result"
    }
   ],
   "source": [
    "PG_train['winPlacePerc'].nunique()"
   ]
  },
  {
   "cell_type": "code",
   "execution_count": 13,
   "metadata": {},
   "outputs": [
    {
     "data": {
      "text/plain": [
       "winPlacePerc\n",
       "0.4444    100\n",
       "0.6400     76\n",
       "0.7755     99\n",
       "0.1667     97\n",
       "0.1875     97\n",
       "0.0370     82\n",
       "0.0000    100\n",
       "0.7368     96\n",
       "0.3704     82\n",
       "0.2143     99\n",
       "0.3929     85\n",
       "0.4043     95\n",
       "0.9286     99\n",
       "0.8750     97\n",
       "0.9000     91\n",
       "0.2766     95\n",
       "0.7308     79\n",
       "0.8211     96\n",
       "0.1923     79\n",
       "0.9310     88\n",
       "0.6383     95\n",
       "0.7500     97\n",
       "0.9592     99\n",
       "0.9231     92\n",
       "0.8696     93\n",
       "0.1154     79\n",
       "0.7234     95\n",
       "0.9630     82\n",
       "0.4255     95\n",
       "0.0667     91\n",
       "         ... \n",
       "0.4714     71\n",
       "0.6711     77\n",
       "0.3443     62\n",
       "0.1148     62\n",
       "0.8070     58\n",
       "0.9423     53\n",
       "0.6167     61\n",
       "0.1311     62\n",
       "0.4833     61\n",
       "0.8833     61\n",
       "0.1268     72\n",
       "0.2687     68\n",
       "0.4098     62\n",
       "0.7115     53\n",
       "0.2237     77\n",
       "0.2742     63\n",
       "0.9344     62\n",
       "0.0635     64\n",
       "0.0423     72\n",
       "0.5915     72\n",
       "0.0164     62\n",
       "0.4366     72\n",
       "0.9859     72\n",
       "0.2167     61\n",
       "0.0577     53\n",
       "0.6212     67\n",
       "0.0845     72\n",
       "0.1207     59\n",
       "0.4561     58\n",
       "0.2879     67\n",
       "Name: maxPlace, Length: 3000, dtype: int64"
      ]
     },
     "execution_count": 13,
     "metadata": {},
     "output_type": "execute_result"
    }
   ],
   "source": [
    "PG_train.groupby(['winPlacePerc'], sort=False)['maxPlace'].max()"
   ]
  },
  {
   "cell_type": "code",
   "execution_count": 14,
   "metadata": {
    "scrolled": true
   },
   "outputs": [
    {
     "data": {
      "text/plain": [
       "winPlacePerc\n",
       "0.4444    10\n",
       "0.6400    26\n",
       "0.7755    50\n",
       "0.1667     7\n",
       "0.1875    17\n",
       "0.0370    28\n",
       "0.0000     2\n",
       "0.7368    20\n",
       "0.3704    28\n",
       "0.2143    15\n",
       "0.3929    29\n",
       "0.4043    48\n",
       "0.9286    15\n",
       "0.8750     9\n",
       "0.9000    11\n",
       "0.2766    48\n",
       "0.7308    27\n",
       "0.8211    96\n",
       "0.1923    27\n",
       "0.9310    30\n",
       "0.6383    48\n",
       "0.7500     5\n",
       "0.9592    50\n",
       "0.9231    14\n",
       "0.8696    24\n",
       "0.1154    27\n",
       "0.7234    48\n",
       "0.9630    28\n",
       "0.4255    48\n",
       "0.0667    16\n",
       "          ..\n",
       "0.4714    71\n",
       "0.6711    77\n",
       "0.3443    62\n",
       "0.1148    62\n",
       "0.8070    58\n",
       "0.9423    53\n",
       "0.6167    61\n",
       "0.1311    62\n",
       "0.4833    61\n",
       "0.8833    61\n",
       "0.1268    72\n",
       "0.2687    68\n",
       "0.4098    62\n",
       "0.7115    53\n",
       "0.2237    77\n",
       "0.2742    63\n",
       "0.9344    62\n",
       "0.0635    64\n",
       "0.0423    72\n",
       "0.5915    72\n",
       "0.0164    62\n",
       "0.4366    72\n",
       "0.9859    72\n",
       "0.2167    61\n",
       "0.0577    53\n",
       "0.6212    67\n",
       "0.0845    72\n",
       "0.1207    59\n",
       "0.4561    58\n",
       "0.2879    67\n",
       "Name: maxPlace, Length: 3000, dtype: int64"
      ]
     },
     "execution_count": 14,
     "metadata": {},
     "output_type": "execute_result"
    }
   ],
   "source": [
    "PG_train.groupby(['winPlacePerc'], sort=False)['maxPlace'].min()"
   ]
  },
  {
   "cell_type": "code",
   "execution_count": 17,
   "metadata": {},
   "outputs": [
    {
     "data": {
      "image/png": "[encoded data removed]",
      "text/plain": [
       "<Figure size 2160x2160 with 100 Axes>"
      ]
     },
     "metadata": {
      "needs_background": "light"
     },
     "output_type": "display_data"
    }
   ],
   "source": [
    "fig2 = PG_train['winPlacePerc'].hist(by=PG_train['maxPlace'],figsize=(30,30),ec=\"k\")\n",
    "plt.tight_layout()"
   ]
  },
  {
   "cell_type": "code",
   "execution_count": 18,
   "metadata": {},
   "outputs": [
    {
     "data": {
      "text/html": [
       "<div>\n",
       "<style scoped>\n",
       "    .dataframe tbody tr th:only-of-type {\n",
       "        vertical-align: middle;\n",
       "    }\n",
       "\n",
       "    .dataframe tbody tr th {\n",
       "        vertical-align: top;\n",
       "    }\n",
       "\n",
       "    .dataframe thead th {\n",
       "        text-align: right;\n",
       "    }\n",
       "</style>\n",
       "<table border=\"1\" class=\"dataframe\">\n",
       "  <thead>\n",
       "    <tr style=\"text-align: right;\">\n",
       "      <th></th>\n",
       "      <th>count</th>\n",
       "      <th>mean</th>\n",
       "      <th>std</th>\n",
       "      <th>min</th>\n",
       "      <th>25%</th>\n",
       "      <th>50%</th>\n",
       "      <th>75%</th>\n",
       "      <th>max</th>\n",
       "    </tr>\n",
       "    <tr>\n",
       "      <th>winPlacePerc</th>\n",
       "      <th></th>\n",
       "      <th></th>\n",
       "      <th></th>\n",
       "      <th></th>\n",
       "      <th></th>\n",
       "      <th></th>\n",
       "      <th></th>\n",
       "      <th></th>\n",
       "    </tr>\n",
       "  </thead>\n",
       "  <tbody>\n",
       "    <tr>\n",
       "      <th>0.4444</th>\n",
       "      <td>23013.0</td>\n",
       "      <td>30.931952</td>\n",
       "      <td>9.884729</td>\n",
       "      <td>10.0</td>\n",
       "      <td>28.0</td>\n",
       "      <td>28.0</td>\n",
       "      <td>28.0</td>\n",
       "      <td>100.0</td>\n",
       "    </tr>\n",
       "    <tr>\n",
       "      <th>0.6400</th>\n",
       "      <td>7719.0</td>\n",
       "      <td>26.119834</td>\n",
       "      <td>1.947223</td>\n",
       "      <td>26.0</td>\n",
       "      <td>26.0</td>\n",
       "      <td>26.0</td>\n",
       "      <td>26.0</td>\n",
       "      <td>76.0</td>\n",
       "    </tr>\n",
       "    <tr>\n",
       "      <th>0.7755</th>\n",
       "      <td>3514.0</td>\n",
       "      <td>57.209163</td>\n",
       "      <td>17.359802</td>\n",
       "      <td>50.0</td>\n",
       "      <td>50.0</td>\n",
       "      <td>50.0</td>\n",
       "      <td>50.0</td>\n",
       "      <td>99.0</td>\n",
       "    </tr>\n",
       "    <tr>\n",
       "      <th>0.1667</th>\n",
       "      <td>16985.0</td>\n",
       "      <td>43.589932</td>\n",
       "      <td>19.245631</td>\n",
       "      <td>7.0</td>\n",
       "      <td>31.0</td>\n",
       "      <td>49.0</td>\n",
       "      <td>49.0</td>\n",
       "      <td>97.0</td>\n",
       "    </tr>\n",
       "    <tr>\n",
       "      <th>0.1875</th>\n",
       "      <td>9378.0</td>\n",
       "      <td>54.464705</td>\n",
       "      <td>17.036320</td>\n",
       "      <td>17.0</td>\n",
       "      <td>49.0</td>\n",
       "      <td>49.0</td>\n",
       "      <td>49.0</td>\n",
       "      <td>97.0</td>\n",
       "    </tr>\n",
       "    <tr>\n",
       "      <th>0.0370</th>\n",
       "      <td>28937.0</td>\n",
       "      <td>28.022393</td>\n",
       "      <td>1.052622</td>\n",
       "      <td>28.0</td>\n",
       "      <td>28.0</td>\n",
       "      <td>28.0</td>\n",
       "      <td>28.0</td>\n",
       "      <td>82.0</td>\n",
       "    </tr>\n",
       "    <tr>\n",
       "      <th>0.0000</th>\n",
       "      <td>220505.0</td>\n",
       "      <td>36.098256</td>\n",
       "      <td>18.191715</td>\n",
       "      <td>2.0</td>\n",
       "      <td>27.0</td>\n",
       "      <td>29.0</td>\n",
       "      <td>46.0</td>\n",
       "      <td>100.0</td>\n",
       "    </tr>\n",
       "    <tr>\n",
       "      <th>0.7368</th>\n",
       "      <td>1314.0</td>\n",
       "      <td>86.890411</td>\n",
       "      <td>24.176714</td>\n",
       "      <td>20.0</td>\n",
       "      <td>96.0</td>\n",
       "      <td>96.0</td>\n",
       "      <td>96.0</td>\n",
       "      <td>96.0</td>\n",
       "    </tr>\n",
       "    <tr>\n",
       "      <th>0.3704</th>\n",
       "      <td>21390.0</td>\n",
       "      <td>28.032819</td>\n",
       "      <td>1.278634</td>\n",
       "      <td>28.0</td>\n",
       "      <td>28.0</td>\n",
       "      <td>28.0</td>\n",
       "      <td>28.0</td>\n",
       "      <td>82.0</td>\n",
       "    </tr>\n",
       "    <tr>\n",
       "      <th>0.2143</th>\n",
       "      <td>20084.0</td>\n",
       "      <td>31.059152</td>\n",
       "      <td>11.661224</td>\n",
       "      <td>15.0</td>\n",
       "      <td>29.0</td>\n",
       "      <td>29.0</td>\n",
       "      <td>29.0</td>\n",
       "      <td>99.0</td>\n",
       "    </tr>\n",
       "    <tr>\n",
       "      <th>0.3929</th>\n",
       "      <td>16272.0</td>\n",
       "      <td>29.073992</td>\n",
       "      <td>1.998446</td>\n",
       "      <td>29.0</td>\n",
       "      <td>29.0</td>\n",
       "      <td>29.0</td>\n",
       "      <td>29.0</td>\n",
       "      <td>85.0</td>\n",
       "    </tr>\n",
       "    <tr>\n",
       "      <th>0.4043</th>\n",
       "      <td>7981.0</td>\n",
       "      <td>54.360105</td>\n",
       "      <td>16.078134</td>\n",
       "      <td>48.0</td>\n",
       "      <td>48.0</td>\n",
       "      <td>48.0</td>\n",
       "      <td>48.0</td>\n",
       "      <td>95.0</td>\n",
       "    </tr>\n",
       "    <tr>\n",
       "      <th>0.9286</th>\n",
       "      <td>17468.0</td>\n",
       "      <td>31.317037</td>\n",
       "      <td>12.391784</td>\n",
       "      <td>15.0</td>\n",
       "      <td>29.0</td>\n",
       "      <td>29.0</td>\n",
       "      <td>29.0</td>\n",
       "      <td>99.0</td>\n",
       "    </tr>\n",
       "    <tr>\n",
       "      <th>0.8750</th>\n",
       "      <td>11648.0</td>\n",
       "      <td>48.518544</td>\n",
       "      <td>19.889115</td>\n",
       "      <td>9.0</td>\n",
       "      <td>41.0</td>\n",
       "      <td>49.0</td>\n",
       "      <td>49.0</td>\n",
       "      <td>97.0</td>\n",
       "    </tr>\n",
       "    <tr>\n",
       "      <th>0.9000</th>\n",
       "      <td>3793.0</td>\n",
       "      <td>34.493277</td>\n",
       "      <td>14.869457</td>\n",
       "      <td>11.0</td>\n",
       "      <td>31.0</td>\n",
       "      <td>31.0</td>\n",
       "      <td>31.0</td>\n",
       "      <td>91.0</td>\n",
       "    </tr>\n",
       "    <tr>\n",
       "      <th>0.2766</th>\n",
       "      <td>8066.0</td>\n",
       "      <td>54.141582</td>\n",
       "      <td>15.841920</td>\n",
       "      <td>48.0</td>\n",
       "      <td>48.0</td>\n",
       "      <td>48.0</td>\n",
       "      <td>48.0</td>\n",
       "      <td>95.0</td>\n",
       "    </tr>\n",
       "    <tr>\n",
       "      <th>0.7308</th>\n",
       "      <td>15854.0</td>\n",
       "      <td>27.021320</td>\n",
       "      <td>1.032274</td>\n",
       "      <td>27.0</td>\n",
       "      <td>27.0</td>\n",
       "      <td>27.0</td>\n",
       "      <td>27.0</td>\n",
       "      <td>79.0</td>\n",
       "    </tr>\n",
       "    <tr>\n",
       "      <th>0.8211</th>\n",
       "      <td>1162.0</td>\n",
       "      <td>96.000000</td>\n",
       "      <td>0.000000</td>\n",
       "      <td>96.0</td>\n",
       "      <td>96.0</td>\n",
       "      <td>96.0</td>\n",
       "      <td>96.0</td>\n",
       "      <td>96.0</td>\n",
       "    </tr>\n",
       "    <tr>\n",
       "      <th>0.1923</th>\n",
       "      <td>20018.0</td>\n",
       "      <td>27.018184</td>\n",
       "      <td>0.936869</td>\n",
       "      <td>27.0</td>\n",
       "      <td>27.0</td>\n",
       "      <td>27.0</td>\n",
       "      <td>27.0</td>\n",
       "      <td>79.0</td>\n",
       "    </tr>\n",
       "    <tr>\n",
       "      <th>0.9310</th>\n",
       "      <td>8633.0</td>\n",
       "      <td>30.436696</td>\n",
       "      <td>4.994571</td>\n",
       "      <td>30.0</td>\n",
       "      <td>30.0</td>\n",
       "      <td>30.0</td>\n",
       "      <td>30.0</td>\n",
       "      <td>88.0</td>\n",
       "    </tr>\n",
       "    <tr>\n",
       "      <th>0.6383</th>\n",
       "      <td>7303.0</td>\n",
       "      <td>54.493633</td>\n",
       "      <td>16.219417</td>\n",
       "      <td>48.0</td>\n",
       "      <td>48.0</td>\n",
       "      <td>48.0</td>\n",
       "      <td>48.0</td>\n",
       "      <td>95.0</td>\n",
       "    </tr>\n",
       "    <tr>\n",
       "      <th>0.7500</th>\n",
       "      <td>28808.0</td>\n",
       "      <td>38.392113</td>\n",
       "      <td>17.645403</td>\n",
       "      <td>5.0</td>\n",
       "      <td>29.0</td>\n",
       "      <td>29.0</td>\n",
       "      <td>49.0</td>\n",
       "      <td>97.0</td>\n",
       "    </tr>\n",
       "    <tr>\n",
       "      <th>0.9592</th>\n",
       "      <td>3675.0</td>\n",
       "      <td>57.160000</td>\n",
       "      <td>17.310573</td>\n",
       "      <td>50.0</td>\n",
       "      <td>50.0</td>\n",
       "      <td>50.0</td>\n",
       "      <td>50.0</td>\n",
       "      <td>99.0</td>\n",
       "    </tr>\n",
       "    <tr>\n",
       "      <th>0.9231</th>\n",
       "      <td>17438.0</td>\n",
       "      <td>28.329224</td>\n",
       "      <td>9.341006</td>\n",
       "      <td>14.0</td>\n",
       "      <td>27.0</td>\n",
       "      <td>27.0</td>\n",
       "      <td>27.0</td>\n",
       "      <td>92.0</td>\n",
       "    </tr>\n",
       "    <tr>\n",
       "      <th>0.8696</th>\n",
       "      <td>5882.0</td>\n",
       "      <td>48.478069</td>\n",
       "      <td>16.094463</td>\n",
       "      <td>24.0</td>\n",
       "      <td>47.0</td>\n",
       "      <td>47.0</td>\n",
       "      <td>47.0</td>\n",
       "      <td>93.0</td>\n",
       "    </tr>\n",
       "    <tr>\n",
       "      <th>0.1154</th>\n",
       "      <td>21459.0</td>\n",
       "      <td>27.015751</td>\n",
       "      <td>0.887320</td>\n",
       "      <td>27.0</td>\n",
       "      <td>27.0</td>\n",
       "      <td>27.0</td>\n",
       "      <td>27.0</td>\n",
       "      <td>79.0</td>\n",
       "    </tr>\n",
       "    <tr>\n",
       "      <th>0.7234</th>\n",
       "      <td>7493.0</td>\n",
       "      <td>54.466969</td>\n",
       "      <td>16.191382</td>\n",
       "      <td>48.0</td>\n",
       "      <td>48.0</td>\n",
       "      <td>48.0</td>\n",
       "      <td>48.0</td>\n",
       "      <td>95.0</td>\n",
       "    </tr>\n",
       "    <tr>\n",
       "      <th>0.9630</th>\n",
       "      <td>21293.0</td>\n",
       "      <td>28.030433</td>\n",
       "      <td>1.227011</td>\n",
       "      <td>28.0</td>\n",
       "      <td>28.0</td>\n",
       "      <td>28.0</td>\n",
       "      <td>28.0</td>\n",
       "      <td>82.0</td>\n",
       "    </tr>\n",
       "    <tr>\n",
       "      <th>0.4255</th>\n",
       "      <td>7899.0</td>\n",
       "      <td>54.485631</td>\n",
       "      <td>16.210938</td>\n",
       "      <td>48.0</td>\n",
       "      <td>48.0</td>\n",
       "      <td>48.0</td>\n",
       "      <td>48.0</td>\n",
       "      <td>95.0</td>\n",
       "    </tr>\n",
       "    <tr>\n",
       "      <th>0.0667</th>\n",
       "      <td>7554.0</td>\n",
       "      <td>37.108022</td>\n",
       "      <td>12.929121</td>\n",
       "      <td>16.0</td>\n",
       "      <td>31.0</td>\n",
       "      <td>31.0</td>\n",
       "      <td>46.0</td>\n",
       "      <td>91.0</td>\n",
       "    </tr>\n",
       "    <tr>\n",
       "      <th>...</th>\n",
       "      <td>...</td>\n",
       "      <td>...</td>\n",
       "      <td>...</td>\n",
       "      <td>...</td>\n",
       "      <td>...</td>\n",
       "      <td>...</td>\n",
       "      <td>...</td>\n",
       "      <td>...</td>\n",
       "    </tr>\n",
       "    <tr>\n",
       "      <th>0.4714</th>\n",
       "      <td>2.0</td>\n",
       "      <td>71.000000</td>\n",
       "      <td>0.000000</td>\n",
       "      <td>71.0</td>\n",
       "      <td>71.0</td>\n",
       "      <td>71.0</td>\n",
       "      <td>71.0</td>\n",
       "      <td>71.0</td>\n",
       "    </tr>\n",
       "    <tr>\n",
       "      <th>0.6711</th>\n",
       "      <td>3.0</td>\n",
       "      <td>77.000000</td>\n",
       "      <td>0.000000</td>\n",
       "      <td>77.0</td>\n",
       "      <td>77.0</td>\n",
       "      <td>77.0</td>\n",
       "      <td>77.0</td>\n",
       "      <td>77.0</td>\n",
       "    </tr>\n",
       "    <tr>\n",
       "      <th>0.3443</th>\n",
       "      <td>2.0</td>\n",
       "      <td>62.000000</td>\n",
       "      <td>0.000000</td>\n",
       "      <td>62.0</td>\n",
       "      <td>62.0</td>\n",
       "      <td>62.0</td>\n",
       "      <td>62.0</td>\n",
       "      <td>62.0</td>\n",
       "    </tr>\n",
       "    <tr>\n",
       "      <th>0.1148</th>\n",
       "      <td>2.0</td>\n",
       "      <td>62.000000</td>\n",
       "      <td>0.000000</td>\n",
       "      <td>62.0</td>\n",
       "      <td>62.0</td>\n",
       "      <td>62.0</td>\n",
       "      <td>62.0</td>\n",
       "      <td>62.0</td>\n",
       "    </tr>\n",
       "    <tr>\n",
       "      <th>0.8070</th>\n",
       "      <td>2.0</td>\n",
       "      <td>58.000000</td>\n",
       "      <td>0.000000</td>\n",
       "      <td>58.0</td>\n",
       "      <td>58.0</td>\n",
       "      <td>58.0</td>\n",
       "      <td>58.0</td>\n",
       "      <td>58.0</td>\n",
       "    </tr>\n",
       "    <tr>\n",
       "      <th>0.9423</th>\n",
       "      <td>1.0</td>\n",
       "      <td>53.000000</td>\n",
       "      <td>NaN</td>\n",
       "      <td>53.0</td>\n",
       "      <td>53.0</td>\n",
       "      <td>53.0</td>\n",
       "      <td>53.0</td>\n",
       "      <td>53.0</td>\n",
       "    </tr>\n",
       "    <tr>\n",
       "      <th>0.6167</th>\n",
       "      <td>1.0</td>\n",
       "      <td>61.000000</td>\n",
       "      <td>NaN</td>\n",
       "      <td>61.0</td>\n",
       "      <td>61.0</td>\n",
       "      <td>61.0</td>\n",
       "      <td>61.0</td>\n",
       "      <td>61.0</td>\n",
       "    </tr>\n",
       "    <tr>\n",
       "      <th>0.1311</th>\n",
       "      <td>2.0</td>\n",
       "      <td>62.000000</td>\n",
       "      <td>0.000000</td>\n",
       "      <td>62.0</td>\n",
       "      <td>62.0</td>\n",
       "      <td>62.0</td>\n",
       "      <td>62.0</td>\n",
       "      <td>62.0</td>\n",
       "    </tr>\n",
       "    <tr>\n",
       "      <th>0.4833</th>\n",
       "      <td>1.0</td>\n",
       "      <td>61.000000</td>\n",
       "      <td>NaN</td>\n",
       "      <td>61.0</td>\n",
       "      <td>61.0</td>\n",
       "      <td>61.0</td>\n",
       "      <td>61.0</td>\n",
       "      <td>61.0</td>\n",
       "    </tr>\n",
       "    <tr>\n",
       "      <th>0.8833</th>\n",
       "      <td>1.0</td>\n",
       "      <td>61.000000</td>\n",
       "      <td>NaN</td>\n",
       "      <td>61.0</td>\n",
       "      <td>61.0</td>\n",
       "      <td>61.0</td>\n",
       "      <td>61.0</td>\n",
       "      <td>61.0</td>\n",
       "    </tr>\n",
       "    <tr>\n",
       "      <th>0.1268</th>\n",
       "      <td>2.0</td>\n",
       "      <td>72.000000</td>\n",
       "      <td>0.000000</td>\n",
       "      <td>72.0</td>\n",
       "      <td>72.0</td>\n",
       "      <td>72.0</td>\n",
       "      <td>72.0</td>\n",
       "      <td>72.0</td>\n",
       "    </tr>\n",
       "    <tr>\n",
       "      <th>0.2687</th>\n",
       "      <td>2.0</td>\n",
       "      <td>68.000000</td>\n",
       "      <td>0.000000</td>\n",
       "      <td>68.0</td>\n",
       "      <td>68.0</td>\n",
       "      <td>68.0</td>\n",
       "      <td>68.0</td>\n",
       "      <td>68.0</td>\n",
       "    </tr>\n",
       "    <tr>\n",
       "      <th>0.4098</th>\n",
       "      <td>2.0</td>\n",
       "      <td>62.000000</td>\n",
       "      <td>0.000000</td>\n",
       "      <td>62.0</td>\n",
       "      <td>62.0</td>\n",
       "      <td>62.0</td>\n",
       "      <td>62.0</td>\n",
       "      <td>62.0</td>\n",
       "    </tr>\n",
       "    <tr>\n",
       "      <th>0.7115</th>\n",
       "      <td>1.0</td>\n",
       "      <td>53.000000</td>\n",
       "      <td>NaN</td>\n",
       "      <td>53.0</td>\n",
       "      <td>53.0</td>\n",
       "      <td>53.0</td>\n",
       "      <td>53.0</td>\n",
       "      <td>53.0</td>\n",
       "    </tr>\n",
       "    <tr>\n",
       "      <th>0.2237</th>\n",
       "      <td>2.0</td>\n",
       "      <td>77.000000</td>\n",
       "      <td>0.000000</td>\n",
       "      <td>77.0</td>\n",
       "      <td>77.0</td>\n",
       "      <td>77.0</td>\n",
       "      <td>77.0</td>\n",
       "      <td>77.0</td>\n",
       "    </tr>\n",
       "    <tr>\n",
       "      <th>0.2742</th>\n",
       "      <td>1.0</td>\n",
       "      <td>63.000000</td>\n",
       "      <td>NaN</td>\n",
       "      <td>63.0</td>\n",
       "      <td>63.0</td>\n",
       "      <td>63.0</td>\n",
       "      <td>63.0</td>\n",
       "      <td>63.0</td>\n",
       "    </tr>\n",
       "    <tr>\n",
       "      <th>0.9344</th>\n",
       "      <td>2.0</td>\n",
       "      <td>62.000000</td>\n",
       "      <td>0.000000</td>\n",
       "      <td>62.0</td>\n",
       "      <td>62.0</td>\n",
       "      <td>62.0</td>\n",
       "      <td>62.0</td>\n",
       "      <td>62.0</td>\n",
       "    </tr>\n",
       "    <tr>\n",
       "      <th>0.0635</th>\n",
       "      <td>3.0</td>\n",
       "      <td>64.000000</td>\n",
       "      <td>0.000000</td>\n",
       "      <td>64.0</td>\n",
       "      <td>64.0</td>\n",
       "      <td>64.0</td>\n",
       "      <td>64.0</td>\n",
       "      <td>64.0</td>\n",
       "    </tr>\n",
       "    <tr>\n",
       "      <th>0.0423</th>\n",
       "      <td>1.0</td>\n",
       "      <td>72.000000</td>\n",
       "      <td>NaN</td>\n",
       "      <td>72.0</td>\n",
       "      <td>72.0</td>\n",
       "      <td>72.0</td>\n",
       "      <td>72.0</td>\n",
       "      <td>72.0</td>\n",
       "    </tr>\n",
       "    <tr>\n",
       "      <th>0.5915</th>\n",
       "      <td>2.0</td>\n",
       "      <td>72.000000</td>\n",
       "      <td>0.000000</td>\n",
       "      <td>72.0</td>\n",
       "      <td>72.0</td>\n",
       "      <td>72.0</td>\n",
       "      <td>72.0</td>\n",
       "      <td>72.0</td>\n",
       "    </tr>\n",
       "    <tr>\n",
       "      <th>0.0164</th>\n",
       "      <td>2.0</td>\n",
       "      <td>62.000000</td>\n",
       "      <td>0.000000</td>\n",
       "      <td>62.0</td>\n",
       "      <td>62.0</td>\n",
       "      <td>62.0</td>\n",
       "      <td>62.0</td>\n",
       "      <td>62.0</td>\n",
       "    </tr>\n",
       "    <tr>\n",
       "      <th>0.4366</th>\n",
       "      <td>2.0</td>\n",
       "      <td>72.000000</td>\n",
       "      <td>0.000000</td>\n",
       "      <td>72.0</td>\n",
       "      <td>72.0</td>\n",
       "      <td>72.0</td>\n",
       "      <td>72.0</td>\n",
       "      <td>72.0</td>\n",
       "    </tr>\n",
       "    <tr>\n",
       "      <th>0.9859</th>\n",
       "      <td>2.0</td>\n",
       "      <td>72.000000</td>\n",
       "      <td>0.000000</td>\n",
       "      <td>72.0</td>\n",
       "      <td>72.0</td>\n",
       "      <td>72.0</td>\n",
       "      <td>72.0</td>\n",
       "      <td>72.0</td>\n",
       "    </tr>\n",
       "    <tr>\n",
       "      <th>0.2167</th>\n",
       "      <td>1.0</td>\n",
       "      <td>61.000000</td>\n",
       "      <td>NaN</td>\n",
       "      <td>61.0</td>\n",
       "      <td>61.0</td>\n",
       "      <td>61.0</td>\n",
       "      <td>61.0</td>\n",
       "      <td>61.0</td>\n",
       "    </tr>\n",
       "    <tr>\n",
       "      <th>0.0577</th>\n",
       "      <td>1.0</td>\n",
       "      <td>53.000000</td>\n",
       "      <td>NaN</td>\n",
       "      <td>53.0</td>\n",
       "      <td>53.0</td>\n",
       "      <td>53.0</td>\n",
       "      <td>53.0</td>\n",
       "      <td>53.0</td>\n",
       "    </tr>\n",
       "    <tr>\n",
       "      <th>0.6212</th>\n",
       "      <td>2.0</td>\n",
       "      <td>67.000000</td>\n",
       "      <td>0.000000</td>\n",
       "      <td>67.0</td>\n",
       "      <td>67.0</td>\n",
       "      <td>67.0</td>\n",
       "      <td>67.0</td>\n",
       "      <td>67.0</td>\n",
       "    </tr>\n",
       "    <tr>\n",
       "      <th>0.0845</th>\n",
       "      <td>1.0</td>\n",
       "      <td>72.000000</td>\n",
       "      <td>NaN</td>\n",
       "      <td>72.0</td>\n",
       "      <td>72.0</td>\n",
       "      <td>72.0</td>\n",
       "      <td>72.0</td>\n",
       "      <td>72.0</td>\n",
       "    </tr>\n",
       "    <tr>\n",
       "      <th>0.1207</th>\n",
       "      <td>1.0</td>\n",
       "      <td>59.000000</td>\n",
       "      <td>NaN</td>\n",
       "      <td>59.0</td>\n",
       "      <td>59.0</td>\n",
       "      <td>59.0</td>\n",
       "      <td>59.0</td>\n",
       "      <td>59.0</td>\n",
       "    </tr>\n",
       "    <tr>\n",
       "      <th>0.4561</th>\n",
       "      <td>2.0</td>\n",
       "      <td>58.000000</td>\n",
       "      <td>0.000000</td>\n",
       "      <td>58.0</td>\n",
       "      <td>58.0</td>\n",
       "      <td>58.0</td>\n",
       "      <td>58.0</td>\n",
       "      <td>58.0</td>\n",
       "    </tr>\n",
       "    <tr>\n",
       "      <th>0.2879</th>\n",
       "      <td>1.0</td>\n",
       "      <td>67.000000</td>\n",
       "      <td>NaN</td>\n",
       "      <td>67.0</td>\n",
       "      <td>67.0</td>\n",
       "      <td>67.0</td>\n",
       "      <td>67.0</td>\n",
       "      <td>67.0</td>\n",
       "    </tr>\n",
       "  </tbody>\n",
       "</table>\n",
       "<p>3000 rows × 8 columns</p>\n",
       "</div>"
      ],
      "text/plain": [
       "                 count       mean        std   min   25%   50%   75%    max\n",
       "winPlacePerc                                                               \n",
       "0.4444         23013.0  30.931952   9.884729  10.0  28.0  28.0  28.0  100.0\n",
       "0.6400          7719.0  26.119834   1.947223  26.0  26.0  26.0  26.0   76.0\n",
       "0.7755          3514.0  57.209163  17.359802  50.0  50.0  50.0  50.0   99.0\n",
       "0.1667         16985.0  43.589932  19.245631   7.0  31.0  49.0  49.0   97.0\n",
       "0.1875          9378.0  54.464705  17.036320  17.0  49.0  49.0  49.0   97.0\n",
       "0.0370         28937.0  28.022393   1.052622  28.0  28.0  28.0  28.0   82.0\n",
       "0.0000        220505.0  36.098256  18.191715   2.0  27.0  29.0  46.0  100.0\n",
       "0.7368          1314.0  86.890411  24.176714  20.0  96.0  96.0  96.0   96.0\n",
       "0.3704         21390.0  28.032819   1.278634  28.0  28.0  28.0  28.0   82.0\n",
       "0.2143         20084.0  31.059152  11.661224  15.0  29.0  29.0  29.0   99.0\n",
       "0.3929         16272.0  29.073992   1.998446  29.0  29.0  29.0  29.0   85.0\n",
       "0.4043          7981.0  54.360105  16.078134  48.0  48.0  48.0  48.0   95.0\n",
       "0.9286         17468.0  31.317037  12.391784  15.0  29.0  29.0  29.0   99.0\n",
       "0.8750         11648.0  48.518544  19.889115   9.0  41.0  49.0  49.0   97.0\n",
       "0.9000          3793.0  34.493277  14.869457  11.0  31.0  31.0  31.0   91.0\n",
       "0.2766          8066.0  54.141582  15.841920  48.0  48.0  48.0  48.0   95.0\n",
       "0.7308         15854.0  27.021320   1.032274  27.0  27.0  27.0  27.0   79.0\n",
       "0.8211          1162.0  96.000000   0.000000  96.0  96.0  96.0  96.0   96.0\n",
       "0.1923         20018.0  27.018184   0.936869  27.0  27.0  27.0  27.0   79.0\n",
       "0.9310          8633.0  30.436696   4.994571  30.0  30.0  30.0  30.0   88.0\n",
       "0.6383          7303.0  54.493633  16.219417  48.0  48.0  48.0  48.0   95.0\n",
       "0.7500         28808.0  38.392113  17.645403   5.0  29.0  29.0  49.0   97.0\n",
       "0.9592          3675.0  57.160000  17.310573  50.0  50.0  50.0  50.0   99.0\n",
       "0.9231         17438.0  28.329224   9.341006  14.0  27.0  27.0  27.0   92.0\n",
       "0.8696          5882.0  48.478069  16.094463  24.0  47.0  47.0  47.0   93.0\n",
       "0.1154         21459.0  27.015751   0.887320  27.0  27.0  27.0  27.0   79.0\n",
       "0.7234          7493.0  54.466969  16.191382  48.0  48.0  48.0  48.0   95.0\n",
       "0.9630         21293.0  28.030433   1.227011  28.0  28.0  28.0  28.0   82.0\n",
       "0.4255          7899.0  54.485631  16.210938  48.0  48.0  48.0  48.0   95.0\n",
       "0.0667          7554.0  37.108022  12.929121  16.0  31.0  31.0  46.0   91.0\n",
       "...                ...        ...        ...   ...   ...   ...   ...    ...\n",
       "0.4714             2.0  71.000000   0.000000  71.0  71.0  71.0  71.0   71.0\n",
       "0.6711             3.0  77.000000   0.000000  77.0  77.0  77.0  77.0   77.0\n",
       "0.3443             2.0  62.000000   0.000000  62.0  62.0  62.0  62.0   62.0\n",
       "0.1148             2.0  62.000000   0.000000  62.0  62.0  62.0  62.0   62.0\n",
       "0.8070             2.0  58.000000   0.000000  58.0  58.0  58.0  58.0   58.0\n",
       "0.9423             1.0  53.000000        NaN  53.0  53.0  53.0  53.0   53.0\n",
       "0.6167             1.0  61.000000        NaN  61.0  61.0  61.0  61.0   61.0\n",
       "0.1311             2.0  62.000000   0.000000  62.0  62.0  62.0  62.0   62.0\n",
       "0.4833             1.0  61.000000        NaN  61.0  61.0  61.0  61.0   61.0\n",
       "0.8833             1.0  61.000000        NaN  61.0  61.0  61.0  61.0   61.0\n",
       "0.1268             2.0  72.000000   0.000000  72.0  72.0  72.0  72.0   72.0\n",
       "0.2687             2.0  68.000000   0.000000  68.0  68.0  68.0  68.0   68.0\n",
       "0.4098             2.0  62.000000   0.000000  62.0  62.0  62.0  62.0   62.0\n",
       "0.7115             1.0  53.000000        NaN  53.0  53.0  53.0  53.0   53.0\n",
       "0.2237             2.0  77.000000   0.000000  77.0  77.0  77.0  77.0   77.0\n",
       "0.2742             1.0  63.000000        NaN  63.0  63.0  63.0  63.0   63.0\n",
       "0.9344             2.0  62.000000   0.000000  62.0  62.0  62.0  62.0   62.0\n",
       "0.0635             3.0  64.000000   0.000000  64.0  64.0  64.0  64.0   64.0\n",
       "0.0423             1.0  72.000000        NaN  72.0  72.0  72.0  72.0   72.0\n",
       "0.5915             2.0  72.000000   0.000000  72.0  72.0  72.0  72.0   72.0\n",
       "0.0164             2.0  62.000000   0.000000  62.0  62.0  62.0  62.0   62.0\n",
       "0.4366             2.0  72.000000   0.000000  72.0  72.0  72.0  72.0   72.0\n",
       "0.9859             2.0  72.000000   0.000000  72.0  72.0  72.0  72.0   72.0\n",
       "0.2167             1.0  61.000000        NaN  61.0  61.0  61.0  61.0   61.0\n",
       "0.0577             1.0  53.000000        NaN  53.0  53.0  53.0  53.0   53.0\n",
       "0.6212             2.0  67.000000   0.000000  67.0  67.0  67.0  67.0   67.0\n",
       "0.0845             1.0  72.000000        NaN  72.0  72.0  72.0  72.0   72.0\n",
       "0.1207             1.0  59.000000        NaN  59.0  59.0  59.0  59.0   59.0\n",
       "0.4561             2.0  58.000000   0.000000  58.0  58.0  58.0  58.0   58.0\n",
       "0.2879             1.0  67.000000        NaN  67.0  67.0  67.0  67.0   67.0\n",
       "\n",
       "[3000 rows x 8 columns]"
      ]
     },
     "execution_count": 18,
     "metadata": {},
     "output_type": "execute_result"
    }
   ],
   "source": [
    "PG_train.groupby(['winPlacePerc'], sort=False)['maxPlace'].describe()"
   ]
  },
  {
   "cell_type": "code",
   "execution_count": 32,
   "metadata": {},
   "outputs": [
    {
     "data": {
      "text/html": [
       "<div>\n",
       "<style scoped>\n",
       "    .dataframe tbody tr th:only-of-type {\n",
       "        vertical-align: middle;\n",
       "    }\n",
       "\n",
       "    .dataframe tbody tr th {\n",
       "        vertical-align: top;\n",
       "    }\n",
       "\n",
       "    .dataframe thead th {\n",
       "        text-align: right;\n",
       "    }\n",
       "</style>\n",
       "<table border=\"1\" class=\"dataframe\">\n",
       "  <thead>\n",
       "    <tr style=\"text-align: right;\">\n",
       "      <th></th>\n",
       "      <th>Id</th>\n",
       "      <th>groupId</th>\n",
       "      <th>matchId</th>\n",
       "      <th>assists</th>\n",
       "      <th>boosts</th>\n",
       "      <th>damageDealt</th>\n",
       "      <th>DBNOs</th>\n",
       "      <th>headshotKills</th>\n",
       "      <th>heals</th>\n",
       "      <th>killPlace</th>\n",
       "      <th>killPoints</th>\n",
       "      <th>kills</th>\n",
       "      <th>killStreaks</th>\n",
       "      <th>longestKill</th>\n",
       "      <th>matchDuration</th>\n",
       "      <th>matchType</th>\n",
       "      <th>maxPlace</th>\n",
       "      <th>numGroups</th>\n",
       "      <th>rankPoints</th>\n",
       "      <th>revives</th>\n",
       "      <th>rideDistance</th>\n",
       "      <th>roadKills</th>\n",
       "      <th>swimDistance</th>\n",
       "      <th>teamKills</th>\n",
       "      <th>vehicleDestroys</th>\n",
       "      <th>walkDistance</th>\n",
       "      <th>weaponsAcquired</th>\n",
       "      <th>winPoints</th>\n",
       "      <th>winPlacePerc</th>\n",
       "    </tr>\n",
       "  </thead>\n",
       "  <tbody>\n",
       "    <tr>\n",
       "      <th>67</th>\n",
       "      <td>22252be49d4419</td>\n",
       "      <td>37fa7583da2fa2</td>\n",
       "      <td>1ce1cb998f75c7</td>\n",
       "      <td>1</td>\n",
       "      <td>5</td>\n",
       "      <td>378.80</td>\n",
       "      <td>2</td>\n",
       "      <td>3</td>\n",
       "      <td>6</td>\n",
       "      <td>4</td>\n",
       "      <td>0</td>\n",
       "      <td>4</td>\n",
       "      <td>2</td>\n",
       "      <td>61.390</td>\n",
       "      <td>1297</td>\n",
       "      <td>squad-fpp</td>\n",
       "      <td>29</td>\n",
       "      <td>28</td>\n",
       "      <td>1431</td>\n",
       "      <td>0</td>\n",
       "      <td>317.7</td>\n",
       "      <td>0</td>\n",
       "      <td>0.000</td>\n",
       "      <td>0</td>\n",
       "      <td>1</td>\n",
       "      <td>3120.0</td>\n",
       "      <td>4</td>\n",
       "      <td>0</td>\n",
       "      <td>1.0</td>\n",
       "    </tr>\n",
       "    <tr>\n",
       "      <th>107</th>\n",
       "      <td>7970b4ea89e81e</td>\n",
       "      <td>abf9e2780b9f48</td>\n",
       "      <td>04832cfd74ff30</td>\n",
       "      <td>1</td>\n",
       "      <td>1</td>\n",
       "      <td>58.36</td>\n",
       "      <td>0</td>\n",
       "      <td>0</td>\n",
       "      <td>2</td>\n",
       "      <td>38</td>\n",
       "      <td>0</td>\n",
       "      <td>0</td>\n",
       "      <td>0</td>\n",
       "      <td>0.000</td>\n",
       "      <td>1708</td>\n",
       "      <td>squad</td>\n",
       "      <td>26</td>\n",
       "      <td>25</td>\n",
       "      <td>1494</td>\n",
       "      <td>0</td>\n",
       "      <td>5134.0</td>\n",
       "      <td>0</td>\n",
       "      <td>0.000</td>\n",
       "      <td>0</td>\n",
       "      <td>0</td>\n",
       "      <td>2708.0</td>\n",
       "      <td>7</td>\n",
       "      <td>0</td>\n",
       "      <td>1.0</td>\n",
       "    </tr>\n",
       "    <tr>\n",
       "      <th>118</th>\n",
       "      <td>953577684b828a</td>\n",
       "      <td>54ce33c41ef9ff</td>\n",
       "      <td>c5d412db6dbee4</td>\n",
       "      <td>2</td>\n",
       "      <td>6</td>\n",
       "      <td>76.11</td>\n",
       "      <td>0</td>\n",
       "      <td>0</td>\n",
       "      <td>12</td>\n",
       "      <td>45</td>\n",
       "      <td>0</td>\n",
       "      <td>0</td>\n",
       "      <td>0</td>\n",
       "      <td>0.000</td>\n",
       "      <td>1388</td>\n",
       "      <td>duo-fpp</td>\n",
       "      <td>49</td>\n",
       "      <td>47</td>\n",
       "      <td>1468</td>\n",
       "      <td>1</td>\n",
       "      <td>0.0</td>\n",
       "      <td>0</td>\n",
       "      <td>0.000</td>\n",
       "      <td>0</td>\n",
       "      <td>0</td>\n",
       "      <td>2635.0</td>\n",
       "      <td>7</td>\n",
       "      <td>0</td>\n",
       "      <td>1.0</td>\n",
       "    </tr>\n",
       "    <tr>\n",
       "      <th>123</th>\n",
       "      <td>174c758156bcf3</td>\n",
       "      <td>a935604c9bb7aa</td>\n",
       "      <td>edc87c8d445823</td>\n",
       "      <td>1</td>\n",
       "      <td>9</td>\n",
       "      <td>626.20</td>\n",
       "      <td>4</td>\n",
       "      <td>3</td>\n",
       "      <td>2</td>\n",
       "      <td>4</td>\n",
       "      <td>1333</td>\n",
       "      <td>6</td>\n",
       "      <td>2</td>\n",
       "      <td>85.740</td>\n",
       "      <td>1405</td>\n",
       "      <td>squad-fpp</td>\n",
       "      <td>29</td>\n",
       "      <td>28</td>\n",
       "      <td>-1</td>\n",
       "      <td>0</td>\n",
       "      <td>1045.0</td>\n",
       "      <td>0</td>\n",
       "      <td>0.000</td>\n",
       "      <td>0</td>\n",
       "      <td>0</td>\n",
       "      <td>2814.0</td>\n",
       "      <td>7</td>\n",
       "      <td>1566</td>\n",
       "      <td>1.0</td>\n",
       "    </tr>\n",
       "    <tr>\n",
       "      <th>186</th>\n",
       "      <td>eb7a3e9f50eca5</td>\n",
       "      <td>fe3d74f737cd10</td>\n",
       "      <td>92338c2233be1a</td>\n",
       "      <td>0</td>\n",
       "      <td>5</td>\n",
       "      <td>778.00</td>\n",
       "      <td>0</td>\n",
       "      <td>3</td>\n",
       "      <td>2</td>\n",
       "      <td>2</td>\n",
       "      <td>1693</td>\n",
       "      <td>8</td>\n",
       "      <td>1</td>\n",
       "      <td>158.900</td>\n",
       "      <td>1387</td>\n",
       "      <td>solo-fpp</td>\n",
       "      <td>98</td>\n",
       "      <td>97</td>\n",
       "      <td>-1</td>\n",
       "      <td>0</td>\n",
       "      <td>0.0</td>\n",
       "      <td>0</td>\n",
       "      <td>0.000</td>\n",
       "      <td>0</td>\n",
       "      <td>0</td>\n",
       "      <td>2422.0</td>\n",
       "      <td>5</td>\n",
       "      <td>1506</td>\n",
       "      <td>1.0</td>\n",
       "    </tr>\n",
       "    <tr>\n",
       "      <th>229</th>\n",
       "      <td>de5d4078b95b3e</td>\n",
       "      <td>f31719bc7a9b81</td>\n",
       "      <td>46fef5beda2edb</td>\n",
       "      <td>2</td>\n",
       "      <td>3</td>\n",
       "      <td>629.00</td>\n",
       "      <td>4</td>\n",
       "      <td>2</td>\n",
       "      <td>1</td>\n",
       "      <td>4</td>\n",
       "      <td>0</td>\n",
       "      <td>5</td>\n",
       "      <td>2</td>\n",
       "      <td>200.200</td>\n",
       "      <td>1394</td>\n",
       "      <td>squad</td>\n",
       "      <td>29</td>\n",
       "      <td>28</td>\n",
       "      <td>1456</td>\n",
       "      <td>3</td>\n",
       "      <td>203.5</td>\n",
       "      <td>0</td>\n",
       "      <td>0.000</td>\n",
       "      <td>0</td>\n",
       "      <td>0</td>\n",
       "      <td>2697.0</td>\n",
       "      <td>4</td>\n",
       "      <td>0</td>\n",
       "      <td>1.0</td>\n",
       "    </tr>\n",
       "    <tr>\n",
       "      <th>300</th>\n",
       "      <td>9ac54e66c0a5d3</td>\n",
       "      <td>d973f082d6c416</td>\n",
       "      <td>15535f0f9d9e46</td>\n",
       "      <td>1</td>\n",
       "      <td>7</td>\n",
       "      <td>1120.00</td>\n",
       "      <td>8</td>\n",
       "      <td>3</td>\n",
       "      <td>1</td>\n",
       "      <td>1</td>\n",
       "      <td>0</td>\n",
       "      <td>14</td>\n",
       "      <td>3</td>\n",
       "      <td>112.500</td>\n",
       "      <td>1305</td>\n",
       "      <td>squad-fpp</td>\n",
       "      <td>31</td>\n",
       "      <td>29</td>\n",
       "      <td>1649</td>\n",
       "      <td>0</td>\n",
       "      <td>0.0</td>\n",
       "      <td>0</td>\n",
       "      <td>0.000</td>\n",
       "      <td>0</td>\n",
       "      <td>0</td>\n",
       "      <td>3503.0</td>\n",
       "      <td>8</td>\n",
       "      <td>0</td>\n",
       "      <td>1.0</td>\n",
       "    </tr>\n",
       "    <tr>\n",
       "      <th>341</th>\n",
       "      <td>ab4532e6427a7e</td>\n",
       "      <td>91b422b51e687f</td>\n",
       "      <td>12f3738af22f97</td>\n",
       "      <td>0</td>\n",
       "      <td>6</td>\n",
       "      <td>91.00</td>\n",
       "      <td>0</td>\n",
       "      <td>1</td>\n",
       "      <td>0</td>\n",
       "      <td>29</td>\n",
       "      <td>0</td>\n",
       "      <td>1</td>\n",
       "      <td>1</td>\n",
       "      <td>20.110</td>\n",
       "      <td>1801</td>\n",
       "      <td>duo-fpp</td>\n",
       "      <td>46</td>\n",
       "      <td>45</td>\n",
       "      <td>1552</td>\n",
       "      <td>0</td>\n",
       "      <td>4427.0</td>\n",
       "      <td>0</td>\n",
       "      <td>0.000</td>\n",
       "      <td>0</td>\n",
       "      <td>0</td>\n",
       "      <td>2348.0</td>\n",
       "      <td>4</td>\n",
       "      <td>0</td>\n",
       "      <td>1.0</td>\n",
       "    </tr>\n",
       "    <tr>\n",
       "      <th>396</th>\n",
       "      <td>04c098428fcf76</td>\n",
       "      <td>661280662c9ef5</td>\n",
       "      <td>da92638f46258e</td>\n",
       "      <td>0</td>\n",
       "      <td>9</td>\n",
       "      <td>235.70</td>\n",
       "      <td>0</td>\n",
       "      <td>0</td>\n",
       "      <td>5</td>\n",
       "      <td>22</td>\n",
       "      <td>1427</td>\n",
       "      <td>1</td>\n",
       "      <td>1</td>\n",
       "      <td>60.760</td>\n",
       "      <td>1814</td>\n",
       "      <td>squad</td>\n",
       "      <td>27</td>\n",
       "      <td>27</td>\n",
       "      <td>-1</td>\n",
       "      <td>3</td>\n",
       "      <td>4439.0</td>\n",
       "      <td>0</td>\n",
       "      <td>0.000</td>\n",
       "      <td>0</td>\n",
       "      <td>0</td>\n",
       "      <td>3408.0</td>\n",
       "      <td>9</td>\n",
       "      <td>1460</td>\n",
       "      <td>1.0</td>\n",
       "    </tr>\n",
       "    <tr>\n",
       "      <th>465</th>\n",
       "      <td>d310b194f8a869</td>\n",
       "      <td>776b1830133440</td>\n",
       "      <td>4fcbc19ac4df3d</td>\n",
       "      <td>0</td>\n",
       "      <td>4</td>\n",
       "      <td>181.50</td>\n",
       "      <td>2</td>\n",
       "      <td>0</td>\n",
       "      <td>10</td>\n",
       "      <td>7</td>\n",
       "      <td>1653</td>\n",
       "      <td>3</td>\n",
       "      <td>2</td>\n",
       "      <td>43.780</td>\n",
       "      <td>1769</td>\n",
       "      <td>squad-fpp</td>\n",
       "      <td>28</td>\n",
       "      <td>26</td>\n",
       "      <td>-1</td>\n",
       "      <td>0</td>\n",
       "      <td>3279.0</td>\n",
       "      <td>0</td>\n",
       "      <td>0.000</td>\n",
       "      <td>1</td>\n",
       "      <td>1</td>\n",
       "      <td>3202.0</td>\n",
       "      <td>6</td>\n",
       "      <td>1603</td>\n",
       "      <td>1.0</td>\n",
       "    </tr>\n",
       "    <tr>\n",
       "      <th>493</th>\n",
       "      <td>575f5ad18b60ac</td>\n",
       "      <td>9ed86c84df9fe7</td>\n",
       "      <td>728a56582842f8</td>\n",
       "      <td>1</td>\n",
       "      <td>3</td>\n",
       "      <td>275.90</td>\n",
       "      <td>0</td>\n",
       "      <td>0</td>\n",
       "      <td>2</td>\n",
       "      <td>44</td>\n",
       "      <td>0</td>\n",
       "      <td>0</td>\n",
       "      <td>0</td>\n",
       "      <td>0.000</td>\n",
       "      <td>1828</td>\n",
       "      <td>squad-fpp</td>\n",
       "      <td>29</td>\n",
       "      <td>26</td>\n",
       "      <td>1500</td>\n",
       "      <td>0</td>\n",
       "      <td>2293.0</td>\n",
       "      <td>0</td>\n",
       "      <td>0.000</td>\n",
       "      <td>0</td>\n",
       "      <td>0</td>\n",
       "      <td>2537.0</td>\n",
       "      <td>4</td>\n",
       "      <td>0</td>\n",
       "      <td>1.0</td>\n",
       "    </tr>\n",
       "    <tr>\n",
       "      <th>594</th>\n",
       "      <td>2ff0379b2503c8</td>\n",
       "      <td>cca408f624676f</td>\n",
       "      <td>ed47bceb65c153</td>\n",
       "      <td>1</td>\n",
       "      <td>6</td>\n",
       "      <td>149.40</td>\n",
       "      <td>0</td>\n",
       "      <td>0</td>\n",
       "      <td>7</td>\n",
       "      <td>24</td>\n",
       "      <td>0</td>\n",
       "      <td>1</td>\n",
       "      <td>1</td>\n",
       "      <td>11.360</td>\n",
       "      <td>1910</td>\n",
       "      <td>squad</td>\n",
       "      <td>27</td>\n",
       "      <td>25</td>\n",
       "      <td>1433</td>\n",
       "      <td>1</td>\n",
       "      <td>5883.0</td>\n",
       "      <td>0</td>\n",
       "      <td>0.000</td>\n",
       "      <td>0</td>\n",
       "      <td>0</td>\n",
       "      <td>2133.0</td>\n",
       "      <td>6</td>\n",
       "      <td>0</td>\n",
       "      <td>1.0</td>\n",
       "    </tr>\n",
       "    <tr>\n",
       "      <th>598</th>\n",
       "      <td>ce39351ac31340</td>\n",
       "      <td>0edc46edf214ea</td>\n",
       "      <td>f001fa89bd6db3</td>\n",
       "      <td>1</td>\n",
       "      <td>0</td>\n",
       "      <td>447.30</td>\n",
       "      <td>3</td>\n",
       "      <td>1</td>\n",
       "      <td>0</td>\n",
       "      <td>3</td>\n",
       "      <td>0</td>\n",
       "      <td>4</td>\n",
       "      <td>2</td>\n",
       "      <td>13.150</td>\n",
       "      <td>1327</td>\n",
       "      <td>squad-fpp</td>\n",
       "      <td>25</td>\n",
       "      <td>23</td>\n",
       "      <td>1502</td>\n",
       "      <td>0</td>\n",
       "      <td>0.0</td>\n",
       "      <td>0</td>\n",
       "      <td>0.000</td>\n",
       "      <td>0</td>\n",
       "      <td>0</td>\n",
       "      <td>252.8</td>\n",
       "      <td>3</td>\n",
       "      <td>0</td>\n",
       "      <td>1.0</td>\n",
       "    </tr>\n",
       "    <tr>\n",
       "      <th>647</th>\n",
       "      <td>fd5c8c952b9a06</td>\n",
       "      <td>37ba5425c00837</td>\n",
       "      <td>34293599de17ef</td>\n",
       "      <td>1</td>\n",
       "      <td>7</td>\n",
       "      <td>544.00</td>\n",
       "      <td>3</td>\n",
       "      <td>1</td>\n",
       "      <td>9</td>\n",
       "      <td>2</td>\n",
       "      <td>0</td>\n",
       "      <td>6</td>\n",
       "      <td>2</td>\n",
       "      <td>95.900</td>\n",
       "      <td>1269</td>\n",
       "      <td>squad-fpp</td>\n",
       "      <td>29</td>\n",
       "      <td>29</td>\n",
       "      <td>1478</td>\n",
       "      <td>0</td>\n",
       "      <td>0.0</td>\n",
       "      <td>0</td>\n",
       "      <td>0.000</td>\n",
       "      <td>0</td>\n",
       "      <td>0</td>\n",
       "      <td>3817.0</td>\n",
       "      <td>4</td>\n",
       "      <td>0</td>\n",
       "      <td>1.0</td>\n",
       "    </tr>\n",
       "    <tr>\n",
       "      <th>668</th>\n",
       "      <td>659c2acecba08a</td>\n",
       "      <td>a5f5526aaacb52</td>\n",
       "      <td>255b912553dd82</td>\n",
       "      <td>1</td>\n",
       "      <td>2</td>\n",
       "      <td>853.10</td>\n",
       "      <td>3</td>\n",
       "      <td>1</td>\n",
       "      <td>2</td>\n",
       "      <td>2</td>\n",
       "      <td>1330</td>\n",
       "      <td>7</td>\n",
       "      <td>2</td>\n",
       "      <td>57.700</td>\n",
       "      <td>1895</td>\n",
       "      <td>duo-fpp</td>\n",
       "      <td>47</td>\n",
       "      <td>43</td>\n",
       "      <td>-1</td>\n",
       "      <td>1</td>\n",
       "      <td>1865.0</td>\n",
       "      <td>0</td>\n",
       "      <td>0.000</td>\n",
       "      <td>0</td>\n",
       "      <td>0</td>\n",
       "      <td>3067.0</td>\n",
       "      <td>7</td>\n",
       "      <td>1474</td>\n",
       "      <td>1.0</td>\n",
       "    </tr>\n",
       "    <tr>\n",
       "      <th>678</th>\n",
       "      <td>e56a70d6ab3957</td>\n",
       "      <td>4cf11138ad8866</td>\n",
       "      <td>6ade309fe55843</td>\n",
       "      <td>2</td>\n",
       "      <td>3</td>\n",
       "      <td>549.20</td>\n",
       "      <td>3</td>\n",
       "      <td>0</td>\n",
       "      <td>14</td>\n",
       "      <td>6</td>\n",
       "      <td>1422</td>\n",
       "      <td>4</td>\n",
       "      <td>1</td>\n",
       "      <td>180.600</td>\n",
       "      <td>1803</td>\n",
       "      <td>squad-fpp</td>\n",
       "      <td>28</td>\n",
       "      <td>27</td>\n",
       "      <td>-1</td>\n",
       "      <td>1</td>\n",
       "      <td>0.0</td>\n",
       "      <td>0</td>\n",
       "      <td>0.000</td>\n",
       "      <td>0</td>\n",
       "      <td>0</td>\n",
       "      <td>5005.0</td>\n",
       "      <td>6</td>\n",
       "      <td>1537</td>\n",
       "      <td>1.0</td>\n",
       "    </tr>\n",
       "    <tr>\n",
       "      <th>725</th>\n",
       "      <td>cc2a41f08f9745</td>\n",
       "      <td>344c61e890ea06</td>\n",
       "      <td>9b75247b2735c4</td>\n",
       "      <td>1</td>\n",
       "      <td>4</td>\n",
       "      <td>553.10</td>\n",
       "      <td>3</td>\n",
       "      <td>0</td>\n",
       "      <td>9</td>\n",
       "      <td>5</td>\n",
       "      <td>0</td>\n",
       "      <td>4</td>\n",
       "      <td>1</td>\n",
       "      <td>167.300</td>\n",
       "      <td>1376</td>\n",
       "      <td>squad-fpp</td>\n",
       "      <td>29</td>\n",
       "      <td>28</td>\n",
       "      <td>1380</td>\n",
       "      <td>1</td>\n",
       "      <td>0.0</td>\n",
       "      <td>0</td>\n",
       "      <td>1.649</td>\n",
       "      <td>0</td>\n",
       "      <td>0</td>\n",
       "      <td>3207.0</td>\n",
       "      <td>3</td>\n",
       "      <td>0</td>\n",
       "      <td>1.0</td>\n",
       "    </tr>\n",
       "    <tr>\n",
       "      <th>736</th>\n",
       "      <td>b9894d1a93a2d0</td>\n",
       "      <td>7bcd70602b1b2d</td>\n",
       "      <td>ffca00bb37147a</td>\n",
       "      <td>1</td>\n",
       "      <td>3</td>\n",
       "      <td>367.00</td>\n",
       "      <td>3</td>\n",
       "      <td>1</td>\n",
       "      <td>1</td>\n",
       "      <td>7</td>\n",
       "      <td>0</td>\n",
       "      <td>3</td>\n",
       "      <td>1</td>\n",
       "      <td>82.270</td>\n",
       "      <td>1316</td>\n",
       "      <td>squad-fpp</td>\n",
       "      <td>28</td>\n",
       "      <td>26</td>\n",
       "      <td>1705</td>\n",
       "      <td>0</td>\n",
       "      <td>0.0</td>\n",
       "      <td>0</td>\n",
       "      <td>0.000</td>\n",
       "      <td>0</td>\n",
       "      <td>0</td>\n",
       "      <td>3275.0</td>\n",
       "      <td>3</td>\n",
       "      <td>0</td>\n",
       "      <td>1.0</td>\n",
       "    </tr>\n",
       "    <tr>\n",
       "      <th>752</th>\n",
       "      <td>a486b657bedeba</td>\n",
       "      <td>6c041c1f1ad592</td>\n",
       "      <td>5701342cf00898</td>\n",
       "      <td>2</td>\n",
       "      <td>3</td>\n",
       "      <td>341.30</td>\n",
       "      <td>3</td>\n",
       "      <td>0</td>\n",
       "      <td>2</td>\n",
       "      <td>2</td>\n",
       "      <td>1148</td>\n",
       "      <td>5</td>\n",
       "      <td>2</td>\n",
       "      <td>119.900</td>\n",
       "      <td>1362</td>\n",
       "      <td>squad-fpp</td>\n",
       "      <td>31</td>\n",
       "      <td>31</td>\n",
       "      <td>-1</td>\n",
       "      <td>2</td>\n",
       "      <td>0.0</td>\n",
       "      <td>0</td>\n",
       "      <td>0.000</td>\n",
       "      <td>0</td>\n",
       "      <td>0</td>\n",
       "      <td>3634.0</td>\n",
       "      <td>8</td>\n",
       "      <td>1493</td>\n",
       "      <td>1.0</td>\n",
       "    </tr>\n",
       "    <tr>\n",
       "      <th>828</th>\n",
       "      <td>e783007d6d0c42</td>\n",
       "      <td>0d901b349a44c0</td>\n",
       "      <td>e85ee7a32ca858</td>\n",
       "      <td>2</td>\n",
       "      <td>3</td>\n",
       "      <td>454.20</td>\n",
       "      <td>2</td>\n",
       "      <td>1</td>\n",
       "      <td>2</td>\n",
       "      <td>11</td>\n",
       "      <td>0</td>\n",
       "      <td>2</td>\n",
       "      <td>1</td>\n",
       "      <td>111.500</td>\n",
       "      <td>1884</td>\n",
       "      <td>squad-fpp</td>\n",
       "      <td>27</td>\n",
       "      <td>26</td>\n",
       "      <td>1499</td>\n",
       "      <td>1</td>\n",
       "      <td>6713.0</td>\n",
       "      <td>0</td>\n",
       "      <td>0.000</td>\n",
       "      <td>0</td>\n",
       "      <td>0</td>\n",
       "      <td>2820.0</td>\n",
       "      <td>4</td>\n",
       "      <td>0</td>\n",
       "      <td>1.0</td>\n",
       "    </tr>\n",
       "    <tr>\n",
       "      <th>844</th>\n",
       "      <td>488d15da174f7f</td>\n",
       "      <td>4719c2520af87f</td>\n",
       "      <td>caffd4f34ab504</td>\n",
       "      <td>3</td>\n",
       "      <td>3</td>\n",
       "      <td>494.20</td>\n",
       "      <td>2</td>\n",
       "      <td>1</td>\n",
       "      <td>1</td>\n",
       "      <td>2</td>\n",
       "      <td>0</td>\n",
       "      <td>6</td>\n",
       "      <td>2</td>\n",
       "      <td>92.370</td>\n",
       "      <td>1886</td>\n",
       "      <td>squad-fpp</td>\n",
       "      <td>27</td>\n",
       "      <td>27</td>\n",
       "      <td>1617</td>\n",
       "      <td>3</td>\n",
       "      <td>2820.0</td>\n",
       "      <td>0</td>\n",
       "      <td>0.000</td>\n",
       "      <td>0</td>\n",
       "      <td>0</td>\n",
       "      <td>3948.0</td>\n",
       "      <td>14</td>\n",
       "      <td>0</td>\n",
       "      <td>1.0</td>\n",
       "    </tr>\n",
       "    <tr>\n",
       "      <th>864</th>\n",
       "      <td>49807355c7991b</td>\n",
       "      <td>8751266cef3a84</td>\n",
       "      <td>876d7b42154d3c</td>\n",
       "      <td>1</td>\n",
       "      <td>4</td>\n",
       "      <td>361.80</td>\n",
       "      <td>0</td>\n",
       "      <td>2</td>\n",
       "      <td>18</td>\n",
       "      <td>12</td>\n",
       "      <td>0</td>\n",
       "      <td>2</td>\n",
       "      <td>1</td>\n",
       "      <td>185.300</td>\n",
       "      <td>1805</td>\n",
       "      <td>duo-fpp</td>\n",
       "      <td>49</td>\n",
       "      <td>49</td>\n",
       "      <td>1665</td>\n",
       "      <td>0</td>\n",
       "      <td>1265.0</td>\n",
       "      <td>0</td>\n",
       "      <td>0.000</td>\n",
       "      <td>0</td>\n",
       "      <td>0</td>\n",
       "      <td>3791.0</td>\n",
       "      <td>9</td>\n",
       "      <td>0</td>\n",
       "      <td>1.0</td>\n",
       "    </tr>\n",
       "    <tr>\n",
       "      <th>871</th>\n",
       "      <td>8c424de18f2bcc</td>\n",
       "      <td>cdc043bea0530a</td>\n",
       "      <td>c2198542d7c8a3</td>\n",
       "      <td>3</td>\n",
       "      <td>1</td>\n",
       "      <td>461.40</td>\n",
       "      <td>2</td>\n",
       "      <td>1</td>\n",
       "      <td>2</td>\n",
       "      <td>11</td>\n",
       "      <td>1132</td>\n",
       "      <td>3</td>\n",
       "      <td>1</td>\n",
       "      <td>138.200</td>\n",
       "      <td>1299</td>\n",
       "      <td>squad-fpp</td>\n",
       "      <td>29</td>\n",
       "      <td>26</td>\n",
       "      <td>-1</td>\n",
       "      <td>0</td>\n",
       "      <td>0.0</td>\n",
       "      <td>0</td>\n",
       "      <td>0.000</td>\n",
       "      <td>0</td>\n",
       "      <td>0</td>\n",
       "      <td>3296.0</td>\n",
       "      <td>3</td>\n",
       "      <td>1511</td>\n",
       "      <td>1.0</td>\n",
       "    </tr>\n",
       "    <tr>\n",
       "      <th>891</th>\n",
       "      <td>f64a4d0045a38a</td>\n",
       "      <td>e3f19fa12f167b</td>\n",
       "      <td>ad4bfbf3044575</td>\n",
       "      <td>0</td>\n",
       "      <td>0</td>\n",
       "      <td>128.30</td>\n",
       "      <td>1</td>\n",
       "      <td>0</td>\n",
       "      <td>0</td>\n",
       "      <td>22</td>\n",
       "      <td>0</td>\n",
       "      <td>1</td>\n",
       "      <td>1</td>\n",
       "      <td>88.330</td>\n",
       "      <td>1269</td>\n",
       "      <td>squad-fpp</td>\n",
       "      <td>29</td>\n",
       "      <td>28</td>\n",
       "      <td>1500</td>\n",
       "      <td>0</td>\n",
       "      <td>0.0</td>\n",
       "      <td>0</td>\n",
       "      <td>0.000</td>\n",
       "      <td>0</td>\n",
       "      <td>0</td>\n",
       "      <td>1312.0</td>\n",
       "      <td>4</td>\n",
       "      <td>0</td>\n",
       "      <td>1.0</td>\n",
       "    </tr>\n",
       "    <tr>\n",
       "      <th>907</th>\n",
       "      <td>1f670b3cad2d0a</td>\n",
       "      <td>81d02699ddfda3</td>\n",
       "      <td>b59b3cb6913d20</td>\n",
       "      <td>1</td>\n",
       "      <td>3</td>\n",
       "      <td>391.40</td>\n",
       "      <td>2</td>\n",
       "      <td>1</td>\n",
       "      <td>2</td>\n",
       "      <td>4</td>\n",
       "      <td>1708</td>\n",
       "      <td>4</td>\n",
       "      <td>2</td>\n",
       "      <td>130.400</td>\n",
       "      <td>1377</td>\n",
       "      <td>squad-fpp</td>\n",
       "      <td>30</td>\n",
       "      <td>30</td>\n",
       "      <td>-1</td>\n",
       "      <td>1</td>\n",
       "      <td>0.0</td>\n",
       "      <td>0</td>\n",
       "      <td>0.000</td>\n",
       "      <td>0</td>\n",
       "      <td>0</td>\n",
       "      <td>3721.0</td>\n",
       "      <td>4</td>\n",
       "      <td>1608</td>\n",
       "      <td>1.0</td>\n",
       "    </tr>\n",
       "    <tr>\n",
       "      <th>929</th>\n",
       "      <td>757ffb0503575f</td>\n",
       "      <td>3055ca1318e8ba</td>\n",
       "      <td>1cb8b2303a03e6</td>\n",
       "      <td>0</td>\n",
       "      <td>1</td>\n",
       "      <td>298.90</td>\n",
       "      <td>2</td>\n",
       "      <td>1</td>\n",
       "      <td>1</td>\n",
       "      <td>6</td>\n",
       "      <td>0</td>\n",
       "      <td>4</td>\n",
       "      <td>2</td>\n",
       "      <td>119.500</td>\n",
       "      <td>1322</td>\n",
       "      <td>squad</td>\n",
       "      <td>28</td>\n",
       "      <td>28</td>\n",
       "      <td>1500</td>\n",
       "      <td>0</td>\n",
       "      <td>0.0</td>\n",
       "      <td>0</td>\n",
       "      <td>0.000</td>\n",
       "      <td>0</td>\n",
       "      <td>0</td>\n",
       "      <td>3158.0</td>\n",
       "      <td>3</td>\n",
       "      <td>0</td>\n",
       "      <td>1.0</td>\n",
       "    </tr>\n",
       "    <tr>\n",
       "      <th>930</th>\n",
       "      <td>d08c6cc4910f13</td>\n",
       "      <td>b69b58dea1ee5d</td>\n",
       "      <td>bb7383b0bcfb62</td>\n",
       "      <td>1</td>\n",
       "      <td>5</td>\n",
       "      <td>1036.00</td>\n",
       "      <td>7</td>\n",
       "      <td>1</td>\n",
       "      <td>1</td>\n",
       "      <td>1</td>\n",
       "      <td>0</td>\n",
       "      <td>6</td>\n",
       "      <td>2</td>\n",
       "      <td>75.610</td>\n",
       "      <td>1916</td>\n",
       "      <td>squad</td>\n",
       "      <td>27</td>\n",
       "      <td>25</td>\n",
       "      <td>1500</td>\n",
       "      <td>1</td>\n",
       "      <td>2839.0</td>\n",
       "      <td>0</td>\n",
       "      <td>0.000</td>\n",
       "      <td>0</td>\n",
       "      <td>0</td>\n",
       "      <td>3226.0</td>\n",
       "      <td>10</td>\n",
       "      <td>0</td>\n",
       "      <td>1.0</td>\n",
       "    </tr>\n",
       "    <tr>\n",
       "      <th>1073</th>\n",
       "      <td>369b4932998e83</td>\n",
       "      <td>192b806188130d</td>\n",
       "      <td>4b41a67d8cf811</td>\n",
       "      <td>6</td>\n",
       "      <td>8</td>\n",
       "      <td>743.10</td>\n",
       "      <td>5</td>\n",
       "      <td>0</td>\n",
       "      <td>4</td>\n",
       "      <td>2</td>\n",
       "      <td>0</td>\n",
       "      <td>5</td>\n",
       "      <td>2</td>\n",
       "      <td>247.300</td>\n",
       "      <td>1779</td>\n",
       "      <td>squad</td>\n",
       "      <td>29</td>\n",
       "      <td>28</td>\n",
       "      <td>1577</td>\n",
       "      <td>1</td>\n",
       "      <td>3486.0</td>\n",
       "      <td>0</td>\n",
       "      <td>253.100</td>\n",
       "      <td>0</td>\n",
       "      <td>0</td>\n",
       "      <td>2309.0</td>\n",
       "      <td>9</td>\n",
       "      <td>0</td>\n",
       "      <td>1.0</td>\n",
       "    </tr>\n",
       "    <tr>\n",
       "      <th>1128</th>\n",
       "      <td>b5facff6008fd4</td>\n",
       "      <td>de5461b05c544d</td>\n",
       "      <td>97a3b3487dcb02</td>\n",
       "      <td>2</td>\n",
       "      <td>4</td>\n",
       "      <td>219.10</td>\n",
       "      <td>1</td>\n",
       "      <td>0</td>\n",
       "      <td>12</td>\n",
       "      <td>13</td>\n",
       "      <td>0</td>\n",
       "      <td>2</td>\n",
       "      <td>1</td>\n",
       "      <td>51.730</td>\n",
       "      <td>1892</td>\n",
       "      <td>duo</td>\n",
       "      <td>50</td>\n",
       "      <td>48</td>\n",
       "      <td>1834</td>\n",
       "      <td>0</td>\n",
       "      <td>13510.0</td>\n",
       "      <td>0</td>\n",
       "      <td>0.000</td>\n",
       "      <td>0</td>\n",
       "      <td>0</td>\n",
       "      <td>2151.0</td>\n",
       "      <td>5</td>\n",
       "      <td>0</td>\n",
       "      <td>1.0</td>\n",
       "    </tr>\n",
       "    <tr>\n",
       "      <th>1144</th>\n",
       "      <td>8e19cc97e4e02d</td>\n",
       "      <td>ff76682620dafa</td>\n",
       "      <td>dba11a6f6bc6a4</td>\n",
       "      <td>1</td>\n",
       "      <td>3</td>\n",
       "      <td>689.90</td>\n",
       "      <td>2</td>\n",
       "      <td>3</td>\n",
       "      <td>2</td>\n",
       "      <td>1</td>\n",
       "      <td>0</td>\n",
       "      <td>8</td>\n",
       "      <td>2</td>\n",
       "      <td>61.580</td>\n",
       "      <td>1374</td>\n",
       "      <td>duo-fpp</td>\n",
       "      <td>48</td>\n",
       "      <td>48</td>\n",
       "      <td>1542</td>\n",
       "      <td>2</td>\n",
       "      <td>0.0</td>\n",
       "      <td>0</td>\n",
       "      <td>0.000</td>\n",
       "      <td>0</td>\n",
       "      <td>0</td>\n",
       "      <td>3355.0</td>\n",
       "      <td>4</td>\n",
       "      <td>0</td>\n",
       "      <td>1.0</td>\n",
       "    </tr>\n",
       "    <tr>\n",
       "      <th>...</th>\n",
       "      <td>...</td>\n",
       "      <td>...</td>\n",
       "      <td>...</td>\n",
       "      <td>...</td>\n",
       "      <td>...</td>\n",
       "      <td>...</td>\n",
       "      <td>...</td>\n",
       "      <td>...</td>\n",
       "      <td>...</td>\n",
       "      <td>...</td>\n",
       "      <td>...</td>\n",
       "      <td>...</td>\n",
       "      <td>...</td>\n",
       "      <td>...</td>\n",
       "      <td>...</td>\n",
       "      <td>...</td>\n",
       "      <td>...</td>\n",
       "      <td>...</td>\n",
       "      <td>...</td>\n",
       "      <td>...</td>\n",
       "      <td>...</td>\n",
       "      <td>...</td>\n",
       "      <td>...</td>\n",
       "      <td>...</td>\n",
       "      <td>...</td>\n",
       "      <td>...</td>\n",
       "      <td>...</td>\n",
       "      <td>...</td>\n",
       "      <td>...</td>\n",
       "    </tr>\n",
       "    <tr>\n",
       "      <th>4446010</th>\n",
       "      <td>9e000749582853</td>\n",
       "      <td>b13902d2a9bfeb</td>\n",
       "      <td>d1d6f677bbe3f9</td>\n",
       "      <td>2</td>\n",
       "      <td>5</td>\n",
       "      <td>424.50</td>\n",
       "      <td>4</td>\n",
       "      <td>1</td>\n",
       "      <td>3</td>\n",
       "      <td>5</td>\n",
       "      <td>1462</td>\n",
       "      <td>4</td>\n",
       "      <td>1</td>\n",
       "      <td>248.500</td>\n",
       "      <td>1375</td>\n",
       "      <td>squad-fpp</td>\n",
       "      <td>29</td>\n",
       "      <td>27</td>\n",
       "      <td>-1</td>\n",
       "      <td>1</td>\n",
       "      <td>454.9</td>\n",
       "      <td>0</td>\n",
       "      <td>0.000</td>\n",
       "      <td>0</td>\n",
       "      <td>0</td>\n",
       "      <td>3596.0</td>\n",
       "      <td>8</td>\n",
       "      <td>1509</td>\n",
       "      <td>1.0</td>\n",
       "    </tr>\n",
       "    <tr>\n",
       "      <th>4446064</th>\n",
       "      <td>20bc08dfd6284c</td>\n",
       "      <td>01d3646846bebf</td>\n",
       "      <td>24f25cbcd9c01d</td>\n",
       "      <td>2</td>\n",
       "      <td>6</td>\n",
       "      <td>475.50</td>\n",
       "      <td>2</td>\n",
       "      <td>1</td>\n",
       "      <td>4</td>\n",
       "      <td>8</td>\n",
       "      <td>0</td>\n",
       "      <td>3</td>\n",
       "      <td>1</td>\n",
       "      <td>130.300</td>\n",
       "      <td>1786</td>\n",
       "      <td>squad-fpp</td>\n",
       "      <td>27</td>\n",
       "      <td>25</td>\n",
       "      <td>1430</td>\n",
       "      <td>2</td>\n",
       "      <td>1413.0</td>\n",
       "      <td>0</td>\n",
       "      <td>0.000</td>\n",
       "      <td>0</td>\n",
       "      <td>0</td>\n",
       "      <td>4555.0</td>\n",
       "      <td>7</td>\n",
       "      <td>0</td>\n",
       "      <td>1.0</td>\n",
       "    </tr>\n",
       "    <tr>\n",
       "      <th>4446066</th>\n",
       "      <td>d15024ee86a229</td>\n",
       "      <td>2e2dfbeb9531ae</td>\n",
       "      <td>1fa80bf799d2f2</td>\n",
       "      <td>4</td>\n",
       "      <td>6</td>\n",
       "      <td>621.80</td>\n",
       "      <td>1</td>\n",
       "      <td>2</td>\n",
       "      <td>5</td>\n",
       "      <td>7</td>\n",
       "      <td>1295</td>\n",
       "      <td>3</td>\n",
       "      <td>1</td>\n",
       "      <td>90.740</td>\n",
       "      <td>1447</td>\n",
       "      <td>squad-fpp</td>\n",
       "      <td>27</td>\n",
       "      <td>27</td>\n",
       "      <td>-1</td>\n",
       "      <td>2</td>\n",
       "      <td>0.0</td>\n",
       "      <td>0</td>\n",
       "      <td>0.000</td>\n",
       "      <td>0</td>\n",
       "      <td>0</td>\n",
       "      <td>2997.0</td>\n",
       "      <td>4</td>\n",
       "      <td>1562</td>\n",
       "      <td>1.0</td>\n",
       "    </tr>\n",
       "    <tr>\n",
       "      <th>4446093</th>\n",
       "      <td>2f57d1e882cc06</td>\n",
       "      <td>1c59e2133a2fbd</td>\n",
       "      <td>0027b1ffb2e346</td>\n",
       "      <td>0</td>\n",
       "      <td>0</td>\n",
       "      <td>116.80</td>\n",
       "      <td>0</td>\n",
       "      <td>0</td>\n",
       "      <td>0</td>\n",
       "      <td>3</td>\n",
       "      <td>0</td>\n",
       "      <td>0</td>\n",
       "      <td>0</td>\n",
       "      <td>0.000</td>\n",
       "      <td>1808</td>\n",
       "      <td>solo</td>\n",
       "      <td>17</td>\n",
       "      <td>2</td>\n",
       "      <td>1500</td>\n",
       "      <td>0</td>\n",
       "      <td>0.0</td>\n",
       "      <td>0</td>\n",
       "      <td>0.000</td>\n",
       "      <td>0</td>\n",
       "      <td>0</td>\n",
       "      <td>0.0</td>\n",
       "      <td>11</td>\n",
       "      <td>0</td>\n",
       "      <td>1.0</td>\n",
       "    </tr>\n",
       "    <tr>\n",
       "      <th>4446121</th>\n",
       "      <td>75fbab6fa386d6</td>\n",
       "      <td>1fef81aa2e78e1</td>\n",
       "      <td>88ae77f0b20b6e</td>\n",
       "      <td>0</td>\n",
       "      <td>8</td>\n",
       "      <td>753.30</td>\n",
       "      <td>0</td>\n",
       "      <td>3</td>\n",
       "      <td>2</td>\n",
       "      <td>1</td>\n",
       "      <td>1463</td>\n",
       "      <td>8</td>\n",
       "      <td>1</td>\n",
       "      <td>67.400</td>\n",
       "      <td>1453</td>\n",
       "      <td>solo-fpp</td>\n",
       "      <td>95</td>\n",
       "      <td>93</td>\n",
       "      <td>-1</td>\n",
       "      <td>0</td>\n",
       "      <td>0.0</td>\n",
       "      <td>0</td>\n",
       "      <td>0.000</td>\n",
       "      <td>0</td>\n",
       "      <td>0</td>\n",
       "      <td>2516.0</td>\n",
       "      <td>5</td>\n",
       "      <td>1492</td>\n",
       "      <td>1.0</td>\n",
       "    </tr>\n",
       "    <tr>\n",
       "      <th>4446158</th>\n",
       "      <td>780055bd9348a0</td>\n",
       "      <td>be24f7dbb781c6</td>\n",
       "      <td>58682dccb69a33</td>\n",
       "      <td>4</td>\n",
       "      <td>6</td>\n",
       "      <td>310.60</td>\n",
       "      <td>1</td>\n",
       "      <td>1</td>\n",
       "      <td>7</td>\n",
       "      <td>11</td>\n",
       "      <td>0</td>\n",
       "      <td>2</td>\n",
       "      <td>1</td>\n",
       "      <td>43.370</td>\n",
       "      <td>1913</td>\n",
       "      <td>squad</td>\n",
       "      <td>29</td>\n",
       "      <td>25</td>\n",
       "      <td>1396</td>\n",
       "      <td>1</td>\n",
       "      <td>5041.0</td>\n",
       "      <td>0</td>\n",
       "      <td>0.000</td>\n",
       "      <td>0</td>\n",
       "      <td>0</td>\n",
       "      <td>1801.0</td>\n",
       "      <td>6</td>\n",
       "      <td>0</td>\n",
       "      <td>1.0</td>\n",
       "    </tr>\n",
       "    <tr>\n",
       "      <th>4446177</th>\n",
       "      <td>3bb0cd86e70266</td>\n",
       "      <td>730ff3d712b4b9</td>\n",
       "      <td>75b2bdbe246c8c</td>\n",
       "      <td>1</td>\n",
       "      <td>4</td>\n",
       "      <td>450.40</td>\n",
       "      <td>4</td>\n",
       "      <td>0</td>\n",
       "      <td>8</td>\n",
       "      <td>1</td>\n",
       "      <td>0</td>\n",
       "      <td>7</td>\n",
       "      <td>2</td>\n",
       "      <td>162.000</td>\n",
       "      <td>1340</td>\n",
       "      <td>squad</td>\n",
       "      <td>26</td>\n",
       "      <td>26</td>\n",
       "      <td>1678</td>\n",
       "      <td>1</td>\n",
       "      <td>0.0</td>\n",
       "      <td>0</td>\n",
       "      <td>0.000</td>\n",
       "      <td>0</td>\n",
       "      <td>0</td>\n",
       "      <td>3096.0</td>\n",
       "      <td>3</td>\n",
       "      <td>0</td>\n",
       "      <td>1.0</td>\n",
       "    </tr>\n",
       "    <tr>\n",
       "      <th>4446246</th>\n",
       "      <td>3ad3602e87b69e</td>\n",
       "      <td>14a3f1991683a7</td>\n",
       "      <td>ebfc106c525b31</td>\n",
       "      <td>2</td>\n",
       "      <td>3</td>\n",
       "      <td>537.40</td>\n",
       "      <td>4</td>\n",
       "      <td>1</td>\n",
       "      <td>5</td>\n",
       "      <td>2</td>\n",
       "      <td>1537</td>\n",
       "      <td>6</td>\n",
       "      <td>2</td>\n",
       "      <td>100.500</td>\n",
       "      <td>1276</td>\n",
       "      <td>squad-fpp</td>\n",
       "      <td>26</td>\n",
       "      <td>26</td>\n",
       "      <td>-1</td>\n",
       "      <td>0</td>\n",
       "      <td>0.0</td>\n",
       "      <td>0</td>\n",
       "      <td>0.000</td>\n",
       "      <td>0</td>\n",
       "      <td>0</td>\n",
       "      <td>3245.0</td>\n",
       "      <td>3</td>\n",
       "      <td>1662</td>\n",
       "      <td>1.0</td>\n",
       "    </tr>\n",
       "    <tr>\n",
       "      <th>4446248</th>\n",
       "      <td>6092a5764aa1b9</td>\n",
       "      <td>00ffd39ffe0411</td>\n",
       "      <td>3c35dbd0871f17</td>\n",
       "      <td>0</td>\n",
       "      <td>4</td>\n",
       "      <td>94.22</td>\n",
       "      <td>0</td>\n",
       "      <td>1</td>\n",
       "      <td>4</td>\n",
       "      <td>21</td>\n",
       "      <td>1303</td>\n",
       "      <td>1</td>\n",
       "      <td>1</td>\n",
       "      <td>14.460</td>\n",
       "      <td>1799</td>\n",
       "      <td>squad-fpp</td>\n",
       "      <td>27</td>\n",
       "      <td>24</td>\n",
       "      <td>-1</td>\n",
       "      <td>0</td>\n",
       "      <td>0.0</td>\n",
       "      <td>0</td>\n",
       "      <td>0.000</td>\n",
       "      <td>0</td>\n",
       "      <td>0</td>\n",
       "      <td>4886.0</td>\n",
       "      <td>8</td>\n",
       "      <td>1475</td>\n",
       "      <td>1.0</td>\n",
       "    </tr>\n",
       "    <tr>\n",
       "      <th>4446261</th>\n",
       "      <td>a389e1381568bd</td>\n",
       "      <td>1c9dc47e0c877b</td>\n",
       "      <td>04bd0f78b5d348</td>\n",
       "      <td>1</td>\n",
       "      <td>6</td>\n",
       "      <td>133.80</td>\n",
       "      <td>1</td>\n",
       "      <td>0</td>\n",
       "      <td>13</td>\n",
       "      <td>22</td>\n",
       "      <td>1447</td>\n",
       "      <td>1</td>\n",
       "      <td>1</td>\n",
       "      <td>2.168</td>\n",
       "      <td>1898</td>\n",
       "      <td>squad-fpp</td>\n",
       "      <td>26</td>\n",
       "      <td>26</td>\n",
       "      <td>-1</td>\n",
       "      <td>1</td>\n",
       "      <td>13800.0</td>\n",
       "      <td>0</td>\n",
       "      <td>0.000</td>\n",
       "      <td>0</td>\n",
       "      <td>0</td>\n",
       "      <td>2444.0</td>\n",
       "      <td>4</td>\n",
       "      <td>1649</td>\n",
       "      <td>1.0</td>\n",
       "    </tr>\n",
       "    <tr>\n",
       "      <th>4446353</th>\n",
       "      <td>455b0ab51addcf</td>\n",
       "      <td>1e83e7cc091df5</td>\n",
       "      <td>8fac94db3260a0</td>\n",
       "      <td>1</td>\n",
       "      <td>4</td>\n",
       "      <td>1300.00</td>\n",
       "      <td>0</td>\n",
       "      <td>5</td>\n",
       "      <td>5</td>\n",
       "      <td>2</td>\n",
       "      <td>0</td>\n",
       "      <td>16</td>\n",
       "      <td>3</td>\n",
       "      <td>109.900</td>\n",
       "      <td>833</td>\n",
       "      <td>normal-squad-fpp</td>\n",
       "      <td>8</td>\n",
       "      <td>8</td>\n",
       "      <td>1500</td>\n",
       "      <td>0</td>\n",
       "      <td>0.0</td>\n",
       "      <td>0</td>\n",
       "      <td>0.000</td>\n",
       "      <td>0</td>\n",
       "      <td>0</td>\n",
       "      <td>186.3</td>\n",
       "      <td>13</td>\n",
       "      <td>0</td>\n",
       "      <td>1.0</td>\n",
       "    </tr>\n",
       "    <tr>\n",
       "      <th>4446364</th>\n",
       "      <td>18771e24f08f6d</td>\n",
       "      <td>c4c77cd55835dc</td>\n",
       "      <td>a04d6089f9ef99</td>\n",
       "      <td>2</td>\n",
       "      <td>2</td>\n",
       "      <td>723.40</td>\n",
       "      <td>5</td>\n",
       "      <td>0</td>\n",
       "      <td>0</td>\n",
       "      <td>1</td>\n",
       "      <td>0</td>\n",
       "      <td>5</td>\n",
       "      <td>3</td>\n",
       "      <td>60.980</td>\n",
       "      <td>1320</td>\n",
       "      <td>squad-fpp</td>\n",
       "      <td>25</td>\n",
       "      <td>25</td>\n",
       "      <td>1561</td>\n",
       "      <td>1</td>\n",
       "      <td>0.0</td>\n",
       "      <td>0</td>\n",
       "      <td>0.000</td>\n",
       "      <td>0</td>\n",
       "      <td>0</td>\n",
       "      <td>3186.0</td>\n",
       "      <td>6</td>\n",
       "      <td>0</td>\n",
       "      <td>1.0</td>\n",
       "    </tr>\n",
       "    <tr>\n",
       "      <th>4446432</th>\n",
       "      <td>a245d59021bcc8</td>\n",
       "      <td>262cb9854d9dc8</td>\n",
       "      <td>ea5edb6ef7c155</td>\n",
       "      <td>0</td>\n",
       "      <td>5</td>\n",
       "      <td>698.40</td>\n",
       "      <td>2</td>\n",
       "      <td>2</td>\n",
       "      <td>7</td>\n",
       "      <td>1</td>\n",
       "      <td>1352</td>\n",
       "      <td>6</td>\n",
       "      <td>2</td>\n",
       "      <td>57.410</td>\n",
       "      <td>1916</td>\n",
       "      <td>duo-fpp</td>\n",
       "      <td>44</td>\n",
       "      <td>43</td>\n",
       "      <td>-1</td>\n",
       "      <td>1</td>\n",
       "      <td>0.0</td>\n",
       "      <td>0</td>\n",
       "      <td>0.000</td>\n",
       "      <td>0</td>\n",
       "      <td>0</td>\n",
       "      <td>3156.0</td>\n",
       "      <td>7</td>\n",
       "      <td>1537</td>\n",
       "      <td>1.0</td>\n",
       "    </tr>\n",
       "    <tr>\n",
       "      <th>4446512</th>\n",
       "      <td>c701cfe64f09d5</td>\n",
       "      <td>1a79ddcf05cd91</td>\n",
       "      <td>f82c71b35577a8</td>\n",
       "      <td>5</td>\n",
       "      <td>2</td>\n",
       "      <td>581.20</td>\n",
       "      <td>4</td>\n",
       "      <td>2</td>\n",
       "      <td>1</td>\n",
       "      <td>2</td>\n",
       "      <td>0</td>\n",
       "      <td>6</td>\n",
       "      <td>1</td>\n",
       "      <td>241.700</td>\n",
       "      <td>1765</td>\n",
       "      <td>squad-fpp</td>\n",
       "      <td>30</td>\n",
       "      <td>28</td>\n",
       "      <td>1526</td>\n",
       "      <td>1</td>\n",
       "      <td>0.0</td>\n",
       "      <td>0</td>\n",
       "      <td>0.000</td>\n",
       "      <td>0</td>\n",
       "      <td>0</td>\n",
       "      <td>2984.0</td>\n",
       "      <td>7</td>\n",
       "      <td>0</td>\n",
       "      <td>1.0</td>\n",
       "    </tr>\n",
       "    <tr>\n",
       "      <th>4446513</th>\n",
       "      <td>7424356e0ab8aa</td>\n",
       "      <td>e1ae6aff3750f6</td>\n",
       "      <td>5d6e3379a0aa2f</td>\n",
       "      <td>0</td>\n",
       "      <td>6</td>\n",
       "      <td>200.00</td>\n",
       "      <td>1</td>\n",
       "      <td>0</td>\n",
       "      <td>5</td>\n",
       "      <td>12</td>\n",
       "      <td>0</td>\n",
       "      <td>2</td>\n",
       "      <td>1</td>\n",
       "      <td>77.850</td>\n",
       "      <td>1095</td>\n",
       "      <td>squad-fpp</td>\n",
       "      <td>26</td>\n",
       "      <td>23</td>\n",
       "      <td>1507</td>\n",
       "      <td>0</td>\n",
       "      <td>0.0</td>\n",
       "      <td>0</td>\n",
       "      <td>14.240</td>\n",
       "      <td>0</td>\n",
       "      <td>0</td>\n",
       "      <td>3412.0</td>\n",
       "      <td>5</td>\n",
       "      <td>0</td>\n",
       "      <td>1.0</td>\n",
       "    </tr>\n",
       "    <tr>\n",
       "      <th>4446561</th>\n",
       "      <td>0b25a77bc61924</td>\n",
       "      <td>1e50f263298b00</td>\n",
       "      <td>ac7101ad78466d</td>\n",
       "      <td>0</td>\n",
       "      <td>2</td>\n",
       "      <td>1318.00</td>\n",
       "      <td>10</td>\n",
       "      <td>6</td>\n",
       "      <td>1</td>\n",
       "      <td>1</td>\n",
       "      <td>0</td>\n",
       "      <td>11</td>\n",
       "      <td>2</td>\n",
       "      <td>386.400</td>\n",
       "      <td>1871</td>\n",
       "      <td>squad</td>\n",
       "      <td>28</td>\n",
       "      <td>26</td>\n",
       "      <td>1554</td>\n",
       "      <td>1</td>\n",
       "      <td>0.0</td>\n",
       "      <td>0</td>\n",
       "      <td>0.000</td>\n",
       "      <td>0</td>\n",
       "      <td>0</td>\n",
       "      <td>4795.0</td>\n",
       "      <td>3</td>\n",
       "      <td>0</td>\n",
       "      <td>1.0</td>\n",
       "    </tr>\n",
       "    <tr>\n",
       "      <th>4446639</th>\n",
       "      <td>aebb7de29c8b7b</td>\n",
       "      <td>bd17a34d25a11d</td>\n",
       "      <td>7e4f1c489b9f39</td>\n",
       "      <td>0</td>\n",
       "      <td>2</td>\n",
       "      <td>301.90</td>\n",
       "      <td>2</td>\n",
       "      <td>1</td>\n",
       "      <td>4</td>\n",
       "      <td>18</td>\n",
       "      <td>0</td>\n",
       "      <td>1</td>\n",
       "      <td>1</td>\n",
       "      <td>63.530</td>\n",
       "      <td>1764</td>\n",
       "      <td>squad-fpp</td>\n",
       "      <td>28</td>\n",
       "      <td>28</td>\n",
       "      <td>1541</td>\n",
       "      <td>0</td>\n",
       "      <td>5352.0</td>\n",
       "      <td>0</td>\n",
       "      <td>0.000</td>\n",
       "      <td>0</td>\n",
       "      <td>0</td>\n",
       "      <td>2299.0</td>\n",
       "      <td>6</td>\n",
       "      <td>0</td>\n",
       "      <td>1.0</td>\n",
       "    </tr>\n",
       "    <tr>\n",
       "      <th>4446654</th>\n",
       "      <td>8331b07da07d0e</td>\n",
       "      <td>92e8fbebeb6985</td>\n",
       "      <td>abd5d75724fc26</td>\n",
       "      <td>3</td>\n",
       "      <td>6</td>\n",
       "      <td>371.30</td>\n",
       "      <td>2</td>\n",
       "      <td>0</td>\n",
       "      <td>3</td>\n",
       "      <td>2</td>\n",
       "      <td>0</td>\n",
       "      <td>5</td>\n",
       "      <td>2</td>\n",
       "      <td>158.500</td>\n",
       "      <td>1872</td>\n",
       "      <td>duo-fpp</td>\n",
       "      <td>47</td>\n",
       "      <td>45</td>\n",
       "      <td>1545</td>\n",
       "      <td>2</td>\n",
       "      <td>2302.0</td>\n",
       "      <td>0</td>\n",
       "      <td>0.000</td>\n",
       "      <td>0</td>\n",
       "      <td>0</td>\n",
       "      <td>4628.0</td>\n",
       "      <td>6</td>\n",
       "      <td>0</td>\n",
       "      <td>1.0</td>\n",
       "    </tr>\n",
       "    <tr>\n",
       "      <th>4446667</th>\n",
       "      <td>c6e20ba5c39b72</td>\n",
       "      <td>7a6396e48fa2d0</td>\n",
       "      <td>06865090ea6288</td>\n",
       "      <td>2</td>\n",
       "      <td>4</td>\n",
       "      <td>154.60</td>\n",
       "      <td>1</td>\n",
       "      <td>1</td>\n",
       "      <td>5</td>\n",
       "      <td>13</td>\n",
       "      <td>1383</td>\n",
       "      <td>2</td>\n",
       "      <td>1</td>\n",
       "      <td>139.800</td>\n",
       "      <td>1332</td>\n",
       "      <td>squad-fpp</td>\n",
       "      <td>28</td>\n",
       "      <td>28</td>\n",
       "      <td>-1</td>\n",
       "      <td>1</td>\n",
       "      <td>0.0</td>\n",
       "      <td>0</td>\n",
       "      <td>0.000</td>\n",
       "      <td>0</td>\n",
       "      <td>0</td>\n",
       "      <td>2614.0</td>\n",
       "      <td>3</td>\n",
       "      <td>1447</td>\n",
       "      <td>1.0</td>\n",
       "    </tr>\n",
       "    <tr>\n",
       "      <th>4446694</th>\n",
       "      <td>0610fee7332541</td>\n",
       "      <td>397565650b3f6e</td>\n",
       "      <td>2c6b1db9035fbc</td>\n",
       "      <td>1</td>\n",
       "      <td>4</td>\n",
       "      <td>501.90</td>\n",
       "      <td>2</td>\n",
       "      <td>3</td>\n",
       "      <td>4</td>\n",
       "      <td>4</td>\n",
       "      <td>0</td>\n",
       "      <td>5</td>\n",
       "      <td>1</td>\n",
       "      <td>210.300</td>\n",
       "      <td>1774</td>\n",
       "      <td>duo-fpp</td>\n",
       "      <td>47</td>\n",
       "      <td>46</td>\n",
       "      <td>1560</td>\n",
       "      <td>0</td>\n",
       "      <td>3918.0</td>\n",
       "      <td>0</td>\n",
       "      <td>0.000</td>\n",
       "      <td>0</td>\n",
       "      <td>0</td>\n",
       "      <td>3050.0</td>\n",
       "      <td>5</td>\n",
       "      <td>0</td>\n",
       "      <td>1.0</td>\n",
       "    </tr>\n",
       "    <tr>\n",
       "      <th>4446772</th>\n",
       "      <td>38e4efd74225fd</td>\n",
       "      <td>86772c17c3b57c</td>\n",
       "      <td>08d7f71a4d17bb</td>\n",
       "      <td>1</td>\n",
       "      <td>5</td>\n",
       "      <td>452.20</td>\n",
       "      <td>2</td>\n",
       "      <td>1</td>\n",
       "      <td>4</td>\n",
       "      <td>1</td>\n",
       "      <td>1324</td>\n",
       "      <td>6</td>\n",
       "      <td>1</td>\n",
       "      <td>50.390</td>\n",
       "      <td>1945</td>\n",
       "      <td>duo</td>\n",
       "      <td>47</td>\n",
       "      <td>44</td>\n",
       "      <td>-1</td>\n",
       "      <td>0</td>\n",
       "      <td>4995.0</td>\n",
       "      <td>0</td>\n",
       "      <td>0.000</td>\n",
       "      <td>0</td>\n",
       "      <td>0</td>\n",
       "      <td>4178.0</td>\n",
       "      <td>5</td>\n",
       "      <td>1596</td>\n",
       "      <td>1.0</td>\n",
       "    </tr>\n",
       "    <tr>\n",
       "      <th>4446823</th>\n",
       "      <td>714a054acf8227</td>\n",
       "      <td>5c2f2875e3f74b</td>\n",
       "      <td>b68a152e9ed994</td>\n",
       "      <td>0</td>\n",
       "      <td>3</td>\n",
       "      <td>49.50</td>\n",
       "      <td>0</td>\n",
       "      <td>0</td>\n",
       "      <td>0</td>\n",
       "      <td>45</td>\n",
       "      <td>1639</td>\n",
       "      <td>0</td>\n",
       "      <td>0</td>\n",
       "      <td>0.000</td>\n",
       "      <td>1352</td>\n",
       "      <td>squad-fpp</td>\n",
       "      <td>27</td>\n",
       "      <td>26</td>\n",
       "      <td>-1</td>\n",
       "      <td>0</td>\n",
       "      <td>0.0</td>\n",
       "      <td>0</td>\n",
       "      <td>0.000</td>\n",
       "      <td>0</td>\n",
       "      <td>0</td>\n",
       "      <td>4307.0</td>\n",
       "      <td>5</td>\n",
       "      <td>1623</td>\n",
       "      <td>1.0</td>\n",
       "    </tr>\n",
       "    <tr>\n",
       "      <th>4446831</th>\n",
       "      <td>dcf22ad3ced424</td>\n",
       "      <td>2bd9f39244ce44</td>\n",
       "      <td>4ff3bccdadd120</td>\n",
       "      <td>0</td>\n",
       "      <td>5</td>\n",
       "      <td>208.70</td>\n",
       "      <td>1</td>\n",
       "      <td>0</td>\n",
       "      <td>3</td>\n",
       "      <td>35</td>\n",
       "      <td>0</td>\n",
       "      <td>0</td>\n",
       "      <td>0</td>\n",
       "      <td>0.000</td>\n",
       "      <td>1883</td>\n",
       "      <td>squad-fpp</td>\n",
       "      <td>27</td>\n",
       "      <td>23</td>\n",
       "      <td>1440</td>\n",
       "      <td>0</td>\n",
       "      <td>3811.0</td>\n",
       "      <td>0</td>\n",
       "      <td>221.900</td>\n",
       "      <td>0</td>\n",
       "      <td>0</td>\n",
       "      <td>4589.0</td>\n",
       "      <td>6</td>\n",
       "      <td>0</td>\n",
       "      <td>1.0</td>\n",
       "    </tr>\n",
       "    <tr>\n",
       "      <th>4446836</th>\n",
       "      <td>cfc2eefa6033e4</td>\n",
       "      <td>4409d3940060c9</td>\n",
       "      <td>6fe7a6927d7f5e</td>\n",
       "      <td>1</td>\n",
       "      <td>7</td>\n",
       "      <td>654.60</td>\n",
       "      <td>5</td>\n",
       "      <td>0</td>\n",
       "      <td>9</td>\n",
       "      <td>1</td>\n",
       "      <td>1428</td>\n",
       "      <td>7</td>\n",
       "      <td>3</td>\n",
       "      <td>131.200</td>\n",
       "      <td>1441</td>\n",
       "      <td>squad-fpp</td>\n",
       "      <td>28</td>\n",
       "      <td>26</td>\n",
       "      <td>-1</td>\n",
       "      <td>0</td>\n",
       "      <td>3028.0</td>\n",
       "      <td>0</td>\n",
       "      <td>0.000</td>\n",
       "      <td>0</td>\n",
       "      <td>0</td>\n",
       "      <td>2340.0</td>\n",
       "      <td>7</td>\n",
       "      <td>1438</td>\n",
       "      <td>1.0</td>\n",
       "    </tr>\n",
       "    <tr>\n",
       "      <th>4446845</th>\n",
       "      <td>540ee5a5ed6131</td>\n",
       "      <td>0b0f03278e74cc</td>\n",
       "      <td>8b3a6d403aa117</td>\n",
       "      <td>0</td>\n",
       "      <td>6</td>\n",
       "      <td>507.40</td>\n",
       "      <td>0</td>\n",
       "      <td>0</td>\n",
       "      <td>6</td>\n",
       "      <td>2</td>\n",
       "      <td>0</td>\n",
       "      <td>5</td>\n",
       "      <td>1</td>\n",
       "      <td>53.240</td>\n",
       "      <td>1462</td>\n",
       "      <td>solo-fpp</td>\n",
       "      <td>95</td>\n",
       "      <td>94</td>\n",
       "      <td>1896</td>\n",
       "      <td>0</td>\n",
       "      <td>0.0</td>\n",
       "      <td>0</td>\n",
       "      <td>0.000</td>\n",
       "      <td>0</td>\n",
       "      <td>0</td>\n",
       "      <td>1572.0</td>\n",
       "      <td>5</td>\n",
       "      <td>0</td>\n",
       "      <td>1.0</td>\n",
       "    </tr>\n",
       "    <tr>\n",
       "      <th>4446846</th>\n",
       "      <td>7fa83fe797d3c9</td>\n",
       "      <td>2b3e8b4c88730e</td>\n",
       "      <td>841d12ab0cf4c0</td>\n",
       "      <td>0</td>\n",
       "      <td>3</td>\n",
       "      <td>567.60</td>\n",
       "      <td>0</td>\n",
       "      <td>2</td>\n",
       "      <td>1</td>\n",
       "      <td>1</td>\n",
       "      <td>1000</td>\n",
       "      <td>6</td>\n",
       "      <td>1</td>\n",
       "      <td>79.300</td>\n",
       "      <td>1732</td>\n",
       "      <td>normal-solo-fpp</td>\n",
       "      <td>51</td>\n",
       "      <td>51</td>\n",
       "      <td>-1</td>\n",
       "      <td>0</td>\n",
       "      <td>0.0</td>\n",
       "      <td>0</td>\n",
       "      <td>92.310</td>\n",
       "      <td>0</td>\n",
       "      <td>0</td>\n",
       "      <td>3103.0</td>\n",
       "      <td>4</td>\n",
       "      <td>1500</td>\n",
       "      <td>1.0</td>\n",
       "    </tr>\n",
       "    <tr>\n",
       "      <th>4446851</th>\n",
       "      <td>94821d018a4c96</td>\n",
       "      <td>de5a790796b4e9</td>\n",
       "      <td>56c24019494299</td>\n",
       "      <td>1</td>\n",
       "      <td>6</td>\n",
       "      <td>886.30</td>\n",
       "      <td>5</td>\n",
       "      <td>2</td>\n",
       "      <td>3</td>\n",
       "      <td>2</td>\n",
       "      <td>0</td>\n",
       "      <td>6</td>\n",
       "      <td>2</td>\n",
       "      <td>54.870</td>\n",
       "      <td>1820</td>\n",
       "      <td>squad-fpp</td>\n",
       "      <td>30</td>\n",
       "      <td>30</td>\n",
       "      <td>1484</td>\n",
       "      <td>2</td>\n",
       "      <td>2216.0</td>\n",
       "      <td>0</td>\n",
       "      <td>0.000</td>\n",
       "      <td>0</td>\n",
       "      <td>0</td>\n",
       "      <td>3857.0</td>\n",
       "      <td>11</td>\n",
       "      <td>0</td>\n",
       "      <td>1.0</td>\n",
       "    </tr>\n",
       "    <tr>\n",
       "      <th>4446878</th>\n",
       "      <td>b4a03144c7f292</td>\n",
       "      <td>af465c2d950f4b</td>\n",
       "      <td>32eb0143ac4c6f</td>\n",
       "      <td>0</td>\n",
       "      <td>2</td>\n",
       "      <td>100.00</td>\n",
       "      <td>1</td>\n",
       "      <td>0</td>\n",
       "      <td>1</td>\n",
       "      <td>20</td>\n",
       "      <td>0</td>\n",
       "      <td>1</td>\n",
       "      <td>1</td>\n",
       "      <td>29.660</td>\n",
       "      <td>1290</td>\n",
       "      <td>squad-fpp</td>\n",
       "      <td>26</td>\n",
       "      <td>25</td>\n",
       "      <td>1484</td>\n",
       "      <td>0</td>\n",
       "      <td>0.0</td>\n",
       "      <td>0</td>\n",
       "      <td>0.000</td>\n",
       "      <td>0</td>\n",
       "      <td>0</td>\n",
       "      <td>2416.0</td>\n",
       "      <td>5</td>\n",
       "      <td>0</td>\n",
       "      <td>1.0</td>\n",
       "    </tr>\n",
       "    <tr>\n",
       "      <th>4446896</th>\n",
       "      <td>150f2e129ede6b</td>\n",
       "      <td>4417126d5b0d71</td>\n",
       "      <td>8dddf0ace87e54</td>\n",
       "      <td>0</td>\n",
       "      <td>5</td>\n",
       "      <td>129.40</td>\n",
       "      <td>1</td>\n",
       "      <td>0</td>\n",
       "      <td>0</td>\n",
       "      <td>13</td>\n",
       "      <td>0</td>\n",
       "      <td>2</td>\n",
       "      <td>1</td>\n",
       "      <td>270.200</td>\n",
       "      <td>1351</td>\n",
       "      <td>squad-fpp</td>\n",
       "      <td>30</td>\n",
       "      <td>29</td>\n",
       "      <td>1538</td>\n",
       "      <td>1</td>\n",
       "      <td>0.0</td>\n",
       "      <td>0</td>\n",
       "      <td>0.000</td>\n",
       "      <td>0</td>\n",
       "      <td>0</td>\n",
       "      <td>3320.0</td>\n",
       "      <td>3</td>\n",
       "      <td>0</td>\n",
       "      <td>1.0</td>\n",
       "    </tr>\n",
       "    <tr>\n",
       "      <th>4446942</th>\n",
       "      <td>2c9f1610de0ecd</td>\n",
       "      <td>d64a0663e96058</td>\n",
       "      <td>5c9254fa96f53e</td>\n",
       "      <td>0</td>\n",
       "      <td>4</td>\n",
       "      <td>724.70</td>\n",
       "      <td>6</td>\n",
       "      <td>4</td>\n",
       "      <td>14</td>\n",
       "      <td>1</td>\n",
       "      <td>0</td>\n",
       "      <td>7</td>\n",
       "      <td>2</td>\n",
       "      <td>180.300</td>\n",
       "      <td>1882</td>\n",
       "      <td>squad-fpp</td>\n",
       "      <td>31</td>\n",
       "      <td>30</td>\n",
       "      <td>1500</td>\n",
       "      <td>3</td>\n",
       "      <td>5076.0</td>\n",
       "      <td>0</td>\n",
       "      <td>0.000</td>\n",
       "      <td>0</td>\n",
       "      <td>0</td>\n",
       "      <td>2162.0</td>\n",
       "      <td>8</td>\n",
       "      <td>0</td>\n",
       "      <td>1.0</td>\n",
       "    </tr>\n",
       "  </tbody>\n",
       "</table>\n",
       "<p>127573 rows × 29 columns</p>\n",
       "</div>"
      ],
      "text/plain": [
       "                     Id         groupId         matchId  assists  boosts  \\\n",
       "67       22252be49d4419  37fa7583da2fa2  1ce1cb998f75c7        1       5   \n",
       "107      7970b4ea89e81e  abf9e2780b9f48  04832cfd74ff30        1       1   \n",
       "118      953577684b828a  54ce33c41ef9ff  c5d412db6dbee4        2       6   \n",
       "123      174c758156bcf3  a935604c9bb7aa  edc87c8d445823        1       9   \n",
       "186      eb7a3e9f50eca5  fe3d74f737cd10  92338c2233be1a        0       5   \n",
       "229      de5d4078b95b3e  f31719bc7a9b81  46fef5beda2edb        2       3   \n",
       "300      9ac54e66c0a5d3  d973f082d6c416  15535f0f9d9e46        1       7   \n",
       "341      ab4532e6427a7e  91b422b51e687f  12f3738af22f97        0       6   \n",
       "396      04c098428fcf76  661280662c9ef5  da92638f46258e        0       9   \n",
       "465      d310b194f8a869  776b1830133440  4fcbc19ac4df3d        0       4   \n",
       "493      575f5ad18b60ac  9ed86c84df9fe7  728a56582842f8        1       3   \n",
       "594      2ff0379b2503c8  cca408f624676f  ed47bceb65c153        1       6   \n",
       "598      ce39351ac31340  0edc46edf214ea  f001fa89bd6db3        1       0   \n",
       "647      fd5c8c952b9a06  37ba5425c00837  34293599de17ef        1       7   \n",
       "668      659c2acecba08a  a5f5526aaacb52  255b912553dd82        1       2   \n",
       "678      e56a70d6ab3957  4cf11138ad8866  6ade309fe55843        2       3   \n",
       "725      cc2a41f08f9745  344c61e890ea06  9b75247b2735c4        1       4   \n",
       "736      b9894d1a93a2d0  7bcd70602b1b2d  ffca00bb37147a        1       3   \n",
       "752      a486b657bedeba  6c041c1f1ad592  5701342cf00898        2       3   \n",
       "828      e783007d6d0c42  0d901b349a44c0  e85ee7a32ca858        2       3   \n",
       "844      488d15da174f7f  4719c2520af87f  caffd4f34ab504        3       3   \n",
       "864      49807355c7991b  8751266cef3a84  876d7b42154d3c        1       4   \n",
       "871      8c424de18f2bcc  cdc043bea0530a  c2198542d7c8a3        3       1   \n",
       "891      f64a4d0045a38a  e3f19fa12f167b  ad4bfbf3044575        0       0   \n",
       "907      1f670b3cad2d0a  81d02699ddfda3  b59b3cb6913d20        1       3   \n",
       "929      757ffb0503575f  3055ca1318e8ba  1cb8b2303a03e6        0       1   \n",
       "930      d08c6cc4910f13  b69b58dea1ee5d  bb7383b0bcfb62        1       5   \n",
       "1073     369b4932998e83  192b806188130d  4b41a67d8cf811        6       8   \n",
       "1128     b5facff6008fd4  de5461b05c544d  97a3b3487dcb02        2       4   \n",
       "1144     8e19cc97e4e02d  ff76682620dafa  dba11a6f6bc6a4        1       3   \n",
       "...                 ...             ...             ...      ...     ...   \n",
       "4446010  9e000749582853  b13902d2a9bfeb  d1d6f677bbe3f9        2       5   \n",
       "4446064  20bc08dfd6284c  01d3646846bebf  24f25cbcd9c01d        2       6   \n",
       "4446066  d15024ee86a229  2e2dfbeb9531ae  1fa80bf799d2f2        4       6   \n",
       "4446093  2f57d1e882cc06  1c59e2133a2fbd  0027b1ffb2e346        0       0   \n",
       "4446121  75fbab6fa386d6  1fef81aa2e78e1  88ae77f0b20b6e        0       8   \n",
       "4446158  780055bd9348a0  be24f7dbb781c6  58682dccb69a33        4       6   \n",
       "4446177  3bb0cd86e70266  730ff3d712b4b9  75b2bdbe246c8c        1       4   \n",
       "4446246  3ad3602e87b69e  14a3f1991683a7  ebfc106c525b31        2       3   \n",
       "4446248  6092a5764aa1b9  00ffd39ffe0411  3c35dbd0871f17        0       4   \n",
       "4446261  a389e1381568bd  1c9dc47e0c877b  04bd0f78b5d348        1       6   \n",
       "4446353  455b0ab51addcf  1e83e7cc091df5  8fac94db3260a0        1       4   \n",
       "4446364  18771e24f08f6d  c4c77cd55835dc  a04d6089f9ef99        2       2   \n",
       "4446432  a245d59021bcc8  262cb9854d9dc8  ea5edb6ef7c155        0       5   \n",
       "4446512  c701cfe64f09d5  1a79ddcf05cd91  f82c71b35577a8        5       2   \n",
       "4446513  7424356e0ab8aa  e1ae6aff3750f6  5d6e3379a0aa2f        0       6   \n",
       "4446561  0b25a77bc61924  1e50f263298b00  ac7101ad78466d        0       2   \n",
       "4446639  aebb7de29c8b7b  bd17a34d25a11d  7e4f1c489b9f39        0       2   \n",
       "4446654  8331b07da07d0e  92e8fbebeb6985  abd5d75724fc26        3       6   \n",
       "4446667  c6e20ba5c39b72  7a6396e48fa2d0  06865090ea6288        2       4   \n",
       "4446694  0610fee7332541  397565650b3f6e  2c6b1db9035fbc        1       4   \n",
       "4446772  38e4efd74225fd  86772c17c3b57c  08d7f71a4d17bb        1       5   \n",
       "4446823  714a054acf8227  5c2f2875e3f74b  b68a152e9ed994        0       3   \n",
       "4446831  dcf22ad3ced424  2bd9f39244ce44  4ff3bccdadd120        0       5   \n",
       "4446836  cfc2eefa6033e4  4409d3940060c9  6fe7a6927d7f5e        1       7   \n",
       "4446845  540ee5a5ed6131  0b0f03278e74cc  8b3a6d403aa117        0       6   \n",
       "4446846  7fa83fe797d3c9  2b3e8b4c88730e  841d12ab0cf4c0        0       3   \n",
       "4446851  94821d018a4c96  de5a790796b4e9  56c24019494299        1       6   \n",
       "4446878  b4a03144c7f292  af465c2d950f4b  32eb0143ac4c6f        0       2   \n",
       "4446896  150f2e129ede6b  4417126d5b0d71  8dddf0ace87e54        0       5   \n",
       "4446942  2c9f1610de0ecd  d64a0663e96058  5c9254fa96f53e        0       4   \n",
       "\n",
       "         damageDealt  DBNOs  headshotKills  heals  killPlace  killPoints  \\\n",
       "67            378.80      2              3      6          4           0   \n",
       "107            58.36      0              0      2         38           0   \n",
       "118            76.11      0              0     12         45           0   \n",
       "123           626.20      4              3      2          4        1333   \n",
       "186           778.00      0              3      2          2        1693   \n",
       "229           629.00      4              2      1          4           0   \n",
       "300          1120.00      8              3      1          1           0   \n",
       "341            91.00      0              1      0         29           0   \n",
       "396           235.70      0              0      5         22        1427   \n",
       "465           181.50      2              0     10          7        1653   \n",
       "493           275.90      0              0      2         44           0   \n",
       "594           149.40      0              0      7         24           0   \n",
       "598           447.30      3              1      0          3           0   \n",
       "647           544.00      3              1      9          2           0   \n",
       "668           853.10      3              1      2          2        1330   \n",
       "678           549.20      3              0     14          6        1422   \n",
       "725           553.10      3              0      9          5           0   \n",
       "736           367.00      3              1      1          7           0   \n",
       "752           341.30      3              0      2          2        1148   \n",
       "828           454.20      2              1      2         11           0   \n",
       "844           494.20      2              1      1          2           0   \n",
       "864           361.80      0              2     18         12           0   \n",
       "871           461.40      2              1      2         11        1132   \n",
       "891           128.30      1              0      0         22           0   \n",
       "907           391.40      2              1      2          4        1708   \n",
       "929           298.90      2              1      1          6           0   \n",
       "930          1036.00      7              1      1          1           0   \n",
       "1073          743.10      5              0      4          2           0   \n",
       "1128          219.10      1              0     12         13           0   \n",
       "1144          689.90      2              3      2          1           0   \n",
       "...              ...    ...            ...    ...        ...         ...   \n",
       "4446010       424.50      4              1      3          5        1462   \n",
       "4446064       475.50      2              1      4          8           0   \n",
       "4446066       621.80      1              2      5          7        1295   \n",
       "4446093       116.80      0              0      0          3           0   \n",
       "4446121       753.30      0              3      2          1        1463   \n",
       "4446158       310.60      1              1      7         11           0   \n",
       "4446177       450.40      4              0      8          1           0   \n",
       "4446246       537.40      4              1      5          2        1537   \n",
       "4446248        94.22      0              1      4         21        1303   \n",
       "4446261       133.80      1              0     13         22        1447   \n",
       "4446353      1300.00      0              5      5          2           0   \n",
       "4446364       723.40      5              0      0          1           0   \n",
       "4446432       698.40      2              2      7          1        1352   \n",
       "4446512       581.20      4              2      1          2           0   \n",
       "4446513       200.00      1              0      5         12           0   \n",
       "4446561      1318.00     10              6      1          1           0   \n",
       "4446639       301.90      2              1      4         18           0   \n",
       "4446654       371.30      2              0      3          2           0   \n",
       "4446667       154.60      1              1      5         13        1383   \n",
       "4446694       501.90      2              3      4          4           0   \n",
       "4446772       452.20      2              1      4          1        1324   \n",
       "4446823        49.50      0              0      0         45        1639   \n",
       "4446831       208.70      1              0      3         35           0   \n",
       "4446836       654.60      5              0      9          1        1428   \n",
       "4446845       507.40      0              0      6          2           0   \n",
       "4446846       567.60      0              2      1          1        1000   \n",
       "4446851       886.30      5              2      3          2           0   \n",
       "4446878       100.00      1              0      1         20           0   \n",
       "4446896       129.40      1              0      0         13           0   \n",
       "4446942       724.70      6              4     14          1           0   \n",
       "\n",
       "         kills  killStreaks  longestKill  matchDuration         matchType  \\\n",
       "67           4            2       61.390           1297         squad-fpp   \n",
       "107          0            0        0.000           1708             squad   \n",
       "118          0            0        0.000           1388           duo-fpp   \n",
       "123          6            2       85.740           1405         squad-fpp   \n",
       "186          8            1      158.900           1387          solo-fpp   \n",
       "229          5            2      200.200           1394             squad   \n",
       "300         14            3      112.500           1305         squad-fpp   \n",
       "341          1            1       20.110           1801           duo-fpp   \n",
       "396          1            1       60.760           1814             squad   \n",
       "465          3            2       43.780           1769         squad-fpp   \n",
       "493          0            0        0.000           1828         squad-fpp   \n",
       "594          1            1       11.360           1910             squad   \n",
       "598          4            2       13.150           1327         squad-fpp   \n",
       "647          6            2       95.900           1269         squad-fpp   \n",
       "668          7            2       57.700           1895           duo-fpp   \n",
       "678          4            1      180.600           1803         squad-fpp   \n",
       "725          4            1      167.300           1376         squad-fpp   \n",
       "736          3            1       82.270           1316         squad-fpp   \n",
       "752          5            2      119.900           1362         squad-fpp   \n",
       "828          2            1      111.500           1884         squad-fpp   \n",
       "844          6            2       92.370           1886         squad-fpp   \n",
       "864          2            1      185.300           1805           duo-fpp   \n",
       "871          3            1      138.200           1299         squad-fpp   \n",
       "891          1            1       88.330           1269         squad-fpp   \n",
       "907          4            2      130.400           1377         squad-fpp   \n",
       "929          4            2      119.500           1322             squad   \n",
       "930          6            2       75.610           1916             squad   \n",
       "1073         5            2      247.300           1779             squad   \n",
       "1128         2            1       51.730           1892               duo   \n",
       "1144         8            2       61.580           1374           duo-fpp   \n",
       "...        ...          ...          ...            ...               ...   \n",
       "4446010      4            1      248.500           1375         squad-fpp   \n",
       "4446064      3            1      130.300           1786         squad-fpp   \n",
       "4446066      3            1       90.740           1447         squad-fpp   \n",
       "4446093      0            0        0.000           1808              solo   \n",
       "4446121      8            1       67.400           1453          solo-fpp   \n",
       "4446158      2            1       43.370           1913             squad   \n",
       "4446177      7            2      162.000           1340             squad   \n",
       "4446246      6            2      100.500           1276         squad-fpp   \n",
       "4446248      1            1       14.460           1799         squad-fpp   \n",
       "4446261      1            1        2.168           1898         squad-fpp   \n",
       "4446353     16            3      109.900            833  normal-squad-fpp   \n",
       "4446364      5            3       60.980           1320         squad-fpp   \n",
       "4446432      6            2       57.410           1916           duo-fpp   \n",
       "4446512      6            1      241.700           1765         squad-fpp   \n",
       "4446513      2            1       77.850           1095         squad-fpp   \n",
       "4446561     11            2      386.400           1871             squad   \n",
       "4446639      1            1       63.530           1764         squad-fpp   \n",
       "4446654      5            2      158.500           1872           duo-fpp   \n",
       "4446667      2            1      139.800           1332         squad-fpp   \n",
       "4446694      5            1      210.300           1774           duo-fpp   \n",
       "4446772      6            1       50.390           1945               duo   \n",
       "4446823      0            0        0.000           1352         squad-fpp   \n",
       "4446831      0            0        0.000           1883         squad-fpp   \n",
       "4446836      7            3      131.200           1441         squad-fpp   \n",
       "4446845      5            1       53.240           1462          solo-fpp   \n",
       "4446846      6            1       79.300           1732   normal-solo-fpp   \n",
       "4446851      6            2       54.870           1820         squad-fpp   \n",
       "4446878      1            1       29.660           1290         squad-fpp   \n",
       "4446896      2            1      270.200           1351         squad-fpp   \n",
       "4446942      7            2      180.300           1882         squad-fpp   \n",
       "\n",
       "         maxPlace  numGroups  rankPoints  revives  rideDistance  roadKills  \\\n",
       "67             29         28        1431        0         317.7          0   \n",
       "107            26         25        1494        0        5134.0          0   \n",
       "118            49         47        1468        1           0.0          0   \n",
       "123            29         28          -1        0        1045.0          0   \n",
       "186            98         97          -1        0           0.0          0   \n",
       "229            29         28        1456        3         203.5          0   \n",
       "300            31         29        1649        0           0.0          0   \n",
       "341            46         45        1552        0        4427.0          0   \n",
       "396            27         27          -1        3        4439.0          0   \n",
       "465            28         26          -1        0        3279.0          0   \n",
       "493            29         26        1500        0        2293.0          0   \n",
       "594            27         25        1433        1        5883.0          0   \n",
       "598            25         23        1502        0           0.0          0   \n",
       "647            29         29        1478        0           0.0          0   \n",
       "668            47         43          -1        1        1865.0          0   \n",
       "678            28         27          -1        1           0.0          0   \n",
       "725            29         28        1380        1           0.0          0   \n",
       "736            28         26        1705        0           0.0          0   \n",
       "752            31         31          -1        2           0.0          0   \n",
       "828            27         26        1499        1        6713.0          0   \n",
       "844            27         27        1617        3        2820.0          0   \n",
       "864            49         49        1665        0        1265.0          0   \n",
       "871            29         26          -1        0           0.0          0   \n",
       "891            29         28        1500        0           0.0          0   \n",
       "907            30         30          -1        1           0.0          0   \n",
       "929            28         28        1500        0           0.0          0   \n",
       "930            27         25        1500        1        2839.0          0   \n",
       "1073           29         28        1577        1        3486.0          0   \n",
       "1128           50         48        1834        0       13510.0          0   \n",
       "1144           48         48        1542        2           0.0          0   \n",
       "...           ...        ...         ...      ...           ...        ...   \n",
       "4446010        29         27          -1        1         454.9          0   \n",
       "4446064        27         25        1430        2        1413.0          0   \n",
       "4446066        27         27          -1        2           0.0          0   \n",
       "4446093        17          2        1500        0           0.0          0   \n",
       "4446121        95         93          -1        0           0.0          0   \n",
       "4446158        29         25        1396        1        5041.0          0   \n",
       "4446177        26         26        1678        1           0.0          0   \n",
       "4446246        26         26          -1        0           0.0          0   \n",
       "4446248        27         24          -1        0           0.0          0   \n",
       "4446261        26         26          -1        1       13800.0          0   \n",
       "4446353         8          8        1500        0           0.0          0   \n",
       "4446364        25         25        1561        1           0.0          0   \n",
       "4446432        44         43          -1        1           0.0          0   \n",
       "4446512        30         28        1526        1           0.0          0   \n",
       "4446513        26         23        1507        0           0.0          0   \n",
       "4446561        28         26        1554        1           0.0          0   \n",
       "4446639        28         28        1541        0        5352.0          0   \n",
       "4446654        47         45        1545        2        2302.0          0   \n",
       "4446667        28         28          -1        1           0.0          0   \n",
       "4446694        47         46        1560        0        3918.0          0   \n",
       "4446772        47         44          -1        0        4995.0          0   \n",
       "4446823        27         26          -1        0           0.0          0   \n",
       "4446831        27         23        1440        0        3811.0          0   \n",
       "4446836        28         26          -1        0        3028.0          0   \n",
       "4446845        95         94        1896        0           0.0          0   \n",
       "4446846        51         51          -1        0           0.0          0   \n",
       "4446851        30         30        1484        2        2216.0          0   \n",
       "4446878        26         25        1484        0           0.0          0   \n",
       "4446896        30         29        1538        1           0.0          0   \n",
       "4446942        31         30        1500        3        5076.0          0   \n",
       "\n",
       "         swimDistance  teamKills  vehicleDestroys  walkDistance  \\\n",
       "67              0.000          0                1        3120.0   \n",
       "107             0.000          0                0        2708.0   \n",
       "118             0.000          0                0        2635.0   \n",
       "123             0.000          0                0        2814.0   \n",
       "186             0.000          0                0        2422.0   \n",
       "229             0.000          0                0        2697.0   \n",
       "300             0.000          0                0        3503.0   \n",
       "341             0.000          0                0        2348.0   \n",
       "396             0.000          0                0        3408.0   \n",
       "465             0.000          1                1        3202.0   \n",
       "493             0.000          0                0        2537.0   \n",
       "594             0.000          0                0        2133.0   \n",
       "598             0.000          0                0         252.8   \n",
       "647             0.000          0                0        3817.0   \n",
       "668             0.000          0                0        3067.0   \n",
       "678             0.000          0                0        5005.0   \n",
       "725             1.649          0                0        3207.0   \n",
       "736             0.000          0                0        3275.0   \n",
       "752             0.000          0                0        3634.0   \n",
       "828             0.000          0                0        2820.0   \n",
       "844             0.000          0                0        3948.0   \n",
       "864             0.000          0                0        3791.0   \n",
       "871             0.000          0                0        3296.0   \n",
       "891             0.000          0                0        1312.0   \n",
       "907             0.000          0                0        3721.0   \n",
       "929             0.000          0                0        3158.0   \n",
       "930             0.000          0                0        3226.0   \n",
       "1073          253.100          0                0        2309.0   \n",
       "1128            0.000          0                0        2151.0   \n",
       "1144            0.000          0                0        3355.0   \n",
       "...               ...        ...              ...           ...   \n",
       "4446010         0.000          0                0        3596.0   \n",
       "4446064         0.000          0                0        4555.0   \n",
       "4446066         0.000          0                0        2997.0   \n",
       "4446093         0.000          0                0           0.0   \n",
       "4446121         0.000          0                0        2516.0   \n",
       "4446158         0.000          0                0        1801.0   \n",
       "4446177         0.000          0                0        3096.0   \n",
       "4446246         0.000          0                0        3245.0   \n",
       "4446248         0.000          0                0        4886.0   \n",
       "4446261         0.000          0                0        2444.0   \n",
       "4446353         0.000          0                0         186.3   \n",
       "4446364         0.000          0                0        3186.0   \n",
       "4446432         0.000          0                0        3156.0   \n",
       "4446512         0.000          0                0        2984.0   \n",
       "4446513        14.240          0                0        3412.0   \n",
       "4446561         0.000          0                0        4795.0   \n",
       "4446639         0.000          0                0        2299.0   \n",
       "4446654         0.000          0                0        4628.0   \n",
       "4446667         0.000          0                0        2614.0   \n",
       "4446694         0.000          0                0        3050.0   \n",
       "4446772         0.000          0                0        4178.0   \n",
       "4446823         0.000          0                0        4307.0   \n",
       "4446831       221.900          0                0        4589.0   \n",
       "4446836         0.000          0                0        2340.0   \n",
       "4446845         0.000          0                0        1572.0   \n",
       "4446846        92.310          0                0        3103.0   \n",
       "4446851         0.000          0                0        3857.0   \n",
       "4446878         0.000          0                0        2416.0   \n",
       "4446896         0.000          0                0        3320.0   \n",
       "4446942         0.000          0                0        2162.0   \n",
       "\n",
       "         weaponsAcquired  winPoints  winPlacePerc  \n",
       "67                     4          0           1.0  \n",
       "107                    7          0           1.0  \n",
       "118                    7          0           1.0  \n",
       "123                    7       1566           1.0  \n",
       "186                    5       1506           1.0  \n",
       "229                    4          0           1.0  \n",
       "300                    8          0           1.0  \n",
       "341                    4          0           1.0  \n",
       "396                    9       1460           1.0  \n",
       "465                    6       1603           1.0  \n",
       "493                    4          0           1.0  \n",
       "594                    6          0           1.0  \n",
       "598                    3          0           1.0  \n",
       "647                    4          0           1.0  \n",
       "668                    7       1474           1.0  \n",
       "678                    6       1537           1.0  \n",
       "725                    3          0           1.0  \n",
       "736                    3          0           1.0  \n",
       "752                    8       1493           1.0  \n",
       "828                    4          0           1.0  \n",
       "844                   14          0           1.0  \n",
       "864                    9          0           1.0  \n",
       "871                    3       1511           1.0  \n",
       "891                    4          0           1.0  \n",
       "907                    4       1608           1.0  \n",
       "929                    3          0           1.0  \n",
       "930                   10          0           1.0  \n",
       "1073                   9          0           1.0  \n",
       "1128                   5          0           1.0  \n",
       "1144                   4          0           1.0  \n",
       "...                  ...        ...           ...  \n",
       "4446010                8       1509           1.0  \n",
       "4446064                7          0           1.0  \n",
       "4446066                4       1562           1.0  \n",
       "4446093               11          0           1.0  \n",
       "4446121                5       1492           1.0  \n",
       "4446158                6          0           1.0  \n",
       "4446177                3          0           1.0  \n",
       "4446246                3       1662           1.0  \n",
       "4446248                8       1475           1.0  \n",
       "4446261                4       1649           1.0  \n",
       "4446353               13          0           1.0  \n",
       "4446364                6          0           1.0  \n",
       "4446432                7       1537           1.0  \n",
       "4446512                7          0           1.0  \n",
       "4446513                5          0           1.0  \n",
       "4446561                3          0           1.0  \n",
       "4446639                6          0           1.0  \n",
       "4446654                6          0           1.0  \n",
       "4446667                3       1447           1.0  \n",
       "4446694                5          0           1.0  \n",
       "4446772                5       1596           1.0  \n",
       "4446823                5       1623           1.0  \n",
       "4446831                6          0           1.0  \n",
       "4446836                7       1438           1.0  \n",
       "4446845                5          0           1.0  \n",
       "4446846                4       1500           1.0  \n",
       "4446851               11          0           1.0  \n",
       "4446878                5          0           1.0  \n",
       "4446896                3          0           1.0  \n",
       "4446942                8          0           1.0  \n",
       "\n",
       "[127573 rows x 29 columns]"
      ]
     },
     "execution_count": 32,
     "metadata": {},
     "output_type": "execute_result"
    }
   ],
   "source": [
    "PG_train.loc[PG_train['winPlacePerc']==1]"
   ]
  },
  {
   "cell_type": "code",
   "execution_count": 36,
   "metadata": {},
   "outputs": [
    {
     "data": {
      "text/html": [
       "<div>\n",
       "<style scoped>\n",
       "    .dataframe tbody tr th:only-of-type {\n",
       "        vertical-align: middle;\n",
       "    }\n",
       "\n",
       "    .dataframe tbody tr th {\n",
       "        vertical-align: top;\n",
       "    }\n",
       "\n",
       "    .dataframe thead th {\n",
       "        text-align: right;\n",
       "    }\n",
       "</style>\n",
       "<table border=\"1\" class=\"dataframe\">\n",
       "  <thead>\n",
       "    <tr style=\"text-align: right;\">\n",
       "      <th></th>\n",
       "      <th>count</th>\n",
       "      <th>unique</th>\n",
       "      <th>top</th>\n",
       "      <th>freq</th>\n",
       "    </tr>\n",
       "    <tr>\n",
       "      <th>matchId</th>\n",
       "      <th></th>\n",
       "      <th></th>\n",
       "      <th></th>\n",
       "      <th></th>\n",
       "    </tr>\n",
       "  </thead>\n",
       "  <tbody>\n",
       "    <tr>\n",
       "      <th>a10357fd1a4a91</th>\n",
       "      <td>96</td>\n",
       "      <td>96</td>\n",
       "      <td>71f354d1970316</td>\n",
       "      <td>1</td>\n",
       "    </tr>\n",
       "    <tr>\n",
       "      <th>aeb375fc57110c</th>\n",
       "      <td>91</td>\n",
       "      <td>91</td>\n",
       "      <td>ea6e00629df506</td>\n",
       "      <td>1</td>\n",
       "    </tr>\n",
       "    <tr>\n",
       "      <th>110163d8bb94ae</th>\n",
       "      <td>98</td>\n",
       "      <td>98</td>\n",
       "      <td>b3500b944899ed</td>\n",
       "      <td>1</td>\n",
       "    </tr>\n",
       "    <tr>\n",
       "      <th>f1f1f4ef412d7e</th>\n",
       "      <td>91</td>\n",
       "      <td>91</td>\n",
       "      <td>c134da2d41cdaa</td>\n",
       "      <td>1</td>\n",
       "    </tr>\n",
       "    <tr>\n",
       "      <th>6dc8ff871e21e6</th>\n",
       "      <td>97</td>\n",
       "      <td>97</td>\n",
       "      <td>c405a711cf0dc9</td>\n",
       "      <td>1</td>\n",
       "    </tr>\n",
       "    <tr>\n",
       "      <th>bac52627a12114</th>\n",
       "      <td>95</td>\n",
       "      <td>95</td>\n",
       "      <td>16e2ce26f6f853</td>\n",
       "      <td>1</td>\n",
       "    </tr>\n",
       "    <tr>\n",
       "      <th>a8274e903927a2</th>\n",
       "      <td>97</td>\n",
       "      <td>97</td>\n",
       "      <td>1db77ceab020f4</td>\n",
       "      <td>1</td>\n",
       "    </tr>\n",
       "    <tr>\n",
       "      <th>292611730ca862</th>\n",
       "      <td>96</td>\n",
       "      <td>96</td>\n",
       "      <td>e57aade9d9a216</td>\n",
       "      <td>1</td>\n",
       "    </tr>\n",
       "    <tr>\n",
       "      <th>df014fbee741c6</th>\n",
       "      <td>97</td>\n",
       "      <td>97</td>\n",
       "      <td>d40106799e9780</td>\n",
       "      <td>1</td>\n",
       "    </tr>\n",
       "    <tr>\n",
       "      <th>3d3031c795305b</th>\n",
       "      <td>97</td>\n",
       "      <td>97</td>\n",
       "      <td>5e327a86132ed1</td>\n",
       "      <td>1</td>\n",
       "    </tr>\n",
       "    <tr>\n",
       "      <th>2dd6ddb8320fc1</th>\n",
       "      <td>99</td>\n",
       "      <td>99</td>\n",
       "      <td>871b89be70aa0c</td>\n",
       "      <td>1</td>\n",
       "    </tr>\n",
       "    <tr>\n",
       "      <th>80170383d90003</th>\n",
       "      <td>95</td>\n",
       "      <td>95</td>\n",
       "      <td>c91f4608064828</td>\n",
       "      <td>1</td>\n",
       "    </tr>\n",
       "    <tr>\n",
       "      <th>535b5dbd965a94</th>\n",
       "      <td>90</td>\n",
       "      <td>90</td>\n",
       "      <td>9f986c651fb4ba</td>\n",
       "      <td>1</td>\n",
       "    </tr>\n",
       "    <tr>\n",
       "      <th>2c30ddf481c52d</th>\n",
       "      <td>97</td>\n",
       "      <td>97</td>\n",
       "      <td>258fb90ed08b93</td>\n",
       "      <td>1</td>\n",
       "    </tr>\n",
       "    <tr>\n",
       "      <th>94e1c1cc443c65</th>\n",
       "      <td>93</td>\n",
       "      <td>93</td>\n",
       "      <td>db146cb0f3991a</td>\n",
       "      <td>1</td>\n",
       "    </tr>\n",
       "    <tr>\n",
       "      <th>6fd9e765ddd0c5</th>\n",
       "      <td>95</td>\n",
       "      <td>95</td>\n",
       "      <td>5077dca09ec4a0</td>\n",
       "      <td>1</td>\n",
       "    </tr>\n",
       "    <tr>\n",
       "      <th>1d6cfe0f6f23b0</th>\n",
       "      <td>98</td>\n",
       "      <td>98</td>\n",
       "      <td>35c72beec556a1</td>\n",
       "      <td>1</td>\n",
       "    </tr>\n",
       "    <tr>\n",
       "      <th>07948d723b9c0f</th>\n",
       "      <td>96</td>\n",
       "      <td>96</td>\n",
       "      <td>75efff9dd68efc</td>\n",
       "      <td>1</td>\n",
       "    </tr>\n",
       "    <tr>\n",
       "      <th>733af30cc00099</th>\n",
       "      <td>99</td>\n",
       "      <td>99</td>\n",
       "      <td>34965a0c954818</td>\n",
       "      <td>1</td>\n",
       "    </tr>\n",
       "    <tr>\n",
       "      <th>a329ac99449ad7</th>\n",
       "      <td>98</td>\n",
       "      <td>98</td>\n",
       "      <td>2bb7523c4c3aff</td>\n",
       "      <td>1</td>\n",
       "    </tr>\n",
       "    <tr>\n",
       "      <th>80f2b8448e474b</th>\n",
       "      <td>95</td>\n",
       "      <td>95</td>\n",
       "      <td>82344f602be189</td>\n",
       "      <td>1</td>\n",
       "    </tr>\n",
       "    <tr>\n",
       "      <th>f3956286eb39a5</th>\n",
       "      <td>94</td>\n",
       "      <td>94</td>\n",
       "      <td>9e4c437fb4073d</td>\n",
       "      <td>1</td>\n",
       "    </tr>\n",
       "    <tr>\n",
       "      <th>e833ca2282169d</th>\n",
       "      <td>97</td>\n",
       "      <td>97</td>\n",
       "      <td>f8ed14ec6f8fd8</td>\n",
       "      <td>1</td>\n",
       "    </tr>\n",
       "    <tr>\n",
       "      <th>8b0a78c005cea0</th>\n",
       "      <td>97</td>\n",
       "      <td>97</td>\n",
       "      <td>d68c4f777e85b6</td>\n",
       "      <td>1</td>\n",
       "    </tr>\n",
       "    <tr>\n",
       "      <th>62fbe726028662</th>\n",
       "      <td>98</td>\n",
       "      <td>98</td>\n",
       "      <td>9c501bebd2b7aa</td>\n",
       "      <td>1</td>\n",
       "    </tr>\n",
       "    <tr>\n",
       "      <th>37f43ba55ec0a4</th>\n",
       "      <td>93</td>\n",
       "      <td>93</td>\n",
       "      <td>e794ed3f2b5d24</td>\n",
       "      <td>1</td>\n",
       "    </tr>\n",
       "    <tr>\n",
       "      <th>e8b8cf5d9231d3</th>\n",
       "      <td>95</td>\n",
       "      <td>95</td>\n",
       "      <td>561feebad4146a</td>\n",
       "      <td>1</td>\n",
       "    </tr>\n",
       "    <tr>\n",
       "      <th>2cdae31ee18601</th>\n",
       "      <td>94</td>\n",
       "      <td>94</td>\n",
       "      <td>b4d6d556240b28</td>\n",
       "      <td>1</td>\n",
       "    </tr>\n",
       "    <tr>\n",
       "      <th>6057f846f3ed12</th>\n",
       "      <td>95</td>\n",
       "      <td>95</td>\n",
       "      <td>bc4227da9fdd5f</td>\n",
       "      <td>1</td>\n",
       "    </tr>\n",
       "    <tr>\n",
       "      <th>e019e04dee4f19</th>\n",
       "      <td>92</td>\n",
       "      <td>92</td>\n",
       "      <td>e7348f2d6eb2c5</td>\n",
       "      <td>1</td>\n",
       "    </tr>\n",
       "    <tr>\n",
       "      <th>...</th>\n",
       "      <td>...</td>\n",
       "      <td>...</td>\n",
       "      <td>...</td>\n",
       "      <td>...</td>\n",
       "    </tr>\n",
       "    <tr>\n",
       "      <th>66ad63285e8952</th>\n",
       "      <td>7</td>\n",
       "      <td>7</td>\n",
       "      <td>7a28f8152abc5a</td>\n",
       "      <td>1</td>\n",
       "    </tr>\n",
       "    <tr>\n",
       "      <th>7494245d9d3c49</th>\n",
       "      <td>18</td>\n",
       "      <td>18</td>\n",
       "      <td>710dd6695ed650</td>\n",
       "      <td>1</td>\n",
       "    </tr>\n",
       "    <tr>\n",
       "      <th>7ea6d3449ca0af</th>\n",
       "      <td>10</td>\n",
       "      <td>10</td>\n",
       "      <td>fcf540efd37b72</td>\n",
       "      <td>1</td>\n",
       "    </tr>\n",
       "    <tr>\n",
       "      <th>af36808e93b704</th>\n",
       "      <td>11</td>\n",
       "      <td>11</td>\n",
       "      <td>56825d0143c58d</td>\n",
       "      <td>1</td>\n",
       "    </tr>\n",
       "    <tr>\n",
       "      <th>0f651499feea48</th>\n",
       "      <td>15</td>\n",
       "      <td>15</td>\n",
       "      <td>59b118ba8f70a6</td>\n",
       "      <td>1</td>\n",
       "    </tr>\n",
       "    <tr>\n",
       "      <th>4e5d7dbdde159a</th>\n",
       "      <td>18</td>\n",
       "      <td>18</td>\n",
       "      <td>3c439b53ca7ca1</td>\n",
       "      <td>1</td>\n",
       "    </tr>\n",
       "    <tr>\n",
       "      <th>56a978ddecc196</th>\n",
       "      <td>15</td>\n",
       "      <td>15</td>\n",
       "      <td>fcda604bd5d02d</td>\n",
       "      <td>1</td>\n",
       "    </tr>\n",
       "    <tr>\n",
       "      <th>29617c75013f8f</th>\n",
       "      <td>13</td>\n",
       "      <td>13</td>\n",
       "      <td>b32dd55b776180</td>\n",
       "      <td>1</td>\n",
       "    </tr>\n",
       "    <tr>\n",
       "      <th>f7bfbfab040691</th>\n",
       "      <td>17</td>\n",
       "      <td>17</td>\n",
       "      <td>d142bfbd46979b</td>\n",
       "      <td>1</td>\n",
       "    </tr>\n",
       "    <tr>\n",
       "      <th>4be885f2e6c862</th>\n",
       "      <td>9</td>\n",
       "      <td>9</td>\n",
       "      <td>cd6278b8ae9c81</td>\n",
       "      <td>1</td>\n",
       "    </tr>\n",
       "    <tr>\n",
       "      <th>e59ee8f5299da6</th>\n",
       "      <td>15</td>\n",
       "      <td>15</td>\n",
       "      <td>b0e8bcc6323814</td>\n",
       "      <td>1</td>\n",
       "    </tr>\n",
       "    <tr>\n",
       "      <th>3f1035912f5588</th>\n",
       "      <td>19</td>\n",
       "      <td>19</td>\n",
       "      <td>056e9fb3ea613a</td>\n",
       "      <td>1</td>\n",
       "    </tr>\n",
       "    <tr>\n",
       "      <th>89658ff71373e0</th>\n",
       "      <td>16</td>\n",
       "      <td>16</td>\n",
       "      <td>c122933cbefc4d</td>\n",
       "      <td>1</td>\n",
       "    </tr>\n",
       "    <tr>\n",
       "      <th>44f9d6ae973020</th>\n",
       "      <td>9</td>\n",
       "      <td>9</td>\n",
       "      <td>ef306254cc7fc4</td>\n",
       "      <td>1</td>\n",
       "    </tr>\n",
       "    <tr>\n",
       "      <th>7f15589f764058</th>\n",
       "      <td>16</td>\n",
       "      <td>16</td>\n",
       "      <td>1a8636e312dc76</td>\n",
       "      <td>1</td>\n",
       "    </tr>\n",
       "    <tr>\n",
       "      <th>888809ad630327</th>\n",
       "      <td>17</td>\n",
       "      <td>17</td>\n",
       "      <td>1df9826105b2ba</td>\n",
       "      <td>1</td>\n",
       "    </tr>\n",
       "    <tr>\n",
       "      <th>231a6d5491b08f</th>\n",
       "      <td>17</td>\n",
       "      <td>17</td>\n",
       "      <td>23009c11c029a5</td>\n",
       "      <td>1</td>\n",
       "    </tr>\n",
       "    <tr>\n",
       "      <th>6a86f775004269</th>\n",
       "      <td>19</td>\n",
       "      <td>19</td>\n",
       "      <td>b0b0adcc7c5796</td>\n",
       "      <td>1</td>\n",
       "    </tr>\n",
       "    <tr>\n",
       "      <th>3270384443bd32</th>\n",
       "      <td>7</td>\n",
       "      <td>7</td>\n",
       "      <td>6c6a6ae039b96e</td>\n",
       "      <td>1</td>\n",
       "    </tr>\n",
       "    <tr>\n",
       "      <th>e5a77433bc436f</th>\n",
       "      <td>2</td>\n",
       "      <td>2</td>\n",
       "      <td>28f2bb56074e95</td>\n",
       "      <td>1</td>\n",
       "    </tr>\n",
       "    <tr>\n",
       "      <th>17cbec3df4f7aa</th>\n",
       "      <td>14</td>\n",
       "      <td>14</td>\n",
       "      <td>2cc1b2619b13d9</td>\n",
       "      <td>1</td>\n",
       "    </tr>\n",
       "    <tr>\n",
       "      <th>ea31f72fb8b639</th>\n",
       "      <td>11</td>\n",
       "      <td>11</td>\n",
       "      <td>88374c703cb602</td>\n",
       "      <td>1</td>\n",
       "    </tr>\n",
       "    <tr>\n",
       "      <th>af08fed77a4683</th>\n",
       "      <td>17</td>\n",
       "      <td>17</td>\n",
       "      <td>0ea2d714180675</td>\n",
       "      <td>1</td>\n",
       "    </tr>\n",
       "    <tr>\n",
       "      <th>39d2800dad8ae6</th>\n",
       "      <td>6</td>\n",
       "      <td>6</td>\n",
       "      <td>ffc72a8b485933</td>\n",
       "      <td>1</td>\n",
       "    </tr>\n",
       "    <tr>\n",
       "      <th>8799301e853202</th>\n",
       "      <td>7</td>\n",
       "      <td>7</td>\n",
       "      <td>4b06155547a457</td>\n",
       "      <td>1</td>\n",
       "    </tr>\n",
       "    <tr>\n",
       "      <th>dc5e44d25926fc</th>\n",
       "      <td>14</td>\n",
       "      <td>14</td>\n",
       "      <td>3b6f55a023c507</td>\n",
       "      <td>1</td>\n",
       "    </tr>\n",
       "    <tr>\n",
       "      <th>7ae14295044ffe</th>\n",
       "      <td>19</td>\n",
       "      <td>19</td>\n",
       "      <td>aa8aa91569c147</td>\n",
       "      <td>1</td>\n",
       "    </tr>\n",
       "    <tr>\n",
       "      <th>21beed46753ed9</th>\n",
       "      <td>11</td>\n",
       "      <td>11</td>\n",
       "      <td>9b0c078fe1a945</td>\n",
       "      <td>1</td>\n",
       "    </tr>\n",
       "    <tr>\n",
       "      <th>224a123c53e008</th>\n",
       "      <td>1</td>\n",
       "      <td>1</td>\n",
       "      <td>f70c74418bb064</td>\n",
       "      <td>1</td>\n",
       "    </tr>\n",
       "    <tr>\n",
       "      <th>fcad6c3fdd847a</th>\n",
       "      <td>9</td>\n",
       "      <td>9</td>\n",
       "      <td>78789b04bb4553</td>\n",
       "      <td>1</td>\n",
       "    </tr>\n",
       "  </tbody>\n",
       "</table>\n",
       "<p>47965 rows × 4 columns</p>\n",
       "</div>"
      ],
      "text/plain": [
       "               count unique             top freq\n",
       "matchId                                         \n",
       "a10357fd1a4a91    96     96  71f354d1970316    1\n",
       "aeb375fc57110c    91     91  ea6e00629df506    1\n",
       "110163d8bb94ae    98     98  b3500b944899ed    1\n",
       "f1f1f4ef412d7e    91     91  c134da2d41cdaa    1\n",
       "6dc8ff871e21e6    97     97  c405a711cf0dc9    1\n",
       "bac52627a12114    95     95  16e2ce26f6f853    1\n",
       "a8274e903927a2    97     97  1db77ceab020f4    1\n",
       "292611730ca862    96     96  e57aade9d9a216    1\n",
       "df014fbee741c6    97     97  d40106799e9780    1\n",
       "3d3031c795305b    97     97  5e327a86132ed1    1\n",
       "2dd6ddb8320fc1    99     99  871b89be70aa0c    1\n",
       "80170383d90003    95     95  c91f4608064828    1\n",
       "535b5dbd965a94    90     90  9f986c651fb4ba    1\n",
       "2c30ddf481c52d    97     97  258fb90ed08b93    1\n",
       "94e1c1cc443c65    93     93  db146cb0f3991a    1\n",
       "6fd9e765ddd0c5    95     95  5077dca09ec4a0    1\n",
       "1d6cfe0f6f23b0    98     98  35c72beec556a1    1\n",
       "07948d723b9c0f    96     96  75efff9dd68efc    1\n",
       "733af30cc00099    99     99  34965a0c954818    1\n",
       "a329ac99449ad7    98     98  2bb7523c4c3aff    1\n",
       "80f2b8448e474b    95     95  82344f602be189    1\n",
       "f3956286eb39a5    94     94  9e4c437fb4073d    1\n",
       "e833ca2282169d    97     97  f8ed14ec6f8fd8    1\n",
       "8b0a78c005cea0    97     97  d68c4f777e85b6    1\n",
       "62fbe726028662    98     98  9c501bebd2b7aa    1\n",
       "37f43ba55ec0a4    93     93  e794ed3f2b5d24    1\n",
       "e8b8cf5d9231d3    95     95  561feebad4146a    1\n",
       "2cdae31ee18601    94     94  b4d6d556240b28    1\n",
       "6057f846f3ed12    95     95  bc4227da9fdd5f    1\n",
       "e019e04dee4f19    92     92  e7348f2d6eb2c5    1\n",
       "...              ...    ...             ...  ...\n",
       "66ad63285e8952     7      7  7a28f8152abc5a    1\n",
       "7494245d9d3c49    18     18  710dd6695ed650    1\n",
       "7ea6d3449ca0af    10     10  fcf540efd37b72    1\n",
       "af36808e93b704    11     11  56825d0143c58d    1\n",
       "0f651499feea48    15     15  59b118ba8f70a6    1\n",
       "4e5d7dbdde159a    18     18  3c439b53ca7ca1    1\n",
       "56a978ddecc196    15     15  fcda604bd5d02d    1\n",
       "29617c75013f8f    13     13  b32dd55b776180    1\n",
       "f7bfbfab040691    17     17  d142bfbd46979b    1\n",
       "4be885f2e6c862     9      9  cd6278b8ae9c81    1\n",
       "e59ee8f5299da6    15     15  b0e8bcc6323814    1\n",
       "3f1035912f5588    19     19  056e9fb3ea613a    1\n",
       "89658ff71373e0    16     16  c122933cbefc4d    1\n",
       "44f9d6ae973020     9      9  ef306254cc7fc4    1\n",
       "7f15589f764058    16     16  1a8636e312dc76    1\n",
       "888809ad630327    17     17  1df9826105b2ba    1\n",
       "231a6d5491b08f    17     17  23009c11c029a5    1\n",
       "6a86f775004269    19     19  b0b0adcc7c5796    1\n",
       "3270384443bd32     7      7  6c6a6ae039b96e    1\n",
       "e5a77433bc436f     2      2  28f2bb56074e95    1\n",
       "17cbec3df4f7aa    14     14  2cc1b2619b13d9    1\n",
       "ea31f72fb8b639    11     11  88374c703cb602    1\n",
       "af08fed77a4683    17     17  0ea2d714180675    1\n",
       "39d2800dad8ae6     6      6  ffc72a8b485933    1\n",
       "8799301e853202     7      7  4b06155547a457    1\n",
       "dc5e44d25926fc    14     14  3b6f55a023c507    1\n",
       "7ae14295044ffe    19     19  aa8aa91569c147    1\n",
       "21beed46753ed9    11     11  9b0c078fe1a945    1\n",
       "224a123c53e008     1      1  f70c74418bb064    1\n",
       "fcad6c3fdd847a     9      9  78789b04bb4553    1\n",
       "\n",
       "[47965 rows x 4 columns]"
      ]
     },
     "execution_count": 36,
     "metadata": {},
     "output_type": "execute_result"
    }
   ],
   "source": [
    "PG_train.groupby(['matchId'], sort=False)['Id'].describe()"
   ]
  },
  {
   "cell_type": "code",
   "execution_count": 46,
   "metadata": {},
   "outputs": [
    {
     "data": {
      "text/html": [
       "<div>\n",
       "<style scoped>\n",
       "    .dataframe tbody tr th:only-of-type {\n",
       "        vertical-align: middle;\n",
       "    }\n",
       "\n",
       "    .dataframe tbody tr th {\n",
       "        vertical-align: top;\n",
       "    }\n",
       "\n",
       "    .dataframe thead th {\n",
       "        text-align: right;\n",
       "    }\n",
       "</style>\n",
       "<table border=\"1\" class=\"dataframe\">\n",
       "  <thead>\n",
       "    <tr style=\"text-align: right;\">\n",
       "      <th></th>\n",
       "      <th>assists</th>\n",
       "      <th>boosts</th>\n",
       "      <th>damageDealt</th>\n",
       "      <th>DBNOs</th>\n",
       "      <th>headshotKills</th>\n",
       "      <th>heals</th>\n",
       "      <th>killPlace</th>\n",
       "      <th>killPoints</th>\n",
       "      <th>kills</th>\n",
       "      <th>killStreaks</th>\n",
       "      <th>longestKill</th>\n",
       "      <th>matchDuration</th>\n",
       "      <th>maxPlace</th>\n",
       "      <th>numGroups</th>\n",
       "      <th>rankPoints</th>\n",
       "      <th>revives</th>\n",
       "      <th>rideDistance</th>\n",
       "      <th>roadKills</th>\n",
       "      <th>swimDistance</th>\n",
       "      <th>teamKills</th>\n",
       "      <th>vehicleDestroys</th>\n",
       "      <th>walkDistance</th>\n",
       "      <th>weaponsAcquired</th>\n",
       "      <th>winPoints</th>\n",
       "      <th>winPlacePerc</th>\n",
       "    </tr>\n",
       "  </thead>\n",
       "  <tbody>\n",
       "    <tr>\n",
       "      <th>count</th>\n",
       "      <td>99603.000000</td>\n",
       "      <td>99603.000000</td>\n",
       "      <td>99603.000000</td>\n",
       "      <td>99603.000000</td>\n",
       "      <td>99603.000000</td>\n",
       "      <td>99603.000000</td>\n",
       "      <td>99603.000000</td>\n",
       "      <td>99603.000000</td>\n",
       "      <td>99603.000000</td>\n",
       "      <td>99603.000000</td>\n",
       "      <td>99603.000000</td>\n",
       "      <td>99603.000000</td>\n",
       "      <td>99603.000000</td>\n",
       "      <td>99603.000000</td>\n",
       "      <td>99603.000000</td>\n",
       "      <td>99603.000000</td>\n",
       "      <td>99603.000000</td>\n",
       "      <td>99603.000000</td>\n",
       "      <td>99603.000000</td>\n",
       "      <td>99603.000000</td>\n",
       "      <td>99603.000000</td>\n",
       "      <td>99603.0</td>\n",
       "      <td>99603.000000</td>\n",
       "      <td>99603.000000</td>\n",
       "      <td>99602.000000</td>\n",
       "    </tr>\n",
       "    <tr>\n",
       "      <th>mean</th>\n",
       "      <td>0.031073</td>\n",
       "      <td>0.009719</td>\n",
       "      <td>17.646627</td>\n",
       "      <td>0.021566</td>\n",
       "      <td>0.020220</td>\n",
       "      <td>0.037228</td>\n",
       "      <td>81.892453</td>\n",
       "      <td>412.560294</td>\n",
       "      <td>0.083552</td>\n",
       "      <td>0.024357</td>\n",
       "      <td>0.999567</td>\n",
       "      <td>1579.456954</td>\n",
       "      <td>47.009227</td>\n",
       "      <td>43.924751</td>\n",
       "      <td>929.480769</td>\n",
       "      <td>0.002068</td>\n",
       "      <td>1.858781</td>\n",
       "      <td>0.000110</td>\n",
       "      <td>0.154699</td>\n",
       "      <td>0.019086</td>\n",
       "      <td>0.000020</td>\n",
       "      <td>0.0</td>\n",
       "      <td>0.655041</td>\n",
       "      <td>511.481391</td>\n",
       "      <td>0.044331</td>\n",
       "    </tr>\n",
       "    <tr>\n",
       "      <th>std</th>\n",
       "      <td>0.331611</td>\n",
       "      <td>0.191656</td>\n",
       "      <td>108.850392</td>\n",
       "      <td>0.445744</td>\n",
       "      <td>0.296991</td>\n",
       "      <td>0.518197</td>\n",
       "      <td>23.074438</td>\n",
       "      <td>575.010282</td>\n",
       "      <td>0.962358</td>\n",
       "      <td>0.221550</td>\n",
       "      <td>14.057157</td>\n",
       "      <td>269.322243</td>\n",
       "      <td>27.996146</td>\n",
       "      <td>28.525892</td>\n",
       "      <td>720.418550</td>\n",
       "      <td>0.076282</td>\n",
       "      <td>63.009153</td>\n",
       "      <td>0.011424</td>\n",
       "      <td>4.187101</td>\n",
       "      <td>0.143279</td>\n",
       "      <td>0.004481</td>\n",
       "      <td>0.0</td>\n",
       "      <td>2.720810</td>\n",
       "      <td>691.417088</td>\n",
       "      <td>0.145002</td>\n",
       "    </tr>\n",
       "    <tr>\n",
       "      <th>min</th>\n",
       "      <td>0.000000</td>\n",
       "      <td>0.000000</td>\n",
       "      <td>0.000000</td>\n",
       "      <td>0.000000</td>\n",
       "      <td>0.000000</td>\n",
       "      <td>0.000000</td>\n",
       "      <td>1.000000</td>\n",
       "      <td>0.000000</td>\n",
       "      <td>0.000000</td>\n",
       "      <td>0.000000</td>\n",
       "      <td>0.000000</td>\n",
       "      <td>9.000000</td>\n",
       "      <td>1.000000</td>\n",
       "      <td>1.000000</td>\n",
       "      <td>-1.000000</td>\n",
       "      <td>0.000000</td>\n",
       "      <td>0.000000</td>\n",
       "      <td>0.000000</td>\n",
       "      <td>0.000000</td>\n",
       "      <td>0.000000</td>\n",
       "      <td>0.000000</td>\n",
       "      <td>0.0</td>\n",
       "      <td>0.000000</td>\n",
       "      <td>0.000000</td>\n",
       "      <td>0.000000</td>\n",
       "    </tr>\n",
       "    <tr>\n",
       "      <th>25%</th>\n",
       "      <td>0.000000</td>\n",
       "      <td>0.000000</td>\n",
       "      <td>0.000000</td>\n",
       "      <td>0.000000</td>\n",
       "      <td>0.000000</td>\n",
       "      <td>0.000000</td>\n",
       "      <td>84.000000</td>\n",
       "      <td>0.000000</td>\n",
       "      <td>0.000000</td>\n",
       "      <td>0.000000</td>\n",
       "      <td>0.000000</td>\n",
       "      <td>1369.000000</td>\n",
       "      <td>28.000000</td>\n",
       "      <td>26.000000</td>\n",
       "      <td>-1.000000</td>\n",
       "      <td>0.000000</td>\n",
       "      <td>0.000000</td>\n",
       "      <td>0.000000</td>\n",
       "      <td>0.000000</td>\n",
       "      <td>0.000000</td>\n",
       "      <td>0.000000</td>\n",
       "      <td>0.0</td>\n",
       "      <td>0.000000</td>\n",
       "      <td>0.000000</td>\n",
       "      <td>0.000000</td>\n",
       "    </tr>\n",
       "    <tr>\n",
       "      <th>50%</th>\n",
       "      <td>0.000000</td>\n",
       "      <td>0.000000</td>\n",
       "      <td>0.000000</td>\n",
       "      <td>0.000000</td>\n",
       "      <td>0.000000</td>\n",
       "      <td>0.000000</td>\n",
       "      <td>90.000000</td>\n",
       "      <td>0.000000</td>\n",
       "      <td>0.000000</td>\n",
       "      <td>0.000000</td>\n",
       "      <td>0.000000</td>\n",
       "      <td>1451.000000</td>\n",
       "      <td>30.000000</td>\n",
       "      <td>29.000000</td>\n",
       "      <td>1455.000000</td>\n",
       "      <td>0.000000</td>\n",
       "      <td>0.000000</td>\n",
       "      <td>0.000000</td>\n",
       "      <td>0.000000</td>\n",
       "      <td>0.000000</td>\n",
       "      <td>0.000000</td>\n",
       "      <td>0.0</td>\n",
       "      <td>0.000000</td>\n",
       "      <td>0.000000</td>\n",
       "      <td>0.000000</td>\n",
       "    </tr>\n",
       "    <tr>\n",
       "      <th>75%</th>\n",
       "      <td>0.000000</td>\n",
       "      <td>0.000000</td>\n",
       "      <td>0.000000</td>\n",
       "      <td>0.000000</td>\n",
       "      <td>0.000000</td>\n",
       "      <td>0.000000</td>\n",
       "      <td>93.000000</td>\n",
       "      <td>1043.000000</td>\n",
       "      <td>0.000000</td>\n",
       "      <td>0.000000</td>\n",
       "      <td>0.000000</td>\n",
       "      <td>1836.000000</td>\n",
       "      <td>50.000000</td>\n",
       "      <td>48.000000</td>\n",
       "      <td>1500.000000</td>\n",
       "      <td>0.000000</td>\n",
       "      <td>0.000000</td>\n",
       "      <td>0.000000</td>\n",
       "      <td>0.000000</td>\n",
       "      <td>0.000000</td>\n",
       "      <td>0.000000</td>\n",
       "      <td>0.0</td>\n",
       "      <td>0.000000</td>\n",
       "      <td>1461.000000</td>\n",
       "      <td>0.010500</td>\n",
       "    </tr>\n",
       "    <tr>\n",
       "      <th>max</th>\n",
       "      <td>13.000000</td>\n",
       "      <td>14.000000</td>\n",
       "      <td>5090.000000</td>\n",
       "      <td>33.000000</td>\n",
       "      <td>26.000000</td>\n",
       "      <td>31.000000</td>\n",
       "      <td>100.000000</td>\n",
       "      <td>2018.000000</td>\n",
       "      <td>43.000000</td>\n",
       "      <td>9.000000</td>\n",
       "      <td>1081.000000</td>\n",
       "      <td>2237.000000</td>\n",
       "      <td>100.000000</td>\n",
       "      <td>100.000000</td>\n",
       "      <td>2800.000000</td>\n",
       "      <td>10.000000</td>\n",
       "      <td>5872.000000</td>\n",
       "      <td>2.000000</td>\n",
       "      <td>361.300000</td>\n",
       "      <td>7.000000</td>\n",
       "      <td>1.000000</td>\n",
       "      <td>0.0</td>\n",
       "      <td>69.000000</td>\n",
       "      <td>1818.000000</td>\n",
       "      <td>1.000000</td>\n",
       "    </tr>\n",
       "  </tbody>\n",
       "</table>\n",
       "</div>"
      ],
      "text/plain": [
       "            assists        boosts   damageDealt         DBNOs  headshotKills  \\\n",
       "count  99603.000000  99603.000000  99603.000000  99603.000000   99603.000000   \n",
       "mean       0.031073      0.009719     17.646627      0.021566       0.020220   \n",
       "std        0.331611      0.191656    108.850392      0.445744       0.296991   \n",
       "min        0.000000      0.000000      0.000000      0.000000       0.000000   \n",
       "25%        0.000000      0.000000      0.000000      0.000000       0.000000   \n",
       "50%        0.000000      0.000000      0.000000      0.000000       0.000000   \n",
       "75%        0.000000      0.000000      0.000000      0.000000       0.000000   \n",
       "max       13.000000     14.000000   5090.000000     33.000000      26.000000   \n",
       "\n",
       "              heals     killPlace    killPoints         kills   killStreaks  \\\n",
       "count  99603.000000  99603.000000  99603.000000  99603.000000  99603.000000   \n",
       "mean       0.037228     81.892453    412.560294      0.083552      0.024357   \n",
       "std        0.518197     23.074438    575.010282      0.962358      0.221550   \n",
       "min        0.000000      1.000000      0.000000      0.000000      0.000000   \n",
       "25%        0.000000     84.000000      0.000000      0.000000      0.000000   \n",
       "50%        0.000000     90.000000      0.000000      0.000000      0.000000   \n",
       "75%        0.000000     93.000000   1043.000000      0.000000      0.000000   \n",
       "max       31.000000    100.000000   2018.000000     43.000000      9.000000   \n",
       "\n",
       "        longestKill  matchDuration      maxPlace     numGroups    rankPoints  \\\n",
       "count  99603.000000   99603.000000  99603.000000  99603.000000  99603.000000   \n",
       "mean       0.999567    1579.456954     47.009227     43.924751    929.480769   \n",
       "std       14.057157     269.322243     27.996146     28.525892    720.418550   \n",
       "min        0.000000       9.000000      1.000000      1.000000     -1.000000   \n",
       "25%        0.000000    1369.000000     28.000000     26.000000     -1.000000   \n",
       "50%        0.000000    1451.000000     30.000000     29.000000   1455.000000   \n",
       "75%        0.000000    1836.000000     50.000000     48.000000   1500.000000   \n",
       "max     1081.000000    2237.000000    100.000000    100.000000   2800.000000   \n",
       "\n",
       "            revives  rideDistance     roadKills  swimDistance     teamKills  \\\n",
       "count  99603.000000  99603.000000  99603.000000  99603.000000  99603.000000   \n",
       "mean       0.002068      1.858781      0.000110      0.154699      0.019086   \n",
       "std        0.076282     63.009153      0.011424      4.187101      0.143279   \n",
       "min        0.000000      0.000000      0.000000      0.000000      0.000000   \n",
       "25%        0.000000      0.000000      0.000000      0.000000      0.000000   \n",
       "50%        0.000000      0.000000      0.000000      0.000000      0.000000   \n",
       "75%        0.000000      0.000000      0.000000      0.000000      0.000000   \n",
       "max       10.000000   5872.000000      2.000000    361.300000      7.000000   \n",
       "\n",
       "       vehicleDestroys  walkDistance  weaponsAcquired     winPoints  \\\n",
       "count     99603.000000       99603.0     99603.000000  99603.000000   \n",
       "mean          0.000020           0.0         0.655041    511.481391   \n",
       "std           0.004481           0.0         2.720810    691.417088   \n",
       "min           0.000000           0.0         0.000000      0.000000   \n",
       "25%           0.000000           0.0         0.000000      0.000000   \n",
       "50%           0.000000           0.0         0.000000      0.000000   \n",
       "75%           0.000000           0.0         0.000000   1461.000000   \n",
       "max           1.000000           0.0        69.000000   1818.000000   \n",
       "\n",
       "       winPlacePerc  \n",
       "count  99602.000000  \n",
       "mean       0.044331  \n",
       "std        0.145002  \n",
       "min        0.000000  \n",
       "25%        0.000000  \n",
       "50%        0.000000  \n",
       "75%        0.010500  \n",
       "max        1.000000  "
      ]
     },
     "execution_count": 46,
     "metadata": {},
     "output_type": "execute_result"
    }
   ],
   "source": [
    "PG_train.loc[PG_train['walkDistance']==0].describe()"
   ]
  },
  {
   "cell_type": "markdown",
   "metadata": {},
   "source": [
    "The video game PUBG is a game which is all about moving on a map whose size reduces over time. If the player(s) is in a location outstide of the reduced area, they die within a few seconds. That is why I'll remove all the player IDs where walkDistance is equal to 0."
   ]
  },
  {
   "cell_type": "code",
   "execution_count": null,
   "metadata": {},
   "outputs": [],
   "source": []
  }
 ],
 "metadata": {
  "kernelspec": {
   "display_name": "Python [conda env:anaconda3]",
   "language": "python",
   "name": "conda-env-anaconda3-py"
  },
  "language_info": {
   "codemirror_mode": {
    "name": "ipython",
    "version": 3
   },
   "file_extension": ".py",
   "mimetype": "text/x-python",
   "name": "python",
   "nbconvert_exporter": "python",
   "pygments_lexer": "ipython3",
   "version": "3.6.6"
  }
 },
 "nbformat": 4,
 "nbformat_minor": 2
}
