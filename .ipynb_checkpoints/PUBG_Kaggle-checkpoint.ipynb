{
 "cells": [
  {
   "cell_type": "code",
   "execution_count": 9,
   "metadata": {},
   "outputs": [],
   "source": [
    "import numpy as np\n",
    "import pandas as pd\n",
    "import matplotlib.pyplot as plt\n",
    "import seaborn as sns\n",
    "%matplotlib inline"
   ]
  },
  {
   "cell_type": "code",
   "execution_count": 16,
   "metadata": {},
   "outputs": [],
   "source": [
    "import datetime\n",
    "from scipy import stats\n",
    "from scipy.sparse import hstack, csr_matrix\n",
    "from sklearn.model_selection import train_test_split\n",
    "from collections import Counter\n",
    "from nltk.corpus import stopwords\n",
    "from nltk.util import ngrams\n",
    "from sklearn.feature_extraction.text import TfidfVectorizer\n",
    "from sklearn.preprocessing import StandardScaler"
   ]
  },
  {
   "cell_type": "code",
   "execution_count": 11,
   "metadata": {},
   "outputs": [
    {
     "data": {
      "text/html": [
       "<script>requirejs.config({paths: { 'plotly': ['https://cdn.plot.ly/plotly-latest.min']},});if(!window.Plotly) {{require(['plotly'],function(plotly) {window.Plotly=plotly;});}}</script>"
      ],
      "text/vnd.plotly.v1+html": [
       "<script>requirejs.config({paths: { 'plotly': ['https://cdn.plot.ly/plotly-latest.min']},});if(!window.Plotly) {{require(['plotly'],function(plotly) {window.Plotly=plotly;});}}</script>"
      ]
     },
     "metadata": {},
     "output_type": "display_data"
    }
   ],
   "source": [
    "import plotly.offline as py\n",
    "py.init_notebook_mode(connected=True)\n",
    "import plotly.graph_objs as go\n",
    "import plotly.tools as tls"
   ]
  },
  {
   "cell_type": "code",
   "execution_count": 13,
   "metadata": {},
   "outputs": [],
   "source": [
    "from sklearn import model_selection\n",
    "from sklearn.metrics import accuracy_score"
   ]
  },
  {
   "cell_type": "code",
   "execution_count": 3,
   "metadata": {},
   "outputs": [],
   "source": [
    "#import training data\n",
    "PG_train = pd.read_csv(\"train_V2.csv\")"
   ]
  },
  {
   "cell_type": "code",
   "execution_count": 5,
   "metadata": {},
   "outputs": [
    {
     "name": "stdout",
     "output_type": "stream",
     "text": [
      "There are 4446966 samples and 29 features in the training PUBG V2 dataset.\n"
     ]
    }
   ],
   "source": [
    "print(f'There are {PG_train.shape[0]} samples and {PG_train.shape[1]} features in the training PUBG V2 dataset.')"
   ]
  },
  {
   "cell_type": "code",
   "execution_count": 7,
   "metadata": {},
   "outputs": [
    {
     "data": {
      "text/html": [
       "<div>\n",
       "<style scoped>\n",
       "    .dataframe tbody tr th:only-of-type {\n",
       "        vertical-align: middle;\n",
       "    }\n",
       "\n",
       "    .dataframe tbody tr th {\n",
       "        vertical-align: top;\n",
       "    }\n",
       "\n",
       "    .dataframe thead th {\n",
       "        text-align: right;\n",
       "    }\n",
       "</style>\n",
       "<table border=\"1\" class=\"dataframe\">\n",
       "  <thead>\n",
       "    <tr style=\"text-align: right;\">\n",
       "      <th></th>\n",
       "      <th>Id</th>\n",
       "      <th>groupId</th>\n",
       "      <th>matchId</th>\n",
       "      <th>assists</th>\n",
       "      <th>boosts</th>\n",
       "      <th>damageDealt</th>\n",
       "      <th>DBNOs</th>\n",
       "      <th>headshotKills</th>\n",
       "      <th>heals</th>\n",
       "      <th>killPlace</th>\n",
       "      <th>killPoints</th>\n",
       "      <th>kills</th>\n",
       "      <th>killStreaks</th>\n",
       "      <th>longestKill</th>\n",
       "      <th>matchDuration</th>\n",
       "      <th>matchType</th>\n",
       "      <th>maxPlace</th>\n",
       "      <th>numGroups</th>\n",
       "      <th>rankPoints</th>\n",
       "      <th>revives</th>\n",
       "      <th>rideDistance</th>\n",
       "      <th>roadKills</th>\n",
       "      <th>swimDistance</th>\n",
       "      <th>teamKills</th>\n",
       "      <th>vehicleDestroys</th>\n",
       "      <th>walkDistance</th>\n",
       "      <th>weaponsAcquired</th>\n",
       "      <th>winPoints</th>\n",
       "      <th>winPlacePerc</th>\n",
       "    </tr>\n",
       "  </thead>\n",
       "  <tbody>\n",
       "    <tr>\n",
       "      <th>0</th>\n",
       "      <td>7f96b2f878858a</td>\n",
       "      <td>4d4b580de459be</td>\n",
       "      <td>a10357fd1a4a91</td>\n",
       "      <td>0</td>\n",
       "      <td>0</td>\n",
       "      <td>0.00</td>\n",
       "      <td>0</td>\n",
       "      <td>0</td>\n",
       "      <td>0</td>\n",
       "      <td>60</td>\n",
       "      <td>1241</td>\n",
       "      <td>0</td>\n",
       "      <td>0</td>\n",
       "      <td>0.00</td>\n",
       "      <td>1306</td>\n",
       "      <td>squad-fpp</td>\n",
       "      <td>28</td>\n",
       "      <td>26</td>\n",
       "      <td>-1</td>\n",
       "      <td>0</td>\n",
       "      <td>0.0000</td>\n",
       "      <td>0</td>\n",
       "      <td>0.00</td>\n",
       "      <td>0</td>\n",
       "      <td>0</td>\n",
       "      <td>244.80</td>\n",
       "      <td>1</td>\n",
       "      <td>1466</td>\n",
       "      <td>0.4444</td>\n",
       "    </tr>\n",
       "    <tr>\n",
       "      <th>1</th>\n",
       "      <td>eef90569b9d03c</td>\n",
       "      <td>684d5656442f9e</td>\n",
       "      <td>aeb375fc57110c</td>\n",
       "      <td>0</td>\n",
       "      <td>0</td>\n",
       "      <td>91.47</td>\n",
       "      <td>0</td>\n",
       "      <td>0</td>\n",
       "      <td>0</td>\n",
       "      <td>57</td>\n",
       "      <td>0</td>\n",
       "      <td>0</td>\n",
       "      <td>0</td>\n",
       "      <td>0.00</td>\n",
       "      <td>1777</td>\n",
       "      <td>squad-fpp</td>\n",
       "      <td>26</td>\n",
       "      <td>25</td>\n",
       "      <td>1484</td>\n",
       "      <td>0</td>\n",
       "      <td>0.0045</td>\n",
       "      <td>0</td>\n",
       "      <td>11.04</td>\n",
       "      <td>0</td>\n",
       "      <td>0</td>\n",
       "      <td>1434.00</td>\n",
       "      <td>5</td>\n",
       "      <td>0</td>\n",
       "      <td>0.6400</td>\n",
       "    </tr>\n",
       "    <tr>\n",
       "      <th>2</th>\n",
       "      <td>1eaf90ac73de72</td>\n",
       "      <td>6a4a42c3245a74</td>\n",
       "      <td>110163d8bb94ae</td>\n",
       "      <td>1</td>\n",
       "      <td>0</td>\n",
       "      <td>68.00</td>\n",
       "      <td>0</td>\n",
       "      <td>0</td>\n",
       "      <td>0</td>\n",
       "      <td>47</td>\n",
       "      <td>0</td>\n",
       "      <td>0</td>\n",
       "      <td>0</td>\n",
       "      <td>0.00</td>\n",
       "      <td>1318</td>\n",
       "      <td>duo</td>\n",
       "      <td>50</td>\n",
       "      <td>47</td>\n",
       "      <td>1491</td>\n",
       "      <td>0</td>\n",
       "      <td>0.0000</td>\n",
       "      <td>0</td>\n",
       "      <td>0.00</td>\n",
       "      <td>0</td>\n",
       "      <td>0</td>\n",
       "      <td>161.80</td>\n",
       "      <td>2</td>\n",
       "      <td>0</td>\n",
       "      <td>0.7755</td>\n",
       "    </tr>\n",
       "    <tr>\n",
       "      <th>3</th>\n",
       "      <td>4616d365dd2853</td>\n",
       "      <td>a930a9c79cd721</td>\n",
       "      <td>f1f1f4ef412d7e</td>\n",
       "      <td>0</td>\n",
       "      <td>0</td>\n",
       "      <td>32.90</td>\n",
       "      <td>0</td>\n",
       "      <td>0</td>\n",
       "      <td>0</td>\n",
       "      <td>75</td>\n",
       "      <td>0</td>\n",
       "      <td>0</td>\n",
       "      <td>0</td>\n",
       "      <td>0.00</td>\n",
       "      <td>1436</td>\n",
       "      <td>squad-fpp</td>\n",
       "      <td>31</td>\n",
       "      <td>30</td>\n",
       "      <td>1408</td>\n",
       "      <td>0</td>\n",
       "      <td>0.0000</td>\n",
       "      <td>0</td>\n",
       "      <td>0.00</td>\n",
       "      <td>0</td>\n",
       "      <td>0</td>\n",
       "      <td>202.70</td>\n",
       "      <td>3</td>\n",
       "      <td>0</td>\n",
       "      <td>0.1667</td>\n",
       "    </tr>\n",
       "    <tr>\n",
       "      <th>4</th>\n",
       "      <td>315c96c26c9aac</td>\n",
       "      <td>de04010b3458dd</td>\n",
       "      <td>6dc8ff871e21e6</td>\n",
       "      <td>0</td>\n",
       "      <td>0</td>\n",
       "      <td>100.00</td>\n",
       "      <td>0</td>\n",
       "      <td>0</td>\n",
       "      <td>0</td>\n",
       "      <td>45</td>\n",
       "      <td>0</td>\n",
       "      <td>1</td>\n",
       "      <td>1</td>\n",
       "      <td>58.53</td>\n",
       "      <td>1424</td>\n",
       "      <td>solo-fpp</td>\n",
       "      <td>97</td>\n",
       "      <td>95</td>\n",
       "      <td>1560</td>\n",
       "      <td>0</td>\n",
       "      <td>0.0000</td>\n",
       "      <td>0</td>\n",
       "      <td>0.00</td>\n",
       "      <td>0</td>\n",
       "      <td>0</td>\n",
       "      <td>49.75</td>\n",
       "      <td>2</td>\n",
       "      <td>0</td>\n",
       "      <td>0.1875</td>\n",
       "    </tr>\n",
       "  </tbody>\n",
       "</table>\n",
       "</div>"
      ],
      "text/plain": [
       "               Id         groupId         matchId  assists  boosts  \\\n",
       "0  7f96b2f878858a  4d4b580de459be  a10357fd1a4a91        0       0   \n",
       "1  eef90569b9d03c  684d5656442f9e  aeb375fc57110c        0       0   \n",
       "2  1eaf90ac73de72  6a4a42c3245a74  110163d8bb94ae        1       0   \n",
       "3  4616d365dd2853  a930a9c79cd721  f1f1f4ef412d7e        0       0   \n",
       "4  315c96c26c9aac  de04010b3458dd  6dc8ff871e21e6        0       0   \n",
       "\n",
       "   damageDealt  DBNOs  headshotKills  heals  killPlace  killPoints  kills  \\\n",
       "0         0.00      0              0      0         60        1241      0   \n",
       "1        91.47      0              0      0         57           0      0   \n",
       "2        68.00      0              0      0         47           0      0   \n",
       "3        32.90      0              0      0         75           0      0   \n",
       "4       100.00      0              0      0         45           0      1   \n",
       "\n",
       "   killStreaks  longestKill  matchDuration  matchType  maxPlace  numGroups  \\\n",
       "0            0         0.00           1306  squad-fpp        28         26   \n",
       "1            0         0.00           1777  squad-fpp        26         25   \n",
       "2            0         0.00           1318        duo        50         47   \n",
       "3            0         0.00           1436  squad-fpp        31         30   \n",
       "4            1        58.53           1424   solo-fpp        97         95   \n",
       "\n",
       "   rankPoints  revives  rideDistance  roadKills  swimDistance  teamKills  \\\n",
       "0          -1        0        0.0000          0          0.00          0   \n",
       "1        1484        0        0.0045          0         11.04          0   \n",
       "2        1491        0        0.0000          0          0.00          0   \n",
       "3        1408        0        0.0000          0          0.00          0   \n",
       "4        1560        0        0.0000          0          0.00          0   \n",
       "\n",
       "   vehicleDestroys  walkDistance  weaponsAcquired  winPoints  winPlacePerc  \n",
       "0                0        244.80                1       1466        0.4444  \n",
       "1                0       1434.00                5          0        0.6400  \n",
       "2                0        161.80                2          0        0.7755  \n",
       "3                0        202.70                3          0        0.1667  \n",
       "4                0         49.75                2          0        0.1875  "
      ]
     },
     "execution_count": 7,
     "metadata": {},
     "output_type": "execute_result"
    }
   ],
   "source": [
    "pd.set_option('display.max_columns', None)\n",
    "PG_train.head()"
   ]
  },
  {
   "cell_type": "code",
   "execution_count": 35,
   "metadata": {},
   "outputs": [
    {
     "data": {
      "application/vnd.plotly.v1+json": {
       "data": [
        {
         "name": "410a0bf38d7c73",
         "showlegend": false,
         "type": "scatter",
         "uid": "a3304b90-de23-11e8-9632-0088653b14b4",
         "x": [
          0
         ],
         "y": [
          27
         ]
        },
        {
         "name": "e09cb321e48209",
         "showlegend": false,
         "type": "scatter",
         "uid": "a3304f78-de23-11e8-bdd5-0088653b14b4",
         "x": [
          265.8
         ],
         "y": [
          92
         ]
        },
        {
         "name": "3832880055d066",
         "showlegend": false,
         "type": "scatter",
         "uid": "a330509a-de23-11e8-b7d9-0088653b14b4",
         "x": [
          0
         ],
         "y": [
          50
         ]
        },
        {
         "name": "0068bd6d504762",
         "showlegend": false,
         "type": "scatter",
         "uid": "a3305194-de23-11e8-95c5-0088653b14b4",
         "x": [
          0
         ],
         "y": [
          28
         ]
        },
        {
         "name": "32f8d64c860b62",
         "showlegend": false,
         "type": "scatter",
         "uid": "a3305286-de23-11e8-9d82-0088653b14b4",
         "x": [
          0
         ],
         "y": [
          28
         ]
        },
        {
         "name": "988ab57221bfa7",
         "showlegend": false,
         "type": "scatter",
         "uid": "a3305374-de23-11e8-a14b-0088653b14b4",
         "x": [
          47.3
         ],
         "y": [
          48
         ]
        },
        {
         "name": "8f4d0144d6f851",
         "showlegend": false,
         "type": "scatter",
         "uid": "a330545a-de23-11e8-84ca-0088653b14b4",
         "x": [
          0
         ],
         "y": [
          27
         ]
        },
        {
         "name": "c6917734fcbca7",
         "showlegend": false,
         "type": "scatter",
         "uid": "a3305540-de23-11e8-b14d-0088653b14b4",
         "x": [
          422.2
         ],
         "y": [
          25
         ]
        },
        {
         "name": "10086f55fdffc4",
         "showlegend": false,
         "type": "scatter",
         "uid": "a3305626-de23-11e8-915a-0088653b14b4",
         "x": [
          146.1
         ],
         "y": [
          49
         ]
        },
        {
         "name": "68c7fda3fac814",
         "showlegend": false,
         "type": "scatter",
         "uid": "a3305718-de23-11e8-8e88-0088653b14b4",
         "x": [
          174.7
         ],
         "y": [
          27
         ]
        },
        {
         "name": "7530e3d43f3b83",
         "showlegend": false,
         "type": "scatter",
         "uid": "a33057fa-de23-11e8-8760-0088653b14b4",
         "x": [
          258.7
         ],
         "y": [
          27
         ]
        },
        {
         "name": "c906e1e2dc4c2d",
         "showlegend": false,
         "type": "scatter",
         "uid": "a33058e2-de23-11e8-8f26-0088653b14b4",
         "x": [
          98.04
         ],
         "y": [
          88
         ]
        },
        {
         "name": "a73c46ba5caf04",
         "showlegend": false,
         "type": "scatter",
         "uid": "a33059c8-de23-11e8-89a8-0088653b14b4",
         "x": [
          306.2
         ],
         "y": [
          49
         ]
        },
        {
         "name": "2b3c009029e394",
         "showlegend": false,
         "type": "scatter",
         "uid": "a3305aae-de23-11e8-9634-0088653b14b4",
         "x": [
          275.1
         ],
         "y": [
          29
         ]
        },
        {
         "name": "c92c7e370289f9",
         "showlegend": false,
         "type": "scatter",
         "uid": "a3305b94-de23-11e8-b13a-0088653b14b4",
         "x": [
          0
         ],
         "y": [
          30
         ]
        },
        {
         "name": "f26ff117dc1649",
         "showlegend": false,
         "type": "scatter",
         "uid": "a3305c7a-de23-11e8-9332-0088653b14b4",
         "x": [
          0
         ],
         "y": [
          48
         ]
        },
        {
         "name": "9656aaa3c39a24",
         "showlegend": false,
         "type": "scatter",
         "uid": "a3305d68-de23-11e8-b5a1-0088653b14b4",
         "x": [
          552.9
         ],
         "y": [
          97
         ]
        },
        {
         "name": "07d26378165643",
         "showlegend": false,
         "type": "scatter",
         "uid": "a3305e46-de23-11e8-8bda-0088653b14b4",
         "x": [
          21.03
         ],
         "y": [
          50
         ]
        },
        {
         "name": "c8b9198e9e7bf9",
         "showlegend": false,
         "type": "scatter",
         "uid": "a3305f36-de23-11e8-975e-0088653b14b4",
         "x": [
          0
         ],
         "y": [
          50
         ]
        },
        {
         "name": "3e11c4a722f34a",
         "showlegend": false,
         "type": "scatter",
         "uid": "a330601c-de23-11e8-8ba9-0088653b14b4",
         "x": [
          0
         ],
         "y": [
          30
         ]
        },
        {
         "name": "2975b7854ee0e5",
         "showlegend": false,
         "type": "scatter",
         "uid": "a3306102-de23-11e8-98e6-0088653b14b4",
         "x": [
          627.7
         ],
         "y": [
          44
         ]
        },
        {
         "name": "1b4daa0428116a",
         "showlegend": false,
         "type": "scatter",
         "uid": "a33061f4-de23-11e8-94c8-0088653b14b4",
         "x": [
          224.1
         ],
         "y": [
          48
         ]
        },
        {
         "name": "5d625c40bf5e30",
         "showlegend": false,
         "type": "scatter",
         "uid": "a33062d8-de23-11e8-a2f5-0088653b14b4",
         "x": [
          10
         ],
         "y": [
          49
         ]
        },
        {
         "name": "1902b95c80983b",
         "showlegend": false,
         "type": "scatter",
         "uid": "a33063b4-de23-11e8-b5d7-0088653b14b4",
         "x": [
          217.8
         ],
         "y": [
          47
         ]
        },
        {
         "name": "d9b372960d1869",
         "showlegend": false,
         "type": "scatter",
         "uid": "a330649a-de23-11e8-92d6-0088653b14b4",
         "x": [
          0
         ],
         "y": [
          99
         ]
        },
        {
         "name": "7cb29bb0c8bb04",
         "showlegend": false,
         "type": "scatter",
         "uid": "a3306580-de23-11e8-b7c5-0088653b14b4",
         "x": [
          22.71
         ],
         "y": [
          26
         ]
        },
        {
         "name": "edbb692fdea83c",
         "showlegend": false,
         "type": "scatter",
         "uid": "a3306666-de23-11e8-8261-0088653b14b4",
         "x": [
          0
         ],
         "y": [
          15
         ]
        },
        {
         "name": "7cbacf39475489",
         "showlegend": false,
         "type": "scatter",
         "uid": "a3306758-de23-11e8-a8f9-0088653b14b4",
         "x": [
          53.3
         ],
         "y": [
          25
         ]
        },
        {
         "name": "cf87a09b7fde4f",
         "showlegend": false,
         "type": "scatter",
         "uid": "a330683a-de23-11e8-ab47-0088653b14b4",
         "x": [
          60
         ],
         "y": [
          28
         ]
        },
        {
         "name": "1c3be51a315509",
         "showlegend": false,
         "type": "scatter",
         "uid": "a3306922-de23-11e8-8949-0088653b14b4",
         "x": [
          0
         ],
         "y": [
          48
         ]
        },
        {
         "name": "e7b43ec0f676ae",
         "showlegend": false,
         "type": "scatter",
         "uid": "a3306a08-de23-11e8-9d56-0088653b14b4",
         "x": [
          77.95
         ],
         "y": [
          47
         ]
        },
        {
         "name": "140f25bdfc0374",
         "showlegend": false,
         "type": "scatter",
         "uid": "a3306aee-de23-11e8-b707-0088653b14b4",
         "x": [
          331.9
         ],
         "y": [
          31
         ]
        },
        {
         "name": "ec5f908b986fbc",
         "showlegend": false,
         "type": "scatter",
         "uid": "a3306bd4-de23-11e8-a32e-0088653b14b4",
         "x": [
          200
         ],
         "y": [
          98
         ]
        },
        {
         "name": "1519d57139f5f4",
         "showlegend": false,
         "type": "scatter",
         "uid": "a3306cba-de23-11e8-ba7b-0088653b14b4",
         "x": [
          0
         ],
         "y": [
          28
         ]
        },
        {
         "name": "33476a9192ec35",
         "showlegend": false,
         "type": "scatter",
         "uid": "a3306d9e-de23-11e8-9048-0088653b14b4",
         "x": [
          0
         ],
         "y": [
          28
         ]
        },
        {
         "name": "67092e59bc52a6",
         "showlegend": false,
         "type": "scatter",
         "uid": "a3306e86-de23-11e8-bc81-0088653b14b4",
         "x": [
          87.6
         ],
         "y": [
          48
         ]
        },
        {
         "name": "d9d33396c4b4d5",
         "showlegend": false,
         "type": "scatter",
         "uid": "a3306f76-de23-11e8-82cb-0088653b14b4",
         "x": [
          0
         ],
         "y": [
          27
         ]
        },
        {
         "name": "454cfe6e9c3fe7",
         "showlegend": false,
         "type": "scatter",
         "uid": "a330705c-de23-11e8-941b-0088653b14b4",
         "x": [
          0
         ],
         "y": [
          98
         ]
        },
        {
         "name": "ca5838faff7738",
         "showlegend": false,
         "type": "scatter",
         "uid": "a3307142-de23-11e8-b8b5-0088653b14b4",
         "x": [
          28.2
         ],
         "y": [
          27
         ]
        },
        {
         "name": "15c7df6daad146",
         "showlegend": false,
         "type": "scatter",
         "uid": "a3307228-de23-11e8-b4b1-0088653b14b4",
         "x": [
          128.4
         ],
         "y": [
          90
         ]
        },
        {
         "name": "9c06aed87f84b0",
         "showlegend": false,
         "type": "scatter",
         "uid": "a330730c-de23-11e8-b123-0088653b14b4",
         "x": [
          0
         ],
         "y": [
          32
         ]
        },
        {
         "name": "4c8c47935a750a",
         "showlegend": false,
         "type": "scatter",
         "uid": "a33073f4-de23-11e8-acbd-0088653b14b4",
         "x": [
          10.3
         ],
         "y": [
          29
         ]
        },
        {
         "name": "3b0875126b184b",
         "showlegend": false,
         "type": "scatter",
         "uid": "a33074da-de23-11e8-9a08-0088653b14b4",
         "x": [
          163.8
         ],
         "y": [
          28
         ]
        },
        {
         "name": "5516479dfb6321",
         "showlegend": false,
         "type": "scatter",
         "uid": "a33075ca-de23-11e8-afa7-0088653b14b4",
         "x": [
          200
         ],
         "y": [
          49
         ]
        },
        {
         "name": "576f1ef56387d8",
         "showlegend": false,
         "type": "scatter",
         "uid": "a33076b0-de23-11e8-a04a-0088653b14b4",
         "x": [
          85.14
         ],
         "y": [
          27
         ]
        },
        {
         "name": "1815830376d6aa",
         "showlegend": false,
         "type": "scatter",
         "uid": "a3307798-de23-11e8-a3ad-0088653b14b4",
         "x": [
          0
         ],
         "y": [
          27
         ]
        },
        {
         "name": "210f636ef6f999",
         "showlegend": false,
         "type": "scatter",
         "uid": "a330787a-de23-11e8-93bd-0088653b14b4",
         "x": [
          100
         ],
         "y": [
          94
         ]
        },
        {
         "name": "93adb2aa6fc71f",
         "showlegend": false,
         "type": "scatter",
         "uid": "a3307962-de23-11e8-8409-0088653b14b4",
         "x": [
          0
         ],
         "y": [
          50
         ]
        },
        {
         "name": "964ef160bf9bc1",
         "showlegend": false,
         "type": "scatter",
         "uid": "a3307a48-de23-11e8-997e-0088653b14b4",
         "x": [
          503.5
         ],
         "y": [
          28
         ]
        },
        {
         "name": "7f207295f78b6c",
         "showlegend": false,
         "type": "scatter",
         "uid": "a3307b2e-de23-11e8-8f3b-0088653b14b4",
         "x": [
          63.86
         ],
         "y": [
          27
         ]
        },
        {
         "name": "dab02d1c30f422",
         "showlegend": false,
         "type": "scatter",
         "uid": "a3307c14-de23-11e8-8e67-0088653b14b4",
         "x": [
          114
         ],
         "y": [
          32
         ]
        },
        {
         "name": "fab3d0459a330c",
         "showlegend": false,
         "type": "scatter",
         "uid": "a3307cfa-de23-11e8-b916-0088653b14b4",
         "x": [
          63.21
         ],
         "y": [
          29
         ]
        },
        {
         "name": "8fcc204a3ba7a9",
         "showlegend": false,
         "type": "scatter",
         "uid": "a3307de2-de23-11e8-878d-0088653b14b4",
         "x": [
          219
         ],
         "y": [
          28
         ]
        },
        {
         "name": "2442ca2ff40d2d",
         "showlegend": false,
         "type": "scatter",
         "uid": "a3307ec6-de23-11e8-8e4c-0088653b14b4",
         "x": [
          214.6
         ],
         "y": [
          17
         ]
        },
        {
         "name": "bd7784936883df",
         "showlegend": false,
         "type": "scatter",
         "uid": "a3307fac-de23-11e8-be7b-0088653b14b4",
         "x": [
          79.98
         ],
         "y": [
          28
         ]
        },
        {
         "name": "59c818515c5938",
         "showlegend": false,
         "type": "scatter",
         "uid": "a3308092-de23-11e8-9cd6-0088653b14b4",
         "x": [
          0
         ],
         "y": [
          50
         ]
        },
        {
         "name": "d5aa3715742631",
         "showlegend": false,
         "type": "scatter",
         "uid": "a330816e-de23-11e8-a3d8-0088653b14b4",
         "x": [
          103.7
         ],
         "y": [
          28
         ]
        },
        {
         "name": "7ab785f97ff58e",
         "showlegend": false,
         "type": "scatter",
         "uid": "a330825e-de23-11e8-bbb8-0088653b14b4",
         "x": [
          0
         ],
         "y": [
          28
         ]
        },
        {
         "name": "b2e48f30f50edc",
         "showlegend": false,
         "type": "scatter",
         "uid": "a330834c-de23-11e8-b88e-0088653b14b4",
         "x": [
          227.2
         ],
         "y": [
          47
         ]
        },
        {
         "name": "d2e97549332123",
         "showlegend": false,
         "type": "scatter",
         "uid": "a3308428-de23-11e8-b3fe-0088653b14b4",
         "x": [
          680.2
         ],
         "y": [
          26
         ]
        },
        {
         "name": "24079dd91e559f",
         "showlegend": false,
         "type": "scatter",
         "uid": "a330851a-de23-11e8-8150-0088653b14b4",
         "x": [
          0
         ],
         "y": [
          48
         ]
        },
        {
         "name": "17510b5d780440",
         "showlegend": false,
         "type": "scatter",
         "uid": "a3308600-de23-11e8-b724-0088653b14b4",
         "x": [
          96
         ],
         "y": [
          29
         ]
        },
        {
         "name": "7536fdabb4fc57",
         "showlegend": false,
         "type": "scatter",
         "uid": "a33086e6-de23-11e8-ac66-0088653b14b4",
         "x": [
          28.38
         ],
         "y": [
          30
         ]
        },
        {
         "name": "b2cfaca6730f2f",
         "showlegend": false,
         "type": "scatter",
         "uid": "a33087d8-de23-11e8-b90b-0088653b14b4",
         "x": [
          100
         ],
         "y": [
          49
         ]
        },
        {
         "name": "e65b93e9230545",
         "showlegend": false,
         "type": "scatter",
         "uid": "a33088ba-de23-11e8-aa0c-0088653b14b4",
         "x": [
          80.05
         ],
         "y": [
          47
         ]
        },
        {
         "name": "892bf1e15e4b05",
         "showlegend": false,
         "type": "scatter",
         "uid": "a3308998-de23-11e8-8d77-0088653b14b4",
         "x": [
          0
         ],
         "y": [
          47
         ]
        },
        {
         "name": "67d049a58d1beb",
         "showlegend": false,
         "type": "scatter",
         "uid": "a3308a7e-de23-11e8-ae69-0088653b14b4",
         "x": [
          477.5
         ],
         "y": [
          29
         ]
        },
        {
         "name": "8e3b9d7bcf280c",
         "showlegend": false,
         "type": "scatter",
         "uid": "a3308b64-de23-11e8-96f3-0088653b14b4",
         "x": [
          216.8
         ],
         "y": [
          27
         ]
        },
        {
         "name": "3006506f9fb602",
         "showlegend": false,
         "type": "scatter",
         "uid": "a3308c4a-de23-11e8-815f-0088653b14b4",
         "x": [
          51.51
         ],
         "y": [
          99
         ]
        },
        {
         "name": "b1808f03161753",
         "showlegend": false,
         "type": "scatter",
         "uid": "a3308d30-de23-11e8-b488-0088653b14b4",
         "x": [
          0
         ],
         "y": [
          49
         ]
        },
        {
         "name": "ae8edfa3390a21",
         "showlegend": false,
         "type": "scatter",
         "uid": "a3308e18-de23-11e8-825b-0088653b14b4",
         "x": [
          218.3
         ],
         "y": [
          50
         ]
        },
        {
         "name": "d47778a7c1e895",
         "showlegend": false,
         "type": "scatter",
         "uid": "a3308efa-de23-11e8-bb67-0088653b14b4",
         "x": [
          0
         ],
         "y": [
          49
         ]
        },
        {
         "name": "e99c085cb41874",
         "showlegend": false,
         "type": "scatter",
         "uid": "a3308fe2-de23-11e8-b9a7-0088653b14b4",
         "x": [
          100
         ],
         "y": [
          49
         ]
        },
        {
         "name": "8743be9e0b4e96",
         "showlegend": false,
         "type": "scatter",
         "uid": "a33090c8-de23-11e8-aca2-0088653b14b4",
         "x": [
          0
         ],
         "y": [
          30
         ]
        },
        {
         "name": "e4615362780a18",
         "showlegend": false,
         "type": "scatter",
         "uid": "a33091b8-de23-11e8-be43-0088653b14b4",
         "x": [
          11.43
         ],
         "y": [
          26
         ]
        },
        {
         "name": "2d677a9ddee24e",
         "showlegend": false,
         "type": "scatter",
         "uid": "a3309294-de23-11e8-8cb9-0088653b14b4",
         "x": [
          142.6
         ],
         "y": [
          29
         ]
        },
        {
         "name": "b271756ace032d",
         "showlegend": false,
         "type": "scatter",
         "uid": "a330937a-de23-11e8-b92c-0088653b14b4",
         "x": [
          269.4
         ],
         "y": [
          28
         ]
        },
        {
         "name": "cb1adc76d7304f",
         "showlegend": false,
         "type": "scatter",
         "uid": "a3309462-de23-11e8-b8ad-0088653b14b4",
         "x": [
          282.7
         ],
         "y": [
          44
         ]
        },
        {
         "name": "ce2eb11029c5a3",
         "showlegend": false,
         "type": "scatter",
         "uid": "a3309546-de23-11e8-a9b7-0088653b14b4",
         "x": [
          165.6
         ],
         "y": [
          27
         ]
        },
        {
         "name": "4934954b527a00",
         "showlegend": false,
         "type": "scatter",
         "uid": "a3309636-de23-11e8-89ae-0088653b14b4",
         "x": [
          300
         ],
         "y": [
          29
         ]
        },
        {
         "name": "edc5b7a42e1cee",
         "showlegend": false,
         "type": "scatter",
         "uid": "a3309712-de23-11e8-9146-0088653b14b4",
         "x": [
          54.71
         ],
         "y": [
          95
         ]
        },
        {
         "name": "046b13bc9695ed",
         "showlegend": false,
         "type": "scatter",
         "uid": "a3309802-de23-11e8-8087-0088653b14b4",
         "x": [
          64.4
         ],
         "y": [
          29
         ]
        },
        {
         "name": "4cbe1832fc053a",
         "showlegend": false,
         "type": "scatter",
         "uid": "a33098e8-de23-11e8-8494-0088653b14b4",
         "x": [
          144.5
         ],
         "y": [
          25
         ]
        },
        {
         "name": "20f5176011eec8",
         "showlegend": false,
         "type": "scatter",
         "uid": "a33099cc-de23-11e8-b5de-0088653b14b4",
         "x": [
          239.8
         ],
         "y": [
          95
         ]
        },
        {
         "name": "014129f84f4327",
         "showlegend": false,
         "type": "scatter",
         "uid": "a3309abe-de23-11e8-bf86-0088653b14b4",
         "x": [
          0
         ],
         "y": [
          48
         ]
        },
        {
         "name": "c92ecb6560fd55",
         "showlegend": false,
         "type": "scatter",
         "uid": "a3309ba4-de23-11e8-888c-0088653b14b4",
         "x": [
          734.4
         ],
         "y": [
          29
         ]
        },
        {
         "name": "d3e952301d488c",
         "showlegend": false,
         "type": "scatter",
         "uid": "a3309c94-de23-11e8-ab39-0088653b14b4",
         "x": [
          200
         ],
         "y": [
          99
         ]
        },
        {
         "name": "5186404e51ea2d",
         "showlegend": false,
         "type": "scatter",
         "uid": "a3309d7a-de23-11e8-901d-0088653b14b4",
         "x": [
          488.8
         ],
         "y": [
          48
         ]
        },
        {
         "name": "e98ced06bba09d",
         "showlegend": false,
         "type": "scatter",
         "uid": "a3309e68-de23-11e8-bf64-0088653b14b4",
         "x": [
          139.3
         ],
         "y": [
          92
         ]
        },
        {
         "name": "65254c0ebfd315",
         "showlegend": false,
         "type": "scatter",
         "uid": "a3309f50-de23-11e8-899d-0088653b14b4",
         "x": [
          0
         ],
         "y": [
          28
         ]
        },
        {
         "name": "2c9d3645507d74",
         "showlegend": false,
         "type": "scatter",
         "uid": "a330a040-de23-11e8-a524-0088653b14b4",
         "x": [
          20.13
         ],
         "y": [
          49
         ]
        },
        {
         "name": "a1dd888870d8ad",
         "showlegend": false,
         "type": "scatter",
         "uid": "a330a126-de23-11e8-8e15-0088653b14b4",
         "x": [
          0
         ],
         "y": [
          28
         ]
        },
        {
         "name": "dd025df5db2316",
         "showlegend": false,
         "type": "scatter",
         "uid": "a330a20c-de23-11e8-b752-0088653b14b4",
         "x": [
          0
         ],
         "y": [
          28
         ]
        },
        {
         "name": "8383e7aebb4ed2",
         "showlegend": false,
         "type": "scatter",
         "uid": "a330a2fa-de23-11e8-b738-0088653b14b4",
         "x": [
          44.77
         ],
         "y": [
          93
         ]
        },
        {
         "name": "e465316b2feeed",
         "showlegend": false,
         "type": "scatter",
         "uid": "a330a3d8-de23-11e8-9fe7-0088653b14b4",
         "x": [
          0
         ],
         "y": [
          46
         ]
        },
        {
         "name": "e081897cabd3df",
         "showlegend": false,
         "type": "scatter",
         "uid": "a330a4be-de23-11e8-863e-0088653b14b4",
         "x": [
          95.94
         ],
         "y": [
          28
         ]
        },
        {
         "name": "ce682545c79fdf",
         "showlegend": false,
         "type": "scatter",
         "uid": "a330a5ae-de23-11e8-8200-0088653b14b4",
         "x": [
          208.8
         ],
         "y": [
          49
         ]
        },
        {
         "name": "b73b0b2e5180b5",
         "showlegend": false,
         "type": "scatter",
         "uid": "a330a694-de23-11e8-8ba4-0088653b14b4",
         "x": [
          90.1
         ],
         "y": [
          28
         ]
        },
        {
         "name": "6d4dd3c847f973",
         "showlegend": false,
         "type": "scatter",
         "uid": "a330a77a-de23-11e8-91dc-0088653b14b4",
         "x": [
          59.4
         ],
         "y": [
          27
         ]
        },
        {
         "name": "c6bd49d594cfb4",
         "showlegend": false,
         "type": "scatter",
         "uid": "a330a862-de23-11e8-aed9-0088653b14b4",
         "x": [
          105.8
         ],
         "y": [
          28
         ]
        },
        {
         "name": "e63abe3e895cfa",
         "showlegend": false,
         "type": "scatter",
         "uid": "a330a946-de23-11e8-8707-0088653b14b4",
         "x": [
          262.4
         ],
         "y": [
          49
         ]
        },
        {
         "name": "adcebf06cc24fb",
         "showlegend": false,
         "type": "scatter",
         "uid": "a330aa2c-de23-11e8-9fa1-0088653b14b4",
         "x": [
          22.8
         ],
         "y": [
          99
         ]
        },
        {
         "name": "31c719acf0c191",
         "showlegend": false,
         "type": "scatter",
         "uid": "a330ab12-de23-11e8-9095-0088653b14b4",
         "x": [
          136.1
         ],
         "y": [
          30
         ]
        },
        {
         "name": "1d7c3740622c4b",
         "showlegend": false,
         "type": "scatter",
         "uid": "a330abf8-de23-11e8-b9b1-0088653b14b4",
         "x": [
          417.4
         ],
         "y": [
          48
         ]
        },
        {
         "name": "5ee7c0d2b6aad4",
         "showlegend": false,
         "type": "scatter",
         "uid": "a330acde-de23-11e8-a8aa-0088653b14b4",
         "x": [
          0
         ],
         "y": [
          48
         ]
        },
        {
         "name": "f315e8023cdacc",
         "showlegend": false,
         "type": "scatter",
         "uid": "a330adc6-de23-11e8-8179-0088653b14b4",
         "x": [
          470.4
         ],
         "y": [
          92
         ]
        },
        {
         "name": "e270d8f9de75e9",
         "showlegend": false,
         "type": "scatter",
         "uid": "a330aea8-de23-11e8-ba77-0088653b14b4",
         "x": [
          0
         ],
         "y": [
          97
         ]
        },
        {
         "name": "bf541a19de52a0",
         "showlegend": false,
         "type": "scatter",
         "uid": "a330af90-de23-11e8-b1e0-0088653b14b4",
         "x": [
          0
         ],
         "y": [
          30
         ]
        },
        {
         "name": "b5211d5f5db2c3",
         "showlegend": false,
         "type": "scatter",
         "uid": "a330b080-de23-11e8-a659-0088653b14b4",
         "x": [
          174
         ],
         "y": [
          46
         ]
        },
        {
         "name": "d2f2fa05fdde93",
         "showlegend": false,
         "type": "scatter",
         "uid": "a330b166-de23-11e8-bfd2-0088653b14b4",
         "x": [
          416.9
         ],
         "y": [
          27
         ]
        },
        {
         "name": "21635fecb95d77",
         "showlegend": false,
         "type": "scatter",
         "uid": "a330b24c-de23-11e8-a24e-0088653b14b4",
         "x": [
          0
         ],
         "y": [
          27
         ]
        },
        {
         "name": "090235b2c435de",
         "showlegend": false,
         "type": "scatter",
         "uid": "a330b33a-de23-11e8-9569-0088653b14b4",
         "x": [
          0
         ],
         "y": [
          49
         ]
        },
        {
         "name": "bbb2d3afc17009",
         "showlegend": false,
         "type": "scatter",
         "uid": "a330b422-de23-11e8-bf21-0088653b14b4",
         "x": [
          0
         ],
         "y": [
          95
         ]
        },
        {
         "name": "4396c01a10cb69",
         "showlegend": false,
         "type": "scatter",
         "uid": "a330b508-de23-11e8-af48-0088653b14b4",
         "x": [
          88.01
         ],
         "y": [
          98
         ]
        },
        {
         "name": "819426ae446a15",
         "showlegend": false,
         "type": "scatter",
         "uid": "a330b5ee-de23-11e8-8cf7-0088653b14b4",
         "x": [
          154.5
         ],
         "y": [
          46
         ]
        },
        {
         "name": "036ca75c3b03af",
         "showlegend": false,
         "type": "scatter",
         "uid": "a330b6d4-de23-11e8-82b4-0088653b14b4",
         "x": [
          53.2
         ],
         "y": [
          97
         ]
        },
        {
         "name": "59eb314a3ecdd1",
         "showlegend": false,
         "type": "scatter",
         "uid": "a330b7ba-de23-11e8-b507-0088653b14b4",
         "x": [
          0
         ],
         "y": [
          27
         ]
        },
        {
         "name": "691d88cce44b64",
         "showlegend": false,
         "type": "scatter",
         "uid": "a330b89e-de23-11e8-ae9d-0088653b14b4",
         "x": [
          14.84
         ],
         "y": [
          47
         ]
        },
        {
         "name": "c6f7894eb477e6",
         "showlegend": false,
         "type": "scatter",
         "uid": "a330b986-de23-11e8-b49a-0088653b14b4",
         "x": [
          117.7
         ],
         "y": [
          29
         ]
        },
        {
         "name": "7b13fe86fed79e",
         "showlegend": false,
         "type": "scatter",
         "uid": "a330ba6c-de23-11e8-a75f-0088653b14b4",
         "x": [
          88.83
         ],
         "y": [
          96
         ]
        },
        {
         "name": "47e83f6944da37",
         "showlegend": false,
         "type": "scatter",
         "uid": "a330bb52-de23-11e8-ad60-0088653b14b4",
         "x": [
          0
         ],
         "y": [
          46
         ]
        },
        {
         "name": "7b1fe1ac1bef20",
         "showlegend": false,
         "type": "scatter",
         "uid": "a330bc38-de23-11e8-8f9e-0088653b14b4",
         "x": [
          424.4
         ],
         "y": [
          27
         ]
        },
        {
         "name": "aad24fdec6b947",
         "showlegend": false,
         "type": "scatter",
         "uid": "a330bd1e-de23-11e8-bee0-0088653b14b4",
         "x": [
          100
         ],
         "y": [
          27
         ]
        },
        {
         "name": "c361d6fc97eef4",
         "showlegend": false,
         "type": "scatter",
         "uid": "a330be06-de23-11e8-8337-0088653b14b4",
         "x": [
          88.47
         ],
         "y": [
          30
         ]
        },
        {
         "name": "efe1c623c0e5a7",
         "showlegend": false,
         "type": "scatter",
         "uid": "a330bee8-de23-11e8-8d20-0088653b14b4",
         "x": [
          78.1
         ],
         "y": [
          29
         ]
        },
        {
         "name": "2cb0357f18085c",
         "showlegend": false,
         "type": "scatter",
         "uid": "a330bfd0-de23-11e8-8aa0-0088653b14b4",
         "x": [
          184
         ],
         "y": [
          26
         ]
        },
        {
         "name": "a1684dae8ad08d",
         "showlegend": false,
         "type": "scatter",
         "uid": "a330c0b6-de23-11e8-a2f2-0088653b14b4",
         "x": [
          775.3
         ],
         "y": [
          49
         ]
        },
        {
         "name": "40e9befe509d37",
         "showlegend": false,
         "type": "scatter",
         "uid": "a330c19c-de23-11e8-83eb-0088653b14b4",
         "x": [
          568.2
         ],
         "y": [
          26
         ]
        },
        {
         "name": "29978d30ded1a3",
         "showlegend": false,
         "type": "scatter",
         "uid": "a330c282-de23-11e8-afe8-0088653b14b4",
         "x": [
          0
         ],
         "y": [
          84
         ]
        },
        {
         "name": "fbc2e7ba29b6bc",
         "showlegend": false,
         "type": "scatter",
         "uid": "a330c368-de23-11e8-aa8f-0088653b14b4",
         "x": [
          23.69
         ],
         "y": [
          48
         ]
        },
        {
         "name": "baebf0c9bc42e7",
         "showlegend": false,
         "type": "scatter",
         "uid": "a330c44c-de23-11e8-b966-0088653b14b4",
         "x": [
          0
         ],
         "y": [
          27
         ]
        },
        {
         "name": "701ac07ac0cf58",
         "showlegend": false,
         "type": "scatter",
         "uid": "a330c534-de23-11e8-b447-0088653b14b4",
         "x": [
          129
         ],
         "y": [
          28
         ]
        },
        {
         "name": "1b5a191a7aefd4",
         "showlegend": false,
         "type": "scatter",
         "uid": "a330c61a-de23-11e8-8d58-0088653b14b4",
         "x": [
          132.3
         ],
         "y": [
          29
         ]
        },
        {
         "name": "e6b30d1a0e29a6",
         "showlegend": false,
         "type": "scatter",
         "uid": "a330c700-de23-11e8-9cac-0088653b14b4",
         "x": [
          100
         ],
         "y": [
          27
         ]
        },
        {
         "name": "a9eea2023e085f",
         "showlegend": false,
         "type": "scatter",
         "uid": "a330c7e6-de23-11e8-ba54-0088653b14b4",
         "x": [
          341.6
         ],
         "y": [
          30
         ]
        },
        {
         "name": "d0d78176ceb2bd",
         "showlegend": false,
         "type": "scatter",
         "uid": "a330c8d8-de23-11e8-a3d2-0088653b14b4",
         "x": [
          0
         ],
         "y": [
          49
         ]
        },
        {
         "name": "95192ad5bce7c5",
         "showlegend": false,
         "type": "scatter",
         "uid": "a330c9ba-de23-11e8-837f-0088653b14b4",
         "x": [
          0
         ],
         "y": [
          49
         ]
        },
        {
         "name": "f04d5c4b72ded9",
         "showlegend": false,
         "type": "scatter",
         "uid": "a330caa2-de23-11e8-92b0-0088653b14b4",
         "x": [
          0
         ],
         "y": [
          32
         ]
        },
        {
         "name": "65e4f95e18fb1e",
         "showlegend": false,
         "type": "scatter",
         "uid": "a330cb88-de23-11e8-a3fe-0088653b14b4",
         "x": [
          213.6
         ],
         "y": [
          47
         ]
        },
        {
         "name": "9e24eea23a427f",
         "showlegend": false,
         "type": "scatter",
         "uid": "a330cc6e-de23-11e8-95da-0088653b14b4",
         "x": [
          0
         ],
         "y": [
          93
         ]
        },
        {
         "name": "870e0267d8b3b9",
         "showlegend": false,
         "type": "scatter",
         "uid": "a330cd54-de23-11e8-9ac6-0088653b14b4",
         "x": [
          59.52
         ],
         "y": [
          27
         ]
        },
        {
         "name": "ebb121de46fd04",
         "showlegend": false,
         "type": "scatter",
         "uid": "a330ce3a-de23-11e8-9f67-0088653b14b4",
         "x": [
          109
         ],
         "y": [
          98
         ]
        },
        {
         "name": "4121678a2ae9ea",
         "showlegend": false,
         "type": "scatter",
         "uid": "a330cf18-de23-11e8-af13-0088653b14b4",
         "x": [
          157.1
         ],
         "y": [
          26
         ]
        },
        {
         "name": "07b8a8b0a5eb75",
         "showlegend": false,
         "type": "scatter",
         "uid": "a330d006-de23-11e8-8eef-0088653b14b4",
         "x": [
          371
         ],
         "y": [
          95
         ]
        },
        {
         "name": "b4997080fb7f47",
         "showlegend": false,
         "type": "scatter",
         "uid": "a330d0ec-de23-11e8-a28d-0088653b14b4",
         "x": [
          0
         ],
         "y": [
          50
         ]
        },
        {
         "name": "e3829d83dd60c4",
         "showlegend": false,
         "type": "scatter",
         "uid": "a330d1d2-de23-11e8-b5f0-0088653b14b4",
         "x": [
          321.7
         ],
         "y": [
          29
         ]
        },
        {
         "name": "a5951717635082",
         "showlegend": false,
         "type": "scatter",
         "uid": "a330d2b8-de23-11e8-ab58-0088653b14b4",
         "x": [
          341.9
         ],
         "y": [
          50
         ]
        },
        {
         "name": "115fef38c26a43",
         "showlegend": false,
         "type": "scatter",
         "uid": "a330d39e-de23-11e8-a2ad-0088653b14b4",
         "x": [
          0
         ],
         "y": [
          47
         ]
        },
        {
         "name": "d90e0228f3d308",
         "showlegend": false,
         "type": "scatter",
         "uid": "a330d486-de23-11e8-83f3-0088653b14b4",
         "x": [
          301.6
         ],
         "y": [
          27
         ]
        },
        {
         "name": "58ab6fcfd4870c",
         "showlegend": false,
         "type": "scatter",
         "uid": "a330d568-de23-11e8-9070-0088653b14b4",
         "x": [
          142.3
         ],
         "y": [
          31
         ]
        },
        {
         "name": "8049f7e6cbb4a6",
         "showlegend": false,
         "type": "scatter",
         "uid": "a330d650-de23-11e8-9495-0088653b14b4",
         "x": [
          207.4
         ],
         "y": [
          25
         ]
        },
        {
         "name": "834b71906c30ff",
         "showlegend": false,
         "type": "scatter",
         "uid": "a330d736-de23-11e8-89b7-0088653b14b4",
         "x": [
          25.18
         ],
         "y": [
          93
         ]
        },
        {
         "name": "143b372ed63a03",
         "showlegend": false,
         "type": "scatter",
         "uid": "a330d81c-de23-11e8-8ea4-0088653b14b4",
         "x": [
          144.1
         ],
         "y": [
          29
         ]
        },
        {
         "name": "82a1ab087e745d",
         "showlegend": false,
         "type": "scatter",
         "uid": "a330d8f8-de23-11e8-a2b0-0088653b14b4",
         "x": [
          58.48
         ],
         "y": [
          49
         ]
        },
        {
         "name": "84f4ea82a063dc",
         "showlegend": false,
         "type": "scatter",
         "uid": "a330d9de-de23-11e8-8dfe-0088653b14b4",
         "x": [
          20.4
         ],
         "y": [
          47
         ]
        },
        {
         "name": "2575537c9fac80",
         "showlegend": false,
         "type": "scatter",
         "uid": "a330dac6-de23-11e8-b279-0088653b14b4",
         "x": [
          90.72
         ],
         "y": [
          48
         ]
        },
        {
         "name": "7b4431c29154f3",
         "showlegend": false,
         "type": "scatter",
         "uid": "a330dba8-de23-11e8-af64-0088653b14b4",
         "x": [
          100
         ],
         "y": [
          92
         ]
        },
        {
         "name": "0999bef42cf4a8",
         "showlegend": false,
         "type": "scatter",
         "uid": "a330dc90-de23-11e8-987f-0088653b14b4",
         "x": [
          19.49
         ],
         "y": [
          98
         ]
        },
        {
         "name": "52400ccda268f0",
         "showlegend": false,
         "type": "scatter",
         "uid": "a330dd6c-de23-11e8-aa1b-0088653b14b4",
         "x": [
          111.2
         ],
         "y": [
          25
         ]
        },
        {
         "name": "dc4fcdd925bced",
         "showlegend": false,
         "type": "scatter",
         "uid": "a330de5c-de23-11e8-9508-0088653b14b4",
         "x": [
          130.2
         ],
         "y": [
          46
         ]
        },
        {
         "name": "4c2342ae281ee5",
         "showlegend": false,
         "type": "scatter",
         "uid": "a330df38-de23-11e8-be94-0088653b14b4",
         "x": [
          148.5
         ],
         "y": [
          32
         ]
        },
        {
         "name": "20a8339cb24c4e",
         "showlegend": false,
         "type": "scatter",
         "uid": "a330e01e-de23-11e8-bace-0088653b14b4",
         "x": [
          0
         ],
         "y": [
          25
         ]
        },
        {
         "name": "1f6195c0925825",
         "showlegend": false,
         "type": "scatter",
         "uid": "a330e106-de23-11e8-833a-0088653b14b4",
         "x": [
          0
         ],
         "y": [
          26
         ]
        },
        {
         "name": "e00eac4aa98bc1",
         "showlegend": false,
         "type": "scatter",
         "uid": "a330e1e8-de23-11e8-96e2-0088653b14b4",
         "x": [
          0
         ],
         "y": [
          27
         ]
        },
        {
         "name": "84c5432c78a9e3",
         "showlegend": false,
         "type": "scatter",
         "uid": "a330e2d0-de23-11e8-a1ba-0088653b14b4",
         "x": [
          348.2
         ],
         "y": [
          29
         ]
        },
        {
         "name": "c42f658c6df113",
         "showlegend": false,
         "type": "scatter",
         "uid": "a330e3b6-de23-11e8-8db3-0088653b14b4",
         "x": [
          28.45
         ],
         "y": [
          27
         ]
        },
        {
         "name": "14769ced48e07f",
         "showlegend": false,
         "type": "scatter",
         "uid": "a330e4a6-de23-11e8-91b3-0088653b14b4",
         "x": [
          0
         ],
         "y": [
          28
         ]
        },
        {
         "name": "f46b051c09b4fe",
         "showlegend": false,
         "type": "scatter",
         "uid": "a330e58c-de23-11e8-abbf-0088653b14b4",
         "x": [
          50.08
         ],
         "y": [
          49
         ]
        },
        {
         "name": "feba34a6d1dd9c",
         "showlegend": false,
         "type": "scatter",
         "uid": "a330e674-de23-11e8-bdf8-0088653b14b4",
         "x": [
          0
         ],
         "y": [
          31
         ]
        },
        {
         "name": "f35088f2f4fd89",
         "showlegend": false,
         "type": "scatter",
         "uid": "a330e758-de23-11e8-9975-0088653b14b4",
         "x": [
          28.21
         ],
         "y": [
          50
         ]
        },
        {
         "name": "7eea7f1083f343",
         "showlegend": false,
         "type": "scatter",
         "uid": "a330e83e-de23-11e8-a2ce-0088653b14b4",
         "x": [
          0
         ],
         "y": [
          49
         ]
        },
        {
         "name": "950702f916c5ae",
         "showlegend": false,
         "type": "scatter",
         "uid": "a330e924-de23-11e8-b074-0088653b14b4",
         "x": [
          146.3
         ],
         "y": [
          16
         ]
        },
        {
         "name": "d5c7bf7d814d6a",
         "showlegend": false,
         "type": "scatter",
         "uid": "a330ea00-de23-11e8-a955-0088653b14b4",
         "x": [
          0
         ],
         "y": [
          27
         ]
        },
        {
         "name": "cf6039a4ea552d",
         "showlegend": false,
         "type": "scatter",
         "uid": "a330eae6-de23-11e8-9ed3-0088653b14b4",
         "x": [
          44.16
         ],
         "y": [
          25
         ]
        },
        {
         "name": "8abbde7094aa8b",
         "showlegend": false,
         "type": "scatter",
         "uid": "a330ebcc-de23-11e8-a88d-0088653b14b4",
         "x": [
          100
         ],
         "y": [
          27
         ]
        },
        {
         "name": "283497905dfff6",
         "showlegend": false,
         "type": "scatter",
         "uid": "a330ecb4-de23-11e8-ac6a-0088653b14b4",
         "x": [
          0
         ],
         "y": [
          92
         ]
        },
        {
         "name": "d8dbb217b3cc6f",
         "showlegend": false,
         "type": "scatter",
         "uid": "a330ed98-de23-11e8-bb6c-0088653b14b4",
         "x": [
          0
         ],
         "y": [
          97
         ]
        },
        {
         "name": "15f6cba693a708",
         "showlegend": false,
         "type": "scatter",
         "uid": "a330ee7e-de23-11e8-be33-0088653b14b4",
         "x": [
          62.77
         ],
         "y": [
          28
         ]
        },
        {
         "name": "21257a5820a6f3",
         "showlegend": false,
         "type": "scatter",
         "uid": "a330ef64-de23-11e8-aa64-0088653b14b4",
         "x": [
          26.46
         ],
         "y": [
          29
         ]
        },
        {
         "name": "d6feb50c1c1274",
         "showlegend": false,
         "type": "scatter",
         "uid": "a330f04a-de23-11e8-992c-0088653b14b4",
         "x": [
          480.1
         ],
         "y": [
          49
         ]
        },
        {
         "name": "16c784c966aad4",
         "showlegend": false,
         "type": "scatter",
         "uid": "a330f130-de23-11e8-951c-0088653b14b4",
         "x": [
          295.6
         ],
         "y": [
          27
         ]
        },
        {
         "name": "1d6511a5d41227",
         "showlegend": false,
         "type": "scatter",
         "uid": "a330f218-de23-11e8-a2b9-0088653b14b4",
         "x": [
          129
         ],
         "y": [
          50
         ]
        },
        {
         "name": "7e686fd6b87a0d",
         "showlegend": false,
         "type": "scatter",
         "uid": "a330f2f4-de23-11e8-beef-0088653b14b4",
         "x": [
          112.6
         ],
         "y": [
          92
         ]
        },
        {
         "name": "9fbebf8afd46f2",
         "showlegend": false,
         "type": "scatter",
         "uid": "a330f3cc-de23-11e8-9e57-0088653b14b4",
         "x": [
          0
         ],
         "y": [
          30
         ]
        },
        {
         "name": "e0dbd2ce5a5e4f",
         "showlegend": false,
         "type": "scatter",
         "uid": "a330f4b4-de23-11e8-bbc0-0088653b14b4",
         "x": [
          26
         ],
         "y": [
          48
         ]
        },
        {
         "name": "4b1cf9fcd16e60",
         "showlegend": false,
         "type": "scatter",
         "uid": "a330f590-de23-11e8-ad31-0088653b14b4",
         "x": [
          0
         ],
         "y": [
          27
         ]
        },
        {
         "name": "48763efdc9d268",
         "showlegend": false,
         "type": "scatter",
         "uid": "a330f676-de23-11e8-a89e-0088653b14b4",
         "x": [
          72.77
         ],
         "y": [
          49
         ]
        },
        {
         "name": "b1c4733e57abe9",
         "showlegend": false,
         "type": "scatter",
         "uid": "a330f75c-de23-11e8-9e30-0088653b14b4",
         "x": [
          0
         ],
         "y": [
          19
         ]
        },
        {
         "name": "1d950319260b76",
         "showlegend": false,
         "type": "scatter",
         "uid": "a330f838-de23-11e8-8df7-0088653b14b4",
         "x": [
          65
         ],
         "y": [
          29
         ]
        },
        {
         "name": "2f213673ad189e",
         "showlegend": false,
         "type": "scatter",
         "uid": "a330f91e-de23-11e8-892d-0088653b14b4",
         "x": [
          434.6
         ],
         "y": [
          30
         ]
        },
        {
         "name": "ee185a28870815",
         "showlegend": false,
         "type": "scatter",
         "uid": "a330fa06-de23-11e8-a6c9-0088653b14b4",
         "x": [
          28.6
         ],
         "y": [
          28
         ]
        },
        {
         "name": "3a0ad360b95d38",
         "showlegend": false,
         "type": "scatter",
         "uid": "a330fae8-de23-11e8-9ea9-0088653b14b4",
         "x": [
          140.6
         ],
         "y": [
          30
         ]
        },
        {
         "name": "de39036cfbfbf6",
         "showlegend": false,
         "type": "scatter",
         "uid": "a330fbc6-de23-11e8-bc73-0088653b14b4",
         "x": [
          97.63
         ],
         "y": [
          27
         ]
        },
        {
         "name": "970d0dc8ce4c6d",
         "showlegend": false,
         "type": "scatter",
         "uid": "a330fca2-de23-11e8-b6e8-0088653b14b4",
         "x": [
          67.42
         ],
         "y": [
          29
         ]
        },
        {
         "name": "2ec40c7eba38a5",
         "showlegend": false,
         "type": "scatter",
         "uid": "a330fd88-de23-11e8-a319-0088653b14b4",
         "x": [
          49.14
         ],
         "y": [
          98
         ]
        },
        {
         "name": "0773ab690644e6",
         "showlegend": false,
         "type": "scatter",
         "uid": "a330fe64-de23-11e8-ae01-0088653b14b4",
         "x": [
          128.4
         ],
         "y": [
          29
         ]
        },
        {
         "name": "9220136190bade",
         "showlegend": false,
         "type": "scatter",
         "uid": "a330ff40-de23-11e8-943e-0088653b14b4",
         "x": [
          161.5
         ],
         "y": [
          28
         ]
        },
        {
         "name": "60193d9d90b707",
         "showlegend": false,
         "type": "scatter",
         "uid": "a3310012-de23-11e8-b637-0088653b14b4",
         "x": [
          0
         ],
         "y": [
          48
         ]
        },
        {
         "name": "7deccbdf5d5ae5",
         "showlegend": false,
         "type": "scatter",
         "uid": "a33100ee-de23-11e8-b76e-0088653b14b4",
         "x": [
          196
         ],
         "y": [
          94
         ]
        },
        {
         "name": "ba46eeacc14563",
         "showlegend": false,
         "type": "scatter",
         "uid": "a33101ca-de23-11e8-9ecb-0088653b14b4",
         "x": [
          0
         ],
         "y": [
          26
         ]
        }
       ],
       "layout": {
        "legend": {
         "orientation": "h"
        },
        "title": "Killing is Winning?",
        "xaxis": {
         "title": "Damage (Higher is Better)"
        },
        "yaxis": {
         "title": "Rank (Lower is Better)"
        }
       }
      },
      "text/html": [
       "<div id=\"0d7d0bd4-3ce6-4e44-a6cf-2ae5f50ce763\" style=\"height: 525px; width: 100%;\" class=\"plotly-graph-div\"></div><script type=\"text/javascript\">require([\"plotly\"], function(Plotly) { window.PLOTLYENV=window.PLOTLYENV || {};window.PLOTLYENV.BASE_URL=\"https://plot.ly\";Plotly.newPlot(\"0d7d0bd4-3ce6-4e44-a6cf-2ae5f50ce763\", [{\"name\": \"410a0bf38d7c73\", \"showlegend\": false, \"x\": [0.0], \"y\": [27], \"type\": \"scatter\", \"uid\": \"a3b4f61a-de23-11e8-a181-0088653b14b4\"}, {\"name\": \"e09cb321e48209\", \"showlegend\": false, \"x\": [265.8], \"y\": [92], \"type\": \"scatter\", \"uid\": \"a3b4f806-de23-11e8-a723-0088653b14b4\"}, {\"name\": \"3832880055d066\", \"showlegend\": false, \"x\": [0.0], \"y\": [50], \"type\": \"scatter\", \"uid\": \"a3b4f91c-de23-11e8-bb43-0088653b14b4\"}, {\"name\": \"0068bd6d504762\", \"showlegend\": false, \"x\": [0.0], \"y\": [28], \"type\": \"scatter\", \"uid\": \"a3b4fa0c-de23-11e8-97d5-0088653b14b4\"}, {\"name\": \"32f8d64c860b62\", \"showlegend\": false, \"x\": [0.0], \"y\": [28], \"type\": \"scatter\", \"uid\": \"a3b4fafa-de23-11e8-9bff-0088653b14b4\"}, {\"name\": \"988ab57221bfa7\", \"showlegend\": false, \"x\": [47.3], \"y\": [48], \"type\": \"scatter\", \"uid\": \"a3b4fbec-de23-11e8-bde1-0088653b14b4\"}, {\"name\": \"8f4d0144d6f851\", \"showlegend\": false, \"x\": [0.0], \"y\": [27], \"type\": \"scatter\", \"uid\": \"a3b4fcd2-de23-11e8-8af1-0088653b14b4\"}, {\"name\": \"c6917734fcbca7\", \"showlegend\": false, \"x\": [422.2], \"y\": [25], \"type\": \"scatter\", \"uid\": \"a3b4fdc2-de23-11e8-a709-0088653b14b4\"}, {\"name\": \"10086f55fdffc4\", \"showlegend\": false, \"x\": [146.1], \"y\": [49], \"type\": \"scatter\", \"uid\": \"a3b4fea8-de23-11e8-bec9-0088653b14b4\"}, {\"name\": \"68c7fda3fac814\", \"showlegend\": false, \"x\": [174.7], \"y\": [27], \"type\": \"scatter\", \"uid\": \"a3b4ff8c-de23-11e8-85e9-0088653b14b4\"}, {\"name\": \"7530e3d43f3b83\", \"showlegend\": false, \"x\": [258.7], \"y\": [27], \"type\": \"scatter\", \"uid\": \"a3b5007e-de23-11e8-a226-0088653b14b4\"}, {\"name\": \"c906e1e2dc4c2d\", \"showlegend\": false, \"x\": [98.04], \"y\": [88], \"type\": \"scatter\", \"uid\": \"a3b50164-de23-11e8-8458-0088653b14b4\"}, {\"name\": \"a73c46ba5caf04\", \"showlegend\": false, \"x\": [306.2], \"y\": [49], \"type\": \"scatter\", \"uid\": \"a3b5024a-de23-11e8-a1d2-0088653b14b4\"}, {\"name\": \"2b3c009029e394\", \"showlegend\": false, \"x\": [275.1], \"y\": [29], \"type\": \"scatter\", \"uid\": \"a3b50330-de23-11e8-8e86-0088653b14b4\"}, {\"name\": \"c92c7e370289f9\", \"showlegend\": false, \"x\": [0.0], \"y\": [30], \"type\": \"scatter\", \"uid\": \"a3b50418-de23-11e8-bb0f-0088653b14b4\"}, {\"name\": \"f26ff117dc1649\", \"showlegend\": false, \"x\": [0.0], \"y\": [48], \"type\": \"scatter\", \"uid\": \"a3b504fa-de23-11e8-8eab-0088653b14b4\"}, {\"name\": \"9656aaa3c39a24\", \"showlegend\": false, \"x\": [552.9], \"y\": [97], \"type\": \"scatter\", \"uid\": \"a3b505d8-de23-11e8-9031-0088653b14b4\"}, {\"name\": \"07d26378165643\", \"showlegend\": false, \"x\": [21.03], \"y\": [50], \"type\": \"scatter\", \"uid\": \"a3b506be-de23-11e8-930e-0088653b14b4\"}, {\"name\": \"c8b9198e9e7bf9\", \"showlegend\": false, \"x\": [0.0], \"y\": [50], \"type\": \"scatter\", \"uid\": \"a3b507ae-de23-11e8-b37f-0088653b14b4\"}, {\"name\": \"3e11c4a722f34a\", \"showlegend\": false, \"x\": [0.0], \"y\": [30], \"type\": \"scatter\", \"uid\": \"a3b5088a-de23-11e8-b806-0088653b14b4\"}, {\"name\": \"2975b7854ee0e5\", \"showlegend\": false, \"x\": [627.7], \"y\": [44], \"type\": \"scatter\", \"uid\": \"a3b50970-de23-11e8-a13f-0088653b14b4\"}, {\"name\": \"1b4daa0428116a\", \"showlegend\": false, \"x\": [224.1], \"y\": [48], \"type\": \"scatter\", \"uid\": \"a3b50a62-de23-11e8-a25d-0088653b14b4\"}, {\"name\": \"5d625c40bf5e30\", \"showlegend\": false, \"x\": [10.0], \"y\": [49], \"type\": \"scatter\", \"uid\": \"a3b50b3a-de23-11e8-8346-0088653b14b4\"}, {\"name\": \"1902b95c80983b\", \"showlegend\": false, \"x\": [217.8], \"y\": [47], \"type\": \"scatter\", \"uid\": \"a3b50c22-de23-11e8-846d-0088653b14b4\"}, {\"name\": \"d9b372960d1869\", \"showlegend\": false, \"x\": [0.0], \"y\": [99], \"type\": \"scatter\", \"uid\": \"a3b50d08-de23-11e8-8f61-0088653b14b4\"}, {\"name\": \"7cb29bb0c8bb04\", \"showlegend\": false, \"x\": [22.71], \"y\": [26], \"type\": \"scatter\", \"uid\": \"a3b50dee-de23-11e8-9278-0088653b14b4\"}, {\"name\": \"edbb692fdea83c\", \"showlegend\": false, \"x\": [0.0], \"y\": [15], \"type\": \"scatter\", \"uid\": \"a3b50ed4-de23-11e8-ad1a-0088653b14b4\"}, {\"name\": \"7cbacf39475489\", \"showlegend\": false, \"x\": [53.3], \"y\": [25], \"type\": \"scatter\", \"uid\": \"a3b50fba-de23-11e8-bf77-0088653b14b4\"}, {\"name\": \"cf87a09b7fde4f\", \"showlegend\": false, \"x\": [60.0], \"y\": [28], \"type\": \"scatter\", \"uid\": \"a3b5109e-de23-11e8-96be-0088653b14b4\"}, {\"name\": \"1c3be51a315509\", \"showlegend\": false, \"x\": [0.0], \"y\": [48], \"type\": \"scatter\", \"uid\": \"a3b51186-de23-11e8-bfc7-0088653b14b4\"}, {\"name\": \"e7b43ec0f676ae\", \"showlegend\": false, \"x\": [77.95], \"y\": [47], \"type\": \"scatter\", \"uid\": \"a3b5126c-de23-11e8-86b0-0088653b14b4\"}, {\"name\": \"140f25bdfc0374\", \"showlegend\": false, \"x\": [331.9], \"y\": [31], \"type\": \"scatter\", \"uid\": \"a3b51352-de23-11e8-809f-0088653b14b4\"}, {\"name\": \"ec5f908b986fbc\", \"showlegend\": false, \"x\": [200.0], \"y\": [98], \"type\": \"scatter\", \"uid\": \"a3b51438-de23-11e8-86bf-0088653b14b4\"}, {\"name\": \"1519d57139f5f4\", \"showlegend\": false, \"x\": [0.0], \"y\": [28], \"type\": \"scatter\", \"uid\": \"a3b5151e-de23-11e8-9cf2-0088653b14b4\"}, {\"name\": \"33476a9192ec35\", \"showlegend\": false, \"x\": [0.0], \"y\": [28], \"type\": \"scatter\", \"uid\": \"a3b51606-de23-11e8-8c73-0088653b14b4\"}, {\"name\": \"67092e59bc52a6\", \"showlegend\": false, \"x\": [87.6], \"y\": [48], \"type\": \"scatter\", \"uid\": \"a3b516e8-de23-11e8-9a84-0088653b14b4\"}, {\"name\": \"d9d33396c4b4d5\", \"showlegend\": false, \"x\": [0.0], \"y\": [27], \"type\": \"scatter\", \"uid\": \"a3b517d0-de23-11e8-81f8-0088653b14b4\"}, {\"name\": \"454cfe6e9c3fe7\", \"showlegend\": false, \"x\": [0.0], \"y\": [98], \"type\": \"scatter\", \"uid\": \"a3b518b6-de23-11e8-9e39-0088653b14b4\"}, {\"name\": \"ca5838faff7738\", \"showlegend\": false, \"x\": [28.2], \"y\": [27], \"type\": \"scatter\", \"uid\": \"a3b5199c-de23-11e8-85f1-0088653b14b4\"}, {\"name\": \"15c7df6daad146\", \"showlegend\": false, \"x\": [128.4], \"y\": [90], \"type\": \"scatter\", \"uid\": \"a3b51a82-de23-11e8-80f7-0088653b14b4\"}, {\"name\": \"9c06aed87f84b0\", \"showlegend\": false, \"x\": [0.0], \"y\": [32], \"type\": \"scatter\", \"uid\": \"a3b51b68-de23-11e8-9a1b-0088653b14b4\"}, {\"name\": \"4c8c47935a750a\", \"showlegend\": false, \"x\": [10.3], \"y\": [29], \"type\": \"scatter\", \"uid\": \"a3b51c4c-de23-11e8-bf9f-0088653b14b4\"}, {\"name\": \"3b0875126b184b\", \"showlegend\": false, \"x\": [163.8], \"y\": [28], \"type\": \"scatter\", \"uid\": \"a3b51d34-de23-11e8-99de-0088653b14b4\"}, {\"name\": \"5516479dfb6321\", \"showlegend\": false, \"x\": [200.0], \"y\": [49], \"type\": \"scatter\", \"uid\": \"a3b51e1a-de23-11e8-be45-0088653b14b4\"}, {\"name\": \"576f1ef56387d8\", \"showlegend\": false, \"x\": [85.14], \"y\": [27], \"type\": \"scatter\", \"uid\": \"a3b51f00-de23-11e8-9c2e-0088653b14b4\"}, {\"name\": \"1815830376d6aa\", \"showlegend\": false, \"x\": [0.0], \"y\": [27], \"type\": \"scatter\", \"uid\": \"a3b51fe6-de23-11e8-90d5-0088653b14b4\"}, {\"name\": \"210f636ef6f999\", \"showlegend\": false, \"x\": [100.0], \"y\": [94], \"type\": \"scatter\", \"uid\": \"a3b520cc-de23-11e8-85e4-0088653b14b4\"}, {\"name\": \"93adb2aa6fc71f\", \"showlegend\": false, \"x\": [0.0], \"y\": [50], \"type\": \"scatter\", \"uid\": \"a3b521b4-de23-11e8-8074-0088653b14b4\"}, {\"name\": \"964ef160bf9bc1\", \"showlegend\": false, \"x\": [503.5], \"y\": [28], \"type\": \"scatter\", \"uid\": \"a3b52298-de23-11e8-ada3-0088653b14b4\"}, {\"name\": \"7f207295f78b6c\", \"showlegend\": false, \"x\": [63.86], \"y\": [27], \"type\": \"scatter\", \"uid\": \"a3b5237e-de23-11e8-8a5c-0088653b14b4\"}, {\"name\": \"dab02d1c30f422\", \"showlegend\": false, \"x\": [114.0], \"y\": [32], \"type\": \"scatter\", \"uid\": \"a3b52464-de23-11e8-853b-0088653b14b4\"}, {\"name\": \"fab3d0459a330c\", \"showlegend\": false, \"x\": [63.21], \"y\": [29], \"type\": \"scatter\", \"uid\": \"a3b5254a-de23-11e8-af94-0088653b14b4\"}, {\"name\": \"8fcc204a3ba7a9\", \"showlegend\": false, \"x\": [219.0], \"y\": [28], \"type\": \"scatter\", \"uid\": \"a3b52630-de23-11e8-91a0-0088653b14b4\"}, {\"name\": \"2442ca2ff40d2d\", \"showlegend\": false, \"x\": [214.6], \"y\": [17], \"type\": \"scatter\", \"uid\": \"a3b52718-de23-11e8-8705-0088653b14b4\"}, {\"name\": \"bd7784936883df\", \"showlegend\": false, \"x\": [79.98], \"y\": [28], \"type\": \"scatter\", \"uid\": \"a3b527fa-de23-11e8-a40b-0088653b14b4\"}, {\"name\": \"59c818515c5938\", \"showlegend\": false, \"x\": [0.0], \"y\": [50], \"type\": \"scatter\", \"uid\": \"a3b528e2-de23-11e8-bf2a-0088653b14b4\"}, {\"name\": \"d5aa3715742631\", \"showlegend\": false, \"x\": [103.7], \"y\": [28], \"type\": \"scatter\", \"uid\": \"a3b529c8-de23-11e8-a19d-0088653b14b4\"}, {\"name\": \"7ab785f97ff58e\", \"showlegend\": false, \"x\": [0.0], \"y\": [28], \"type\": \"scatter\", \"uid\": \"a3b52aae-de23-11e8-9672-0088653b14b4\"}, {\"name\": \"b2e48f30f50edc\", \"showlegend\": false, \"x\": [227.2], \"y\": [47], \"type\": \"scatter\", \"uid\": \"a3b52b94-de23-11e8-88b8-0088653b14b4\"}, {\"name\": \"d2e97549332123\", \"showlegend\": false, \"x\": [680.2], \"y\": [26], \"type\": \"scatter\", \"uid\": \"a3b52c7a-de23-11e8-85bf-0088653b14b4\"}, {\"name\": \"24079dd91e559f\", \"showlegend\": false, \"x\": [0.0], \"y\": [48], \"type\": \"scatter\", \"uid\": \"a3b52d62-de23-11e8-82d5-0088653b14b4\"}, {\"name\": \"17510b5d780440\", \"showlegend\": false, \"x\": [96.0], \"y\": [29], \"type\": \"scatter\", \"uid\": \"a3b52e46-de23-11e8-8c10-0088653b14b4\"}, {\"name\": \"7536fdabb4fc57\", \"showlegend\": false, \"x\": [28.38], \"y\": [30], \"type\": \"scatter\", \"uid\": \"a3b52f2c-de23-11e8-b625-0088653b14b4\"}, {\"name\": \"b2cfaca6730f2f\", \"showlegend\": false, \"x\": [100.0], \"y\": [49], \"type\": \"scatter\", \"uid\": \"a3b53012-de23-11e8-9244-0088653b14b4\"}, {\"name\": \"e65b93e9230545\", \"showlegend\": false, \"x\": [80.05], \"y\": [47], \"type\": \"scatter\", \"uid\": \"a3b530ee-de23-11e8-9be5-0088653b14b4\"}, {\"name\": \"892bf1e15e4b05\", \"showlegend\": false, \"x\": [0.0], \"y\": [47], \"type\": \"scatter\", \"uid\": \"a3b531d4-de23-11e8-ad6c-0088653b14b4\"}, {\"name\": \"67d049a58d1beb\", \"showlegend\": false, \"x\": [477.5], \"y\": [29], \"type\": \"scatter\", \"uid\": \"a3b532c6-de23-11e8-bc99-0088653b14b4\"}, {\"name\": \"8e3b9d7bcf280c\", \"showlegend\": false, \"x\": [216.8], \"y\": [27], \"type\": \"scatter\", \"uid\": \"a3b533a8-de23-11e8-929b-0088653b14b4\"}, {\"name\": \"3006506f9fb602\", \"showlegend\": false, \"x\": [51.51], \"y\": [99], \"type\": \"scatter\", \"uid\": \"a3b53490-de23-11e8-be8c-0088653b14b4\"}, {\"name\": \"b1808f03161753\", \"showlegend\": false, \"x\": [0.0], \"y\": [49], \"type\": \"scatter\", \"uid\": \"a3b53576-de23-11e8-a836-0088653b14b4\"}, {\"name\": \"ae8edfa3390a21\", \"showlegend\": false, \"x\": [218.3], \"y\": [50], \"type\": \"scatter\", \"uid\": \"a3b53652-de23-11e8-939f-0088653b14b4\"}, {\"name\": \"d47778a7c1e895\", \"showlegend\": false, \"x\": [0.0], \"y\": [49], \"type\": \"scatter\", \"uid\": \"a3b53738-de23-11e8-94f7-0088653b14b4\"}, {\"name\": \"e99c085cb41874\", \"showlegend\": false, \"x\": [100.0], \"y\": [49], \"type\": \"scatter\", \"uid\": \"a3b5381e-de23-11e8-8f82-0088653b14b4\"}, {\"name\": \"8743be9e0b4e96\", \"showlegend\": false, \"x\": [0.0], \"y\": [30], \"type\": \"scatter\", \"uid\": \"a3b538fa-de23-11e8-9037-0088653b14b4\"}, {\"name\": \"e4615362780a18\", \"showlegend\": false, \"x\": [11.43], \"y\": [26], \"type\": \"scatter\", \"uid\": \"a3b539e2-de23-11e8-a7d4-0088653b14b4\"}, {\"name\": \"2d677a9ddee24e\", \"showlegend\": false, \"x\": [142.6], \"y\": [29], \"type\": \"scatter\", \"uid\": \"a3b53ac6-de23-11e8-a8bc-0088653b14b4\"}, {\"name\": \"b271756ace032d\", \"showlegend\": false, \"x\": [269.4], \"y\": [28], \"type\": \"scatter\", \"uid\": \"a3b53bac-de23-11e8-82b0-0088653b14b4\"}, {\"name\": \"cb1adc76d7304f\", \"showlegend\": false, \"x\": [282.7], \"y\": [44], \"type\": \"scatter\", \"uid\": \"a3b53c92-de23-11e8-8317-0088653b14b4\"}, {\"name\": \"ce2eb11029c5a3\", \"showlegend\": false, \"x\": [165.6], \"y\": [27], \"type\": \"scatter\", \"uid\": \"a3b53d78-de23-11e8-96fe-0088653b14b4\"}, {\"name\": \"4934954b527a00\", \"showlegend\": false, \"x\": [300.0], \"y\": [29], \"type\": \"scatter\", \"uid\": \"a3b53e5e-de23-11e8-87aa-0088653b14b4\"}, {\"name\": \"edc5b7a42e1cee\", \"showlegend\": false, \"x\": [54.71], \"y\": [95], \"type\": \"scatter\", \"uid\": \"a3b53f3a-de23-11e8-8340-0088653b14b4\"}, {\"name\": \"046b13bc9695ed\", \"showlegend\": false, \"x\": [64.4], \"y\": [29], \"type\": \"scatter\", \"uid\": \"a3b5401e-de23-11e8-ae4b-0088653b14b4\"}, {\"name\": \"4cbe1832fc053a\", \"showlegend\": false, \"x\": [144.5], \"y\": [25], \"type\": \"scatter\", \"uid\": \"a3b54110-de23-11e8-bf92-0088653b14b4\"}, {\"name\": \"20f5176011eec8\", \"showlegend\": false, \"x\": [239.8], \"y\": [95], \"type\": \"scatter\", \"uid\": \"a3b541ec-de23-11e8-bdd7-0088653b14b4\"}, {\"name\": \"014129f84f4327\", \"showlegend\": false, \"x\": [0.0], \"y\": [48], \"type\": \"scatter\", \"uid\": \"a3b542d2-de23-11e8-9366-0088653b14b4\"}, {\"name\": \"c92ecb6560fd55\", \"showlegend\": false, \"x\": [734.4], \"y\": [29], \"type\": \"scatter\", \"uid\": \"a3b543b8-de23-11e8-9625-0088653b14b4\"}, {\"name\": \"d3e952301d488c\", \"showlegend\": false, \"x\": [200.0], \"y\": [99], \"type\": \"scatter\", \"uid\": \"a3b5449e-de23-11e8-baac-0088653b14b4\"}, {\"name\": \"5186404e51ea2d\", \"showlegend\": false, \"x\": [488.8], \"y\": [48], \"type\": \"scatter\", \"uid\": \"a3b54586-de23-11e8-afcb-0088653b14b4\"}, {\"name\": \"e98ced06bba09d\", \"showlegend\": false, \"x\": [139.3], \"y\": [92], \"type\": \"scatter\", \"uid\": \"a3b54668-de23-11e8-8655-0088653b14b4\"}, {\"name\": \"65254c0ebfd315\", \"showlegend\": false, \"x\": [0.0], \"y\": [28], \"type\": \"scatter\", \"uid\": \"a3b54750-de23-11e8-ac53-0088653b14b4\"}, {\"name\": \"2c9d3645507d74\", \"showlegend\": false, \"x\": [20.13], \"y\": [49], \"type\": \"scatter\", \"uid\": \"a3b5482c-de23-11e8-9acb-0088653b14b4\"}, {\"name\": \"a1dd888870d8ad\", \"showlegend\": false, \"x\": [0.0], \"y\": [28], \"type\": \"scatter\", \"uid\": \"a3b54912-de23-11e8-ad33-0088653b14b4\"}, {\"name\": \"dd025df5db2316\", \"showlegend\": false, \"x\": [0.0], \"y\": [28], \"type\": \"scatter\", \"uid\": \"a3b549f8-de23-11e8-bb3f-0088653b14b4\"}, {\"name\": \"8383e7aebb4ed2\", \"showlegend\": false, \"x\": [44.77], \"y\": [93], \"type\": \"scatter\", \"uid\": \"a3b54ade-de23-11e8-96f3-0088653b14b4\"}, {\"name\": \"e465316b2feeed\", \"showlegend\": false, \"x\": [0.0], \"y\": [46], \"type\": \"scatter\", \"uid\": \"a3b54bba-de23-11e8-a538-0088653b14b4\"}, {\"name\": \"e081897cabd3df\", \"showlegend\": false, \"x\": [95.94], \"y\": [28], \"type\": \"scatter\", \"uid\": \"a3b54c9e-de23-11e8-b628-0088653b14b4\"}, {\"name\": \"ce682545c79fdf\", \"showlegend\": false, \"x\": [208.8], \"y\": [49], \"type\": \"scatter\", \"uid\": \"a3b54d86-de23-11e8-ba59-0088653b14b4\"}, {\"name\": \"b73b0b2e5180b5\", \"showlegend\": false, \"x\": [90.1], \"y\": [28], \"type\": \"scatter\", \"uid\": \"a3b54e62-de23-11e8-821b-0088653b14b4\"}, {\"name\": \"6d4dd3c847f973\", \"showlegend\": false, \"x\": [59.4], \"y\": [27], \"type\": \"scatter\", \"uid\": \"a3b54f48-de23-11e8-8fa5-0088653b14b4\"}, {\"name\": \"c6bd49d594cfb4\", \"showlegend\": false, \"x\": [105.8], \"y\": [28], \"type\": \"scatter\", \"uid\": \"a3b5502e-de23-11e8-8beb-0088653b14b4\"}, {\"name\": \"e63abe3e895cfa\", \"showlegend\": false, \"x\": [262.4], \"y\": [49], \"type\": \"scatter\", \"uid\": \"a3b55114-de23-11e8-9e8f-0088653b14b4\"}, {\"name\": \"adcebf06cc24fb\", \"showlegend\": false, \"x\": [22.8], \"y\": [99], \"type\": \"scatter\", \"uid\": \"a3b55206-de23-11e8-85fa-0088653b14b4\"}, {\"name\": \"31c719acf0c191\", \"showlegend\": false, \"x\": [136.1], \"y\": [30], \"type\": \"scatter\", \"uid\": \"a3b552e8-de23-11e8-9a2c-0088653b14b4\"}, {\"name\": \"1d7c3740622c4b\", \"showlegend\": false, \"x\": [417.4], \"y\": [48], \"type\": \"scatter\", \"uid\": \"a3b553d0-de23-11e8-8eb1-0088653b14b4\"}, {\"name\": \"5ee7c0d2b6aad4\", \"showlegend\": false, \"x\": [0.0], \"y\": [48], \"type\": \"scatter\", \"uid\": \"a3b554ac-de23-11e8-8155-0088653b14b4\"}, {\"name\": \"f315e8023cdacc\", \"showlegend\": false, \"x\": [470.4], \"y\": [92], \"type\": \"scatter\", \"uid\": \"a3b55592-de23-11e8-9da8-0088653b14b4\"}, {\"name\": \"e270d8f9de75e9\", \"showlegend\": false, \"x\": [0.0], \"y\": [97], \"type\": \"scatter\", \"uid\": \"a3b55678-de23-11e8-b224-0088653b14b4\"}, {\"name\": \"bf541a19de52a0\", \"showlegend\": false, \"x\": [0.0], \"y\": [30], \"type\": \"scatter\", \"uid\": \"a3b5575e-de23-11e8-919b-0088653b14b4\"}, {\"name\": \"b5211d5f5db2c3\", \"showlegend\": false, \"x\": [174.0], \"y\": [46], \"type\": \"scatter\", \"uid\": \"a3b55846-de23-11e8-8627-0088653b14b4\"}, {\"name\": \"d2f2fa05fdde93\", \"showlegend\": false, \"x\": [416.9], \"y\": [27], \"type\": \"scatter\", \"uid\": \"a3b55928-de23-11e8-8cb5-0088653b14b4\"}, {\"name\": \"21635fecb95d77\", \"showlegend\": false, \"x\": [0.0], \"y\": [27], \"type\": \"scatter\", \"uid\": \"a3b55a10-de23-11e8-9af3-0088653b14b4\"}, {\"name\": \"090235b2c435de\", \"showlegend\": false, \"x\": [0.0], \"y\": [49], \"type\": \"scatter\", \"uid\": \"a3b55af6-de23-11e8-b5d7-0088653b14b4\"}, {\"name\": \"bbb2d3afc17009\", \"showlegend\": false, \"x\": [0.0], \"y\": [95], \"type\": \"scatter\", \"uid\": \"a3b55bd2-de23-11e8-b930-0088653b14b4\"}, {\"name\": \"4396c01a10cb69\", \"showlegend\": false, \"x\": [88.01], \"y\": [98], \"type\": \"scatter\", \"uid\": \"a3b55cb8-de23-11e8-9529-0088653b14b4\"}, {\"name\": \"819426ae446a15\", \"showlegend\": false, \"x\": [154.5], \"y\": [46], \"type\": \"scatter\", \"uid\": \"a3b55d9e-de23-11e8-8cfe-0088653b14b4\"}, {\"name\": \"036ca75c3b03af\", \"showlegend\": false, \"x\": [53.2], \"y\": [97], \"type\": \"scatter\", \"uid\": \"a3b55e86-de23-11e8-abf9-0088653b14b4\"}, {\"name\": \"59eb314a3ecdd1\", \"showlegend\": false, \"x\": [0.0], \"y\": [27], \"type\": \"scatter\", \"uid\": \"a3b55f68-de23-11e8-97ce-0088653b14b4\"}, {\"name\": \"691d88cce44b64\", \"showlegend\": false, \"x\": [14.84], \"y\": [47], \"type\": \"scatter\", \"uid\": \"a3b56050-de23-11e8-9948-0088653b14b4\"}, {\"name\": \"c6f7894eb477e6\", \"showlegend\": false, \"x\": [117.7], \"y\": [29], \"type\": \"scatter\", \"uid\": \"a3b5612c-de23-11e8-9fe6-0088653b14b4\"}, {\"name\": \"7b13fe86fed79e\", \"showlegend\": false, \"x\": [88.83], \"y\": [96], \"type\": \"scatter\", \"uid\": \"a3b56212-de23-11e8-8a21-0088653b14b4\"}, {\"name\": \"47e83f6944da37\", \"showlegend\": false, \"x\": [0.0], \"y\": [46], \"type\": \"scatter\", \"uid\": \"a3b562f8-de23-11e8-b7f4-0088653b14b4\"}, {\"name\": \"7b1fe1ac1bef20\", \"showlegend\": false, \"x\": [424.4], \"y\": [27], \"type\": \"scatter\", \"uid\": \"a3b563de-de23-11e8-abc9-0088653b14b4\"}, {\"name\": \"aad24fdec6b947\", \"showlegend\": false, \"x\": [100.0], \"y\": [27], \"type\": \"scatter\", \"uid\": \"a3b564c6-de23-11e8-9fbd-0088653b14b4\"}, {\"name\": \"c361d6fc97eef4\", \"showlegend\": false, \"x\": [88.47], \"y\": [30], \"type\": \"scatter\", \"uid\": \"a3b565a8-de23-11e8-85f1-0088653b14b4\"}, {\"name\": \"efe1c623c0e5a7\", \"showlegend\": false, \"x\": [78.1], \"y\": [29], \"type\": \"scatter\", \"uid\": \"a3b56690-de23-11e8-8069-0088653b14b4\"}, {\"name\": \"2cb0357f18085c\", \"showlegend\": false, \"x\": [184.0], \"y\": [26], \"type\": \"scatter\", \"uid\": \"a3b5676c-de23-11e8-ab56-0088653b14b4\"}, {\"name\": \"a1684dae8ad08d\", \"showlegend\": false, \"x\": [775.3], \"y\": [49], \"type\": \"scatter\", \"uid\": \"a3b5685c-de23-11e8-9b47-0088653b14b4\"}, {\"name\": \"40e9befe509d37\", \"showlegend\": false, \"x\": [568.2], \"y\": [26], \"type\": \"scatter\", \"uid\": \"a3b56938-de23-11e8-803b-0088653b14b4\"}, {\"name\": \"29978d30ded1a3\", \"showlegend\": false, \"x\": [0.0], \"y\": [84], \"type\": \"scatter\", \"uid\": \"a3b56a1e-de23-11e8-9ffe-0088653b14b4\"}, {\"name\": \"fbc2e7ba29b6bc\", \"showlegend\": false, \"x\": [23.69], \"y\": [48], \"type\": \"scatter\", \"uid\": \"a3b56b06-de23-11e8-8844-0088653b14b4\"}, {\"name\": \"baebf0c9bc42e7\", \"showlegend\": false, \"x\": [0.0], \"y\": [27], \"type\": \"scatter\", \"uid\": \"a3b56be8-de23-11e8-a6af-0088653b14b4\"}, {\"name\": \"701ac07ac0cf58\", \"showlegend\": false, \"x\": [129.0], \"y\": [28], \"type\": \"scatter\", \"uid\": \"a3b56cc6-de23-11e8-8e12-0088653b14b4\"}, {\"name\": \"1b5a191a7aefd4\", \"showlegend\": false, \"x\": [132.3], \"y\": [29], \"type\": \"scatter\", \"uid\": \"a3b56dac-de23-11e8-a5f6-0088653b14b4\"}, {\"name\": \"e6b30d1a0e29a6\", \"showlegend\": false, \"x\": [100.0], \"y\": [27], \"type\": \"scatter\", \"uid\": \"a3b56e92-de23-11e8-a3d8-0088653b14b4\"}, {\"name\": \"a9eea2023e085f\", \"showlegend\": false, \"x\": [341.6], \"y\": [30], \"type\": \"scatter\", \"uid\": \"a3b56f78-de23-11e8-af8f-0088653b14b4\"}, {\"name\": \"d0d78176ceb2bd\", \"showlegend\": false, \"x\": [0.0], \"y\": [49], \"type\": \"scatter\", \"uid\": \"a3b57054-de23-11e8-8508-0088653b14b4\"}, {\"name\": \"95192ad5bce7c5\", \"showlegend\": false, \"x\": [0.0], \"y\": [49], \"type\": \"scatter\", \"uid\": \"a3b5713a-de23-11e8-a8da-0088653b14b4\"}, {\"name\": \"f04d5c4b72ded9\", \"showlegend\": false, \"x\": [0.0], \"y\": [32], \"type\": \"scatter\", \"uid\": \"a3b5721e-de23-11e8-b1dc-0088653b14b4\"}, {\"name\": \"65e4f95e18fb1e\", \"showlegend\": false, \"x\": [213.6], \"y\": [47], \"type\": \"scatter\", \"uid\": \"a3b57306-de23-11e8-80f9-0088653b14b4\"}, {\"name\": \"9e24eea23a427f\", \"showlegend\": false, \"x\": [0.0], \"y\": [93], \"type\": \"scatter\", \"uid\": \"a3b573f6-de23-11e8-84ba-0088653b14b4\"}, {\"name\": \"870e0267d8b3b9\", \"showlegend\": false, \"x\": [59.52], \"y\": [27], \"type\": \"scatter\", \"uid\": \"a3b574dc-de23-11e8-a706-0088653b14b4\"}, {\"name\": \"ebb121de46fd04\", \"showlegend\": false, \"x\": [109.0], \"y\": [98], \"type\": \"scatter\", \"uid\": \"a3b575c2-de23-11e8-8369-0088653b14b4\"}, {\"name\": \"4121678a2ae9ea\", \"showlegend\": false, \"x\": [157.1], \"y\": [26], \"type\": \"scatter\", \"uid\": \"a3b576a8-de23-11e8-9e63-0088653b14b4\"}, {\"name\": \"07b8a8b0a5eb75\", \"showlegend\": false, \"x\": [371.0], \"y\": [95], \"type\": \"scatter\", \"uid\": \"a3b5778c-de23-11e8-b56e-0088653b14b4\"}, {\"name\": \"b4997080fb7f47\", \"showlegend\": false, \"x\": [0.0], \"y\": [50], \"type\": \"scatter\", \"uid\": \"a3b57874-de23-11e8-b025-0088653b14b4\"}, {\"name\": \"e3829d83dd60c4\", \"showlegend\": false, \"x\": [321.7], \"y\": [29], \"type\": \"scatter\", \"uid\": \"a3b57950-de23-11e8-8278-0088653b14b4\"}, {\"name\": \"a5951717635082\", \"showlegend\": false, \"x\": [341.9], \"y\": [50], \"type\": \"scatter\", \"uid\": \"a3b57a36-de23-11e8-910c-0088653b14b4\"}, {\"name\": \"115fef38c26a43\", \"showlegend\": false, \"x\": [0.0], \"y\": [47], \"type\": \"scatter\", \"uid\": \"a3b57b12-de23-11e8-8391-0088653b14b4\"}, {\"name\": \"d90e0228f3d308\", \"showlegend\": false, \"x\": [301.6], \"y\": [27], \"type\": \"scatter\", \"uid\": \"a3b57bf8-de23-11e8-9e09-0088653b14b4\"}, {\"name\": \"58ab6fcfd4870c\", \"showlegend\": false, \"x\": [142.3], \"y\": [31], \"type\": \"scatter\", \"uid\": \"a3b57cde-de23-11e8-aaba-0088653b14b4\"}, {\"name\": \"8049f7e6cbb4a6\", \"showlegend\": false, \"x\": [207.4], \"y\": [25], \"type\": \"scatter\", \"uid\": \"a3b57dc6-de23-11e8-a920-0088653b14b4\"}, {\"name\": \"834b71906c30ff\", \"showlegend\": false, \"x\": [25.18], \"y\": [93], \"type\": \"scatter\", \"uid\": \"a3b57ea8-de23-11e8-a8a0-0088653b14b4\"}, {\"name\": \"143b372ed63a03\", \"showlegend\": false, \"x\": [144.1], \"y\": [29], \"type\": \"scatter\", \"uid\": \"a3b57f90-de23-11e8-8ffc-0088653b14b4\"}, {\"name\": \"82a1ab087e745d\", \"showlegend\": false, \"x\": [58.48], \"y\": [49], \"type\": \"scatter\", \"uid\": \"a3b5806c-de23-11e8-aff2-0088653b14b4\"}, {\"name\": \"84f4ea82a063dc\", \"showlegend\": false, \"x\": [20.4], \"y\": [47], \"type\": \"scatter\", \"uid\": \"a3b5815c-de23-11e8-ac53-0088653b14b4\"}, {\"name\": \"2575537c9fac80\", \"showlegend\": false, \"x\": [90.72], \"y\": [48], \"type\": \"scatter\", \"uid\": \"a3b58238-de23-11e8-b494-0088653b14b4\"}, {\"name\": \"7b4431c29154f3\", \"showlegend\": false, \"x\": [100.0], \"y\": [92], \"type\": \"scatter\", \"uid\": \"a3b58328-de23-11e8-ac4b-0088653b14b4\"}, {\"name\": \"0999bef42cf4a8\", \"showlegend\": false, \"x\": [19.49], \"y\": [98], \"type\": \"scatter\", \"uid\": \"a3b58454-de23-11e8-841b-0088653b14b4\"}, {\"name\": \"52400ccda268f0\", \"showlegend\": false, \"x\": [111.2], \"y\": [25], \"type\": \"scatter\", \"uid\": \"a3b58546-de23-11e8-a3d4-0088653b14b4\"}, {\"name\": \"dc4fcdd925bced\", \"showlegend\": false, \"x\": [130.2], \"y\": [46], \"type\": \"scatter\", \"uid\": \"a3b5861e-de23-11e8-bc7c-0088653b14b4\"}, {\"name\": \"4c2342ae281ee5\", \"showlegend\": false, \"x\": [148.5], \"y\": [32], \"type\": \"scatter\", \"uid\": \"a3b58706-de23-11e8-9814-0088653b14b4\"}, {\"name\": \"20a8339cb24c4e\", \"showlegend\": false, \"x\": [0.0], \"y\": [25], \"type\": \"scatter\", \"uid\": \"a3b587ec-de23-11e8-bbcb-0088653b14b4\"}, {\"name\": \"1f6195c0925825\", \"showlegend\": false, \"x\": [0.0], \"y\": [26], \"type\": \"scatter\", \"uid\": \"a3b588d2-de23-11e8-b35a-0088653b14b4\"}, {\"name\": \"e00eac4aa98bc1\", \"showlegend\": false, \"x\": [0.0], \"y\": [27], \"type\": \"scatter\", \"uid\": \"a3b589ae-de23-11e8-aa99-0088653b14b4\"}, {\"name\": \"84c5432c78a9e3\", \"showlegend\": false, \"x\": [348.2], \"y\": [29], \"type\": \"scatter\", \"uid\": \"a3b58a94-de23-11e8-8c81-0088653b14b4\"}, {\"name\": \"c42f658c6df113\", \"showlegend\": false, \"x\": [28.45], \"y\": [27], \"type\": \"scatter\", \"uid\": \"a3b58b7a-de23-11e8-a3c7-0088653b14b4\"}, {\"name\": \"14769ced48e07f\", \"showlegend\": false, \"x\": [0.0], \"y\": [28], \"type\": \"scatter\", \"uid\": \"a3b58c62-de23-11e8-a31b-0088653b14b4\"}, {\"name\": \"f46b051c09b4fe\", \"showlegend\": false, \"x\": [50.08], \"y\": [49], \"type\": \"scatter\", \"uid\": \"a3b58d46-de23-11e8-b3ea-0088653b14b4\"}, {\"name\": \"feba34a6d1dd9c\", \"showlegend\": false, \"x\": [0.0], \"y\": [31], \"type\": \"scatter\", \"uid\": \"a3b58e2c-de23-11e8-b879-0088653b14b4\"}, {\"name\": \"f35088f2f4fd89\", \"showlegend\": false, \"x\": [28.21], \"y\": [50], \"type\": \"scatter\", \"uid\": \"a3b58f08-de23-11e8-9c3c-0088653b14b4\"}, {\"name\": \"7eea7f1083f343\", \"showlegend\": false, \"x\": [0.0], \"y\": [49], \"type\": \"scatter\", \"uid\": \"a3b58fee-de23-11e8-aeda-0088653b14b4\"}, {\"name\": \"950702f916c5ae\", \"showlegend\": false, \"x\": [146.3], \"y\": [16], \"type\": \"scatter\", \"uid\": \"a3b590d4-de23-11e8-97cf-0088653b14b4\"}, {\"name\": \"d5c7bf7d814d6a\", \"showlegend\": false, \"x\": [0.0], \"y\": [27], \"type\": \"scatter\", \"uid\": \"a3b591ba-de23-11e8-92cc-0088653b14b4\"}, {\"name\": \"cf6039a4ea552d\", \"showlegend\": false, \"x\": [44.16], \"y\": [25], \"type\": \"scatter\", \"uid\": \"a3b59298-de23-11e8-a8a7-0088653b14b4\"}, {\"name\": \"8abbde7094aa8b\", \"showlegend\": false, \"x\": [100.0], \"y\": [27], \"type\": \"scatter\", \"uid\": \"a3b5937a-de23-11e8-9dec-0088653b14b4\"}, {\"name\": \"283497905dfff6\", \"showlegend\": false, \"x\": [0.0], \"y\": [92], \"type\": \"scatter\", \"uid\": \"a3b59462-de23-11e8-af98-0088653b14b4\"}, {\"name\": \"d8dbb217b3cc6f\", \"showlegend\": false, \"x\": [0.0], \"y\": [97], \"type\": \"scatter\", \"uid\": \"a3b59548-de23-11e8-8380-0088653b14b4\"}, {\"name\": \"15f6cba693a708\", \"showlegend\": false, \"x\": [62.77], \"y\": [28], \"type\": \"scatter\", \"uid\": \"a3b59624-de23-11e8-8824-0088653b14b4\"}, {\"name\": \"21257a5820a6f3\", \"showlegend\": false, \"x\": [26.46], \"y\": [29], \"type\": \"scatter\", \"uid\": \"a3b59714-de23-11e8-ab9e-0088653b14b4\"}, {\"name\": \"d6feb50c1c1274\", \"showlegend\": false, \"x\": [480.1], \"y\": [49], \"type\": \"scatter\", \"uid\": \"a3b597fa-de23-11e8-b456-0088653b14b4\"}, {\"name\": \"16c784c966aad4\", \"showlegend\": false, \"x\": [295.6], \"y\": [27], \"type\": \"scatter\", \"uid\": \"a3b598d8-de23-11e8-9c4e-0088653b14b4\"}, {\"name\": \"1d6511a5d41227\", \"showlegend\": false, \"x\": [129.0], \"y\": [50], \"type\": \"scatter\", \"uid\": \"a3b599b4-de23-11e8-b1de-0088653b14b4\"}, {\"name\": \"7e686fd6b87a0d\", \"showlegend\": false, \"x\": [112.6], \"y\": [92], \"type\": \"scatter\", \"uid\": \"a3b59a98-de23-11e8-b747-0088653b14b4\"}, {\"name\": \"9fbebf8afd46f2\", \"showlegend\": false, \"x\": [0.0], \"y\": [30], \"type\": \"scatter\", \"uid\": \"a3b59b7e-de23-11e8-9d7c-0088653b14b4\"}, {\"name\": \"e0dbd2ce5a5e4f\", \"showlegend\": false, \"x\": [26.0], \"y\": [48], \"type\": \"scatter\", \"uid\": \"a3b59c5a-de23-11e8-805e-0088653b14b4\"}, {\"name\": \"4b1cf9fcd16e60\", \"showlegend\": false, \"x\": [0.0], \"y\": [27], \"type\": \"scatter\", \"uid\": \"a3b59d40-de23-11e8-a2c5-0088653b14b4\"}, {\"name\": \"48763efdc9d268\", \"showlegend\": false, \"x\": [72.77], \"y\": [49], \"type\": \"scatter\", \"uid\": \"a3b59e26-de23-11e8-acfc-0088653b14b4\"}, {\"name\": \"b1c4733e57abe9\", \"showlegend\": false, \"x\": [0.0], \"y\": [19], \"type\": \"scatter\", \"uid\": \"a3b59f02-de23-11e8-9339-0088653b14b4\"}, {\"name\": \"1d950319260b76\", \"showlegend\": false, \"x\": [65.0], \"y\": [29], \"type\": \"scatter\", \"uid\": \"a3b59ff4-de23-11e8-8376-0088653b14b4\"}, {\"name\": \"2f213673ad189e\", \"showlegend\": false, \"x\": [434.6], \"y\": [30], \"type\": \"scatter\", \"uid\": \"a3b5a0cc-de23-11e8-9e29-0088653b14b4\"}, {\"name\": \"ee185a28870815\", \"showlegend\": false, \"x\": [28.6], \"y\": [28], \"type\": \"scatter\", \"uid\": \"a3b5a1b4-de23-11e8-8475-0088653b14b4\"}, {\"name\": \"3a0ad360b95d38\", \"showlegend\": false, \"x\": [140.6], \"y\": [30], \"type\": \"scatter\", \"uid\": \"a3b5a29a-de23-11e8-8f17-0088653b14b4\"}, {\"name\": \"de39036cfbfbf6\", \"showlegend\": false, \"x\": [97.63], \"y\": [27], \"type\": \"scatter\", \"uid\": \"a3b5a380-de23-11e8-b616-0088653b14b4\"}, {\"name\": \"970d0dc8ce4c6d\", \"showlegend\": false, \"x\": [67.42], \"y\": [29], \"type\": \"scatter\", \"uid\": \"a3b5a45c-de23-11e8-8acd-0088653b14b4\"}, {\"name\": \"2ec40c7eba38a5\", \"showlegend\": false, \"x\": [49.14], \"y\": [98], \"type\": \"scatter\", \"uid\": \"a3b5a542-de23-11e8-8fa5-0088653b14b4\"}, {\"name\": \"0773ab690644e6\", \"showlegend\": false, \"x\": [128.4], \"y\": [29], \"type\": \"scatter\", \"uid\": \"a3b5a61e-de23-11e8-ba2c-0088653b14b4\"}, {\"name\": \"9220136190bade\", \"showlegend\": false, \"x\": [161.5], \"y\": [28], \"type\": \"scatter\", \"uid\": \"a3b5a6fa-de23-11e8-a77d-0088653b14b4\"}, {\"name\": \"60193d9d90b707\", \"showlegend\": false, \"x\": [0.0], \"y\": [48], \"type\": \"scatter\", \"uid\": \"a3b5a7d8-de23-11e8-9979-0088653b14b4\"}, {\"name\": \"7deccbdf5d5ae5\", \"showlegend\": false, \"x\": [196.0], \"y\": [94], \"type\": \"scatter\", \"uid\": \"a3b5a8b4-de23-11e8-818a-0088653b14b4\"}, {\"name\": \"ba46eeacc14563\", \"showlegend\": false, \"x\": [0.0], \"y\": [26], \"type\": \"scatter\", \"uid\": \"a3b5a98c-de23-11e8-b1d8-0088653b14b4\"}], {\"legend\": {\"orientation\": \"h\"}, \"title\": \"Killing is Winning?\", \"xaxis\": {\"title\": \"Damage (Higher is Better)\"}, \"yaxis\": {\"title\": \"Rank (Lower is Better)\"}}, {\"showLink\": true, \"linkText\": \"Export to plot.ly\"})});</script>"
      ],
      "text/vnd.plotly.v1+html": [
       "<div id=\"0d7d0bd4-3ce6-4e44-a6cf-2ae5f50ce763\" style=\"height: 525px; width: 100%;\" class=\"plotly-graph-div\"></div><script type=\"text/javascript\">require([\"plotly\"], function(Plotly) { window.PLOTLYENV=window.PLOTLYENV || {};window.PLOTLYENV.BASE_URL=\"https://plot.ly\";Plotly.newPlot(\"0d7d0bd4-3ce6-4e44-a6cf-2ae5f50ce763\", [{\"name\": \"410a0bf38d7c73\", \"showlegend\": false, \"x\": [0.0], \"y\": [27], \"type\": \"scatter\", \"uid\": \"a3b4f61a-de23-11e8-a181-0088653b14b4\"}, {\"name\": \"e09cb321e48209\", \"showlegend\": false, \"x\": [265.8], \"y\": [92], \"type\": \"scatter\", \"uid\": \"a3b4f806-de23-11e8-a723-0088653b14b4\"}, {\"name\": \"3832880055d066\", \"showlegend\": false, \"x\": [0.0], \"y\": [50], \"type\": \"scatter\", \"uid\": \"a3b4f91c-de23-11e8-bb43-0088653b14b4\"}, {\"name\": \"0068bd6d504762\", \"showlegend\": false, \"x\": [0.0], \"y\": [28], \"type\": \"scatter\", \"uid\": \"a3b4fa0c-de23-11e8-97d5-0088653b14b4\"}, {\"name\": \"32f8d64c860b62\", \"showlegend\": false, \"x\": [0.0], \"y\": [28], \"type\": \"scatter\", \"uid\": \"a3b4fafa-de23-11e8-9bff-0088653b14b4\"}, {\"name\": \"988ab57221bfa7\", \"showlegend\": false, \"x\": [47.3], \"y\": [48], \"type\": \"scatter\", \"uid\": \"a3b4fbec-de23-11e8-bde1-0088653b14b4\"}, {\"name\": \"8f4d0144d6f851\", \"showlegend\": false, \"x\": [0.0], \"y\": [27], \"type\": \"scatter\", \"uid\": \"a3b4fcd2-de23-11e8-8af1-0088653b14b4\"}, {\"name\": \"c6917734fcbca7\", \"showlegend\": false, \"x\": [422.2], \"y\": [25], \"type\": \"scatter\", \"uid\": \"a3b4fdc2-de23-11e8-a709-0088653b14b4\"}, {\"name\": \"10086f55fdffc4\", \"showlegend\": false, \"x\": [146.1], \"y\": [49], \"type\": \"scatter\", \"uid\": \"a3b4fea8-de23-11e8-bec9-0088653b14b4\"}, {\"name\": \"68c7fda3fac814\", \"showlegend\": false, \"x\": [174.7], \"y\": [27], \"type\": \"scatter\", \"uid\": \"a3b4ff8c-de23-11e8-85e9-0088653b14b4\"}, {\"name\": \"7530e3d43f3b83\", \"showlegend\": false, \"x\": [258.7], \"y\": [27], \"type\": \"scatter\", \"uid\": \"a3b5007e-de23-11e8-a226-0088653b14b4\"}, {\"name\": \"c906e1e2dc4c2d\", \"showlegend\": false, \"x\": [98.04], \"y\": [88], \"type\": \"scatter\", \"uid\": \"a3b50164-de23-11e8-8458-0088653b14b4\"}, {\"name\": \"a73c46ba5caf04\", \"showlegend\": false, \"x\": [306.2], \"y\": [49], \"type\": \"scatter\", \"uid\": \"a3b5024a-de23-11e8-a1d2-0088653b14b4\"}, {\"name\": \"2b3c009029e394\", \"showlegend\": false, \"x\": [275.1], \"y\": [29], \"type\": \"scatter\", \"uid\": \"a3b50330-de23-11e8-8e86-0088653b14b4\"}, {\"name\": \"c92c7e370289f9\", \"showlegend\": false, \"x\": [0.0], \"y\": [30], \"type\": \"scatter\", \"uid\": \"a3b50418-de23-11e8-bb0f-0088653b14b4\"}, {\"name\": \"f26ff117dc1649\", \"showlegend\": false, \"x\": [0.0], \"y\": [48], \"type\": \"scatter\", \"uid\": \"a3b504fa-de23-11e8-8eab-0088653b14b4\"}, {\"name\": \"9656aaa3c39a24\", \"showlegend\": false, \"x\": [552.9], \"y\": [97], \"type\": \"scatter\", \"uid\": \"a3b505d8-de23-11e8-9031-0088653b14b4\"}, {\"name\": \"07d26378165643\", \"showlegend\": false, \"x\": [21.03], \"y\": [50], \"type\": \"scatter\", \"uid\": \"a3b506be-de23-11e8-930e-0088653b14b4\"}, {\"name\": \"c8b9198e9e7bf9\", \"showlegend\": false, \"x\": [0.0], \"y\": [50], \"type\": \"scatter\", \"uid\": \"a3b507ae-de23-11e8-b37f-0088653b14b4\"}, {\"name\": \"3e11c4a722f34a\", \"showlegend\": false, \"x\": [0.0], \"y\": [30], \"type\": \"scatter\", \"uid\": \"a3b5088a-de23-11e8-b806-0088653b14b4\"}, {\"name\": \"2975b7854ee0e5\", \"showlegend\": false, \"x\": [627.7], \"y\": [44], \"type\": \"scatter\", \"uid\": \"a3b50970-de23-11e8-a13f-0088653b14b4\"}, {\"name\": \"1b4daa0428116a\", \"showlegend\": false, \"x\": [224.1], \"y\": [48], \"type\": \"scatter\", \"uid\": \"a3b50a62-de23-11e8-a25d-0088653b14b4\"}, {\"name\": \"5d625c40bf5e30\", \"showlegend\": false, \"x\": [10.0], \"y\": [49], \"type\": \"scatter\", \"uid\": \"a3b50b3a-de23-11e8-8346-0088653b14b4\"}, {\"name\": \"1902b95c80983b\", \"showlegend\": false, \"x\": [217.8], \"y\": [47], \"type\": \"scatter\", \"uid\": \"a3b50c22-de23-11e8-846d-0088653b14b4\"}, {\"name\": \"d9b372960d1869\", \"showlegend\": false, \"x\": [0.0], \"y\": [99], \"type\": \"scatter\", \"uid\": \"a3b50d08-de23-11e8-8f61-0088653b14b4\"}, {\"name\": \"7cb29bb0c8bb04\", \"showlegend\": false, \"x\": [22.71], \"y\": [26], \"type\": \"scatter\", \"uid\": \"a3b50dee-de23-11e8-9278-0088653b14b4\"}, {\"name\": \"edbb692fdea83c\", \"showlegend\": false, \"x\": [0.0], \"y\": [15], \"type\": \"scatter\", \"uid\": \"a3b50ed4-de23-11e8-ad1a-0088653b14b4\"}, {\"name\": \"7cbacf39475489\", \"showlegend\": false, \"x\": [53.3], \"y\": [25], \"type\": \"scatter\", \"uid\": \"a3b50fba-de23-11e8-bf77-0088653b14b4\"}, {\"name\": \"cf87a09b7fde4f\", \"showlegend\": false, \"x\": [60.0], \"y\": [28], \"type\": \"scatter\", \"uid\": \"a3b5109e-de23-11e8-96be-0088653b14b4\"}, {\"name\": \"1c3be51a315509\", \"showlegend\": false, \"x\": [0.0], \"y\": [48], \"type\": \"scatter\", \"uid\": \"a3b51186-de23-11e8-bfc7-0088653b14b4\"}, {\"name\": \"e7b43ec0f676ae\", \"showlegend\": false, \"x\": [77.95], \"y\": [47], \"type\": \"scatter\", \"uid\": \"a3b5126c-de23-11e8-86b0-0088653b14b4\"}, {\"name\": \"140f25bdfc0374\", \"showlegend\": false, \"x\": [331.9], \"y\": [31], \"type\": \"scatter\", \"uid\": \"a3b51352-de23-11e8-809f-0088653b14b4\"}, {\"name\": \"ec5f908b986fbc\", \"showlegend\": false, \"x\": [200.0], \"y\": [98], \"type\": \"scatter\", \"uid\": \"a3b51438-de23-11e8-86bf-0088653b14b4\"}, {\"name\": \"1519d57139f5f4\", \"showlegend\": false, \"x\": [0.0], \"y\": [28], \"type\": \"scatter\", \"uid\": \"a3b5151e-de23-11e8-9cf2-0088653b14b4\"}, {\"name\": \"33476a9192ec35\", \"showlegend\": false, \"x\": [0.0], \"y\": [28], \"type\": \"scatter\", \"uid\": \"a3b51606-de23-11e8-8c73-0088653b14b4\"}, {\"name\": \"67092e59bc52a6\", \"showlegend\": false, \"x\": [87.6], \"y\": [48], \"type\": \"scatter\", \"uid\": \"a3b516e8-de23-11e8-9a84-0088653b14b4\"}, {\"name\": \"d9d33396c4b4d5\", \"showlegend\": false, \"x\": [0.0], \"y\": [27], \"type\": \"scatter\", \"uid\": \"a3b517d0-de23-11e8-81f8-0088653b14b4\"}, {\"name\": \"454cfe6e9c3fe7\", \"showlegend\": false, \"x\": [0.0], \"y\": [98], \"type\": \"scatter\", \"uid\": \"a3b518b6-de23-11e8-9e39-0088653b14b4\"}, {\"name\": \"ca5838faff7738\", \"showlegend\": false, \"x\": [28.2], \"y\": [27], \"type\": \"scatter\", \"uid\": \"a3b5199c-de23-11e8-85f1-0088653b14b4\"}, {\"name\": \"15c7df6daad146\", \"showlegend\": false, \"x\": [128.4], \"y\": [90], \"type\": \"scatter\", \"uid\": \"a3b51a82-de23-11e8-80f7-0088653b14b4\"}, {\"name\": \"9c06aed87f84b0\", \"showlegend\": false, \"x\": [0.0], \"y\": [32], \"type\": \"scatter\", \"uid\": \"a3b51b68-de23-11e8-9a1b-0088653b14b4\"}, {\"name\": \"4c8c47935a750a\", \"showlegend\": false, \"x\": [10.3], \"y\": [29], \"type\": \"scatter\", \"uid\": \"a3b51c4c-de23-11e8-bf9f-0088653b14b4\"}, {\"name\": \"3b0875126b184b\", \"showlegend\": false, \"x\": [163.8], \"y\": [28], \"type\": \"scatter\", \"uid\": \"a3b51d34-de23-11e8-99de-0088653b14b4\"}, {\"name\": \"5516479dfb6321\", \"showlegend\": false, \"x\": [200.0], \"y\": [49], \"type\": \"scatter\", \"uid\": \"a3b51e1a-de23-11e8-be45-0088653b14b4\"}, {\"name\": \"576f1ef56387d8\", \"showlegend\": false, \"x\": [85.14], \"y\": [27], \"type\": \"scatter\", \"uid\": \"a3b51f00-de23-11e8-9c2e-0088653b14b4\"}, {\"name\": \"1815830376d6aa\", \"showlegend\": false, \"x\": [0.0], \"y\": [27], \"type\": \"scatter\", \"uid\": \"a3b51fe6-de23-11e8-90d5-0088653b14b4\"}, {\"name\": \"210f636ef6f999\", \"showlegend\": false, \"x\": [100.0], \"y\": [94], \"type\": \"scatter\", \"uid\": \"a3b520cc-de23-11e8-85e4-0088653b14b4\"}, {\"name\": \"93adb2aa6fc71f\", \"showlegend\": false, \"x\": [0.0], \"y\": [50], \"type\": \"scatter\", \"uid\": \"a3b521b4-de23-11e8-8074-0088653b14b4\"}, {\"name\": \"964ef160bf9bc1\", \"showlegend\": false, \"x\": [503.5], \"y\": [28], \"type\": \"scatter\", \"uid\": \"a3b52298-de23-11e8-ada3-0088653b14b4\"}, {\"name\": \"7f207295f78b6c\", \"showlegend\": false, \"x\": [63.86], \"y\": [27], \"type\": \"scatter\", \"uid\": \"a3b5237e-de23-11e8-8a5c-0088653b14b4\"}, {\"name\": \"dab02d1c30f422\", \"showlegend\": false, \"x\": [114.0], \"y\": [32], \"type\": \"scatter\", \"uid\": \"a3b52464-de23-11e8-853b-0088653b14b4\"}, {\"name\": \"fab3d0459a330c\", \"showlegend\": false, \"x\": [63.21], \"y\": [29], \"type\": \"scatter\", \"uid\": \"a3b5254a-de23-11e8-af94-0088653b14b4\"}, {\"name\": \"8fcc204a3ba7a9\", \"showlegend\": false, \"x\": [219.0], \"y\": [28], \"type\": \"scatter\", \"uid\": \"a3b52630-de23-11e8-91a0-0088653b14b4\"}, {\"name\": \"2442ca2ff40d2d\", \"showlegend\": false, \"x\": [214.6], \"y\": [17], \"type\": \"scatter\", \"uid\": \"a3b52718-de23-11e8-8705-0088653b14b4\"}, {\"name\": \"bd7784936883df\", \"showlegend\": false, \"x\": [79.98], \"y\": [28], \"type\": \"scatter\", \"uid\": \"a3b527fa-de23-11e8-a40b-0088653b14b4\"}, {\"name\": \"59c818515c5938\", \"showlegend\": false, \"x\": [0.0], \"y\": [50], \"type\": \"scatter\", \"uid\": \"a3b528e2-de23-11e8-bf2a-0088653b14b4\"}, {\"name\": \"d5aa3715742631\", \"showlegend\": false, \"x\": [103.7], \"y\": [28], \"type\": \"scatter\", \"uid\": \"a3b529c8-de23-11e8-a19d-0088653b14b4\"}, {\"name\": \"7ab785f97ff58e\", \"showlegend\": false, \"x\": [0.0], \"y\": [28], \"type\": \"scatter\", \"uid\": \"a3b52aae-de23-11e8-9672-0088653b14b4\"}, {\"name\": \"b2e48f30f50edc\", \"showlegend\": false, \"x\": [227.2], \"y\": [47], \"type\": \"scatter\", \"uid\": \"a3b52b94-de23-11e8-88b8-0088653b14b4\"}, {\"name\": \"d2e97549332123\", \"showlegend\": false, \"x\": [680.2], \"y\": [26], \"type\": \"scatter\", \"uid\": \"a3b52c7a-de23-11e8-85bf-0088653b14b4\"}, {\"name\": \"24079dd91e559f\", \"showlegend\": false, \"x\": [0.0], \"y\": [48], \"type\": \"scatter\", \"uid\": \"a3b52d62-de23-11e8-82d5-0088653b14b4\"}, {\"name\": \"17510b5d780440\", \"showlegend\": false, \"x\": [96.0], \"y\": [29], \"type\": \"scatter\", \"uid\": \"a3b52e46-de23-11e8-8c10-0088653b14b4\"}, {\"name\": \"7536fdabb4fc57\", \"showlegend\": false, \"x\": [28.38], \"y\": [30], \"type\": \"scatter\", \"uid\": \"a3b52f2c-de23-11e8-b625-0088653b14b4\"}, {\"name\": \"b2cfaca6730f2f\", \"showlegend\": false, \"x\": [100.0], \"y\": [49], \"type\": \"scatter\", \"uid\": \"a3b53012-de23-11e8-9244-0088653b14b4\"}, {\"name\": \"e65b93e9230545\", \"showlegend\": false, \"x\": [80.05], \"y\": [47], \"type\": \"scatter\", \"uid\": \"a3b530ee-de23-11e8-9be5-0088653b14b4\"}, {\"name\": \"892bf1e15e4b05\", \"showlegend\": false, \"x\": [0.0], \"y\": [47], \"type\": \"scatter\", \"uid\": \"a3b531d4-de23-11e8-ad6c-0088653b14b4\"}, {\"name\": \"67d049a58d1beb\", \"showlegend\": false, \"x\": [477.5], \"y\": [29], \"type\": \"scatter\", \"uid\": \"a3b532c6-de23-11e8-bc99-0088653b14b4\"}, {\"name\": \"8e3b9d7bcf280c\", \"showlegend\": false, \"x\": [216.8], \"y\": [27], \"type\": \"scatter\", \"uid\": \"a3b533a8-de23-11e8-929b-0088653b14b4\"}, {\"name\": \"3006506f9fb602\", \"showlegend\": false, \"x\": [51.51], \"y\": [99], \"type\": \"scatter\", \"uid\": \"a3b53490-de23-11e8-be8c-0088653b14b4\"}, {\"name\": \"b1808f03161753\", \"showlegend\": false, \"x\": [0.0], \"y\": [49], \"type\": \"scatter\", \"uid\": \"a3b53576-de23-11e8-a836-0088653b14b4\"}, {\"name\": \"ae8edfa3390a21\", \"showlegend\": false, \"x\": [218.3], \"y\": [50], \"type\": \"scatter\", \"uid\": \"a3b53652-de23-11e8-939f-0088653b14b4\"}, {\"name\": \"d47778a7c1e895\", \"showlegend\": false, \"x\": [0.0], \"y\": [49], \"type\": \"scatter\", \"uid\": \"a3b53738-de23-11e8-94f7-0088653b14b4\"}, {\"name\": \"e99c085cb41874\", \"showlegend\": false, \"x\": [100.0], \"y\": [49], \"type\": \"scatter\", \"uid\": \"a3b5381e-de23-11e8-8f82-0088653b14b4\"}, {\"name\": \"8743be9e0b4e96\", \"showlegend\": false, \"x\": [0.0], \"y\": [30], \"type\": \"scatter\", \"uid\": \"a3b538fa-de23-11e8-9037-0088653b14b4\"}, {\"name\": \"e4615362780a18\", \"showlegend\": false, \"x\": [11.43], \"y\": [26], \"type\": \"scatter\", \"uid\": \"a3b539e2-de23-11e8-a7d4-0088653b14b4\"}, {\"name\": \"2d677a9ddee24e\", \"showlegend\": false, \"x\": [142.6], \"y\": [29], \"type\": \"scatter\", \"uid\": \"a3b53ac6-de23-11e8-a8bc-0088653b14b4\"}, {\"name\": \"b271756ace032d\", \"showlegend\": false, \"x\": [269.4], \"y\": [28], \"type\": \"scatter\", \"uid\": \"a3b53bac-de23-11e8-82b0-0088653b14b4\"}, {\"name\": \"cb1adc76d7304f\", \"showlegend\": false, \"x\": [282.7], \"y\": [44], \"type\": \"scatter\", \"uid\": \"a3b53c92-de23-11e8-8317-0088653b14b4\"}, {\"name\": \"ce2eb11029c5a3\", \"showlegend\": false, \"x\": [165.6], \"y\": [27], \"type\": \"scatter\", \"uid\": \"a3b53d78-de23-11e8-96fe-0088653b14b4\"}, {\"name\": \"4934954b527a00\", \"showlegend\": false, \"x\": [300.0], \"y\": [29], \"type\": \"scatter\", \"uid\": \"a3b53e5e-de23-11e8-87aa-0088653b14b4\"}, {\"name\": \"edc5b7a42e1cee\", \"showlegend\": false, \"x\": [54.71], \"y\": [95], \"type\": \"scatter\", \"uid\": \"a3b53f3a-de23-11e8-8340-0088653b14b4\"}, {\"name\": \"046b13bc9695ed\", \"showlegend\": false, \"x\": [64.4], \"y\": [29], \"type\": \"scatter\", \"uid\": \"a3b5401e-de23-11e8-ae4b-0088653b14b4\"}, {\"name\": \"4cbe1832fc053a\", \"showlegend\": false, \"x\": [144.5], \"y\": [25], \"type\": \"scatter\", \"uid\": \"a3b54110-de23-11e8-bf92-0088653b14b4\"}, {\"name\": \"20f5176011eec8\", \"showlegend\": false, \"x\": [239.8], \"y\": [95], \"type\": \"scatter\", \"uid\": \"a3b541ec-de23-11e8-bdd7-0088653b14b4\"}, {\"name\": \"014129f84f4327\", \"showlegend\": false, \"x\": [0.0], \"y\": [48], \"type\": \"scatter\", \"uid\": \"a3b542d2-de23-11e8-9366-0088653b14b4\"}, {\"name\": \"c92ecb6560fd55\", \"showlegend\": false, \"x\": [734.4], \"y\": [29], \"type\": \"scatter\", \"uid\": \"a3b543b8-de23-11e8-9625-0088653b14b4\"}, {\"name\": \"d3e952301d488c\", \"showlegend\": false, \"x\": [200.0], \"y\": [99], \"type\": \"scatter\", \"uid\": \"a3b5449e-de23-11e8-baac-0088653b14b4\"}, {\"name\": \"5186404e51ea2d\", \"showlegend\": false, \"x\": [488.8], \"y\": [48], \"type\": \"scatter\", \"uid\": \"a3b54586-de23-11e8-afcb-0088653b14b4\"}, {\"name\": \"e98ced06bba09d\", \"showlegend\": false, \"x\": [139.3], \"y\": [92], \"type\": \"scatter\", \"uid\": \"a3b54668-de23-11e8-8655-0088653b14b4\"}, {\"name\": \"65254c0ebfd315\", \"showlegend\": false, \"x\": [0.0], \"y\": [28], \"type\": \"scatter\", \"uid\": \"a3b54750-de23-11e8-ac53-0088653b14b4\"}, {\"name\": \"2c9d3645507d74\", \"showlegend\": false, \"x\": [20.13], \"y\": [49], \"type\": \"scatter\", \"uid\": \"a3b5482c-de23-11e8-9acb-0088653b14b4\"}, {\"name\": \"a1dd888870d8ad\", \"showlegend\": false, \"x\": [0.0], \"y\": [28], \"type\": \"scatter\", \"uid\": \"a3b54912-de23-11e8-ad33-0088653b14b4\"}, {\"name\": \"dd025df5db2316\", \"showlegend\": false, \"x\": [0.0], \"y\": [28], \"type\": \"scatter\", \"uid\": \"a3b549f8-de23-11e8-bb3f-0088653b14b4\"}, {\"name\": \"8383e7aebb4ed2\", \"showlegend\": false, \"x\": [44.77], \"y\": [93], \"type\": \"scatter\", \"uid\": \"a3b54ade-de23-11e8-96f3-0088653b14b4\"}, {\"name\": \"e465316b2feeed\", \"showlegend\": false, \"x\": [0.0], \"y\": [46], \"type\": \"scatter\", \"uid\": \"a3b54bba-de23-11e8-a538-0088653b14b4\"}, {\"name\": \"e081897cabd3df\", \"showlegend\": false, \"x\": [95.94], \"y\": [28], \"type\": \"scatter\", \"uid\": \"a3b54c9e-de23-11e8-b628-0088653b14b4\"}, {\"name\": \"ce682545c79fdf\", \"showlegend\": false, \"x\": [208.8], \"y\": [49], \"type\": \"scatter\", \"uid\": \"a3b54d86-de23-11e8-ba59-0088653b14b4\"}, {\"name\": \"b73b0b2e5180b5\", \"showlegend\": false, \"x\": [90.1], \"y\": [28], \"type\": \"scatter\", \"uid\": \"a3b54e62-de23-11e8-821b-0088653b14b4\"}, {\"name\": \"6d4dd3c847f973\", \"showlegend\": false, \"x\": [59.4], \"y\": [27], \"type\": \"scatter\", \"uid\": \"a3b54f48-de23-11e8-8fa5-0088653b14b4\"}, {\"name\": \"c6bd49d594cfb4\", \"showlegend\": false, \"x\": [105.8], \"y\": [28], \"type\": \"scatter\", \"uid\": \"a3b5502e-de23-11e8-8beb-0088653b14b4\"}, {\"name\": \"e63abe3e895cfa\", \"showlegend\": false, \"x\": [262.4], \"y\": [49], \"type\": \"scatter\", \"uid\": \"a3b55114-de23-11e8-9e8f-0088653b14b4\"}, {\"name\": \"adcebf06cc24fb\", \"showlegend\": false, \"x\": [22.8], \"y\": [99], \"type\": \"scatter\", \"uid\": \"a3b55206-de23-11e8-85fa-0088653b14b4\"}, {\"name\": \"31c719acf0c191\", \"showlegend\": false, \"x\": [136.1], \"y\": [30], \"type\": \"scatter\", \"uid\": \"a3b552e8-de23-11e8-9a2c-0088653b14b4\"}, {\"name\": \"1d7c3740622c4b\", \"showlegend\": false, \"x\": [417.4], \"y\": [48], \"type\": \"scatter\", \"uid\": \"a3b553d0-de23-11e8-8eb1-0088653b14b4\"}, {\"name\": \"5ee7c0d2b6aad4\", \"showlegend\": false, \"x\": [0.0], \"y\": [48], \"type\": \"scatter\", \"uid\": \"a3b554ac-de23-11e8-8155-0088653b14b4\"}, {\"name\": \"f315e8023cdacc\", \"showlegend\": false, \"x\": [470.4], \"y\": [92], \"type\": \"scatter\", \"uid\": \"a3b55592-de23-11e8-9da8-0088653b14b4\"}, {\"name\": \"e270d8f9de75e9\", \"showlegend\": false, \"x\": [0.0], \"y\": [97], \"type\": \"scatter\", \"uid\": \"a3b55678-de23-11e8-b224-0088653b14b4\"}, {\"name\": \"bf541a19de52a0\", \"showlegend\": false, \"x\": [0.0], \"y\": [30], \"type\": \"scatter\", \"uid\": \"a3b5575e-de23-11e8-919b-0088653b14b4\"}, {\"name\": \"b5211d5f5db2c3\", \"showlegend\": false, \"x\": [174.0], \"y\": [46], \"type\": \"scatter\", \"uid\": \"a3b55846-de23-11e8-8627-0088653b14b4\"}, {\"name\": \"d2f2fa05fdde93\", \"showlegend\": false, \"x\": [416.9], \"y\": [27], \"type\": \"scatter\", \"uid\": \"a3b55928-de23-11e8-8cb5-0088653b14b4\"}, {\"name\": \"21635fecb95d77\", \"showlegend\": false, \"x\": [0.0], \"y\": [27], \"type\": \"scatter\", \"uid\": \"a3b55a10-de23-11e8-9af3-0088653b14b4\"}, {\"name\": \"090235b2c435de\", \"showlegend\": false, \"x\": [0.0], \"y\": [49], \"type\": \"scatter\", \"uid\": \"a3b55af6-de23-11e8-b5d7-0088653b14b4\"}, {\"name\": \"bbb2d3afc17009\", \"showlegend\": false, \"x\": [0.0], \"y\": [95], \"type\": \"scatter\", \"uid\": \"a3b55bd2-de23-11e8-b930-0088653b14b4\"}, {\"name\": \"4396c01a10cb69\", \"showlegend\": false, \"x\": [88.01], \"y\": [98], \"type\": \"scatter\", \"uid\": \"a3b55cb8-de23-11e8-9529-0088653b14b4\"}, {\"name\": \"819426ae446a15\", \"showlegend\": false, \"x\": [154.5], \"y\": [46], \"type\": \"scatter\", \"uid\": \"a3b55d9e-de23-11e8-8cfe-0088653b14b4\"}, {\"name\": \"036ca75c3b03af\", \"showlegend\": false, \"x\": [53.2], \"y\": [97], \"type\": \"scatter\", \"uid\": \"a3b55e86-de23-11e8-abf9-0088653b14b4\"}, {\"name\": \"59eb314a3ecdd1\", \"showlegend\": false, \"x\": [0.0], \"y\": [27], \"type\": \"scatter\", \"uid\": \"a3b55f68-de23-11e8-97ce-0088653b14b4\"}, {\"name\": \"691d88cce44b64\", \"showlegend\": false, \"x\": [14.84], \"y\": [47], \"type\": \"scatter\", \"uid\": \"a3b56050-de23-11e8-9948-0088653b14b4\"}, {\"name\": \"c6f7894eb477e6\", \"showlegend\": false, \"x\": [117.7], \"y\": [29], \"type\": \"scatter\", \"uid\": \"a3b5612c-de23-11e8-9fe6-0088653b14b4\"}, {\"name\": \"7b13fe86fed79e\", \"showlegend\": false, \"x\": [88.83], \"y\": [96], \"type\": \"scatter\", \"uid\": \"a3b56212-de23-11e8-8a21-0088653b14b4\"}, {\"name\": \"47e83f6944da37\", \"showlegend\": false, \"x\": [0.0], \"y\": [46], \"type\": \"scatter\", \"uid\": \"a3b562f8-de23-11e8-b7f4-0088653b14b4\"}, {\"name\": \"7b1fe1ac1bef20\", \"showlegend\": false, \"x\": [424.4], \"y\": [27], \"type\": \"scatter\", \"uid\": \"a3b563de-de23-11e8-abc9-0088653b14b4\"}, {\"name\": \"aad24fdec6b947\", \"showlegend\": false, \"x\": [100.0], \"y\": [27], \"type\": \"scatter\", \"uid\": \"a3b564c6-de23-11e8-9fbd-0088653b14b4\"}, {\"name\": \"c361d6fc97eef4\", \"showlegend\": false, \"x\": [88.47], \"y\": [30], \"type\": \"scatter\", \"uid\": \"a3b565a8-de23-11e8-85f1-0088653b14b4\"}, {\"name\": \"efe1c623c0e5a7\", \"showlegend\": false, \"x\": [78.1], \"y\": [29], \"type\": \"scatter\", \"uid\": \"a3b56690-de23-11e8-8069-0088653b14b4\"}, {\"name\": \"2cb0357f18085c\", \"showlegend\": false, \"x\": [184.0], \"y\": [26], \"type\": \"scatter\", \"uid\": \"a3b5676c-de23-11e8-ab56-0088653b14b4\"}, {\"name\": \"a1684dae8ad08d\", \"showlegend\": false, \"x\": [775.3], \"y\": [49], \"type\": \"scatter\", \"uid\": \"a3b5685c-de23-11e8-9b47-0088653b14b4\"}, {\"name\": \"40e9befe509d37\", \"showlegend\": false, \"x\": [568.2], \"y\": [26], \"type\": \"scatter\", \"uid\": \"a3b56938-de23-11e8-803b-0088653b14b4\"}, {\"name\": \"29978d30ded1a3\", \"showlegend\": false, \"x\": [0.0], \"y\": [84], \"type\": \"scatter\", \"uid\": \"a3b56a1e-de23-11e8-9ffe-0088653b14b4\"}, {\"name\": \"fbc2e7ba29b6bc\", \"showlegend\": false, \"x\": [23.69], \"y\": [48], \"type\": \"scatter\", \"uid\": \"a3b56b06-de23-11e8-8844-0088653b14b4\"}, {\"name\": \"baebf0c9bc42e7\", \"showlegend\": false, \"x\": [0.0], \"y\": [27], \"type\": \"scatter\", \"uid\": \"a3b56be8-de23-11e8-a6af-0088653b14b4\"}, {\"name\": \"701ac07ac0cf58\", \"showlegend\": false, \"x\": [129.0], \"y\": [28], \"type\": \"scatter\", \"uid\": \"a3b56cc6-de23-11e8-8e12-0088653b14b4\"}, {\"name\": \"1b5a191a7aefd4\", \"showlegend\": false, \"x\": [132.3], \"y\": [29], \"type\": \"scatter\", \"uid\": \"a3b56dac-de23-11e8-a5f6-0088653b14b4\"}, {\"name\": \"e6b30d1a0e29a6\", \"showlegend\": false, \"x\": [100.0], \"y\": [27], \"type\": \"scatter\", \"uid\": \"a3b56e92-de23-11e8-a3d8-0088653b14b4\"}, {\"name\": \"a9eea2023e085f\", \"showlegend\": false, \"x\": [341.6], \"y\": [30], \"type\": \"scatter\", \"uid\": \"a3b56f78-de23-11e8-af8f-0088653b14b4\"}, {\"name\": \"d0d78176ceb2bd\", \"showlegend\": false, \"x\": [0.0], \"y\": [49], \"type\": \"scatter\", \"uid\": \"a3b57054-de23-11e8-8508-0088653b14b4\"}, {\"name\": \"95192ad5bce7c5\", \"showlegend\": false, \"x\": [0.0], \"y\": [49], \"type\": \"scatter\", \"uid\": \"a3b5713a-de23-11e8-a8da-0088653b14b4\"}, {\"name\": \"f04d5c4b72ded9\", \"showlegend\": false, \"x\": [0.0], \"y\": [32], \"type\": \"scatter\", \"uid\": \"a3b5721e-de23-11e8-b1dc-0088653b14b4\"}, {\"name\": \"65e4f95e18fb1e\", \"showlegend\": false, \"x\": [213.6], \"y\": [47], \"type\": \"scatter\", \"uid\": \"a3b57306-de23-11e8-80f9-0088653b14b4\"}, {\"name\": \"9e24eea23a427f\", \"showlegend\": false, \"x\": [0.0], \"y\": [93], \"type\": \"scatter\", \"uid\": \"a3b573f6-de23-11e8-84ba-0088653b14b4\"}, {\"name\": \"870e0267d8b3b9\", \"showlegend\": false, \"x\": [59.52], \"y\": [27], \"type\": \"scatter\", \"uid\": \"a3b574dc-de23-11e8-a706-0088653b14b4\"}, {\"name\": \"ebb121de46fd04\", \"showlegend\": false, \"x\": [109.0], \"y\": [98], \"type\": \"scatter\", \"uid\": \"a3b575c2-de23-11e8-8369-0088653b14b4\"}, {\"name\": \"4121678a2ae9ea\", \"showlegend\": false, \"x\": [157.1], \"y\": [26], \"type\": \"scatter\", \"uid\": \"a3b576a8-de23-11e8-9e63-0088653b14b4\"}, {\"name\": \"07b8a8b0a5eb75\", \"showlegend\": false, \"x\": [371.0], \"y\": [95], \"type\": \"scatter\", \"uid\": \"a3b5778c-de23-11e8-b56e-0088653b14b4\"}, {\"name\": \"b4997080fb7f47\", \"showlegend\": false, \"x\": [0.0], \"y\": [50], \"type\": \"scatter\", \"uid\": \"a3b57874-de23-11e8-b025-0088653b14b4\"}, {\"name\": \"e3829d83dd60c4\", \"showlegend\": false, \"x\": [321.7], \"y\": [29], \"type\": \"scatter\", \"uid\": \"a3b57950-de23-11e8-8278-0088653b14b4\"}, {\"name\": \"a5951717635082\", \"showlegend\": false, \"x\": [341.9], \"y\": [50], \"type\": \"scatter\", \"uid\": \"a3b57a36-de23-11e8-910c-0088653b14b4\"}, {\"name\": \"115fef38c26a43\", \"showlegend\": false, \"x\": [0.0], \"y\": [47], \"type\": \"scatter\", \"uid\": \"a3b57b12-de23-11e8-8391-0088653b14b4\"}, {\"name\": \"d90e0228f3d308\", \"showlegend\": false, \"x\": [301.6], \"y\": [27], \"type\": \"scatter\", \"uid\": \"a3b57bf8-de23-11e8-9e09-0088653b14b4\"}, {\"name\": \"58ab6fcfd4870c\", \"showlegend\": false, \"x\": [142.3], \"y\": [31], \"type\": \"scatter\", \"uid\": \"a3b57cde-de23-11e8-aaba-0088653b14b4\"}, {\"name\": \"8049f7e6cbb4a6\", \"showlegend\": false, \"x\": [207.4], \"y\": [25], \"type\": \"scatter\", \"uid\": \"a3b57dc6-de23-11e8-a920-0088653b14b4\"}, {\"name\": \"834b71906c30ff\", \"showlegend\": false, \"x\": [25.18], \"y\": [93], \"type\": \"scatter\", \"uid\": \"a3b57ea8-de23-11e8-a8a0-0088653b14b4\"}, {\"name\": \"143b372ed63a03\", \"showlegend\": false, \"x\": [144.1], \"y\": [29], \"type\": \"scatter\", \"uid\": \"a3b57f90-de23-11e8-8ffc-0088653b14b4\"}, {\"name\": \"82a1ab087e745d\", \"showlegend\": false, \"x\": [58.48], \"y\": [49], \"type\": \"scatter\", \"uid\": \"a3b5806c-de23-11e8-aff2-0088653b14b4\"}, {\"name\": \"84f4ea82a063dc\", \"showlegend\": false, \"x\": [20.4], \"y\": [47], \"type\": \"scatter\", \"uid\": \"a3b5815c-de23-11e8-ac53-0088653b14b4\"}, {\"name\": \"2575537c9fac80\", \"showlegend\": false, \"x\": [90.72], \"y\": [48], \"type\": \"scatter\", \"uid\": \"a3b58238-de23-11e8-b494-0088653b14b4\"}, {\"name\": \"7b4431c29154f3\", \"showlegend\": false, \"x\": [100.0], \"y\": [92], \"type\": \"scatter\", \"uid\": \"a3b58328-de23-11e8-ac4b-0088653b14b4\"}, {\"name\": \"0999bef42cf4a8\", \"showlegend\": false, \"x\": [19.49], \"y\": [98], \"type\": \"scatter\", \"uid\": \"a3b58454-de23-11e8-841b-0088653b14b4\"}, {\"name\": \"52400ccda268f0\", \"showlegend\": false, \"x\": [111.2], \"y\": [25], \"type\": \"scatter\", \"uid\": \"a3b58546-de23-11e8-a3d4-0088653b14b4\"}, {\"name\": \"dc4fcdd925bced\", \"showlegend\": false, \"x\": [130.2], \"y\": [46], \"type\": \"scatter\", \"uid\": \"a3b5861e-de23-11e8-bc7c-0088653b14b4\"}, {\"name\": \"4c2342ae281ee5\", \"showlegend\": false, \"x\": [148.5], \"y\": [32], \"type\": \"scatter\", \"uid\": \"a3b58706-de23-11e8-9814-0088653b14b4\"}, {\"name\": \"20a8339cb24c4e\", \"showlegend\": false, \"x\": [0.0], \"y\": [25], \"type\": \"scatter\", \"uid\": \"a3b587ec-de23-11e8-bbcb-0088653b14b4\"}, {\"name\": \"1f6195c0925825\", \"showlegend\": false, \"x\": [0.0], \"y\": [26], \"type\": \"scatter\", \"uid\": \"a3b588d2-de23-11e8-b35a-0088653b14b4\"}, {\"name\": \"e00eac4aa98bc1\", \"showlegend\": false, \"x\": [0.0], \"y\": [27], \"type\": \"scatter\", \"uid\": \"a3b589ae-de23-11e8-aa99-0088653b14b4\"}, {\"name\": \"84c5432c78a9e3\", \"showlegend\": false, \"x\": [348.2], \"y\": [29], \"type\": \"scatter\", \"uid\": \"a3b58a94-de23-11e8-8c81-0088653b14b4\"}, {\"name\": \"c42f658c6df113\", \"showlegend\": false, \"x\": [28.45], \"y\": [27], \"type\": \"scatter\", \"uid\": \"a3b58b7a-de23-11e8-a3c7-0088653b14b4\"}, {\"name\": \"14769ced48e07f\", \"showlegend\": false, \"x\": [0.0], \"y\": [28], \"type\": \"scatter\", \"uid\": \"a3b58c62-de23-11e8-a31b-0088653b14b4\"}, {\"name\": \"f46b051c09b4fe\", \"showlegend\": false, \"x\": [50.08], \"y\": [49], \"type\": \"scatter\", \"uid\": \"a3b58d46-de23-11e8-b3ea-0088653b14b4\"}, {\"name\": \"feba34a6d1dd9c\", \"showlegend\": false, \"x\": [0.0], \"y\": [31], \"type\": \"scatter\", \"uid\": \"a3b58e2c-de23-11e8-b879-0088653b14b4\"}, {\"name\": \"f35088f2f4fd89\", \"showlegend\": false, \"x\": [28.21], \"y\": [50], \"type\": \"scatter\", \"uid\": \"a3b58f08-de23-11e8-9c3c-0088653b14b4\"}, {\"name\": \"7eea7f1083f343\", \"showlegend\": false, \"x\": [0.0], \"y\": [49], \"type\": \"scatter\", \"uid\": \"a3b58fee-de23-11e8-aeda-0088653b14b4\"}, {\"name\": \"950702f916c5ae\", \"showlegend\": false, \"x\": [146.3], \"y\": [16], \"type\": \"scatter\", \"uid\": \"a3b590d4-de23-11e8-97cf-0088653b14b4\"}, {\"name\": \"d5c7bf7d814d6a\", \"showlegend\": false, \"x\": [0.0], \"y\": [27], \"type\": \"scatter\", \"uid\": \"a3b591ba-de23-11e8-92cc-0088653b14b4\"}, {\"name\": \"cf6039a4ea552d\", \"showlegend\": false, \"x\": [44.16], \"y\": [25], \"type\": \"scatter\", \"uid\": \"a3b59298-de23-11e8-a8a7-0088653b14b4\"}, {\"name\": \"8abbde7094aa8b\", \"showlegend\": false, \"x\": [100.0], \"y\": [27], \"type\": \"scatter\", \"uid\": \"a3b5937a-de23-11e8-9dec-0088653b14b4\"}, {\"name\": \"283497905dfff6\", \"showlegend\": false, \"x\": [0.0], \"y\": [92], \"type\": \"scatter\", \"uid\": \"a3b59462-de23-11e8-af98-0088653b14b4\"}, {\"name\": \"d8dbb217b3cc6f\", \"showlegend\": false, \"x\": [0.0], \"y\": [97], \"type\": \"scatter\", \"uid\": \"a3b59548-de23-11e8-8380-0088653b14b4\"}, {\"name\": \"15f6cba693a708\", \"showlegend\": false, \"x\": [62.77], \"y\": [28], \"type\": \"scatter\", \"uid\": \"a3b59624-de23-11e8-8824-0088653b14b4\"}, {\"name\": \"21257a5820a6f3\", \"showlegend\": false, \"x\": [26.46], \"y\": [29], \"type\": \"scatter\", \"uid\": \"a3b59714-de23-11e8-ab9e-0088653b14b4\"}, {\"name\": \"d6feb50c1c1274\", \"showlegend\": false, \"x\": [480.1], \"y\": [49], \"type\": \"scatter\", \"uid\": \"a3b597fa-de23-11e8-b456-0088653b14b4\"}, {\"name\": \"16c784c966aad4\", \"showlegend\": false, \"x\": [295.6], \"y\": [27], \"type\": \"scatter\", \"uid\": \"a3b598d8-de23-11e8-9c4e-0088653b14b4\"}, {\"name\": \"1d6511a5d41227\", \"showlegend\": false, \"x\": [129.0], \"y\": [50], \"type\": \"scatter\", \"uid\": \"a3b599b4-de23-11e8-b1de-0088653b14b4\"}, {\"name\": \"7e686fd6b87a0d\", \"showlegend\": false, \"x\": [112.6], \"y\": [92], \"type\": \"scatter\", \"uid\": \"a3b59a98-de23-11e8-b747-0088653b14b4\"}, {\"name\": \"9fbebf8afd46f2\", \"showlegend\": false, \"x\": [0.0], \"y\": [30], \"type\": \"scatter\", \"uid\": \"a3b59b7e-de23-11e8-9d7c-0088653b14b4\"}, {\"name\": \"e0dbd2ce5a5e4f\", \"showlegend\": false, \"x\": [26.0], \"y\": [48], \"type\": \"scatter\", \"uid\": \"a3b59c5a-de23-11e8-805e-0088653b14b4\"}, {\"name\": \"4b1cf9fcd16e60\", \"showlegend\": false, \"x\": [0.0], \"y\": [27], \"type\": \"scatter\", \"uid\": \"a3b59d40-de23-11e8-a2c5-0088653b14b4\"}, {\"name\": \"48763efdc9d268\", \"showlegend\": false, \"x\": [72.77], \"y\": [49], \"type\": \"scatter\", \"uid\": \"a3b59e26-de23-11e8-acfc-0088653b14b4\"}, {\"name\": \"b1c4733e57abe9\", \"showlegend\": false, \"x\": [0.0], \"y\": [19], \"type\": \"scatter\", \"uid\": \"a3b59f02-de23-11e8-9339-0088653b14b4\"}, {\"name\": \"1d950319260b76\", \"showlegend\": false, \"x\": [65.0], \"y\": [29], \"type\": \"scatter\", \"uid\": \"a3b59ff4-de23-11e8-8376-0088653b14b4\"}, {\"name\": \"2f213673ad189e\", \"showlegend\": false, \"x\": [434.6], \"y\": [30], \"type\": \"scatter\", \"uid\": \"a3b5a0cc-de23-11e8-9e29-0088653b14b4\"}, {\"name\": \"ee185a28870815\", \"showlegend\": false, \"x\": [28.6], \"y\": [28], \"type\": \"scatter\", \"uid\": \"a3b5a1b4-de23-11e8-8475-0088653b14b4\"}, {\"name\": \"3a0ad360b95d38\", \"showlegend\": false, \"x\": [140.6], \"y\": [30], \"type\": \"scatter\", \"uid\": \"a3b5a29a-de23-11e8-8f17-0088653b14b4\"}, {\"name\": \"de39036cfbfbf6\", \"showlegend\": false, \"x\": [97.63], \"y\": [27], \"type\": \"scatter\", \"uid\": \"a3b5a380-de23-11e8-b616-0088653b14b4\"}, {\"name\": \"970d0dc8ce4c6d\", \"showlegend\": false, \"x\": [67.42], \"y\": [29], \"type\": \"scatter\", \"uid\": \"a3b5a45c-de23-11e8-8acd-0088653b14b4\"}, {\"name\": \"2ec40c7eba38a5\", \"showlegend\": false, \"x\": [49.14], \"y\": [98], \"type\": \"scatter\", \"uid\": \"a3b5a542-de23-11e8-8fa5-0088653b14b4\"}, {\"name\": \"0773ab690644e6\", \"showlegend\": false, \"x\": [128.4], \"y\": [29], \"type\": \"scatter\", \"uid\": \"a3b5a61e-de23-11e8-ba2c-0088653b14b4\"}, {\"name\": \"9220136190bade\", \"showlegend\": false, \"x\": [161.5], \"y\": [28], \"type\": \"scatter\", \"uid\": \"a3b5a6fa-de23-11e8-a77d-0088653b14b4\"}, {\"name\": \"60193d9d90b707\", \"showlegend\": false, \"x\": [0.0], \"y\": [48], \"type\": \"scatter\", \"uid\": \"a3b5a7d8-de23-11e8-9979-0088653b14b4\"}, {\"name\": \"7deccbdf5d5ae5\", \"showlegend\": false, \"x\": [196.0], \"y\": [94], \"type\": \"scatter\", \"uid\": \"a3b5a8b4-de23-11e8-818a-0088653b14b4\"}, {\"name\": \"ba46eeacc14563\", \"showlegend\": false, \"x\": [0.0], \"y\": [26], \"type\": \"scatter\", \"uid\": \"a3b5a98c-de23-11e8-b1d8-0088653b14b4\"}], {\"legend\": {\"orientation\": \"h\"}, \"title\": \"Killing is Winning?\", \"xaxis\": {\"title\": \"Damage (Higher is Better)\"}, \"yaxis\": {\"title\": \"Rank (Lower is Better)\"}}, {\"showLink\": true, \"linkText\": \"Export to plot.ly\"})});</script>"
      ]
     },
     "metadata": {},
     "output_type": "display_data"
    }
   ],
   "source": [
    "#I want to see the relationship between maxPlace, the true ranking from 1-100, with damageDealt.\n",
    "#In other words, do you get better ranking if you deal more damage, and logically, by getting in fights?\n",
    "data = []\n",
    "for asset in np.random.choice(PG_train['Id'].unique(), 200):\n",
    "    asset_df = PG_train[(PG_train['Id'] == asset)]\n",
    "\n",
    "    data.append(go.Scatter(\n",
    "        x = asset_df['damageDealt'].values,\n",
    "        y = asset_df['maxPlace'].values,\n",
    "        name = asset,\n",
    "        showlegend=False\n",
    "    ))\n",
    "layout = go.Layout(dict(title = \"Killing is Winning?\",\n",
    "                  xaxis = dict(title = 'Damage (Higher is Better)'),\n",
    "                  yaxis = dict(title = 'Rank (Lower is Better)'),\n",
    "                  ),legend=dict(\n",
    "                orientation=\"h\"))\n",
    "py.iplot(dict(data=data, layout=layout), filename='basic-line')"
   ]
  }
 ],
 "metadata": {
  "kernelspec": {
   "display_name": "Python [conda env:anaconda3]",
   "language": "python",
   "name": "conda-env-anaconda3-py"
  },
  "language_info": {
   "codemirror_mode": {
    "name": "ipython",
    "version": 3
   },
   "file_extension": ".py",
   "mimetype": "text/x-python",
   "name": "python",
   "nbconvert_exporter": "python",
   "pygments_lexer": "ipython3",
   "version": "3.6.6"
  }
 },
 "nbformat": 4,
 "nbformat_minor": 2
}
