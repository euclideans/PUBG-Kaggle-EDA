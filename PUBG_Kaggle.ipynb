{
 "cells": [
  {
   "cell_type": "code",
   "execution_count": 1,
   "metadata": {},
   "outputs": [],
   "source": [
    "import numpy as np\n",
    "import pandas as pd\n",
    "import matplotlib.pyplot as plt\n",
    "import seaborn as sns\n",
    "%matplotlib inline"
   ]
  },
  {
   "cell_type": "code",
   "execution_count": 2,
   "metadata": {},
   "outputs": [],
   "source": [
    "import datetime\n",
    "from scipy import stats\n",
    "from scipy.sparse import hstack, csr_matrix\n",
    "from sklearn.model_selection import train_test_split\n",
    "from collections import Counter\n",
    "from nltk.corpus import stopwords\n",
    "from nltk.util import ngrams\n",
    "from sklearn.feature_extraction.text import TfidfVectorizer\n",
    "from sklearn.preprocessing import StandardScaler"
   ]
  },
  {
   "cell_type": "code",
   "execution_count": 3,
   "metadata": {},
   "outputs": [
    {
     "data": {
      "text/html": [
       "<script>requirejs.config({paths: { 'plotly': ['https://cdn.plot.ly/plotly-latest.min']},});if(!window.Plotly) {{require(['plotly'],function(plotly) {window.Plotly=plotly;});}}</script>"
      ],
      "text/vnd.plotly.v1+html": [
       "<script>requirejs.config({paths: { 'plotly': ['https://cdn.plot.ly/plotly-latest.min']},});if(!window.Plotly) {{require(['plotly'],function(plotly) {window.Plotly=plotly;});}}</script>"
      ]
     },
     "metadata": {},
     "output_type": "display_data"
    }
   ],
   "source": [
    "import plotly.offline as py\n",
    "py.init_notebook_mode(connected=True)\n",
    "import plotly.graph_objs as go\n",
    "import plotly.tools as tls"
   ]
  },
  {
   "cell_type": "code",
   "execution_count": 4,
   "metadata": {},
   "outputs": [],
   "source": [
    "from sklearn import model_selection\n",
    "from sklearn.metrics import accuracy_score"
   ]
  },
  {
   "cell_type": "code",
   "execution_count": 5,
   "metadata": {},
   "outputs": [],
   "source": [
    "#import training data\n",
    "PG_train = pd.read_csv(\"train_V2.csv\")"
   ]
  },
  {
   "cell_type": "code",
   "execution_count": 6,
   "metadata": {},
   "outputs": [
    {
     "name": "stdout",
     "output_type": "stream",
     "text": [
      "There are 4446966 samples and 29 features in the training PUBG V2 dataset.\n"
     ]
    }
   ],
   "source": [
    "print(f'There are {PG_train.shape[0]} samples and {PG_train.shape[1]} features in the training PUBG V2 dataset.')"
   ]
  },
  {
   "cell_type": "code",
   "execution_count": 7,
   "metadata": {},
   "outputs": [
    {
     "data": {
      "text/html": [
       "<div>\n",
       "<style scoped>\n",
       "    .dataframe tbody tr th:only-of-type {\n",
       "        vertical-align: middle;\n",
       "    }\n",
       "\n",
       "    .dataframe tbody tr th {\n",
       "        vertical-align: top;\n",
       "    }\n",
       "\n",
       "    .dataframe thead th {\n",
       "        text-align: right;\n",
       "    }\n",
       "</style>\n",
       "<table border=\"1\" class=\"dataframe\">\n",
       "  <thead>\n",
       "    <tr style=\"text-align: right;\">\n",
       "      <th></th>\n",
       "      <th>Id</th>\n",
       "      <th>groupId</th>\n",
       "      <th>matchId</th>\n",
       "      <th>assists</th>\n",
       "      <th>boosts</th>\n",
       "      <th>damageDealt</th>\n",
       "      <th>DBNOs</th>\n",
       "      <th>headshotKills</th>\n",
       "      <th>heals</th>\n",
       "      <th>killPlace</th>\n",
       "      <th>killPoints</th>\n",
       "      <th>kills</th>\n",
       "      <th>killStreaks</th>\n",
       "      <th>longestKill</th>\n",
       "      <th>matchDuration</th>\n",
       "      <th>matchType</th>\n",
       "      <th>maxPlace</th>\n",
       "      <th>numGroups</th>\n",
       "      <th>rankPoints</th>\n",
       "      <th>revives</th>\n",
       "      <th>rideDistance</th>\n",
       "      <th>roadKills</th>\n",
       "      <th>swimDistance</th>\n",
       "      <th>teamKills</th>\n",
       "      <th>vehicleDestroys</th>\n",
       "      <th>walkDistance</th>\n",
       "      <th>weaponsAcquired</th>\n",
       "      <th>winPoints</th>\n",
       "      <th>winPlacePerc</th>\n",
       "    </tr>\n",
       "  </thead>\n",
       "  <tbody>\n",
       "    <tr>\n",
       "      <th>0</th>\n",
       "      <td>7f96b2f878858a</td>\n",
       "      <td>4d4b580de459be</td>\n",
       "      <td>a10357fd1a4a91</td>\n",
       "      <td>0</td>\n",
       "      <td>0</td>\n",
       "      <td>0.00</td>\n",
       "      <td>0</td>\n",
       "      <td>0</td>\n",
       "      <td>0</td>\n",
       "      <td>60</td>\n",
       "      <td>1241</td>\n",
       "      <td>0</td>\n",
       "      <td>0</td>\n",
       "      <td>0.00</td>\n",
       "      <td>1306</td>\n",
       "      <td>squad-fpp</td>\n",
       "      <td>28</td>\n",
       "      <td>26</td>\n",
       "      <td>-1</td>\n",
       "      <td>0</td>\n",
       "      <td>0.0000</td>\n",
       "      <td>0</td>\n",
       "      <td>0.00</td>\n",
       "      <td>0</td>\n",
       "      <td>0</td>\n",
       "      <td>244.80</td>\n",
       "      <td>1</td>\n",
       "      <td>1466</td>\n",
       "      <td>0.4444</td>\n",
       "    </tr>\n",
       "    <tr>\n",
       "      <th>1</th>\n",
       "      <td>eef90569b9d03c</td>\n",
       "      <td>684d5656442f9e</td>\n",
       "      <td>aeb375fc57110c</td>\n",
       "      <td>0</td>\n",
       "      <td>0</td>\n",
       "      <td>91.47</td>\n",
       "      <td>0</td>\n",
       "      <td>0</td>\n",
       "      <td>0</td>\n",
       "      <td>57</td>\n",
       "      <td>0</td>\n",
       "      <td>0</td>\n",
       "      <td>0</td>\n",
       "      <td>0.00</td>\n",
       "      <td>1777</td>\n",
       "      <td>squad-fpp</td>\n",
       "      <td>26</td>\n",
       "      <td>25</td>\n",
       "      <td>1484</td>\n",
       "      <td>0</td>\n",
       "      <td>0.0045</td>\n",
       "      <td>0</td>\n",
       "      <td>11.04</td>\n",
       "      <td>0</td>\n",
       "      <td>0</td>\n",
       "      <td>1434.00</td>\n",
       "      <td>5</td>\n",
       "      <td>0</td>\n",
       "      <td>0.6400</td>\n",
       "    </tr>\n",
       "    <tr>\n",
       "      <th>2</th>\n",
       "      <td>1eaf90ac73de72</td>\n",
       "      <td>6a4a42c3245a74</td>\n",
       "      <td>110163d8bb94ae</td>\n",
       "      <td>1</td>\n",
       "      <td>0</td>\n",
       "      <td>68.00</td>\n",
       "      <td>0</td>\n",
       "      <td>0</td>\n",
       "      <td>0</td>\n",
       "      <td>47</td>\n",
       "      <td>0</td>\n",
       "      <td>0</td>\n",
       "      <td>0</td>\n",
       "      <td>0.00</td>\n",
       "      <td>1318</td>\n",
       "      <td>duo</td>\n",
       "      <td>50</td>\n",
       "      <td>47</td>\n",
       "      <td>1491</td>\n",
       "      <td>0</td>\n",
       "      <td>0.0000</td>\n",
       "      <td>0</td>\n",
       "      <td>0.00</td>\n",
       "      <td>0</td>\n",
       "      <td>0</td>\n",
       "      <td>161.80</td>\n",
       "      <td>2</td>\n",
       "      <td>0</td>\n",
       "      <td>0.7755</td>\n",
       "    </tr>\n",
       "    <tr>\n",
       "      <th>3</th>\n",
       "      <td>4616d365dd2853</td>\n",
       "      <td>a930a9c79cd721</td>\n",
       "      <td>f1f1f4ef412d7e</td>\n",
       "      <td>0</td>\n",
       "      <td>0</td>\n",
       "      <td>32.90</td>\n",
       "      <td>0</td>\n",
       "      <td>0</td>\n",
       "      <td>0</td>\n",
       "      <td>75</td>\n",
       "      <td>0</td>\n",
       "      <td>0</td>\n",
       "      <td>0</td>\n",
       "      <td>0.00</td>\n",
       "      <td>1436</td>\n",
       "      <td>squad-fpp</td>\n",
       "      <td>31</td>\n",
       "      <td>30</td>\n",
       "      <td>1408</td>\n",
       "      <td>0</td>\n",
       "      <td>0.0000</td>\n",
       "      <td>0</td>\n",
       "      <td>0.00</td>\n",
       "      <td>0</td>\n",
       "      <td>0</td>\n",
       "      <td>202.70</td>\n",
       "      <td>3</td>\n",
       "      <td>0</td>\n",
       "      <td>0.1667</td>\n",
       "    </tr>\n",
       "    <tr>\n",
       "      <th>4</th>\n",
       "      <td>315c96c26c9aac</td>\n",
       "      <td>de04010b3458dd</td>\n",
       "      <td>6dc8ff871e21e6</td>\n",
       "      <td>0</td>\n",
       "      <td>0</td>\n",
       "      <td>100.00</td>\n",
       "      <td>0</td>\n",
       "      <td>0</td>\n",
       "      <td>0</td>\n",
       "      <td>45</td>\n",
       "      <td>0</td>\n",
       "      <td>1</td>\n",
       "      <td>1</td>\n",
       "      <td>58.53</td>\n",
       "      <td>1424</td>\n",
       "      <td>solo-fpp</td>\n",
       "      <td>97</td>\n",
       "      <td>95</td>\n",
       "      <td>1560</td>\n",
       "      <td>0</td>\n",
       "      <td>0.0000</td>\n",
       "      <td>0</td>\n",
       "      <td>0.00</td>\n",
       "      <td>0</td>\n",
       "      <td>0</td>\n",
       "      <td>49.75</td>\n",
       "      <td>2</td>\n",
       "      <td>0</td>\n",
       "      <td>0.1875</td>\n",
       "    </tr>\n",
       "  </tbody>\n",
       "</table>\n",
       "</div>"
      ],
      "text/plain": [
       "               Id         groupId         matchId  assists  boosts  \\\n",
       "0  7f96b2f878858a  4d4b580de459be  a10357fd1a4a91        0       0   \n",
       "1  eef90569b9d03c  684d5656442f9e  aeb375fc57110c        0       0   \n",
       "2  1eaf90ac73de72  6a4a42c3245a74  110163d8bb94ae        1       0   \n",
       "3  4616d365dd2853  a930a9c79cd721  f1f1f4ef412d7e        0       0   \n",
       "4  315c96c26c9aac  de04010b3458dd  6dc8ff871e21e6        0       0   \n",
       "\n",
       "   damageDealt  DBNOs  headshotKills  heals  killPlace  killPoints  kills  \\\n",
       "0         0.00      0              0      0         60        1241      0   \n",
       "1        91.47      0              0      0         57           0      0   \n",
       "2        68.00      0              0      0         47           0      0   \n",
       "3        32.90      0              0      0         75           0      0   \n",
       "4       100.00      0              0      0         45           0      1   \n",
       "\n",
       "   killStreaks  longestKill  matchDuration  matchType  maxPlace  numGroups  \\\n",
       "0            0         0.00           1306  squad-fpp        28         26   \n",
       "1            0         0.00           1777  squad-fpp        26         25   \n",
       "2            0         0.00           1318        duo        50         47   \n",
       "3            0         0.00           1436  squad-fpp        31         30   \n",
       "4            1        58.53           1424   solo-fpp        97         95   \n",
       "\n",
       "   rankPoints  revives  rideDistance  roadKills  swimDistance  teamKills  \\\n",
       "0          -1        0        0.0000          0          0.00          0   \n",
       "1        1484        0        0.0045          0         11.04          0   \n",
       "2        1491        0        0.0000          0          0.00          0   \n",
       "3        1408        0        0.0000          0          0.00          0   \n",
       "4        1560        0        0.0000          0          0.00          0   \n",
       "\n",
       "   vehicleDestroys  walkDistance  weaponsAcquired  winPoints  winPlacePerc  \n",
       "0                0        244.80                1       1466        0.4444  \n",
       "1                0       1434.00                5          0        0.6400  \n",
       "2                0        161.80                2          0        0.7755  \n",
       "3                0        202.70                3          0        0.1667  \n",
       "4                0         49.75                2          0        0.1875  "
      ]
     },
     "execution_count": 7,
     "metadata": {},
     "output_type": "execute_result"
    }
   ],
   "source": [
    "pd.set_option('display.max_columns', None)\n",
    "PG_train.head()"
   ]
  },
  {
   "cell_type": "code",
   "execution_count": 8,
   "metadata": {},
   "outputs": [
    {
     "data": {
      "application/vnd.plotly.v1+json": {
       "data": [
        {
         "name": "4b87b8f6a1dcec",
         "showlegend": false,
         "type": "scatter",
         "uid": "eb5b5150-e079-11e8-9f2f-0088653b14b4",
         "x": [
          281.4
         ],
         "y": [
          28
         ]
        },
        {
         "name": "2dcef512ff5544",
         "showlegend": false,
         "type": "scatter",
         "uid": "eb61023a-e079-11e8-a2a1-0088653b14b4",
         "x": [
          12.36
         ],
         "y": [
          46
         ]
        },
        {
         "name": "0a0acffb0c078d",
         "showlegend": false,
         "type": "scatter",
         "uid": "eb6108e8-e079-11e8-8cca-0088653b14b4",
         "x": [
          100
         ],
         "y": [
          25
         ]
        },
        {
         "name": "e1758495d13cd5",
         "showlegend": false,
         "type": "scatter",
         "uid": "eb610cc6-e079-11e8-9478-0088653b14b4",
         "x": [
          89.67
         ],
         "y": [
          27
         ]
        },
        {
         "name": "551b73fb9d1a90",
         "showlegend": false,
         "type": "scatter",
         "uid": "eb61109a-e079-11e8-be7e-0088653b14b4",
         "x": [
          100
         ],
         "y": [
          26
         ]
        },
        {
         "name": "7f50d523aabda8",
         "showlegend": false,
         "type": "scatter",
         "uid": "eb61140a-e079-11e8-9845-0088653b14b4",
         "x": [
          0
         ],
         "y": [
          27
         ]
        },
        {
         "name": "5a75eaed6c9201",
         "showlegend": false,
         "type": "scatter",
         "uid": "eb611770-e079-11e8-8a8f-0088653b14b4",
         "x": [
          56.05
         ],
         "y": [
          30
         ]
        },
        {
         "name": "175745994b6eb3",
         "showlegend": false,
         "type": "scatter",
         "uid": "eb611b4c-e079-11e8-ba57-0088653b14b4",
         "x": [
          49.47
         ],
         "y": [
          29
         ]
        },
        {
         "name": "2aff557cf3dd4f",
         "showlegend": false,
         "type": "scatter",
         "uid": "eb611edc-e079-11e8-8f04-0088653b14b4",
         "x": [
          0
         ],
         "y": [
          25
         ]
        },
        {
         "name": "f92440e9777b5b",
         "showlegend": false,
         "type": "scatter",
         "uid": "eb612242-e079-11e8-acb1-0088653b14b4",
         "x": [
          57.33
         ],
         "y": [
          27
         ]
        },
        {
         "name": "0363e700105010",
         "showlegend": false,
         "type": "scatter",
         "uid": "eb6125da-e079-11e8-ba1a-0088653b14b4",
         "x": [
          0
         ],
         "y": [
          28
         ]
        },
        {
         "name": "0cf13018dde551",
         "showlegend": false,
         "type": "scatter",
         "uid": "eb612922-e079-11e8-84c0-0088653b14b4",
         "x": [
          224
         ],
         "y": [
          28
         ]
        },
        {
         "name": "a75b580c217611",
         "showlegend": false,
         "type": "scatter",
         "uid": "eb612c7e-e079-11e8-b083-0088653b14b4",
         "x": [
          85.36
         ],
         "y": [
          48
         ]
        },
        {
         "name": "4943a178a6b7b9",
         "showlegend": false,
         "type": "scatter",
         "uid": "eb613034-e079-11e8-9aaa-0088653b14b4",
         "x": [
          160.8
         ],
         "y": [
          26
         ]
        },
        {
         "name": "c2577efa1dc6a0",
         "showlegend": false,
         "type": "scatter",
         "uid": "eb6133ae-e079-11e8-bc18-0088653b14b4",
         "x": [
          278
         ],
         "y": [
          46
         ]
        },
        {
         "name": "e5aa88e1b872fb",
         "showlegend": false,
         "type": "scatter",
         "uid": "eb6136cc-e079-11e8-b8ea-0088653b14b4",
         "x": [
          254.2
         ],
         "y": [
          26
         ]
        },
        {
         "name": "52342505fc8a10",
         "showlegend": false,
         "type": "scatter",
         "uid": "eb613a66-e079-11e8-b59d-0088653b14b4",
         "x": [
          545.2
         ],
         "y": [
          30
         ]
        },
        {
         "name": "eb07a985f88e8b",
         "showlegend": false,
         "type": "scatter",
         "uid": "eb613dd8-e079-11e8-86e2-0088653b14b4",
         "x": [
          38.69
         ],
         "y": [
          22
         ]
        },
        {
         "name": "ec5b5170a2a855",
         "showlegend": false,
         "type": "scatter",
         "uid": "eb614128-e079-11e8-9c9b-0088653b14b4",
         "x": [
          1529
         ],
         "y": [
          26
         ]
        },
        {
         "name": "01e24dc00dd2ea",
         "showlegend": false,
         "type": "scatter",
         "uid": "eb6144e8-e079-11e8-aaeb-0088653b14b4",
         "x": [
          0
         ],
         "y": [
          28
         ]
        },
        {
         "name": "f4f79ad2e55785",
         "showlegend": false,
         "type": "scatter",
         "uid": "eb614830-e079-11e8-a545-0088653b14b4",
         "x": [
          135.6
         ],
         "y": [
          28
         ]
        },
        {
         "name": "18fd0965ef84d2",
         "showlegend": false,
         "type": "scatter",
         "uid": "eb614c0c-e079-11e8-b7c3-0088653b14b4",
         "x": [
          424.7
         ],
         "y": [
          31
         ]
        },
        {
         "name": "a816afee122b9d",
         "showlegend": false,
         "type": "scatter",
         "uid": "eb614f2e-e079-11e8-a96b-0088653b14b4",
         "x": [
          183.1
         ],
         "y": [
          30
         ]
        },
        {
         "name": "5a99426339ed58",
         "showlegend": false,
         "type": "scatter",
         "uid": "eb6151fe-e079-11e8-b19d-0088653b14b4",
         "x": [
          0
         ],
         "y": [
          28
         ]
        },
        {
         "name": "86c2a23b545dc1",
         "showlegend": false,
         "type": "scatter",
         "uid": "eb61549c-e079-11e8-8974-0088653b14b4",
         "x": [
          0
         ],
         "y": [
          28
         ]
        },
        {
         "name": "44c460a126fde2",
         "showlegend": false,
         "type": "scatter",
         "uid": "eb6157d0-e079-11e8-9dcf-0088653b14b4",
         "x": [
          47.06
         ],
         "y": [
          29
         ]
        },
        {
         "name": "4e9ec93803015e",
         "showlegend": false,
         "type": "scatter",
         "uid": "eb615ab4-e079-11e8-9569-0088653b14b4",
         "x": [
          0
         ],
         "y": [
          50
         ]
        },
        {
         "name": "2f41fe99ff9b14",
         "showlegend": false,
         "type": "scatter",
         "uid": "eb615d70-e079-11e8-84e4-0088653b14b4",
         "x": [
          0
         ],
         "y": [
          30
         ]
        },
        {
         "name": "f6bf4ffd74686f",
         "showlegend": false,
         "type": "scatter",
         "uid": "eb616086-e079-11e8-ac4f-0088653b14b4",
         "x": [
          1241
         ],
         "y": [
          28
         ]
        },
        {
         "name": "8e6f1e105cfac4",
         "showlegend": false,
         "type": "scatter",
         "uid": "eb616342-e079-11e8-99d2-0088653b14b4",
         "x": [
          0
         ],
         "y": [
          27
         ]
        },
        {
         "name": "00974ef59fc0ad",
         "showlegend": false,
         "type": "scatter",
         "uid": "eb61661c-e079-11e8-af3a-0088653b14b4",
         "x": [
          55.28
         ],
         "y": [
          29
         ]
        },
        {
         "name": "c5445d7a0639dc",
         "showlegend": false,
         "type": "scatter",
         "uid": "eb61690a-e079-11e8-b245-0088653b14b4",
         "x": [
          11.4
         ],
         "y": [
          48
         ]
        },
        {
         "name": "523b6376673f94",
         "showlegend": false,
         "type": "scatter",
         "uid": "eb616bda-e079-11e8-963c-0088653b14b4",
         "x": [
          141.8
         ],
         "y": [
          46
         ]
        },
        {
         "name": "1f31cb159435e4",
         "showlegend": false,
         "type": "scatter",
         "uid": "eb616edc-e079-11e8-86d6-0088653b14b4",
         "x": [
          0
         ],
         "y": [
          96
         ]
        },
        {
         "name": "2c4293d2939209",
         "showlegend": false,
         "type": "scatter",
         "uid": "eb61718c-e079-11e8-bff0-0088653b14b4",
         "x": [
          175.7
         ],
         "y": [
          28
         ]
        },
        {
         "name": "cf376ab88a3b24",
         "showlegend": false,
         "type": "scatter",
         "uid": "eb61744a-e079-11e8-b8dc-0088653b14b4",
         "x": [
          183.5
         ],
         "y": [
          25
         ]
        },
        {
         "name": "84eac1cb775301",
         "showlegend": false,
         "type": "scatter",
         "uid": "eb617742-e079-11e8-964c-0088653b14b4",
         "x": [
          16.67
         ],
         "y": [
          31
         ]
        },
        {
         "name": "a842c1e8803054",
         "showlegend": false,
         "type": "scatter",
         "uid": "eb617a26-e079-11e8-9afb-0088653b14b4",
         "x": [
          380
         ],
         "y": [
          49
         ]
        },
        {
         "name": "0fe937afc3a7e0",
         "showlegend": false,
         "type": "scatter",
         "uid": "eb617d5a-e079-11e8-8009-0088653b14b4",
         "x": [
          121.8
         ],
         "y": [
          27
         ]
        },
        {
         "name": "ccf7a3ee91f8cb",
         "showlegend": false,
         "type": "scatter",
         "uid": "eb61808c-e079-11e8-9118-0088653b14b4",
         "x": [
          191.3
         ],
         "y": [
          30
         ]
        },
        {
         "name": "303c479050cef5",
         "showlegend": false,
         "type": "scatter",
         "uid": "eb618340-e079-11e8-a61e-0088653b14b4",
         "x": [
          60.24
         ],
         "y": [
          48
         ]
        },
        {
         "name": "fcea3e1a06f98b",
         "showlegend": false,
         "type": "scatter",
         "uid": "eb61861a-e079-11e8-affa-0088653b14b4",
         "x": [
          254.5
         ],
         "y": [
          29
         ]
        },
        {
         "name": "7b726f6f7d791c",
         "showlegend": false,
         "type": "scatter",
         "uid": "eb618912-e079-11e8-900b-0088653b14b4",
         "x": [
          0
         ],
         "y": [
          27
         ]
        },
        {
         "name": "6db4813e0d7066",
         "showlegend": false,
         "type": "scatter",
         "uid": "eb618bec-e079-11e8-9203-0088653b14b4",
         "x": [
          196.7
         ],
         "y": [
          96
         ]
        },
        {
         "name": "3ec3279e9b927c",
         "showlegend": false,
         "type": "scatter",
         "uid": "eb618e9e-e079-11e8-a5ec-0088653b14b4",
         "x": [
          0
         ],
         "y": [
          29
         ]
        },
        {
         "name": "048ec44339d9d0",
         "showlegend": false,
         "type": "scatter",
         "uid": "eb61918c-e079-11e8-b5ee-0088653b14b4",
         "x": [
          263.4
         ],
         "y": [
          96
         ]
        },
        {
         "name": "38142ab6215116",
         "showlegend": false,
         "type": "scatter",
         "uid": "eb619466-e079-11e8-83f4-0088653b14b4",
         "x": [
          234.7
         ],
         "y": [
          49
         ]
        },
        {
         "name": "2b3dc1e3abf391",
         "showlegend": false,
         "type": "scatter",
         "uid": "eb61972c-e079-11e8-a5f7-0088653b14b4",
         "x": [
          24.06
         ],
         "y": [
          96
         ]
        },
        {
         "name": "01e859fece4578",
         "showlegend": false,
         "type": "scatter",
         "uid": "eb619a10-e079-11e8-859a-0088653b14b4",
         "x": [
          0
         ],
         "y": [
          49
         ]
        },
        {
         "name": "7fb0c688db0e56",
         "showlegend": false,
         "type": "scatter",
         "uid": "eb619cc2-e079-11e8-b977-0088653b14b4",
         "x": [
          1.144
         ],
         "y": [
          27
         ]
        },
        {
         "name": "3bec2ca04be4b3",
         "showlegend": false,
         "type": "scatter",
         "uid": "eb619f9c-e079-11e8-a3d9-0088653b14b4",
         "x": [
          204
         ],
         "y": [
          92
         ]
        },
        {
         "name": "b0886daa473862",
         "showlegend": false,
         "type": "scatter",
         "uid": "eb61a2c6-e079-11e8-930f-0088653b14b4",
         "x": [
          126.5
         ],
         "y": [
          27
         ]
        },
        {
         "name": "62b57395e42916",
         "showlegend": false,
         "type": "scatter",
         "uid": "eb61a59e-e079-11e8-8b4c-0088653b14b4",
         "x": [
          125.8
         ],
         "y": [
          30
         ]
        },
        {
         "name": "d632f91ecdf9c6",
         "showlegend": false,
         "type": "scatter",
         "uid": "eb61a848-e079-11e8-a7eb-0088653b14b4",
         "x": [
          141.7
         ],
         "y": [
          27
         ]
        },
        {
         "name": "8de7d1b041967f",
         "showlegend": false,
         "type": "scatter",
         "uid": "eb61ab2c-e079-11e8-b07b-0088653b14b4",
         "x": [
          74.82
         ],
         "y": [
          27
         ]
        },
        {
         "name": "5dd533f25f4a06",
         "showlegend": false,
         "type": "scatter",
         "uid": "eb61ae4c-e079-11e8-afa6-0088653b14b4",
         "x": [
          571.8
         ],
         "y": [
          29
         ]
        },
        {
         "name": "33826b9438ef60",
         "showlegend": false,
         "type": "scatter",
         "uid": "eb61b0c2-e079-11e8-8daf-0088653b14b4",
         "x": [
          0
         ],
         "y": [
          99
         ]
        },
        {
         "name": "4d7ef41f0db33d",
         "showlegend": false,
         "type": "scatter",
         "uid": "eb61b25c-e079-11e8-abfb-0088653b14b4",
         "x": [
          178
         ],
         "y": [
          46
         ]
        },
        {
         "name": "b0b70cc9912170",
         "showlegend": false,
         "type": "scatter",
         "uid": "eb61b3d8-e079-11e8-8397-0088653b14b4",
         "x": [
          0
         ],
         "y": [
          28
         ]
        },
        {
         "name": "772e3051e62c84",
         "showlegend": false,
         "type": "scatter",
         "uid": "eb61b54a-e079-11e8-8931-0088653b14b4",
         "x": [
          47.73
         ],
         "y": [
          47
         ]
        },
        {
         "name": "80510a1821b703",
         "showlegend": false,
         "type": "scatter",
         "uid": "eb61b6ee-e079-11e8-a5f4-0088653b14b4",
         "x": [
          75
         ],
         "y": [
          89
         ]
        },
        {
         "name": "e86d3854712e5d",
         "showlegend": false,
         "type": "scatter",
         "uid": "eb61b87e-e079-11e8-a171-0088653b14b4",
         "x": [
          0
         ],
         "y": [
          97
         ]
        },
        {
         "name": "26bffb25819883",
         "showlegend": false,
         "type": "scatter",
         "uid": "eb61ba0c-e079-11e8-86bc-0088653b14b4",
         "x": [
          293.9
         ],
         "y": [
          30
         ]
        },
        {
         "name": "14c52072dc95b0",
         "showlegend": false,
         "type": "scatter",
         "uid": "eb61bbb4-e079-11e8-afbc-0088653b14b4",
         "x": [
          282.2
         ],
         "y": [
          27
         ]
        },
        {
         "name": "4af21d8303a48c",
         "showlegend": false,
         "type": "scatter",
         "uid": "eb61bd4c-e079-11e8-a15f-0088653b14b4",
         "x": [
          234.3
         ],
         "y": [
          28
         ]
        },
        {
         "name": "8706ed5ac75875",
         "showlegend": false,
         "type": "scatter",
         "uid": "eb61bed2-e079-11e8-aceb-0088653b14b4",
         "x": [
          496.5
         ],
         "y": [
          30
         ]
        },
        {
         "name": "b5231bf6f5347e",
         "showlegend": false,
         "type": "scatter",
         "uid": "eb61c080-e079-11e8-8642-0088653b14b4",
         "x": [
          209
         ],
         "y": [
          49
         ]
        },
        {
         "name": "fc8aa91152ba47",
         "showlegend": false,
         "type": "scatter",
         "uid": "eb61c210-e079-11e8-b86d-0088653b14b4",
         "x": [
          0
         ],
         "y": [
          96
         ]
        },
        {
         "name": "0a2ad1d508759d",
         "showlegend": false,
         "type": "scatter",
         "uid": "eb61c382-e079-11e8-b3e6-0088653b14b4",
         "x": [
          40.04
         ],
         "y": [
          26
         ]
        },
        {
         "name": "1f9dfabf68f6b9",
         "showlegend": false,
         "type": "scatter",
         "uid": "eb61c53a-e079-11e8-9dca-0088653b14b4",
         "x": [
          56.08
         ],
         "y": [
          49
         ]
        },
        {
         "name": "80b9d68dfdab5e",
         "showlegend": false,
         "type": "scatter",
         "uid": "eb61c6c0-e079-11e8-85b6-0088653b14b4",
         "x": [
          24
         ],
         "y": [
          50
         ]
        },
        {
         "name": "3c38e04485dfdb",
         "showlegend": false,
         "type": "scatter",
         "uid": "eb61c846-e079-11e8-9fd1-0088653b14b4",
         "x": [
          0
         ],
         "y": [
          29
         ]
        },
        {
         "name": "a3313c9981f263",
         "showlegend": false,
         "type": "scatter",
         "uid": "eb61c9e8-e079-11e8-97bc-0088653b14b4",
         "x": [
          137.6
         ],
         "y": [
          28
         ]
        },
        {
         "name": "16719ce1ecf732",
         "showlegend": false,
         "type": "scatter",
         "uid": "eb61cb66-e079-11e8-9d20-0088653b14b4",
         "x": [
          94.44
         ],
         "y": [
          31
         ]
        },
        {
         "name": "265fe1a3dfdafd",
         "showlegend": false,
         "type": "scatter",
         "uid": "eb61cce2-e079-11e8-9807-0088653b14b4",
         "x": [
          540.6
         ],
         "y": [
          29
         ]
        },
        {
         "name": "a3119aa27d2bc3",
         "showlegend": false,
         "type": "scatter",
         "uid": "eb61ce9a-e079-11e8-b5bc-0088653b14b4",
         "x": [
          110.4
         ],
         "y": [
          97
         ]
        },
        {
         "name": "de377ca882a858",
         "showlegend": false,
         "type": "scatter",
         "uid": "eb61d028-e079-11e8-9fa1-0088653b14b4",
         "x": [
          221.5
         ],
         "y": [
          48
         ]
        },
        {
         "name": "7538c5b1a9a00f",
         "showlegend": false,
         "type": "scatter",
         "uid": "eb61d1ba-e079-11e8-b0af-0088653b14b4",
         "x": [
          342.9
         ],
         "y": [
          49
         ]
        },
        {
         "name": "e4aeadf82574d2",
         "showlegend": false,
         "type": "scatter",
         "uid": "eb61d354-e079-11e8-b3e3-0088653b14b4",
         "x": [
          100
         ],
         "y": [
          26
         ]
        },
        {
         "name": "4d27286ace118c",
         "showlegend": false,
         "type": "scatter",
         "uid": "eb61d4e4-e079-11e8-aba4-0088653b14b4",
         "x": [
          0
         ],
         "y": [
          97
         ]
        },
        {
         "name": "1f55b0afe0e668",
         "showlegend": false,
         "type": "scatter",
         "uid": "eb61d662-e079-11e8-9997-0088653b14b4",
         "x": [
          81.34
         ],
         "y": [
          30
         ]
        },
        {
         "name": "ff18d4a30944fa",
         "showlegend": false,
         "type": "scatter",
         "uid": "eb61d818-e079-11e8-9cc2-0088653b14b4",
         "x": [
          200
         ],
         "y": [
          97
         ]
        },
        {
         "name": "356c81223dfb4f",
         "showlegend": false,
         "type": "scatter",
         "uid": "eb61d994-e079-11e8-a08e-0088653b14b4",
         "x": [
          472.9
         ],
         "y": [
          26
         ]
        },
        {
         "name": "7980dd4324ed33",
         "showlegend": false,
         "type": "scatter",
         "uid": "eb61db06-e079-11e8-9a19-0088653b14b4",
         "x": [
          100
         ],
         "y": [
          97
         ]
        },
        {
         "name": "d05f6d15f57031",
         "showlegend": false,
         "type": "scatter",
         "uid": "eb61dce6-e079-11e8-afb6-0088653b14b4",
         "x": [
          87.92
         ],
         "y": [
          47
         ]
        },
        {
         "name": "9270323d93a107",
         "showlegend": false,
         "type": "scatter",
         "uid": "eb61de76-e079-11e8-b5ba-0088653b14b4",
         "x": [
          25.8
         ],
         "y": [
          47
         ]
        },
        {
         "name": "ff9041a245b491",
         "showlegend": false,
         "type": "scatter",
         "uid": "eb61e01a-e079-11e8-ac21-0088653b14b4",
         "x": [
          129
         ],
         "y": [
          44
         ]
        },
        {
         "name": "9343ad9b5617f5",
         "showlegend": false,
         "type": "scatter",
         "uid": "eb61e1a8-e079-11e8-ab19-0088653b14b4",
         "x": [
          524.9
         ],
         "y": [
          28
         ]
        },
        {
         "name": "aab4242f07d20b",
         "showlegend": false,
         "type": "scatter",
         "uid": "eb61e330-e079-11e8-b727-0088653b14b4",
         "x": [
          627.7
         ],
         "y": [
          99
         ]
        },
        {
         "name": "3c180f80b37192",
         "showlegend": false,
         "type": "scatter",
         "uid": "eb61e4ca-e079-11e8-bded-0088653b14b4",
         "x": [
          219.3
         ],
         "y": [
          30
         ]
        },
        {
         "name": "c73c81bc33192c",
         "showlegend": false,
         "type": "scatter",
         "uid": "eb61e678-e079-11e8-84e1-0088653b14b4",
         "x": [
          162.1
         ],
         "y": [
          26
         ]
        },
        {
         "name": "2b2a9c64aa189f",
         "showlegend": false,
         "type": "scatter",
         "uid": "eb61e808-e079-11e8-af73-0088653b14b4",
         "x": [
          151.5
         ],
         "y": [
          29
         ]
        },
        {
         "name": "7655cc2f40973e",
         "showlegend": false,
         "type": "scatter",
         "uid": "eb61e998-e079-11e8-a6cf-0088653b14b4",
         "x": [
          177.1
         ],
         "y": [
          28
         ]
        },
        {
         "name": "8799562b8766a0",
         "showlegend": false,
         "type": "scatter",
         "uid": "eb61eb28-e079-11e8-bd99-0088653b14b4",
         "x": [
          0
         ],
         "y": [
          46
         ]
        },
        {
         "name": "da32e418e75b2c",
         "showlegend": false,
         "type": "scatter",
         "uid": "eb61ecae-e079-11e8-b74f-0088653b14b4",
         "x": [
          100
         ],
         "y": [
          95
         ]
        },
        {
         "name": "2c4b30c4cc3c9b",
         "showlegend": false,
         "type": "scatter",
         "uid": "eb61ee52-e079-11e8-a4f3-0088653b14b4",
         "x": [
          121.3
         ],
         "y": [
          30
         ]
        },
        {
         "name": "ebf29cbc3adffb",
         "showlegend": false,
         "type": "scatter",
         "uid": "eb61efcc-e079-11e8-908e-0088653b14b4",
         "x": [
          202.8
         ],
         "y": [
          27
         ]
        },
        {
         "name": "c52179c6ba5f9e",
         "showlegend": false,
         "type": "scatter",
         "uid": "eb61f14a-e079-11e8-89f4-0088653b14b4",
         "x": [
          81.12
         ],
         "y": [
          29
         ]
        },
        {
         "name": "7c57326a9414ed",
         "showlegend": false,
         "type": "scatter",
         "uid": "eb61f2ee-e079-11e8-9d07-0088653b14b4",
         "x": [
          286.6
         ],
         "y": [
          49
         ]
        },
        {
         "name": "580f56bee0f7df",
         "showlegend": false,
         "type": "scatter",
         "uid": "eb61f474-e079-11e8-a261-0088653b14b4",
         "x": [
          150
         ],
         "y": [
          27
         ]
        },
        {
         "name": "f18f69a454cd4a",
         "showlegend": false,
         "type": "scatter",
         "uid": "eb61f606-e079-11e8-abee-0088653b14b4",
         "x": [
          129
         ],
         "y": [
          48
         ]
        },
        {
         "name": "cb3baf15010542",
         "showlegend": false,
         "type": "scatter",
         "uid": "eb61f76c-e079-11e8-a09d-0088653b14b4",
         "x": [
          0
         ],
         "y": [
          95
         ]
        },
        {
         "name": "808390efe8a2e3",
         "showlegend": false,
         "type": "scatter",
         "uid": "eb61f91a-e079-11e8-ba23-0088653b14b4",
         "x": [
          350.4
         ],
         "y": [
          28
         ]
        },
        {
         "name": "4a565306c77c64",
         "showlegend": false,
         "type": "scatter",
         "uid": "eb61fac8-e079-11e8-820f-0088653b14b4",
         "x": [
          100
         ],
         "y": [
          27
         ]
        },
        {
         "name": "41c0cdf0819a57",
         "showlegend": false,
         "type": "scatter",
         "uid": "eb61fc4c-e079-11e8-9776-0088653b14b4",
         "x": [
          0
         ],
         "y": [
          28
         ]
        },
        {
         "name": "5d8e8200b35d94",
         "showlegend": false,
         "type": "scatter",
         "uid": "eb61fdfa-e079-11e8-b212-0088653b14b4",
         "x": [
          100
         ],
         "y": [
          96
         ]
        },
        {
         "name": "a920dc9eba0b84",
         "showlegend": false,
         "type": "scatter",
         "uid": "eb61ff6e-e079-11e8-8e18-0088653b14b4",
         "x": [
          23.22
         ],
         "y": [
          28
         ]
        },
        {
         "name": "97386dfc218cd4",
         "showlegend": false,
         "type": "scatter",
         "uid": "eb6200e8-e079-11e8-bfd3-0088653b14b4",
         "x": [
          0
         ],
         "y": [
          50
         ]
        },
        {
         "name": "c7f0ac325730a6",
         "showlegend": false,
         "type": "scatter",
         "uid": "eb6202a2-e079-11e8-8164-0088653b14b4",
         "x": [
          400
         ],
         "y": [
          97
         ]
        },
        {
         "name": "a576cfe36ee6b6",
         "showlegend": false,
         "type": "scatter",
         "uid": "eb620414-e079-11e8-a31a-0088653b14b4",
         "x": [
          311
         ],
         "y": [
          100
         ]
        },
        {
         "name": "92f80dc4250a1f",
         "showlegend": false,
         "type": "scatter",
         "uid": "eb6205a4-e079-11e8-83ea-0088653b14b4",
         "x": [
          273.6
         ],
         "y": [
          31
         ]
        },
        {
         "name": "e528d6142eb06e",
         "showlegend": false,
         "type": "scatter",
         "uid": "eb62073e-e079-11e8-9afc-0088653b14b4",
         "x": [
          0
         ],
         "y": [
          27
         ]
        },
        {
         "name": "2bf7e710c78242",
         "showlegend": false,
         "type": "scatter",
         "uid": "eb6208cc-e079-11e8-8884-0088653b14b4",
         "x": [
          100
         ],
         "y": [
          44
         ]
        },
        {
         "name": "76b1d12da337df",
         "showlegend": false,
         "type": "scatter",
         "uid": "eb620b1c-e079-11e8-a45b-0088653b14b4",
         "x": [
          0
         ],
         "y": [
          27
         ]
        },
        {
         "name": "7d4e3344646a71",
         "showlegend": false,
         "type": "scatter",
         "uid": "eb620d10-e079-11e8-ae69-0088653b14b4",
         "x": [
          38.33
         ],
         "y": [
          47
         ]
        },
        {
         "name": "a63b25ab508aca",
         "showlegend": false,
         "type": "scatter",
         "uid": "eb620e98-e079-11e8-bbc6-0088653b14b4",
         "x": [
          0
         ],
         "y": [
          29
         ]
        },
        {
         "name": "40eb1c5e9bb195",
         "showlegend": false,
         "type": "scatter",
         "uid": "eb621058-e079-11e8-9613-0088653b14b4",
         "x": [
          90.4
         ],
         "y": [
          47
         ]
        },
        {
         "name": "3308f65b9cbecc",
         "showlegend": false,
         "type": "scatter",
         "uid": "eb6211f4-e079-11e8-ba7b-0088653b14b4",
         "x": [
          0
         ],
         "y": [
          95
         ]
        },
        {
         "name": "2f9c54b262a632",
         "showlegend": false,
         "type": "scatter",
         "uid": "eb621382-e079-11e8-9212-0088653b14b4",
         "x": [
          150.7
         ],
         "y": [
          95
         ]
        },
        {
         "name": "81e8d49a52eeef",
         "showlegend": false,
         "type": "scatter",
         "uid": "eb621512-e079-11e8-8385-0088653b14b4",
         "x": [
          199.9
         ],
         "y": [
          27
         ]
        },
        {
         "name": "2ba0c8240b90cd",
         "showlegend": false,
         "type": "scatter",
         "uid": "eb62168c-e079-11e8-92ed-0088653b14b4",
         "x": [
          0
         ],
         "y": [
          98
         ]
        },
        {
         "name": "19f991ffd71df0",
         "showlegend": false,
         "type": "scatter",
         "uid": "eb62181e-e079-11e8-8c1b-0088653b14b4",
         "x": [
          543.9
         ],
         "y": [
          27
         ]
        },
        {
         "name": "7d196ceeae8c93",
         "showlegend": false,
         "type": "scatter",
         "uid": "eb6219b8-e079-11e8-a09b-0088653b14b4",
         "x": [
          916.5
         ],
         "y": [
          27
         ]
        },
        {
         "name": "bf99fa31d6a3ad",
         "showlegend": false,
         "type": "scatter",
         "uid": "eb621b48-e079-11e8-9763-0088653b14b4",
         "x": [
          100
         ],
         "y": [
          27
         ]
        },
        {
         "name": "1a5e898de1fbe0",
         "showlegend": false,
         "type": "scatter",
         "uid": "eb621cba-e079-11e8-9dda-0088653b14b4",
         "x": [
          23.18
         ],
         "y": [
          30
         ]
        },
        {
         "name": "d48325fb5904a8",
         "showlegend": false,
         "type": "scatter",
         "uid": "eb621e4a-e079-11e8-9625-0088653b14b4",
         "x": [
          100
         ],
         "y": [
          28
         ]
        },
        {
         "name": "47c7e6f48cdfd6",
         "showlegend": false,
         "type": "scatter",
         "uid": "eb621fd0-e079-11e8-9e61-0088653b14b4",
         "x": [
          57.6
         ],
         "y": [
          27
         ]
        },
        {
         "name": "69cfcf95477139",
         "showlegend": false,
         "type": "scatter",
         "uid": "eb622158-e079-11e8-8de9-0088653b14b4",
         "x": [
          618.3
         ],
         "y": [
          49
         ]
        },
        {
         "name": "c70b5f6ef5e0d2",
         "showlegend": false,
         "type": "scatter",
         "uid": "eb6222f0-e079-11e8-8d2d-0088653b14b4",
         "x": [
          0
         ],
         "y": [
          29
         ]
        },
        {
         "name": "e465fbb3a82553",
         "showlegend": false,
         "type": "scatter",
         "uid": "eb6224c6-e079-11e8-976b-0088653b14b4",
         "x": [
          100
         ],
         "y": [
          46
         ]
        },
        {
         "name": "0be8e7b306f288",
         "showlegend": false,
         "type": "scatter",
         "uid": "eb622674-e079-11e8-a52f-0088653b14b4",
         "x": [
          169
         ],
         "y": [
          47
         ]
        },
        {
         "name": "0808ee72127b20",
         "showlegend": false,
         "type": "scatter",
         "uid": "eb62280c-e079-11e8-9fba-0088653b14b4",
         "x": [
          100
         ],
         "y": [
          28
         ]
        },
        {
         "name": "f9d6fe42b243c5",
         "showlegend": false,
         "type": "scatter",
         "uid": "eb6229a8-e079-11e8-bdb1-0088653b14b4",
         "x": [
          163.5
         ],
         "y": [
          97
         ]
        },
        {
         "name": "0ef5f82c470940",
         "showlegend": false,
         "type": "scatter",
         "uid": "eb622b1a-e079-11e8-9f6e-0088653b14b4",
         "x": [
          40.19
         ],
         "y": [
          31
         ]
        },
        {
         "name": "78998bbd70e19d",
         "showlegend": false,
         "type": "scatter",
         "uid": "eb622ca8-e079-11e8-8198-0088653b14b4",
         "x": [
          81.17
         ],
         "y": [
          48
         ]
        },
        {
         "name": "88461a7af4da25",
         "showlegend": false,
         "type": "scatter",
         "uid": "eb622e30-e079-11e8-9fb3-0088653b14b4",
         "x": [
          79.93
         ],
         "y": [
          29
         ]
        },
        {
         "name": "b141cc600835bb",
         "showlegend": false,
         "type": "scatter",
         "uid": "eb622fc0-e079-11e8-94c9-0088653b14b4",
         "x": [
          401.7
         ],
         "y": [
          31
         ]
        },
        {
         "name": "3355b238001e3e",
         "showlegend": false,
         "type": "scatter",
         "uid": "eb623164-e079-11e8-abda-0088653b14b4",
         "x": [
          0
         ],
         "y": [
          25
         ]
        },
        {
         "name": "01ef9dff101fa2",
         "showlegend": false,
         "type": "scatter",
         "uid": "eb6232d8-e079-11e8-8d8f-0088653b14b4",
         "x": [
          165.1
         ],
         "y": [
          47
         ]
        },
        {
         "name": "a44adf829aa515",
         "showlegend": false,
         "type": "scatter",
         "uid": "eb623452-e079-11e8-9111-0088653b14b4",
         "x": [
          79.23
         ],
         "y": [
          95
         ]
        },
        {
         "name": "0cf57f64c814fe",
         "showlegend": false,
         "type": "scatter",
         "uid": "eb6235ec-e079-11e8-bfea-0088653b14b4",
         "x": [
          43
         ],
         "y": [
          26
         ]
        },
        {
         "name": "e72f1791b70ad2",
         "showlegend": false,
         "type": "scatter",
         "uid": "eb62377a-e079-11e8-b815-0088653b14b4",
         "x": [
          99.6
         ],
         "y": [
          30
         ]
        },
        {
         "name": "fd2f7ec771c7a9",
         "showlegend": false,
         "type": "scatter",
         "uid": "eb62391e-e079-11e8-a441-0088653b14b4",
         "x": [
          29.4
         ],
         "y": [
          92
         ]
        },
        {
         "name": "ffd5db38a920fe",
         "showlegend": false,
         "type": "scatter",
         "uid": "eb623ac6-e079-11e8-9a2b-0088653b14b4",
         "x": [
          393.6
         ],
         "y": [
          47
         ]
        },
        {
         "name": "64f932d2b6d6ca",
         "showlegend": false,
         "type": "scatter",
         "uid": "eb623c36-e079-11e8-8f50-0088653b14b4",
         "x": [
          0
         ],
         "y": [
          94
         ]
        },
        {
         "name": "2f0383ea56b413",
         "showlegend": false,
         "type": "scatter",
         "uid": "eb623dba-e079-11e8-a04e-0088653b14b4",
         "x": [
          22.88
         ],
         "y": [
          28
         ]
        },
        {
         "name": "5571a7f75c755f",
         "showlegend": false,
         "type": "scatter",
         "uid": "eb623f68-e079-11e8-a193-0088653b14b4",
         "x": [
          611.1
         ],
         "y": [
          47
         ]
        },
        {
         "name": "d3448bfc892204",
         "showlegend": false,
         "type": "scatter",
         "uid": "eb6240f0-e079-11e8-984d-0088653b14b4",
         "x": [
          48.09
         ],
         "y": [
          31
         ]
        },
        {
         "name": "166483334cf699",
         "showlegend": false,
         "type": "scatter",
         "uid": "eb624258-e079-11e8-b981-0088653b14b4",
         "x": [
          0
         ],
         "y": [
          27
         ]
        },
        {
         "name": "c7ad36bcb0b8b2",
         "showlegend": false,
         "type": "scatter",
         "uid": "eb6243fa-e079-11e8-b6d2-0088653b14b4",
         "x": [
          66.22
         ],
         "y": [
          46
         ]
        },
        {
         "name": "6931fd12763180",
         "showlegend": false,
         "type": "scatter",
         "uid": "eb624582-e079-11e8-a373-0088653b14b4",
         "x": [
          399.7
         ],
         "y": [
          97
         ]
        },
        {
         "name": "83d340181ce0b9",
         "showlegend": false,
         "type": "scatter",
         "uid": "eb624708-e079-11e8-aceb-0088653b14b4",
         "x": [
          0
         ],
         "y": [
          28
         ]
        },
        {
         "name": "974c73e4a70aff",
         "showlegend": false,
         "type": "scatter",
         "uid": "eb6248b6-e079-11e8-9283-0088653b14b4",
         "x": [
          0
         ],
         "y": [
          29
         ]
        },
        {
         "name": "ddf028309ba2ad",
         "showlegend": false,
         "type": "scatter",
         "uid": "eb624a28-e079-11e8-950e-0088653b14b4",
         "x": [
          155.7
         ],
         "y": [
          31
         ]
        },
        {
         "name": "88a3259d42a7e2",
         "showlegend": false,
         "type": "scatter",
         "uid": "eb624b9a-e079-11e8-b9f3-0088653b14b4",
         "x": [
          40.7
         ],
         "y": [
          49
         ]
        },
        {
         "name": "9a25fcd61102eb",
         "showlegend": false,
         "type": "scatter",
         "uid": "eb624d66-e079-11e8-93e1-0088653b14b4",
         "x": [
          760.9
         ],
         "y": [
          31
         ]
        },
        {
         "name": "7b8e7f2ba407bc",
         "showlegend": false,
         "type": "scatter",
         "uid": "eb624eec-e079-11e8-80ee-0088653b14b4",
         "x": [
          0
         ],
         "y": [
          98
         ]
        },
        {
         "name": "542240416bdf61",
         "showlegend": false,
         "type": "scatter",
         "uid": "eb62505e-e079-11e8-835d-0088653b14b4",
         "x": [
          530.1
         ],
         "y": [
          27
         ]
        },
        {
         "name": "2f1f939199b0fc",
         "showlegend": false,
         "type": "scatter",
         "uid": "eb62520c-e079-11e8-8112-0088653b14b4",
         "x": [
          19.35
         ],
         "y": [
          27
         ]
        },
        {
         "name": "31c42da9014ef1",
         "showlegend": false,
         "type": "scatter",
         "uid": "eb625392-e079-11e8-817a-0088653b14b4",
         "x": [
          100
         ],
         "y": [
          28
         ]
        },
        {
         "name": "73bd6cd5bb7d90",
         "showlegend": false,
         "type": "scatter",
         "uid": "eb625518-e079-11e8-9370-0088653b14b4",
         "x": [
          86.6
         ],
         "y": [
          97
         ]
        },
        {
         "name": "3c1f86f7294372",
         "showlegend": false,
         "type": "scatter",
         "uid": "eb6256c6-e079-11e8-8abe-0088653b14b4",
         "x": [
          60.06
         ],
         "y": [
          29
         ]
        },
        {
         "name": "3bdf4bf59971e6",
         "showlegend": false,
         "type": "scatter",
         "uid": "eb625842-e079-11e8-9fe0-0088653b14b4",
         "x": [
          0.1761
         ],
         "y": [
          46
         ]
        },
        {
         "name": "ddd1aad9a0e938",
         "showlegend": false,
         "type": "scatter",
         "uid": "eb6259b4-e079-11e8-9d2c-0088653b14b4",
         "x": [
          0
         ],
         "y": [
          50
         ]
        },
        {
         "name": "4d51fb9c9b1949",
         "showlegend": false,
         "type": "scatter",
         "uid": "eb625b62-e079-11e8-96f6-0088653b14b4",
         "x": [
          731.9
         ],
         "y": [
          29
         ]
        },
        {
         "name": "16dbecc06a578e",
         "showlegend": false,
         "type": "scatter",
         "uid": "eb625ce8-e079-11e8-9045-0088653b14b4",
         "x": [
          401.4
         ],
         "y": [
          31
         ]
        },
        {
         "name": "cbd57c9dd0f453",
         "showlegend": false,
         "type": "scatter",
         "uid": "eb625fc2-e079-11e8-98ad-0088653b14b4",
         "x": [
          101.2
         ],
         "y": [
          27
         ]
        },
        {
         "name": "82ca7406e2a7fc",
         "showlegend": false,
         "type": "scatter",
         "uid": "eb62615c-e079-11e8-b575-0088653b14b4",
         "x": [
          200.4
         ],
         "y": [
          48
         ]
        },
        {
         "name": "132138ffe4aee0",
         "showlegend": false,
         "type": "scatter",
         "uid": "eb6262f6-e079-11e8-b522-0088653b14b4",
         "x": [
          51.45
         ],
         "y": [
          50
         ]
        },
        {
         "name": "8f963f11451108",
         "showlegend": false,
         "type": "scatter",
         "uid": "eb626490-e079-11e8-985d-0088653b14b4",
         "x": [
          141.9
         ],
         "y": [
          28
         ]
        },
        {
         "name": "dd7018a7a16055",
         "showlegend": false,
         "type": "scatter",
         "uid": "eb626618-e079-11e8-89a7-0088653b14b4",
         "x": [
          355.3
         ],
         "y": [
          46
         ]
        },
        {
         "name": "fed4bec7210afa",
         "showlegend": false,
         "type": "scatter",
         "uid": "eb6267a6-e079-11e8-a422-0088653b14b4",
         "x": [
          100
         ],
         "y": [
          50
         ]
        },
        {
         "name": "ed50d30065ece3",
         "showlegend": false,
         "type": "scatter",
         "uid": "eb626936-e079-11e8-9148-0088653b14b4",
         "x": [
          0
         ],
         "y": [
          98
         ]
        },
        {
         "name": "687d3300c66bf9",
         "showlegend": false,
         "type": "scatter",
         "uid": "eb626b66-e079-11e8-bff9-0088653b14b4",
         "x": [
          63.2
         ],
         "y": [
          27
         ]
        },
        {
         "name": "fe8bd1a63a35c2",
         "showlegend": false,
         "type": "scatter",
         "uid": "eb626d50-e079-11e8-90f2-0088653b14b4",
         "x": [
          28.2
         ],
         "y": [
          97
         ]
        },
        {
         "name": "c6c30574618de1",
         "showlegend": false,
         "type": "scatter",
         "uid": "eb626ef4-e079-11e8-a3cf-0088653b14b4",
         "x": [
          0
         ],
         "y": [
          32
         ]
        },
        {
         "name": "bb347964d4df75",
         "showlegend": false,
         "type": "scatter",
         "uid": "eb6270ac-e079-11e8-aca2-0088653b14b4",
         "x": [
          417
         ],
         "y": [
          28
         ]
        },
        {
         "name": "3520375da3d852",
         "showlegend": false,
         "type": "scatter",
         "uid": "eb627228-e079-11e8-b606-0088653b14b4",
         "x": [
          216.4
         ],
         "y": [
          27
         ]
        },
        {
         "name": "9cd9ee21f27795",
         "showlegend": false,
         "type": "scatter",
         "uid": "eb6273ae-e079-11e8-9e2c-0088653b14b4",
         "x": [
          0
         ],
         "y": [
          29
         ]
        },
        {
         "name": "0e507eb00975e2",
         "showlegend": false,
         "type": "scatter",
         "uid": "eb62753e-e079-11e8-91ba-0088653b14b4",
         "x": [
          669.7
         ],
         "y": [
          26
         ]
        },
        {
         "name": "7b897fa346cbea",
         "showlegend": false,
         "type": "scatter",
         "uid": "eb6276cc-e079-11e8-919f-0088653b14b4",
         "x": [
          561.2
         ],
         "y": [
          15
         ]
        },
        {
         "name": "d4328cf2ffd5a0",
         "showlegend": false,
         "type": "scatter",
         "uid": "eb6278e2-e079-11e8-a159-0088653b14b4",
         "x": [
          201.9
         ],
         "y": [
          29
         ]
        },
        {
         "name": "49c2213aa4e76f",
         "showlegend": false,
         "type": "scatter",
         "uid": "eb627a5c-e079-11e8-ae07-0088653b14b4",
         "x": [
          0
         ],
         "y": [
          28
         ]
        },
        {
         "name": "633baed0540885",
         "showlegend": false,
         "type": "scatter",
         "uid": "eb627bf6-e079-11e8-bfda-0088653b14b4",
         "x": [
          86.36
         ],
         "y": [
          93
         ]
        },
        {
         "name": "6eb8f14ea8b09e",
         "showlegend": false,
         "type": "scatter",
         "uid": "eb627d90-e079-11e8-ae90-0088653b14b4",
         "x": [
          81.9
         ],
         "y": [
          27
         ]
        },
        {
         "name": "3d3f8b06cc742f",
         "showlegend": false,
         "type": "scatter",
         "uid": "eb627f1e-e079-11e8-8438-0088653b14b4",
         "x": [
          54.18
         ],
         "y": [
          46
         ]
        },
        {
         "name": "5d3aaeff08db72",
         "showlegend": false,
         "type": "scatter",
         "uid": "eb62809c-e079-11e8-bffe-0088653b14b4",
         "x": [
          137.9
         ],
         "y": [
          49
         ]
        },
        {
         "name": "333161edb62697",
         "showlegend": false,
         "type": "scatter",
         "uid": "eb628222-e079-11e8-985d-0088653b14b4",
         "x": [
          0
         ],
         "y": [
          29
         ]
        },
        {
         "name": "41e249abd663ce",
         "showlegend": false,
         "type": "scatter",
         "uid": "eb6283b4-e079-11e8-a60b-0088653b14b4",
         "x": [
          48.51
         ],
         "y": [
          28
         ]
        },
        {
         "name": "9389afb4f6e85f",
         "showlegend": false,
         "type": "scatter",
         "uid": "eb628538-e079-11e8-b71d-0088653b14b4",
         "x": [
          63.51
         ],
         "y": [
          26
         ]
        },
        {
         "name": "b6e8c90f31a998",
         "showlegend": false,
         "type": "scatter",
         "uid": "eb6286dc-e079-11e8-a3df-0088653b14b4",
         "x": [
          180.2
         ],
         "y": [
          29
         ]
        },
        {
         "name": "928069880e8677",
         "showlegend": false,
         "type": "scatter",
         "uid": "eb628858-e079-11e8-9aea-0088653b14b4",
         "x": [
          0
         ],
         "y": [
          97
         ]
        },
        {
         "name": "52773b209ebc9b",
         "showlegend": false,
         "type": "scatter",
         "uid": "eb6289d4-e079-11e8-adae-0088653b14b4",
         "x": [
          0
         ],
         "y": [
          97
         ]
        },
        {
         "name": "05ce86879de0cd",
         "showlegend": false,
         "type": "scatter",
         "uid": "eb628b6e-e079-11e8-9763-0088653b14b4",
         "x": [
          97.87
         ],
         "y": [
          49
         ]
        },
        {
         "name": "992303ed8aba21",
         "showlegend": false,
         "type": "scatter",
         "uid": "eb628d1c-e079-11e8-bec0-0088653b14b4",
         "x": [
          191.3
         ],
         "y": [
          48
         ]
        },
        {
         "name": "5009dc198ac903",
         "showlegend": false,
         "type": "scatter",
         "uid": "eb628eac-e079-11e8-a7cc-0088653b14b4",
         "x": [
          697.3
         ],
         "y": [
          97
         ]
        },
        {
         "name": "636c579fda33c5",
         "showlegend": false,
         "type": "scatter",
         "uid": "eb629034-e079-11e8-a3a8-0088653b14b4",
         "x": [
          425.8
         ],
         "y": [
          28
         ]
        },
        {
         "name": "d9028769b40e5e",
         "showlegend": false,
         "type": "scatter",
         "uid": "eb6291b8-e079-11e8-bf1a-0088653b14b4",
         "x": [
          35.67
         ],
         "y": [
          30
         ]
        },
        {
         "name": "b842bd63b030ed",
         "showlegend": false,
         "type": "scatter",
         "uid": "eb62933e-e079-11e8-a262-0088653b14b4",
         "x": [
          100
         ],
         "y": [
          91
         ]
        },
        {
         "name": "3b605dbcc8bd6c",
         "showlegend": false,
         "type": "scatter",
         "uid": "eb6294ec-e079-11e8-8c40-0088653b14b4",
         "x": [
          331.7
         ],
         "y": [
          26
         ]
        }
       ],
       "layout": {
        "legend": {
         "orientation": "h"
        },
        "title": "Killing is Winning?",
        "xaxis": {
         "title": "Damage (Higher is Better)"
        },
        "yaxis": {
         "title": "Rank (Lower is Better)"
        }
       }
      },
      "text/html": [
       "<div id=\"7ef741b0-d864-4712-9eb5-daa5f05ad75b\" style=\"height: 525px; width: 100%;\" class=\"plotly-graph-div\"></div><script type=\"text/javascript\">require([\"plotly\"], function(Plotly) { window.PLOTLYENV=window.PLOTLYENV || {};window.PLOTLYENV.BASE_URL=\"https://plot.ly\";Plotly.newPlot(\"7ef741b0-d864-4712-9eb5-daa5f05ad75b\", [{\"name\": \"4b87b8f6a1dcec\", \"showlegend\": false, \"x\": [281.4], \"y\": [28], \"type\": \"scatter\", \"uid\": \"ebef9c3e-e079-11e8-b5ca-0088653b14b4\"}, {\"name\": \"2dcef512ff5544\", \"showlegend\": false, \"x\": [12.36], \"y\": [46], \"type\": \"scatter\", \"uid\": \"ebef9e46-e079-11e8-afd3-0088653b14b4\"}, {\"name\": \"0a0acffb0c078d\", \"showlegend\": false, \"x\": [100.0], \"y\": [25], \"type\": \"scatter\", \"uid\": \"ebef9f4a-e079-11e8-83de-0088653b14b4\"}, {\"name\": \"e1758495d13cd5\", \"showlegend\": false, \"x\": [89.67], \"y\": [27], \"type\": \"scatter\", \"uid\": \"ebefa046-e079-11e8-abb2-0088653b14b4\"}, {\"name\": \"551b73fb9d1a90\", \"showlegend\": false, \"x\": [100.0], \"y\": [26], \"type\": \"scatter\", \"uid\": \"ebefa128-e079-11e8-b423-0088653b14b4\"}, {\"name\": \"7f50d523aabda8\", \"showlegend\": false, \"x\": [0.0], \"y\": [27], \"type\": \"scatter\", \"uid\": \"ebefa210-e079-11e8-ad3f-0088653b14b4\"}, {\"name\": \"5a75eaed6c9201\", \"showlegend\": false, \"x\": [56.05], \"y\": [30], \"type\": \"scatter\", \"uid\": \"ebefa2f6-e079-11e8-85cd-0088653b14b4\"}, {\"name\": \"175745994b6eb3\", \"showlegend\": false, \"x\": [49.47], \"y\": [29], \"type\": \"scatter\", \"uid\": \"ebefa3dc-e079-11e8-a89d-0088653b14b4\"}, {\"name\": \"2aff557cf3dd4f\", \"showlegend\": false, \"x\": [0.0], \"y\": [25], \"type\": \"scatter\", \"uid\": \"ebefa4b8-e079-11e8-a339-0088653b14b4\"}, {\"name\": \"f92440e9777b5b\", \"showlegend\": false, \"x\": [57.33], \"y\": [27], \"type\": \"scatter\", \"uid\": \"ebefa59e-e079-11e8-a5ba-0088653b14b4\"}, {\"name\": \"0363e700105010\", \"showlegend\": false, \"x\": [0.0], \"y\": [28], \"type\": \"scatter\", \"uid\": \"ebefa686-e079-11e8-82cb-0088653b14b4\"}, {\"name\": \"0cf13018dde551\", \"showlegend\": false, \"x\": [224.0], \"y\": [28], \"type\": \"scatter\", \"uid\": \"ebefa906-e079-11e8-ba7b-0088653b14b4\"}, {\"name\": \"a75b580c217611\", \"showlegend\": false, \"x\": [85.36], \"y\": [48], \"type\": \"scatter\", \"uid\": \"ebefabe8-e079-11e8-8f78-0088653b14b4\"}, {\"name\": \"4943a178a6b7b9\", \"showlegend\": false, \"x\": [160.8], \"y\": [26], \"type\": \"scatter\", \"uid\": \"ebefad1e-e079-11e8-8cf7-0088653b14b4\"}, {\"name\": \"c2577efa1dc6a0\", \"showlegend\": false, \"x\": [278.0], \"y\": [46], \"type\": \"scatter\", \"uid\": \"ebefae22-e079-11e8-b6ba-0088653b14b4\"}, {\"name\": \"e5aa88e1b872fb\", \"showlegend\": false, \"x\": [254.2], \"y\": [26], \"type\": \"scatter\", \"uid\": \"ebefaf1c-e079-11e8-b5c9-0088653b14b4\"}, {\"name\": \"52342505fc8a10\", \"showlegend\": false, \"x\": [545.2], \"y\": [30], \"type\": \"scatter\", \"uid\": \"ebefb00c-e079-11e8-8242-0088653b14b4\"}, {\"name\": \"eb07a985f88e8b\", \"showlegend\": false, \"x\": [38.69], \"y\": [22], \"type\": \"scatter\", \"uid\": \"ebefb162-e079-11e8-8dd3-0088653b14b4\"}, {\"name\": \"ec5b5170a2a855\", \"showlegend\": false, \"x\": [1529.0], \"y\": [26], \"type\": \"scatter\", \"uid\": \"ebefb246-e079-11e8-88d3-0088653b14b4\"}, {\"name\": \"01e24dc00dd2ea\", \"showlegend\": false, \"x\": [0.0], \"y\": [28], \"type\": \"scatter\", \"uid\": \"ebefb32c-e079-11e8-b9db-0088653b14b4\"}, {\"name\": \"f4f79ad2e55785\", \"showlegend\": false, \"x\": [135.6], \"y\": [28], \"type\": \"scatter\", \"uid\": \"ebefb412-e079-11e8-8e86-0088653b14b4\"}, {\"name\": \"18fd0965ef84d2\", \"showlegend\": false, \"x\": [424.7], \"y\": [31], \"type\": \"scatter\", \"uid\": \"ebefb4ee-e079-11e8-8cd2-0088653b14b4\"}, {\"name\": \"a816afee122b9d\", \"showlegend\": false, \"x\": [183.1], \"y\": [30], \"type\": \"scatter\", \"uid\": \"ebefb5d4-e079-11e8-8429-0088653b14b4\"}, {\"name\": \"5a99426339ed58\", \"showlegend\": false, \"x\": [0.0], \"y\": [28], \"type\": \"scatter\", \"uid\": \"ebefb6b0-e079-11e8-a6e7-0088653b14b4\"}, {\"name\": \"86c2a23b545dc1\", \"showlegend\": false, \"x\": [0.0], \"y\": [28], \"type\": \"scatter\", \"uid\": \"ebefb7dc-e079-11e8-8f80-0088653b14b4\"}, {\"name\": \"44c460a126fde2\", \"showlegend\": false, \"x\": [47.06], \"y\": [29], \"type\": \"scatter\", \"uid\": \"ebefb8e2-e079-11e8-bd56-0088653b14b4\"}, {\"name\": \"4e9ec93803015e\", \"showlegend\": false, \"x\": [0.0], \"y\": [50], \"type\": \"scatter\", \"uid\": \"ebefb9ba-e079-11e8-a7cb-0088653b14b4\"}, {\"name\": \"2f41fe99ff9b14\", \"showlegend\": false, \"x\": [0.0], \"y\": [30], \"type\": \"scatter\", \"uid\": \"ebefbaa2-e079-11e8-b853-0088653b14b4\"}, {\"name\": \"f6bf4ffd74686f\", \"showlegend\": false, \"x\": [1241.0], \"y\": [28], \"type\": \"scatter\", \"uid\": \"ebefbb7e-e079-11e8-8e7d-0088653b14b4\"}, {\"name\": \"8e6f1e105cfac4\", \"showlegend\": false, \"x\": [0.0], \"y\": [27], \"type\": \"scatter\", \"uid\": \"ebefbc64-e079-11e8-9ad1-0088653b14b4\"}, {\"name\": \"00974ef59fc0ad\", \"showlegend\": false, \"x\": [55.28], \"y\": [29], \"type\": \"scatter\", \"uid\": \"ebefbd4a-e079-11e8-9c2e-0088653b14b4\"}, {\"name\": \"c5445d7a0639dc\", \"showlegend\": false, \"x\": [11.4], \"y\": [48], \"type\": \"scatter\", \"uid\": \"ebefbe26-e079-11e8-a62a-0088653b14b4\"}, {\"name\": \"523b6376673f94\", \"showlegend\": false, \"x\": [141.8], \"y\": [46], \"type\": \"scatter\", \"uid\": \"ebefbf0c-e079-11e8-9aba-0088653b14b4\"}, {\"name\": \"1f31cb159435e4\", \"showlegend\": false, \"x\": [0.0], \"y\": [96], \"type\": \"scatter\", \"uid\": \"ebefbfe8-e079-11e8-bf6a-0088653b14b4\"}, {\"name\": \"2c4293d2939209\", \"showlegend\": false, \"x\": [175.7], \"y\": [28], \"type\": \"scatter\", \"uid\": \"ebefc0cc-e079-11e8-947e-0088653b14b4\"}, {\"name\": \"cf376ab88a3b24\", \"showlegend\": false, \"x\": [183.5], \"y\": [25], \"type\": \"scatter\", \"uid\": \"ebefc1a8-e079-11e8-be59-0088653b14b4\"}, {\"name\": \"84eac1cb775301\", \"showlegend\": false, \"x\": [16.67], \"y\": [31], \"type\": \"scatter\", \"uid\": \"ebefc290-e079-11e8-b514-0088653b14b4\"}, {\"name\": \"a842c1e8803054\", \"showlegend\": false, \"x\": [380.0], \"y\": [49], \"type\": \"scatter\", \"uid\": \"ebefc3a8-e079-11e8-ace8-0088653b14b4\"}, {\"name\": \"0fe937afc3a7e0\", \"showlegend\": false, \"x\": [121.8], \"y\": [27], \"type\": \"scatter\", \"uid\": \"ebefc4a2-e079-11e8-90bb-0088653b14b4\"}, {\"name\": \"ccf7a3ee91f8cb\", \"showlegend\": false, \"x\": [191.3], \"y\": [30], \"type\": \"scatter\", \"uid\": \"ebefc57e-e079-11e8-99a0-0088653b14b4\"}, {\"name\": \"303c479050cef5\", \"showlegend\": false, \"x\": [60.24], \"y\": [48], \"type\": \"scatter\", \"uid\": \"ebefc664-e079-11e8-bb36-0088653b14b4\"}, {\"name\": \"fcea3e1a06f98b\", \"showlegend\": false, \"x\": [254.5], \"y\": [29], \"type\": \"scatter\", \"uid\": \"ebefc740-e079-11e8-a313-0088653b14b4\"}, {\"name\": \"7b726f6f7d791c\", \"showlegend\": false, \"x\": [0.0], \"y\": [27], \"type\": \"scatter\", \"uid\": \"ebefc826-e079-11e8-bacd-0088653b14b4\"}, {\"name\": \"6db4813e0d7066\", \"showlegend\": false, \"x\": [196.7], \"y\": [96], \"type\": \"scatter\", \"uid\": \"ebefc902-e079-11e8-88ff-0088653b14b4\"}, {\"name\": \"3ec3279e9b927c\", \"showlegend\": false, \"x\": [0.0], \"y\": [29], \"type\": \"scatter\", \"uid\": \"ebefc9e8-e079-11e8-b02c-0088653b14b4\"}, {\"name\": \"048ec44339d9d0\", \"showlegend\": false, \"x\": [263.4], \"y\": [96], \"type\": \"scatter\", \"uid\": \"ebefcac6-e079-11e8-8817-0088653b14b4\"}, {\"name\": \"38142ab6215116\", \"showlegend\": false, \"x\": [234.7], \"y\": [49], \"type\": \"scatter\", \"uid\": \"ebefcba8-e079-11e8-a3a6-0088653b14b4\"}, {\"name\": \"2b3dc1e3abf391\", \"showlegend\": false, \"x\": [24.06], \"y\": [96], \"type\": \"scatter\", \"uid\": \"ebefcc86-e079-11e8-a5bb-0088653b14b4\"}, {\"name\": \"01e859fece4578\", \"showlegend\": false, \"x\": [0.0], \"y\": [49], \"type\": \"scatter\", \"uid\": \"ebefcd6c-e079-11e8-abfe-0088653b14b4\"}, {\"name\": \"7fb0c688db0e56\", \"showlegend\": false, \"x\": [1.144], \"y\": [27], \"type\": \"scatter\", \"uid\": \"ebefce52-e079-11e8-b51e-0088653b14b4\"}, {\"name\": \"3bec2ca04be4b3\", \"showlegend\": false, \"x\": [204.0], \"y\": [92], \"type\": \"scatter\", \"uid\": \"ebefcf62-e079-11e8-bb02-0088653b14b4\"}, {\"name\": \"b0886daa473862\", \"showlegend\": false, \"x\": [126.5], \"y\": [27], \"type\": \"scatter\", \"uid\": \"ebefd05a-e079-11e8-aafc-0088653b14b4\"}, {\"name\": \"62b57395e42916\", \"showlegend\": false, \"x\": [125.8], \"y\": [30], \"type\": \"scatter\", \"uid\": \"ebefd17a-e079-11e8-aec0-0088653b14b4\"}, {\"name\": \"d632f91ecdf9c6\", \"showlegend\": false, \"x\": [141.7], \"y\": [27], \"type\": \"scatter\", \"uid\": \"ebefd262-e079-11e8-af98-0088653b14b4\"}, {\"name\": \"8de7d1b041967f\", \"showlegend\": false, \"x\": [74.82], \"y\": [27], \"type\": \"scatter\", \"uid\": \"ebefd348-e079-11e8-a26d-0088653b14b4\"}, {\"name\": \"5dd533f25f4a06\", \"showlegend\": false, \"x\": [571.8], \"y\": [29], \"type\": \"scatter\", \"uid\": \"ebefd424-e079-11e8-8484-0088653b14b4\"}, {\"name\": \"33826b9438ef60\", \"showlegend\": false, \"x\": [0.0], \"y\": [99], \"type\": \"scatter\", \"uid\": \"ebefd50a-e079-11e8-b77d-0088653b14b4\"}, {\"name\": \"4d7ef41f0db33d\", \"showlegend\": false, \"x\": [178.0], \"y\": [46], \"type\": \"scatter\", \"uid\": \"ebefd5f0-e079-11e8-b363-0088653b14b4\"}, {\"name\": \"b0b70cc9912170\", \"showlegend\": false, \"x\": [0.0], \"y\": [28], \"type\": \"scatter\", \"uid\": \"ebefd6cc-e079-11e8-b6e5-0088653b14b4\"}, {\"name\": \"772e3051e62c84\", \"showlegend\": false, \"x\": [47.73], \"y\": [47], \"type\": \"scatter\", \"uid\": \"ebefd7a8-e079-11e8-bc43-0088653b14b4\"}, {\"name\": \"80510a1821b703\", \"showlegend\": false, \"x\": [75.0], \"y\": [89], \"type\": \"scatter\", \"uid\": \"ebefd88c-e079-11e8-b791-0088653b14b4\"}, {\"name\": \"e86d3854712e5d\", \"showlegend\": false, \"x\": [0.0], \"y\": [97], \"type\": \"scatter\", \"uid\": \"ebefd968-e079-11e8-851f-0088653b14b4\"}, {\"name\": \"26bffb25819883\", \"showlegend\": false, \"x\": [293.9], \"y\": [30], \"type\": \"scatter\", \"uid\": \"ebefda50-e079-11e8-b10a-0088653b14b4\"}, {\"name\": \"14c52072dc95b0\", \"showlegend\": false, \"x\": [282.2], \"y\": [27], \"type\": \"scatter\", \"uid\": \"ebefdb68-e079-11e8-a797-0088653b14b4\"}, {\"name\": \"4af21d8303a48c\", \"showlegend\": false, \"x\": [234.3], \"y\": [28], \"type\": \"scatter\", \"uid\": \"ebefdc58-e079-11e8-b320-0088653b14b4\"}, {\"name\": \"8706ed5ac75875\", \"showlegend\": false, \"x\": [496.5], \"y\": [30], \"type\": \"scatter\", \"uid\": \"ebefdd3e-e079-11e8-83a5-0088653b14b4\"}, {\"name\": \"b5231bf6f5347e\", \"showlegend\": false, \"x\": [209.0], \"y\": [49], \"type\": \"scatter\", \"uid\": \"ebefde1a-e079-11e8-b797-0088653b14b4\"}, {\"name\": \"fc8aa91152ba47\", \"showlegend\": false, \"x\": [0.0], \"y\": [96], \"type\": \"scatter\", \"uid\": \"ebefdf00-e079-11e8-b785-0088653b14b4\"}, {\"name\": \"0a2ad1d508759d\", \"showlegend\": false, \"x\": [40.04], \"y\": [26], \"type\": \"scatter\", \"uid\": \"ebefdfdc-e079-11e8-aa2f-0088653b14b4\"}, {\"name\": \"1f9dfabf68f6b9\", \"showlegend\": false, \"x\": [56.08], \"y\": [49], \"type\": \"scatter\", \"uid\": \"ebefe0c2-e079-11e8-8820-0088653b14b4\"}, {\"name\": \"80b9d68dfdab5e\", \"showlegend\": false, \"x\": [24.0], \"y\": [50], \"type\": \"scatter\", \"uid\": \"ebefe1a8-e079-11e8-8513-0088653b14b4\"}, {\"name\": \"3c38e04485dfdb\", \"showlegend\": false, \"x\": [0.0], \"y\": [29], \"type\": \"scatter\", \"uid\": \"ebefe286-e079-11e8-a990-0088653b14b4\"}, {\"name\": \"a3313c9981f263\", \"showlegend\": false, \"x\": [137.6], \"y\": [28], \"type\": \"scatter\", \"uid\": \"ebefe368-e079-11e8-8a47-0088653b14b4\"}, {\"name\": \"16719ce1ecf732\", \"showlegend\": false, \"x\": [94.44], \"y\": [31], \"type\": \"scatter\", \"uid\": \"ebefe450-e079-11e8-9a63-0088653b14b4\"}, {\"name\": \"265fe1a3dfdafd\", \"showlegend\": false, \"x\": [540.6], \"y\": [29], \"type\": \"scatter\", \"uid\": \"ebefe52c-e079-11e8-892a-0088653b14b4\"}, {\"name\": \"a3119aa27d2bc3\", \"showlegend\": false, \"x\": [110.4], \"y\": [97], \"type\": \"scatter\", \"uid\": \"ebefe612-e079-11e8-b21e-0088653b14b4\"}, {\"name\": \"de377ca882a858\", \"showlegend\": false, \"x\": [221.5], \"y\": [48], \"type\": \"scatter\", \"uid\": \"ebefe728-e079-11e8-bbf4-0088653b14b4\"}, {\"name\": \"7538c5b1a9a00f\", \"showlegend\": false, \"x\": [342.9], \"y\": [49], \"type\": \"scatter\", \"uid\": \"ebefe824-e079-11e8-b35f-0088653b14b4\"}, {\"name\": \"e4aeadf82574d2\", \"showlegend\": false, \"x\": [100.0], \"y\": [26], \"type\": \"scatter\", \"uid\": \"ebefe900-e079-11e8-bfd4-0088653b14b4\"}, {\"name\": \"4d27286ace118c\", \"showlegend\": false, \"x\": [0.0], \"y\": [97], \"type\": \"scatter\", \"uid\": \"ebefe9e6-e079-11e8-b578-0088653b14b4\"}, {\"name\": \"1f55b0afe0e668\", \"showlegend\": false, \"x\": [81.34], \"y\": [30], \"type\": \"scatter\", \"uid\": \"ebefeac2-e079-11e8-a935-0088653b14b4\"}, {\"name\": \"ff18d4a30944fa\", \"showlegend\": false, \"x\": [200.0], \"y\": [97], \"type\": \"scatter\", \"uid\": \"ebefeb9e-e079-11e8-b084-0088653b14b4\"}, {\"name\": \"356c81223dfb4f\", \"showlegend\": false, \"x\": [472.9], \"y\": [26], \"type\": \"scatter\", \"uid\": \"ebefec86-e079-11e8-b846-0088653b14b4\"}, {\"name\": \"7980dd4324ed33\", \"showlegend\": false, \"x\": [100.0], \"y\": [97], \"type\": \"scatter\", \"uid\": \"ebefed68-e079-11e8-adcb-0088653b14b4\"}, {\"name\": \"d05f6d15f57031\", \"showlegend\": false, \"x\": [87.92], \"y\": [47], \"type\": \"scatter\", \"uid\": \"ebefee46-e079-11e8-a55d-0088653b14b4\"}, {\"name\": \"9270323d93a107\", \"showlegend\": false, \"x\": [25.8], \"y\": [47], \"type\": \"scatter\", \"uid\": \"ebefef2c-e079-11e8-b551-0088653b14b4\"}, {\"name\": \"ff9041a245b491\", \"showlegend\": false, \"x\": [129.0], \"y\": [44], \"type\": \"scatter\", \"uid\": \"ebeff008-e079-11e8-8259-0088653b14b4\"}, {\"name\": \"9343ad9b5617f5\", \"showlegend\": false, \"x\": [524.9], \"y\": [28], \"type\": \"scatter\", \"uid\": \"ebeff0e4-e079-11e8-b619-0088653b14b4\"}, {\"name\": \"aab4242f07d20b\", \"showlegend\": false, \"x\": [627.7], \"y\": [99], \"type\": \"scatter\", \"uid\": \"ebeff1ca-e079-11e8-8659-0088653b14b4\"}, {\"name\": \"3c180f80b37192\", \"showlegend\": false, \"x\": [219.3], \"y\": [30], \"type\": \"scatter\", \"uid\": \"ebeff2e2-e079-11e8-8d00-0088653b14b4\"}, {\"name\": \"c73c81bc33192c\", \"showlegend\": false, \"x\": [162.1], \"y\": [26], \"type\": \"scatter\", \"uid\": \"ebeff3d2-e079-11e8-972c-0088653b14b4\"}, {\"name\": \"2b2a9c64aa189f\", \"showlegend\": false, \"x\": [151.5], \"y\": [29], \"type\": \"scatter\", \"uid\": \"ebeff4b8-e079-11e8-939e-0088653b14b4\"}, {\"name\": \"7655cc2f40973e\", \"showlegend\": false, \"x\": [177.1], \"y\": [28], \"type\": \"scatter\", \"uid\": \"ebeff59e-e079-11e8-9875-0088653b14b4\"}, {\"name\": \"8799562b8766a0\", \"showlegend\": false, \"x\": [0.0], \"y\": [46], \"type\": \"scatter\", \"uid\": \"ebeff67a-e079-11e8-bb4a-0088653b14b4\"}, {\"name\": \"da32e418e75b2c\", \"showlegend\": false, \"x\": [100.0], \"y\": [95], \"type\": \"scatter\", \"uid\": \"ebeff762-e079-11e8-8946-0088653b14b4\"}, {\"name\": \"2c4b30c4cc3c9b\", \"showlegend\": false, \"x\": [121.3], \"y\": [30], \"type\": \"scatter\", \"uid\": \"ebeff83a-e079-11e8-b8e6-0088653b14b4\"}, {\"name\": \"ebf29cbc3adffb\", \"showlegend\": false, \"x\": [202.8], \"y\": [27], \"type\": \"scatter\", \"uid\": \"ebeff922-e079-11e8-a5a4-0088653b14b4\"}, {\"name\": \"c52179c6ba5f9e\", \"showlegend\": false, \"x\": [81.12], \"y\": [29], \"type\": \"scatter\", \"uid\": \"ebeff9fe-e079-11e8-8089-0088653b14b4\"}, {\"name\": \"7c57326a9414ed\", \"showlegend\": false, \"x\": [286.6], \"y\": [49], \"type\": \"scatter\", \"uid\": \"ebeffb28-e079-11e8-8b5b-0088653b14b4\"}, {\"name\": \"580f56bee0f7df\", \"showlegend\": false, \"x\": [150.0], \"y\": [27], \"type\": \"scatter\", \"uid\": \"ebeffc1a-e079-11e8-be98-0088653b14b4\"}, {\"name\": \"f18f69a454cd4a\", \"showlegend\": false, \"x\": [129.0], \"y\": [48], \"type\": \"scatter\", \"uid\": \"ebeffd00-e079-11e8-b5a5-0088653b14b4\"}, {\"name\": \"cb3baf15010542\", \"showlegend\": false, \"x\": [0.0], \"y\": [95], \"type\": \"scatter\", \"uid\": \"ebeffddc-e079-11e8-b027-0088653b14b4\"}, {\"name\": \"808390efe8a2e3\", \"showlegend\": false, \"x\": [350.4], \"y\": [28], \"type\": \"scatter\", \"uid\": \"ebeffef4-e079-11e8-94f1-0088653b14b4\"}, {\"name\": \"4a565306c77c64\", \"showlegend\": false, \"x\": [100.0], \"y\": [27], \"type\": \"scatter\", \"uid\": \"ebefffe4-e079-11e8-882c-0088653b14b4\"}, {\"name\": \"41c0cdf0819a57\", \"showlegend\": false, \"x\": [0.0], \"y\": [28], \"type\": \"scatter\", \"uid\": \"ebf000ca-e079-11e8-ad2a-0088653b14b4\"}, {\"name\": \"5d8e8200b35d94\", \"showlegend\": false, \"x\": [100.0], \"y\": [96], \"type\": \"scatter\", \"uid\": \"ebf001b0-e079-11e8-81e0-0088653b14b4\"}, {\"name\": \"a920dc9eba0b84\", \"showlegend\": false, \"x\": [23.22], \"y\": [28], \"type\": \"scatter\", \"uid\": \"ebf0028c-e079-11e8-aa14-0088653b14b4\"}, {\"name\": \"97386dfc218cd4\", \"showlegend\": false, \"x\": [0.0], \"y\": [50], \"type\": \"scatter\", \"uid\": \"ebf0037a-e079-11e8-bef7-0088653b14b4\"}, {\"name\": \"c7f0ac325730a6\", \"showlegend\": false, \"x\": [400.0], \"y\": [97], \"type\": \"scatter\", \"uid\": \"ebf004c6-e079-11e8-8745-0088653b14b4\"}, {\"name\": \"a576cfe36ee6b6\", \"showlegend\": false, \"x\": [311.0], \"y\": [100], \"type\": \"scatter\", \"uid\": \"ebf005ac-e079-11e8-b9bc-0088653b14b4\"}, {\"name\": \"92f80dc4250a1f\", \"showlegend\": false, \"x\": [273.6], \"y\": [31], \"type\": \"scatter\", \"uid\": \"ebf00692-e079-11e8-900a-0088653b14b4\"}, {\"name\": \"e528d6142eb06e\", \"showlegend\": false, \"x\": [0.0], \"y\": [27], \"type\": \"scatter\", \"uid\": \"ebf00778-e079-11e8-ad98-0088653b14b4\"}, {\"name\": \"2bf7e710c78242\", \"showlegend\": false, \"x\": [100.0], \"y\": [44], \"type\": \"scatter\", \"uid\": \"ebf0085e-e079-11e8-8725-0088653b14b4\"}, {\"name\": \"76b1d12da337df\", \"showlegend\": false, \"x\": [0.0], \"y\": [27], \"type\": \"scatter\", \"uid\": \"ebf00946-e079-11e8-929f-0088653b14b4\"}, {\"name\": \"7d4e3344646a71\", \"showlegend\": false, \"x\": [38.33], \"y\": [47], \"type\": \"scatter\", \"uid\": \"ebf00a28-e079-11e8-93de-0088653b14b4\"}, {\"name\": \"a63b25ab508aca\", \"showlegend\": false, \"x\": [0.0], \"y\": [29], \"type\": \"scatter\", \"uid\": \"ebf00b42-e079-11e8-b6a2-0088653b14b4\"}, {\"name\": \"40eb1c5e9bb195\", \"showlegend\": false, \"x\": [90.4], \"y\": [47], \"type\": \"scatter\", \"uid\": \"ebf00c3a-e079-11e8-b8e6-0088653b14b4\"}, {\"name\": \"3308f65b9cbecc\", \"showlegend\": false, \"x\": [0.0], \"y\": [95], \"type\": \"scatter\", \"uid\": \"ebf00d22-e079-11e8-b0a5-0088653b14b4\"}, {\"name\": \"2f9c54b262a632\", \"showlegend\": false, \"x\": [150.7], \"y\": [95], \"type\": \"scatter\", \"uid\": \"ebf00dfe-e079-11e8-b5fd-0088653b14b4\"}, {\"name\": \"81e8d49a52eeef\", \"showlegend\": false, \"x\": [199.9], \"y\": [27], \"type\": \"scatter\", \"uid\": \"ebf00eda-e079-11e8-8333-0088653b14b4\"}, {\"name\": \"2ba0c8240b90cd\", \"showlegend\": false, \"x\": [0.0], \"y\": [98], \"type\": \"scatter\", \"uid\": \"ebf00fc0-e079-11e8-ab14-0088653b14b4\"}, {\"name\": \"19f991ffd71df0\", \"showlegend\": false, \"x\": [543.9], \"y\": [27], \"type\": \"scatter\", \"uid\": \"ebf010a6-e079-11e8-8c9b-0088653b14b4\"}, {\"name\": \"7d196ceeae8c93\", \"showlegend\": false, \"x\": [916.5], \"y\": [27], \"type\": \"scatter\", \"uid\": \"ebf01182-e079-11e8-b406-0088653b14b4\"}, {\"name\": \"bf99fa31d6a3ad\", \"showlegend\": false, \"x\": [100.0], \"y\": [27], \"type\": \"scatter\", \"uid\": \"ebf01268-e079-11e8-98c5-0088653b14b4\"}, {\"name\": \"1a5e898de1fbe0\", \"showlegend\": false, \"x\": [23.18], \"y\": [30], \"type\": \"scatter\", \"uid\": \"ebf01346-e079-11e8-ab06-0088653b14b4\"}, {\"name\": \"d48325fb5904a8\", \"showlegend\": false, \"x\": [100.0], \"y\": [28], \"type\": \"scatter\", \"uid\": \"ebf01428-e079-11e8-8264-0088653b14b4\"}, {\"name\": \"47c7e6f48cdfd6\", \"showlegend\": false, \"x\": [57.6], \"y\": [27], \"type\": \"scatter\", \"uid\": \"ebf01506-e079-11e8-9630-0088653b14b4\"}, {\"name\": \"69cfcf95477139\", \"showlegend\": false, \"x\": [618.3], \"y\": [49], \"type\": \"scatter\", \"uid\": \"ebf015ec-e079-11e8-83dc-0088653b14b4\"}, {\"name\": \"c70b5f6ef5e0d2\", \"showlegend\": false, \"x\": [0.0], \"y\": [29], \"type\": \"scatter\", \"uid\": \"ebf01706-e079-11e8-84f3-0088653b14b4\"}, {\"name\": \"e465fbb3a82553\", \"showlegend\": false, \"x\": [100.0], \"y\": [46], \"type\": \"scatter\", \"uid\": \"ebf017fe-e079-11e8-bfe6-0088653b14b4\"}, {\"name\": \"0be8e7b306f288\", \"showlegend\": false, \"x\": [169.0], \"y\": [47], \"type\": \"scatter\", \"uid\": \"ebf018e4-e079-11e8-8c08-0088653b14b4\"}, {\"name\": \"0808ee72127b20\", \"showlegend\": false, \"x\": [100.0], \"y\": [28], \"type\": \"scatter\", \"uid\": \"ebf019ca-e079-11e8-924f-0088653b14b4\"}, {\"name\": \"f9d6fe42b243c5\", \"showlegend\": false, \"x\": [163.5], \"y\": [97], \"type\": \"scatter\", \"uid\": \"ebf01ab0-e079-11e8-8eed-0088653b14b4\"}, {\"name\": \"0ef5f82c470940\", \"showlegend\": false, \"x\": [40.19], \"y\": [31], \"type\": \"scatter\", \"uid\": \"ebf01b8c-e079-11e8-acf8-0088653b14b4\"}, {\"name\": \"78998bbd70e19d\", \"showlegend\": false, \"x\": [81.17], \"y\": [48], \"type\": \"scatter\", \"uid\": \"ebf01c74-e079-11e8-9fdd-0088653b14b4\"}, {\"name\": \"88461a7af4da25\", \"showlegend\": false, \"x\": [79.93], \"y\": [29], \"type\": \"scatter\", \"uid\": \"ebf01d58-e079-11e8-8acf-0088653b14b4\"}, {\"name\": \"b141cc600835bb\", \"showlegend\": false, \"x\": [401.7], \"y\": [31], \"type\": \"scatter\", \"uid\": \"ebf01e7a-e079-11e8-a897-0088653b14b4\"}, {\"name\": \"3355b238001e3e\", \"showlegend\": false, \"x\": [0.0], \"y\": [25], \"type\": \"scatter\", \"uid\": \"ebf01f9c-e079-11e8-aac1-0088653b14b4\"}, {\"name\": \"01ef9dff101fa2\", \"showlegend\": false, \"x\": [165.1], \"y\": [47], \"type\": \"scatter\", \"uid\": \"ebf02098-e079-11e8-bc75-0088653b14b4\"}, {\"name\": \"a44adf829aa515\", \"showlegend\": false, \"x\": [79.23], \"y\": [95], \"type\": \"scatter\", \"uid\": \"ebf02174-e079-11e8-8f64-0088653b14b4\"}, {\"name\": \"0cf57f64c814fe\", \"showlegend\": false, \"x\": [43.0], \"y\": [26], \"type\": \"scatter\", \"uid\": \"ebf02258-e079-11e8-bff9-0088653b14b4\"}, {\"name\": \"e72f1791b70ad2\", \"showlegend\": false, \"x\": [99.6], \"y\": [30], \"type\": \"scatter\", \"uid\": \"ebf02370-e079-11e8-bed7-0088653b14b4\"}, {\"name\": \"fd2f7ec771c7a9\", \"showlegend\": false, \"x\": [29.4], \"y\": [92], \"type\": \"scatter\", \"uid\": \"ebf02462-e079-11e8-b1ce-0088653b14b4\"}, {\"name\": \"ffd5db38a920fe\", \"showlegend\": false, \"x\": [393.6], \"y\": [47], \"type\": \"scatter\", \"uid\": \"ebf02546-e079-11e8-9cbb-0088653b14b4\"}, {\"name\": \"64f932d2b6d6ca\", \"showlegend\": false, \"x\": [0.0], \"y\": [94], \"type\": \"scatter\", \"uid\": \"ebf02668-e079-11e8-a58f-0088653b14b4\"}, {\"name\": \"2f0383ea56b413\", \"showlegend\": false, \"x\": [22.88], \"y\": [28], \"type\": \"scatter\", \"uid\": \"ebf0274c-e079-11e8-afd5-0088653b14b4\"}, {\"name\": \"5571a7f75c755f\", \"showlegend\": false, \"x\": [611.1], \"y\": [47], \"type\": \"scatter\", \"uid\": \"ebf02834-e079-11e8-932e-0088653b14b4\"}, {\"name\": \"d3448bfc892204\", \"showlegend\": false, \"x\": [48.09], \"y\": [31], \"type\": \"scatter\", \"uid\": \"ebf0291a-e079-11e8-9f3a-0088653b14b4\"}, {\"name\": \"166483334cf699\", \"showlegend\": false, \"x\": [0.0], \"y\": [27], \"type\": \"scatter\", \"uid\": \"ebf02a00-e079-11e8-9b0d-0088653b14b4\"}, {\"name\": \"c7ad36bcb0b8b2\", \"showlegend\": false, \"x\": [66.22], \"y\": [46], \"type\": \"scatter\", \"uid\": \"ebf02adc-e079-11e8-9156-0088653b14b4\"}, {\"name\": \"6931fd12763180\", \"showlegend\": false, \"x\": [399.7], \"y\": [97], \"type\": \"scatter\", \"uid\": \"ebf02bc2-e079-11e8-93fb-0088653b14b4\"}, {\"name\": \"83d340181ce0b9\", \"showlegend\": false, \"x\": [0.0], \"y\": [28], \"type\": \"scatter\", \"uid\": \"ebf02ca8-e079-11e8-a070-0088653b14b4\"}, {\"name\": \"974c73e4a70aff\", \"showlegend\": false, \"x\": [0.0], \"y\": [29], \"type\": \"scatter\", \"uid\": \"ebf02d86-e079-11e8-aee9-0088653b14b4\"}, {\"name\": \"ddf028309ba2ad\", \"showlegend\": false, \"x\": [155.7], \"y\": [31], \"type\": \"scatter\", \"uid\": \"ebf02e62-e079-11e8-bc47-0088653b14b4\"}, {\"name\": \"88a3259d42a7e2\", \"showlegend\": false, \"x\": [40.7], \"y\": [49], \"type\": \"scatter\", \"uid\": \"ebf02f78-e079-11e8-b6c4-0088653b14b4\"}, {\"name\": \"9a25fcd61102eb\", \"showlegend\": false, \"x\": [760.9], \"y\": [31], \"type\": \"scatter\", \"uid\": \"ebf03074-e079-11e8-8437-0088653b14b4\"}, {\"name\": \"7b8e7f2ba407bc\", \"showlegend\": false, \"x\": [0.0], \"y\": [98], \"type\": \"scatter\", \"uid\": \"ebf03158-e079-11e8-8c62-0088653b14b4\"}, {\"name\": \"542240416bdf61\", \"showlegend\": false, \"x\": [530.1], \"y\": [27], \"type\": \"scatter\", \"uid\": \"ebf0323e-e079-11e8-a5ad-0088653b14b4\"}, {\"name\": \"2f1f939199b0fc\", \"showlegend\": false, \"x\": [19.35], \"y\": [27], \"type\": \"scatter\", \"uid\": \"ebf03324-e079-11e8-9b58-0088653b14b4\"}, {\"name\": \"31c42da9014ef1\", \"showlegend\": false, \"x\": [100.0], \"y\": [28], \"type\": \"scatter\", \"uid\": \"ebf03400-e079-11e8-a70a-0088653b14b4\"}, {\"name\": \"73bd6cd5bb7d90\", \"showlegend\": false, \"x\": [86.6], \"y\": [97], \"type\": \"scatter\", \"uid\": \"ebf034e6-e079-11e8-b82f-0088653b14b4\"}, {\"name\": \"3c1f86f7294372\", \"showlegend\": false, \"x\": [60.06], \"y\": [29], \"type\": \"scatter\", \"uid\": \"ebf035c2-e079-11e8-9cd2-0088653b14b4\"}, {\"name\": \"3bdf4bf59971e6\", \"showlegend\": false, \"x\": [0.1761], \"y\": [46], \"type\": \"scatter\", \"uid\": \"ebf036a8-e079-11e8-84d6-0088653b14b4\"}, {\"name\": \"ddd1aad9a0e938\", \"showlegend\": false, \"x\": [0.0], \"y\": [50], \"type\": \"scatter\", \"uid\": \"ebf0378c-e079-11e8-ada9-0088653b14b4\"}, {\"name\": \"4d51fb9c9b1949\", \"showlegend\": false, \"x\": [731.9], \"y\": [29], \"type\": \"scatter\", \"uid\": \"ebf03868-e079-11e8-a59d-0088653b14b4\"}, {\"name\": \"16dbecc06a578e\", \"showlegend\": false, \"x\": [401.4], \"y\": [31], \"type\": \"scatter\", \"uid\": \"ebf03950-e079-11e8-87ab-0088653b14b4\"}, {\"name\": \"cbd57c9dd0f453\", \"showlegend\": false, \"x\": [101.2], \"y\": [27], \"type\": \"scatter\", \"uid\": \"ebf03a2c-e079-11e8-9a48-0088653b14b4\"}, {\"name\": \"82ca7406e2a7fc\", \"showlegend\": false, \"x\": [200.4], \"y\": [48], \"type\": \"scatter\", \"uid\": \"ebf03b46-e079-11e8-ad6b-0088653b14b4\"}, {\"name\": \"132138ffe4aee0\", \"showlegend\": false, \"x\": [51.45], \"y\": [50], \"type\": \"scatter\", \"uid\": \"ebf03c3e-e079-11e8-add4-0088653b14b4\"}, {\"name\": \"8f963f11451108\", \"showlegend\": false, \"x\": [141.9], \"y\": [28], \"type\": \"scatter\", \"uid\": \"ebf03d24-e079-11e8-88e8-0088653b14b4\"}, {\"name\": \"dd7018a7a16055\", \"showlegend\": false, \"x\": [355.3], \"y\": [46], \"type\": \"scatter\", \"uid\": \"ebf03e00-e079-11e8-aa8d-0088653b14b4\"}, {\"name\": \"fed4bec7210afa\", \"showlegend\": false, \"x\": [100.0], \"y\": [50], \"type\": \"scatter\", \"uid\": \"ebf03ee6-e079-11e8-ad54-0088653b14b4\"}, {\"name\": \"ed50d30065ece3\", \"showlegend\": false, \"x\": [0.0], \"y\": [98], \"type\": \"scatter\", \"uid\": \"ebf03fc2-e079-11e8-85f5-0088653b14b4\"}, {\"name\": \"687d3300c66bf9\", \"showlegend\": false, \"x\": [63.2], \"y\": [27], \"type\": \"scatter\", \"uid\": \"ebf040a8-e079-11e8-9af9-0088653b14b4\"}, {\"name\": \"fe8bd1a63a35c2\", \"showlegend\": false, \"x\": [28.2], \"y\": [97], \"type\": \"scatter\", \"uid\": \"ebf04186-e079-11e8-afb3-0088653b14b4\"}, {\"name\": \"c6c30574618de1\", \"showlegend\": false, \"x\": [0.0], \"y\": [32], \"type\": \"scatter\", \"uid\": \"ebf04268-e079-11e8-99a8-0088653b14b4\"}, {\"name\": \"bb347964d4df75\", \"showlegend\": false, \"x\": [417.0], \"y\": [28], \"type\": \"scatter\", \"uid\": \"ebf04350-e079-11e8-9090-0088653b14b4\"}, {\"name\": \"3520375da3d852\", \"showlegend\": false, \"x\": [216.4], \"y\": [27], \"type\": \"scatter\", \"uid\": \"ebf04436-e079-11e8-b860-0088653b14b4\"}, {\"name\": \"9cd9ee21f27795\", \"showlegend\": false, \"x\": [0.0], \"y\": [29], \"type\": \"scatter\", \"uid\": \"ebf04512-e079-11e8-bb01-0088653b14b4\"}, {\"name\": \"0e507eb00975e2\", \"showlegend\": false, \"x\": [669.7], \"y\": [26], \"type\": \"scatter\", \"uid\": \"ebf045ee-e079-11e8-a73f-0088653b14b4\"}, {\"name\": \"7b897fa346cbea\", \"showlegend\": false, \"x\": [561.2], \"y\": [15], \"type\": \"scatter\", \"uid\": \"ebf04706-e079-11e8-a685-0088653b14b4\"}, {\"name\": \"d4328cf2ffd5a0\", \"showlegend\": false, \"x\": [201.9], \"y\": [29], \"type\": \"scatter\", \"uid\": \"ebf047f6-e079-11e8-a0ad-0088653b14b4\"}, {\"name\": \"49c2213aa4e76f\", \"showlegend\": false, \"x\": [0.0], \"y\": [28], \"type\": \"scatter\", \"uid\": \"ebf048dc-e079-11e8-99f6-0088653b14b4\"}, {\"name\": \"633baed0540885\", \"showlegend\": false, \"x\": [86.36], \"y\": [93], \"type\": \"scatter\", \"uid\": \"ebf049b8-e079-11e8-84c3-0088653b14b4\"}, {\"name\": \"6eb8f14ea8b09e\", \"showlegend\": false, \"x\": [81.9], \"y\": [27], \"type\": \"scatter\", \"uid\": \"ebf04a9e-e079-11e8-9001-0088653b14b4\"}, {\"name\": \"3d3f8b06cc742f\", \"showlegend\": false, \"x\": [54.18], \"y\": [46], \"type\": \"scatter\", \"uid\": \"ebf04b7a-e079-11e8-864c-0088653b14b4\"}, {\"name\": \"5d3aaeff08db72\", \"showlegend\": false, \"x\": [137.9], \"y\": [49], \"type\": \"scatter\", \"uid\": \"ebf04c62-e079-11e8-ac1a-0088653b14b4\"}, {\"name\": \"333161edb62697\", \"showlegend\": false, \"x\": [0.0], \"y\": [29], \"type\": \"scatter\", \"uid\": \"ebf04d3a-e079-11e8-b4dc-0088653b14b4\"}, {\"name\": \"41e249abd663ce\", \"showlegend\": false, \"x\": [48.51], \"y\": [28], \"type\": \"scatter\", \"uid\": \"ebf04e22-e079-11e8-a2f7-0088653b14b4\"}, {\"name\": \"9389afb4f6e85f\", \"showlegend\": false, \"x\": [63.51], \"y\": [26], \"type\": \"scatter\", \"uid\": \"ebf04efe-e079-11e8-a036-0088653b14b4\"}, {\"name\": \"b6e8c90f31a998\", \"showlegend\": false, \"x\": [180.2], \"y\": [29], \"type\": \"scatter\", \"uid\": \"ebf05028-e079-11e8-9288-0088653b14b4\"}, {\"name\": \"928069880e8677\", \"showlegend\": false, \"x\": [0.0], \"y\": [97], \"type\": \"scatter\", \"uid\": \"ebf05110-e079-11e8-a018-0088653b14b4\"}, {\"name\": \"52773b209ebc9b\", \"showlegend\": false, \"x\": [0.0], \"y\": [97], \"type\": \"scatter\", \"uid\": \"ebf051ec-e079-11e8-802f-0088653b14b4\"}, {\"name\": \"05ce86879de0cd\", \"showlegend\": false, \"x\": [97.87], \"y\": [49], \"type\": \"scatter\", \"uid\": \"ebf052fa-e079-11e8-8c62-0088653b14b4\"}, {\"name\": \"992303ed8aba21\", \"showlegend\": false, \"x\": [191.3], \"y\": [48], \"type\": \"scatter\", \"uid\": \"ebf053f4-e079-11e8-8621-0088653b14b4\"}, {\"name\": \"5009dc198ac903\", \"showlegend\": false, \"x\": [697.3], \"y\": [97], \"type\": \"scatter\", \"uid\": \"ebf054da-e079-11e8-96be-0088653b14b4\"}, {\"name\": \"636c579fda33c5\", \"showlegend\": false, \"x\": [425.8], \"y\": [28], \"type\": \"scatter\", \"uid\": \"ebf055b6-e079-11e8-b904-0088653b14b4\"}, {\"name\": \"d9028769b40e5e\", \"showlegend\": false, \"x\": [35.67], \"y\": [30], \"type\": \"scatter\", \"uid\": \"ebf05692-e079-11e8-94a7-0088653b14b4\"}, {\"name\": \"b842bd63b030ed\", \"showlegend\": false, \"x\": [100.0], \"y\": [91], \"type\": \"scatter\", \"uid\": \"ebf0576e-e079-11e8-88b2-0088653b14b4\"}, {\"name\": \"3b605dbcc8bd6c\", \"showlegend\": false, \"x\": [331.7], \"y\": [26], \"type\": \"scatter\", \"uid\": \"ebf0584a-e079-11e8-9569-0088653b14b4\"}], {\"legend\": {\"orientation\": \"h\"}, \"title\": \"Killing is Winning?\", \"xaxis\": {\"title\": \"Damage (Higher is Better)\"}, \"yaxis\": {\"title\": \"Rank (Lower is Better)\"}}, {\"showLink\": true, \"linkText\": \"Export to plot.ly\"})});</script>"
      ],
      "text/vnd.plotly.v1+html": [
       "<div id=\"7ef741b0-d864-4712-9eb5-daa5f05ad75b\" style=\"height: 525px; width: 100%;\" class=\"plotly-graph-div\"></div><script type=\"text/javascript\">require([\"plotly\"], function(Plotly) { window.PLOTLYENV=window.PLOTLYENV || {};window.PLOTLYENV.BASE_URL=\"https://plot.ly\";Plotly.newPlot(\"7ef741b0-d864-4712-9eb5-daa5f05ad75b\", [{\"name\": \"4b87b8f6a1dcec\", \"showlegend\": false, \"x\": [281.4], \"y\": [28], \"type\": \"scatter\", \"uid\": \"ebef9c3e-e079-11e8-b5ca-0088653b14b4\"}, {\"name\": \"2dcef512ff5544\", \"showlegend\": false, \"x\": [12.36], \"y\": [46], \"type\": \"scatter\", \"uid\": \"ebef9e46-e079-11e8-afd3-0088653b14b4\"}, {\"name\": \"0a0acffb0c078d\", \"showlegend\": false, \"x\": [100.0], \"y\": [25], \"type\": \"scatter\", \"uid\": \"ebef9f4a-e079-11e8-83de-0088653b14b4\"}, {\"name\": \"e1758495d13cd5\", \"showlegend\": false, \"x\": [89.67], \"y\": [27], \"type\": \"scatter\", \"uid\": \"ebefa046-e079-11e8-abb2-0088653b14b4\"}, {\"name\": \"551b73fb9d1a90\", \"showlegend\": false, \"x\": [100.0], \"y\": [26], \"type\": \"scatter\", \"uid\": \"ebefa128-e079-11e8-b423-0088653b14b4\"}, {\"name\": \"7f50d523aabda8\", \"showlegend\": false, \"x\": [0.0], \"y\": [27], \"type\": \"scatter\", \"uid\": \"ebefa210-e079-11e8-ad3f-0088653b14b4\"}, {\"name\": \"5a75eaed6c9201\", \"showlegend\": false, \"x\": [56.05], \"y\": [30], \"type\": \"scatter\", \"uid\": \"ebefa2f6-e079-11e8-85cd-0088653b14b4\"}, {\"name\": \"175745994b6eb3\", \"showlegend\": false, \"x\": [49.47], \"y\": [29], \"type\": \"scatter\", \"uid\": \"ebefa3dc-e079-11e8-a89d-0088653b14b4\"}, {\"name\": \"2aff557cf3dd4f\", \"showlegend\": false, \"x\": [0.0], \"y\": [25], \"type\": \"scatter\", \"uid\": \"ebefa4b8-e079-11e8-a339-0088653b14b4\"}, {\"name\": \"f92440e9777b5b\", \"showlegend\": false, \"x\": [57.33], \"y\": [27], \"type\": \"scatter\", \"uid\": \"ebefa59e-e079-11e8-a5ba-0088653b14b4\"}, {\"name\": \"0363e700105010\", \"showlegend\": false, \"x\": [0.0], \"y\": [28], \"type\": \"scatter\", \"uid\": \"ebefa686-e079-11e8-82cb-0088653b14b4\"}, {\"name\": \"0cf13018dde551\", \"showlegend\": false, \"x\": [224.0], \"y\": [28], \"type\": \"scatter\", \"uid\": \"ebefa906-e079-11e8-ba7b-0088653b14b4\"}, {\"name\": \"a75b580c217611\", \"showlegend\": false, \"x\": [85.36], \"y\": [48], \"type\": \"scatter\", \"uid\": \"ebefabe8-e079-11e8-8f78-0088653b14b4\"}, {\"name\": \"4943a178a6b7b9\", \"showlegend\": false, \"x\": [160.8], \"y\": [26], \"type\": \"scatter\", \"uid\": \"ebefad1e-e079-11e8-8cf7-0088653b14b4\"}, {\"name\": \"c2577efa1dc6a0\", \"showlegend\": false, \"x\": [278.0], \"y\": [46], \"type\": \"scatter\", \"uid\": \"ebefae22-e079-11e8-b6ba-0088653b14b4\"}, {\"name\": \"e5aa88e1b872fb\", \"showlegend\": false, \"x\": [254.2], \"y\": [26], \"type\": \"scatter\", \"uid\": \"ebefaf1c-e079-11e8-b5c9-0088653b14b4\"}, {\"name\": \"52342505fc8a10\", \"showlegend\": false, \"x\": [545.2], \"y\": [30], \"type\": \"scatter\", \"uid\": \"ebefb00c-e079-11e8-8242-0088653b14b4\"}, {\"name\": \"eb07a985f88e8b\", \"showlegend\": false, \"x\": [38.69], \"y\": [22], \"type\": \"scatter\", \"uid\": \"ebefb162-e079-11e8-8dd3-0088653b14b4\"}, {\"name\": \"ec5b5170a2a855\", \"showlegend\": false, \"x\": [1529.0], \"y\": [26], \"type\": \"scatter\", \"uid\": \"ebefb246-e079-11e8-88d3-0088653b14b4\"}, {\"name\": \"01e24dc00dd2ea\", \"showlegend\": false, \"x\": [0.0], \"y\": [28], \"type\": \"scatter\", \"uid\": \"ebefb32c-e079-11e8-b9db-0088653b14b4\"}, {\"name\": \"f4f79ad2e55785\", \"showlegend\": false, \"x\": [135.6], \"y\": [28], \"type\": \"scatter\", \"uid\": \"ebefb412-e079-11e8-8e86-0088653b14b4\"}, {\"name\": \"18fd0965ef84d2\", \"showlegend\": false, \"x\": [424.7], \"y\": [31], \"type\": \"scatter\", \"uid\": \"ebefb4ee-e079-11e8-8cd2-0088653b14b4\"}, {\"name\": \"a816afee122b9d\", \"showlegend\": false, \"x\": [183.1], \"y\": [30], \"type\": \"scatter\", \"uid\": \"ebefb5d4-e079-11e8-8429-0088653b14b4\"}, {\"name\": \"5a99426339ed58\", \"showlegend\": false, \"x\": [0.0], \"y\": [28], \"type\": \"scatter\", \"uid\": \"ebefb6b0-e079-11e8-a6e7-0088653b14b4\"}, {\"name\": \"86c2a23b545dc1\", \"showlegend\": false, \"x\": [0.0], \"y\": [28], \"type\": \"scatter\", \"uid\": \"ebefb7dc-e079-11e8-8f80-0088653b14b4\"}, {\"name\": \"44c460a126fde2\", \"showlegend\": false, \"x\": [47.06], \"y\": [29], \"type\": \"scatter\", \"uid\": \"ebefb8e2-e079-11e8-bd56-0088653b14b4\"}, {\"name\": \"4e9ec93803015e\", \"showlegend\": false, \"x\": [0.0], \"y\": [50], \"type\": \"scatter\", \"uid\": \"ebefb9ba-e079-11e8-a7cb-0088653b14b4\"}, {\"name\": \"2f41fe99ff9b14\", \"showlegend\": false, \"x\": [0.0], \"y\": [30], \"type\": \"scatter\", \"uid\": \"ebefbaa2-e079-11e8-b853-0088653b14b4\"}, {\"name\": \"f6bf4ffd74686f\", \"showlegend\": false, \"x\": [1241.0], \"y\": [28], \"type\": \"scatter\", \"uid\": \"ebefbb7e-e079-11e8-8e7d-0088653b14b4\"}, {\"name\": \"8e6f1e105cfac4\", \"showlegend\": false, \"x\": [0.0], \"y\": [27], \"type\": \"scatter\", \"uid\": \"ebefbc64-e079-11e8-9ad1-0088653b14b4\"}, {\"name\": \"00974ef59fc0ad\", \"showlegend\": false, \"x\": [55.28], \"y\": [29], \"type\": \"scatter\", \"uid\": \"ebefbd4a-e079-11e8-9c2e-0088653b14b4\"}, {\"name\": \"c5445d7a0639dc\", \"showlegend\": false, \"x\": [11.4], \"y\": [48], \"type\": \"scatter\", \"uid\": \"ebefbe26-e079-11e8-a62a-0088653b14b4\"}, {\"name\": \"523b6376673f94\", \"showlegend\": false, \"x\": [141.8], \"y\": [46], \"type\": \"scatter\", \"uid\": \"ebefbf0c-e079-11e8-9aba-0088653b14b4\"}, {\"name\": \"1f31cb159435e4\", \"showlegend\": false, \"x\": [0.0], \"y\": [96], \"type\": \"scatter\", \"uid\": \"ebefbfe8-e079-11e8-bf6a-0088653b14b4\"}, {\"name\": \"2c4293d2939209\", \"showlegend\": false, \"x\": [175.7], \"y\": [28], \"type\": \"scatter\", \"uid\": \"ebefc0cc-e079-11e8-947e-0088653b14b4\"}, {\"name\": \"cf376ab88a3b24\", \"showlegend\": false, \"x\": [183.5], \"y\": [25], \"type\": \"scatter\", \"uid\": \"ebefc1a8-e079-11e8-be59-0088653b14b4\"}, {\"name\": \"84eac1cb775301\", \"showlegend\": false, \"x\": [16.67], \"y\": [31], \"type\": \"scatter\", \"uid\": \"ebefc290-e079-11e8-b514-0088653b14b4\"}, {\"name\": \"a842c1e8803054\", \"showlegend\": false, \"x\": [380.0], \"y\": [49], \"type\": \"scatter\", \"uid\": \"ebefc3a8-e079-11e8-ace8-0088653b14b4\"}, {\"name\": \"0fe937afc3a7e0\", \"showlegend\": false, \"x\": [121.8], \"y\": [27], \"type\": \"scatter\", \"uid\": \"ebefc4a2-e079-11e8-90bb-0088653b14b4\"}, {\"name\": \"ccf7a3ee91f8cb\", \"showlegend\": false, \"x\": [191.3], \"y\": [30], \"type\": \"scatter\", \"uid\": \"ebefc57e-e079-11e8-99a0-0088653b14b4\"}, {\"name\": \"303c479050cef5\", \"showlegend\": false, \"x\": [60.24], \"y\": [48], \"type\": \"scatter\", \"uid\": \"ebefc664-e079-11e8-bb36-0088653b14b4\"}, {\"name\": \"fcea3e1a06f98b\", \"showlegend\": false, \"x\": [254.5], \"y\": [29], \"type\": \"scatter\", \"uid\": \"ebefc740-e079-11e8-a313-0088653b14b4\"}, {\"name\": \"7b726f6f7d791c\", \"showlegend\": false, \"x\": [0.0], \"y\": [27], \"type\": \"scatter\", \"uid\": \"ebefc826-e079-11e8-bacd-0088653b14b4\"}, {\"name\": \"6db4813e0d7066\", \"showlegend\": false, \"x\": [196.7], \"y\": [96], \"type\": \"scatter\", \"uid\": \"ebefc902-e079-11e8-88ff-0088653b14b4\"}, {\"name\": \"3ec3279e9b927c\", \"showlegend\": false, \"x\": [0.0], \"y\": [29], \"type\": \"scatter\", \"uid\": \"ebefc9e8-e079-11e8-b02c-0088653b14b4\"}, {\"name\": \"048ec44339d9d0\", \"showlegend\": false, \"x\": [263.4], \"y\": [96], \"type\": \"scatter\", \"uid\": \"ebefcac6-e079-11e8-8817-0088653b14b4\"}, {\"name\": \"38142ab6215116\", \"showlegend\": false, \"x\": [234.7], \"y\": [49], \"type\": \"scatter\", \"uid\": \"ebefcba8-e079-11e8-a3a6-0088653b14b4\"}, {\"name\": \"2b3dc1e3abf391\", \"showlegend\": false, \"x\": [24.06], \"y\": [96], \"type\": \"scatter\", \"uid\": \"ebefcc86-e079-11e8-a5bb-0088653b14b4\"}, {\"name\": \"01e859fece4578\", \"showlegend\": false, \"x\": [0.0], \"y\": [49], \"type\": \"scatter\", \"uid\": \"ebefcd6c-e079-11e8-abfe-0088653b14b4\"}, {\"name\": \"7fb0c688db0e56\", \"showlegend\": false, \"x\": [1.144], \"y\": [27], \"type\": \"scatter\", \"uid\": \"ebefce52-e079-11e8-b51e-0088653b14b4\"}, {\"name\": \"3bec2ca04be4b3\", \"showlegend\": false, \"x\": [204.0], \"y\": [92], \"type\": \"scatter\", \"uid\": \"ebefcf62-e079-11e8-bb02-0088653b14b4\"}, {\"name\": \"b0886daa473862\", \"showlegend\": false, \"x\": [126.5], \"y\": [27], \"type\": \"scatter\", \"uid\": \"ebefd05a-e079-11e8-aafc-0088653b14b4\"}, {\"name\": \"62b57395e42916\", \"showlegend\": false, \"x\": [125.8], \"y\": [30], \"type\": \"scatter\", \"uid\": \"ebefd17a-e079-11e8-aec0-0088653b14b4\"}, {\"name\": \"d632f91ecdf9c6\", \"showlegend\": false, \"x\": [141.7], \"y\": [27], \"type\": \"scatter\", \"uid\": \"ebefd262-e079-11e8-af98-0088653b14b4\"}, {\"name\": \"8de7d1b041967f\", \"showlegend\": false, \"x\": [74.82], \"y\": [27], \"type\": \"scatter\", \"uid\": \"ebefd348-e079-11e8-a26d-0088653b14b4\"}, {\"name\": \"5dd533f25f4a06\", \"showlegend\": false, \"x\": [571.8], \"y\": [29], \"type\": \"scatter\", \"uid\": \"ebefd424-e079-11e8-8484-0088653b14b4\"}, {\"name\": \"33826b9438ef60\", \"showlegend\": false, \"x\": [0.0], \"y\": [99], \"type\": \"scatter\", \"uid\": \"ebefd50a-e079-11e8-b77d-0088653b14b4\"}, {\"name\": \"4d7ef41f0db33d\", \"showlegend\": false, \"x\": [178.0], \"y\": [46], \"type\": \"scatter\", \"uid\": \"ebefd5f0-e079-11e8-b363-0088653b14b4\"}, {\"name\": \"b0b70cc9912170\", \"showlegend\": false, \"x\": [0.0], \"y\": [28], \"type\": \"scatter\", \"uid\": \"ebefd6cc-e079-11e8-b6e5-0088653b14b4\"}, {\"name\": \"772e3051e62c84\", \"showlegend\": false, \"x\": [47.73], \"y\": [47], \"type\": \"scatter\", \"uid\": \"ebefd7a8-e079-11e8-bc43-0088653b14b4\"}, {\"name\": \"80510a1821b703\", \"showlegend\": false, \"x\": [75.0], \"y\": [89], \"type\": \"scatter\", \"uid\": \"ebefd88c-e079-11e8-b791-0088653b14b4\"}, {\"name\": \"e86d3854712e5d\", \"showlegend\": false, \"x\": [0.0], \"y\": [97], \"type\": \"scatter\", \"uid\": \"ebefd968-e079-11e8-851f-0088653b14b4\"}, {\"name\": \"26bffb25819883\", \"showlegend\": false, \"x\": [293.9], \"y\": [30], \"type\": \"scatter\", \"uid\": \"ebefda50-e079-11e8-b10a-0088653b14b4\"}, {\"name\": \"14c52072dc95b0\", \"showlegend\": false, \"x\": [282.2], \"y\": [27], \"type\": \"scatter\", \"uid\": \"ebefdb68-e079-11e8-a797-0088653b14b4\"}, {\"name\": \"4af21d8303a48c\", \"showlegend\": false, \"x\": [234.3], \"y\": [28], \"type\": \"scatter\", \"uid\": \"ebefdc58-e079-11e8-b320-0088653b14b4\"}, {\"name\": \"8706ed5ac75875\", \"showlegend\": false, \"x\": [496.5], \"y\": [30], \"type\": \"scatter\", \"uid\": \"ebefdd3e-e079-11e8-83a5-0088653b14b4\"}, {\"name\": \"b5231bf6f5347e\", \"showlegend\": false, \"x\": [209.0], \"y\": [49], \"type\": \"scatter\", \"uid\": \"ebefde1a-e079-11e8-b797-0088653b14b4\"}, {\"name\": \"fc8aa91152ba47\", \"showlegend\": false, \"x\": [0.0], \"y\": [96], \"type\": \"scatter\", \"uid\": \"ebefdf00-e079-11e8-b785-0088653b14b4\"}, {\"name\": \"0a2ad1d508759d\", \"showlegend\": false, \"x\": [40.04], \"y\": [26], \"type\": \"scatter\", \"uid\": \"ebefdfdc-e079-11e8-aa2f-0088653b14b4\"}, {\"name\": \"1f9dfabf68f6b9\", \"showlegend\": false, \"x\": [56.08], \"y\": [49], \"type\": \"scatter\", \"uid\": \"ebefe0c2-e079-11e8-8820-0088653b14b4\"}, {\"name\": \"80b9d68dfdab5e\", \"showlegend\": false, \"x\": [24.0], \"y\": [50], \"type\": \"scatter\", \"uid\": \"ebefe1a8-e079-11e8-8513-0088653b14b4\"}, {\"name\": \"3c38e04485dfdb\", \"showlegend\": false, \"x\": [0.0], \"y\": [29], \"type\": \"scatter\", \"uid\": \"ebefe286-e079-11e8-a990-0088653b14b4\"}, {\"name\": \"a3313c9981f263\", \"showlegend\": false, \"x\": [137.6], \"y\": [28], \"type\": \"scatter\", \"uid\": \"ebefe368-e079-11e8-8a47-0088653b14b4\"}, {\"name\": \"16719ce1ecf732\", \"showlegend\": false, \"x\": [94.44], \"y\": [31], \"type\": \"scatter\", \"uid\": \"ebefe450-e079-11e8-9a63-0088653b14b4\"}, {\"name\": \"265fe1a3dfdafd\", \"showlegend\": false, \"x\": [540.6], \"y\": [29], \"type\": \"scatter\", \"uid\": \"ebefe52c-e079-11e8-892a-0088653b14b4\"}, {\"name\": \"a3119aa27d2bc3\", \"showlegend\": false, \"x\": [110.4], \"y\": [97], \"type\": \"scatter\", \"uid\": \"ebefe612-e079-11e8-b21e-0088653b14b4\"}, {\"name\": \"de377ca882a858\", \"showlegend\": false, \"x\": [221.5], \"y\": [48], \"type\": \"scatter\", \"uid\": \"ebefe728-e079-11e8-bbf4-0088653b14b4\"}, {\"name\": \"7538c5b1a9a00f\", \"showlegend\": false, \"x\": [342.9], \"y\": [49], \"type\": \"scatter\", \"uid\": \"ebefe824-e079-11e8-b35f-0088653b14b4\"}, {\"name\": \"e4aeadf82574d2\", \"showlegend\": false, \"x\": [100.0], \"y\": [26], \"type\": \"scatter\", \"uid\": \"ebefe900-e079-11e8-bfd4-0088653b14b4\"}, {\"name\": \"4d27286ace118c\", \"showlegend\": false, \"x\": [0.0], \"y\": [97], \"type\": \"scatter\", \"uid\": \"ebefe9e6-e079-11e8-b578-0088653b14b4\"}, {\"name\": \"1f55b0afe0e668\", \"showlegend\": false, \"x\": [81.34], \"y\": [30], \"type\": \"scatter\", \"uid\": \"ebefeac2-e079-11e8-a935-0088653b14b4\"}, {\"name\": \"ff18d4a30944fa\", \"showlegend\": false, \"x\": [200.0], \"y\": [97], \"type\": \"scatter\", \"uid\": \"ebefeb9e-e079-11e8-b084-0088653b14b4\"}, {\"name\": \"356c81223dfb4f\", \"showlegend\": false, \"x\": [472.9], \"y\": [26], \"type\": \"scatter\", \"uid\": \"ebefec86-e079-11e8-b846-0088653b14b4\"}, {\"name\": \"7980dd4324ed33\", \"showlegend\": false, \"x\": [100.0], \"y\": [97], \"type\": \"scatter\", \"uid\": \"ebefed68-e079-11e8-adcb-0088653b14b4\"}, {\"name\": \"d05f6d15f57031\", \"showlegend\": false, \"x\": [87.92], \"y\": [47], \"type\": \"scatter\", \"uid\": \"ebefee46-e079-11e8-a55d-0088653b14b4\"}, {\"name\": \"9270323d93a107\", \"showlegend\": false, \"x\": [25.8], \"y\": [47], \"type\": \"scatter\", \"uid\": \"ebefef2c-e079-11e8-b551-0088653b14b4\"}, {\"name\": \"ff9041a245b491\", \"showlegend\": false, \"x\": [129.0], \"y\": [44], \"type\": \"scatter\", \"uid\": \"ebeff008-e079-11e8-8259-0088653b14b4\"}, {\"name\": \"9343ad9b5617f5\", \"showlegend\": false, \"x\": [524.9], \"y\": [28], \"type\": \"scatter\", \"uid\": \"ebeff0e4-e079-11e8-b619-0088653b14b4\"}, {\"name\": \"aab4242f07d20b\", \"showlegend\": false, \"x\": [627.7], \"y\": [99], \"type\": \"scatter\", \"uid\": \"ebeff1ca-e079-11e8-8659-0088653b14b4\"}, {\"name\": \"3c180f80b37192\", \"showlegend\": false, \"x\": [219.3], \"y\": [30], \"type\": \"scatter\", \"uid\": \"ebeff2e2-e079-11e8-8d00-0088653b14b4\"}, {\"name\": \"c73c81bc33192c\", \"showlegend\": false, \"x\": [162.1], \"y\": [26], \"type\": \"scatter\", \"uid\": \"ebeff3d2-e079-11e8-972c-0088653b14b4\"}, {\"name\": \"2b2a9c64aa189f\", \"showlegend\": false, \"x\": [151.5], \"y\": [29], \"type\": \"scatter\", \"uid\": \"ebeff4b8-e079-11e8-939e-0088653b14b4\"}, {\"name\": \"7655cc2f40973e\", \"showlegend\": false, \"x\": [177.1], \"y\": [28], \"type\": \"scatter\", \"uid\": \"ebeff59e-e079-11e8-9875-0088653b14b4\"}, {\"name\": \"8799562b8766a0\", \"showlegend\": false, \"x\": [0.0], \"y\": [46], \"type\": \"scatter\", \"uid\": \"ebeff67a-e079-11e8-bb4a-0088653b14b4\"}, {\"name\": \"da32e418e75b2c\", \"showlegend\": false, \"x\": [100.0], \"y\": [95], \"type\": \"scatter\", \"uid\": \"ebeff762-e079-11e8-8946-0088653b14b4\"}, {\"name\": \"2c4b30c4cc3c9b\", \"showlegend\": false, \"x\": [121.3], \"y\": [30], \"type\": \"scatter\", \"uid\": \"ebeff83a-e079-11e8-b8e6-0088653b14b4\"}, {\"name\": \"ebf29cbc3adffb\", \"showlegend\": false, \"x\": [202.8], \"y\": [27], \"type\": \"scatter\", \"uid\": \"ebeff922-e079-11e8-a5a4-0088653b14b4\"}, {\"name\": \"c52179c6ba5f9e\", \"showlegend\": false, \"x\": [81.12], \"y\": [29], \"type\": \"scatter\", \"uid\": \"ebeff9fe-e079-11e8-8089-0088653b14b4\"}, {\"name\": \"7c57326a9414ed\", \"showlegend\": false, \"x\": [286.6], \"y\": [49], \"type\": \"scatter\", \"uid\": \"ebeffb28-e079-11e8-8b5b-0088653b14b4\"}, {\"name\": \"580f56bee0f7df\", \"showlegend\": false, \"x\": [150.0], \"y\": [27], \"type\": \"scatter\", \"uid\": \"ebeffc1a-e079-11e8-be98-0088653b14b4\"}, {\"name\": \"f18f69a454cd4a\", \"showlegend\": false, \"x\": [129.0], \"y\": [48], \"type\": \"scatter\", \"uid\": \"ebeffd00-e079-11e8-b5a5-0088653b14b4\"}, {\"name\": \"cb3baf15010542\", \"showlegend\": false, \"x\": [0.0], \"y\": [95], \"type\": \"scatter\", \"uid\": \"ebeffddc-e079-11e8-b027-0088653b14b4\"}, {\"name\": \"808390efe8a2e3\", \"showlegend\": false, \"x\": [350.4], \"y\": [28], \"type\": \"scatter\", \"uid\": \"ebeffef4-e079-11e8-94f1-0088653b14b4\"}, {\"name\": \"4a565306c77c64\", \"showlegend\": false, \"x\": [100.0], \"y\": [27], \"type\": \"scatter\", \"uid\": \"ebefffe4-e079-11e8-882c-0088653b14b4\"}, {\"name\": \"41c0cdf0819a57\", \"showlegend\": false, \"x\": [0.0], \"y\": [28], \"type\": \"scatter\", \"uid\": \"ebf000ca-e079-11e8-ad2a-0088653b14b4\"}, {\"name\": \"5d8e8200b35d94\", \"showlegend\": false, \"x\": [100.0], \"y\": [96], \"type\": \"scatter\", \"uid\": \"ebf001b0-e079-11e8-81e0-0088653b14b4\"}, {\"name\": \"a920dc9eba0b84\", \"showlegend\": false, \"x\": [23.22], \"y\": [28], \"type\": \"scatter\", \"uid\": \"ebf0028c-e079-11e8-aa14-0088653b14b4\"}, {\"name\": \"97386dfc218cd4\", \"showlegend\": false, \"x\": [0.0], \"y\": [50], \"type\": \"scatter\", \"uid\": \"ebf0037a-e079-11e8-bef7-0088653b14b4\"}, {\"name\": \"c7f0ac325730a6\", \"showlegend\": false, \"x\": [400.0], \"y\": [97], \"type\": \"scatter\", \"uid\": \"ebf004c6-e079-11e8-8745-0088653b14b4\"}, {\"name\": \"a576cfe36ee6b6\", \"showlegend\": false, \"x\": [311.0], \"y\": [100], \"type\": \"scatter\", \"uid\": \"ebf005ac-e079-11e8-b9bc-0088653b14b4\"}, {\"name\": \"92f80dc4250a1f\", \"showlegend\": false, \"x\": [273.6], \"y\": [31], \"type\": \"scatter\", \"uid\": \"ebf00692-e079-11e8-900a-0088653b14b4\"}, {\"name\": \"e528d6142eb06e\", \"showlegend\": false, \"x\": [0.0], \"y\": [27], \"type\": \"scatter\", \"uid\": \"ebf00778-e079-11e8-ad98-0088653b14b4\"}, {\"name\": \"2bf7e710c78242\", \"showlegend\": false, \"x\": [100.0], \"y\": [44], \"type\": \"scatter\", \"uid\": \"ebf0085e-e079-11e8-8725-0088653b14b4\"}, {\"name\": \"76b1d12da337df\", \"showlegend\": false, \"x\": [0.0], \"y\": [27], \"type\": \"scatter\", \"uid\": \"ebf00946-e079-11e8-929f-0088653b14b4\"}, {\"name\": \"7d4e3344646a71\", \"showlegend\": false, \"x\": [38.33], \"y\": [47], \"type\": \"scatter\", \"uid\": \"ebf00a28-e079-11e8-93de-0088653b14b4\"}, {\"name\": \"a63b25ab508aca\", \"showlegend\": false, \"x\": [0.0], \"y\": [29], \"type\": \"scatter\", \"uid\": \"ebf00b42-e079-11e8-b6a2-0088653b14b4\"}, {\"name\": \"40eb1c5e9bb195\", \"showlegend\": false, \"x\": [90.4], \"y\": [47], \"type\": \"scatter\", \"uid\": \"ebf00c3a-e079-11e8-b8e6-0088653b14b4\"}, {\"name\": \"3308f65b9cbecc\", \"showlegend\": false, \"x\": [0.0], \"y\": [95], \"type\": \"scatter\", \"uid\": \"ebf00d22-e079-11e8-b0a5-0088653b14b4\"}, {\"name\": \"2f9c54b262a632\", \"showlegend\": false, \"x\": [150.7], \"y\": [95], \"type\": \"scatter\", \"uid\": \"ebf00dfe-e079-11e8-b5fd-0088653b14b4\"}, {\"name\": \"81e8d49a52eeef\", \"showlegend\": false, \"x\": [199.9], \"y\": [27], \"type\": \"scatter\", \"uid\": \"ebf00eda-e079-11e8-8333-0088653b14b4\"}, {\"name\": \"2ba0c8240b90cd\", \"showlegend\": false, \"x\": [0.0], \"y\": [98], \"type\": \"scatter\", \"uid\": \"ebf00fc0-e079-11e8-ab14-0088653b14b4\"}, {\"name\": \"19f991ffd71df0\", \"showlegend\": false, \"x\": [543.9], \"y\": [27], \"type\": \"scatter\", \"uid\": \"ebf010a6-e079-11e8-8c9b-0088653b14b4\"}, {\"name\": \"7d196ceeae8c93\", \"showlegend\": false, \"x\": [916.5], \"y\": [27], \"type\": \"scatter\", \"uid\": \"ebf01182-e079-11e8-b406-0088653b14b4\"}, {\"name\": \"bf99fa31d6a3ad\", \"showlegend\": false, \"x\": [100.0], \"y\": [27], \"type\": \"scatter\", \"uid\": \"ebf01268-e079-11e8-98c5-0088653b14b4\"}, {\"name\": \"1a5e898de1fbe0\", \"showlegend\": false, \"x\": [23.18], \"y\": [30], \"type\": \"scatter\", \"uid\": \"ebf01346-e079-11e8-ab06-0088653b14b4\"}, {\"name\": \"d48325fb5904a8\", \"showlegend\": false, \"x\": [100.0], \"y\": [28], \"type\": \"scatter\", \"uid\": \"ebf01428-e079-11e8-8264-0088653b14b4\"}, {\"name\": \"47c7e6f48cdfd6\", \"showlegend\": false, \"x\": [57.6], \"y\": [27], \"type\": \"scatter\", \"uid\": \"ebf01506-e079-11e8-9630-0088653b14b4\"}, {\"name\": \"69cfcf95477139\", \"showlegend\": false, \"x\": [618.3], \"y\": [49], \"type\": \"scatter\", \"uid\": \"ebf015ec-e079-11e8-83dc-0088653b14b4\"}, {\"name\": \"c70b5f6ef5e0d2\", \"showlegend\": false, \"x\": [0.0], \"y\": [29], \"type\": \"scatter\", \"uid\": \"ebf01706-e079-11e8-84f3-0088653b14b4\"}, {\"name\": \"e465fbb3a82553\", \"showlegend\": false, \"x\": [100.0], \"y\": [46], \"type\": \"scatter\", \"uid\": \"ebf017fe-e079-11e8-bfe6-0088653b14b4\"}, {\"name\": \"0be8e7b306f288\", \"showlegend\": false, \"x\": [169.0], \"y\": [47], \"type\": \"scatter\", \"uid\": \"ebf018e4-e079-11e8-8c08-0088653b14b4\"}, {\"name\": \"0808ee72127b20\", \"showlegend\": false, \"x\": [100.0], \"y\": [28], \"type\": \"scatter\", \"uid\": \"ebf019ca-e079-11e8-924f-0088653b14b4\"}, {\"name\": \"f9d6fe42b243c5\", \"showlegend\": false, \"x\": [163.5], \"y\": [97], \"type\": \"scatter\", \"uid\": \"ebf01ab0-e079-11e8-8eed-0088653b14b4\"}, {\"name\": \"0ef5f82c470940\", \"showlegend\": false, \"x\": [40.19], \"y\": [31], \"type\": \"scatter\", \"uid\": \"ebf01b8c-e079-11e8-acf8-0088653b14b4\"}, {\"name\": \"78998bbd70e19d\", \"showlegend\": false, \"x\": [81.17], \"y\": [48], \"type\": \"scatter\", \"uid\": \"ebf01c74-e079-11e8-9fdd-0088653b14b4\"}, {\"name\": \"88461a7af4da25\", \"showlegend\": false, \"x\": [79.93], \"y\": [29], \"type\": \"scatter\", \"uid\": \"ebf01d58-e079-11e8-8acf-0088653b14b4\"}, {\"name\": \"b141cc600835bb\", \"showlegend\": false, \"x\": [401.7], \"y\": [31], \"type\": \"scatter\", \"uid\": \"ebf01e7a-e079-11e8-a897-0088653b14b4\"}, {\"name\": \"3355b238001e3e\", \"showlegend\": false, \"x\": [0.0], \"y\": [25], \"type\": \"scatter\", \"uid\": \"ebf01f9c-e079-11e8-aac1-0088653b14b4\"}, {\"name\": \"01ef9dff101fa2\", \"showlegend\": false, \"x\": [165.1], \"y\": [47], \"type\": \"scatter\", \"uid\": \"ebf02098-e079-11e8-bc75-0088653b14b4\"}, {\"name\": \"a44adf829aa515\", \"showlegend\": false, \"x\": [79.23], \"y\": [95], \"type\": \"scatter\", \"uid\": \"ebf02174-e079-11e8-8f64-0088653b14b4\"}, {\"name\": \"0cf57f64c814fe\", \"showlegend\": false, \"x\": [43.0], \"y\": [26], \"type\": \"scatter\", \"uid\": \"ebf02258-e079-11e8-bff9-0088653b14b4\"}, {\"name\": \"e72f1791b70ad2\", \"showlegend\": false, \"x\": [99.6], \"y\": [30], \"type\": \"scatter\", \"uid\": \"ebf02370-e079-11e8-bed7-0088653b14b4\"}, {\"name\": \"fd2f7ec771c7a9\", \"showlegend\": false, \"x\": [29.4], \"y\": [92], \"type\": \"scatter\", \"uid\": \"ebf02462-e079-11e8-b1ce-0088653b14b4\"}, {\"name\": \"ffd5db38a920fe\", \"showlegend\": false, \"x\": [393.6], \"y\": [47], \"type\": \"scatter\", \"uid\": \"ebf02546-e079-11e8-9cbb-0088653b14b4\"}, {\"name\": \"64f932d2b6d6ca\", \"showlegend\": false, \"x\": [0.0], \"y\": [94], \"type\": \"scatter\", \"uid\": \"ebf02668-e079-11e8-a58f-0088653b14b4\"}, {\"name\": \"2f0383ea56b413\", \"showlegend\": false, \"x\": [22.88], \"y\": [28], \"type\": \"scatter\", \"uid\": \"ebf0274c-e079-11e8-afd5-0088653b14b4\"}, {\"name\": \"5571a7f75c755f\", \"showlegend\": false, \"x\": [611.1], \"y\": [47], \"type\": \"scatter\", \"uid\": \"ebf02834-e079-11e8-932e-0088653b14b4\"}, {\"name\": \"d3448bfc892204\", \"showlegend\": false, \"x\": [48.09], \"y\": [31], \"type\": \"scatter\", \"uid\": \"ebf0291a-e079-11e8-9f3a-0088653b14b4\"}, {\"name\": \"166483334cf699\", \"showlegend\": false, \"x\": [0.0], \"y\": [27], \"type\": \"scatter\", \"uid\": \"ebf02a00-e079-11e8-9b0d-0088653b14b4\"}, {\"name\": \"c7ad36bcb0b8b2\", \"showlegend\": false, \"x\": [66.22], \"y\": [46], \"type\": \"scatter\", \"uid\": \"ebf02adc-e079-11e8-9156-0088653b14b4\"}, {\"name\": \"6931fd12763180\", \"showlegend\": false, \"x\": [399.7], \"y\": [97], \"type\": \"scatter\", \"uid\": \"ebf02bc2-e079-11e8-93fb-0088653b14b4\"}, {\"name\": \"83d340181ce0b9\", \"showlegend\": false, \"x\": [0.0], \"y\": [28], \"type\": \"scatter\", \"uid\": \"ebf02ca8-e079-11e8-a070-0088653b14b4\"}, {\"name\": \"974c73e4a70aff\", \"showlegend\": false, \"x\": [0.0], \"y\": [29], \"type\": \"scatter\", \"uid\": \"ebf02d86-e079-11e8-aee9-0088653b14b4\"}, {\"name\": \"ddf028309ba2ad\", \"showlegend\": false, \"x\": [155.7], \"y\": [31], \"type\": \"scatter\", \"uid\": \"ebf02e62-e079-11e8-bc47-0088653b14b4\"}, {\"name\": \"88a3259d42a7e2\", \"showlegend\": false, \"x\": [40.7], \"y\": [49], \"type\": \"scatter\", \"uid\": \"ebf02f78-e079-11e8-b6c4-0088653b14b4\"}, {\"name\": \"9a25fcd61102eb\", \"showlegend\": false, \"x\": [760.9], \"y\": [31], \"type\": \"scatter\", \"uid\": \"ebf03074-e079-11e8-8437-0088653b14b4\"}, {\"name\": \"7b8e7f2ba407bc\", \"showlegend\": false, \"x\": [0.0], \"y\": [98], \"type\": \"scatter\", \"uid\": \"ebf03158-e079-11e8-8c62-0088653b14b4\"}, {\"name\": \"542240416bdf61\", \"showlegend\": false, \"x\": [530.1], \"y\": [27], \"type\": \"scatter\", \"uid\": \"ebf0323e-e079-11e8-a5ad-0088653b14b4\"}, {\"name\": \"2f1f939199b0fc\", \"showlegend\": false, \"x\": [19.35], \"y\": [27], \"type\": \"scatter\", \"uid\": \"ebf03324-e079-11e8-9b58-0088653b14b4\"}, {\"name\": \"31c42da9014ef1\", \"showlegend\": false, \"x\": [100.0], \"y\": [28], \"type\": \"scatter\", \"uid\": \"ebf03400-e079-11e8-a70a-0088653b14b4\"}, {\"name\": \"73bd6cd5bb7d90\", \"showlegend\": false, \"x\": [86.6], \"y\": [97], \"type\": \"scatter\", \"uid\": \"ebf034e6-e079-11e8-b82f-0088653b14b4\"}, {\"name\": \"3c1f86f7294372\", \"showlegend\": false, \"x\": [60.06], \"y\": [29], \"type\": \"scatter\", \"uid\": \"ebf035c2-e079-11e8-9cd2-0088653b14b4\"}, {\"name\": \"3bdf4bf59971e6\", \"showlegend\": false, \"x\": [0.1761], \"y\": [46], \"type\": \"scatter\", \"uid\": \"ebf036a8-e079-11e8-84d6-0088653b14b4\"}, {\"name\": \"ddd1aad9a0e938\", \"showlegend\": false, \"x\": [0.0], \"y\": [50], \"type\": \"scatter\", \"uid\": \"ebf0378c-e079-11e8-ada9-0088653b14b4\"}, {\"name\": \"4d51fb9c9b1949\", \"showlegend\": false, \"x\": [731.9], \"y\": [29], \"type\": \"scatter\", \"uid\": \"ebf03868-e079-11e8-a59d-0088653b14b4\"}, {\"name\": \"16dbecc06a578e\", \"showlegend\": false, \"x\": [401.4], \"y\": [31], \"type\": \"scatter\", \"uid\": \"ebf03950-e079-11e8-87ab-0088653b14b4\"}, {\"name\": \"cbd57c9dd0f453\", \"showlegend\": false, \"x\": [101.2], \"y\": [27], \"type\": \"scatter\", \"uid\": \"ebf03a2c-e079-11e8-9a48-0088653b14b4\"}, {\"name\": \"82ca7406e2a7fc\", \"showlegend\": false, \"x\": [200.4], \"y\": [48], \"type\": \"scatter\", \"uid\": \"ebf03b46-e079-11e8-ad6b-0088653b14b4\"}, {\"name\": \"132138ffe4aee0\", \"showlegend\": false, \"x\": [51.45], \"y\": [50], \"type\": \"scatter\", \"uid\": \"ebf03c3e-e079-11e8-add4-0088653b14b4\"}, {\"name\": \"8f963f11451108\", \"showlegend\": false, \"x\": [141.9], \"y\": [28], \"type\": \"scatter\", \"uid\": \"ebf03d24-e079-11e8-88e8-0088653b14b4\"}, {\"name\": \"dd7018a7a16055\", \"showlegend\": false, \"x\": [355.3], \"y\": [46], \"type\": \"scatter\", \"uid\": \"ebf03e00-e079-11e8-aa8d-0088653b14b4\"}, {\"name\": \"fed4bec7210afa\", \"showlegend\": false, \"x\": [100.0], \"y\": [50], \"type\": \"scatter\", \"uid\": \"ebf03ee6-e079-11e8-ad54-0088653b14b4\"}, {\"name\": \"ed50d30065ece3\", \"showlegend\": false, \"x\": [0.0], \"y\": [98], \"type\": \"scatter\", \"uid\": \"ebf03fc2-e079-11e8-85f5-0088653b14b4\"}, {\"name\": \"687d3300c66bf9\", \"showlegend\": false, \"x\": [63.2], \"y\": [27], \"type\": \"scatter\", \"uid\": \"ebf040a8-e079-11e8-9af9-0088653b14b4\"}, {\"name\": \"fe8bd1a63a35c2\", \"showlegend\": false, \"x\": [28.2], \"y\": [97], \"type\": \"scatter\", \"uid\": \"ebf04186-e079-11e8-afb3-0088653b14b4\"}, {\"name\": \"c6c30574618de1\", \"showlegend\": false, \"x\": [0.0], \"y\": [32], \"type\": \"scatter\", \"uid\": \"ebf04268-e079-11e8-99a8-0088653b14b4\"}, {\"name\": \"bb347964d4df75\", \"showlegend\": false, \"x\": [417.0], \"y\": [28], \"type\": \"scatter\", \"uid\": \"ebf04350-e079-11e8-9090-0088653b14b4\"}, {\"name\": \"3520375da3d852\", \"showlegend\": false, \"x\": [216.4], \"y\": [27], \"type\": \"scatter\", \"uid\": \"ebf04436-e079-11e8-b860-0088653b14b4\"}, {\"name\": \"9cd9ee21f27795\", \"showlegend\": false, \"x\": [0.0], \"y\": [29], \"type\": \"scatter\", \"uid\": \"ebf04512-e079-11e8-bb01-0088653b14b4\"}, {\"name\": \"0e507eb00975e2\", \"showlegend\": false, \"x\": [669.7], \"y\": [26], \"type\": \"scatter\", \"uid\": \"ebf045ee-e079-11e8-a73f-0088653b14b4\"}, {\"name\": \"7b897fa346cbea\", \"showlegend\": false, \"x\": [561.2], \"y\": [15], \"type\": \"scatter\", \"uid\": \"ebf04706-e079-11e8-a685-0088653b14b4\"}, {\"name\": \"d4328cf2ffd5a0\", \"showlegend\": false, \"x\": [201.9], \"y\": [29], \"type\": \"scatter\", \"uid\": \"ebf047f6-e079-11e8-a0ad-0088653b14b4\"}, {\"name\": \"49c2213aa4e76f\", \"showlegend\": false, \"x\": [0.0], \"y\": [28], \"type\": \"scatter\", \"uid\": \"ebf048dc-e079-11e8-99f6-0088653b14b4\"}, {\"name\": \"633baed0540885\", \"showlegend\": false, \"x\": [86.36], \"y\": [93], \"type\": \"scatter\", \"uid\": \"ebf049b8-e079-11e8-84c3-0088653b14b4\"}, {\"name\": \"6eb8f14ea8b09e\", \"showlegend\": false, \"x\": [81.9], \"y\": [27], \"type\": \"scatter\", \"uid\": \"ebf04a9e-e079-11e8-9001-0088653b14b4\"}, {\"name\": \"3d3f8b06cc742f\", \"showlegend\": false, \"x\": [54.18], \"y\": [46], \"type\": \"scatter\", \"uid\": \"ebf04b7a-e079-11e8-864c-0088653b14b4\"}, {\"name\": \"5d3aaeff08db72\", \"showlegend\": false, \"x\": [137.9], \"y\": [49], \"type\": \"scatter\", \"uid\": \"ebf04c62-e079-11e8-ac1a-0088653b14b4\"}, {\"name\": \"333161edb62697\", \"showlegend\": false, \"x\": [0.0], \"y\": [29], \"type\": \"scatter\", \"uid\": \"ebf04d3a-e079-11e8-b4dc-0088653b14b4\"}, {\"name\": \"41e249abd663ce\", \"showlegend\": false, \"x\": [48.51], \"y\": [28], \"type\": \"scatter\", \"uid\": \"ebf04e22-e079-11e8-a2f7-0088653b14b4\"}, {\"name\": \"9389afb4f6e85f\", \"showlegend\": false, \"x\": [63.51], \"y\": [26], \"type\": \"scatter\", \"uid\": \"ebf04efe-e079-11e8-a036-0088653b14b4\"}, {\"name\": \"b6e8c90f31a998\", \"showlegend\": false, \"x\": [180.2], \"y\": [29], \"type\": \"scatter\", \"uid\": \"ebf05028-e079-11e8-9288-0088653b14b4\"}, {\"name\": \"928069880e8677\", \"showlegend\": false, \"x\": [0.0], \"y\": [97], \"type\": \"scatter\", \"uid\": \"ebf05110-e079-11e8-a018-0088653b14b4\"}, {\"name\": \"52773b209ebc9b\", \"showlegend\": false, \"x\": [0.0], \"y\": [97], \"type\": \"scatter\", \"uid\": \"ebf051ec-e079-11e8-802f-0088653b14b4\"}, {\"name\": \"05ce86879de0cd\", \"showlegend\": false, \"x\": [97.87], \"y\": [49], \"type\": \"scatter\", \"uid\": \"ebf052fa-e079-11e8-8c62-0088653b14b4\"}, {\"name\": \"992303ed8aba21\", \"showlegend\": false, \"x\": [191.3], \"y\": [48], \"type\": \"scatter\", \"uid\": \"ebf053f4-e079-11e8-8621-0088653b14b4\"}, {\"name\": \"5009dc198ac903\", \"showlegend\": false, \"x\": [697.3], \"y\": [97], \"type\": \"scatter\", \"uid\": \"ebf054da-e079-11e8-96be-0088653b14b4\"}, {\"name\": \"636c579fda33c5\", \"showlegend\": false, \"x\": [425.8], \"y\": [28], \"type\": \"scatter\", \"uid\": \"ebf055b6-e079-11e8-b904-0088653b14b4\"}, {\"name\": \"d9028769b40e5e\", \"showlegend\": false, \"x\": [35.67], \"y\": [30], \"type\": \"scatter\", \"uid\": \"ebf05692-e079-11e8-94a7-0088653b14b4\"}, {\"name\": \"b842bd63b030ed\", \"showlegend\": false, \"x\": [100.0], \"y\": [91], \"type\": \"scatter\", \"uid\": \"ebf0576e-e079-11e8-88b2-0088653b14b4\"}, {\"name\": \"3b605dbcc8bd6c\", \"showlegend\": false, \"x\": [331.7], \"y\": [26], \"type\": \"scatter\", \"uid\": \"ebf0584a-e079-11e8-9569-0088653b14b4\"}], {\"legend\": {\"orientation\": \"h\"}, \"title\": \"Killing is Winning?\", \"xaxis\": {\"title\": \"Damage (Higher is Better)\"}, \"yaxis\": {\"title\": \"Rank (Lower is Better)\"}}, {\"showLink\": true, \"linkText\": \"Export to plot.ly\"})});</script>"
      ]
     },
     "metadata": {},
     "output_type": "display_data"
    }
   ],
   "source": [
    "#I want to see the relationship between maxPlace, the true ranking from 1-100, with damageDealt.\n",
    "#In other words, do you get better ranking if you deal more damage, and logically, by getting in fights?\n",
    "data = []\n",
    "for asset in np.random.choice(PG_train['Id'].unique(), 200):\n",
    "    asset_df = PG_train[(PG_train['Id'] == asset)]\n",
    "\n",
    "    data.append(go.Scatter(\n",
    "        x = asset_df['damageDealt'].values,\n",
    "        y = asset_df['maxPlace'].values,\n",
    "        name = asset,\n",
    "        showlegend=False\n",
    "    ))\n",
    "layout = go.Layout(dict(title = \"Killing is Winning?\",\n",
    "                  xaxis = dict(title = 'Damage (Higher is Better)'),\n",
    "                  yaxis = dict(title = 'Rank (Lower is Better)'),\n",
    "                  ),legend=dict(\n",
    "                orientation=\"h\"))\n",
    "py.iplot(dict(data=data, layout=layout), filename='basic-line')"
   ]
  },
  {
   "cell_type": "markdown",
   "metadata": {},
   "source": [
    "The reality is that there's no real relationship between damageDealt and final place. This is because the max value in maxPlace differs per matchType."
   ]
  },
  {
   "cell_type": "code",
   "execution_count": 9,
   "metadata": {},
   "outputs": [
    {
     "data": {
      "image/png": "[encoded data removed]",
      "text/plain": [
       "<Figure size 720x720 with 16 Axes>"
      ]
     },
     "metadata": {
      "needs_background": "light"
     },
     "output_type": "display_data"
    }
   ],
   "source": [
    "fig = PG_train['maxPlace'].hist(by=PG_train['matchType'],figsize=(10,10),ec=\"k\")\n",
    "plt.tight_layout()"
   ]
  },
  {
   "cell_type": "markdown",
   "metadata": {},
   "source": [
    "Those histograms are interesting to bear in mind. Obviously, the distributions depend on how the data was collected: why is that important? because Ids (players) are picked randomly across 1000s of games, while in a single game everyone get one and unique place/ranking - though they might have more or less killPoints. What matters however is the place (maxPlace) at the end of the game."
   ]
  },
  {
   "cell_type": "code",
   "execution_count": 10,
   "metadata": {},
   "outputs": [
    {
     "data": {
      "text/plain": [
       "squad-fpp           1756186\n",
       "duo-fpp              996691\n",
       "squad                626526\n",
       "solo-fpp             536762\n",
       "duo                  313591\n",
       "solo                 181943\n",
       "normal-squad-fpp      17174\n",
       "crashfpp               6287\n",
       "normal-duo-fpp         5489\n",
       "flaretpp               2505\n",
       "normal-solo-fpp        1682\n",
       "flarefpp                718\n",
       "normal-squad            516\n",
       "crashtpp                371\n",
       "normal-solo             326\n",
       "normal-duo              199\n",
       "Name: matchType, dtype: int64"
      ]
     },
     "execution_count": 10,
     "metadata": {},
     "output_type": "execute_result"
    }
   ],
   "source": [
    "PG_train[\"matchType\"].value_counts()"
   ]
  },
  {
   "cell_type": "markdown",
   "metadata": {},
   "source": [
    "Looking at the distribution of the different matchType variable. I might remove all the ones under 'solo' as they represent very little to the total. With this said, I might make separate training models for them after the main types."
   ]
  },
  {
   "cell_type": "code",
   "execution_count": 11,
   "metadata": {},
   "outputs": [
    {
     "data": {
      "text/plain": [
       "matchType\n",
       "squad-fpp            37\n",
       "duo                  51\n",
       "solo-fpp            100\n",
       "squad                34\n",
       "duo-fpp              51\n",
       "solo                100\n",
       "normal-squad-fpp     27\n",
       "crashfpp             52\n",
       "flaretpp             28\n",
       "normal-solo-fpp      54\n",
       "flarefpp             29\n",
       "normal-duo-fpp       50\n",
       "normal-duo           20\n",
       "normal-squad         25\n",
       "crashtpp             46\n",
       "normal-solo          44\n",
       "Name: maxPlace, dtype: int64"
      ]
     },
     "execution_count": 11,
     "metadata": {},
     "output_type": "execute_result"
    }
   ],
   "source": [
    "PG_train.groupby(['matchType'], sort=False)['maxPlace'].max()"
   ]
  },
  {
   "cell_type": "markdown",
   "metadata": {},
   "source": [
    "The difficulty in creating one unique predictive algorithm is that game parameters are very different from one matchType to another.\n",
    "\n",
    "I think I'll split the dataset per matchType or to simplify, split between solo, duo and squad, though squad can also be played as solo or duo. So I might train the model on squad only (squad-fpp+squad) and see if how it works for the other matchTypes. Though I could train a model across the entire dataset regardless of matchType, I can't do it at this stage because my computer can't manage it: splitting analysis by matchType might help to lower CPU usage."
   ]
  },
  {
   "cell_type": "code",
   "execution_count": 14,
   "metadata": {},
   "outputs": [
    {
     "data": {
      "text/plain": [
       "3000"
      ]
     },
     "execution_count": 14,
     "metadata": {},
     "output_type": "execute_result"
    }
   ],
   "source": [
    "PG_train['winPlacePerc'].nunique()"
   ]
  },
  {
   "cell_type": "code",
   "execution_count": 13,
   "metadata": {},
   "outputs": [
    {
     "data": {
      "text/plain": [
       "winPlacePerc\n",
       "0.4444    100\n",
       "0.6400     76\n",
       "0.7755     99\n",
       "0.1667     97\n",
       "0.1875     97\n",
       "0.0370     82\n",
       "0.0000    100\n",
       "0.7368     96\n",
       "0.3704     82\n",
       "0.2143     99\n",
       "0.3929     85\n",
       "0.4043     95\n",
       "0.9286     99\n",
       "0.8750     97\n",
       "0.9000     91\n",
       "0.2766     95\n",
       "0.7308     79\n",
       "0.8211     96\n",
       "0.1923     79\n",
       "0.9310     88\n",
       "0.6383     95\n",
       "0.7500     97\n",
       "0.9592     99\n",
       "0.9231     92\n",
       "0.8696     93\n",
       "0.1154     79\n",
       "0.7234     95\n",
       "0.9630     82\n",
       "0.4255     95\n",
       "0.0667     91\n",
       "         ... \n",
       "0.4714     71\n",
       "0.6711     77\n",
       "0.3443     62\n",
       "0.1148     62\n",
       "0.8070     58\n",
       "0.9423     53\n",
       "0.6167     61\n",
       "0.1311     62\n",
       "0.4833     61\n",
       "0.8833     61\n",
       "0.1268     72\n",
       "0.2687     68\n",
       "0.4098     62\n",
       "0.7115     53\n",
       "0.2237     77\n",
       "0.2742     63\n",
       "0.9344     62\n",
       "0.0635     64\n",
       "0.0423     72\n",
       "0.5915     72\n",
       "0.0164     62\n",
       "0.4366     72\n",
       "0.9859     72\n",
       "0.2167     61\n",
       "0.0577     53\n",
       "0.6212     67\n",
       "0.0845     72\n",
       "0.1207     59\n",
       "0.4561     58\n",
       "0.2879     67\n",
       "Name: maxPlace, Length: 3000, dtype: int64"
      ]
     },
     "execution_count": 13,
     "metadata": {},
     "output_type": "execute_result"
    }
   ],
   "source": [
    "PG_train.groupby(['winPlacePerc'], sort=False)['maxPlace'].max()"
   ]
  },
  {
   "cell_type": "code",
   "execution_count": null,
   "metadata": {},
   "outputs": [],
   "source": [
    "PG_train.groupby(['winPlacePerc'], sort=False)['maxPlace'].min()"
   ]
  },
  {
   "cell_type": "code",
   "execution_count": null,
   "metadata": {},
   "outputs": [],
   "source": [
    "fig2 = PG_train['maxPlace'].hist(by=PG_train['winPlacePerc'],figsize=(10,10),ec=\"k\")\n",
    "plt.tight_layout()"
   ]
  }
 ],
 "metadata": {
  "kernelspec": {
   "display_name": "Python [conda env:anaconda3]",
   "language": "python",
   "name": "conda-env-anaconda3-py"
  },
  "language_info": {
   "codemirror_mode": {
    "name": "ipython",
    "version": 3
   },
   "file_extension": ".py",
   "mimetype": "text/x-python",
   "name": "python",
   "nbconvert_exporter": "python",
   "pygments_lexer": "ipython3",
   "version": "3.6.6"
  }
 },
 "nbformat": 4,
 "nbformat_minor": 2
}
