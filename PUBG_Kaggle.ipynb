{
 "cells": [
  {
   "cell_type": "code",
   "execution_count": 1,
   "metadata": {},
   "outputs": [],
   "source": [
    "import numpy as np\n",
    "import pandas as pd\n",
    "import matplotlib.pyplot as plt\n",
    "import seaborn as sns\n",
    "%matplotlib inline"
   ]
  },
  {
   "cell_type": "code",
   "execution_count": 2,
   "metadata": {},
   "outputs": [],
   "source": [
    "import datetime\n",
    "from scipy import stats\n",
    "from scipy.sparse import hstack, csr_matrix\n",
    "from sklearn.model_selection import train_test_split\n",
    "from collections import Counter\n",
    "from nltk.corpus import stopwords\n",
    "from nltk.util import ngrams\n",
    "from sklearn.feature_extraction.text import TfidfVectorizer\n",
    "from sklearn.preprocessing import StandardScaler"
   ]
  },
  {
   "cell_type": "code",
   "execution_count": 3,
   "metadata": {},
   "outputs": [
    {
     "data": {
      "text/html": [
       "<script>requirejs.config({paths: { 'plotly': ['https://cdn.plot.ly/plotly-latest.min']},});if(!window.Plotly) {{require(['plotly'],function(plotly) {window.Plotly=plotly;});}}</script>"
      ],
      "text/vnd.plotly.v1+html": [
       "<script>requirejs.config({paths: { 'plotly': ['https://cdn.plot.ly/plotly-latest.min']},});if(!window.Plotly) {{require(['plotly'],function(plotly) {window.Plotly=plotly;});}}</script>"
      ]
     },
     "metadata": {},
     "output_type": "display_data"
    }
   ],
   "source": [
    "import plotly.offline as py\n",
    "py.init_notebook_mode(connected=True)\n",
    "import plotly.graph_objs as go\n",
    "import plotly.tools as tls"
   ]
  },
  {
   "cell_type": "code",
   "execution_count": 4,
   "metadata": {},
   "outputs": [],
   "source": [
    "from sklearn import model_selection\n",
    "from sklearn.metrics import accuracy_score"
   ]
  },
  {
   "cell_type": "code",
   "execution_count": 5,
   "metadata": {},
   "outputs": [],
   "source": [
    "#import training data\n",
    "PG_train = pd.read_csv(\"train_V2.csv\")"
   ]
  },
  {
   "cell_type": "code",
   "execution_count": 6,
   "metadata": {},
   "outputs": [
    {
     "name": "stdout",
     "output_type": "stream",
     "text": [
      "There are 4446966 samples and 29 features in the training PUBG V2 dataset.\n"
     ]
    }
   ],
   "source": [
    "print(f'There are {PG_train.shape[0]} samples and {PG_train.shape[1]} features in the training PUBG V2 dataset.')"
   ]
  },
  {
   "cell_type": "code",
   "execution_count": 7,
   "metadata": {},
   "outputs": [
    {
     "data": {
      "text/html": [
       "<div>\n",
       "<style scoped>\n",
       "    .dataframe tbody tr th:only-of-type {\n",
       "        vertical-align: middle;\n",
       "    }\n",
       "\n",
       "    .dataframe tbody tr th {\n",
       "        vertical-align: top;\n",
       "    }\n",
       "\n",
       "    .dataframe thead th {\n",
       "        text-align: right;\n",
       "    }\n",
       "</style>\n",
       "<table border=\"1\" class=\"dataframe\">\n",
       "  <thead>\n",
       "    <tr style=\"text-align: right;\">\n",
       "      <th></th>\n",
       "      <th>Id</th>\n",
       "      <th>groupId</th>\n",
       "      <th>matchId</th>\n",
       "      <th>assists</th>\n",
       "      <th>boosts</th>\n",
       "      <th>damageDealt</th>\n",
       "      <th>DBNOs</th>\n",
       "      <th>headshotKills</th>\n",
       "      <th>heals</th>\n",
       "      <th>killPlace</th>\n",
       "      <th>killPoints</th>\n",
       "      <th>kills</th>\n",
       "      <th>killStreaks</th>\n",
       "      <th>longestKill</th>\n",
       "      <th>matchDuration</th>\n",
       "      <th>matchType</th>\n",
       "      <th>maxPlace</th>\n",
       "      <th>numGroups</th>\n",
       "      <th>rankPoints</th>\n",
       "      <th>revives</th>\n",
       "      <th>rideDistance</th>\n",
       "      <th>roadKills</th>\n",
       "      <th>swimDistance</th>\n",
       "      <th>teamKills</th>\n",
       "      <th>vehicleDestroys</th>\n",
       "      <th>walkDistance</th>\n",
       "      <th>weaponsAcquired</th>\n",
       "      <th>winPoints</th>\n",
       "      <th>winPlacePerc</th>\n",
       "    </tr>\n",
       "  </thead>\n",
       "  <tbody>\n",
       "    <tr>\n",
       "      <th>0</th>\n",
       "      <td>7f96b2f878858a</td>\n",
       "      <td>4d4b580de459be</td>\n",
       "      <td>a10357fd1a4a91</td>\n",
       "      <td>0</td>\n",
       "      <td>0</td>\n",
       "      <td>0.00</td>\n",
       "      <td>0</td>\n",
       "      <td>0</td>\n",
       "      <td>0</td>\n",
       "      <td>60</td>\n",
       "      <td>1241</td>\n",
       "      <td>0</td>\n",
       "      <td>0</td>\n",
       "      <td>0.00</td>\n",
       "      <td>1306</td>\n",
       "      <td>squad-fpp</td>\n",
       "      <td>28</td>\n",
       "      <td>26</td>\n",
       "      <td>-1</td>\n",
       "      <td>0</td>\n",
       "      <td>0.0000</td>\n",
       "      <td>0</td>\n",
       "      <td>0.00</td>\n",
       "      <td>0</td>\n",
       "      <td>0</td>\n",
       "      <td>244.80</td>\n",
       "      <td>1</td>\n",
       "      <td>1466</td>\n",
       "      <td>0.4444</td>\n",
       "    </tr>\n",
       "    <tr>\n",
       "      <th>1</th>\n",
       "      <td>eef90569b9d03c</td>\n",
       "      <td>684d5656442f9e</td>\n",
       "      <td>aeb375fc57110c</td>\n",
       "      <td>0</td>\n",
       "      <td>0</td>\n",
       "      <td>91.47</td>\n",
       "      <td>0</td>\n",
       "      <td>0</td>\n",
       "      <td>0</td>\n",
       "      <td>57</td>\n",
       "      <td>0</td>\n",
       "      <td>0</td>\n",
       "      <td>0</td>\n",
       "      <td>0.00</td>\n",
       "      <td>1777</td>\n",
       "      <td>squad-fpp</td>\n",
       "      <td>26</td>\n",
       "      <td>25</td>\n",
       "      <td>1484</td>\n",
       "      <td>0</td>\n",
       "      <td>0.0045</td>\n",
       "      <td>0</td>\n",
       "      <td>11.04</td>\n",
       "      <td>0</td>\n",
       "      <td>0</td>\n",
       "      <td>1434.00</td>\n",
       "      <td>5</td>\n",
       "      <td>0</td>\n",
       "      <td>0.6400</td>\n",
       "    </tr>\n",
       "    <tr>\n",
       "      <th>2</th>\n",
       "      <td>1eaf90ac73de72</td>\n",
       "      <td>6a4a42c3245a74</td>\n",
       "      <td>110163d8bb94ae</td>\n",
       "      <td>1</td>\n",
       "      <td>0</td>\n",
       "      <td>68.00</td>\n",
       "      <td>0</td>\n",
       "      <td>0</td>\n",
       "      <td>0</td>\n",
       "      <td>47</td>\n",
       "      <td>0</td>\n",
       "      <td>0</td>\n",
       "      <td>0</td>\n",
       "      <td>0.00</td>\n",
       "      <td>1318</td>\n",
       "      <td>duo</td>\n",
       "      <td>50</td>\n",
       "      <td>47</td>\n",
       "      <td>1491</td>\n",
       "      <td>0</td>\n",
       "      <td>0.0000</td>\n",
       "      <td>0</td>\n",
       "      <td>0.00</td>\n",
       "      <td>0</td>\n",
       "      <td>0</td>\n",
       "      <td>161.80</td>\n",
       "      <td>2</td>\n",
       "      <td>0</td>\n",
       "      <td>0.7755</td>\n",
       "    </tr>\n",
       "    <tr>\n",
       "      <th>3</th>\n",
       "      <td>4616d365dd2853</td>\n",
       "      <td>a930a9c79cd721</td>\n",
       "      <td>f1f1f4ef412d7e</td>\n",
       "      <td>0</td>\n",
       "      <td>0</td>\n",
       "      <td>32.90</td>\n",
       "      <td>0</td>\n",
       "      <td>0</td>\n",
       "      <td>0</td>\n",
       "      <td>75</td>\n",
       "      <td>0</td>\n",
       "      <td>0</td>\n",
       "      <td>0</td>\n",
       "      <td>0.00</td>\n",
       "      <td>1436</td>\n",
       "      <td>squad-fpp</td>\n",
       "      <td>31</td>\n",
       "      <td>30</td>\n",
       "      <td>1408</td>\n",
       "      <td>0</td>\n",
       "      <td>0.0000</td>\n",
       "      <td>0</td>\n",
       "      <td>0.00</td>\n",
       "      <td>0</td>\n",
       "      <td>0</td>\n",
       "      <td>202.70</td>\n",
       "      <td>3</td>\n",
       "      <td>0</td>\n",
       "      <td>0.1667</td>\n",
       "    </tr>\n",
       "    <tr>\n",
       "      <th>4</th>\n",
       "      <td>315c96c26c9aac</td>\n",
       "      <td>de04010b3458dd</td>\n",
       "      <td>6dc8ff871e21e6</td>\n",
       "      <td>0</td>\n",
       "      <td>0</td>\n",
       "      <td>100.00</td>\n",
       "      <td>0</td>\n",
       "      <td>0</td>\n",
       "      <td>0</td>\n",
       "      <td>45</td>\n",
       "      <td>0</td>\n",
       "      <td>1</td>\n",
       "      <td>1</td>\n",
       "      <td>58.53</td>\n",
       "      <td>1424</td>\n",
       "      <td>solo-fpp</td>\n",
       "      <td>97</td>\n",
       "      <td>95</td>\n",
       "      <td>1560</td>\n",
       "      <td>0</td>\n",
       "      <td>0.0000</td>\n",
       "      <td>0</td>\n",
       "      <td>0.00</td>\n",
       "      <td>0</td>\n",
       "      <td>0</td>\n",
       "      <td>49.75</td>\n",
       "      <td>2</td>\n",
       "      <td>0</td>\n",
       "      <td>0.1875</td>\n",
       "    </tr>\n",
       "  </tbody>\n",
       "</table>\n",
       "</div>"
      ],
      "text/plain": [
       "               Id         groupId         matchId  assists  boosts  \\\n",
       "0  7f96b2f878858a  4d4b580de459be  a10357fd1a4a91        0       0   \n",
       "1  eef90569b9d03c  684d5656442f9e  aeb375fc57110c        0       0   \n",
       "2  1eaf90ac73de72  6a4a42c3245a74  110163d8bb94ae        1       0   \n",
       "3  4616d365dd2853  a930a9c79cd721  f1f1f4ef412d7e        0       0   \n",
       "4  315c96c26c9aac  de04010b3458dd  6dc8ff871e21e6        0       0   \n",
       "\n",
       "   damageDealt  DBNOs  headshotKills  heals  killPlace  killPoints  kills  \\\n",
       "0         0.00      0              0      0         60        1241      0   \n",
       "1        91.47      0              0      0         57           0      0   \n",
       "2        68.00      0              0      0         47           0      0   \n",
       "3        32.90      0              0      0         75           0      0   \n",
       "4       100.00      0              0      0         45           0      1   \n",
       "\n",
       "   killStreaks  longestKill  matchDuration  matchType  maxPlace  numGroups  \\\n",
       "0            0         0.00           1306  squad-fpp        28         26   \n",
       "1            0         0.00           1777  squad-fpp        26         25   \n",
       "2            0         0.00           1318        duo        50         47   \n",
       "3            0         0.00           1436  squad-fpp        31         30   \n",
       "4            1        58.53           1424   solo-fpp        97         95   \n",
       "\n",
       "   rankPoints  revives  rideDistance  roadKills  swimDistance  teamKills  \\\n",
       "0          -1        0        0.0000          0          0.00          0   \n",
       "1        1484        0        0.0045          0         11.04          0   \n",
       "2        1491        0        0.0000          0          0.00          0   \n",
       "3        1408        0        0.0000          0          0.00          0   \n",
       "4        1560        0        0.0000          0          0.00          0   \n",
       "\n",
       "   vehicleDestroys  walkDistance  weaponsAcquired  winPoints  winPlacePerc  \n",
       "0                0        244.80                1       1466        0.4444  \n",
       "1                0       1434.00                5          0        0.6400  \n",
       "2                0        161.80                2          0        0.7755  \n",
       "3                0        202.70                3          0        0.1667  \n",
       "4                0         49.75                2          0        0.1875  "
      ]
     },
     "execution_count": 7,
     "metadata": {},
     "output_type": "execute_result"
    }
   ],
   "source": [
    "pd.set_option('display.max_columns', None)\n",
    "PG_train.head()"
   ]
  },
  {
   "cell_type": "code",
   "execution_count": 8,
   "metadata": {},
   "outputs": [
    {
     "data": {
      "application/vnd.plotly.v1+json": {
       "data": [
        {
         "name": "00b50b9b9fc161",
         "showlegend": false,
         "type": "scatter",
         "uid": "bff8c8be-dfa0-11e8-abf9-0088653b14b4",
         "x": [
          0
         ],
         "y": [
          92
         ]
        },
        {
         "name": "6ddbe590fb1a8e",
         "showlegend": false,
         "type": "scatter",
         "uid": "bffe516c-dfa0-11e8-9297-0088653b14b4",
         "x": [
          13.19
         ],
         "y": [
          27
         ]
        },
        {
         "name": "88595fae2aa18c",
         "showlegend": false,
         "type": "scatter",
         "uid": "bffe545a-dfa0-11e8-ba78-0088653b14b4",
         "x": [
          0
         ],
         "y": [
          94
         ]
        },
        {
         "name": "16e7bd223f9534",
         "showlegend": false,
         "type": "scatter",
         "uid": "bffe5626-dfa0-11e8-ba2a-0088653b14b4",
         "x": [
          47.7
         ],
         "y": [
          98
         ]
        },
        {
         "name": "fa42e4a6851f58",
         "showlegend": false,
         "type": "scatter",
         "uid": "bffe5842-dfa0-11e8-9042-0088653b14b4",
         "x": [
          711.2
         ],
         "y": [
          28
         ]
        },
        {
         "name": "6f0367ac042cc1",
         "showlegend": false,
         "type": "scatter",
         "uid": "bffe59d2-dfa0-11e8-a786-0088653b14b4",
         "x": [
          96.72
         ],
         "y": [
          49
         ]
        },
        {
         "name": "8e02d4aee00735",
         "showlegend": false,
         "type": "scatter",
         "uid": "bffe5b4c-dfa0-11e8-bace-0088653b14b4",
         "x": [
          28.2
         ],
         "y": [
          46
         ]
        },
        {
         "name": "04eca41ecdea6e",
         "showlegend": false,
         "type": "scatter",
         "uid": "bffe5cde-dfa0-11e8-9097-0088653b14b4",
         "x": [
          0
         ],
         "y": [
          49
         ]
        },
        {
         "name": "ec367a832de465",
         "showlegend": false,
         "type": "scatter",
         "uid": "bffe5e78-dfa0-11e8-8f0f-0088653b14b4",
         "x": [
          67.66
         ],
         "y": [
          45
         ]
        },
        {
         "name": "d31cc8cd452369",
         "showlegend": false,
         "type": "scatter",
         "uid": "bffe6008-dfa0-11e8-bd11-0088653b14b4",
         "x": [
          0
         ],
         "y": [
          95
         ]
        },
        {
         "name": "3e8b2beda64c73",
         "showlegend": false,
         "type": "scatter",
         "uid": "bffe618c-dfa0-11e8-8040-0088653b14b4",
         "x": [
          626.3
         ],
         "y": [
          49
         ]
        },
        {
         "name": "c77bea0156c302",
         "showlegend": false,
         "type": "scatter",
         "uid": "bffe6314-dfa0-11e8-ae4e-0088653b14b4",
         "x": [
          0
         ],
         "y": [
          98
         ]
        },
        {
         "name": "b19a9aa86bea31",
         "showlegend": false,
         "type": "scatter",
         "uid": "bffe64d8-dfa0-11e8-93ac-0088653b14b4",
         "x": [
          29.4
         ],
         "y": [
          28
         ]
        },
        {
         "name": "e1076e0b1a9c3d",
         "showlegend": false,
         "type": "scatter",
         "uid": "bffe667a-dfa0-11e8-90dd-0088653b14b4",
         "x": [
          0
         ],
         "y": [
          30
         ]
        },
        {
         "name": "f56f452aae1660",
         "showlegend": false,
         "type": "scatter",
         "uid": "bffe6814-dfa0-11e8-b8fc-0088653b14b4",
         "x": [
          111.9
         ],
         "y": [
          48
         ]
        },
        {
         "name": "124957328158a7",
         "showlegend": false,
         "type": "scatter",
         "uid": "bffe6990-dfa0-11e8-9e40-0088653b14b4",
         "x": [
          587.2
         ],
         "y": [
          15
         ]
        },
        {
         "name": "f016afdb5f46aa",
         "showlegend": false,
         "type": "scatter",
         "uid": "bffe6b1e-dfa0-11e8-a85f-0088653b14b4",
         "x": [
          163.4
         ],
         "y": [
          29
         ]
        },
        {
         "name": "27514226e18b6a",
         "showlegend": false,
         "type": "scatter",
         "uid": "bffe6cba-dfa0-11e8-bc76-0088653b14b4",
         "x": [
          642.1
         ],
         "y": [
          27
         ]
        },
        {
         "name": "4fa7890832b4f1",
         "showlegend": false,
         "type": "scatter",
         "uid": "bffe6e40-dfa0-11e8-a3b2-0088653b14b4",
         "x": [
          0
         ],
         "y": [
          28
         ]
        },
        {
         "name": "a6ac6747909060",
         "showlegend": false,
         "type": "scatter",
         "uid": "bffe6fda-dfa0-11e8-9207-0088653b14b4",
         "x": [
          154.4
         ],
         "y": [
          29
         ]
        },
        {
         "name": "e69efdcea3a89b",
         "showlegend": false,
         "type": "scatter",
         "uid": "bffe7158-dfa0-11e8-a97e-0088653b14b4",
         "x": [
          310
         ],
         "y": [
          29
         ]
        },
        {
         "name": "1ec98fad210777",
         "showlegend": false,
         "type": "scatter",
         "uid": "bffe72d2-dfa0-11e8-921e-0088653b14b4",
         "x": [
          104.9
         ],
         "y": [
          27
         ]
        },
        {
         "name": "7127ad94c47112",
         "showlegend": false,
         "type": "scatter",
         "uid": "bffe746c-dfa0-11e8-9468-0088653b14b4",
         "x": [
          27.36
         ],
         "y": [
          49
         ]
        },
        {
         "name": "023388dc892126",
         "showlegend": false,
         "type": "scatter",
         "uid": "bffe75f4-dfa0-11e8-a837-0088653b14b4",
         "x": [
          124.6
         ],
         "y": [
          28
         ]
        },
        {
         "name": "0c955eed20658b",
         "showlegend": false,
         "type": "scatter",
         "uid": "bffe7782-dfa0-11e8-8715-0088653b14b4",
         "x": [
          802.1
         ],
         "y": [
          48
         ]
        },
        {
         "name": "28adc5f2641230",
         "showlegend": false,
         "type": "scatter",
         "uid": "bffe7930-dfa0-11e8-b972-0088653b14b4",
         "x": [
          0
         ],
         "y": [
          29
         ]
        },
        {
         "name": "c30a828c1a9f9d",
         "showlegend": false,
         "type": "scatter",
         "uid": "bffe7ab6-dfa0-11e8-aee6-0088653b14b4",
         "x": [
          200.5
         ],
         "y": [
          26
         ]
        },
        {
         "name": "5a8e638e1a87fb",
         "showlegend": false,
         "type": "scatter",
         "uid": "bffe7c3a-dfa0-11e8-8863-0088653b14b4",
         "x": [
          166.2
         ],
         "y": [
          49
         ]
        },
        {
         "name": "aa98db4908fd9c",
         "showlegend": false,
         "type": "scatter",
         "uid": "bffe7de2-dfa0-11e8-9f60-0088653b14b4",
         "x": [
          33.11
         ],
         "y": [
          31
         ]
        },
        {
         "name": "8be19cb2608416",
         "showlegend": false,
         "type": "scatter",
         "uid": "bffe7f66-dfa0-11e8-9b5e-0088653b14b4",
         "x": [
          0
         ],
         "y": [
          47
         ]
        },
        {
         "name": "af78478f313e02",
         "showlegend": false,
         "type": "scatter",
         "uid": "bffe80e2-dfa0-11e8-8e65-0088653b14b4",
         "x": [
          0
         ],
         "y": [
          28
         ]
        },
        {
         "name": "1d734449bb7eb8",
         "showlegend": false,
         "type": "scatter",
         "uid": "bffe8286-dfa0-11e8-a747-0088653b14b4",
         "x": [
          176.4
         ],
         "y": [
          43
         ]
        },
        {
         "name": "ad7485240079bf",
         "showlegend": false,
         "type": "scatter",
         "uid": "bffe840c-dfa0-11e8-ada3-0088653b14b4",
         "x": [
          9.286
         ],
         "y": [
          32
         ]
        },
        {
         "name": "1586dd09eb39b3",
         "showlegend": false,
         "type": "scatter",
         "uid": "bffe8588-dfa0-11e8-8f64-0088653b14b4",
         "x": [
          100
         ],
         "y": [
          27
         ]
        },
        {
         "name": "9bc26158588e19",
         "showlegend": false,
         "type": "scatter",
         "uid": "bffe8722-dfa0-11e8-b9fb-0088653b14b4",
         "x": [
          0
         ],
         "y": [
          49
         ]
        },
        {
         "name": "ddfc75dcbd200d",
         "showlegend": false,
         "type": "scatter",
         "uid": "bffe889e-dfa0-11e8-b679-0088653b14b4",
         "x": [
          0
         ],
         "y": [
          50
         ]
        },
        {
         "name": "d1ac9fa138fc0a",
         "showlegend": false,
         "type": "scatter",
         "uid": "bffe8a1a-dfa0-11e8-af33-0088653b14b4",
         "x": [
          0
         ],
         "y": [
          49
         ]
        },
        {
         "name": "fc0f814b4cb440",
         "showlegend": false,
         "type": "scatter",
         "uid": "bffe8bd2-dfa0-11e8-bf1b-0088653b14b4",
         "x": [
          86.73
         ],
         "y": [
          47
         ]
        },
        {
         "name": "b2bbe06ac9d918",
         "showlegend": false,
         "type": "scatter",
         "uid": "bffe8d94-dfa0-11e8-a368-0088653b14b4",
         "x": [
          976.7
         ],
         "y": [
          97
         ]
        },
        {
         "name": "d63bd990159556",
         "showlegend": false,
         "type": "scatter",
         "uid": "bffe8f2e-dfa0-11e8-8d73-0088653b14b4",
         "x": [
          100
         ],
         "y": [
          97
         ]
        },
        {
         "name": "f85cd8314de7fc",
         "showlegend": false,
         "type": "scatter",
         "uid": "bffe90d2-dfa0-11e8-a13d-0088653b14b4",
         "x": [
          0
         ],
         "y": [
          50
         ]
        },
        {
         "name": "4cbfd3e607b431",
         "showlegend": false,
         "type": "scatter",
         "uid": "bffe9258-dfa0-11e8-8f63-0088653b14b4",
         "x": [
          80.6
         ],
         "y": [
          29
         ]
        },
        {
         "name": "d6547c9dd6b4e6",
         "showlegend": false,
         "type": "scatter",
         "uid": "bffe93d4-dfa0-11e8-a53b-0088653b14b4",
         "x": [
          0
         ],
         "y": [
          97
         ]
        },
        {
         "name": "0052df64f7f435",
         "showlegend": false,
         "type": "scatter",
         "uid": "bffe958c-dfa0-11e8-b7d9-0088653b14b4",
         "x": [
          220
         ],
         "y": [
          30
         ]
        },
        {
         "name": "52ff9d27aed83e",
         "showlegend": false,
         "type": "scatter",
         "uid": "bffe96fe-dfa0-11e8-84d0-0088653b14b4",
         "x": [
          109.3
         ],
         "y": [
          31
         ]
        },
        {
         "name": "9ea4ef8a4bc097",
         "showlegend": false,
         "type": "scatter",
         "uid": "bffe9958-dfa0-11e8-bf9d-0088653b14b4",
         "x": [
          0
         ],
         "y": [
          29
         ]
        },
        {
         "name": "2fd7160d938ade",
         "showlegend": false,
         "type": "scatter",
         "uid": "bffe9d86-dfa0-11e8-8e6a-0088653b14b4",
         "x": [
          99.08
         ],
         "y": [
          47
         ]
        },
        {
         "name": "0b89550178709e",
         "showlegend": false,
         "type": "scatter",
         "uid": "bffea006-dfa0-11e8-8a80-0088653b14b4",
         "x": [
          0
         ],
         "y": [
          31
         ]
        },
        {
         "name": "68ceb90da53f49",
         "showlegend": false,
         "type": "scatter",
         "uid": "bffea248-dfa0-11e8-8c3a-0088653b14b4",
         "x": [
          92.7
         ],
         "y": [
          49
         ]
        },
        {
         "name": "df3f5c3f49dd6f",
         "showlegend": false,
         "type": "scatter",
         "uid": "bffea50c-dfa0-11e8-9067-0088653b14b4",
         "x": [
          0
         ],
         "y": [
          27
         ]
        },
        {
         "name": "451d6801a2dc23",
         "showlegend": false,
         "type": "scatter",
         "uid": "bffea6da-dfa0-11e8-bba7-0088653b14b4",
         "x": [
          608.6
         ],
         "y": [
          28
         ]
        },
        {
         "name": "32e16c6d2efca1",
         "showlegend": false,
         "type": "scatter",
         "uid": "bffea8ba-dfa0-11e8-a186-0088653b14b4",
         "x": [
          195.1
         ],
         "y": [
          27
         ]
        },
        {
         "name": "332d4cec2dc3ba",
         "showlegend": false,
         "type": "scatter",
         "uid": "bffeac70-dfa0-11e8-a6f1-0088653b14b4",
         "x": [
          154.8
         ],
         "y": [
          27
         ]
        },
        {
         "name": "7e4d5fd8371260",
         "showlegend": false,
         "type": "scatter",
         "uid": "bffeae8c-dfa0-11e8-95e1-0088653b14b4",
         "x": [
          0
         ],
         "y": [
          46
         ]
        },
        {
         "name": "92ecafacc7e5c2",
         "showlegend": false,
         "type": "scatter",
         "uid": "bffeb11e-dfa0-11e8-baaf-0088653b14b4",
         "x": [
          100
         ],
         "y": [
          28
         ]
        },
        {
         "name": "a8eb0b1952a371",
         "showlegend": false,
         "type": "scatter",
         "uid": "bffeb440-dfa0-11e8-be3c-0088653b14b4",
         "x": [
          70.95
         ],
         "y": [
          47
         ]
        },
        {
         "name": "9f1f6132fafc8f",
         "showlegend": false,
         "type": "scatter",
         "uid": "bffeb63e-dfa0-11e8-9acf-0088653b14b4",
         "x": [
          0
         ],
         "y": [
          25
         ]
        },
        {
         "name": "8690235f3c2391",
         "showlegend": false,
         "type": "scatter",
         "uid": "bffeb80a-dfa0-11e8-8ed3-0088653b14b4",
         "x": [
          0
         ],
         "y": [
          29
         ]
        },
        {
         "name": "0c607936cfa3d8",
         "showlegend": false,
         "type": "scatter",
         "uid": "bffeb9a4-dfa0-11e8-a929-0088653b14b4",
         "x": [
          141.3
         ],
         "y": [
          29
         ]
        },
        {
         "name": "33490ba6b76361",
         "showlegend": false,
         "type": "scatter",
         "uid": "bffebb34-dfa0-11e8-bca0-0088653b14b4",
         "x": [
          39.12
         ],
         "y": [
          25
         ]
        },
        {
         "name": "b265af88f5105a",
         "showlegend": false,
         "type": "scatter",
         "uid": "bffebcec-dfa0-11e8-8f03-0088653b14b4",
         "x": [
          85
         ],
         "y": [
          48
         ]
        },
        {
         "name": "9fc818377766c7",
         "showlegend": false,
         "type": "scatter",
         "uid": "bffebefe-dfa0-11e8-b7ba-0088653b14b4",
         "x": [
          0
         ],
         "y": [
          26
         ]
        },
        {
         "name": "4f163c250354ce",
         "showlegend": false,
         "type": "scatter",
         "uid": "bffec192-dfa0-11e8-8cab-0088653b14b4",
         "x": [
          57.52
         ],
         "y": [
          49
         ]
        },
        {
         "name": "98b8f4d24eb2a9",
         "showlegend": false,
         "type": "scatter",
         "uid": "bffec3d8-dfa0-11e8-9bb8-0088653b14b4",
         "x": [
          255
         ],
         "y": [
          30
         ]
        },
        {
         "name": "1efb28050e67b3",
         "showlegend": false,
         "type": "scatter",
         "uid": "bffec6b0-dfa0-11e8-9d5c-0088653b14b4",
         "x": [
          119.3
         ],
         "y": [
          28
         ]
        },
        {
         "name": "d75505e1df6fa7",
         "showlegend": false,
         "type": "scatter",
         "uid": "bffec946-dfa0-11e8-be1e-0088653b14b4",
         "x": [
          42.98
         ],
         "y": [
          28
         ]
        },
        {
         "name": "e41b8899dfd847",
         "showlegend": false,
         "type": "scatter",
         "uid": "bffecb24-dfa0-11e8-a410-0088653b14b4",
         "x": [
          0
         ],
         "y": [
          49
         ]
        },
        {
         "name": "46ffdb6a8e5e4a",
         "showlegend": false,
         "type": "scatter",
         "uid": "bffecd2c-dfa0-11e8-a323-0088653b14b4",
         "x": [
          274
         ],
         "y": [
          91
         ]
        },
        {
         "name": "494802ad04209e",
         "showlegend": false,
         "type": "scatter",
         "uid": "bffecee4-dfa0-11e8-a4f3-0088653b14b4",
         "x": [
          69.09
         ],
         "y": [
          27
         ]
        },
        {
         "name": "e487d4ccc6a747",
         "showlegend": false,
         "type": "scatter",
         "uid": "bffed092-dfa0-11e8-8653-0088653b14b4",
         "x": [
          123.2
         ],
         "y": [
          33
         ]
        },
        {
         "name": "43ac23a728093e",
         "showlegend": false,
         "type": "scatter",
         "uid": "bffed240-dfa0-11e8-aac2-0088653b14b4",
         "x": [
          148.4
         ],
         "y": [
          92
         ]
        },
        {
         "name": "2c39ffb43d5741",
         "showlegend": false,
         "type": "scatter",
         "uid": "bffed3ee-dfa0-11e8-9fac-0088653b14b4",
         "x": [
          0
         ],
         "y": [
          31
         ]
        },
        {
         "name": "91a6752711ccf3",
         "showlegend": false,
         "type": "scatter",
         "uid": "bffed5a6-dfa0-11e8-8b58-0088653b14b4",
         "x": [
          159.7
         ],
         "y": [
          30
         ]
        },
        {
         "name": "e7bf9f33b0d340",
         "showlegend": false,
         "type": "scatter",
         "uid": "bffed740-dfa0-11e8-8660-0088653b14b4",
         "x": [
          174.9
         ],
         "y": [
          49
         ]
        },
        {
         "name": "9ec38f72f673e7",
         "showlegend": false,
         "type": "scatter",
         "uid": "bffed8d0-dfa0-11e8-aa92-0088653b14b4",
         "x": [
          248.4
         ],
         "y": [
          27
         ]
        },
        {
         "name": "39a233d6f58ff7",
         "showlegend": false,
         "type": "scatter",
         "uid": "bffeda88-dfa0-11e8-931d-0088653b14b4",
         "x": [
          316.2
         ],
         "y": [
          27
         ]
        },
        {
         "name": "60b9a511add159",
         "showlegend": false,
         "type": "scatter",
         "uid": "bffedc36-dfa0-11e8-884b-0088653b14b4",
         "x": [
          40.41
         ],
         "y": [
          30
         ]
        },
        {
         "name": "a4c3bde808dcf5",
         "showlegend": false,
         "type": "scatter",
         "uid": "bffede0c-dfa0-11e8-a72d-0088653b14b4",
         "x": [
          414.5
         ],
         "y": [
          48
         ]
        },
        {
         "name": "54ff62ab58da66",
         "showlegend": false,
         "type": "scatter",
         "uid": "bffedfba-dfa0-11e8-ab10-0088653b14b4",
         "x": [
          434.9
         ],
         "y": [
          47
         ]
        },
        {
         "name": "11a2f6af6075b2",
         "showlegend": false,
         "type": "scatter",
         "uid": "bffee168-dfa0-11e8-b218-0088653b14b4",
         "x": [
          300.5
         ],
         "y": [
          28
         ]
        },
        {
         "name": "2005c4947e1bc6",
         "showlegend": false,
         "type": "scatter",
         "uid": "bffee370-dfa0-11e8-95d6-0088653b14b4",
         "x": [
          0
         ],
         "y": [
          49
         ]
        },
        {
         "name": "093daafe57172b",
         "showlegend": false,
         "type": "scatter",
         "uid": "bffee534-dfa0-11e8-9b74-0088653b14b4",
         "x": [
          145.8
         ],
         "y": [
          29
         ]
        },
        {
         "name": "bd3c8cd344d841",
         "showlegend": false,
         "type": "scatter",
         "uid": "bffee708-dfa0-11e8-a199-0088653b14b4",
         "x": [
          40.02
         ],
         "y": [
          30
         ]
        },
        {
         "name": "7c41cfe82ec411",
         "showlegend": false,
         "type": "scatter",
         "uid": "bffee886-dfa0-11e8-8c7c-0088653b14b4",
         "x": [
          85.97
         ],
         "y": [
          50
         ]
        },
        {
         "name": "7c01ef82c6b2df",
         "showlegend": false,
         "type": "scatter",
         "uid": "bffeea5a-dfa0-11e8-a20b-0088653b14b4",
         "x": [
          128.8
         ],
         "y": [
          46
         ]
        },
        {
         "name": "a7c30431ed5689",
         "showlegend": false,
         "type": "scatter",
         "uid": "bffeebf4-dfa0-11e8-8a32-0088653b14b4",
         "x": [
          0
         ],
         "y": [
          28
         ]
        },
        {
         "name": "8bc14bc23abff1",
         "showlegend": false,
         "type": "scatter",
         "uid": "bffeed86-dfa0-11e8-8113-0088653b14b4",
         "x": [
          0
         ],
         "y": [
          28
         ]
        },
        {
         "name": "2ef0204f2b6603",
         "showlegend": false,
         "type": "scatter",
         "uid": "bffeef8c-dfa0-11e8-aaca-0088653b14b4",
         "x": [
          252.5
         ],
         "y": [
          27
         ]
        },
        {
         "name": "e5217caf7f24c2",
         "showlegend": false,
         "type": "scatter",
         "uid": "bffef126-dfa0-11e8-8ddb-0088653b14b4",
         "x": [
          0
         ],
         "y": [
          49
         ]
        },
        {
         "name": "6ea8c601abb91a",
         "showlegend": false,
         "type": "scatter",
         "uid": "bffef43a-dfa0-11e8-a439-0088653b14b4",
         "x": [
          0
         ],
         "y": [
          30
         ]
        },
        {
         "name": "2b66ffbf7a67d3",
         "showlegend": false,
         "type": "scatter",
         "uid": "bffef7fa-dfa0-11e8-9a75-0088653b14b4",
         "x": [
          129.3
         ],
         "y": [
          28
         ]
        },
        {
         "name": "470960f4f44171",
         "showlegend": false,
         "type": "scatter",
         "uid": "bffef9f0-dfa0-11e8-8103-0088653b14b4",
         "x": [
          102
         ],
         "y": [
          28
         ]
        },
        {
         "name": "53a9f996e239c9",
         "showlegend": false,
         "type": "scatter",
         "uid": "bffefb94-dfa0-11e8-aff7-0088653b14b4",
         "x": [
          0
         ],
         "y": [
          26
         ]
        },
        {
         "name": "8e342114e36af1",
         "showlegend": false,
         "type": "scatter",
         "uid": "bffefd58-dfa0-11e8-8247-0088653b14b4",
         "x": [
          320.6
         ],
         "y": [
          47
         ]
        },
        {
         "name": "d38fd9b757f8ec",
         "showlegend": false,
         "type": "scatter",
         "uid": "bffefefa-dfa0-11e8-adeb-0088653b14b4",
         "x": [
          98.49
         ],
         "y": [
          23
         ]
        },
        {
         "name": "ad7754b738d729",
         "showlegend": false,
         "type": "scatter",
         "uid": "bfff009e-dfa0-11e8-9d6b-0088653b14b4",
         "x": [
          295.5
         ],
         "y": [
          28
         ]
        },
        {
         "name": "d4a68bdc18e03b",
         "showlegend": false,
         "type": "scatter",
         "uid": "bfff0274-dfa0-11e8-8e8b-0088653b14b4",
         "x": [
          187
         ],
         "y": [
          47
         ]
        },
        {
         "name": "3474a9d0f18f9a",
         "showlegend": false,
         "type": "scatter",
         "uid": "bfff040c-dfa0-11e8-bd22-0088653b14b4",
         "x": [
          0
         ],
         "y": [
          47
         ]
        },
        {
         "name": "be1378b70aafd5",
         "showlegend": false,
         "type": "scatter",
         "uid": "bfff059e-dfa0-11e8-b0e3-0088653b14b4",
         "x": [
          132.6
         ],
         "y": [
          48
         ]
        },
        {
         "name": "2c794dc1aa3ec5",
         "showlegend": false,
         "type": "scatter",
         "uid": "bfff0774-dfa0-11e8-a8c5-0088653b14b4",
         "x": [
          60.63
         ],
         "y": [
          48
         ]
        },
        {
         "name": "95b8c57cd2659d",
         "showlegend": false,
         "type": "scatter",
         "uid": "bfff08fa-dfa0-11e8-b442-0088653b14b4",
         "x": [
          434.6
         ],
         "y": [
          28
         ]
        },
        {
         "name": "bc692261e95ae3",
         "showlegend": false,
         "type": "scatter",
         "uid": "bfff0a94-dfa0-11e8-a840-0088653b14b4",
         "x": [
          471.1
         ],
         "y": [
          49
         ]
        },
        {
         "name": "b143d1b2259d16",
         "showlegend": false,
         "type": "scatter",
         "uid": "bfff0c9c-dfa0-11e8-bf7d-0088653b14b4",
         "x": [
          286.6
         ],
         "y": [
          28
         ]
        },
        {
         "name": "e76a0a1653165f",
         "showlegend": false,
         "type": "scatter",
         "uid": "bfff0e40-dfa0-11e8-9829-0088653b14b4",
         "x": [
          112.5
         ],
         "y": [
          28
         ]
        },
        {
         "name": "5106ab363f68dc",
         "showlegend": false,
         "type": "scatter",
         "uid": "bfff0fda-dfa0-11e8-99a0-0088653b14b4",
         "x": [
          74.82
         ],
         "y": [
          46
         ]
        },
        {
         "name": "6e67c3e22e82a0",
         "showlegend": false,
         "type": "scatter",
         "uid": "bfff1174-dfa0-11e8-9822-0088653b14b4",
         "x": [
          0
         ],
         "y": [
          27
         ]
        },
        {
         "name": "c8e3a7f8c8791f",
         "showlegend": false,
         "type": "scatter",
         "uid": "bfff12f0-dfa0-11e8-84d5-0088653b14b4",
         "x": [
          111.9
         ],
         "y": [
          50
         ]
        },
        {
         "name": "9b11cae0324523",
         "showlegend": false,
         "type": "scatter",
         "uid": "bfff148a-dfa0-11e8-a5ac-0088653b14b4",
         "x": [
          53.28
         ],
         "y": [
          28
         ]
        },
        {
         "name": "c31c8118b8ea6b",
         "showlegend": false,
         "type": "scatter",
         "uid": "bfff1624-dfa0-11e8-a2f4-0088653b14b4",
         "x": [
          0
         ],
         "y": [
          49
         ]
        },
        {
         "name": "22181ec3ddf282",
         "showlegend": false,
         "type": "scatter",
         "uid": "bfff17b4-dfa0-11e8-8b58-0088653b14b4",
         "x": [
          0
         ],
         "y": [
          49
         ]
        },
        {
         "name": "c6e60cf0843bcc",
         "showlegend": false,
         "type": "scatter",
         "uid": "bfff1930-dfa0-11e8-a8e0-0088653b14b4",
         "x": [
          170.2
         ],
         "y": [
          97
         ]
        },
        {
         "name": "8853aedcf1e601",
         "showlegend": false,
         "type": "scatter",
         "uid": "bfff1ad4-dfa0-11e8-b993-0088653b14b4",
         "x": [
          235.5
         ],
         "y": [
          49
         ]
        },
        {
         "name": "bc58a84296057a",
         "showlegend": false,
         "type": "scatter",
         "uid": "bfff1c64-dfa0-11e8-b477-0088653b14b4",
         "x": [
          0
         ],
         "y": [
          30
         ]
        },
        {
         "name": "3a196db658e23f",
         "showlegend": false,
         "type": "scatter",
         "uid": "bfff1de2-dfa0-11e8-afb0-0088653b14b4",
         "x": [
          0
         ],
         "y": [
          28
         ]
        },
        {
         "name": "67c9c94f9d507b",
         "showlegend": false,
         "type": "scatter",
         "uid": "bfff1f98-dfa0-11e8-87a7-0088653b14b4",
         "x": [
          0
         ],
         "y": [
          96
         ]
        },
        {
         "name": "a17e836b9efde6",
         "showlegend": false,
         "type": "scatter",
         "uid": "bfff2114-dfa0-11e8-be01-0088653b14b4",
         "x": [
          149.6
         ],
         "y": [
          93
         ]
        },
        {
         "name": "0f60f5adfafa90",
         "showlegend": false,
         "type": "scatter",
         "uid": "bfff22a4-dfa0-11e8-b641-0088653b14b4",
         "x": [
          208.4
         ],
         "y": [
          29
         ]
        },
        {
         "name": "285dbbb59f9ef4",
         "showlegend": false,
         "type": "scatter",
         "uid": "bfff245c-dfa0-11e8-a181-0088653b14b4",
         "x": [
          300
         ],
         "y": [
          25
         ]
        },
        {
         "name": "d109255ae77c0d",
         "showlegend": false,
         "type": "scatter",
         "uid": "bfff25ec-dfa0-11e8-bef5-0088653b14b4",
         "x": [
          219.8
         ],
         "y": [
          29
         ]
        },
        {
         "name": "0975bf180efd81",
         "showlegend": false,
         "type": "scatter",
         "uid": "bfff2768-dfa0-11e8-89bf-0088653b14b4",
         "x": [
          100
         ],
         "y": [
          26
         ]
        },
        {
         "name": "ecb203338fdff9",
         "showlegend": false,
         "type": "scatter",
         "uid": "bfff290c-dfa0-11e8-905d-0088653b14b4",
         "x": [
          0
         ],
         "y": [
          30
         ]
        },
        {
         "name": "659e32c9136e2d",
         "showlegend": false,
         "type": "scatter",
         "uid": "bfff2a88-dfa0-11e8-bb43-0088653b14b4",
         "x": [
          25.86
         ],
         "y": [
          28
         ]
        },
        {
         "name": "bee21628442a0f",
         "showlegend": false,
         "type": "scatter",
         "uid": "bfff2c06-dfa0-11e8-9fe9-0088653b14b4",
         "x": [
          88.39
         ],
         "y": [
          28
         ]
        },
        {
         "name": "bc5d0156af4c78",
         "showlegend": false,
         "type": "scatter",
         "uid": "bfff2db4-dfa0-11e8-85b5-0088653b14b4",
         "x": [
          104.5
         ],
         "y": [
          49
         ]
        },
        {
         "name": "14632de121c0c7",
         "showlegend": false,
         "type": "scatter",
         "uid": "bfff2f2e-dfa0-11e8-884e-0088653b14b4",
         "x": [
          11.61
         ],
         "y": [
          26
         ]
        },
        {
         "name": "90767bc8629978",
         "showlegend": false,
         "type": "scatter",
         "uid": "bfff309e-dfa0-11e8-9f15-0088653b14b4",
         "x": [
          198.5
         ],
         "y": [
          45
         ]
        },
        {
         "name": "af8a1b8390bdd3",
         "showlegend": false,
         "type": "scatter",
         "uid": "bfff324c-dfa0-11e8-b68d-0088653b14b4",
         "x": [
          566.6
         ],
         "y": [
          50
         ]
        },
        {
         "name": "f0a258586c498a",
         "showlegend": false,
         "type": "scatter",
         "uid": "bfff33de-dfa0-11e8-a973-0088653b14b4",
         "x": [
          10.8
         ],
         "y": [
          98
         ]
        },
        {
         "name": "ebfcfa89641023",
         "showlegend": false,
         "type": "scatter",
         "uid": "bfff355a-dfa0-11e8-9e5d-0088653b14b4",
         "x": [
          25.85
         ],
         "y": [
          26
         ]
        },
        {
         "name": "6e3f80193206af",
         "showlegend": false,
         "type": "scatter",
         "uid": "bfff371c-dfa0-11e8-8514-0088653b14b4",
         "x": [
          498
         ],
         "y": [
          31
         ]
        },
        {
         "name": "8f157264864839",
         "showlegend": false,
         "type": "scatter",
         "uid": "bfff38d4-dfa0-11e8-b77e-0088653b14b4",
         "x": [
          0
         ],
         "y": [
          45
         ]
        },
        {
         "name": "63fd39edc44f45",
         "showlegend": false,
         "type": "scatter",
         "uid": "bfff3a5a-dfa0-11e8-994f-0088653b14b4",
         "x": [
          0
         ],
         "y": [
          30
         ]
        },
        {
         "name": "24d0ea33e14c34",
         "showlegend": false,
         "type": "scatter",
         "uid": "bfff3bfe-dfa0-11e8-9ad3-0088653b14b4",
         "x": [
          0
         ],
         "y": [
          50
         ]
        },
        {
         "name": "f9d5f060bee08d",
         "showlegend": false,
         "type": "scatter",
         "uid": "bfff3d98-dfa0-11e8-8d2a-0088653b14b4",
         "x": [
          278.2
         ],
         "y": [
          27
         ]
        },
        {
         "name": "3b4814375ad41b",
         "showlegend": false,
         "type": "scatter",
         "uid": "bfff3f1e-dfa0-11e8-bd26-0088653b14b4",
         "x": [
          100
         ],
         "y": [
          46
         ]
        },
        {
         "name": "047436d2c9393d",
         "showlegend": false,
         "type": "scatter",
         "uid": "bfff40a4-dfa0-11e8-b844-0088653b14b4",
         "x": [
          84.02
         ],
         "y": [
          28
         ]
        },
        {
         "name": "22c00ded0b8a59",
         "showlegend": false,
         "type": "scatter",
         "uid": "bfff4234-dfa0-11e8-b3f8-0088653b14b4",
         "x": [
          89.84
         ],
         "y": [
          29
         ]
        },
        {
         "name": "1a0188dbb68d0e",
         "showlegend": false,
         "type": "scatter",
         "uid": "bfff43cc-dfa0-11e8-9b92-0088653b14b4",
         "x": [
          6.48
         ],
         "y": [
          33
         ]
        },
        {
         "name": "ca5b7385158e53",
         "showlegend": false,
         "type": "scatter",
         "uid": "bfff455e-dfa0-11e8-a143-0088653b14b4",
         "x": [
          0
         ],
         "y": [
          28
         ]
        },
        {
         "name": "1e65f789305f64",
         "showlegend": false,
         "type": "scatter",
         "uid": "bfff46da-dfa0-11e8-aa32-0088653b14b4",
         "x": [
          0
         ],
         "y": [
          100
         ]
        },
        {
         "name": "27c8e304811796",
         "showlegend": false,
         "type": "scatter",
         "uid": "bfff4862-dfa0-11e8-be48-0088653b14b4",
         "x": [
          83.85
         ],
         "y": [
          28
         ]
        },
        {
         "name": "8bcad3d68f78ad",
         "showlegend": false,
         "type": "scatter",
         "uid": "bfff49e6-dfa0-11e8-b797-0088653b14b4",
         "x": [
          220.9
         ],
         "y": [
          28
         ]
        },
        {
         "name": "997e6ebe51ed4c",
         "showlegend": false,
         "type": "scatter",
         "uid": "bfff4b8a-dfa0-11e8-bca0-0088653b14b4",
         "x": [
          295.7
         ],
         "y": [
          28
         ]
        },
        {
         "name": "858b5c9db4eb38",
         "showlegend": false,
         "type": "scatter",
         "uid": "bfff4d2e-dfa0-11e8-a2b2-0088653b14b4",
         "x": [
          0
         ],
         "y": [
          49
         ]
        },
        {
         "name": "b952bb58b7f998",
         "showlegend": false,
         "type": "scatter",
         "uid": "bfff4ea8-dfa0-11e8-871b-0088653b14b4",
         "x": [
          65.52
         ],
         "y": [
          31
         ]
        },
        {
         "name": "572aa0900b2d2b",
         "showlegend": false,
         "type": "scatter",
         "uid": "bfff5026-dfa0-11e8-b426-0088653b14b4",
         "x": [
          82.08
         ],
         "y": [
          26
         ]
        },
        {
         "name": "8e3cb24bf9c043",
         "showlegend": false,
         "type": "scatter",
         "uid": "bfff51c0-dfa0-11e8-8fd1-0088653b14b4",
         "x": [
          164.4
         ],
         "y": [
          27
         ]
        },
        {
         "name": "6536de1033e8f6",
         "showlegend": false,
         "type": "scatter",
         "uid": "bfff5346-dfa0-11e8-a1f5-0088653b14b4",
         "x": [
          100
         ],
         "y": [
          48
         ]
        },
        {
         "name": "32109adfeb2e01",
         "showlegend": false,
         "type": "scatter",
         "uid": "bfff54c2-dfa0-11e8-9746-0088653b14b4",
         "x": [
          0
         ],
         "y": [
          29
         ]
        },
        {
         "name": "6bba0bd3a21288",
         "showlegend": false,
         "type": "scatter",
         "uid": "bfff5648-dfa0-11e8-ae2f-0088653b14b4",
         "x": [
          99.16
         ],
         "y": [
          28
         ]
        },
        {
         "name": "bba82cf030a4fc",
         "showlegend": false,
         "type": "scatter",
         "uid": "bfff57cc-dfa0-11e8-bfd6-0088653b14b4",
         "x": [
          45
         ],
         "y": [
          29
         ]
        },
        {
         "name": "8987396215170d",
         "showlegend": false,
         "type": "scatter",
         "uid": "bfff5954-dfa0-11e8-955a-0088653b14b4",
         "x": [
          0
         ],
         "y": [
          50
         ]
        },
        {
         "name": "aa1f0000d142b2",
         "showlegend": false,
         "type": "scatter",
         "uid": "bfff5aee-dfa0-11e8-a844-0088653b14b4",
         "x": [
          28.2
         ],
         "y": [
          27
         ]
        },
        {
         "name": "2e5cf3db37be5a",
         "showlegend": false,
         "type": "scatter",
         "uid": "bfff5c62-dfa0-11e8-baea-0088653b14b4",
         "x": [
          0
         ],
         "y": [
          96
         ]
        },
        {
         "name": "3d959ec489e030",
         "showlegend": false,
         "type": "scatter",
         "uid": "bfff5ddc-dfa0-11e8-82c0-0088653b14b4",
         "x": [
          79.14
         ],
         "y": [
          99
         ]
        },
        {
         "name": "ce1b5b2361a62f",
         "showlegend": false,
         "type": "scatter",
         "uid": "bfff5f9e-dfa0-11e8-84c9-0088653b14b4",
         "x": [
          90
         ],
         "y": [
          98
         ]
        },
        {
         "name": "3999faef61abfa",
         "showlegend": false,
         "type": "scatter",
         "uid": "bfff6124-dfa0-11e8-b121-0088653b14b4",
         "x": [
          28.27
         ],
         "y": [
          29
         ]
        },
        {
         "name": "9c43698cdd4e72",
         "showlegend": false,
         "type": "scatter",
         "uid": "bfff62b4-dfa0-11e8-b1ef-0088653b14b4",
         "x": [
          946.8
         ],
         "y": [
          29
         ]
        },
        {
         "name": "6b7c0e2b144dab",
         "showlegend": false,
         "type": "scatter",
         "uid": "bfff643a-dfa0-11e8-b962-0088653b14b4",
         "x": [
          0
         ],
         "y": [
          93
         ]
        },
        {
         "name": "889b966a2c8706",
         "showlegend": false,
         "type": "scatter",
         "uid": "bfff65ac-dfa0-11e8-88d0-0088653b14b4",
         "x": [
          100
         ],
         "y": [
          48
         ]
        },
        {
         "name": "2e6b03c0e50397",
         "showlegend": false,
         "type": "scatter",
         "uid": "bfff673a-dfa0-11e8-988b-0088653b14b4",
         "x": [
          416.7
         ],
         "y": [
          49
         ]
        },
        {
         "name": "1584e70118dd60",
         "showlegend": false,
         "type": "scatter",
         "uid": "bfff68d8-dfa0-11e8-9208-0088653b14b4",
         "x": [
          0
         ],
         "y": [
          29
         ]
        },
        {
         "name": "442525146027c0",
         "showlegend": false,
         "type": "scatter",
         "uid": "bfff6a5c-dfa0-11e8-86a8-0088653b14b4",
         "x": [
          224.1
         ],
         "y": [
          32
         ]
        },
        {
         "name": "39c8c0fc2d0ccd",
         "showlegend": false,
         "type": "scatter",
         "uid": "bfff6bd8-dfa0-11e8-8be5-0088653b14b4",
         "x": [
          72.15
         ],
         "y": [
          28
         ]
        },
        {
         "name": "565cf4dfc332ed",
         "showlegend": false,
         "type": "scatter",
         "uid": "bfff6d68-dfa0-11e8-8e8d-0088653b14b4",
         "x": [
          304
         ],
         "y": [
          28
         ]
        },
        {
         "name": "fbf07cd5616324",
         "showlegend": false,
         "type": "scatter",
         "uid": "bfff6eee-dfa0-11e8-890d-0088653b14b4",
         "x": [
          42.15
         ],
         "y": [
          27
         ]
        },
        {
         "name": "8db015a03aa7dd",
         "showlegend": false,
         "type": "scatter",
         "uid": "bfff716e-dfa0-11e8-b3df-0088653b14b4",
         "x": [
          20.43
         ],
         "y": [
          29
         ]
        },
        {
         "name": "6d99475a325539",
         "showlegend": false,
         "type": "scatter",
         "uid": "bfff7330-dfa0-11e8-bf98-0088653b14b4",
         "x": [
          118.4
         ],
         "y": [
          30
         ]
        },
        {
         "name": "b75f074b622f20",
         "showlegend": false,
         "type": "scatter",
         "uid": "bfff74ca-dfa0-11e8-b5bf-0088653b14b4",
         "x": [
          12.38
         ],
         "y": [
          25
         ]
        },
        {
         "name": "591da14ef07198",
         "showlegend": false,
         "type": "scatter",
         "uid": "bfff7634-dfa0-11e8-be04-0088653b14b4",
         "x": [
          0
         ],
         "y": [
          22
         ]
        },
        {
         "name": "5bcbc294288c50",
         "showlegend": false,
         "type": "scatter",
         "uid": "bfff77e8-dfa0-11e8-9bae-0088653b14b4",
         "x": [
          259.6
         ],
         "y": [
          48
         ]
        },
        {
         "name": "9bd8aaeaa81183",
         "showlegend": false,
         "type": "scatter",
         "uid": "bfff7970-dfa0-11e8-812e-0088653b14b4",
         "x": [
          0
         ],
         "y": [
          29
         ]
        },
        {
         "name": "7ee730358e22d2",
         "showlegend": false,
         "type": "scatter",
         "uid": "bfff7ae2-dfa0-11e8-bb2b-0088653b14b4",
         "x": [
          512.4
         ],
         "y": [
          48
         ]
        },
        {
         "name": "fb11f266387eab",
         "showlegend": false,
         "type": "scatter",
         "uid": "bfff7c86-dfa0-11e8-8a3f-0088653b14b4",
         "x": [
          0
         ],
         "y": [
          98
         ]
        },
        {
         "name": "0cc0a3b4802513",
         "showlegend": false,
         "type": "scatter",
         "uid": "bfff7e18-dfa0-11e8-ae6d-0088653b14b4",
         "x": [
          136
         ],
         "y": [
          95
         ]
        },
        {
         "name": "f24c91dd017fd3",
         "showlegend": false,
         "type": "scatter",
         "uid": "bfff7f92-dfa0-11e8-ae16-0088653b14b4",
         "x": [
          275
         ],
         "y": [
          28
         ]
        },
        {
         "name": "2435677c991ce0",
         "showlegend": false,
         "type": "scatter",
         "uid": "bfff817a-dfa0-11e8-8c16-0088653b14b4",
         "x": [
          88.8
         ],
         "y": [
          29
         ]
        },
        {
         "name": "7e1b7f2db963ad",
         "showlegend": false,
         "type": "scatter",
         "uid": "bfff82f8-dfa0-11e8-9821-0088653b14b4",
         "x": [
          191.1
         ],
         "y": [
          30
         ]
        },
        {
         "name": "a8af7c8693aa06",
         "showlegend": false,
         "type": "scatter",
         "uid": "bfff8462-dfa0-11e8-97d6-0088653b14b4",
         "x": [
          38.4
         ],
         "y": [
          30
         ]
        },
        {
         "name": "01b33452851001",
         "showlegend": false,
         "type": "scatter",
         "uid": "bfff860c-dfa0-11e8-8778-0088653b14b4",
         "x": [
          100.5
         ],
         "y": [
          98
         ]
        },
        {
         "name": "fdd754ee319b38",
         "showlegend": false,
         "type": "scatter",
         "uid": "bfff879e-dfa0-11e8-aeec-0088653b14b4",
         "x": [
          114
         ],
         "y": [
          49
         ]
        },
        {
         "name": "00835e98b25fe7",
         "showlegend": false,
         "type": "scatter",
         "uid": "bfff8942-dfa0-11e8-ad8c-0088653b14b4",
         "x": [
          0
         ],
         "y": [
          28
         ]
        },
        {
         "name": "66b87e29758f81",
         "showlegend": false,
         "type": "scatter",
         "uid": "bfff8ae6-dfa0-11e8-b906-0088653b14b4",
         "x": [
          122.5
         ],
         "y": [
          25
         ]
        },
        {
         "name": "f4d62b5dd79ae9",
         "showlegend": false,
         "type": "scatter",
         "uid": "bfff8c62-dfa0-11e8-85de-0088653b14b4",
         "x": [
          30.1
         ],
         "y": [
          32
         ]
        },
        {
         "name": "8f981d6ef0682f",
         "showlegend": false,
         "type": "scatter",
         "uid": "bfff8de8-dfa0-11e8-84d0-0088653b14b4",
         "x": [
          52.88
         ],
         "y": [
          43
         ]
        },
        {
         "name": "947941092abc1a",
         "showlegend": false,
         "type": "scatter",
         "uid": "bfff8f98-dfa0-11e8-9ad7-0088653b14b4",
         "x": [
          100
         ],
         "y": [
          29
         ]
        },
        {
         "name": "63f0a3de10b295",
         "showlegend": false,
         "type": "scatter",
         "uid": "bfff9126-dfa0-11e8-abe7-0088653b14b4",
         "x": [
          76.83
         ],
         "y": [
          27
         ]
        },
        {
         "name": "a70df139761fc3",
         "showlegend": false,
         "type": "scatter",
         "uid": "bfff9298-dfa0-11e8-aec3-0088653b14b4",
         "x": [
          42.57
         ],
         "y": [
          29
         ]
        },
        {
         "name": "d07476a6bede3c",
         "showlegend": false,
         "type": "scatter",
         "uid": "bfff9434-dfa0-11e8-af27-0088653b14b4",
         "x": [
          1316
         ],
         "y": [
          31
         ]
        },
        {
         "name": "c32c204867be0e",
         "showlegend": false,
         "type": "scatter",
         "uid": "bfff95b8-dfa0-11e8-90f7-0088653b14b4",
         "x": [
          0
         ],
         "y": [
          49
         ]
        },
        {
         "name": "25f37d6cbb928e",
         "showlegend": false,
         "type": "scatter",
         "uid": "bfff975c-dfa0-11e8-8962-0088653b14b4",
         "x": [
          416.3
         ],
         "y": [
          48
         ]
        },
        {
         "name": "edd838a69c7107",
         "showlegend": false,
         "type": "scatter",
         "uid": "bfff98f6-dfa0-11e8-8adc-0088653b14b4",
         "x": [
          5.506
         ],
         "y": [
          48
         ]
        },
        {
         "name": "f346b9642f0fb9",
         "showlegend": false,
         "type": "scatter",
         "uid": "bfff9a74-dfa0-11e8-b006-0088653b14b4",
         "x": [
          117.7
         ],
         "y": [
          29
         ]
        },
        {
         "name": "196f84a7ec238c",
         "showlegend": false,
         "type": "scatter",
         "uid": "bfff9bf8-dfa0-11e8-9687-0088653b14b4",
         "x": [
          151.4
         ],
         "y": [
          49
         ]
        },
        {
         "name": "cd48266d611638",
         "showlegend": false,
         "type": "scatter",
         "uid": "bfff9da6-dfa0-11e8-95b3-0088653b14b4",
         "x": [
          100
         ],
         "y": [
          88
         ]
        },
        {
         "name": "98d9afb6b1e1a6",
         "showlegend": false,
         "type": "scatter",
         "uid": "bfff9f36-dfa0-11e8-acc0-0088653b14b4",
         "x": [
          0.8589
         ],
         "y": [
          26
         ]
        },
        {
         "name": "a55edc38a21a4d",
         "showlegend": false,
         "type": "scatter",
         "uid": "bfffa0ba-dfa0-11e8-89ac-0088653b14b4",
         "x": [
          0
         ],
         "y": [
          99
         ]
        },
        {
         "name": "e2a32c09623d2f",
         "showlegend": false,
         "type": "scatter",
         "uid": "bfffa238-dfa0-11e8-be8c-0088653b14b4",
         "x": [
          505.6
         ],
         "y": [
          28
         ]
        },
        {
         "name": "a2e8c679a8fc3f",
         "showlegend": false,
         "type": "scatter",
         "uid": "bfffa3be-dfa0-11e8-a952-0088653b14b4",
         "x": [
          0
         ],
         "y": [
          98
         ]
        },
        {
         "name": "dfbdd19e54429e",
         "showlegend": false,
         "type": "scatter",
         "uid": "bfffa54c-dfa0-11e8-8f2e-0088653b14b4",
         "x": [
          414.7
         ],
         "y": [
          49
         ]
        }
       ],
       "layout": {
        "legend": {
         "orientation": "h"
        },
        "title": "Killing is Winning?",
        "xaxis": {
         "title": "Damage (Higher is Better)"
        },
        "yaxis": {
         "title": "Rank (Lower is Better)"
        }
       }
      },
      "text/html": [
       "<div id=\"accc998f-d12b-4a07-ad52-0a2b91f5697d\" style=\"height: 525px; width: 100%;\" class=\"plotly-graph-div\"></div><script type=\"text/javascript\">require([\"plotly\"], function(Plotly) { window.PLOTLYENV=window.PLOTLYENV || {};window.PLOTLYENV.BASE_URL=\"https://plot.ly\";Plotly.newPlot(\"accc998f-d12b-4a07-ad52-0a2b91f5697d\", [{\"name\": \"00b50b9b9fc161\", \"showlegend\": false, \"x\": [0.0], \"y\": [92], \"type\": \"scatter\", \"uid\": \"c0a08bb4-dfa0-11e8-9581-0088653b14b4\"}, {\"name\": \"6ddbe590fb1a8e\", \"showlegend\": false, \"x\": [13.19], \"y\": [27], \"type\": \"scatter\", \"uid\": \"c0a08dba-dfa0-11e8-ada2-0088653b14b4\"}, {\"name\": \"88595fae2aa18c\", \"showlegend\": false, \"x\": [0.0], \"y\": [94], \"type\": \"scatter\", \"uid\": \"c0a08ec8-dfa0-11e8-83fe-0088653b14b4\"}, {\"name\": \"16e7bd223f9534\", \"showlegend\": false, \"x\": [47.7], \"y\": [98], \"type\": \"scatter\", \"uid\": \"c0a090c6-dfa0-11e8-ae78-0088653b14b4\"}, {\"name\": \"fa42e4a6851f58\", \"showlegend\": false, \"x\": [711.2], \"y\": [28], \"type\": \"scatter\", \"uid\": \"c0a091e8-dfa0-11e8-9f3c-0088653b14b4\"}, {\"name\": \"6f0367ac042cc1\", \"showlegend\": false, \"x\": [96.72], \"y\": [49], \"type\": \"scatter\", \"uid\": \"c0a092d8-dfa0-11e8-afd8-0088653b14b4\"}, {\"name\": \"8e02d4aee00735\", \"showlegend\": false, \"x\": [28.2], \"y\": [46], \"type\": \"scatter\", \"uid\": \"c0a093be-dfa0-11e8-a0ac-0088653b14b4\"}, {\"name\": \"04eca41ecdea6e\", \"showlegend\": false, \"x\": [0.0], \"y\": [49], \"type\": \"scatter\", \"uid\": \"c0a0949a-dfa0-11e8-ad77-0088653b14b4\"}, {\"name\": \"ec367a832de465\", \"showlegend\": false, \"x\": [67.66], \"y\": [45], \"type\": \"scatter\", \"uid\": \"c0a0958a-dfa0-11e8-8ba6-0088653b14b4\"}, {\"name\": \"d31cc8cd452369\", \"showlegend\": false, \"x\": [0.0], \"y\": [95], \"type\": \"scatter\", \"uid\": \"c0a09666-dfa0-11e8-a9d7-0088653b14b4\"}, {\"name\": \"3e8b2beda64c73\", \"showlegend\": false, \"x\": [626.3], \"y\": [49], \"type\": \"scatter\", \"uid\": \"c0a0974c-dfa0-11e8-b87f-0088653b14b4\"}, {\"name\": \"c77bea0156c302\", \"showlegend\": false, \"x\": [0.0], \"y\": [98], \"type\": \"scatter\", \"uid\": \"c0a0986e-dfa0-11e8-836b-0088653b14b4\"}, {\"name\": \"b19a9aa86bea31\", \"showlegend\": false, \"x\": [29.4], \"y\": [28], \"type\": \"scatter\", \"uid\": \"c0a09968-dfa0-11e8-851c-0088653b14b4\"}, {\"name\": \"e1076e0b1a9c3d\", \"showlegend\": false, \"x\": [0.0], \"y\": [30], \"type\": \"scatter\", \"uid\": \"c0a09a58-dfa0-11e8-930f-0088653b14b4\"}, {\"name\": \"f56f452aae1660\", \"showlegend\": false, \"x\": [111.9], \"y\": [48], \"type\": \"scatter\", \"uid\": \"c0a09b3e-dfa0-11e8-a55a-0088653b14b4\"}, {\"name\": \"124957328158a7\", \"showlegend\": false, \"x\": [587.2], \"y\": [15], \"type\": \"scatter\", \"uid\": \"c0a09c24-dfa0-11e8-a8da-0088653b14b4\"}, {\"name\": \"f016afdb5f46aa\", \"showlegend\": false, \"x\": [163.4], \"y\": [29], \"type\": \"scatter\", \"uid\": \"c0a09d0a-dfa0-11e8-a193-0088653b14b4\"}, {\"name\": \"27514226e18b6a\", \"showlegend\": false, \"x\": [642.1], \"y\": [27], \"type\": \"scatter\", \"uid\": \"c0a09df0-dfa0-11e8-9bf9-0088653b14b4\"}, {\"name\": \"4fa7890832b4f1\", \"showlegend\": false, \"x\": [0.0], \"y\": [28], \"type\": \"scatter\", \"uid\": \"c0a09ed8-dfa0-11e8-9a88-0088653b14b4\"}, {\"name\": \"a6ac6747909060\", \"showlegend\": false, \"x\": [154.4], \"y\": [29], \"type\": \"scatter\", \"uid\": \"c0a09fba-dfa0-11e8-baab-0088653b14b4\"}, {\"name\": \"e69efdcea3a89b\", \"showlegend\": false, \"x\": [310.0], \"y\": [29], \"type\": \"scatter\", \"uid\": \"c0a0a0a2-dfa0-11e8-9a1b-0088653b14b4\"}, {\"name\": \"1ec98fad210777\", \"showlegend\": false, \"x\": [104.9], \"y\": [27], \"type\": \"scatter\", \"uid\": \"c0a0a17e-dfa0-11e8-8410-0088653b14b4\"}, {\"name\": \"7127ad94c47112\", \"showlegend\": false, \"x\": [27.36], \"y\": [49], \"type\": \"scatter\", \"uid\": \"c0a0a264-dfa0-11e8-9fda-0088653b14b4\"}, {\"name\": \"023388dc892126\", \"showlegend\": false, \"x\": [124.6], \"y\": [28], \"type\": \"scatter\", \"uid\": \"c0a0a340-dfa0-11e8-a89e-0088653b14b4\"}, {\"name\": \"0c955eed20658b\", \"showlegend\": false, \"x\": [802.1], \"y\": [48], \"type\": \"scatter\", \"uid\": \"c0a0a462-dfa0-11e8-ad14-0088653b14b4\"}, {\"name\": \"28adc5f2641230\", \"showlegend\": false, \"x\": [0.0], \"y\": [29], \"type\": \"scatter\", \"uid\": \"c0a0a55c-dfa0-11e8-a8fd-0088653b14b4\"}, {\"name\": \"c30a828c1a9f9d\", \"showlegend\": false, \"x\": [200.5], \"y\": [26], \"type\": \"scatter\", \"uid\": \"c0a0a638-dfa0-11e8-8955-0088653b14b4\"}, {\"name\": \"5a8e638e1a87fb\", \"showlegend\": false, \"x\": [166.2], \"y\": [49], \"type\": \"scatter\", \"uid\": \"c0a0a71e-dfa0-11e8-827e-0088653b14b4\"}, {\"name\": \"aa98db4908fd9c\", \"showlegend\": false, \"x\": [33.11], \"y\": [31], \"type\": \"scatter\", \"uid\": \"c0a0a806-dfa0-11e8-9612-0088653b14b4\"}, {\"name\": \"8be19cb2608416\", \"showlegend\": false, \"x\": [0.0], \"y\": [47], \"type\": \"scatter\", \"uid\": \"c0a0a8e2-dfa0-11e8-bd6b-0088653b14b4\"}, {\"name\": \"af78478f313e02\", \"showlegend\": false, \"x\": [0.0], \"y\": [28], \"type\": \"scatter\", \"uid\": \"c0a0a9c6-dfa0-11e8-b029-0088653b14b4\"}, {\"name\": \"1d734449bb7eb8\", \"showlegend\": false, \"x\": [176.4], \"y\": [43], \"type\": \"scatter\", \"uid\": \"c0a0aaa2-dfa0-11e8-880f-0088653b14b4\"}, {\"name\": \"ad7485240079bf\", \"showlegend\": false, \"x\": [9.286], \"y\": [32], \"type\": \"scatter\", \"uid\": \"c0a0ab88-dfa0-11e8-ba11-0088653b14b4\"}, {\"name\": \"1586dd09eb39b3\", \"showlegend\": false, \"x\": [100.0], \"y\": [27], \"type\": \"scatter\", \"uid\": \"c0a0ac6e-dfa0-11e8-981d-0088653b14b4\"}, {\"name\": \"9bc26158588e19\", \"showlegend\": false, \"x\": [0.0], \"y\": [49], \"type\": \"scatter\", \"uid\": \"c0a0ad4a-dfa0-11e8-9375-0088653b14b4\"}, {\"name\": \"ddfc75dcbd200d\", \"showlegend\": false, \"x\": [0.0], \"y\": [50], \"type\": \"scatter\", \"uid\": \"c0a0ae30-dfa0-11e8-8afb-0088653b14b4\"}, {\"name\": \"d1ac9fa138fc0a\", \"showlegend\": false, \"x\": [0.0], \"y\": [49], \"type\": \"scatter\", \"uid\": \"c0a0af0c-dfa0-11e8-ae01-0088653b14b4\"}, {\"name\": \"fc0f814b4cb440\", \"showlegend\": false, \"x\": [86.73], \"y\": [47], \"type\": \"scatter\", \"uid\": \"c0a0b024-dfa0-11e8-a2d5-0088653b14b4\"}, {\"name\": \"b2bbe06ac9d918\", \"showlegend\": false, \"x\": [976.7], \"y\": [97], \"type\": \"scatter\", \"uid\": \"c0a0b11e-dfa0-11e8-84ea-0088653b14b4\"}, {\"name\": \"d63bd990159556\", \"showlegend\": false, \"x\": [100.0], \"y\": [97], \"type\": \"scatter\", \"uid\": \"c0a0b206-dfa0-11e8-8121-0088653b14b4\"}, {\"name\": \"f85cd8314de7fc\", \"showlegend\": false, \"x\": [0.0], \"y\": [50], \"type\": \"scatter\", \"uid\": \"c0a0b2e8-dfa0-11e8-9570-0088653b14b4\"}, {\"name\": \"4cbfd3e607b431\", \"showlegend\": false, \"x\": [80.6], \"y\": [29], \"type\": \"scatter\", \"uid\": \"c0a0b3d0-dfa0-11e8-9884-0088653b14b4\"}, {\"name\": \"d6547c9dd6b4e6\", \"showlegend\": false, \"x\": [0.0], \"y\": [97], \"type\": \"scatter\", \"uid\": \"c0a0b4ac-dfa0-11e8-8c24-0088653b14b4\"}, {\"name\": \"0052df64f7f435\", \"showlegend\": false, \"x\": [220.0], \"y\": [30], \"type\": \"scatter\", \"uid\": \"c0a0b592-dfa0-11e8-819c-0088653b14b4\"}, {\"name\": \"52ff9d27aed83e\", \"showlegend\": false, \"x\": [109.3], \"y\": [31], \"type\": \"scatter\", \"uid\": \"c0a0b678-dfa0-11e8-a923-0088653b14b4\"}, {\"name\": \"9ea4ef8a4bc097\", \"showlegend\": false, \"x\": [0.0], \"y\": [29], \"type\": \"scatter\", \"uid\": \"c0a0b754-dfa0-11e8-a646-0088653b14b4\"}, {\"name\": \"2fd7160d938ade\", \"showlegend\": false, \"x\": [99.08], \"y\": [47], \"type\": \"scatter\", \"uid\": \"c0a0b83a-dfa0-11e8-90fa-0088653b14b4\"}, {\"name\": \"0b89550178709e\", \"showlegend\": false, \"x\": [0.0], \"y\": [31], \"type\": \"scatter\", \"uid\": \"c0a0b91e-dfa0-11e8-a058-0088653b14b4\"}, {\"name\": \"68ceb90da53f49\", \"showlegend\": false, \"x\": [92.7], \"y\": [49], \"type\": \"scatter\", \"uid\": \"c0a0ba06-dfa0-11e8-9773-0088653b14b4\"}, {\"name\": \"df3f5c3f49dd6f\", \"showlegend\": false, \"x\": [0.0], \"y\": [27], \"type\": \"scatter\", \"uid\": \"c0a0bae2-dfa0-11e8-8c8b-0088653b14b4\"}, {\"name\": \"451d6801a2dc23\", \"showlegend\": false, \"x\": [608.6], \"y\": [28], \"type\": \"scatter\", \"uid\": \"c0a0bbfa-dfa0-11e8-ab60-0088653b14b4\"}, {\"name\": \"32e16c6d2efca1\", \"showlegend\": false, \"x\": [195.1], \"y\": [27], \"type\": \"scatter\", \"uid\": \"c0a0bcfe-dfa0-11e8-b3d9-0088653b14b4\"}, {\"name\": \"332d4cec2dc3ba\", \"showlegend\": false, \"x\": [154.8], \"y\": [27], \"type\": \"scatter\", \"uid\": \"c0a0be1e-dfa0-11e8-a32b-0088653b14b4\"}, {\"name\": \"7e4d5fd8371260\", \"showlegend\": false, \"x\": [0.0], \"y\": [46], \"type\": \"scatter\", \"uid\": \"c0a0bf10-dfa0-11e8-86ff-0088653b14b4\"}, {\"name\": \"92ecafacc7e5c2\", \"showlegend\": false, \"x\": [100.0], \"y\": [28], \"type\": \"scatter\", \"uid\": \"c0a0bfec-dfa0-11e8-b092-0088653b14b4\"}, {\"name\": \"a8eb0b1952a371\", \"showlegend\": false, \"x\": [70.95], \"y\": [47], \"type\": \"scatter\", \"uid\": \"c0a0c0d2-dfa0-11e8-92bc-0088653b14b4\"}, {\"name\": \"9f1f6132fafc8f\", \"showlegend\": false, \"x\": [0.0], \"y\": [25], \"type\": \"scatter\", \"uid\": \"c0a0c1b8-dfa0-11e8-936f-0088653b14b4\"}, {\"name\": \"8690235f3c2391\", \"showlegend\": false, \"x\": [0.0], \"y\": [29], \"type\": \"scatter\", \"uid\": \"c0a0c294-dfa0-11e8-9e27-0088653b14b4\"}, {\"name\": \"0c607936cfa3d8\", \"showlegend\": false, \"x\": [141.3], \"y\": [29], \"type\": \"scatter\", \"uid\": \"c0a0c37a-dfa0-11e8-9a40-0088653b14b4\"}, {\"name\": \"33490ba6b76361\", \"showlegend\": false, \"x\": [39.12], \"y\": [25], \"type\": \"scatter\", \"uid\": \"c0a0c458-dfa0-11e8-a372-0088653b14b4\"}, {\"name\": \"b265af88f5105a\", \"showlegend\": false, \"x\": [85.0], \"y\": [48], \"type\": \"scatter\", \"uid\": \"c0a0c53a-dfa0-11e8-8623-0088653b14b4\"}, {\"name\": \"9fc818377766c7\", \"showlegend\": false, \"x\": [0.0], \"y\": [26], \"type\": \"scatter\", \"uid\": \"c0a0c622-dfa0-11e8-92ad-0088653b14b4\"}, {\"name\": \"4f163c250354ce\", \"showlegend\": false, \"x\": [57.52], \"y\": [49], \"type\": \"scatter\", \"uid\": \"c0a0c6fe-dfa0-11e8-a216-0088653b14b4\"}, {\"name\": \"98b8f4d24eb2a9\", \"showlegend\": false, \"x\": [255.0], \"y\": [30], \"type\": \"scatter\", \"uid\": \"c0a0c818-dfa0-11e8-b209-0088653b14b4\"}, {\"name\": \"1efb28050e67b3\", \"showlegend\": false, \"x\": [119.3], \"y\": [28], \"type\": \"scatter\", \"uid\": \"c0a0c910-dfa0-11e8-b5b9-0088653b14b4\"}, {\"name\": \"d75505e1df6fa7\", \"showlegend\": false, \"x\": [42.98], \"y\": [28], \"type\": \"scatter\", \"uid\": \"c0a0c9f6-dfa0-11e8-9007-0088653b14b4\"}, {\"name\": \"e41b8899dfd847\", \"showlegend\": false, \"x\": [0.0], \"y\": [49], \"type\": \"scatter\", \"uid\": \"c0a0cadc-dfa0-11e8-ae8c-0088653b14b4\"}, {\"name\": \"46ffdb6a8e5e4a\", \"showlegend\": false, \"x\": [274.0], \"y\": [91], \"type\": \"scatter\", \"uid\": \"c0a0cbc2-dfa0-11e8-bc67-0088653b14b4\"}, {\"name\": \"494802ad04209e\", \"showlegend\": false, \"x\": [69.09], \"y\": [27], \"type\": \"scatter\", \"uid\": \"c0a0cca8-dfa0-11e8-8f42-0088653b14b4\"}, {\"name\": \"e487d4ccc6a747\", \"showlegend\": false, \"x\": [123.2], \"y\": [33], \"type\": \"scatter\", \"uid\": \"c0a0cd8c-dfa0-11e8-bce5-0088653b14b4\"}, {\"name\": \"43ac23a728093e\", \"showlegend\": false, \"x\": [148.4], \"y\": [92], \"type\": \"scatter\", \"uid\": \"c0a0ce68-dfa0-11e8-b351-0088653b14b4\"}, {\"name\": \"2c39ffb43d5741\", \"showlegend\": false, \"x\": [0.0], \"y\": [31], \"type\": \"scatter\", \"uid\": \"c0a0cf50-dfa0-11e8-95fa-0088653b14b4\"}, {\"name\": \"91a6752711ccf3\", \"showlegend\": false, \"x\": [159.7], \"y\": [30], \"type\": \"scatter\", \"uid\": \"c0a0d02c-dfa0-11e8-b1a8-0088653b14b4\"}, {\"name\": \"e7bf9f33b0d340\", \"showlegend\": false, \"x\": [174.9], \"y\": [49], \"type\": \"scatter\", \"uid\": \"c0a0d112-dfa0-11e8-aba9-0088653b14b4\"}, {\"name\": \"9ec38f72f673e7\", \"showlegend\": false, \"x\": [248.4], \"y\": [27], \"type\": \"scatter\", \"uid\": \"c0a0d1f8-dfa0-11e8-a1f9-0088653b14b4\"}, {\"name\": \"39a233d6f58ff7\", \"showlegend\": false, \"x\": [316.2], \"y\": [27], \"type\": \"scatter\", \"uid\": \"c0a0d2de-dfa0-11e8-ba7f-0088653b14b4\"}, {\"name\": \"60b9a511add159\", \"showlegend\": false, \"x\": [40.41], \"y\": [30], \"type\": \"scatter\", \"uid\": \"c0a0d3ec-dfa0-11e8-806a-0088653b14b4\"}, {\"name\": \"a4c3bde808dcf5\", \"showlegend\": false, \"x\": [414.5], \"y\": [48], \"type\": \"scatter\", \"uid\": \"c0a0d4f0-dfa0-11e8-9264-0088653b14b4\"}, {\"name\": \"54ff62ab58da66\", \"showlegend\": false, \"x\": [434.9], \"y\": [47], \"type\": \"scatter\", \"uid\": \"c0a0d5d8-dfa0-11e8-a1b2-0088653b14b4\"}, {\"name\": \"11a2f6af6075b2\", \"showlegend\": false, \"x\": [300.5], \"y\": [28], \"type\": \"scatter\", \"uid\": \"c0a0d6ba-dfa0-11e8-ba4e-0088653b14b4\"}, {\"name\": \"2005c4947e1bc6\", \"showlegend\": false, \"x\": [0.0], \"y\": [49], \"type\": \"scatter\", \"uid\": \"c0a0d7a2-dfa0-11e8-80c7-0088653b14b4\"}, {\"name\": \"093daafe57172b\", \"showlegend\": false, \"x\": [145.8], \"y\": [29], \"type\": \"scatter\", \"uid\": \"c0a0d888-dfa0-11e8-9d0f-0088653b14b4\"}, {\"name\": \"bd3c8cd344d841\", \"showlegend\": false, \"x\": [40.02], \"y\": [30], \"type\": \"scatter\", \"uid\": \"c0a0d96e-dfa0-11e8-8ec8-0088653b14b4\"}, {\"name\": \"7c41cfe82ec411\", \"showlegend\": false, \"x\": [85.97], \"y\": [50], \"type\": \"scatter\", \"uid\": \"c0a0da54-dfa0-11e8-ac26-0088653b14b4\"}, {\"name\": \"7c01ef82c6b2df\", \"showlegend\": false, \"x\": [128.8], \"y\": [46], \"type\": \"scatter\", \"uid\": \"c0a0db30-dfa0-11e8-8036-0088653b14b4\"}, {\"name\": \"a7c30431ed5689\", \"showlegend\": false, \"x\": [0.0], \"y\": [28], \"type\": \"scatter\", \"uid\": \"c0a0dc18-dfa0-11e8-9c08-0088653b14b4\"}, {\"name\": \"8bc14bc23abff1\", \"showlegend\": false, \"x\": [0.0], \"y\": [28], \"type\": \"scatter\", \"uid\": \"c0a0dcf4-dfa0-11e8-b64d-0088653b14b4\"}, {\"name\": \"2ef0204f2b6603\", \"showlegend\": false, \"x\": [252.5], \"y\": [27], \"type\": \"scatter\", \"uid\": \"c0a0ddd8-dfa0-11e8-a34c-0088653b14b4\"}, {\"name\": \"e5217caf7f24c2\", \"showlegend\": false, \"x\": [0.0], \"y\": [49], \"type\": \"scatter\", \"uid\": \"c0a0debe-dfa0-11e8-872b-0088653b14b4\"}, {\"name\": \"6ea8c601abb91a\", \"showlegend\": false, \"x\": [0.0], \"y\": [30], \"type\": \"scatter\", \"uid\": \"c0a0dfcc-dfa0-11e8-9665-0088653b14b4\"}, {\"name\": \"2b66ffbf7a67d3\", \"showlegend\": false, \"x\": [129.3], \"y\": [28], \"type\": \"scatter\", \"uid\": \"c0a0e0c6-dfa0-11e8-8e49-0088653b14b4\"}, {\"name\": \"470960f4f44171\", \"showlegend\": false, \"x\": [102.0], \"y\": [28], \"type\": \"scatter\", \"uid\": \"c0a0e1ac-dfa0-11e8-8bac-0088653b14b4\"}, {\"name\": \"53a9f996e239c9\", \"showlegend\": false, \"x\": [0.0], \"y\": [26], \"type\": \"scatter\", \"uid\": \"c0a0e292-dfa0-11e8-b2e2-0088653b14b4\"}, {\"name\": \"8e342114e36af1\", \"showlegend\": false, \"x\": [320.6], \"y\": [47], \"type\": \"scatter\", \"uid\": \"c0a0e36e-dfa0-11e8-ab7d-0088653b14b4\"}, {\"name\": \"d38fd9b757f8ec\", \"showlegend\": false, \"x\": [98.49], \"y\": [23], \"type\": \"scatter\", \"uid\": \"c0a0e454-dfa0-11e8-abd0-0088653b14b4\"}, {\"name\": \"ad7754b738d729\", \"showlegend\": false, \"x\": [295.5], \"y\": [28], \"type\": \"scatter\", \"uid\": \"c0a0e53a-dfa0-11e8-a10d-0088653b14b4\"}, {\"name\": \"d4a68bdc18e03b\", \"showlegend\": false, \"x\": [187.0], \"y\": [47], \"type\": \"scatter\", \"uid\": \"c0a0e61e-dfa0-11e8-be3e-0088653b14b4\"}, {\"name\": \"3474a9d0f18f9a\", \"showlegend\": false, \"x\": [0.0], \"y\": [47], \"type\": \"scatter\", \"uid\": \"c0a0e6fa-dfa0-11e8-b0e0-0088653b14b4\"}, {\"name\": \"be1378b70aafd5\", \"showlegend\": false, \"x\": [132.6], \"y\": [48], \"type\": \"scatter\", \"uid\": \"c0a0e828-dfa0-11e8-805b-0088653b14b4\"}, {\"name\": \"2c794dc1aa3ec5\", \"showlegend\": false, \"x\": [60.63], \"y\": [48], \"type\": \"scatter\", \"uid\": \"c0a0e918-dfa0-11e8-a810-0088653b14b4\"}, {\"name\": \"95b8c57cd2659d\", \"showlegend\": false, \"x\": [434.6], \"y\": [28], \"type\": \"scatter\", \"uid\": \"c0a0e9fe-dfa0-11e8-8bba-0088653b14b4\"}, {\"name\": \"bc692261e95ae3\", \"showlegend\": false, \"x\": [471.1], \"y\": [49], \"type\": \"scatter\", \"uid\": \"c0a0eae4-dfa0-11e8-b8f4-0088653b14b4\"}, {\"name\": \"b143d1b2259d16\", \"showlegend\": false, \"x\": [286.6], \"y\": [28], \"type\": \"scatter\", \"uid\": \"c0a0ebfa-dfa0-11e8-9b01-0088653b14b4\"}, {\"name\": \"e76a0a1653165f\", \"showlegend\": false, \"x\": [112.5], \"y\": [28], \"type\": \"scatter\", \"uid\": \"c0a0ecf6-dfa0-11e8-80e8-0088653b14b4\"}, {\"name\": \"5106ab363f68dc\", \"showlegend\": false, \"x\": [74.82], \"y\": [46], \"type\": \"scatter\", \"uid\": \"c0a0eddc-dfa0-11e8-b7e1-0088653b14b4\"}, {\"name\": \"6e67c3e22e82a0\", \"showlegend\": false, \"x\": [0.0], \"y\": [27], \"type\": \"scatter\", \"uid\": \"c0a0eeb8-dfa0-11e8-baa9-0088653b14b4\"}, {\"name\": \"c8e3a7f8c8791f\", \"showlegend\": false, \"x\": [111.9], \"y\": [50], \"type\": \"scatter\", \"uid\": \"c0a0ef9e-dfa0-11e8-ae26-0088653b14b4\"}, {\"name\": \"9b11cae0324523\", \"showlegend\": false, \"x\": [53.28], \"y\": [28], \"type\": \"scatter\", \"uid\": \"c0a0f086-dfa0-11e8-807a-0088653b14b4\"}, {\"name\": \"c31c8118b8ea6b\", \"showlegend\": false, \"x\": [0.0], \"y\": [49], \"type\": \"scatter\", \"uid\": \"c0a0f162-dfa0-11e8-a32f-0088653b14b4\"}, {\"name\": \"22181ec3ddf282\", \"showlegend\": false, \"x\": [0.0], \"y\": [49], \"type\": \"scatter\", \"uid\": \"c0a0f29e-dfa0-11e8-9076-0088653b14b4\"}, {\"name\": \"c6e60cf0843bcc\", \"showlegend\": false, \"x\": [170.2], \"y\": [97], \"type\": \"scatter\", \"uid\": \"c0a0f39a-dfa0-11e8-81ce-0088653b14b4\"}, {\"name\": \"8853aedcf1e601\", \"showlegend\": false, \"x\": [235.5], \"y\": [49], \"type\": \"scatter\", \"uid\": \"c0a0f7dc-dfa0-11e8-bb65-0088653b14b4\"}, {\"name\": \"bc58a84296057a\", \"showlegend\": false, \"x\": [0.0], \"y\": [30], \"type\": \"scatter\", \"uid\": \"c0a0f99e-dfa0-11e8-8ddf-0088653b14b4\"}, {\"name\": \"3a196db658e23f\", \"showlegend\": false, \"x\": [0.0], \"y\": [28], \"type\": \"scatter\", \"uid\": \"c0a0fac0-dfa0-11e8-94be-0088653b14b4\"}, {\"name\": \"67c9c94f9d507b\", \"showlegend\": false, \"x\": [0.0], \"y\": [96], \"type\": \"scatter\", \"uid\": \"c0a0fc8c-dfa0-11e8-b5b1-0088653b14b4\"}, {\"name\": \"a17e836b9efde6\", \"showlegend\": false, \"x\": [149.6], \"y\": [93], \"type\": \"scatter\", \"uid\": \"c0a0ff02-dfa0-11e8-bc4c-0088653b14b4\"}, {\"name\": \"0f60f5adfafa90\", \"showlegend\": false, \"x\": [208.4], \"y\": [29], \"type\": \"scatter\", \"uid\": \"c0a10164-dfa0-11e8-87ae-0088653b14b4\"}, {\"name\": \"285dbbb59f9ef4\", \"showlegend\": false, \"x\": [300.0], \"y\": [25], \"type\": \"scatter\", \"uid\": \"c0a10376-dfa0-11e8-a788-0088653b14b4\"}, {\"name\": \"d109255ae77c0d\", \"showlegend\": false, \"x\": [219.8], \"y\": [29], \"type\": \"scatter\", \"uid\": \"c0a1063a-dfa0-11e8-b1d5-0088653b14b4\"}, {\"name\": \"0975bf180efd81\", \"showlegend\": false, \"x\": [100.0], \"y\": [26], \"type\": \"scatter\", \"uid\": \"c0a1075e-dfa0-11e8-accb-0088653b14b4\"}, {\"name\": \"ecb203338fdff9\", \"showlegend\": false, \"x\": [0.0], \"y\": [30], \"type\": \"scatter\", \"uid\": \"c0a10858-dfa0-11e8-9fa2-0088653b14b4\"}, {\"name\": \"659e32c9136e2d\", \"showlegend\": false, \"x\": [25.86], \"y\": [28], \"type\": \"scatter\", \"uid\": \"c0a10a4c-dfa0-11e8-b199-0088653b14b4\"}, {\"name\": \"bee21628442a0f\", \"showlegend\": false, \"x\": [88.39], \"y\": [28], \"type\": \"scatter\", \"uid\": \"c0a10c06-dfa0-11e8-8424-0088653b14b4\"}, {\"name\": \"bc5d0156af4c78\", \"showlegend\": false, \"x\": [104.5], \"y\": [49], \"type\": \"scatter\", \"uid\": \"c0a10e28-dfa0-11e8-abc4-0088653b14b4\"}, {\"name\": \"14632de121c0c7\", \"showlegend\": false, \"x\": [11.61], \"y\": [26], \"type\": \"scatter\", \"uid\": \"c0a10f62-dfa0-11e8-bab4-0088653b14b4\"}, {\"name\": \"90767bc8629978\", \"showlegend\": false, \"x\": [198.5], \"y\": [45], \"type\": \"scatter\", \"uid\": \"c0a1105a-dfa0-11e8-8a5f-0088653b14b4\"}, {\"name\": \"af8a1b8390bdd3\", \"showlegend\": false, \"x\": [566.6], \"y\": [50], \"type\": \"scatter\", \"uid\": \"c0a1114a-dfa0-11e8-8612-0088653b14b4\"}, {\"name\": \"f0a258586c498a\", \"showlegend\": false, \"x\": [10.8], \"y\": [98], \"type\": \"scatter\", \"uid\": \"c0a1123a-dfa0-11e8-a8dd-0088653b14b4\"}, {\"name\": \"ebfcfa89641023\", \"showlegend\": false, \"x\": [25.85], \"y\": [26], \"type\": \"scatter\", \"uid\": \"c0a1137a-dfa0-11e8-9e9a-0088653b14b4\"}, {\"name\": \"6e3f80193206af\", \"showlegend\": false, \"x\": [498.0], \"y\": [31], \"type\": \"scatter\", \"uid\": \"c0a11488-dfa0-11e8-8a9a-0088653b14b4\"}, {\"name\": \"8f157264864839\", \"showlegend\": false, \"x\": [0.0], \"y\": [45], \"type\": \"scatter\", \"uid\": \"c0a1158c-dfa0-11e8-81cb-0088653b14b4\"}, {\"name\": \"63fd39edc44f45\", \"showlegend\": false, \"x\": [0.0], \"y\": [30], \"type\": \"scatter\", \"uid\": \"c0a1173a-dfa0-11e8-8b13-0088653b14b4\"}, {\"name\": \"24d0ea33e14c34\", \"showlegend\": false, \"x\": [0.0], \"y\": [50], \"type\": \"scatter\", \"uid\": \"c0a118fa-dfa0-11e8-9a95-0088653b14b4\"}, {\"name\": \"f9d5f060bee08d\", \"showlegend\": false, \"x\": [278.2], \"y\": [27], \"type\": \"scatter\", \"uid\": \"c0a11a9e-dfa0-11e8-be94-0088653b14b4\"}, {\"name\": \"3b4814375ad41b\", \"showlegend\": false, \"x\": [100.0], \"y\": [46], \"type\": \"scatter\", \"uid\": \"c0a11bae-dfa0-11e8-9a36-0088653b14b4\"}, {\"name\": \"047436d2c9393d\", \"showlegend\": false, \"x\": [84.02], \"y\": [28], \"type\": \"scatter\", \"uid\": \"c0a11ca8-dfa0-11e8-82b2-0088653b14b4\"}, {\"name\": \"22c00ded0b8a59\", \"showlegend\": false, \"x\": [89.84], \"y\": [29], \"type\": \"scatter\", \"uid\": \"c0a11de8-dfa0-11e8-a446-0088653b14b4\"}, {\"name\": \"1a0188dbb68d0e\", \"showlegend\": false, \"x\": [6.48], \"y\": [33], \"type\": \"scatter\", \"uid\": \"c0a11f3a-dfa0-11e8-8e2c-0088653b14b4\"}, {\"name\": \"ca5b7385158e53\", \"showlegend\": false, \"x\": [0.0], \"y\": [28], \"type\": \"scatter\", \"uid\": \"c0a12036-dfa0-11e8-ab70-0088653b14b4\"}, {\"name\": \"1e65f789305f64\", \"showlegend\": false, \"x\": [0.0], \"y\": [100], \"type\": \"scatter\", \"uid\": \"c0a12126-dfa0-11e8-bec4-0088653b14b4\"}, {\"name\": \"27c8e304811796\", \"showlegend\": false, \"x\": [83.85], \"y\": [28], \"type\": \"scatter\", \"uid\": \"c0a12218-dfa0-11e8-9cce-0088653b14b4\"}, {\"name\": \"8bcad3d68f78ad\", \"showlegend\": false, \"x\": [220.9], \"y\": [28], \"type\": \"scatter\", \"uid\": \"c0a1234c-dfa0-11e8-908d-0088653b14b4\"}, {\"name\": \"997e6ebe51ed4c\", \"showlegend\": false, \"x\": [295.7], \"y\": [28], \"type\": \"scatter\", \"uid\": \"c0a1245a-dfa0-11e8-9a88-0088653b14b4\"}, {\"name\": \"858b5c9db4eb38\", \"showlegend\": false, \"x\": [0.0], \"y\": [49], \"type\": \"scatter\", \"uid\": \"c0a12554-dfa0-11e8-9af6-0088653b14b4\"}, {\"name\": \"b952bb58b7f998\", \"showlegend\": false, \"x\": [65.52], \"y\": [31], \"type\": \"scatter\", \"uid\": \"c0a12694-dfa0-11e8-a478-0088653b14b4\"}, {\"name\": \"572aa0900b2d2b\", \"showlegend\": false, \"x\": [82.08], \"y\": [26], \"type\": \"scatter\", \"uid\": \"c0a1278c-dfa0-11e8-b2a0-0088653b14b4\"}, {\"name\": \"8e3cb24bf9c043\", \"showlegend\": false, \"x\": [164.4], \"y\": [27], \"type\": \"scatter\", \"uid\": \"c0a1287e-dfa0-11e8-bad8-0088653b14b4\"}, {\"name\": \"6536de1033e8f6\", \"showlegend\": false, \"x\": [100.0], \"y\": [48], \"type\": \"scatter\", \"uid\": \"c0a1296e-dfa0-11e8-aa80-0088653b14b4\"}, {\"name\": \"32109adfeb2e01\", \"showlegend\": false, \"x\": [0.0], \"y\": [29], \"type\": \"scatter\", \"uid\": \"c0a12a5e-dfa0-11e8-b679-0088653b14b4\"}, {\"name\": \"6bba0bd3a21288\", \"showlegend\": false, \"x\": [99.16], \"y\": [28], \"type\": \"scatter\", \"uid\": \"c0a12b4c-dfa0-11e8-9e68-0088653b14b4\"}, {\"name\": \"bba82cf030a4fc\", \"showlegend\": false, \"x\": [45.0], \"y\": [29], \"type\": \"scatter\", \"uid\": \"c0a12c48-dfa0-11e8-838a-0088653b14b4\"}, {\"name\": \"8987396215170d\", \"showlegend\": false, \"x\": [0.0], \"y\": [50], \"type\": \"scatter\", \"uid\": \"c0a12d38-dfa0-11e8-973d-0088653b14b4\"}, {\"name\": \"aa1f0000d142b2\", \"showlegend\": false, \"x\": [28.2], \"y\": [27], \"type\": \"scatter\", \"uid\": \"c0a12e28-dfa0-11e8-9889-0088653b14b4\"}, {\"name\": \"2e5cf3db37be5a\", \"showlegend\": false, \"x\": [0.0], \"y\": [96], \"type\": \"scatter\", \"uid\": \"c0a12f22-dfa0-11e8-b417-0088653b14b4\"}, {\"name\": \"3d959ec489e030\", \"showlegend\": false, \"x\": [79.14], \"y\": [99], \"type\": \"scatter\", \"uid\": \"c0a13046-dfa0-11e8-8594-0088653b14b4\"}, {\"name\": \"ce1b5b2361a62f\", \"showlegend\": false, \"x\": [90.0], \"y\": [98], \"type\": \"scatter\", \"uid\": \"c0a131a2-dfa0-11e8-a0d8-0088653b14b4\"}, {\"name\": \"3999faef61abfa\", \"showlegend\": false, \"x\": [28.27], \"y\": [29], \"type\": \"scatter\", \"uid\": \"c0a132e2-dfa0-11e8-a764-0088653b14b4\"}, {\"name\": \"9c43698cdd4e72\", \"showlegend\": false, \"x\": [946.8], \"y\": [29], \"type\": \"scatter\", \"uid\": \"c0a133dc-dfa0-11e8-9289-0088653b14b4\"}, {\"name\": \"6b7c0e2b144dab\", \"showlegend\": false, \"x\": [0.0], \"y\": [93], \"type\": \"scatter\", \"uid\": \"c0a134b8-dfa0-11e8-b3c6-0088653b14b4\"}, {\"name\": \"889b966a2c8706\", \"showlegend\": false, \"x\": [100.0], \"y\": [48], \"type\": \"scatter\", \"uid\": \"c0a1359e-dfa0-11e8-8b1f-0088653b14b4\"}, {\"name\": \"2e6b03c0e50397\", \"showlegend\": false, \"x\": [416.7], \"y\": [49], \"type\": \"scatter\", \"uid\": \"c0a1367a-dfa0-11e8-9d64-0088653b14b4\"}, {\"name\": \"1584e70118dd60\", \"showlegend\": false, \"x\": [0.0], \"y\": [29], \"type\": \"scatter\", \"uid\": \"c0a13762-dfa0-11e8-9197-0088653b14b4\"}, {\"name\": \"442525146027c0\", \"showlegend\": false, \"x\": [224.1], \"y\": [32], \"type\": \"scatter\", \"uid\": \"c0a13846-dfa0-11e8-b6ac-0088653b14b4\"}, {\"name\": \"39c8c0fc2d0ccd\", \"showlegend\": false, \"x\": [72.15], \"y\": [28], \"type\": \"scatter\", \"uid\": \"c0a1392c-dfa0-11e8-8725-0088653b14b4\"}, {\"name\": \"565cf4dfc332ed\", \"showlegend\": false, \"x\": [304.0], \"y\": [28], \"type\": \"scatter\", \"uid\": \"c0a13a12-dfa0-11e8-9330-0088653b14b4\"}, {\"name\": \"fbf07cd5616324\", \"showlegend\": false, \"x\": [42.15], \"y\": [27], \"type\": \"scatter\", \"uid\": \"c0a13aee-dfa0-11e8-99a1-0088653b14b4\"}, {\"name\": \"8db015a03aa7dd\", \"showlegend\": false, \"x\": [20.43], \"y\": [29], \"type\": \"scatter\", \"uid\": \"c0a13bde-dfa0-11e8-9d1d-0088653b14b4\"}, {\"name\": \"6d99475a325539\", \"showlegend\": false, \"x\": [118.4], \"y\": [30], \"type\": \"scatter\", \"uid\": \"c0a13cec-dfa0-11e8-ad8e-0088653b14b4\"}, {\"name\": \"b75f074b622f20\", \"showlegend\": false, \"x\": [12.38], \"y\": [25], \"type\": \"scatter\", \"uid\": \"c0a13de6-dfa0-11e8-9b70-0088653b14b4\"}, {\"name\": \"591da14ef07198\", \"showlegend\": false, \"x\": [0.0], \"y\": [22], \"type\": \"scatter\", \"uid\": \"c0a13ecc-dfa0-11e8-9665-0088653b14b4\"}, {\"name\": \"5bcbc294288c50\", \"showlegend\": false, \"x\": [259.6], \"y\": [48], \"type\": \"scatter\", \"uid\": \"c0a13fb4-dfa0-11e8-8426-0088653b14b4\"}, {\"name\": \"9bd8aaeaa81183\", \"showlegend\": false, \"x\": [0.0], \"y\": [29], \"type\": \"scatter\", \"uid\": \"c0a1408c-dfa0-11e8-861f-0088653b14b4\"}, {\"name\": \"7ee730358e22d2\", \"showlegend\": false, \"x\": [512.4], \"y\": [48], \"type\": \"scatter\", \"uid\": \"c0a14174-dfa0-11e8-b264-0088653b14b4\"}, {\"name\": \"fb11f266387eab\", \"showlegend\": false, \"x\": [0.0], \"y\": [98], \"type\": \"scatter\", \"uid\": \"c0a14250-dfa0-11e8-b81d-0088653b14b4\"}, {\"name\": \"0cc0a3b4802513\", \"showlegend\": false, \"x\": [136.0], \"y\": [95], \"type\": \"scatter\", \"uid\": \"c0a14336-dfa0-11e8-a7f0-0088653b14b4\"}, {\"name\": \"f24c91dd017fd3\", \"showlegend\": false, \"x\": [275.0], \"y\": [28], \"type\": \"scatter\", \"uid\": \"c0a14412-dfa0-11e8-9346-0088653b14b4\"}, {\"name\": \"2435677c991ce0\", \"showlegend\": false, \"x\": [88.8], \"y\": [29], \"type\": \"scatter\", \"uid\": \"c0a144f8-dfa0-11e8-bafa-0088653b14b4\"}, {\"name\": \"7e1b7f2db963ad\", \"showlegend\": false, \"x\": [191.1], \"y\": [30], \"type\": \"scatter\", \"uid\": \"c0a145de-dfa0-11e8-a74d-0088653b14b4\"}, {\"name\": \"a8af7c8693aa06\", \"showlegend\": false, \"x\": [38.4], \"y\": [30], \"type\": \"scatter\", \"uid\": \"c0a146ba-dfa0-11e8-8531-0088653b14b4\"}, {\"name\": \"01b33452851001\", \"showlegend\": false, \"x\": [100.5], \"y\": [98], \"type\": \"scatter\", \"uid\": \"c0a1479e-dfa0-11e8-bad5-0088653b14b4\"}, {\"name\": \"fdd754ee319b38\", \"showlegend\": false, \"x\": [114.0], \"y\": [49], \"type\": \"scatter\", \"uid\": \"c0a148b8-dfa0-11e8-aacf-0088653b14b4\"}, {\"name\": \"00835e98b25fe7\", \"showlegend\": false, \"x\": [0.0], \"y\": [28], \"type\": \"scatter\", \"uid\": \"c0a149b4-dfa0-11e8-814a-0088653b14b4\"}, {\"name\": \"66b87e29758f81\", \"showlegend\": false, \"x\": [122.5], \"y\": [25], \"type\": \"scatter\", \"uid\": \"c0a14a98-dfa0-11e8-8e37-0088653b14b4\"}, {\"name\": \"f4d62b5dd79ae9\", \"showlegend\": false, \"x\": [30.1], \"y\": [32], \"type\": \"scatter\", \"uid\": \"c0a14b7e-dfa0-11e8-835e-0088653b14b4\"}, {\"name\": \"8f981d6ef0682f\", \"showlegend\": false, \"x\": [52.88], \"y\": [43], \"type\": \"scatter\", \"uid\": \"c0a14c5a-dfa0-11e8-965e-0088653b14b4\"}, {\"name\": \"947941092abc1a\", \"showlegend\": false, \"x\": [100.0], \"y\": [29], \"type\": \"scatter\", \"uid\": \"c0a14d4a-dfa0-11e8-a5cf-0088653b14b4\"}, {\"name\": \"63f0a3de10b295\", \"showlegend\": false, \"x\": [76.83], \"y\": [27], \"type\": \"scatter\", \"uid\": \"c0a14e30-dfa0-11e8-b03f-0088653b14b4\"}, {\"name\": \"a70df139761fc3\", \"showlegend\": false, \"x\": [42.57], \"y\": [29], \"type\": \"scatter\", \"uid\": \"c0a14f18-dfa0-11e8-9dde-0088653b14b4\"}, {\"name\": \"d07476a6bede3c\", \"showlegend\": false, \"x\": [1316.0], \"y\": [31], \"type\": \"scatter\", \"uid\": \"c0a14ffa-dfa0-11e8-b53e-0088653b14b4\"}, {\"name\": \"c32c204867be0e\", \"showlegend\": false, \"x\": [0.0], \"y\": [49], \"type\": \"scatter\", \"uid\": \"c0a150d8-dfa0-11e8-adab-0088653b14b4\"}, {\"name\": \"25f37d6cbb928e\", \"showlegend\": false, \"x\": [416.3], \"y\": [48], \"type\": \"scatter\", \"uid\": \"c0a15206-dfa0-11e8-9ce6-0088653b14b4\"}, {\"name\": \"edd838a69c7107\", \"showlegend\": false, \"x\": [5.506], \"y\": [48], \"type\": \"scatter\", \"uid\": \"c0a152f4-dfa0-11e8-ae11-0088653b14b4\"}, {\"name\": \"f346b9642f0fb9\", \"showlegend\": false, \"x\": [117.7], \"y\": [29], \"type\": \"scatter\", \"uid\": \"c0a153d0-dfa0-11e8-a6a0-0088653b14b4\"}, {\"name\": \"196f84a7ec238c\", \"showlegend\": false, \"x\": [151.4], \"y\": [49], \"type\": \"scatter\", \"uid\": \"c0a154e8-dfa0-11e8-af1b-0088653b14b4\"}, {\"name\": \"cd48266d611638\", \"showlegend\": false, \"x\": [100.0], \"y\": [88], \"type\": \"scatter\", \"uid\": \"c0a155e2-dfa0-11e8-a74c-0088653b14b4\"}, {\"name\": \"98d9afb6b1e1a6\", \"showlegend\": false, \"x\": [0.8589], \"y\": [26], \"type\": \"scatter\", \"uid\": \"c0a156c8-dfa0-11e8-9446-0088653b14b4\"}, {\"name\": \"a55edc38a21a4d\", \"showlegend\": false, \"x\": [0.0], \"y\": [99], \"type\": \"scatter\", \"uid\": \"c0a157ae-dfa0-11e8-8397-0088653b14b4\"}, {\"name\": \"e2a32c09623d2f\", \"showlegend\": false, \"x\": [505.6], \"y\": [28], \"type\": \"scatter\", \"uid\": \"c0a1588a-dfa0-11e8-975a-0088653b14b4\"}, {\"name\": \"a2e8c679a8fc3f\", \"showlegend\": false, \"x\": [0.0], \"y\": [98], \"type\": \"scatter\", \"uid\": \"c0a15970-dfa0-11e8-8dc9-0088653b14b4\"}, {\"name\": \"dfbdd19e54429e\", \"showlegend\": false, \"x\": [414.7], \"y\": [49], \"type\": \"scatter\", \"uid\": \"c0a15a4c-dfa0-11e8-a4da-0088653b14b4\"}], {\"legend\": {\"orientation\": \"h\"}, \"title\": \"Killing is Winning?\", \"xaxis\": {\"title\": \"Damage (Higher is Better)\"}, \"yaxis\": {\"title\": \"Rank (Lower is Better)\"}}, {\"showLink\": true, \"linkText\": \"Export to plot.ly\"})});</script>"
      ],
      "text/vnd.plotly.v1+html": [
       "<div id=\"accc998f-d12b-4a07-ad52-0a2b91f5697d\" style=\"height: 525px; width: 100%;\" class=\"plotly-graph-div\"></div><script type=\"text/javascript\">require([\"plotly\"], function(Plotly) { window.PLOTLYENV=window.PLOTLYENV || {};window.PLOTLYENV.BASE_URL=\"https://plot.ly\";Plotly.newPlot(\"accc998f-d12b-4a07-ad52-0a2b91f5697d\", [{\"name\": \"00b50b9b9fc161\", \"showlegend\": false, \"x\": [0.0], \"y\": [92], \"type\": \"scatter\", \"uid\": \"c0a08bb4-dfa0-11e8-9581-0088653b14b4\"}, {\"name\": \"6ddbe590fb1a8e\", \"showlegend\": false, \"x\": [13.19], \"y\": [27], \"type\": \"scatter\", \"uid\": \"c0a08dba-dfa0-11e8-ada2-0088653b14b4\"}, {\"name\": \"88595fae2aa18c\", \"showlegend\": false, \"x\": [0.0], \"y\": [94], \"type\": \"scatter\", \"uid\": \"c0a08ec8-dfa0-11e8-83fe-0088653b14b4\"}, {\"name\": \"16e7bd223f9534\", \"showlegend\": false, \"x\": [47.7], \"y\": [98], \"type\": \"scatter\", \"uid\": \"c0a090c6-dfa0-11e8-ae78-0088653b14b4\"}, {\"name\": \"fa42e4a6851f58\", \"showlegend\": false, \"x\": [711.2], \"y\": [28], \"type\": \"scatter\", \"uid\": \"c0a091e8-dfa0-11e8-9f3c-0088653b14b4\"}, {\"name\": \"6f0367ac042cc1\", \"showlegend\": false, \"x\": [96.72], \"y\": [49], \"type\": \"scatter\", \"uid\": \"c0a092d8-dfa0-11e8-afd8-0088653b14b4\"}, {\"name\": \"8e02d4aee00735\", \"showlegend\": false, \"x\": [28.2], \"y\": [46], \"type\": \"scatter\", \"uid\": \"c0a093be-dfa0-11e8-a0ac-0088653b14b4\"}, {\"name\": \"04eca41ecdea6e\", \"showlegend\": false, \"x\": [0.0], \"y\": [49], \"type\": \"scatter\", \"uid\": \"c0a0949a-dfa0-11e8-ad77-0088653b14b4\"}, {\"name\": \"ec367a832de465\", \"showlegend\": false, \"x\": [67.66], \"y\": [45], \"type\": \"scatter\", \"uid\": \"c0a0958a-dfa0-11e8-8ba6-0088653b14b4\"}, {\"name\": \"d31cc8cd452369\", \"showlegend\": false, \"x\": [0.0], \"y\": [95], \"type\": \"scatter\", \"uid\": \"c0a09666-dfa0-11e8-a9d7-0088653b14b4\"}, {\"name\": \"3e8b2beda64c73\", \"showlegend\": false, \"x\": [626.3], \"y\": [49], \"type\": \"scatter\", \"uid\": \"c0a0974c-dfa0-11e8-b87f-0088653b14b4\"}, {\"name\": \"c77bea0156c302\", \"showlegend\": false, \"x\": [0.0], \"y\": [98], \"type\": \"scatter\", \"uid\": \"c0a0986e-dfa0-11e8-836b-0088653b14b4\"}, {\"name\": \"b19a9aa86bea31\", \"showlegend\": false, \"x\": [29.4], \"y\": [28], \"type\": \"scatter\", \"uid\": \"c0a09968-dfa0-11e8-851c-0088653b14b4\"}, {\"name\": \"e1076e0b1a9c3d\", \"showlegend\": false, \"x\": [0.0], \"y\": [30], \"type\": \"scatter\", \"uid\": \"c0a09a58-dfa0-11e8-930f-0088653b14b4\"}, {\"name\": \"f56f452aae1660\", \"showlegend\": false, \"x\": [111.9], \"y\": [48], \"type\": \"scatter\", \"uid\": \"c0a09b3e-dfa0-11e8-a55a-0088653b14b4\"}, {\"name\": \"124957328158a7\", \"showlegend\": false, \"x\": [587.2], \"y\": [15], \"type\": \"scatter\", \"uid\": \"c0a09c24-dfa0-11e8-a8da-0088653b14b4\"}, {\"name\": \"f016afdb5f46aa\", \"showlegend\": false, \"x\": [163.4], \"y\": [29], \"type\": \"scatter\", \"uid\": \"c0a09d0a-dfa0-11e8-a193-0088653b14b4\"}, {\"name\": \"27514226e18b6a\", \"showlegend\": false, \"x\": [642.1], \"y\": [27], \"type\": \"scatter\", \"uid\": \"c0a09df0-dfa0-11e8-9bf9-0088653b14b4\"}, {\"name\": \"4fa7890832b4f1\", \"showlegend\": false, \"x\": [0.0], \"y\": [28], \"type\": \"scatter\", \"uid\": \"c0a09ed8-dfa0-11e8-9a88-0088653b14b4\"}, {\"name\": \"a6ac6747909060\", \"showlegend\": false, \"x\": [154.4], \"y\": [29], \"type\": \"scatter\", \"uid\": \"c0a09fba-dfa0-11e8-baab-0088653b14b4\"}, {\"name\": \"e69efdcea3a89b\", \"showlegend\": false, \"x\": [310.0], \"y\": [29], \"type\": \"scatter\", \"uid\": \"c0a0a0a2-dfa0-11e8-9a1b-0088653b14b4\"}, {\"name\": \"1ec98fad210777\", \"showlegend\": false, \"x\": [104.9], \"y\": [27], \"type\": \"scatter\", \"uid\": \"c0a0a17e-dfa0-11e8-8410-0088653b14b4\"}, {\"name\": \"7127ad94c47112\", \"showlegend\": false, \"x\": [27.36], \"y\": [49], \"type\": \"scatter\", \"uid\": \"c0a0a264-dfa0-11e8-9fda-0088653b14b4\"}, {\"name\": \"023388dc892126\", \"showlegend\": false, \"x\": [124.6], \"y\": [28], \"type\": \"scatter\", \"uid\": \"c0a0a340-dfa0-11e8-a89e-0088653b14b4\"}, {\"name\": \"0c955eed20658b\", \"showlegend\": false, \"x\": [802.1], \"y\": [48], \"type\": \"scatter\", \"uid\": \"c0a0a462-dfa0-11e8-ad14-0088653b14b4\"}, {\"name\": \"28adc5f2641230\", \"showlegend\": false, \"x\": [0.0], \"y\": [29], \"type\": \"scatter\", \"uid\": \"c0a0a55c-dfa0-11e8-a8fd-0088653b14b4\"}, {\"name\": \"c30a828c1a9f9d\", \"showlegend\": false, \"x\": [200.5], \"y\": [26], \"type\": \"scatter\", \"uid\": \"c0a0a638-dfa0-11e8-8955-0088653b14b4\"}, {\"name\": \"5a8e638e1a87fb\", \"showlegend\": false, \"x\": [166.2], \"y\": [49], \"type\": \"scatter\", \"uid\": \"c0a0a71e-dfa0-11e8-827e-0088653b14b4\"}, {\"name\": \"aa98db4908fd9c\", \"showlegend\": false, \"x\": [33.11], \"y\": [31], \"type\": \"scatter\", \"uid\": \"c0a0a806-dfa0-11e8-9612-0088653b14b4\"}, {\"name\": \"8be19cb2608416\", \"showlegend\": false, \"x\": [0.0], \"y\": [47], \"type\": \"scatter\", \"uid\": \"c0a0a8e2-dfa0-11e8-bd6b-0088653b14b4\"}, {\"name\": \"af78478f313e02\", \"showlegend\": false, \"x\": [0.0], \"y\": [28], \"type\": \"scatter\", \"uid\": \"c0a0a9c6-dfa0-11e8-b029-0088653b14b4\"}, {\"name\": \"1d734449bb7eb8\", \"showlegend\": false, \"x\": [176.4], \"y\": [43], \"type\": \"scatter\", \"uid\": \"c0a0aaa2-dfa0-11e8-880f-0088653b14b4\"}, {\"name\": \"ad7485240079bf\", \"showlegend\": false, \"x\": [9.286], \"y\": [32], \"type\": \"scatter\", \"uid\": \"c0a0ab88-dfa0-11e8-ba11-0088653b14b4\"}, {\"name\": \"1586dd09eb39b3\", \"showlegend\": false, \"x\": [100.0], \"y\": [27], \"type\": \"scatter\", \"uid\": \"c0a0ac6e-dfa0-11e8-981d-0088653b14b4\"}, {\"name\": \"9bc26158588e19\", \"showlegend\": false, \"x\": [0.0], \"y\": [49], \"type\": \"scatter\", \"uid\": \"c0a0ad4a-dfa0-11e8-9375-0088653b14b4\"}, {\"name\": \"ddfc75dcbd200d\", \"showlegend\": false, \"x\": [0.0], \"y\": [50], \"type\": \"scatter\", \"uid\": \"c0a0ae30-dfa0-11e8-8afb-0088653b14b4\"}, {\"name\": \"d1ac9fa138fc0a\", \"showlegend\": false, \"x\": [0.0], \"y\": [49], \"type\": \"scatter\", \"uid\": \"c0a0af0c-dfa0-11e8-ae01-0088653b14b4\"}, {\"name\": \"fc0f814b4cb440\", \"showlegend\": false, \"x\": [86.73], \"y\": [47], \"type\": \"scatter\", \"uid\": \"c0a0b024-dfa0-11e8-a2d5-0088653b14b4\"}, {\"name\": \"b2bbe06ac9d918\", \"showlegend\": false, \"x\": [976.7], \"y\": [97], \"type\": \"scatter\", \"uid\": \"c0a0b11e-dfa0-11e8-84ea-0088653b14b4\"}, {\"name\": \"d63bd990159556\", \"showlegend\": false, \"x\": [100.0], \"y\": [97], \"type\": \"scatter\", \"uid\": \"c0a0b206-dfa0-11e8-8121-0088653b14b4\"}, {\"name\": \"f85cd8314de7fc\", \"showlegend\": false, \"x\": [0.0], \"y\": [50], \"type\": \"scatter\", \"uid\": \"c0a0b2e8-dfa0-11e8-9570-0088653b14b4\"}, {\"name\": \"4cbfd3e607b431\", \"showlegend\": false, \"x\": [80.6], \"y\": [29], \"type\": \"scatter\", \"uid\": \"c0a0b3d0-dfa0-11e8-9884-0088653b14b4\"}, {\"name\": \"d6547c9dd6b4e6\", \"showlegend\": false, \"x\": [0.0], \"y\": [97], \"type\": \"scatter\", \"uid\": \"c0a0b4ac-dfa0-11e8-8c24-0088653b14b4\"}, {\"name\": \"0052df64f7f435\", \"showlegend\": false, \"x\": [220.0], \"y\": [30], \"type\": \"scatter\", \"uid\": \"c0a0b592-dfa0-11e8-819c-0088653b14b4\"}, {\"name\": \"52ff9d27aed83e\", \"showlegend\": false, \"x\": [109.3], \"y\": [31], \"type\": \"scatter\", \"uid\": \"c0a0b678-dfa0-11e8-a923-0088653b14b4\"}, {\"name\": \"9ea4ef8a4bc097\", \"showlegend\": false, \"x\": [0.0], \"y\": [29], \"type\": \"scatter\", \"uid\": \"c0a0b754-dfa0-11e8-a646-0088653b14b4\"}, {\"name\": \"2fd7160d938ade\", \"showlegend\": false, \"x\": [99.08], \"y\": [47], \"type\": \"scatter\", \"uid\": \"c0a0b83a-dfa0-11e8-90fa-0088653b14b4\"}, {\"name\": \"0b89550178709e\", \"showlegend\": false, \"x\": [0.0], \"y\": [31], \"type\": \"scatter\", \"uid\": \"c0a0b91e-dfa0-11e8-a058-0088653b14b4\"}, {\"name\": \"68ceb90da53f49\", \"showlegend\": false, \"x\": [92.7], \"y\": [49], \"type\": \"scatter\", \"uid\": \"c0a0ba06-dfa0-11e8-9773-0088653b14b4\"}, {\"name\": \"df3f5c3f49dd6f\", \"showlegend\": false, \"x\": [0.0], \"y\": [27], \"type\": \"scatter\", \"uid\": \"c0a0bae2-dfa0-11e8-8c8b-0088653b14b4\"}, {\"name\": \"451d6801a2dc23\", \"showlegend\": false, \"x\": [608.6], \"y\": [28], \"type\": \"scatter\", \"uid\": \"c0a0bbfa-dfa0-11e8-ab60-0088653b14b4\"}, {\"name\": \"32e16c6d2efca1\", \"showlegend\": false, \"x\": [195.1], \"y\": [27], \"type\": \"scatter\", \"uid\": \"c0a0bcfe-dfa0-11e8-b3d9-0088653b14b4\"}, {\"name\": \"332d4cec2dc3ba\", \"showlegend\": false, \"x\": [154.8], \"y\": [27], \"type\": \"scatter\", \"uid\": \"c0a0be1e-dfa0-11e8-a32b-0088653b14b4\"}, {\"name\": \"7e4d5fd8371260\", \"showlegend\": false, \"x\": [0.0], \"y\": [46], \"type\": \"scatter\", \"uid\": \"c0a0bf10-dfa0-11e8-86ff-0088653b14b4\"}, {\"name\": \"92ecafacc7e5c2\", \"showlegend\": false, \"x\": [100.0], \"y\": [28], \"type\": \"scatter\", \"uid\": \"c0a0bfec-dfa0-11e8-b092-0088653b14b4\"}, {\"name\": \"a8eb0b1952a371\", \"showlegend\": false, \"x\": [70.95], \"y\": [47], \"type\": \"scatter\", \"uid\": \"c0a0c0d2-dfa0-11e8-92bc-0088653b14b4\"}, {\"name\": \"9f1f6132fafc8f\", \"showlegend\": false, \"x\": [0.0], \"y\": [25], \"type\": \"scatter\", \"uid\": \"c0a0c1b8-dfa0-11e8-936f-0088653b14b4\"}, {\"name\": \"8690235f3c2391\", \"showlegend\": false, \"x\": [0.0], \"y\": [29], \"type\": \"scatter\", \"uid\": \"c0a0c294-dfa0-11e8-9e27-0088653b14b4\"}, {\"name\": \"0c607936cfa3d8\", \"showlegend\": false, \"x\": [141.3], \"y\": [29], \"type\": \"scatter\", \"uid\": \"c0a0c37a-dfa0-11e8-9a40-0088653b14b4\"}, {\"name\": \"33490ba6b76361\", \"showlegend\": false, \"x\": [39.12], \"y\": [25], \"type\": \"scatter\", \"uid\": \"c0a0c458-dfa0-11e8-a372-0088653b14b4\"}, {\"name\": \"b265af88f5105a\", \"showlegend\": false, \"x\": [85.0], \"y\": [48], \"type\": \"scatter\", \"uid\": \"c0a0c53a-dfa0-11e8-8623-0088653b14b4\"}, {\"name\": \"9fc818377766c7\", \"showlegend\": false, \"x\": [0.0], \"y\": [26], \"type\": \"scatter\", \"uid\": \"c0a0c622-dfa0-11e8-92ad-0088653b14b4\"}, {\"name\": \"4f163c250354ce\", \"showlegend\": false, \"x\": [57.52], \"y\": [49], \"type\": \"scatter\", \"uid\": \"c0a0c6fe-dfa0-11e8-a216-0088653b14b4\"}, {\"name\": \"98b8f4d24eb2a9\", \"showlegend\": false, \"x\": [255.0], \"y\": [30], \"type\": \"scatter\", \"uid\": \"c0a0c818-dfa0-11e8-b209-0088653b14b4\"}, {\"name\": \"1efb28050e67b3\", \"showlegend\": false, \"x\": [119.3], \"y\": [28], \"type\": \"scatter\", \"uid\": \"c0a0c910-dfa0-11e8-b5b9-0088653b14b4\"}, {\"name\": \"d75505e1df6fa7\", \"showlegend\": false, \"x\": [42.98], \"y\": [28], \"type\": \"scatter\", \"uid\": \"c0a0c9f6-dfa0-11e8-9007-0088653b14b4\"}, {\"name\": \"e41b8899dfd847\", \"showlegend\": false, \"x\": [0.0], \"y\": [49], \"type\": \"scatter\", \"uid\": \"c0a0cadc-dfa0-11e8-ae8c-0088653b14b4\"}, {\"name\": \"46ffdb6a8e5e4a\", \"showlegend\": false, \"x\": [274.0], \"y\": [91], \"type\": \"scatter\", \"uid\": \"c0a0cbc2-dfa0-11e8-bc67-0088653b14b4\"}, {\"name\": \"494802ad04209e\", \"showlegend\": false, \"x\": [69.09], \"y\": [27], \"type\": \"scatter\", \"uid\": \"c0a0cca8-dfa0-11e8-8f42-0088653b14b4\"}, {\"name\": \"e487d4ccc6a747\", \"showlegend\": false, \"x\": [123.2], \"y\": [33], \"type\": \"scatter\", \"uid\": \"c0a0cd8c-dfa0-11e8-bce5-0088653b14b4\"}, {\"name\": \"43ac23a728093e\", \"showlegend\": false, \"x\": [148.4], \"y\": [92], \"type\": \"scatter\", \"uid\": \"c0a0ce68-dfa0-11e8-b351-0088653b14b4\"}, {\"name\": \"2c39ffb43d5741\", \"showlegend\": false, \"x\": [0.0], \"y\": [31], \"type\": \"scatter\", \"uid\": \"c0a0cf50-dfa0-11e8-95fa-0088653b14b4\"}, {\"name\": \"91a6752711ccf3\", \"showlegend\": false, \"x\": [159.7], \"y\": [30], \"type\": \"scatter\", \"uid\": \"c0a0d02c-dfa0-11e8-b1a8-0088653b14b4\"}, {\"name\": \"e7bf9f33b0d340\", \"showlegend\": false, \"x\": [174.9], \"y\": [49], \"type\": \"scatter\", \"uid\": \"c0a0d112-dfa0-11e8-aba9-0088653b14b4\"}, {\"name\": \"9ec38f72f673e7\", \"showlegend\": false, \"x\": [248.4], \"y\": [27], \"type\": \"scatter\", \"uid\": \"c0a0d1f8-dfa0-11e8-a1f9-0088653b14b4\"}, {\"name\": \"39a233d6f58ff7\", \"showlegend\": false, \"x\": [316.2], \"y\": [27], \"type\": \"scatter\", \"uid\": \"c0a0d2de-dfa0-11e8-ba7f-0088653b14b4\"}, {\"name\": \"60b9a511add159\", \"showlegend\": false, \"x\": [40.41], \"y\": [30], \"type\": \"scatter\", \"uid\": \"c0a0d3ec-dfa0-11e8-806a-0088653b14b4\"}, {\"name\": \"a4c3bde808dcf5\", \"showlegend\": false, \"x\": [414.5], \"y\": [48], \"type\": \"scatter\", \"uid\": \"c0a0d4f0-dfa0-11e8-9264-0088653b14b4\"}, {\"name\": \"54ff62ab58da66\", \"showlegend\": false, \"x\": [434.9], \"y\": [47], \"type\": \"scatter\", \"uid\": \"c0a0d5d8-dfa0-11e8-a1b2-0088653b14b4\"}, {\"name\": \"11a2f6af6075b2\", \"showlegend\": false, \"x\": [300.5], \"y\": [28], \"type\": \"scatter\", \"uid\": \"c0a0d6ba-dfa0-11e8-ba4e-0088653b14b4\"}, {\"name\": \"2005c4947e1bc6\", \"showlegend\": false, \"x\": [0.0], \"y\": [49], \"type\": \"scatter\", \"uid\": \"c0a0d7a2-dfa0-11e8-80c7-0088653b14b4\"}, {\"name\": \"093daafe57172b\", \"showlegend\": false, \"x\": [145.8], \"y\": [29], \"type\": \"scatter\", \"uid\": \"c0a0d888-dfa0-11e8-9d0f-0088653b14b4\"}, {\"name\": \"bd3c8cd344d841\", \"showlegend\": false, \"x\": [40.02], \"y\": [30], \"type\": \"scatter\", \"uid\": \"c0a0d96e-dfa0-11e8-8ec8-0088653b14b4\"}, {\"name\": \"7c41cfe82ec411\", \"showlegend\": false, \"x\": [85.97], \"y\": [50], \"type\": \"scatter\", \"uid\": \"c0a0da54-dfa0-11e8-ac26-0088653b14b4\"}, {\"name\": \"7c01ef82c6b2df\", \"showlegend\": false, \"x\": [128.8], \"y\": [46], \"type\": \"scatter\", \"uid\": \"c0a0db30-dfa0-11e8-8036-0088653b14b4\"}, {\"name\": \"a7c30431ed5689\", \"showlegend\": false, \"x\": [0.0], \"y\": [28], \"type\": \"scatter\", \"uid\": \"c0a0dc18-dfa0-11e8-9c08-0088653b14b4\"}, {\"name\": \"8bc14bc23abff1\", \"showlegend\": false, \"x\": [0.0], \"y\": [28], \"type\": \"scatter\", \"uid\": \"c0a0dcf4-dfa0-11e8-b64d-0088653b14b4\"}, {\"name\": \"2ef0204f2b6603\", \"showlegend\": false, \"x\": [252.5], \"y\": [27], \"type\": \"scatter\", \"uid\": \"c0a0ddd8-dfa0-11e8-a34c-0088653b14b4\"}, {\"name\": \"e5217caf7f24c2\", \"showlegend\": false, \"x\": [0.0], \"y\": [49], \"type\": \"scatter\", \"uid\": \"c0a0debe-dfa0-11e8-872b-0088653b14b4\"}, {\"name\": \"6ea8c601abb91a\", \"showlegend\": false, \"x\": [0.0], \"y\": [30], \"type\": \"scatter\", \"uid\": \"c0a0dfcc-dfa0-11e8-9665-0088653b14b4\"}, {\"name\": \"2b66ffbf7a67d3\", \"showlegend\": false, \"x\": [129.3], \"y\": [28], \"type\": \"scatter\", \"uid\": \"c0a0e0c6-dfa0-11e8-8e49-0088653b14b4\"}, {\"name\": \"470960f4f44171\", \"showlegend\": false, \"x\": [102.0], \"y\": [28], \"type\": \"scatter\", \"uid\": \"c0a0e1ac-dfa0-11e8-8bac-0088653b14b4\"}, {\"name\": \"53a9f996e239c9\", \"showlegend\": false, \"x\": [0.0], \"y\": [26], \"type\": \"scatter\", \"uid\": \"c0a0e292-dfa0-11e8-b2e2-0088653b14b4\"}, {\"name\": \"8e342114e36af1\", \"showlegend\": false, \"x\": [320.6], \"y\": [47], \"type\": \"scatter\", \"uid\": \"c0a0e36e-dfa0-11e8-ab7d-0088653b14b4\"}, {\"name\": \"d38fd9b757f8ec\", \"showlegend\": false, \"x\": [98.49], \"y\": [23], \"type\": \"scatter\", \"uid\": \"c0a0e454-dfa0-11e8-abd0-0088653b14b4\"}, {\"name\": \"ad7754b738d729\", \"showlegend\": false, \"x\": [295.5], \"y\": [28], \"type\": \"scatter\", \"uid\": \"c0a0e53a-dfa0-11e8-a10d-0088653b14b4\"}, {\"name\": \"d4a68bdc18e03b\", \"showlegend\": false, \"x\": [187.0], \"y\": [47], \"type\": \"scatter\", \"uid\": \"c0a0e61e-dfa0-11e8-be3e-0088653b14b4\"}, {\"name\": \"3474a9d0f18f9a\", \"showlegend\": false, \"x\": [0.0], \"y\": [47], \"type\": \"scatter\", \"uid\": \"c0a0e6fa-dfa0-11e8-b0e0-0088653b14b4\"}, {\"name\": \"be1378b70aafd5\", \"showlegend\": false, \"x\": [132.6], \"y\": [48], \"type\": \"scatter\", \"uid\": \"c0a0e828-dfa0-11e8-805b-0088653b14b4\"}, {\"name\": \"2c794dc1aa3ec5\", \"showlegend\": false, \"x\": [60.63], \"y\": [48], \"type\": \"scatter\", \"uid\": \"c0a0e918-dfa0-11e8-a810-0088653b14b4\"}, {\"name\": \"95b8c57cd2659d\", \"showlegend\": false, \"x\": [434.6], \"y\": [28], \"type\": \"scatter\", \"uid\": \"c0a0e9fe-dfa0-11e8-8bba-0088653b14b4\"}, {\"name\": \"bc692261e95ae3\", \"showlegend\": false, \"x\": [471.1], \"y\": [49], \"type\": \"scatter\", \"uid\": \"c0a0eae4-dfa0-11e8-b8f4-0088653b14b4\"}, {\"name\": \"b143d1b2259d16\", \"showlegend\": false, \"x\": [286.6], \"y\": [28], \"type\": \"scatter\", \"uid\": \"c0a0ebfa-dfa0-11e8-9b01-0088653b14b4\"}, {\"name\": \"e76a0a1653165f\", \"showlegend\": false, \"x\": [112.5], \"y\": [28], \"type\": \"scatter\", \"uid\": \"c0a0ecf6-dfa0-11e8-80e8-0088653b14b4\"}, {\"name\": \"5106ab363f68dc\", \"showlegend\": false, \"x\": [74.82], \"y\": [46], \"type\": \"scatter\", \"uid\": \"c0a0eddc-dfa0-11e8-b7e1-0088653b14b4\"}, {\"name\": \"6e67c3e22e82a0\", \"showlegend\": false, \"x\": [0.0], \"y\": [27], \"type\": \"scatter\", \"uid\": \"c0a0eeb8-dfa0-11e8-baa9-0088653b14b4\"}, {\"name\": \"c8e3a7f8c8791f\", \"showlegend\": false, \"x\": [111.9], \"y\": [50], \"type\": \"scatter\", \"uid\": \"c0a0ef9e-dfa0-11e8-ae26-0088653b14b4\"}, {\"name\": \"9b11cae0324523\", \"showlegend\": false, \"x\": [53.28], \"y\": [28], \"type\": \"scatter\", \"uid\": \"c0a0f086-dfa0-11e8-807a-0088653b14b4\"}, {\"name\": \"c31c8118b8ea6b\", \"showlegend\": false, \"x\": [0.0], \"y\": [49], \"type\": \"scatter\", \"uid\": \"c0a0f162-dfa0-11e8-a32f-0088653b14b4\"}, {\"name\": \"22181ec3ddf282\", \"showlegend\": false, \"x\": [0.0], \"y\": [49], \"type\": \"scatter\", \"uid\": \"c0a0f29e-dfa0-11e8-9076-0088653b14b4\"}, {\"name\": \"c6e60cf0843bcc\", \"showlegend\": false, \"x\": [170.2], \"y\": [97], \"type\": \"scatter\", \"uid\": \"c0a0f39a-dfa0-11e8-81ce-0088653b14b4\"}, {\"name\": \"8853aedcf1e601\", \"showlegend\": false, \"x\": [235.5], \"y\": [49], \"type\": \"scatter\", \"uid\": \"c0a0f7dc-dfa0-11e8-bb65-0088653b14b4\"}, {\"name\": \"bc58a84296057a\", \"showlegend\": false, \"x\": [0.0], \"y\": [30], \"type\": \"scatter\", \"uid\": \"c0a0f99e-dfa0-11e8-8ddf-0088653b14b4\"}, {\"name\": \"3a196db658e23f\", \"showlegend\": false, \"x\": [0.0], \"y\": [28], \"type\": \"scatter\", \"uid\": \"c0a0fac0-dfa0-11e8-94be-0088653b14b4\"}, {\"name\": \"67c9c94f9d507b\", \"showlegend\": false, \"x\": [0.0], \"y\": [96], \"type\": \"scatter\", \"uid\": \"c0a0fc8c-dfa0-11e8-b5b1-0088653b14b4\"}, {\"name\": \"a17e836b9efde6\", \"showlegend\": false, \"x\": [149.6], \"y\": [93], \"type\": \"scatter\", \"uid\": \"c0a0ff02-dfa0-11e8-bc4c-0088653b14b4\"}, {\"name\": \"0f60f5adfafa90\", \"showlegend\": false, \"x\": [208.4], \"y\": [29], \"type\": \"scatter\", \"uid\": \"c0a10164-dfa0-11e8-87ae-0088653b14b4\"}, {\"name\": \"285dbbb59f9ef4\", \"showlegend\": false, \"x\": [300.0], \"y\": [25], \"type\": \"scatter\", \"uid\": \"c0a10376-dfa0-11e8-a788-0088653b14b4\"}, {\"name\": \"d109255ae77c0d\", \"showlegend\": false, \"x\": [219.8], \"y\": [29], \"type\": \"scatter\", \"uid\": \"c0a1063a-dfa0-11e8-b1d5-0088653b14b4\"}, {\"name\": \"0975bf180efd81\", \"showlegend\": false, \"x\": [100.0], \"y\": [26], \"type\": \"scatter\", \"uid\": \"c0a1075e-dfa0-11e8-accb-0088653b14b4\"}, {\"name\": \"ecb203338fdff9\", \"showlegend\": false, \"x\": [0.0], \"y\": [30], \"type\": \"scatter\", \"uid\": \"c0a10858-dfa0-11e8-9fa2-0088653b14b4\"}, {\"name\": \"659e32c9136e2d\", \"showlegend\": false, \"x\": [25.86], \"y\": [28], \"type\": \"scatter\", \"uid\": \"c0a10a4c-dfa0-11e8-b199-0088653b14b4\"}, {\"name\": \"bee21628442a0f\", \"showlegend\": false, \"x\": [88.39], \"y\": [28], \"type\": \"scatter\", \"uid\": \"c0a10c06-dfa0-11e8-8424-0088653b14b4\"}, {\"name\": \"bc5d0156af4c78\", \"showlegend\": false, \"x\": [104.5], \"y\": [49], \"type\": \"scatter\", \"uid\": \"c0a10e28-dfa0-11e8-abc4-0088653b14b4\"}, {\"name\": \"14632de121c0c7\", \"showlegend\": false, \"x\": [11.61], \"y\": [26], \"type\": \"scatter\", \"uid\": \"c0a10f62-dfa0-11e8-bab4-0088653b14b4\"}, {\"name\": \"90767bc8629978\", \"showlegend\": false, \"x\": [198.5], \"y\": [45], \"type\": \"scatter\", \"uid\": \"c0a1105a-dfa0-11e8-8a5f-0088653b14b4\"}, {\"name\": \"af8a1b8390bdd3\", \"showlegend\": false, \"x\": [566.6], \"y\": [50], \"type\": \"scatter\", \"uid\": \"c0a1114a-dfa0-11e8-8612-0088653b14b4\"}, {\"name\": \"f0a258586c498a\", \"showlegend\": false, \"x\": [10.8], \"y\": [98], \"type\": \"scatter\", \"uid\": \"c0a1123a-dfa0-11e8-a8dd-0088653b14b4\"}, {\"name\": \"ebfcfa89641023\", \"showlegend\": false, \"x\": [25.85], \"y\": [26], \"type\": \"scatter\", \"uid\": \"c0a1137a-dfa0-11e8-9e9a-0088653b14b4\"}, {\"name\": \"6e3f80193206af\", \"showlegend\": false, \"x\": [498.0], \"y\": [31], \"type\": \"scatter\", \"uid\": \"c0a11488-dfa0-11e8-8a9a-0088653b14b4\"}, {\"name\": \"8f157264864839\", \"showlegend\": false, \"x\": [0.0], \"y\": [45], \"type\": \"scatter\", \"uid\": \"c0a1158c-dfa0-11e8-81cb-0088653b14b4\"}, {\"name\": \"63fd39edc44f45\", \"showlegend\": false, \"x\": [0.0], \"y\": [30], \"type\": \"scatter\", \"uid\": \"c0a1173a-dfa0-11e8-8b13-0088653b14b4\"}, {\"name\": \"24d0ea33e14c34\", \"showlegend\": false, \"x\": [0.0], \"y\": [50], \"type\": \"scatter\", \"uid\": \"c0a118fa-dfa0-11e8-9a95-0088653b14b4\"}, {\"name\": \"f9d5f060bee08d\", \"showlegend\": false, \"x\": [278.2], \"y\": [27], \"type\": \"scatter\", \"uid\": \"c0a11a9e-dfa0-11e8-be94-0088653b14b4\"}, {\"name\": \"3b4814375ad41b\", \"showlegend\": false, \"x\": [100.0], \"y\": [46], \"type\": \"scatter\", \"uid\": \"c0a11bae-dfa0-11e8-9a36-0088653b14b4\"}, {\"name\": \"047436d2c9393d\", \"showlegend\": false, \"x\": [84.02], \"y\": [28], \"type\": \"scatter\", \"uid\": \"c0a11ca8-dfa0-11e8-82b2-0088653b14b4\"}, {\"name\": \"22c00ded0b8a59\", \"showlegend\": false, \"x\": [89.84], \"y\": [29], \"type\": \"scatter\", \"uid\": \"c0a11de8-dfa0-11e8-a446-0088653b14b4\"}, {\"name\": \"1a0188dbb68d0e\", \"showlegend\": false, \"x\": [6.48], \"y\": [33], \"type\": \"scatter\", \"uid\": \"c0a11f3a-dfa0-11e8-8e2c-0088653b14b4\"}, {\"name\": \"ca5b7385158e53\", \"showlegend\": false, \"x\": [0.0], \"y\": [28], \"type\": \"scatter\", \"uid\": \"c0a12036-dfa0-11e8-ab70-0088653b14b4\"}, {\"name\": \"1e65f789305f64\", \"showlegend\": false, \"x\": [0.0], \"y\": [100], \"type\": \"scatter\", \"uid\": \"c0a12126-dfa0-11e8-bec4-0088653b14b4\"}, {\"name\": \"27c8e304811796\", \"showlegend\": false, \"x\": [83.85], \"y\": [28], \"type\": \"scatter\", \"uid\": \"c0a12218-dfa0-11e8-9cce-0088653b14b4\"}, {\"name\": \"8bcad3d68f78ad\", \"showlegend\": false, \"x\": [220.9], \"y\": [28], \"type\": \"scatter\", \"uid\": \"c0a1234c-dfa0-11e8-908d-0088653b14b4\"}, {\"name\": \"997e6ebe51ed4c\", \"showlegend\": false, \"x\": [295.7], \"y\": [28], \"type\": \"scatter\", \"uid\": \"c0a1245a-dfa0-11e8-9a88-0088653b14b4\"}, {\"name\": \"858b5c9db4eb38\", \"showlegend\": false, \"x\": [0.0], \"y\": [49], \"type\": \"scatter\", \"uid\": \"c0a12554-dfa0-11e8-9af6-0088653b14b4\"}, {\"name\": \"b952bb58b7f998\", \"showlegend\": false, \"x\": [65.52], \"y\": [31], \"type\": \"scatter\", \"uid\": \"c0a12694-dfa0-11e8-a478-0088653b14b4\"}, {\"name\": \"572aa0900b2d2b\", \"showlegend\": false, \"x\": [82.08], \"y\": [26], \"type\": \"scatter\", \"uid\": \"c0a1278c-dfa0-11e8-b2a0-0088653b14b4\"}, {\"name\": \"8e3cb24bf9c043\", \"showlegend\": false, \"x\": [164.4], \"y\": [27], \"type\": \"scatter\", \"uid\": \"c0a1287e-dfa0-11e8-bad8-0088653b14b4\"}, {\"name\": \"6536de1033e8f6\", \"showlegend\": false, \"x\": [100.0], \"y\": [48], \"type\": \"scatter\", \"uid\": \"c0a1296e-dfa0-11e8-aa80-0088653b14b4\"}, {\"name\": \"32109adfeb2e01\", \"showlegend\": false, \"x\": [0.0], \"y\": [29], \"type\": \"scatter\", \"uid\": \"c0a12a5e-dfa0-11e8-b679-0088653b14b4\"}, {\"name\": \"6bba0bd3a21288\", \"showlegend\": false, \"x\": [99.16], \"y\": [28], \"type\": \"scatter\", \"uid\": \"c0a12b4c-dfa0-11e8-9e68-0088653b14b4\"}, {\"name\": \"bba82cf030a4fc\", \"showlegend\": false, \"x\": [45.0], \"y\": [29], \"type\": \"scatter\", \"uid\": \"c0a12c48-dfa0-11e8-838a-0088653b14b4\"}, {\"name\": \"8987396215170d\", \"showlegend\": false, \"x\": [0.0], \"y\": [50], \"type\": \"scatter\", \"uid\": \"c0a12d38-dfa0-11e8-973d-0088653b14b4\"}, {\"name\": \"aa1f0000d142b2\", \"showlegend\": false, \"x\": [28.2], \"y\": [27], \"type\": \"scatter\", \"uid\": \"c0a12e28-dfa0-11e8-9889-0088653b14b4\"}, {\"name\": \"2e5cf3db37be5a\", \"showlegend\": false, \"x\": [0.0], \"y\": [96], \"type\": \"scatter\", \"uid\": \"c0a12f22-dfa0-11e8-b417-0088653b14b4\"}, {\"name\": \"3d959ec489e030\", \"showlegend\": false, \"x\": [79.14], \"y\": [99], \"type\": \"scatter\", \"uid\": \"c0a13046-dfa0-11e8-8594-0088653b14b4\"}, {\"name\": \"ce1b5b2361a62f\", \"showlegend\": false, \"x\": [90.0], \"y\": [98], \"type\": \"scatter\", \"uid\": \"c0a131a2-dfa0-11e8-a0d8-0088653b14b4\"}, {\"name\": \"3999faef61abfa\", \"showlegend\": false, \"x\": [28.27], \"y\": [29], \"type\": \"scatter\", \"uid\": \"c0a132e2-dfa0-11e8-a764-0088653b14b4\"}, {\"name\": \"9c43698cdd4e72\", \"showlegend\": false, \"x\": [946.8], \"y\": [29], \"type\": \"scatter\", \"uid\": \"c0a133dc-dfa0-11e8-9289-0088653b14b4\"}, {\"name\": \"6b7c0e2b144dab\", \"showlegend\": false, \"x\": [0.0], \"y\": [93], \"type\": \"scatter\", \"uid\": \"c0a134b8-dfa0-11e8-b3c6-0088653b14b4\"}, {\"name\": \"889b966a2c8706\", \"showlegend\": false, \"x\": [100.0], \"y\": [48], \"type\": \"scatter\", \"uid\": \"c0a1359e-dfa0-11e8-8b1f-0088653b14b4\"}, {\"name\": \"2e6b03c0e50397\", \"showlegend\": false, \"x\": [416.7], \"y\": [49], \"type\": \"scatter\", \"uid\": \"c0a1367a-dfa0-11e8-9d64-0088653b14b4\"}, {\"name\": \"1584e70118dd60\", \"showlegend\": false, \"x\": [0.0], \"y\": [29], \"type\": \"scatter\", \"uid\": \"c0a13762-dfa0-11e8-9197-0088653b14b4\"}, {\"name\": \"442525146027c0\", \"showlegend\": false, \"x\": [224.1], \"y\": [32], \"type\": \"scatter\", \"uid\": \"c0a13846-dfa0-11e8-b6ac-0088653b14b4\"}, {\"name\": \"39c8c0fc2d0ccd\", \"showlegend\": false, \"x\": [72.15], \"y\": [28], \"type\": \"scatter\", \"uid\": \"c0a1392c-dfa0-11e8-8725-0088653b14b4\"}, {\"name\": \"565cf4dfc332ed\", \"showlegend\": false, \"x\": [304.0], \"y\": [28], \"type\": \"scatter\", \"uid\": \"c0a13a12-dfa0-11e8-9330-0088653b14b4\"}, {\"name\": \"fbf07cd5616324\", \"showlegend\": false, \"x\": [42.15], \"y\": [27], \"type\": \"scatter\", \"uid\": \"c0a13aee-dfa0-11e8-99a1-0088653b14b4\"}, {\"name\": \"8db015a03aa7dd\", \"showlegend\": false, \"x\": [20.43], \"y\": [29], \"type\": \"scatter\", \"uid\": \"c0a13bde-dfa0-11e8-9d1d-0088653b14b4\"}, {\"name\": \"6d99475a325539\", \"showlegend\": false, \"x\": [118.4], \"y\": [30], \"type\": \"scatter\", \"uid\": \"c0a13cec-dfa0-11e8-ad8e-0088653b14b4\"}, {\"name\": \"b75f074b622f20\", \"showlegend\": false, \"x\": [12.38], \"y\": [25], \"type\": \"scatter\", \"uid\": \"c0a13de6-dfa0-11e8-9b70-0088653b14b4\"}, {\"name\": \"591da14ef07198\", \"showlegend\": false, \"x\": [0.0], \"y\": [22], \"type\": \"scatter\", \"uid\": \"c0a13ecc-dfa0-11e8-9665-0088653b14b4\"}, {\"name\": \"5bcbc294288c50\", \"showlegend\": false, \"x\": [259.6], \"y\": [48], \"type\": \"scatter\", \"uid\": \"c0a13fb4-dfa0-11e8-8426-0088653b14b4\"}, {\"name\": \"9bd8aaeaa81183\", \"showlegend\": false, \"x\": [0.0], \"y\": [29], \"type\": \"scatter\", \"uid\": \"c0a1408c-dfa0-11e8-861f-0088653b14b4\"}, {\"name\": \"7ee730358e22d2\", \"showlegend\": false, \"x\": [512.4], \"y\": [48], \"type\": \"scatter\", \"uid\": \"c0a14174-dfa0-11e8-b264-0088653b14b4\"}, {\"name\": \"fb11f266387eab\", \"showlegend\": false, \"x\": [0.0], \"y\": [98], \"type\": \"scatter\", \"uid\": \"c0a14250-dfa0-11e8-b81d-0088653b14b4\"}, {\"name\": \"0cc0a3b4802513\", \"showlegend\": false, \"x\": [136.0], \"y\": [95], \"type\": \"scatter\", \"uid\": \"c0a14336-dfa0-11e8-a7f0-0088653b14b4\"}, {\"name\": \"f24c91dd017fd3\", \"showlegend\": false, \"x\": [275.0], \"y\": [28], \"type\": \"scatter\", \"uid\": \"c0a14412-dfa0-11e8-9346-0088653b14b4\"}, {\"name\": \"2435677c991ce0\", \"showlegend\": false, \"x\": [88.8], \"y\": [29], \"type\": \"scatter\", \"uid\": \"c0a144f8-dfa0-11e8-bafa-0088653b14b4\"}, {\"name\": \"7e1b7f2db963ad\", \"showlegend\": false, \"x\": [191.1], \"y\": [30], \"type\": \"scatter\", \"uid\": \"c0a145de-dfa0-11e8-a74d-0088653b14b4\"}, {\"name\": \"a8af7c8693aa06\", \"showlegend\": false, \"x\": [38.4], \"y\": [30], \"type\": \"scatter\", \"uid\": \"c0a146ba-dfa0-11e8-8531-0088653b14b4\"}, {\"name\": \"01b33452851001\", \"showlegend\": false, \"x\": [100.5], \"y\": [98], \"type\": \"scatter\", \"uid\": \"c0a1479e-dfa0-11e8-bad5-0088653b14b4\"}, {\"name\": \"fdd754ee319b38\", \"showlegend\": false, \"x\": [114.0], \"y\": [49], \"type\": \"scatter\", \"uid\": \"c0a148b8-dfa0-11e8-aacf-0088653b14b4\"}, {\"name\": \"00835e98b25fe7\", \"showlegend\": false, \"x\": [0.0], \"y\": [28], \"type\": \"scatter\", \"uid\": \"c0a149b4-dfa0-11e8-814a-0088653b14b4\"}, {\"name\": \"66b87e29758f81\", \"showlegend\": false, \"x\": [122.5], \"y\": [25], \"type\": \"scatter\", \"uid\": \"c0a14a98-dfa0-11e8-8e37-0088653b14b4\"}, {\"name\": \"f4d62b5dd79ae9\", \"showlegend\": false, \"x\": [30.1], \"y\": [32], \"type\": \"scatter\", \"uid\": \"c0a14b7e-dfa0-11e8-835e-0088653b14b4\"}, {\"name\": \"8f981d6ef0682f\", \"showlegend\": false, \"x\": [52.88], \"y\": [43], \"type\": \"scatter\", \"uid\": \"c0a14c5a-dfa0-11e8-965e-0088653b14b4\"}, {\"name\": \"947941092abc1a\", \"showlegend\": false, \"x\": [100.0], \"y\": [29], \"type\": \"scatter\", \"uid\": \"c0a14d4a-dfa0-11e8-a5cf-0088653b14b4\"}, {\"name\": \"63f0a3de10b295\", \"showlegend\": false, \"x\": [76.83], \"y\": [27], \"type\": \"scatter\", \"uid\": \"c0a14e30-dfa0-11e8-b03f-0088653b14b4\"}, {\"name\": \"a70df139761fc3\", \"showlegend\": false, \"x\": [42.57], \"y\": [29], \"type\": \"scatter\", \"uid\": \"c0a14f18-dfa0-11e8-9dde-0088653b14b4\"}, {\"name\": \"d07476a6bede3c\", \"showlegend\": false, \"x\": [1316.0], \"y\": [31], \"type\": \"scatter\", \"uid\": \"c0a14ffa-dfa0-11e8-b53e-0088653b14b4\"}, {\"name\": \"c32c204867be0e\", \"showlegend\": false, \"x\": [0.0], \"y\": [49], \"type\": \"scatter\", \"uid\": \"c0a150d8-dfa0-11e8-adab-0088653b14b4\"}, {\"name\": \"25f37d6cbb928e\", \"showlegend\": false, \"x\": [416.3], \"y\": [48], \"type\": \"scatter\", \"uid\": \"c0a15206-dfa0-11e8-9ce6-0088653b14b4\"}, {\"name\": \"edd838a69c7107\", \"showlegend\": false, \"x\": [5.506], \"y\": [48], \"type\": \"scatter\", \"uid\": \"c0a152f4-dfa0-11e8-ae11-0088653b14b4\"}, {\"name\": \"f346b9642f0fb9\", \"showlegend\": false, \"x\": [117.7], \"y\": [29], \"type\": \"scatter\", \"uid\": \"c0a153d0-dfa0-11e8-a6a0-0088653b14b4\"}, {\"name\": \"196f84a7ec238c\", \"showlegend\": false, \"x\": [151.4], \"y\": [49], \"type\": \"scatter\", \"uid\": \"c0a154e8-dfa0-11e8-af1b-0088653b14b4\"}, {\"name\": \"cd48266d611638\", \"showlegend\": false, \"x\": [100.0], \"y\": [88], \"type\": \"scatter\", \"uid\": \"c0a155e2-dfa0-11e8-a74c-0088653b14b4\"}, {\"name\": \"98d9afb6b1e1a6\", \"showlegend\": false, \"x\": [0.8589], \"y\": [26], \"type\": \"scatter\", \"uid\": \"c0a156c8-dfa0-11e8-9446-0088653b14b4\"}, {\"name\": \"a55edc38a21a4d\", \"showlegend\": false, \"x\": [0.0], \"y\": [99], \"type\": \"scatter\", \"uid\": \"c0a157ae-dfa0-11e8-8397-0088653b14b4\"}, {\"name\": \"e2a32c09623d2f\", \"showlegend\": false, \"x\": [505.6], \"y\": [28], \"type\": \"scatter\", \"uid\": \"c0a1588a-dfa0-11e8-975a-0088653b14b4\"}, {\"name\": \"a2e8c679a8fc3f\", \"showlegend\": false, \"x\": [0.0], \"y\": [98], \"type\": \"scatter\", \"uid\": \"c0a15970-dfa0-11e8-8dc9-0088653b14b4\"}, {\"name\": \"dfbdd19e54429e\", \"showlegend\": false, \"x\": [414.7], \"y\": [49], \"type\": \"scatter\", \"uid\": \"c0a15a4c-dfa0-11e8-a4da-0088653b14b4\"}], {\"legend\": {\"orientation\": \"h\"}, \"title\": \"Killing is Winning?\", \"xaxis\": {\"title\": \"Damage (Higher is Better)\"}, \"yaxis\": {\"title\": \"Rank (Lower is Better)\"}}, {\"showLink\": true, \"linkText\": \"Export to plot.ly\"})});</script>"
      ]
     },
     "metadata": {},
     "output_type": "display_data"
    }
   ],
   "source": [
    "#I want to see the relationship between maxPlace, the true ranking from 1-100, with damageDealt.\n",
    "#In other words, do you get better ranking if you deal more damage, and logically, by getting in fights?\n",
    "data = []\n",
    "for asset in np.random.choice(PG_train['Id'].unique(), 200):\n",
    "    asset_df = PG_train[(PG_train['Id'] == asset)]\n",
    "\n",
    "    data.append(go.Scatter(\n",
    "        x = asset_df['damageDealt'].values,\n",
    "        y = asset_df['maxPlace'].values,\n",
    "        name = asset,\n",
    "        showlegend=False\n",
    "    ))\n",
    "layout = go.Layout(dict(title = \"Killing is Winning?\",\n",
    "                  xaxis = dict(title = 'Damage (Higher is Better)'),\n",
    "                  yaxis = dict(title = 'Rank (Lower is Better)'),\n",
    "                  ),legend=dict(\n",
    "                orientation=\"h\"))\n",
    "py.iplot(dict(data=data, layout=layout), filename='basic-line')"
   ]
  },
  {
   "cell_type": "markdown",
   "metadata": {},
   "source": [
    "The reality is that there's no real relationship between damageDealt and final place. This is because the max value in maxPlace differs per matchType."
   ]
  },
  {
   "cell_type": "code",
   "execution_count": 59,
   "metadata": {},
   "outputs": [
    {
     "data": {
      "image/png": "[encoded data removed]",
      "text/plain": [
       "<Figure size 720x720 with 16 Axes>"
      ]
     },
     "metadata": {
      "needs_background": "light"
     },
     "output_type": "display_data"
    }
   ],
   "source": [
    "fig = PG_train['maxPlace'].hist(by=PG_train['matchType'],figsize=(10,10),ec=\"k\")\n",
    "plt.tight_layout()"
   ]
  },
  {
   "cell_type": "code",
   "execution_count": 25,
   "metadata": {},
   "outputs": [
    {
     "data": {
      "text/plain": [
       "squad-fpp           1756186\n",
       "duo-fpp              996691\n",
       "squad                626526\n",
       "solo-fpp             536762\n",
       "duo                  313591\n",
       "solo                 181943\n",
       "normal-squad-fpp      17174\n",
       "crashfpp               6287\n",
       "normal-duo-fpp         5489\n",
       "flaretpp               2505\n",
       "normal-solo-fpp        1682\n",
       "flarefpp                718\n",
       "normal-squad            516\n",
       "crashtpp                371\n",
       "normal-solo             326\n",
       "normal-duo              199\n",
       "Name: matchType, dtype: int64"
      ]
     },
     "execution_count": 25,
     "metadata": {},
     "output_type": "execute_result"
    }
   ],
   "source": [
    "PG_train[\"matchType\"].value_counts()"
   ]
  },
  {
   "cell_type": "markdown",
   "metadata": {},
   "source": [
    "Looking at the distribution of the different matchType variable. I might remove all the ones under 'solo' as they represent very little to the total. With this said, I might make separate training models for them after the main types."
   ]
  },
  {
   "cell_type": "code",
   "execution_count": 67,
   "metadata": {},
   "outputs": [
    {
     "data": {
      "text/plain": [
       "matchType\n",
       "squad-fpp            37\n",
       "duo                  51\n",
       "solo-fpp            100\n",
       "squad                34\n",
       "duo-fpp              51\n",
       "solo                100\n",
       "normal-squad-fpp     27\n",
       "crashfpp             52\n",
       "flaretpp             28\n",
       "normal-solo-fpp      54\n",
       "flarefpp             29\n",
       "normal-duo-fpp       50\n",
       "normal-duo           20\n",
       "normal-squad         25\n",
       "crashtpp             46\n",
       "normal-solo          44\n",
       "Name: maxPlace, dtype: int64"
      ]
     },
     "execution_count": 67,
     "metadata": {},
     "output_type": "execute_result"
    }
   ],
   "source": [
    "PG_train.groupby(['matchType'], sort=False)['maxPlace'].max()"
   ]
  },
  {
   "cell_type": "markdown",
   "metadata": {},
   "source": [
    "The difficulty in creating one unique predictive algorithm is that game parameters are very different from one matchType to another.\n",
    "\n",
    "I think I'll split the dataset per matchType or to simplify, split between solo, duo and squad, though squad can also be played as solo or duo. So I might train the model on squad only (squad-fpp+squad) and see if how it works for the other matchTypes. Though I could train a model across the entire dataset regardless of matchType, I can't do it at this stage because my computer can't manage it."
   ]
  }
 ],
 "metadata": {
  "kernelspec": {
   "display_name": "Python [conda env:anaconda3]",
   "language": "python",
   "name": "conda-env-anaconda3-py"
  },
  "language_info": {
   "codemirror_mode": {
    "name": "ipython",
    "version": 3
   },
   "file_extension": ".py",
   "mimetype": "text/x-python",
   "name": "python",
   "nbconvert_exporter": "python",
   "pygments_lexer": "ipython3",
   "version": "3.6.6"
  }
 },
 "nbformat": 4,
 "nbformat_minor": 2
}
